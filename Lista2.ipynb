{
  "cells": [
    {
      "cell_type": "markdown",
      "metadata": {
        "id": "Em8nj8RUAUhy"
      },
      "source": [
        "# LIST 2 - MACHINE LEARNING\n",
        "\n",
        "Prof: Thiago Curado | Students: Gabriela N. Brogim and Isabella Nascimento\n",
        "\n"
      ]
    },
    {
      "cell_type": "markdown",
      "metadata": {
        "id": "0L_6b27VAlcZ"
      },
      "source": [
        "EXERCISE 1 - ADABOOST"
      ]
    },
    {
      "cell_type": "code",
      "execution_count": null,
      "metadata": {
        "id": "78ITDJVcAFET"
      },
      "outputs": [],
      "source": [
        "# Core\n",
        "import pandas as pd\n",
        "import numpy as np\n",
        "from scipy.stats import skew\n",
        "\n",
        "# Visual\n",
        "import matplotlib.pyplot as plt\n",
        "plt.rcParams['figure.figsize'] = [15, 7.5]\n",
        "import plotly.express as px\n",
        "import seaborn as sns\n",
        "\n",
        "# Scikit\n",
        "import sklearn\n",
        "from sklearn.linear_model import LinearRegression, Ridge, RidgeCV, ElasticNet, LassoCV, ElasticNetCV, Lasso\n",
        "from sklearn.model_selection import train_test_split\n",
        "from sklearn.tree import DecisionTreeRegressor\n",
        "from sklearn.tree import DecisionTreeClassifier\n",
        "from sklearn.ensemble import BaggingRegressor, RandomForestRegressor, AdaBoostRegressor, GradientBoostingRegressor\n",
        "\n",
        "# Core\n",
        "import seaborn as sns\n",
        "import pandas as pd\n",
        "import numpy as np\n",
        "from math import log,exp\n",
        "\n",
        "# Visual\n",
        "import matplotlib.pyplot as plt\n",
        "plt.rcParams['figure.figsize'] = (10, 5)\n",
        "import graphviz\n",
        "\n",
        "from sklearn.model_selection import train_test_split\n",
        "from sklearn import tree\n",
        "from sklearn.ensemble import AdaBoostClassifier\n",
        "\n",
        "import io \n"
      ]
    },
    {
      "cell_type": "code",
      "execution_count": null,
      "metadata": {
        "colab": {
          "base_uri": "https://localhost:8080/",
          "height": 356,
          "resources": {
            "http://localhost:8080/nbextensions/google.colab/files.js": {
              "data": "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",
              "headers": [
                [
                  "content-type",
                  "application/javascript"
                ]
              ],
              "ok": true,
              "status": 200,
              "status_text": ""
            }
          }
        },
        "id": "3jQkIcBNA3sm",
        "outputId": "8fe6c39e-42cd-4a52-e128-64738d74beed"
      },
      "outputs": [
        {
          "output_type": "display_data",
          "data": {
            "text/plain": [
              "<IPython.core.display.HTML object>"
            ],
            "text/html": [
              "\n",
              "     <input type=\"file\" id=\"files-40a11495-e69a-4cb8-8a77-5e681c253699\" name=\"files[]\" multiple disabled\n",
              "        style=\"border:none\" />\n",
              "     <output id=\"result-40a11495-e69a-4cb8-8a77-5e681c253699\">\n",
              "      Upload widget is only available when the cell has been executed in the\n",
              "      current browser session. Please rerun this cell to enable.\n",
              "      </output>\n",
              "      <script src=\"/nbextensions/google.colab/files.js\"></script> "
            ]
          },
          "metadata": {}
        },
        {
          "output_type": "stream",
          "name": "stdout",
          "text": [
            "Saving train.csv to train.csv\n"
          ]
        },
        {
          "output_type": "execute_result",
          "data": {
            "text/plain": [
              "   Id  MSSubClass MSZoning  LotFrontage  LotArea Street Alley LotShape  \\\n",
              "0   1          60       RL         65.0     8450   Pave   NaN      Reg   \n",
              "1   2          20       RL         80.0     9600   Pave   NaN      Reg   \n",
              "2   3          60       RL         68.0    11250   Pave   NaN      IR1   \n",
              "3   4          70       RL         60.0     9550   Pave   NaN      IR1   \n",
              "4   5          60       RL         84.0    14260   Pave   NaN      IR1   \n",
              "\n",
              "  LandContour Utilities  ... PoolArea PoolQC Fence MiscFeature MiscVal MoSold  \\\n",
              "0         Lvl    AllPub  ...        0    NaN   NaN         NaN       0      2   \n",
              "1         Lvl    AllPub  ...        0    NaN   NaN         NaN       0      5   \n",
              "2         Lvl    AllPub  ...        0    NaN   NaN         NaN       0      9   \n",
              "3         Lvl    AllPub  ...        0    NaN   NaN         NaN       0      2   \n",
              "4         Lvl    AllPub  ...        0    NaN   NaN         NaN       0     12   \n",
              "\n",
              "  YrSold  SaleType  SaleCondition  SalePrice  \n",
              "0   2008        WD         Normal     208500  \n",
              "1   2007        WD         Normal     181500  \n",
              "2   2008        WD         Normal     223500  \n",
              "3   2006        WD        Abnorml     140000  \n",
              "4   2008        WD         Normal     250000  \n",
              "\n",
              "[5 rows x 81 columns]"
            ],
            "text/html": [
              "\n",
              "  <div id=\"df-8f338ecf-2c23-4327-9193-690e9cf55465\">\n",
              "    <div class=\"colab-df-container\">\n",
              "      <div>\n",
              "<style scoped>\n",
              "    .dataframe tbody tr th:only-of-type {\n",
              "        vertical-align: middle;\n",
              "    }\n",
              "\n",
              "    .dataframe tbody tr th {\n",
              "        vertical-align: top;\n",
              "    }\n",
              "\n",
              "    .dataframe thead th {\n",
              "        text-align: right;\n",
              "    }\n",
              "</style>\n",
              "<table border=\"1\" class=\"dataframe\">\n",
              "  <thead>\n",
              "    <tr style=\"text-align: right;\">\n",
              "      <th></th>\n",
              "      <th>Id</th>\n",
              "      <th>MSSubClass</th>\n",
              "      <th>MSZoning</th>\n",
              "      <th>LotFrontage</th>\n",
              "      <th>LotArea</th>\n",
              "      <th>Street</th>\n",
              "      <th>Alley</th>\n",
              "      <th>LotShape</th>\n",
              "      <th>LandContour</th>\n",
              "      <th>Utilities</th>\n",
              "      <th>...</th>\n",
              "      <th>PoolArea</th>\n",
              "      <th>PoolQC</th>\n",
              "      <th>Fence</th>\n",
              "      <th>MiscFeature</th>\n",
              "      <th>MiscVal</th>\n",
              "      <th>MoSold</th>\n",
              "      <th>YrSold</th>\n",
              "      <th>SaleType</th>\n",
              "      <th>SaleCondition</th>\n",
              "      <th>SalePrice</th>\n",
              "    </tr>\n",
              "  </thead>\n",
              "  <tbody>\n",
              "    <tr>\n",
              "      <th>0</th>\n",
              "      <td>1</td>\n",
              "      <td>60</td>\n",
              "      <td>RL</td>\n",
              "      <td>65.0</td>\n",
              "      <td>8450</td>\n",
              "      <td>Pave</td>\n",
              "      <td>NaN</td>\n",
              "      <td>Reg</td>\n",
              "      <td>Lvl</td>\n",
              "      <td>AllPub</td>\n",
              "      <td>...</td>\n",
              "      <td>0</td>\n",
              "      <td>NaN</td>\n",
              "      <td>NaN</td>\n",
              "      <td>NaN</td>\n",
              "      <td>0</td>\n",
              "      <td>2</td>\n",
              "      <td>2008</td>\n",
              "      <td>WD</td>\n",
              "      <td>Normal</td>\n",
              "      <td>208500</td>\n",
              "    </tr>\n",
              "    <tr>\n",
              "      <th>1</th>\n",
              "      <td>2</td>\n",
              "      <td>20</td>\n",
              "      <td>RL</td>\n",
              "      <td>80.0</td>\n",
              "      <td>9600</td>\n",
              "      <td>Pave</td>\n",
              "      <td>NaN</td>\n",
              "      <td>Reg</td>\n",
              "      <td>Lvl</td>\n",
              "      <td>AllPub</td>\n",
              "      <td>...</td>\n",
              "      <td>0</td>\n",
              "      <td>NaN</td>\n",
              "      <td>NaN</td>\n",
              "      <td>NaN</td>\n",
              "      <td>0</td>\n",
              "      <td>5</td>\n",
              "      <td>2007</td>\n",
              "      <td>WD</td>\n",
              "      <td>Normal</td>\n",
              "      <td>181500</td>\n",
              "    </tr>\n",
              "    <tr>\n",
              "      <th>2</th>\n",
              "      <td>3</td>\n",
              "      <td>60</td>\n",
              "      <td>RL</td>\n",
              "      <td>68.0</td>\n",
              "      <td>11250</td>\n",
              "      <td>Pave</td>\n",
              "      <td>NaN</td>\n",
              "      <td>IR1</td>\n",
              "      <td>Lvl</td>\n",
              "      <td>AllPub</td>\n",
              "      <td>...</td>\n",
              "      <td>0</td>\n",
              "      <td>NaN</td>\n",
              "      <td>NaN</td>\n",
              "      <td>NaN</td>\n",
              "      <td>0</td>\n",
              "      <td>9</td>\n",
              "      <td>2008</td>\n",
              "      <td>WD</td>\n",
              "      <td>Normal</td>\n",
              "      <td>223500</td>\n",
              "    </tr>\n",
              "    <tr>\n",
              "      <th>3</th>\n",
              "      <td>4</td>\n",
              "      <td>70</td>\n",
              "      <td>RL</td>\n",
              "      <td>60.0</td>\n",
              "      <td>9550</td>\n",
              "      <td>Pave</td>\n",
              "      <td>NaN</td>\n",
              "      <td>IR1</td>\n",
              "      <td>Lvl</td>\n",
              "      <td>AllPub</td>\n",
              "      <td>...</td>\n",
              "      <td>0</td>\n",
              "      <td>NaN</td>\n",
              "      <td>NaN</td>\n",
              "      <td>NaN</td>\n",
              "      <td>0</td>\n",
              "      <td>2</td>\n",
              "      <td>2006</td>\n",
              "      <td>WD</td>\n",
              "      <td>Abnorml</td>\n",
              "      <td>140000</td>\n",
              "    </tr>\n",
              "    <tr>\n",
              "      <th>4</th>\n",
              "      <td>5</td>\n",
              "      <td>60</td>\n",
              "      <td>RL</td>\n",
              "      <td>84.0</td>\n",
              "      <td>14260</td>\n",
              "      <td>Pave</td>\n",
              "      <td>NaN</td>\n",
              "      <td>IR1</td>\n",
              "      <td>Lvl</td>\n",
              "      <td>AllPub</td>\n",
              "      <td>...</td>\n",
              "      <td>0</td>\n",
              "      <td>NaN</td>\n",
              "      <td>NaN</td>\n",
              "      <td>NaN</td>\n",
              "      <td>0</td>\n",
              "      <td>12</td>\n",
              "      <td>2008</td>\n",
              "      <td>WD</td>\n",
              "      <td>Normal</td>\n",
              "      <td>250000</td>\n",
              "    </tr>\n",
              "  </tbody>\n",
              "</table>\n",
              "<p>5 rows × 81 columns</p>\n",
              "</div>\n",
              "      <button class=\"colab-df-convert\" onclick=\"convertToInteractive('df-8f338ecf-2c23-4327-9193-690e9cf55465')\"\n",
              "              title=\"Convert this dataframe to an interactive table.\"\n",
              "              style=\"display:none;\">\n",
              "        \n",
              "  <svg xmlns=\"http://www.w3.org/2000/svg\" height=\"24px\"viewBox=\"0 0 24 24\"\n",
              "       width=\"24px\">\n",
              "    <path d=\"M0 0h24v24H0V0z\" fill=\"none\"/>\n",
              "    <path d=\"M18.56 5.44l.94 2.06.94-2.06 2.06-.94-2.06-.94-.94-2.06-.94 2.06-2.06.94zm-11 1L8.5 8.5l.94-2.06 2.06-.94-2.06-.94L8.5 2.5l-.94 2.06-2.06.94zm10 10l.94 2.06.94-2.06 2.06-.94-2.06-.94-.94-2.06-.94 2.06-2.06.94z\"/><path d=\"M17.41 7.96l-1.37-1.37c-.4-.4-.92-.59-1.43-.59-.52 0-1.04.2-1.43.59L10.3 9.45l-7.72 7.72c-.78.78-.78 2.05 0 2.83L4 21.41c.39.39.9.59 1.41.59.51 0 1.02-.2 1.41-.59l7.78-7.78 2.81-2.81c.8-.78.8-2.07 0-2.86zM5.41 20L4 18.59l7.72-7.72 1.47 1.35L5.41 20z\"/>\n",
              "  </svg>\n",
              "      </button>\n",
              "      \n",
              "  <style>\n",
              "    .colab-df-container {\n",
              "      display:flex;\n",
              "      flex-wrap:wrap;\n",
              "      gap: 12px;\n",
              "    }\n",
              "\n",
              "    .colab-df-convert {\n",
              "      background-color: #E8F0FE;\n",
              "      border: none;\n",
              "      border-radius: 50%;\n",
              "      cursor: pointer;\n",
              "      display: none;\n",
              "      fill: #1967D2;\n",
              "      height: 32px;\n",
              "      padding: 0 0 0 0;\n",
              "      width: 32px;\n",
              "    }\n",
              "\n",
              "    .colab-df-convert:hover {\n",
              "      background-color: #E2EBFA;\n",
              "      box-shadow: 0px 1px 2px rgba(60, 64, 67, 0.3), 0px 1px 3px 1px rgba(60, 64, 67, 0.15);\n",
              "      fill: #174EA6;\n",
              "    }\n",
              "\n",
              "    [theme=dark] .colab-df-convert {\n",
              "      background-color: #3B4455;\n",
              "      fill: #D2E3FC;\n",
              "    }\n",
              "\n",
              "    [theme=dark] .colab-df-convert:hover {\n",
              "      background-color: #434B5C;\n",
              "      box-shadow: 0px 1px 3px 1px rgba(0, 0, 0, 0.15);\n",
              "      filter: drop-shadow(0px 1px 2px rgba(0, 0, 0, 0.3));\n",
              "      fill: #FFFFFF;\n",
              "    }\n",
              "  </style>\n",
              "\n",
              "      <script>\n",
              "        const buttonEl =\n",
              "          document.querySelector('#df-8f338ecf-2c23-4327-9193-690e9cf55465 button.colab-df-convert');\n",
              "        buttonEl.style.display =\n",
              "          google.colab.kernel.accessAllowed ? 'block' : 'none';\n",
              "\n",
              "        async function convertToInteractive(key) {\n",
              "          const element = document.querySelector('#df-8f338ecf-2c23-4327-9193-690e9cf55465');\n",
              "          const dataTable =\n",
              "            await google.colab.kernel.invokeFunction('convertToInteractive',\n",
              "                                                     [key], {});\n",
              "          if (!dataTable) return;\n",
              "\n",
              "          const docLinkHtml = 'Like what you see? Visit the ' +\n",
              "            '<a target=\"_blank\" href=https://colab.research.google.com/notebooks/data_table.ipynb>data table notebook</a>'\n",
              "            + ' to learn more about interactive tables.';\n",
              "          element.innerHTML = '';\n",
              "          dataTable['output_type'] = 'display_data';\n",
              "          await google.colab.output.renderOutput(dataTable, element);\n",
              "          const docLink = document.createElement('div');\n",
              "          docLink.innerHTML = docLinkHtml;\n",
              "          element.appendChild(docLink);\n",
              "        }\n",
              "      </script>\n",
              "    </div>\n",
              "  </div>\n",
              "  "
            ]
          },
          "metadata": {},
          "execution_count": 2
        }
      ],
      "source": [
        "#Importing the dataset:\n",
        "from google.colab import files\n",
        "uploaded = files.upload()\n",
        "df = pd.read_csv(io.BytesIO(uploaded['train.csv']))\n",
        "df.head()"
      ]
    },
    {
      "cell_type": "code",
      "execution_count": null,
      "metadata": {
        "id": "eZjMdfxMB04n"
      },
      "outputs": [],
      "source": [
        "#Dividing into train, test and validation:\n",
        "#train, test = train_test_split(df, test_size = 0.3, random_state = 7)\n",
        "#train, val = train_test_split(train, test_size = 0.3, random_state = 7)"
      ]
    },
    {
      "cell_type": "code",
      "execution_count": null,
      "metadata": {
        "id": "z8VyCd21hPd8"
      },
      "outputs": [],
      "source": [
        "#creating all data with all of them to threat the whole base as one:\n",
        "#all_data = pd.concat((train.loc[:,'MSSubClass':'SaleCondition'],\n",
        " #                     val.loc[:,'MSSubClass':'SaleCondition'],\n",
        "  #                    test.loc[:,'MSSubClass':'SaleCondition']))\n"
      ]
    },
    {
      "cell_type": "markdown",
      "metadata": {
        "id": "Tx7jwdYsBCfK"
      },
      "source": [
        "(A) Creating a function\n"
      ]
    },
    {
      "cell_type": "code",
      "execution_count": null,
      "metadata": {
        "id": "e-Iafj2_gqEN"
      },
      "outputs": [],
      "source": [
        "#The following code it is what we first thought of doing. But it went wrong...\n",
        "\n",
        "#Using a basic treatment to create the matrix:\n",
        "\n",
        "#train[\"SalePrice\"] = np.log1p(train[\"SalePrice\"])\n",
        "#numeric_feats = all_data.dtypes[all_data.dtypes != \"object\"].index\n",
        "#all_data = pd.get_dummies(all_data)\n",
        "#all_data = all_data.fillna(all_data.mean())\n",
        "\n",
        "#Creating matrixes \n",
        "#X_train = all_data[:train.shape[0]]\n",
        "#X_test = all_data[train.shape[0]:]\n",
        "#y_train = train.SalePrice\n",
        "#y_test = test.SalePrice"
      ]
    },
    {
      "cell_type": "code",
      "execution_count": null,
      "metadata": {
        "id": "IOZWZWzMiUhO"
      },
      "outputs": [],
      "source": [
        "#Defining accuracy measures:\n",
        "#def mape(Y_actual, Y_Predicted):\n",
        "#    mape = np.mean(np.abs( Y_actual - Y_Predicted)/Y_actual)*100\n",
        "#    mape = round(mape,2)\n",
        "#    return mape"
      ]
    },
    {
      "cell_type": "code",
      "execution_count": null,
      "metadata": {
        "id": "DV1Okmlght0c"
      },
      "outputs": [],
      "source": [
        "#all_n_estimators = [10, 50, 100, 250, 500, 1000, 5000]\n",
        "#max_depth = (n_depth)\n",
        "#mape_list = []\n",
        "#n_estimators_list = []"
      ]
    },
    {
      "cell_type": "code",
      "execution_count": null,
      "metadata": {
        "id": "_RWEhoQGi69X"
      },
      "outputs": [],
      "source": [
        "#the first function that failed:\n",
        "#for n_estimators in all_n_estimators:\n",
        "#    print('n_estimators', n_estimators )\n",
        "              \n",
        "#    ADA = AdaBoostRegressor(\n",
        "#        n_estimators=n_estimators\n",
        "#    ).fit(X_train, y_train)\n",
        "        \n",
        "#    pred = ADA.predict(X_test)\n",
        "        \n",
        "#    accuracy = mape(y_test, np.exp(pred))\n",
        "        \n",
        "#    mape_list.append(accuracy)\n",
        "#    n_estimators_list.append(n_estimators)\n",
        "\n",
        "# results = pd.DataFrame({\n",
        "#   'n_estimators': n_estimators_list,\n",
        "#    'MAPE': mape_list\n",
        "#})             "
      ]
    },
    {
      "cell_type": "code",
      "execution_count": null,
      "metadata": {
        "id": "1DhwEd2bLVSi"
      },
      "outputs": [],
      "source": [
        "# Our actual option:\n",
        "## The idea was based on: https://towardsdatascience.com/adaboost-from-scratch-37a936da3d50\n",
        "df2 = df #for exercise 1.3\n",
        "df3 = df #for exercise 1.4\n",
        "\n",
        "#Listing explanatory features\n",
        "\n",
        "#listing the features used on the adaboost code:\n",
        "features = ['OverallQual', 'GrLivArea', 'GarageCars']\n",
        "features_y = ['OverallQual', 'GrLivArea', 'GarageCars', 'SalePrice']\n",
        "df = df[features_y]"
      ]
    },
    {
      "cell_type": "code",
      "execution_count": null,
      "metadata": {
        "id": "AHRucxmkLXon",
        "colab": {
          "base_uri": "https://localhost:8080/",
          "height": 313
        },
        "outputId": "257e1e67-8548-4b09-eb93-136c95317535"
      },
      "outputs": [
        {
          "output_type": "stream",
          "name": "stderr",
          "text": [
            "/usr/local/lib/python3.7/dist-packages/ipykernel_launcher.py:3: SettingWithCopyWarning: \n",
            "A value is trying to be set on a copy of a slice from a DataFrame.\n",
            "Try using .loc[row_indexer,col_indexer] = value instead\n",
            "\n",
            "See the caveats in the documentation: https://pandas.pydata.org/pandas-docs/stable/user_guide/indexing.html#returning-a-view-versus-a-copy\n",
            "  This is separate from the ipykernel package so we can avoid doing imports until\n"
          ]
        },
        {
          "output_type": "execute_result",
          "data": {
            "text/plain": [
              "   OverallQual  GrLivArea  GarageCars SalePrice\n",
              "0            7       1710           2         1\n",
              "1            6       1262           2         1\n",
              "2            7       1786           2         1\n",
              "3            7       1717           3        -1\n",
              "4            8       2198           3         1"
            ],
            "text/html": [
              "\n",
              "  <div id=\"df-4e615ac2-6a71-4c60-b045-255409a1752a\">\n",
              "    <div class=\"colab-df-container\">\n",
              "      <div>\n",
              "<style scoped>\n",
              "    .dataframe tbody tr th:only-of-type {\n",
              "        vertical-align: middle;\n",
              "    }\n",
              "\n",
              "    .dataframe tbody tr th {\n",
              "        vertical-align: top;\n",
              "    }\n",
              "\n",
              "    .dataframe thead th {\n",
              "        text-align: right;\n",
              "    }\n",
              "</style>\n",
              "<table border=\"1\" class=\"dataframe\">\n",
              "  <thead>\n",
              "    <tr style=\"text-align: right;\">\n",
              "      <th></th>\n",
              "      <th>OverallQual</th>\n",
              "      <th>GrLivArea</th>\n",
              "      <th>GarageCars</th>\n",
              "      <th>SalePrice</th>\n",
              "    </tr>\n",
              "  </thead>\n",
              "  <tbody>\n",
              "    <tr>\n",
              "      <th>0</th>\n",
              "      <td>7</td>\n",
              "      <td>1710</td>\n",
              "      <td>2</td>\n",
              "      <td>1</td>\n",
              "    </tr>\n",
              "    <tr>\n",
              "      <th>1</th>\n",
              "      <td>6</td>\n",
              "      <td>1262</td>\n",
              "      <td>2</td>\n",
              "      <td>1</td>\n",
              "    </tr>\n",
              "    <tr>\n",
              "      <th>2</th>\n",
              "      <td>7</td>\n",
              "      <td>1786</td>\n",
              "      <td>2</td>\n",
              "      <td>1</td>\n",
              "    </tr>\n",
              "    <tr>\n",
              "      <th>3</th>\n",
              "      <td>7</td>\n",
              "      <td>1717</td>\n",
              "      <td>3</td>\n",
              "      <td>-1</td>\n",
              "    </tr>\n",
              "    <tr>\n",
              "      <th>4</th>\n",
              "      <td>8</td>\n",
              "      <td>2198</td>\n",
              "      <td>3</td>\n",
              "      <td>1</td>\n",
              "    </tr>\n",
              "  </tbody>\n",
              "</table>\n",
              "</div>\n",
              "      <button class=\"colab-df-convert\" onclick=\"convertToInteractive('df-4e615ac2-6a71-4c60-b045-255409a1752a')\"\n",
              "              title=\"Convert this dataframe to an interactive table.\"\n",
              "              style=\"display:none;\">\n",
              "        \n",
              "  <svg xmlns=\"http://www.w3.org/2000/svg\" height=\"24px\"viewBox=\"0 0 24 24\"\n",
              "       width=\"24px\">\n",
              "    <path d=\"M0 0h24v24H0V0z\" fill=\"none\"/>\n",
              "    <path d=\"M18.56 5.44l.94 2.06.94-2.06 2.06-.94-2.06-.94-.94-2.06-.94 2.06-2.06.94zm-11 1L8.5 8.5l.94-2.06 2.06-.94-2.06-.94L8.5 2.5l-.94 2.06-2.06.94zm10 10l.94 2.06.94-2.06 2.06-.94-2.06-.94-.94-2.06-.94 2.06-2.06.94z\"/><path d=\"M17.41 7.96l-1.37-1.37c-.4-.4-.92-.59-1.43-.59-.52 0-1.04.2-1.43.59L10.3 9.45l-7.72 7.72c-.78.78-.78 2.05 0 2.83L4 21.41c.39.39.9.59 1.41.59.51 0 1.02-.2 1.41-.59l7.78-7.78 2.81-2.81c.8-.78.8-2.07 0-2.86zM5.41 20L4 18.59l7.72-7.72 1.47 1.35L5.41 20z\"/>\n",
              "  </svg>\n",
              "      </button>\n",
              "      \n",
              "  <style>\n",
              "    .colab-df-container {\n",
              "      display:flex;\n",
              "      flex-wrap:wrap;\n",
              "      gap: 12px;\n",
              "    }\n",
              "\n",
              "    .colab-df-convert {\n",
              "      background-color: #E8F0FE;\n",
              "      border: none;\n",
              "      border-radius: 50%;\n",
              "      cursor: pointer;\n",
              "      display: none;\n",
              "      fill: #1967D2;\n",
              "      height: 32px;\n",
              "      padding: 0 0 0 0;\n",
              "      width: 32px;\n",
              "    }\n",
              "\n",
              "    .colab-df-convert:hover {\n",
              "      background-color: #E2EBFA;\n",
              "      box-shadow: 0px 1px 2px rgba(60, 64, 67, 0.3), 0px 1px 3px 1px rgba(60, 64, 67, 0.15);\n",
              "      fill: #174EA6;\n",
              "    }\n",
              "\n",
              "    [theme=dark] .colab-df-convert {\n",
              "      background-color: #3B4455;\n",
              "      fill: #D2E3FC;\n",
              "    }\n",
              "\n",
              "    [theme=dark] .colab-df-convert:hover {\n",
              "      background-color: #434B5C;\n",
              "      box-shadow: 0px 1px 3px 1px rgba(0, 0, 0, 0.15);\n",
              "      filter: drop-shadow(0px 1px 2px rgba(0, 0, 0, 0.3));\n",
              "      fill: #FFFFFF;\n",
              "    }\n",
              "  </style>\n",
              "\n",
              "      <script>\n",
              "        const buttonEl =\n",
              "          document.querySelector('#df-4e615ac2-6a71-4c60-b045-255409a1752a button.colab-df-convert');\n",
              "        buttonEl.style.display =\n",
              "          google.colab.kernel.accessAllowed ? 'block' : 'none';\n",
              "\n",
              "        async function convertToInteractive(key) {\n",
              "          const element = document.querySelector('#df-4e615ac2-6a71-4c60-b045-255409a1752a');\n",
              "          const dataTable =\n",
              "            await google.colab.kernel.invokeFunction('convertToInteractive',\n",
              "                                                     [key], {});\n",
              "          if (!dataTable) return;\n",
              "\n",
              "          const docLinkHtml = 'Like what you see? Visit the ' +\n",
              "            '<a target=\"_blank\" href=https://colab.research.google.com/notebooks/data_table.ipynb>data table notebook</a>'\n",
              "            + ' to learn more about interactive tables.';\n",
              "          element.innerHTML = '';\n",
              "          dataTable['output_type'] = 'display_data';\n",
              "          await google.colab.output.renderOutput(dataTable, element);\n",
              "          const docLink = document.createElement('div');\n",
              "          docLink.innerHTML = docLinkHtml;\n",
              "          element.appendChild(docLink);\n",
              "        }\n",
              "      </script>\n",
              "    </div>\n",
              "  </div>\n",
              "  "
            ]
          },
          "metadata": {},
          "execution_count": 10
        }
      ],
      "source": [
        "## Changing the problem for a classification one\n",
        "\n",
        "df['SalePrice'] = pd.qcut(df['SalePrice'],q = 2, labels = [-1, 1])\n",
        "df.head()"
      ]
    },
    {
      "cell_type": "markdown",
      "metadata": {
        "id": "Sz8N-YTgtWuP"
      },
      "source": [
        "1 (A) and (B)\n"
      ]
    },
    {
      "cell_type": "code",
      "execution_count": null,
      "metadata": {
        "id": "rK24QIYzLai4"
      },
      "outputs": [],
      "source": [
        "#Steps of the fuctions:\n",
        "\n",
        "##Computing error\n",
        "\n",
        "def compute_error (y, y_pred, w_i):\n",
        "    return (sum(w_i* (np.not_equal(y, y_pred)).astype(int)))/sum(w_i)\n",
        "\n",
        "## Weights of weak classifiers \n",
        "\n",
        "def compute_alpha(error):\n",
        "    return np.log((1-error) / error)\n",
        "\n",
        "##Update weights after boosting interaction\n",
        "\n",
        "def update_weights(w_i, alpha, y, y_pred):\n",
        "    return w_i* np.exp(alpha * (np.not_equal(y, y_pred)).astype(int))"
      ]
    },
    {
      "cell_type": "code",
      "execution_count": null,
      "metadata": {
        "id": "tHWak_R5LhJo"
      },
      "outputs": [],
      "source": [
        "# Define AdaBoost for classification:\n",
        "class AdaBoost:\n",
        "    \n",
        "    def __init__(self):\n",
        "        self.alphas = []\n",
        "        self.G_M = []\n",
        "        self.M = None\n",
        "        self.training_errors = []\n",
        "        self.prediction_errors = []\n",
        "\n",
        "    def fit(self, X, y, M = 100):\n",
        "        '''\n",
        "        Fit model. Arguments:\n",
        "        X: independent variables - array-like matrix\n",
        "        y: target variable - array-like vector\n",
        "        M: number of boosting rounds. Default is 100 - integer\n",
        "        '''\n",
        "        \n",
        "        # Clear before calling\n",
        "        self.alphas = [] \n",
        "        self.training_errors = []\n",
        "        self.M = M\n",
        "\n",
        "        # Iterate over M weak classifiers\n",
        "        for m in range(0, M):\n",
        "            \n",
        "            # Set weights for current boosting iteration\n",
        "            if m == 0:\n",
        "                w_i = np.ones(len(y)) * 1 / len(y)  # At m = 0, weights are all the same and equal to 1 / N\n",
        "            else:\n",
        "                # (d) Update w_i\n",
        "                w_i = update_weights(w_i, alpha_m, y, y_pred)\n",
        "            \n",
        "            # (a) Fit weak classifier and predict labels\n",
        "            G_m = DecisionTreeClassifier(max_depth = 1)     # Stump: Two terminal-node classification tree\n",
        "            G_m.fit(X, y, sample_weight = w_i)\n",
        "            y_pred = G_m.predict(X)\n",
        "            \n",
        "            self.G_M.append(G_m) # Save to list of weak classifiers\n",
        "\n",
        "            # (b) Compute error\n",
        "            error_m = compute_error(y, y_pred, w_i)\n",
        "            self.training_errors.append(error_m)\n",
        "\n",
        "            # (c) Compute alpha\n",
        "            alpha_m = compute_alpha(error_m)\n",
        "            self.alphas.append(alpha_m)\n",
        "\n",
        "        assert len(self.G_M) == len(self.alphas)\n",
        "\n",
        "    def predict(self, X):\n",
        "\n",
        "        weak_preds = pd.DataFrame(index = range(len(X)), columns = range(self.M)) \n",
        "\n",
        "        for m in range(self.M):\n",
        "            y_pred_m = self.G_M[m].predict(X) * self.alphas[m]\n",
        "            weak_preds.iloc[:,m] = y_pred_m\n",
        "\n",
        "        y_pred = (1 * np.sign(weak_preds.T.sum())).astype(int)\n",
        "\n",
        "        return y_pred       \n",
        "\n",
        "\n",
        "#the code was based on: https://towardsdatascience.com/adaboost-from-scratch-37a936da3d50\n"
      ]
    },
    {
      "cell_type": "code",
      "execution_count": null,
      "metadata": {
        "id": "Xay5D-wpLpGv"
      },
      "outputs": [],
      "source": [
        "## Dividing into train and test:\n",
        "train, test = train_test_split(df, test_size=0.3, random_state=7)\n",
        "\n",
        "X_train = df[:train.shape[0]]\n",
        "X_test = df[train.shape[0]:]\n",
        "y_train = train.SalePrice\n",
        "y_test = test.SalePrice"
      ]
    },
    {
      "cell_type": "code",
      "execution_count": null,
      "metadata": {
        "id": "C3BNDJ_iLug4",
        "colab": {
          "base_uri": "https://localhost:8080/"
        },
        "outputId": "1477925b-50fd-4411-e916-90a562b53d57"
      },
      "outputs": [
        {
          "output_type": "stream",
          "name": "stdout",
          "text": [
            "The ROC-AUC score of the model is: 0.5084\n"
          ]
        }
      ],
      "source": [
        "from sklearn.tree import DecisionTreeClassifier\n",
        "from sklearn.metrics import roc_auc_score\n",
        "\n",
        "def mape(Y_actual, Y_Predicted):\n",
        "    mape = np.mean(np.abs( Y_actual - Y_Predicted)/Y_actual)*100\n",
        "    mape = mape.round(2)\n",
        "    return mape\n",
        "\n",
        "# Predict\n",
        "\n",
        "ab = AdaBoost()\n",
        "ab.fit(X_train, y_train, M = 400)\n",
        "\n",
        "# Predict on test set\n",
        "y_pred = ab.predict(X_test)\n",
        "print('The ROC-AUC score of the model is:', round(roc_auc_score(y_test, y_pred), 4))"
      ]
    },
    {
      "cell_type": "markdown",
      "metadata": {
        "id": "x1zKsNNpkfEg"
      },
      "source": [
        "1(C)"
      ]
    },
    {
      "cell_type": "code",
      "execution_count": null,
      "metadata": {
        "id": "H-f8AMx843kQ",
        "colab": {
          "base_uri": "https://localhost:8080/",
          "height": 350
        },
        "outputId": "54396dc9-7a5d-41ce-9a76-913e70b82b07"
      },
      "outputs": [
        {
          "output_type": "display_data",
          "data": {
            "text/plain": [
              "<Figure size 720x360 with 1 Axes>"
            ],
            "image/png": "[encoded data removed]"
          },
          "metadata": {
            "needs_background": "light"
          }
        }
      ],
      "source": [
        "plt.figure(figsize=(10,5))\n",
        "plt.plot(ab.training_errors)\n",
        "plt.title('Training error rates by M')\n",
        "plt.hlines(0.5, 0, 400, colors = 'indigo', linestyles='dashed')\n",
        "plt.xlabel('M')\n",
        "plt.show()"
      ]
    },
    {
      "cell_type": "markdown",
      "metadata": {
        "id": "PHPqTEials85"
      },
      "source": [
        "2(A) Adding max depth:\n"
      ]
    },
    {
      "cell_type": "code",
      "execution_count": null,
      "metadata": {
        "id": "qhMSJyuc4jZG"
      },
      "outputs": [],
      "source": [
        "class AdaBoost:\n",
        "    \n",
        "    def __init__(self):\n",
        "        self.alphas = []\n",
        "        self.G_M = []\n",
        "        self.M = None\n",
        "        self.training_errors = []\n",
        "        self.prediction_errors = []\n",
        "        self.depth = []     #to include max depth, we will create a self.depth here\n",
        "\n",
        "    def fit(self, X, y, depth = 1, M = 100):\n",
        "        '''\n",
        "        Fit model. Arguments:\n",
        "        X: independent variables - array-like matrix\n",
        "        y: target variable - array-like vector\n",
        "        Depth: Max depth with default 1.\n",
        "        M: number of boosting rounds. Default is 100 - integer\n",
        "        '''\n",
        "        \n",
        "        # Clear before calling\n",
        "        self.alphas = [] \n",
        "        self.training_errors = []\n",
        "        self.M = M\n",
        "\n",
        "        # Iterate over M weak classifiers\n",
        "        for m in range(0, M):\n",
        "            \n",
        "            # Set weights for current boosting iteration\n",
        "            if m == 0:\n",
        "                w_i = np.ones(len(y)) * 1 / len(y)  \n",
        "            else:\n",
        "                # (d) Update w_i\n",
        "                w_i = update_weights(w_i, alpha_m, y, y_pred)\n",
        "            \n",
        "            # (a) Fit weak classifier and predict labels\n",
        "            G_m = DecisionTreeClassifier(max_depth = depth)     \n",
        "            G_m.fit(X, y, sample_weight = w_i)\n",
        "            y_pred = G_m.predict(X)\n",
        "            \n",
        "            self.G_M.append(G_m) \n",
        "\n",
        "            # (b) Compute error\n",
        "            error_m = compute_error(y, y_pred, w_i)\n",
        "            self.training_errors.append(error_m)\n",
        "\n",
        "            # (c) Compute alpha\n",
        "            alpha_m = compute_alpha(error_m)\n",
        "            self.alphas.append(alpha_m)\n",
        "\n",
        "        assert len(self.G_M) == len(self.alphas)\n",
        "\n",
        "    def predict(self, X):\n",
        "\n",
        "        weak_preds = pd.DataFrame(index = range(len(X)), columns = range(self.M)) \n",
        "\n",
        "        for m in range(self.M):\n",
        "            y_pred_m = self.G_M[m].predict(X) * self.alphas[m]\n",
        "            weak_preds.iloc[:,m] = y_pred_m\n",
        "\n",
        "        y_pred = (1 * np.sign(weak_preds.T.sum())).astype(int)\n",
        "\n",
        "        return y_pred      \n"
      ]
    },
    {
      "cell_type": "code",
      "execution_count": null,
      "metadata": {
        "id": "TCcUST-W5xhE",
        "colab": {
          "base_uri": "https://localhost:8080/"
        },
        "outputId": "378006ce-9a26-4338-eac0-dbc2cab11f10"
      },
      "outputs": [
        {
          "output_type": "stream",
          "name": "stdout",
          "text": [
            "The ROC-AUC score of the model is: 0.4814\n"
          ]
        }
      ],
      "source": [
        "# Predict\n",
        "\n",
        "ab = AdaBoost()\n",
        "ab.fit(X_train, y_train, depth = 50, M = 400)\n",
        "y_pred = ab.predict(X_test)\n",
        "print('The ROC-AUC score of the model is:', round(roc_auc_score(y_test, y_pred), 4))"
      ]
    },
    {
      "cell_type": "markdown",
      "metadata": {
        "id": "W1IGnN096Z9C"
      },
      "source": [
        "(B) Plotting it:"
      ]
    },
    {
      "cell_type": "code",
      "execution_count": null,
      "metadata": {
        "id": "92VpWtG96TTC",
        "colab": {
          "base_uri": "https://localhost:8080/",
          "height": 350
        },
        "outputId": "7d9575c2-f3b2-4dfa-d9fe-8128a18cf3c9"
      },
      "outputs": [
        {
          "output_type": "display_data",
          "data": {
            "text/plain": [
              "<Figure size 720x360 with 1 Axes>"
            ],
            "image/png": "[encoded data removed]"
          },
          "metadata": {
            "needs_background": "light"
          }
        }
      ],
      "source": [
        "plt.figure(figsize=(10,5))\n",
        "plt.plot(ab.training_errors)\n",
        "plt.title('Training error rates by M')\n",
        "plt.hlines(0.5, 0, 400, colors = 'indigo', linestyles='dashed')\n",
        "plt.xlabel('M')\n",
        "plt.show()"
      ]
    },
    {
      "cell_type": "markdown",
      "source": [
        "The graph above shows us that the training error rates increase significaantly between 0 and 50 M. "
      ],
      "metadata": {
        "id": "bOeDmjW8_o80"
      }
    },
    {
      "cell_type": "markdown",
      "metadata": {
        "id": "D20VwVLk7KYU"
      },
      "source": [
        "(3) Modifying the function to allow a 3-value classification:\n",
        "\n",
        "Here, we first tried to change the function where the alpha is replaced by an \"i,\" which equals 3 — trying to make the classification be three objects (which clearly went wrong)."
      ]
    },
    {
      "cell_type": "code",
      "execution_count": null,
      "metadata": {
        "id": "aFkSMopD7JJn"
      },
      "outputs": [],
      "source": [
        "#class AdaBoost:\n",
        "  \n",
        " #   def __init__(self):\n",
        "#      self.i = []\n",
        "#    self.G_M = []\n",
        "#       self.M = None\n",
        "#        self.training_errors = []\n",
        "#        self.prediction_errors = []\n",
        "#        self.depth = []     \n",
        "\n",
        "#    def fit(self, X, y, i = 3, depth = 1, M = 100): #change alpha to \"i\" that is = 3\n",
        "      #       '''\n",
        " #      Fit model. Arguments:\n",
        " #       i: 3 \n",
        " #       X: independent variables - array-like matrix\n",
        " #       y: target variable - array-like vector\n",
        " #       Depth: Max depth with default 1.\n",
        " #       M: number of boosting rounds. Default is 100 - integer\n",
        " #       '''\n",
        "        \n",
        "        # Clear before calling\n",
        "  #      self.i = [] \n",
        "  #      self.training_errors = []\n",
        "  #      self.M = M\n",
        "\n",
        "        # Iterate over M weak classifiers\n",
        "#        for m in range(0, M):\n",
        "            \n",
        "            # Set weights for current boosting iteration\n",
        "#            if m == 0:\n",
        "#                w_i = np.ones(len(y)) * 1 / len(y)  \n",
        "#            else:\n",
        "                # (d) Update w_i\n",
        "#                w_i = update_weights(w_i, alpha_m, y, y_pred)\n",
        "            \n",
        "            # (a) Fit weak classifier and predict labels\n",
        "#            G_m = DecisionTreeClassifier(max_depth = depth)     \n",
        "#            G_m.fit(X, y, sample_weight = w_i)\n",
        "#            y_pred = G_m.predict(X)\n",
        "            \n",
        "#            self.G_M.append(G_m) \n",
        "\n",
        "            # (b) Compute error\n",
        " #           error_m = compute_error(y, y_pred, w_i)\n",
        "#            self.training_errors.append(error_m)\n",
        "\n",
        "#        assert len(self.G_M) == len(self.i)\n",
        "\n",
        "#    def predict(self, X):\n",
        "\n",
        "#        weak_preds = pd.DataFrame(index = range(len(X)), columns = range(self.M)) \n",
        "\n",
        " #       for m in range(self.M):\n",
        " #           y_pred_m = self.G_M[m].predict(X) * self.i[m]\n",
        " #           weak_preds.iloc[:,m] = y_pred_m\n",
        "\n",
        " #       y_pred = (1 * np.sign(weak_preds.T.sum())).astype(int)\n",
        "\n",
        " #       return y_pred      \n"
      ]
    },
    {
      "cell_type": "code",
      "execution_count": null,
      "metadata": {
        "id": "7Mv3S-Va8zpc"
      },
      "outputs": [],
      "source": [
        "#ab = AdaBoost()\n",
        "#ab.fit(X_train, y_train, i, depth = 100, M = 400)\n",
        "#y_pred = ab.predict(X_test)\n",
        "#print('The ROC-AUC score of the model is:', round(roc_auc_score(y_test, y_pred), 4))"
      ]
    },
    {
      "cell_type": "markdown",
      "metadata": {
        "id": "7dL0iGk_nlQ7"
      },
      "source": [
        "So, we tried again, but changing other part of our code:"
      ]
    },
    {
      "cell_type": "code",
      "execution_count": null,
      "metadata": {
        "id": "H0J0UKJZnXgJ"
      },
      "outputs": [],
      "source": [
        "df2 = df2[features_y]\n",
        "df2['SalePrice'] = pd.qcut(df2['SalePrice'], q = 3, labels = [1, 2, 3]) #here we tried by changing q \n",
        "df2.head()"
      ]
    },
    {
      "cell_type": "code",
      "execution_count": null,
      "metadata": {
        "id": "pxSsKENonv6e"
      },
      "outputs": [],
      "source": [
        "#and here we use the same code from before:\n",
        "class AdaBoost:\n",
        "    \n",
        "    def __init__(self):\n",
        "        self.alphas = []\n",
        "        self.G_M = []\n",
        "        self.M = None\n",
        "        self.training_errors = []\n",
        "        self.prediction_errors = []\n",
        "        self.depth = []     #to include max depth, we will create a self.depth here\n",
        "\n",
        "    def fit(self, X, y, depth = 1, M = 100):\n",
        "        '''\n",
        "        Fit model. Arguments:\n",
        "        X: independent variables - array-like matrix\n",
        "        y: target variable - array-like vector\n",
        "        Depth: Max depth with default 1.\n",
        "        M: number of boosting rounds. Default is 100 - integer\n",
        "        '''\n",
        "        \n",
        "        # Clear before calling\n",
        "        self.alphas = [] \n",
        "        self.training_errors = []\n",
        "        self.M = M\n",
        "\n",
        "        # Iterate over M weak classifiers\n",
        "        for m in range(0, M):\n",
        "            \n",
        "            # Set weights for current boosting iteration\n",
        "            if m == 0:\n",
        "                w_i = np.ones(len(y)) * 1 / len(y)  \n",
        "            else:\n",
        "                # (d) Update w_i\n",
        "                w_i = update_weights(w_i, alpha_m, y, y_pred)\n",
        "            \n",
        "            # (a) Fit weak classifier and predict labels\n",
        "            G_m = DecisionTreeClassifier(max_depth = depth)     \n",
        "            G_m.fit(X, y, sample_weight = w_i)\n",
        "            y_pred = G_m.predict(X)\n",
        "            \n",
        "            self.G_M.append(G_m) \n",
        "\n",
        "            # (b) Compute error\n",
        "            error_m = compute_error(y, y_pred, w_i)\n",
        "            self.training_errors.append(error_m)\n",
        "\n",
        "            # (c) Compute alpha\n",
        "            alpha_m = compute_alpha(error_m)\n",
        "            self.alphas.append(alpha_m)\n",
        "\n",
        "        assert len(self.G_M) == len(self.alphas)\n",
        "\n",
        "    def predict(self, X):\n",
        "\n",
        "        weak_preds = pd.DataFrame(index = range(len(X)), columns = range(self.M)) \n",
        "\n",
        "        for m in range(self.M):\n",
        "            y_pred_m = self.G_M[m].predict(X) * self.alphas[m]\n",
        "            weak_preds.iloc[:,m] = y_pred_m\n",
        "\n",
        "        y_pred = (1 * np.sign(weak_preds.T.sum())).astype(int)\n",
        "\n",
        "        return y_pred "
      ]
    },
    {
      "cell_type": "code",
      "execution_count": null,
      "metadata": {
        "id": "RwK42wTKoKc_",
        "colab": {
          "base_uri": "https://localhost:8080/"
        },
        "outputId": "4ebcc608-fa5f-4348-cb2f-316247ea1419"
      },
      "outputs": [
        {
          "output_type": "stream",
          "name": "stdout",
          "text": [
            "The ROC-AUC score of the model is: 0.4902\n"
          ]
        }
      ],
      "source": [
        "# Predict\n",
        "\n",
        "ab = AdaBoost()\n",
        "ab.fit(X_train, y_train, depth = 50, M = 200)\n",
        "y_pred = ab.predict(X_test)\n",
        "print('The ROC-AUC score of the model is:', round(roc_auc_score(y_test, y_pred), 4))"
      ]
    },
    {
      "cell_type": "markdown",
      "metadata": {
        "id": "tz-hCdOu9-3e"
      },
      "source": [
        "4. Make it work with regressions: \n",
        "\n",
        "\n",
        "\n"
      ]
    },
    {
      "cell_type": "code",
      "source": [
        "from sklearn.tree import DecisionTreeRegressor\n",
        "class AdaBoost:\n",
        "    \n",
        "    def __init__(self):\n",
        "        self.alphas = []\n",
        "        self.G_M = []\n",
        "        self.M = None\n",
        "        self.training_errors = []\n",
        "        self.prediction_errors = []\n",
        "        self.depth = None \n",
        "\n",
        "    def fit(self, X, y, depth = 1, M = 100):\n",
        "        '''\n",
        "        Fit model. Arguments:\n",
        "        X: independent variables - array-like matrix\n",
        "        y: target variable - array-like vector\n",
        "        Depth: Max depth with default 1.\n",
        "        M: number of boosting rounds. Default is 100 - integer\n",
        "        '''\n",
        "        \n",
        "        # Clear before calling\n",
        "        self.alphas = [] \n",
        "        self.training_errors = []\n",
        "        self.M = M\n",
        "\n",
        "        # Iterate over M weak classifiers\n",
        "        for m in range(0, M):\n",
        "            \n",
        "            # Set weights for current boosting iteration\n",
        "            if m == 0:\n",
        "                w_i = np.ones(len(y)) * 1 / len(y)  \n",
        "            else:\n",
        "                # (d) Update w_i\n",
        "                w_i = update_weights(w_i, alpha_m, y, y_pred)\n",
        "            \n",
        "            # (a) Fit weak classifier and predict labels\n",
        "            G_m = DecisionTreeRegressor()  #we change it here!   \n",
        "            G_m.fit(X, y, sample_weight = w_i)\n",
        "            y_pred = G_m.predict(X)\n",
        "            \n",
        "            self.G_M.append(G_m) \n",
        "\n",
        "            # (b) Compute error\n",
        "            error_m = compute_error(y, y_pred, w_i)\n",
        "            self.training_errors.append(error_m)\n",
        "\n",
        "            # (c) Compute alpha\n",
        "            alpha_m = compute_alpha(error_m)\n",
        "            self.alphas.append(alpha_m)\n",
        "\n",
        "        assert len(self.G_M) == len(self.alphas)\n",
        "\n",
        "    def predict(self, X):\n",
        "\n",
        "        weak_preds = pd.DataFrame(index = range(len(X)), columns = range(self.M)) \n",
        "\n",
        "        for m in range(self.M):\n",
        "            y_pred_m = self.G_M[m].predict(X) * self.alphas[m]\n",
        "            weak_preds.iloc[:,m] = y_pred_m\n",
        "\n",
        "        y_pred = (1 * np.sign(weak_preds.T.sum())).astype(int)\n",
        "\n",
        "        return y_pred "
      ],
      "metadata": {
        "id": "duyzpEeWlkVN"
      },
      "execution_count": null,
      "outputs": []
    },
    {
      "cell_type": "code",
      "execution_count": null,
      "metadata": {
        "id": "g9-yWQZh-yQR"
      },
      "outputs": [],
      "source": [
        "df3 = df3[features_y]"
      ]
    },
    {
      "cell_type": "code",
      "execution_count": null,
      "metadata": {
        "id": "Wy29JOqm-k_0",
        "colab": {
          "base_uri": "https://localhost:8080/"
        },
        "outputId": "de7ced9d-21e4-4261-ef8f-750ddea69dca"
      },
      "outputs": [
        {
          "output_type": "stream",
          "name": "stderr",
          "text": [
            "/usr/local/lib/python3.7/dist-packages/ipykernel_launcher.py:2: FutureWarning: In a future version of pandas all arguments of DataFrame.drop except for the argument 'labels' will be keyword-only\n",
            "  \n",
            "/usr/local/lib/python3.7/dist-packages/ipykernel_launcher.py:3: FutureWarning: In a future version of pandas all arguments of DataFrame.drop except for the argument 'labels' will be keyword-only\n",
            "  This is separate from the ipykernel package so we can avoid doing imports until\n"
          ]
        }
      ],
      "source": [
        "train, test = train_test_split(df3, test_size=0.3, random_state=1)\n",
        "X_train = train.drop('SalePrice', 1)\n",
        "X_test = test.drop('SalePrice', 1)\n",
        "y_train = train['SalePrice'].astype(int)\n",
        "y_test = test[ 'SalePrice'].astype(int)"
      ]
    },
    {
      "cell_type": "code",
      "source": [
        "ab = AdaBoost()\n",
        "ab.fit(X_train, y_train, M = 400)\n",
        "y_pred = ab.predict(X_test)"
      ],
      "metadata": {
        "id": "zutdRX7dmXq0"
      },
      "execution_count": null,
      "outputs": []
    },
    {
      "cell_type": "markdown",
      "metadata": {
        "id": "30naTiEfRxkK"
      },
      "source": [
        "## EXERCISE 2 "
      ]
    },
    {
      "cell_type": "markdown",
      "metadata": {
        "id": "FuOdnOL5R4B6"
      },
      "source": [
        "###I. Download data"
      ]
    },
    {
      "cell_type": "code",
      "execution_count": null,
      "metadata": {
        "id": "4PiS1_c3R3Ne",
        "colab": {
          "resources": {
            "http://localhost:8080/nbextensions/google.colab/files.js": {
              "data": "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",
              "ok": true,
              "headers": [
                [
                  "content-type",
                  "application/javascript"
                ]
              ],
              "status": 200,
              "status_text": ""
            }
          },
          "base_uri": "https://localhost:8080/",
          "height": 307
        },
        "outputId": "d7db3d34-0d70-4871-f7b8-7afeabeec993"
      },
      "outputs": [
        {
          "output_type": "display_data",
          "data": {
            "text/plain": [
              "<IPython.core.display.HTML object>"
            ],
            "text/html": [
              "\n",
              "     <input type=\"file\" id=\"files-da49557f-ad26-4b4f-b2e9-281b3e387e74\" name=\"files[]\" multiple disabled\n",
              "        style=\"border:none\" />\n",
              "     <output id=\"result-da49557f-ad26-4b4f-b2e9-281b3e387e74\">\n",
              "      Upload widget is only available when the cell has been executed in the\n",
              "      current browser session. Please rerun this cell to enable.\n",
              "      </output>\n",
              "      <script src=\"/nbextensions/google.colab/files.js\"></script> "
            ]
          },
          "metadata": {}
        },
        {
          "output_type": "stream",
          "name": "stdout",
          "text": [
            "Saving sloan_survey.csv to sloan_survey.csv\n"
          ]
        },
        {
          "output_type": "execute_result",
          "data": {
            "text/plain": [
              "          objid          ra       dec         u         g         r         i  \\\n",
              "0  1.237650e+18  183.531326  0.089693  19.47406  17.04240  15.94699  15.50342   \n",
              "1  1.237650e+18  183.598370  0.135285  18.66280  17.21449  16.67637  16.48922   \n",
              "2  1.237650e+18  183.680207  0.126185  19.38298  18.19169  17.47428  17.08732   \n",
              "3  1.237650e+18  183.870529  0.049911  17.76536  16.60272  16.16116  15.98233   \n",
              "4  1.237650e+18  183.883288  0.102557  17.55025  16.26342  16.43869  16.55492   \n",
              "\n",
              "          z  run  rerun  camcol  field     specobjid   class  redshift  plate  \\\n",
              "0  15.22531  752    301       4    267  3.722360e+18    STAR -0.000009   3306   \n",
              "1  16.39150  752    301       4    267  3.638140e+17    STAR -0.000055    323   \n",
              "2  16.80125  752    301       4    268  3.232740e+17  GALAXY  0.123111    287   \n",
              "3  15.90438  752    301       4    269  3.722370e+18    STAR -0.000111   3306   \n",
              "4  16.61326  752    301       4    269  3.722370e+18    STAR  0.000590   3306   \n",
              "\n",
              "     mjd  fiberid  \n",
              "0  54922      491  \n",
              "1  51615      541  \n",
              "2  52023      513  \n",
              "3  54922      510  \n",
              "4  54922      512  "
            ],
            "text/html": [
              "\n",
              "  <div id=\"df-e3359d6c-1bdb-454f-b850-8b27e8a5b607\">\n",
              "    <div class=\"colab-df-container\">\n",
              "      <div>\n",
              "<style scoped>\n",
              "    .dataframe tbody tr th:only-of-type {\n",
              "        vertical-align: middle;\n",
              "    }\n",
              "\n",
              "    .dataframe tbody tr th {\n",
              "        vertical-align: top;\n",
              "    }\n",
              "\n",
              "    .dataframe thead th {\n",
              "        text-align: right;\n",
              "    }\n",
              "</style>\n",
              "<table border=\"1\" class=\"dataframe\">\n",
              "  <thead>\n",
              "    <tr style=\"text-align: right;\">\n",
              "      <th></th>\n",
              "      <th>objid</th>\n",
              "      <th>ra</th>\n",
              "      <th>dec</th>\n",
              "      <th>u</th>\n",
              "      <th>g</th>\n",
              "      <th>r</th>\n",
              "      <th>i</th>\n",
              "      <th>z</th>\n",
              "      <th>run</th>\n",
              "      <th>rerun</th>\n",
              "      <th>camcol</th>\n",
              "      <th>field</th>\n",
              "      <th>specobjid</th>\n",
              "      <th>class</th>\n",
              "      <th>redshift</th>\n",
              "      <th>plate</th>\n",
              "      <th>mjd</th>\n",
              "      <th>fiberid</th>\n",
              "    </tr>\n",
              "  </thead>\n",
              "  <tbody>\n",
              "    <tr>\n",
              "      <th>0</th>\n",
              "      <td>1.237650e+18</td>\n",
              "      <td>183.531326</td>\n",
              "      <td>0.089693</td>\n",
              "      <td>19.47406</td>\n",
              "      <td>17.04240</td>\n",
              "      <td>15.94699</td>\n",
              "      <td>15.50342</td>\n",
              "      <td>15.22531</td>\n",
              "      <td>752</td>\n",
              "      <td>301</td>\n",
              "      <td>4</td>\n",
              "      <td>267</td>\n",
              "      <td>3.722360e+18</td>\n",
              "      <td>STAR</td>\n",
              "      <td>-0.000009</td>\n",
              "      <td>3306</td>\n",
              "      <td>54922</td>\n",
              "      <td>491</td>\n",
              "    </tr>\n",
              "    <tr>\n",
              "      <th>1</th>\n",
              "      <td>1.237650e+18</td>\n",
              "      <td>183.598370</td>\n",
              "      <td>0.135285</td>\n",
              "      <td>18.66280</td>\n",
              "      <td>17.21449</td>\n",
              "      <td>16.67637</td>\n",
              "      <td>16.48922</td>\n",
              "      <td>16.39150</td>\n",
              "      <td>752</td>\n",
              "      <td>301</td>\n",
              "      <td>4</td>\n",
              "      <td>267</td>\n",
              "      <td>3.638140e+17</td>\n",
              "      <td>STAR</td>\n",
              "      <td>-0.000055</td>\n",
              "      <td>323</td>\n",
              "      <td>51615</td>\n",
              "      <td>541</td>\n",
              "    </tr>\n",
              "    <tr>\n",
              "      <th>2</th>\n",
              "      <td>1.237650e+18</td>\n",
              "      <td>183.680207</td>\n",
              "      <td>0.126185</td>\n",
              "      <td>19.38298</td>\n",
              "      <td>18.19169</td>\n",
              "      <td>17.47428</td>\n",
              "      <td>17.08732</td>\n",
              "      <td>16.80125</td>\n",
              "      <td>752</td>\n",
              "      <td>301</td>\n",
              "      <td>4</td>\n",
              "      <td>268</td>\n",
              "      <td>3.232740e+17</td>\n",
              "      <td>GALAXY</td>\n",
              "      <td>0.123111</td>\n",
              "      <td>287</td>\n",
              "      <td>52023</td>\n",
              "      <td>513</td>\n",
              "    </tr>\n",
              "    <tr>\n",
              "      <th>3</th>\n",
              "      <td>1.237650e+18</td>\n",
              "      <td>183.870529</td>\n",
              "      <td>0.049911</td>\n",
              "      <td>17.76536</td>\n",
              "      <td>16.60272</td>\n",
              "      <td>16.16116</td>\n",
              "      <td>15.98233</td>\n",
              "      <td>15.90438</td>\n",
              "      <td>752</td>\n",
              "      <td>301</td>\n",
              "      <td>4</td>\n",
              "      <td>269</td>\n",
              "      <td>3.722370e+18</td>\n",
              "      <td>STAR</td>\n",
              "      <td>-0.000111</td>\n",
              "      <td>3306</td>\n",
              "      <td>54922</td>\n",
              "      <td>510</td>\n",
              "    </tr>\n",
              "    <tr>\n",
              "      <th>4</th>\n",
              "      <td>1.237650e+18</td>\n",
              "      <td>183.883288</td>\n",
              "      <td>0.102557</td>\n",
              "      <td>17.55025</td>\n",
              "      <td>16.26342</td>\n",
              "      <td>16.43869</td>\n",
              "      <td>16.55492</td>\n",
              "      <td>16.61326</td>\n",
              "      <td>752</td>\n",
              "      <td>301</td>\n",
              "      <td>4</td>\n",
              "      <td>269</td>\n",
              "      <td>3.722370e+18</td>\n",
              "      <td>STAR</td>\n",
              "      <td>0.000590</td>\n",
              "      <td>3306</td>\n",
              "      <td>54922</td>\n",
              "      <td>512</td>\n",
              "    </tr>\n",
              "  </tbody>\n",
              "</table>\n",
              "</div>\n",
              "      <button class=\"colab-df-convert\" onclick=\"convertToInteractive('df-e3359d6c-1bdb-454f-b850-8b27e8a5b607')\"\n",
              "              title=\"Convert this dataframe to an interactive table.\"\n",
              "              style=\"display:none;\">\n",
              "        \n",
              "  <svg xmlns=\"http://www.w3.org/2000/svg\" height=\"24px\"viewBox=\"0 0 24 24\"\n",
              "       width=\"24px\">\n",
              "    <path d=\"M0 0h24v24H0V0z\" fill=\"none\"/>\n",
              "    <path d=\"M18.56 5.44l.94 2.06.94-2.06 2.06-.94-2.06-.94-.94-2.06-.94 2.06-2.06.94zm-11 1L8.5 8.5l.94-2.06 2.06-.94-2.06-.94L8.5 2.5l-.94 2.06-2.06.94zm10 10l.94 2.06.94-2.06 2.06-.94-2.06-.94-.94-2.06-.94 2.06-2.06.94z\"/><path d=\"M17.41 7.96l-1.37-1.37c-.4-.4-.92-.59-1.43-.59-.52 0-1.04.2-1.43.59L10.3 9.45l-7.72 7.72c-.78.78-.78 2.05 0 2.83L4 21.41c.39.39.9.59 1.41.59.51 0 1.02-.2 1.41-.59l7.78-7.78 2.81-2.81c.8-.78.8-2.07 0-2.86zM5.41 20L4 18.59l7.72-7.72 1.47 1.35L5.41 20z\"/>\n",
              "  </svg>\n",
              "      </button>\n",
              "      \n",
              "  <style>\n",
              "    .colab-df-container {\n",
              "      display:flex;\n",
              "      flex-wrap:wrap;\n",
              "      gap: 12px;\n",
              "    }\n",
              "\n",
              "    .colab-df-convert {\n",
              "      background-color: #E8F0FE;\n",
              "      border: none;\n",
              "      border-radius: 50%;\n",
              "      cursor: pointer;\n",
              "      display: none;\n",
              "      fill: #1967D2;\n",
              "      height: 32px;\n",
              "      padding: 0 0 0 0;\n",
              "      width: 32px;\n",
              "    }\n",
              "\n",
              "    .colab-df-convert:hover {\n",
              "      background-color: #E2EBFA;\n",
              "      box-shadow: 0px 1px 2px rgba(60, 64, 67, 0.3), 0px 1px 3px 1px rgba(60, 64, 67, 0.15);\n",
              "      fill: #174EA6;\n",
              "    }\n",
              "\n",
              "    [theme=dark] .colab-df-convert {\n",
              "      background-color: #3B4455;\n",
              "      fill: #D2E3FC;\n",
              "    }\n",
              "\n",
              "    [theme=dark] .colab-df-convert:hover {\n",
              "      background-color: #434B5C;\n",
              "      box-shadow: 0px 1px 3px 1px rgba(0, 0, 0, 0.15);\n",
              "      filter: drop-shadow(0px 1px 2px rgba(0, 0, 0, 0.3));\n",
              "      fill: #FFFFFF;\n",
              "    }\n",
              "  </style>\n",
              "\n",
              "      <script>\n",
              "        const buttonEl =\n",
              "          document.querySelector('#df-e3359d6c-1bdb-454f-b850-8b27e8a5b607 button.colab-df-convert');\n",
              "        buttonEl.style.display =\n",
              "          google.colab.kernel.accessAllowed ? 'block' : 'none';\n",
              "\n",
              "        async function convertToInteractive(key) {\n",
              "          const element = document.querySelector('#df-e3359d6c-1bdb-454f-b850-8b27e8a5b607');\n",
              "          const dataTable =\n",
              "            await google.colab.kernel.invokeFunction('convertToInteractive',\n",
              "                                                     [key], {});\n",
              "          if (!dataTable) return;\n",
              "\n",
              "          const docLinkHtml = 'Like what you see? Visit the ' +\n",
              "            '<a target=\"_blank\" href=https://colab.research.google.com/notebooks/data_table.ipynb>data table notebook</a>'\n",
              "            + ' to learn more about interactive tables.';\n",
              "          element.innerHTML = '';\n",
              "          dataTable['output_type'] = 'display_data';\n",
              "          await google.colab.output.renderOutput(dataTable, element);\n",
              "          const docLink = document.createElement('div');\n",
              "          docLink.innerHTML = docLinkHtml;\n",
              "          element.appendChild(docLink);\n",
              "        }\n",
              "      </script>\n",
              "    </div>\n",
              "  </div>\n",
              "  "
            ]
          },
          "metadata": {},
          "execution_count": 28
        }
      ],
      "source": [
        "from google.colab import files\n",
        "uploaded = files.upload()\n",
        "sloan_survey = pd.read_csv(io.BytesIO(uploaded['sloan_survey.csv']))\n",
        "sloan_survey.head()"
      ]
    },
    {
      "cell_type": "markdown",
      "metadata": {
        "id": "ay20pejhRXQv"
      },
      "source": [
        "###II. First look"
      ]
    },
    {
      "cell_type": "code",
      "execution_count": null,
      "metadata": {
        "id": "Jq3GuLTWWw4V",
        "colab": {
          "base_uri": "https://localhost:8080/",
          "height": 250
        },
        "outputId": "68f8a790-43aa-4bcd-c7a0-424089eef86a"
      },
      "outputs": [
        {
          "output_type": "execute_result",
          "data": {
            "text/plain": [
              "    class         objid          ra       dec         u         g         r  \\\n",
              "0    STAR  1.237650e+18  183.531326  0.089693  19.47406  17.04240  15.94699   \n",
              "1    STAR  1.237650e+18  183.598370  0.135285  18.66280  17.21449  16.67637   \n",
              "2  GALAXY  1.237650e+18  183.680207  0.126185  19.38298  18.19169  17.47428   \n",
              "3    STAR  1.237650e+18  183.870529  0.049911  17.76536  16.60272  16.16116   \n",
              "4    STAR  1.237650e+18  183.883288  0.102557  17.55025  16.26342  16.43869   \n",
              "\n",
              "          i         z  run  rerun  camcol  field     specobjid  redshift  \\\n",
              "0  15.50342  15.22531  752    301       4    267  3.722360e+18 -0.000009   \n",
              "1  16.48922  16.39150  752    301       4    267  3.638140e+17 -0.000055   \n",
              "2  17.08732  16.80125  752    301       4    268  3.232740e+17  0.123111   \n",
              "3  15.98233  15.90438  752    301       4    269  3.722370e+18 -0.000111   \n",
              "4  16.55492  16.61326  752    301       4    269  3.722370e+18  0.000590   \n",
              "\n",
              "   plate    mjd  fiberid  \n",
              "0   3306  54922      491  \n",
              "1    323  51615      541  \n",
              "2    287  52023      513  \n",
              "3   3306  54922      510  \n",
              "4   3306  54922      512  "
            ],
            "text/html": [
              "\n",
              "  <div id=\"df-d4851030-15c9-4c32-9d03-2a47697c0abc\">\n",
              "    <div class=\"colab-df-container\">\n",
              "      <div>\n",
              "<style scoped>\n",
              "    .dataframe tbody tr th:only-of-type {\n",
              "        vertical-align: middle;\n",
              "    }\n",
              "\n",
              "    .dataframe tbody tr th {\n",
              "        vertical-align: top;\n",
              "    }\n",
              "\n",
              "    .dataframe thead th {\n",
              "        text-align: right;\n",
              "    }\n",
              "</style>\n",
              "<table border=\"1\" class=\"dataframe\">\n",
              "  <thead>\n",
              "    <tr style=\"text-align: right;\">\n",
              "      <th></th>\n",
              "      <th>class</th>\n",
              "      <th>objid</th>\n",
              "      <th>ra</th>\n",
              "      <th>dec</th>\n",
              "      <th>u</th>\n",
              "      <th>g</th>\n",
              "      <th>r</th>\n",
              "      <th>i</th>\n",
              "      <th>z</th>\n",
              "      <th>run</th>\n",
              "      <th>rerun</th>\n",
              "      <th>camcol</th>\n",
              "      <th>field</th>\n",
              "      <th>specobjid</th>\n",
              "      <th>redshift</th>\n",
              "      <th>plate</th>\n",
              "      <th>mjd</th>\n",
              "      <th>fiberid</th>\n",
              "    </tr>\n",
              "  </thead>\n",
              "  <tbody>\n",
              "    <tr>\n",
              "      <th>0</th>\n",
              "      <td>STAR</td>\n",
              "      <td>1.237650e+18</td>\n",
              "      <td>183.531326</td>\n",
              "      <td>0.089693</td>\n",
              "      <td>19.47406</td>\n",
              "      <td>17.04240</td>\n",
              "      <td>15.94699</td>\n",
              "      <td>15.50342</td>\n",
              "      <td>15.22531</td>\n",
              "      <td>752</td>\n",
              "      <td>301</td>\n",
              "      <td>4</td>\n",
              "      <td>267</td>\n",
              "      <td>3.722360e+18</td>\n",
              "      <td>-0.000009</td>\n",
              "      <td>3306</td>\n",
              "      <td>54922</td>\n",
              "      <td>491</td>\n",
              "    </tr>\n",
              "    <tr>\n",
              "      <th>1</th>\n",
              "      <td>STAR</td>\n",
              "      <td>1.237650e+18</td>\n",
              "      <td>183.598370</td>\n",
              "      <td>0.135285</td>\n",
              "      <td>18.66280</td>\n",
              "      <td>17.21449</td>\n",
              "      <td>16.67637</td>\n",
              "      <td>16.48922</td>\n",
              "      <td>16.39150</td>\n",
              "      <td>752</td>\n",
              "      <td>301</td>\n",
              "      <td>4</td>\n",
              "      <td>267</td>\n",
              "      <td>3.638140e+17</td>\n",
              "      <td>-0.000055</td>\n",
              "      <td>323</td>\n",
              "      <td>51615</td>\n",
              "      <td>541</td>\n",
              "    </tr>\n",
              "    <tr>\n",
              "      <th>2</th>\n",
              "      <td>GALAXY</td>\n",
              "      <td>1.237650e+18</td>\n",
              "      <td>183.680207</td>\n",
              "      <td>0.126185</td>\n",
              "      <td>19.38298</td>\n",
              "      <td>18.19169</td>\n",
              "      <td>17.47428</td>\n",
              "      <td>17.08732</td>\n",
              "      <td>16.80125</td>\n",
              "      <td>752</td>\n",
              "      <td>301</td>\n",
              "      <td>4</td>\n",
              "      <td>268</td>\n",
              "      <td>3.232740e+17</td>\n",
              "      <td>0.123111</td>\n",
              "      <td>287</td>\n",
              "      <td>52023</td>\n",
              "      <td>513</td>\n",
              "    </tr>\n",
              "    <tr>\n",
              "      <th>3</th>\n",
              "      <td>STAR</td>\n",
              "      <td>1.237650e+18</td>\n",
              "      <td>183.870529</td>\n",
              "      <td>0.049911</td>\n",
              "      <td>17.76536</td>\n",
              "      <td>16.60272</td>\n",
              "      <td>16.16116</td>\n",
              "      <td>15.98233</td>\n",
              "      <td>15.90438</td>\n",
              "      <td>752</td>\n",
              "      <td>301</td>\n",
              "      <td>4</td>\n",
              "      <td>269</td>\n",
              "      <td>3.722370e+18</td>\n",
              "      <td>-0.000111</td>\n",
              "      <td>3306</td>\n",
              "      <td>54922</td>\n",
              "      <td>510</td>\n",
              "    </tr>\n",
              "    <tr>\n",
              "      <th>4</th>\n",
              "      <td>STAR</td>\n",
              "      <td>1.237650e+18</td>\n",
              "      <td>183.883288</td>\n",
              "      <td>0.102557</td>\n",
              "      <td>17.55025</td>\n",
              "      <td>16.26342</td>\n",
              "      <td>16.43869</td>\n",
              "      <td>16.55492</td>\n",
              "      <td>16.61326</td>\n",
              "      <td>752</td>\n",
              "      <td>301</td>\n",
              "      <td>4</td>\n",
              "      <td>269</td>\n",
              "      <td>3.722370e+18</td>\n",
              "      <td>0.000590</td>\n",
              "      <td>3306</td>\n",
              "      <td>54922</td>\n",
              "      <td>512</td>\n",
              "    </tr>\n",
              "  </tbody>\n",
              "</table>\n",
              "</div>\n",
              "      <button class=\"colab-df-convert\" onclick=\"convertToInteractive('df-d4851030-15c9-4c32-9d03-2a47697c0abc')\"\n",
              "              title=\"Convert this dataframe to an interactive table.\"\n",
              "              style=\"display:none;\">\n",
              "        \n",
              "  <svg xmlns=\"http://www.w3.org/2000/svg\" height=\"24px\"viewBox=\"0 0 24 24\"\n",
              "       width=\"24px\">\n",
              "    <path d=\"M0 0h24v24H0V0z\" fill=\"none\"/>\n",
              "    <path d=\"M18.56 5.44l.94 2.06.94-2.06 2.06-.94-2.06-.94-.94-2.06-.94 2.06-2.06.94zm-11 1L8.5 8.5l.94-2.06 2.06-.94-2.06-.94L8.5 2.5l-.94 2.06-2.06.94zm10 10l.94 2.06.94-2.06 2.06-.94-2.06-.94-.94-2.06-.94 2.06-2.06.94z\"/><path d=\"M17.41 7.96l-1.37-1.37c-.4-.4-.92-.59-1.43-.59-.52 0-1.04.2-1.43.59L10.3 9.45l-7.72 7.72c-.78.78-.78 2.05 0 2.83L4 21.41c.39.39.9.59 1.41.59.51 0 1.02-.2 1.41-.59l7.78-7.78 2.81-2.81c.8-.78.8-2.07 0-2.86zM5.41 20L4 18.59l7.72-7.72 1.47 1.35L5.41 20z\"/>\n",
              "  </svg>\n",
              "      </button>\n",
              "      \n",
              "  <style>\n",
              "    .colab-df-container {\n",
              "      display:flex;\n",
              "      flex-wrap:wrap;\n",
              "      gap: 12px;\n",
              "    }\n",
              "\n",
              "    .colab-df-convert {\n",
              "      background-color: #E8F0FE;\n",
              "      border: none;\n",
              "      border-radius: 50%;\n",
              "      cursor: pointer;\n",
              "      display: none;\n",
              "      fill: #1967D2;\n",
              "      height: 32px;\n",
              "      padding: 0 0 0 0;\n",
              "      width: 32px;\n",
              "    }\n",
              "\n",
              "    .colab-df-convert:hover {\n",
              "      background-color: #E2EBFA;\n",
              "      box-shadow: 0px 1px 2px rgba(60, 64, 67, 0.3), 0px 1px 3px 1px rgba(60, 64, 67, 0.15);\n",
              "      fill: #174EA6;\n",
              "    }\n",
              "\n",
              "    [theme=dark] .colab-df-convert {\n",
              "      background-color: #3B4455;\n",
              "      fill: #D2E3FC;\n",
              "    }\n",
              "\n",
              "    [theme=dark] .colab-df-convert:hover {\n",
              "      background-color: #434B5C;\n",
              "      box-shadow: 0px 1px 3px 1px rgba(0, 0, 0, 0.15);\n",
              "      filter: drop-shadow(0px 1px 2px rgba(0, 0, 0, 0.3));\n",
              "      fill: #FFFFFF;\n",
              "    }\n",
              "  </style>\n",
              "\n",
              "      <script>\n",
              "        const buttonEl =\n",
              "          document.querySelector('#df-d4851030-15c9-4c32-9d03-2a47697c0abc button.colab-df-convert');\n",
              "        buttonEl.style.display =\n",
              "          google.colab.kernel.accessAllowed ? 'block' : 'none';\n",
              "\n",
              "        async function convertToInteractive(key) {\n",
              "          const element = document.querySelector('#df-d4851030-15c9-4c32-9d03-2a47697c0abc');\n",
              "          const dataTable =\n",
              "            await google.colab.kernel.invokeFunction('convertToInteractive',\n",
              "                                                     [key], {});\n",
              "          if (!dataTable) return;\n",
              "\n",
              "          const docLinkHtml = 'Like what you see? Visit the ' +\n",
              "            '<a target=\"_blank\" href=https://colab.research.google.com/notebooks/data_table.ipynb>data table notebook</a>'\n",
              "            + ' to learn more about interactive tables.';\n",
              "          element.innerHTML = '';\n",
              "          dataTable['output_type'] = 'display_data';\n",
              "          await google.colab.output.renderOutput(dataTable, element);\n",
              "          const docLink = document.createElement('div');\n",
              "          docLink.innerHTML = docLinkHtml;\n",
              "          element.appendChild(docLink);\n",
              "        }\n",
              "      </script>\n",
              "    </div>\n",
              "  </div>\n",
              "  "
            ]
          },
          "metadata": {},
          "execution_count": 29
        }
      ],
      "source": [
        "# Reordering the columns to see our dependent variable in the beginning\n",
        "cols_to_order = ['class']\n",
        "new_columns = cols_to_order + (sloan_survey.columns.drop(cols_to_order).tolist())\n",
        "sloan_survey = sloan_survey[new_columns]\n",
        "sloan_survey.head()"
      ]
    },
    {
      "cell_type": "code",
      "execution_count": null,
      "metadata": {
        "id": "PwjUI-6VXSAs",
        "colab": {
          "base_uri": "https://localhost:8080/"
        },
        "outputId": "97630cc3-225f-4989-e88a-2be70a5ed9ea"
      },
      "outputs": [
        {
          "output_type": "stream",
          "name": "stdout",
          "text": [
            "<class 'pandas.core.frame.DataFrame'>\n",
            "RangeIndex: 10000 entries, 0 to 9999\n",
            "Data columns (total 18 columns):\n",
            " #   Column     Non-Null Count  Dtype  \n",
            "---  ------     --------------  -----  \n",
            " 0   class      10000 non-null  object \n",
            " 1   objid      10000 non-null  float64\n",
            " 2   ra         10000 non-null  float64\n",
            " 3   dec        10000 non-null  float64\n",
            " 4   u          10000 non-null  float64\n",
            " 5   g          10000 non-null  float64\n",
            " 6   r          10000 non-null  float64\n",
            " 7   i          10000 non-null  float64\n",
            " 8   z          10000 non-null  float64\n",
            " 9   run        10000 non-null  int64  \n",
            " 10  rerun      10000 non-null  int64  \n",
            " 11  camcol     10000 non-null  int64  \n",
            " 12  field      10000 non-null  int64  \n",
            " 13  specobjid  10000 non-null  float64\n",
            " 14  redshift   10000 non-null  float64\n",
            " 15  plate      10000 non-null  int64  \n",
            " 16  mjd        10000 non-null  int64  \n",
            " 17  fiberid    10000 non-null  int64  \n",
            "dtypes: float64(10), int64(7), object(1)\n",
            "memory usage: 1.4+ MB\n"
          ]
        },
        {
          "output_type": "execute_result",
          "data": {
            "text/plain": [
              "pandas.core.frame.DataFrame"
            ]
          },
          "metadata": {},
          "execution_count": 30
        }
      ],
      "source": [
        "sloan_survey.info()\n",
        "type(sloan_survey)\n"
      ]
    },
    {
      "cell_type": "code",
      "execution_count": null,
      "metadata": {
        "id": "pGOddQPeT6iU",
        "colab": {
          "base_uri": "https://localhost:8080/"
        },
        "outputId": "7d91d04f-d34b-48a5-bc54-d5f3167a00ac"
      },
      "outputs": [
        {
          "output_type": "execute_result",
          "data": {
            "text/plain": [
              "(10000, 18)"
            ]
          },
          "metadata": {},
          "execution_count": 31
        }
      ],
      "source": [
        "# Lets first take a look at the shape of our data \n",
        "# Our database has 1000 observations and 18 variables/collumns\n",
        "\n",
        "sloan_survey.shape"
      ]
    },
    {
      "cell_type": "code",
      "execution_count": null,
      "metadata": {
        "id": "quX1Zug5U3Ob",
        "colab": {
          "base_uri": "https://localhost:8080/",
          "height": 364
        },
        "outputId": "d83a3d75-f4ec-4ee7-e022-653fa77efaea"
      },
      "outputs": [
        {
          "output_type": "execute_result",
          "data": {
            "text/plain": [
              "              objid            ra           dec             u             g  \\\n",
              "count  1.000000e+04  10000.000000  10000.000000  10000.000000  10000.000000   \n",
              "mean   1.237650e+18    175.529987     14.836148     18.619355     17.371931   \n",
              "std    1.577039e+05     47.783439     25.212207      0.828656      0.945457   \n",
              "min    1.237650e+18      8.235100     -5.382632     12.988970     12.799550   \n",
              "25%    1.237650e+18    157.370946     -0.539035     18.178035     16.815100   \n",
              "50%    1.237650e+18    180.394514      0.404166     18.853095     17.495135   \n",
              "75%    1.237650e+18    201.547279     35.649397     19.259232     18.010145   \n",
              "max    1.237650e+18    260.884382     68.542265     19.599900     19.918970   \n",
              "\n",
              "                  r             i             z           run    rerun  \\\n",
              "count  10000.000000  10000.000000  10000.000000  10000.000000  10000.0   \n",
              "mean      16.840963     16.583579     16.422833    981.034800    301.0   \n",
              "std        1.067764      1.141805      1.203188    273.305024      0.0   \n",
              "min       12.431600     11.947210     11.610410    308.000000    301.0   \n",
              "25%       16.173333     15.853705     15.618285    752.000000    301.0   \n",
              "50%       16.858770     16.554985     16.389945    756.000000    301.0   \n",
              "75%       17.512675     17.258550     17.141447   1331.000000    301.0   \n",
              "max       24.802040     28.179630     22.833060   1412.000000    301.0   \n",
              "\n",
              "             camcol         field     specobjid      redshift         plate  \\\n",
              "count  10000.000000  10000.000000  1.000000e+04  10000.000000  10000.000000   \n",
              "mean       3.648700    302.380100  1.645022e+18      0.143726   1460.986400   \n",
              "std        1.666183    162.577763  2.013998e+18      0.388774   1788.778371   \n",
              "min        1.000000     11.000000  2.995780e+17     -0.004136    266.000000   \n",
              "25%        2.000000    184.000000  3.389248e+17      0.000081    301.000000   \n",
              "50%        4.000000    299.000000  4.966580e+17      0.042591    441.000000   \n",
              "75%        5.000000    414.000000  2.881300e+18      0.092579   2559.000000   \n",
              "max        6.000000    768.000000  9.468830e+18      5.353854   8410.000000   \n",
              "\n",
              "                mjd       fiberid  \n",
              "count  10000.000000  10000.000000  \n",
              "mean   52943.533300    353.069400  \n",
              "std     1511.150651    206.298149  \n",
              "min    51578.000000      1.000000  \n",
              "25%    51900.000000    186.750000  \n",
              "50%    51997.000000    351.000000  \n",
              "75%    54468.000000    510.000000  \n",
              "max    57481.000000   1000.000000  "
            ],
            "text/html": [
              "\n",
              "  <div id=\"df-87a5cf41-11cc-400a-b926-754cf5efa9b9\">\n",
              "    <div class=\"colab-df-container\">\n",
              "      <div>\n",
              "<style scoped>\n",
              "    .dataframe tbody tr th:only-of-type {\n",
              "        vertical-align: middle;\n",
              "    }\n",
              "\n",
              "    .dataframe tbody tr th {\n",
              "        vertical-align: top;\n",
              "    }\n",
              "\n",
              "    .dataframe thead th {\n",
              "        text-align: right;\n",
              "    }\n",
              "</style>\n",
              "<table border=\"1\" class=\"dataframe\">\n",
              "  <thead>\n",
              "    <tr style=\"text-align: right;\">\n",
              "      <th></th>\n",
              "      <th>objid</th>\n",
              "      <th>ra</th>\n",
              "      <th>dec</th>\n",
              "      <th>u</th>\n",
              "      <th>g</th>\n",
              "      <th>r</th>\n",
              "      <th>i</th>\n",
              "      <th>z</th>\n",
              "      <th>run</th>\n",
              "      <th>rerun</th>\n",
              "      <th>camcol</th>\n",
              "      <th>field</th>\n",
              "      <th>specobjid</th>\n",
              "      <th>redshift</th>\n",
              "      <th>plate</th>\n",
              "      <th>mjd</th>\n",
              "      <th>fiberid</th>\n",
              "    </tr>\n",
              "  </thead>\n",
              "  <tbody>\n",
              "    <tr>\n",
              "      <th>count</th>\n",
              "      <td>1.000000e+04</td>\n",
              "      <td>10000.000000</td>\n",
              "      <td>10000.000000</td>\n",
              "      <td>10000.000000</td>\n",
              "      <td>10000.000000</td>\n",
              "      <td>10000.000000</td>\n",
              "      <td>10000.000000</td>\n",
              "      <td>10000.000000</td>\n",
              "      <td>10000.000000</td>\n",
              "      <td>10000.0</td>\n",
              "      <td>10000.000000</td>\n",
              "      <td>10000.000000</td>\n",
              "      <td>1.000000e+04</td>\n",
              "      <td>10000.000000</td>\n",
              "      <td>10000.000000</td>\n",
              "      <td>10000.000000</td>\n",
              "      <td>10000.000000</td>\n",
              "    </tr>\n",
              "    <tr>\n",
              "      <th>mean</th>\n",
              "      <td>1.237650e+18</td>\n",
              "      <td>175.529987</td>\n",
              "      <td>14.836148</td>\n",
              "      <td>18.619355</td>\n",
              "      <td>17.371931</td>\n",
              "      <td>16.840963</td>\n",
              "      <td>16.583579</td>\n",
              "      <td>16.422833</td>\n",
              "      <td>981.034800</td>\n",
              "      <td>301.0</td>\n",
              "      <td>3.648700</td>\n",
              "      <td>302.380100</td>\n",
              "      <td>1.645022e+18</td>\n",
              "      <td>0.143726</td>\n",
              "      <td>1460.986400</td>\n",
              "      <td>52943.533300</td>\n",
              "      <td>353.069400</td>\n",
              "    </tr>\n",
              "    <tr>\n",
              "      <th>std</th>\n",
              "      <td>1.577039e+05</td>\n",
              "      <td>47.783439</td>\n",
              "      <td>25.212207</td>\n",
              "      <td>0.828656</td>\n",
              "      <td>0.945457</td>\n",
              "      <td>1.067764</td>\n",
              "      <td>1.141805</td>\n",
              "      <td>1.203188</td>\n",
              "      <td>273.305024</td>\n",
              "      <td>0.0</td>\n",
              "      <td>1.666183</td>\n",
              "      <td>162.577763</td>\n",
              "      <td>2.013998e+18</td>\n",
              "      <td>0.388774</td>\n",
              "      <td>1788.778371</td>\n",
              "      <td>1511.150651</td>\n",
              "      <td>206.298149</td>\n",
              "    </tr>\n",
              "    <tr>\n",
              "      <th>min</th>\n",
              "      <td>1.237650e+18</td>\n",
              "      <td>8.235100</td>\n",
              "      <td>-5.382632</td>\n",
              "      <td>12.988970</td>\n",
              "      <td>12.799550</td>\n",
              "      <td>12.431600</td>\n",
              "      <td>11.947210</td>\n",
              "      <td>11.610410</td>\n",
              "      <td>308.000000</td>\n",
              "      <td>301.0</td>\n",
              "      <td>1.000000</td>\n",
              "      <td>11.000000</td>\n",
              "      <td>2.995780e+17</td>\n",
              "      <td>-0.004136</td>\n",
              "      <td>266.000000</td>\n",
              "      <td>51578.000000</td>\n",
              "      <td>1.000000</td>\n",
              "    </tr>\n",
              "    <tr>\n",
              "      <th>25%</th>\n",
              "      <td>1.237650e+18</td>\n",
              "      <td>157.370946</td>\n",
              "      <td>-0.539035</td>\n",
              "      <td>18.178035</td>\n",
              "      <td>16.815100</td>\n",
              "      <td>16.173333</td>\n",
              "      <td>15.853705</td>\n",
              "      <td>15.618285</td>\n",
              "      <td>752.000000</td>\n",
              "      <td>301.0</td>\n",
              "      <td>2.000000</td>\n",
              "      <td>184.000000</td>\n",
              "      <td>3.389248e+17</td>\n",
              "      <td>0.000081</td>\n",
              "      <td>301.000000</td>\n",
              "      <td>51900.000000</td>\n",
              "      <td>186.750000</td>\n",
              "    </tr>\n",
              "    <tr>\n",
              "      <th>50%</th>\n",
              "      <td>1.237650e+18</td>\n",
              "      <td>180.394514</td>\n",
              "      <td>0.404166</td>\n",
              "      <td>18.853095</td>\n",
              "      <td>17.495135</td>\n",
              "      <td>16.858770</td>\n",
              "      <td>16.554985</td>\n",
              "      <td>16.389945</td>\n",
              "      <td>756.000000</td>\n",
              "      <td>301.0</td>\n",
              "      <td>4.000000</td>\n",
              "      <td>299.000000</td>\n",
              "      <td>4.966580e+17</td>\n",
              "      <td>0.042591</td>\n",
              "      <td>441.000000</td>\n",
              "      <td>51997.000000</td>\n",
              "      <td>351.000000</td>\n",
              "    </tr>\n",
              "    <tr>\n",
              "      <th>75%</th>\n",
              "      <td>1.237650e+18</td>\n",
              "      <td>201.547279</td>\n",
              "      <td>35.649397</td>\n",
              "      <td>19.259232</td>\n",
              "      <td>18.010145</td>\n",
              "      <td>17.512675</td>\n",
              "      <td>17.258550</td>\n",
              "      <td>17.141447</td>\n",
              "      <td>1331.000000</td>\n",
              "      <td>301.0</td>\n",
              "      <td>5.000000</td>\n",
              "      <td>414.000000</td>\n",
              "      <td>2.881300e+18</td>\n",
              "      <td>0.092579</td>\n",
              "      <td>2559.000000</td>\n",
              "      <td>54468.000000</td>\n",
              "      <td>510.000000</td>\n",
              "    </tr>\n",
              "    <tr>\n",
              "      <th>max</th>\n",
              "      <td>1.237650e+18</td>\n",
              "      <td>260.884382</td>\n",
              "      <td>68.542265</td>\n",
              "      <td>19.599900</td>\n",
              "      <td>19.918970</td>\n",
              "      <td>24.802040</td>\n",
              "      <td>28.179630</td>\n",
              "      <td>22.833060</td>\n",
              "      <td>1412.000000</td>\n",
              "      <td>301.0</td>\n",
              "      <td>6.000000</td>\n",
              "      <td>768.000000</td>\n",
              "      <td>9.468830e+18</td>\n",
              "      <td>5.353854</td>\n",
              "      <td>8410.000000</td>\n",
              "      <td>57481.000000</td>\n",
              "      <td>1000.000000</td>\n",
              "    </tr>\n",
              "  </tbody>\n",
              "</table>\n",
              "</div>\n",
              "      <button class=\"colab-df-convert\" onclick=\"convertToInteractive('df-87a5cf41-11cc-400a-b926-754cf5efa9b9')\"\n",
              "              title=\"Convert this dataframe to an interactive table.\"\n",
              "              style=\"display:none;\">\n",
              "        \n",
              "  <svg xmlns=\"http://www.w3.org/2000/svg\" height=\"24px\"viewBox=\"0 0 24 24\"\n",
              "       width=\"24px\">\n",
              "    <path d=\"M0 0h24v24H0V0z\" fill=\"none\"/>\n",
              "    <path d=\"M18.56 5.44l.94 2.06.94-2.06 2.06-.94-2.06-.94-.94-2.06-.94 2.06-2.06.94zm-11 1L8.5 8.5l.94-2.06 2.06-.94-2.06-.94L8.5 2.5l-.94 2.06-2.06.94zm10 10l.94 2.06.94-2.06 2.06-.94-2.06-.94-.94-2.06-.94 2.06-2.06.94z\"/><path d=\"M17.41 7.96l-1.37-1.37c-.4-.4-.92-.59-1.43-.59-.52 0-1.04.2-1.43.59L10.3 9.45l-7.72 7.72c-.78.78-.78 2.05 0 2.83L4 21.41c.39.39.9.59 1.41.59.51 0 1.02-.2 1.41-.59l7.78-7.78 2.81-2.81c.8-.78.8-2.07 0-2.86zM5.41 20L4 18.59l7.72-7.72 1.47 1.35L5.41 20z\"/>\n",
              "  </svg>\n",
              "      </button>\n",
              "      \n",
              "  <style>\n",
              "    .colab-df-container {\n",
              "      display:flex;\n",
              "      flex-wrap:wrap;\n",
              "      gap: 12px;\n",
              "    }\n",
              "\n",
              "    .colab-df-convert {\n",
              "      background-color: #E8F0FE;\n",
              "      border: none;\n",
              "      border-radius: 50%;\n",
              "      cursor: pointer;\n",
              "      display: none;\n",
              "      fill: #1967D2;\n",
              "      height: 32px;\n",
              "      padding: 0 0 0 0;\n",
              "      width: 32px;\n",
              "    }\n",
              "\n",
              "    .colab-df-convert:hover {\n",
              "      background-color: #E2EBFA;\n",
              "      box-shadow: 0px 1px 2px rgba(60, 64, 67, 0.3), 0px 1px 3px 1px rgba(60, 64, 67, 0.15);\n",
              "      fill: #174EA6;\n",
              "    }\n",
              "\n",
              "    [theme=dark] .colab-df-convert {\n",
              "      background-color: #3B4455;\n",
              "      fill: #D2E3FC;\n",
              "    }\n",
              "\n",
              "    [theme=dark] .colab-df-convert:hover {\n",
              "      background-color: #434B5C;\n",
              "      box-shadow: 0px 1px 3px 1px rgba(0, 0, 0, 0.15);\n",
              "      filter: drop-shadow(0px 1px 2px rgba(0, 0, 0, 0.3));\n",
              "      fill: #FFFFFF;\n",
              "    }\n",
              "  </style>\n",
              "\n",
              "      <script>\n",
              "        const buttonEl =\n",
              "          document.querySelector('#df-87a5cf41-11cc-400a-b926-754cf5efa9b9 button.colab-df-convert');\n",
              "        buttonEl.style.display =\n",
              "          google.colab.kernel.accessAllowed ? 'block' : 'none';\n",
              "\n",
              "        async function convertToInteractive(key) {\n",
              "          const element = document.querySelector('#df-87a5cf41-11cc-400a-b926-754cf5efa9b9');\n",
              "          const dataTable =\n",
              "            await google.colab.kernel.invokeFunction('convertToInteractive',\n",
              "                                                     [key], {});\n",
              "          if (!dataTable) return;\n",
              "\n",
              "          const docLinkHtml = 'Like what you see? Visit the ' +\n",
              "            '<a target=\"_blank\" href=https://colab.research.google.com/notebooks/data_table.ipynb>data table notebook</a>'\n",
              "            + ' to learn more about interactive tables.';\n",
              "          element.innerHTML = '';\n",
              "          dataTable['output_type'] = 'display_data';\n",
              "          await google.colab.output.renderOutput(dataTable, element);\n",
              "          const docLink = document.createElement('div');\n",
              "          docLink.innerHTML = docLinkHtml;\n",
              "          element.appendChild(docLink);\n",
              "        }\n",
              "      </script>\n",
              "    </div>\n",
              "  </div>\n",
              "  "
            ]
          },
          "metadata": {},
          "execution_count": 32
        }
      ],
      "source": [
        "sloan_survey.describe()"
      ]
    },
    {
      "cell_type": "markdown",
      "metadata": {
        "id": "ZClXlHlIPtIA"
      },
      "source": [
        "\\\\\n",
        "\n",
        "###III. Selecting relevant variables based on df documentation: \n"
      ]
    },
    {
      "cell_type": "code",
      "execution_count": null,
      "metadata": {
        "id": "GDm9eMGrP3wB"
      },
      "outputs": [],
      "source": [
        "sloan_survey = sloan_survey.drop(columns=['objid', 'run','rerun','camcol','specobjid'])\n",
        "#objid and specobjid are just different forms of identification - we do not need them to run the models\n",
        "#the Camera column (camcol), the Rerun Number (rerun), and the Run number (run) are also just technical identifications  "
      ]
    },
    {
      "cell_type": "markdown",
      "metadata": {
        "id": "oEKjhetpRA04"
      },
      "source": [
        "\\\\\n",
        "\n",
        "###IV. Data Visualization: Univariate and Bivariate Analysis\n",
        "(based on: https://www.kaggle.com/code/sanchitvj/sdss-dr16-data-analysis/notebook)\n",
        "\n",
        "\\\\\n",
        "\n",
        "Dependent Variable - Class"
      ]
    },
    {
      "cell_type": "code",
      "execution_count": null,
      "metadata": {
        "id": "H7X4Dze2SCaj",
        "colab": {
          "base_uri": "https://localhost:8080/",
          "height": 478
        },
        "outputId": "c3926b1a-9d9b-4412-ed4c-bc37dea8fe29"
      },
      "outputs": [
        {
          "output_type": "stream",
          "name": "stderr",
          "text": [
            "/usr/local/lib/python3.7/dist-packages/seaborn/_decorators.py:43: FutureWarning: Pass the following variable as a keyword arg: x. From version 0.12, the only valid positional argument will be `data`, and passing other arguments without an explicit keyword will result in an error or misinterpretation.\n",
            "  FutureWarning\n"
          ]
        },
        {
          "output_type": "execute_result",
          "data": {
            "text/plain": [
              "<matplotlib.axes._subplots.AxesSubplot at 0x7f7496c141d0>"
            ]
          },
          "metadata": {},
          "execution_count": 34
        },
        {
          "output_type": "display_data",
          "data": {
            "text/plain": [
              "<Figure size 576x432 with 1 Axes>"
            ],
            "image/png": "[encoded data removed]"
          },
          "metadata": {}
        }
      ],
      "source": [
        "sns.set_style('darkgrid')\n",
        "plt.figure(figsize = (8, 6))\n",
        "plt.title('Count of Observations by Class')\n",
        "sns.countplot(sloan_survey['class'], palette = 'magma')"
      ]
    },
    {
      "cell_type": "markdown",
      "source": [
        "The figure above shows that our interest variable is unbalanced, since we have much more observations from GALAXY and STAR classes. "
      ],
      "metadata": {
        "id": "M-1sg_NsAP5H"
      }
    },
    {
      "cell_type": "markdown",
      "metadata": {
        "id": "SOoHXdw8S-ZW"
      },
      "source": [
        "\\\\\n",
        "\n",
        "How our dependent varibale relates to \"redshift\".\n",
        "\n",
        "Obs: Redshift - how much light of that celestial body is captured by the telescope."
      ]
    },
    {
      "cell_type": "code",
      "execution_count": null,
      "metadata": {
        "id": "TJZzNOPUS9fA"
      },
      "outputs": [],
      "source": [
        "fig, (ax1, ax2, ax3) = plt.subplots(ncols = 3, figsize = (24, 6))\n",
        "sns.distplot(sloan_survey[sloan_survey['class'] == 'STAR'].redshift, ax = ax1, bins = 30, color = 'g')\n",
        "sns.distplot(sloan_survey[sloan_survey['class'] == 'GALAXY'].redshift, ax = ax2, bins = 30, color = 'r')\n",
        "sns.distplot(sloan_survey[sloan_survey['class'] == 'QSO'].redshift, ax = ax3, bins = 30, color = 'b')"
      ]
    },
    {
      "cell_type": "markdown",
      "metadata": {
        "id": "PpTkkuB1UOBv"
      },
      "source": [
        "\\\\\n",
        "\n",
        "Correlation Matrix"
      ]
    },
    {
      "cell_type": "code",
      "execution_count": null,
      "metadata": {
        "id": "ks8ThZ8hUexf",
        "colab": {
          "base_uri": "https://localhost:8080/",
          "height": 505
        },
        "outputId": "f01c1a92-309d-4304-e11f-f0dff0732628"
      },
      "outputs": [
        {
          "output_type": "execute_result",
          "data": {
            "text/plain": [
              "<matplotlib.axes._subplots.AxesSubplot at 0x7f7494a34550>"
            ]
          },
          "metadata": {},
          "execution_count": 36
        },
        {
          "output_type": "display_data",
          "data": {
            "text/plain": [
              "<Figure size 720x576 with 2 Axes>"
            ],
            "image/png": "[encoded data removed]"
          },
          "metadata": {}
        }
      ],
      "source": [
        "corr = sloan_survey.corr()\n",
        "plt.figure(figsize = (10, 8))\n",
        "sns.heatmap(corr, annot = True)"
      ]
    },
    {
      "cell_type": "markdown",
      "metadata": {
        "id": "ZQ3Gps4saKwB"
      },
      "source": [
        "\\\\\n",
        "###V. Data Visualization: Univariate and Bivariate Analysis\n",
        "\\\\\n",
        "\n",
        "###Encoding Dependent Variable \n",
        "\n",
        "To be able to run the models, we will make an encoding of the dependent variable. From \"object\" let's change it to \"int64\"."
      ]
    },
    {
      "cell_type": "code",
      "execution_count": null,
      "metadata": {
        "id": "vGIr5En_YdIk",
        "colab": {
          "base_uri": "https://localhost:8080/"
        },
        "outputId": "42de834d-2e78-4793-ce8e-c36cbd682318"
      },
      "outputs": [
        {
          "output_type": "execute_result",
          "data": {
            "text/plain": [
              "array(['STAR', 'GALAXY', 'QSO'], dtype=object)"
            ]
          },
          "metadata": {},
          "execution_count": 37
        }
      ],
      "source": [
        "sloan_survey[\"class\"].unique()"
      ]
    },
    {
      "cell_type": "code",
      "execution_count": null,
      "metadata": {
        "id": "PLmwDttZSYyO",
        "colab": {
          "base_uri": "https://localhost:8080/"
        },
        "outputId": "1a7685a4-3748-4445-9580-27ffc7bd1ff6"
      },
      "outputs": [
        {
          "output_type": "execute_result",
          "data": {
            "text/plain": [
              "GALAXY    4998\n",
              "STAR      4152\n",
              "QSO        850\n",
              "Name: class, dtype: int64"
            ]
          },
          "metadata": {},
          "execution_count": 38
        }
      ],
      "source": [
        "sloan_survey['class'].value_counts()"
      ]
    },
    {
      "cell_type": "code",
      "execution_count": null,
      "metadata": {
        "id": "YplhY-fnbJsT"
      },
      "outputs": [],
      "source": [
        "sloan_survey.rename(columns = {'class':'Class'}, inplace = True)"
      ]
    },
    {
      "cell_type": "code",
      "execution_count": null,
      "metadata": {
        "id": "uAKWTK08bADH",
        "colab": {
          "base_uri": "https://localhost:8080/",
          "height": 424
        },
        "outputId": "e68e080b-fa10-4654-eecc-f654d6e14926"
      },
      "outputs": [
        {
          "output_type": "execute_result",
          "data": {
            "text/plain": [
              "      Class          ra        dec         u         g         r         i  \\\n",
              "0         1  183.531326   0.089693  19.47406  17.04240  15.94699  15.50342   \n",
              "1         1  183.598370   0.135285  18.66280  17.21449  16.67637  16.48922   \n",
              "2         2  183.680207   0.126185  19.38298  18.19169  17.47428  17.08732   \n",
              "3         1  183.870529   0.049911  17.76536  16.60272  16.16116  15.98233   \n",
              "4         1  183.883288   0.102557  17.55025  16.26342  16.43869  16.55492   \n",
              "...     ...         ...        ...       ...       ...       ...       ...   \n",
              "9995      2  131.316413  51.539547  18.81777  17.47053  16.91508  16.68305   \n",
              "9996      2  131.306083  51.671341  18.27255  17.43849  17.07692  16.71661   \n",
              "9997      1  131.552562  51.666986  18.75818  17.77784  17.51872  17.43302   \n",
              "9998      2  131.477151  51.753068  18.88287  17.91068  17.53152  17.36284   \n",
              "9999      2  131.665012  51.805307  19.27586  17.37829  16.30542  15.83548   \n",
              "\n",
              "             z  field  redshift  plate    mjd  fiberid  \n",
              "0     15.22531    267 -0.000009   3306  54922      491  \n",
              "1     16.39150    267 -0.000055    323  51615      541  \n",
              "2     16.80125    268  0.123111    287  52023      513  \n",
              "3     15.90438    269 -0.000111   3306  54922      510  \n",
              "4     16.61326    269  0.000590   3306  54922      512  \n",
              "...        ...    ...       ...    ...    ...      ...  \n",
              "9995  16.50570    161  0.027583    447  51877      246  \n",
              "9996  16.69897    162  0.117772    447  51877      228  \n",
              "9997  17.42048    162 -0.000402   7303  57013      622  \n",
              "9998  17.13988    163  0.014019    447  51877      229  \n",
              "9999  15.50588    163  0.118417    447  51877      233  \n",
              "\n",
              "[10000 rows x 13 columns]"
            ],
            "text/html": [
              "\n",
              "  <div id=\"df-11d4871a-21f5-4426-8ac1-52ae87ce351b\">\n",
              "    <div class=\"colab-df-container\">\n",
              "      <div>\n",
              "<style scoped>\n",
              "    .dataframe tbody tr th:only-of-type {\n",
              "        vertical-align: middle;\n",
              "    }\n",
              "\n",
              "    .dataframe tbody tr th {\n",
              "        vertical-align: top;\n",
              "    }\n",
              "\n",
              "    .dataframe thead th {\n",
              "        text-align: right;\n",
              "    }\n",
              "</style>\n",
              "<table border=\"1\" class=\"dataframe\">\n",
              "  <thead>\n",
              "    <tr style=\"text-align: right;\">\n",
              "      <th></th>\n",
              "      <th>Class</th>\n",
              "      <th>ra</th>\n",
              "      <th>dec</th>\n",
              "      <th>u</th>\n",
              "      <th>g</th>\n",
              "      <th>r</th>\n",
              "      <th>i</th>\n",
              "      <th>z</th>\n",
              "      <th>field</th>\n",
              "      <th>redshift</th>\n",
              "      <th>plate</th>\n",
              "      <th>mjd</th>\n",
              "      <th>fiberid</th>\n",
              "    </tr>\n",
              "  </thead>\n",
              "  <tbody>\n",
              "    <tr>\n",
              "      <th>0</th>\n",
              "      <td>1</td>\n",
              "      <td>183.531326</td>\n",
              "      <td>0.089693</td>\n",
              "      <td>19.47406</td>\n",
              "      <td>17.04240</td>\n",
              "      <td>15.94699</td>\n",
              "      <td>15.50342</td>\n",
              "      <td>15.22531</td>\n",
              "      <td>267</td>\n",
              "      <td>-0.000009</td>\n",
              "      <td>3306</td>\n",
              "      <td>54922</td>\n",
              "      <td>491</td>\n",
              "    </tr>\n",
              "    <tr>\n",
              "      <th>1</th>\n",
              "      <td>1</td>\n",
              "      <td>183.598370</td>\n",
              "      <td>0.135285</td>\n",
              "      <td>18.66280</td>\n",
              "      <td>17.21449</td>\n",
              "      <td>16.67637</td>\n",
              "      <td>16.48922</td>\n",
              "      <td>16.39150</td>\n",
              "      <td>267</td>\n",
              "      <td>-0.000055</td>\n",
              "      <td>323</td>\n",
              "      <td>51615</td>\n",
              "      <td>541</td>\n",
              "    </tr>\n",
              "    <tr>\n",
              "      <th>2</th>\n",
              "      <td>2</td>\n",
              "      <td>183.680207</td>\n",
              "      <td>0.126185</td>\n",
              "      <td>19.38298</td>\n",
              "      <td>18.19169</td>\n",
              "      <td>17.47428</td>\n",
              "      <td>17.08732</td>\n",
              "      <td>16.80125</td>\n",
              "      <td>268</td>\n",
              "      <td>0.123111</td>\n",
              "      <td>287</td>\n",
              "      <td>52023</td>\n",
              "      <td>513</td>\n",
              "    </tr>\n",
              "    <tr>\n",
              "      <th>3</th>\n",
              "      <td>1</td>\n",
              "      <td>183.870529</td>\n",
              "      <td>0.049911</td>\n",
              "      <td>17.76536</td>\n",
              "      <td>16.60272</td>\n",
              "      <td>16.16116</td>\n",
              "      <td>15.98233</td>\n",
              "      <td>15.90438</td>\n",
              "      <td>269</td>\n",
              "      <td>-0.000111</td>\n",
              "      <td>3306</td>\n",
              "      <td>54922</td>\n",
              "      <td>510</td>\n",
              "    </tr>\n",
              "    <tr>\n",
              "      <th>4</th>\n",
              "      <td>1</td>\n",
              "      <td>183.883288</td>\n",
              "      <td>0.102557</td>\n",
              "      <td>17.55025</td>\n",
              "      <td>16.26342</td>\n",
              "      <td>16.43869</td>\n",
              "      <td>16.55492</td>\n",
              "      <td>16.61326</td>\n",
              "      <td>269</td>\n",
              "      <td>0.000590</td>\n",
              "      <td>3306</td>\n",
              "      <td>54922</td>\n",
              "      <td>512</td>\n",
              "    </tr>\n",
              "    <tr>\n",
              "      <th>...</th>\n",
              "      <td>...</td>\n",
              "      <td>...</td>\n",
              "      <td>...</td>\n",
              "      <td>...</td>\n",
              "      <td>...</td>\n",
              "      <td>...</td>\n",
              "      <td>...</td>\n",
              "      <td>...</td>\n",
              "      <td>...</td>\n",
              "      <td>...</td>\n",
              "      <td>...</td>\n",
              "      <td>...</td>\n",
              "      <td>...</td>\n",
              "    </tr>\n",
              "    <tr>\n",
              "      <th>9995</th>\n",
              "      <td>2</td>\n",
              "      <td>131.316413</td>\n",
              "      <td>51.539547</td>\n",
              "      <td>18.81777</td>\n",
              "      <td>17.47053</td>\n",
              "      <td>16.91508</td>\n",
              "      <td>16.68305</td>\n",
              "      <td>16.50570</td>\n",
              "      <td>161</td>\n",
              "      <td>0.027583</td>\n",
              "      <td>447</td>\n",
              "      <td>51877</td>\n",
              "      <td>246</td>\n",
              "    </tr>\n",
              "    <tr>\n",
              "      <th>9996</th>\n",
              "      <td>2</td>\n",
              "      <td>131.306083</td>\n",
              "      <td>51.671341</td>\n",
              "      <td>18.27255</td>\n",
              "      <td>17.43849</td>\n",
              "      <td>17.07692</td>\n",
              "      <td>16.71661</td>\n",
              "      <td>16.69897</td>\n",
              "      <td>162</td>\n",
              "      <td>0.117772</td>\n",
              "      <td>447</td>\n",
              "      <td>51877</td>\n",
              "      <td>228</td>\n",
              "    </tr>\n",
              "    <tr>\n",
              "      <th>9997</th>\n",
              "      <td>1</td>\n",
              "      <td>131.552562</td>\n",
              "      <td>51.666986</td>\n",
              "      <td>18.75818</td>\n",
              "      <td>17.77784</td>\n",
              "      <td>17.51872</td>\n",
              "      <td>17.43302</td>\n",
              "      <td>17.42048</td>\n",
              "      <td>162</td>\n",
              "      <td>-0.000402</td>\n",
              "      <td>7303</td>\n",
              "      <td>57013</td>\n",
              "      <td>622</td>\n",
              "    </tr>\n",
              "    <tr>\n",
              "      <th>9998</th>\n",
              "      <td>2</td>\n",
              "      <td>131.477151</td>\n",
              "      <td>51.753068</td>\n",
              "      <td>18.88287</td>\n",
              "      <td>17.91068</td>\n",
              "      <td>17.53152</td>\n",
              "      <td>17.36284</td>\n",
              "      <td>17.13988</td>\n",
              "      <td>163</td>\n",
              "      <td>0.014019</td>\n",
              "      <td>447</td>\n",
              "      <td>51877</td>\n",
              "      <td>229</td>\n",
              "    </tr>\n",
              "    <tr>\n",
              "      <th>9999</th>\n",
              "      <td>2</td>\n",
              "      <td>131.665012</td>\n",
              "      <td>51.805307</td>\n",
              "      <td>19.27586</td>\n",
              "      <td>17.37829</td>\n",
              "      <td>16.30542</td>\n",
              "      <td>15.83548</td>\n",
              "      <td>15.50588</td>\n",
              "      <td>163</td>\n",
              "      <td>0.118417</td>\n",
              "      <td>447</td>\n",
              "      <td>51877</td>\n",
              "      <td>233</td>\n",
              "    </tr>\n",
              "  </tbody>\n",
              "</table>\n",
              "<p>10000 rows × 13 columns</p>\n",
              "</div>\n",
              "      <button class=\"colab-df-convert\" onclick=\"convertToInteractive('df-11d4871a-21f5-4426-8ac1-52ae87ce351b')\"\n",
              "              title=\"Convert this dataframe to an interactive table.\"\n",
              "              style=\"display:none;\">\n",
              "        \n",
              "  <svg xmlns=\"http://www.w3.org/2000/svg\" height=\"24px\"viewBox=\"0 0 24 24\"\n",
              "       width=\"24px\">\n",
              "    <path d=\"M0 0h24v24H0V0z\" fill=\"none\"/>\n",
              "    <path d=\"M18.56 5.44l.94 2.06.94-2.06 2.06-.94-2.06-.94-.94-2.06-.94 2.06-2.06.94zm-11 1L8.5 8.5l.94-2.06 2.06-.94-2.06-.94L8.5 2.5l-.94 2.06-2.06.94zm10 10l.94 2.06.94-2.06 2.06-.94-2.06-.94-.94-2.06-.94 2.06-2.06.94z\"/><path d=\"M17.41 7.96l-1.37-1.37c-.4-.4-.92-.59-1.43-.59-.52 0-1.04.2-1.43.59L10.3 9.45l-7.72 7.72c-.78.78-.78 2.05 0 2.83L4 21.41c.39.39.9.59 1.41.59.51 0 1.02-.2 1.41-.59l7.78-7.78 2.81-2.81c.8-.78.8-2.07 0-2.86zM5.41 20L4 18.59l7.72-7.72 1.47 1.35L5.41 20z\"/>\n",
              "  </svg>\n",
              "      </button>\n",
              "      \n",
              "  <style>\n",
              "    .colab-df-container {\n",
              "      display:flex;\n",
              "      flex-wrap:wrap;\n",
              "      gap: 12px;\n",
              "    }\n",
              "\n",
              "    .colab-df-convert {\n",
              "      background-color: #E8F0FE;\n",
              "      border: none;\n",
              "      border-radius: 50%;\n",
              "      cursor: pointer;\n",
              "      display: none;\n",
              "      fill: #1967D2;\n",
              "      height: 32px;\n",
              "      padding: 0 0 0 0;\n",
              "      width: 32px;\n",
              "    }\n",
              "\n",
              "    .colab-df-convert:hover {\n",
              "      background-color: #E2EBFA;\n",
              "      box-shadow: 0px 1px 2px rgba(60, 64, 67, 0.3), 0px 1px 3px 1px rgba(60, 64, 67, 0.15);\n",
              "      fill: #174EA6;\n",
              "    }\n",
              "\n",
              "    [theme=dark] .colab-df-convert {\n",
              "      background-color: #3B4455;\n",
              "      fill: #D2E3FC;\n",
              "    }\n",
              "\n",
              "    [theme=dark] .colab-df-convert:hover {\n",
              "      background-color: #434B5C;\n",
              "      box-shadow: 0px 1px 3px 1px rgba(0, 0, 0, 0.15);\n",
              "      filter: drop-shadow(0px 1px 2px rgba(0, 0, 0, 0.3));\n",
              "      fill: #FFFFFF;\n",
              "    }\n",
              "  </style>\n",
              "\n",
              "      <script>\n",
              "        const buttonEl =\n",
              "          document.querySelector('#df-11d4871a-21f5-4426-8ac1-52ae87ce351b button.colab-df-convert');\n",
              "        buttonEl.style.display =\n",
              "          google.colab.kernel.accessAllowed ? 'block' : 'none';\n",
              "\n",
              "        async function convertToInteractive(key) {\n",
              "          const element = document.querySelector('#df-11d4871a-21f5-4426-8ac1-52ae87ce351b');\n",
              "          const dataTable =\n",
              "            await google.colab.kernel.invokeFunction('convertToInteractive',\n",
              "                                                     [key], {});\n",
              "          if (!dataTable) return;\n",
              "\n",
              "          const docLinkHtml = 'Like what you see? Visit the ' +\n",
              "            '<a target=\"_blank\" href=https://colab.research.google.com/notebooks/data_table.ipynb>data table notebook</a>'\n",
              "            + ' to learn more about interactive tables.';\n",
              "          element.innerHTML = '';\n",
              "          dataTable['output_type'] = 'display_data';\n",
              "          await google.colab.output.renderOutput(dataTable, element);\n",
              "          const docLink = document.createElement('div');\n",
              "          docLink.innerHTML = docLinkHtml;\n",
              "          element.appendChild(docLink);\n",
              "        }\n",
              "      </script>\n",
              "    </div>\n",
              "  </div>\n",
              "  "
            ]
          },
          "metadata": {},
          "execution_count": 40
        }
      ],
      "source": [
        "sloan_survey.Class = sloan_survey.replace(\n",
        "    {\"Class\": {'STAR': 1, \n",
        "               'GALAXY': 2,\n",
        "               'QSO': 3,\n",
        "              }}                \n",
        "                  ).Class \n",
        "sloan_survey  "
      ]
    },
    {
      "cell_type": "code",
      "source": [
        "sloan_survey.info()\n",
        "type(sloan_survey)"
      ],
      "metadata": {
        "colab": {
          "base_uri": "https://localhost:8080/"
        },
        "id": "drzFWkFSwmQu",
        "outputId": "c3d34589-4cf9-49ec-a987-62a894d0d99d"
      },
      "execution_count": null,
      "outputs": [
        {
          "output_type": "stream",
          "name": "stdout",
          "text": [
            "<class 'pandas.core.frame.DataFrame'>\n",
            "RangeIndex: 10000 entries, 0 to 9999\n",
            "Data columns (total 13 columns):\n",
            " #   Column    Non-Null Count  Dtype  \n",
            "---  ------    --------------  -----  \n",
            " 0   Class     10000 non-null  int64  \n",
            " 1   ra        10000 non-null  float64\n",
            " 2   dec       10000 non-null  float64\n",
            " 3   u         10000 non-null  float64\n",
            " 4   g         10000 non-null  float64\n",
            " 5   r         10000 non-null  float64\n",
            " 6   i         10000 non-null  float64\n",
            " 7   z         10000 non-null  float64\n",
            " 8   field     10000 non-null  int64  \n",
            " 9   redshift  10000 non-null  float64\n",
            " 10  plate     10000 non-null  int64  \n",
            " 11  mjd       10000 non-null  int64  \n",
            " 12  fiberid   10000 non-null  int64  \n",
            "dtypes: float64(8), int64(5)\n",
            "memory usage: 1015.8 KB\n"
          ]
        },
        {
          "output_type": "execute_result",
          "data": {
            "text/plain": [
              "pandas.core.frame.DataFrame"
            ]
          },
          "metadata": {},
          "execution_count": 41
        }
      ]
    },
    {
      "cell_type": "markdown",
      "metadata": {
        "id": "CVm7Ksw-VRGS"
      },
      "source": [
        "### Selecting Features by applying Principal Component Analysis (PCA)\n",
        "As we saw in the correlation map, features u, g, r, i, z are highly correlated. So we will use PCA to reduce from five resources to three and have better accuracy.\n",
        "\n"
      ]
    },
    {
      "cell_type": "code",
      "execution_count": null,
      "metadata": {
        "id": "RfQS9DfLVMks",
        "colab": {
          "base_uri": "https://localhost:8080/",
          "height": 424
        },
        "outputId": "d9438dcc-2909-4bcc-a6a1-c276b01284e9"
      },
      "outputs": [
        {
          "output_type": "execute_result",
          "data": {
            "text/plain": [
              "      Class          ra        dec  field  redshift  plate    mjd  fiberid  \\\n",
              "0         1  183.531326   0.089693    267 -0.000009   3306  54922      491   \n",
              "1         1  183.598370   0.135285    267 -0.000055    323  51615      541   \n",
              "2         2  183.680207   0.126185    268  0.123111    287  52023      513   \n",
              "3         1  183.870529   0.049911    269 -0.000111   3306  54922      510   \n",
              "4         1  183.883288   0.102557    269  0.000590   3306  54922      512   \n",
              "...     ...         ...        ...    ...       ...    ...    ...      ...   \n",
              "9995      2  131.316413  51.539547    161  0.027583    447  51877      246   \n",
              "9996      2  131.306083  51.671341    162  0.117772    447  51877      228   \n",
              "9997      1  131.552562  51.666986    162 -0.000402   7303  57013      622   \n",
              "9998      2  131.477151  51.753068    163  0.014019    447  51877      229   \n",
              "9999      2  131.665012  51.805307    163  0.118417    447  51877      233   \n",
              "\n",
              "            F1        F2        F3  \n",
              "0    -1.507202 -1.377293 -0.265119  \n",
              "1    -0.195758 -0.028410 -0.155695  \n",
              "2     1.297604 -0.590023  0.140338  \n",
              "3    -1.446117  0.566685 -0.009272  \n",
              "4    -0.849271  1.287505 -0.397689  \n",
              "...        ...       ...       ...  \n",
              "9995  0.222959 -0.134301 -0.057857  \n",
              "9996  0.259171  0.415333  0.158501  \n",
              "9997  1.480725  0.388717 -0.126646  \n",
              "9998  1.392088  0.117004  0.038818  \n",
              "9999 -0.936205 -1.113215 -0.001130  \n",
              "\n",
              "[10000 rows x 11 columns]"
            ],
            "text/html": [
              "\n",
              "  <div id=\"df-b8e4bd29-3213-41e3-a286-a92e3d5170fa\">\n",
              "    <div class=\"colab-df-container\">\n",
              "      <div>\n",
              "<style scoped>\n",
              "    .dataframe tbody tr th:only-of-type {\n",
              "        vertical-align: middle;\n",
              "    }\n",
              "\n",
              "    .dataframe tbody tr th {\n",
              "        vertical-align: top;\n",
              "    }\n",
              "\n",
              "    .dataframe thead th {\n",
              "        text-align: right;\n",
              "    }\n",
              "</style>\n",
              "<table border=\"1\" class=\"dataframe\">\n",
              "  <thead>\n",
              "    <tr style=\"text-align: right;\">\n",
              "      <th></th>\n",
              "      <th>Class</th>\n",
              "      <th>ra</th>\n",
              "      <th>dec</th>\n",
              "      <th>field</th>\n",
              "      <th>redshift</th>\n",
              "      <th>plate</th>\n",
              "      <th>mjd</th>\n",
              "      <th>fiberid</th>\n",
              "      <th>F1</th>\n",
              "      <th>F2</th>\n",
              "      <th>F3</th>\n",
              "    </tr>\n",
              "  </thead>\n",
              "  <tbody>\n",
              "    <tr>\n",
              "      <th>0</th>\n",
              "      <td>1</td>\n",
              "      <td>183.531326</td>\n",
              "      <td>0.089693</td>\n",
              "      <td>267</td>\n",
              "      <td>-0.000009</td>\n",
              "      <td>3306</td>\n",
              "      <td>54922</td>\n",
              "      <td>491</td>\n",
              "      <td>-1.507202</td>\n",
              "      <td>-1.377293</td>\n",
              "      <td>-0.265119</td>\n",
              "    </tr>\n",
              "    <tr>\n",
              "      <th>1</th>\n",
              "      <td>1</td>\n",
              "      <td>183.598370</td>\n",
              "      <td>0.135285</td>\n",
              "      <td>267</td>\n",
              "      <td>-0.000055</td>\n",
              "      <td>323</td>\n",
              "      <td>51615</td>\n",
              "      <td>541</td>\n",
              "      <td>-0.195758</td>\n",
              "      <td>-0.028410</td>\n",
              "      <td>-0.155695</td>\n",
              "    </tr>\n",
              "    <tr>\n",
              "      <th>2</th>\n",
              "      <td>2</td>\n",
              "      <td>183.680207</td>\n",
              "      <td>0.126185</td>\n",
              "      <td>268</td>\n",
              "      <td>0.123111</td>\n",
              "      <td>287</td>\n",
              "      <td>52023</td>\n",
              "      <td>513</td>\n",
              "      <td>1.297604</td>\n",
              "      <td>-0.590023</td>\n",
              "      <td>0.140338</td>\n",
              "    </tr>\n",
              "    <tr>\n",
              "      <th>3</th>\n",
              "      <td>1</td>\n",
              "      <td>183.870529</td>\n",
              "      <td>0.049911</td>\n",
              "      <td>269</td>\n",
              "      <td>-0.000111</td>\n",
              "      <td>3306</td>\n",
              "      <td>54922</td>\n",
              "      <td>510</td>\n",
              "      <td>-1.446117</td>\n",
              "      <td>0.566685</td>\n",
              "      <td>-0.009272</td>\n",
              "    </tr>\n",
              "    <tr>\n",
              "      <th>4</th>\n",
              "      <td>1</td>\n",
              "      <td>183.883288</td>\n",
              "      <td>0.102557</td>\n",
              "      <td>269</td>\n",
              "      <td>0.000590</td>\n",
              "      <td>3306</td>\n",
              "      <td>54922</td>\n",
              "      <td>512</td>\n",
              "      <td>-0.849271</td>\n",
              "      <td>1.287505</td>\n",
              "      <td>-0.397689</td>\n",
              "    </tr>\n",
              "    <tr>\n",
              "      <th>...</th>\n",
              "      <td>...</td>\n",
              "      <td>...</td>\n",
              "      <td>...</td>\n",
              "      <td>...</td>\n",
              "      <td>...</td>\n",
              "      <td>...</td>\n",
              "      <td>...</td>\n",
              "      <td>...</td>\n",
              "      <td>...</td>\n",
              "      <td>...</td>\n",
              "      <td>...</td>\n",
              "    </tr>\n",
              "    <tr>\n",
              "      <th>9995</th>\n",
              "      <td>2</td>\n",
              "      <td>131.316413</td>\n",
              "      <td>51.539547</td>\n",
              "      <td>161</td>\n",
              "      <td>0.027583</td>\n",
              "      <td>447</td>\n",
              "      <td>51877</td>\n",
              "      <td>246</td>\n",
              "      <td>0.222959</td>\n",
              "      <td>-0.134301</td>\n",
              "      <td>-0.057857</td>\n",
              "    </tr>\n",
              "    <tr>\n",
              "      <th>9996</th>\n",
              "      <td>2</td>\n",
              "      <td>131.306083</td>\n",
              "      <td>51.671341</td>\n",
              "      <td>162</td>\n",
              "      <td>0.117772</td>\n",
              "      <td>447</td>\n",
              "      <td>51877</td>\n",
              "      <td>228</td>\n",
              "      <td>0.259171</td>\n",
              "      <td>0.415333</td>\n",
              "      <td>0.158501</td>\n",
              "    </tr>\n",
              "    <tr>\n",
              "      <th>9997</th>\n",
              "      <td>1</td>\n",
              "      <td>131.552562</td>\n",
              "      <td>51.666986</td>\n",
              "      <td>162</td>\n",
              "      <td>-0.000402</td>\n",
              "      <td>7303</td>\n",
              "      <td>57013</td>\n",
              "      <td>622</td>\n",
              "      <td>1.480725</td>\n",
              "      <td>0.388717</td>\n",
              "      <td>-0.126646</td>\n",
              "    </tr>\n",
              "    <tr>\n",
              "      <th>9998</th>\n",
              "      <td>2</td>\n",
              "      <td>131.477151</td>\n",
              "      <td>51.753068</td>\n",
              "      <td>163</td>\n",
              "      <td>0.014019</td>\n",
              "      <td>447</td>\n",
              "      <td>51877</td>\n",
              "      <td>229</td>\n",
              "      <td>1.392088</td>\n",
              "      <td>0.117004</td>\n",
              "      <td>0.038818</td>\n",
              "    </tr>\n",
              "    <tr>\n",
              "      <th>9999</th>\n",
              "      <td>2</td>\n",
              "      <td>131.665012</td>\n",
              "      <td>51.805307</td>\n",
              "      <td>163</td>\n",
              "      <td>0.118417</td>\n",
              "      <td>447</td>\n",
              "      <td>51877</td>\n",
              "      <td>233</td>\n",
              "      <td>-0.936205</td>\n",
              "      <td>-1.113215</td>\n",
              "      <td>-0.001130</td>\n",
              "    </tr>\n",
              "  </tbody>\n",
              "</table>\n",
              "<p>10000 rows × 11 columns</p>\n",
              "</div>\n",
              "      <button class=\"colab-df-convert\" onclick=\"convertToInteractive('df-b8e4bd29-3213-41e3-a286-a92e3d5170fa')\"\n",
              "              title=\"Convert this dataframe to an interactive table.\"\n",
              "              style=\"display:none;\">\n",
              "        \n",
              "  <svg xmlns=\"http://www.w3.org/2000/svg\" height=\"24px\"viewBox=\"0 0 24 24\"\n",
              "       width=\"24px\">\n",
              "    <path d=\"M0 0h24v24H0V0z\" fill=\"none\"/>\n",
              "    <path d=\"M18.56 5.44l.94 2.06.94-2.06 2.06-.94-2.06-.94-.94-2.06-.94 2.06-2.06.94zm-11 1L8.5 8.5l.94-2.06 2.06-.94-2.06-.94L8.5 2.5l-.94 2.06-2.06.94zm10 10l.94 2.06.94-2.06 2.06-.94-2.06-.94-.94-2.06-.94 2.06-2.06.94z\"/><path d=\"M17.41 7.96l-1.37-1.37c-.4-.4-.92-.59-1.43-.59-.52 0-1.04.2-1.43.59L10.3 9.45l-7.72 7.72c-.78.78-.78 2.05 0 2.83L4 21.41c.39.39.9.59 1.41.59.51 0 1.02-.2 1.41-.59l7.78-7.78 2.81-2.81c.8-.78.8-2.07 0-2.86zM5.41 20L4 18.59l7.72-7.72 1.47 1.35L5.41 20z\"/>\n",
              "  </svg>\n",
              "      </button>\n",
              "      \n",
              "  <style>\n",
              "    .colab-df-container {\n",
              "      display:flex;\n",
              "      flex-wrap:wrap;\n",
              "      gap: 12px;\n",
              "    }\n",
              "\n",
              "    .colab-df-convert {\n",
              "      background-color: #E8F0FE;\n",
              "      border: none;\n",
              "      border-radius: 50%;\n",
              "      cursor: pointer;\n",
              "      display: none;\n",
              "      fill: #1967D2;\n",
              "      height: 32px;\n",
              "      padding: 0 0 0 0;\n",
              "      width: 32px;\n",
              "    }\n",
              "\n",
              "    .colab-df-convert:hover {\n",
              "      background-color: #E2EBFA;\n",
              "      box-shadow: 0px 1px 2px rgba(60, 64, 67, 0.3), 0px 1px 3px 1px rgba(60, 64, 67, 0.15);\n",
              "      fill: #174EA6;\n",
              "    }\n",
              "\n",
              "    [theme=dark] .colab-df-convert {\n",
              "      background-color: #3B4455;\n",
              "      fill: #D2E3FC;\n",
              "    }\n",
              "\n",
              "    [theme=dark] .colab-df-convert:hover {\n",
              "      background-color: #434B5C;\n",
              "      box-shadow: 0px 1px 3px 1px rgba(0, 0, 0, 0.15);\n",
              "      filter: drop-shadow(0px 1px 2px rgba(0, 0, 0, 0.3));\n",
              "      fill: #FFFFFF;\n",
              "    }\n",
              "  </style>\n",
              "\n",
              "      <script>\n",
              "        const buttonEl =\n",
              "          document.querySelector('#df-b8e4bd29-3213-41e3-a286-a92e3d5170fa button.colab-df-convert');\n",
              "        buttonEl.style.display =\n",
              "          google.colab.kernel.accessAllowed ? 'block' : 'none';\n",
              "\n",
              "        async function convertToInteractive(key) {\n",
              "          const element = document.querySelector('#df-b8e4bd29-3213-41e3-a286-a92e3d5170fa');\n",
              "          const dataTable =\n",
              "            await google.colab.kernel.invokeFunction('convertToInteractive',\n",
              "                                                     [key], {});\n",
              "          if (!dataTable) return;\n",
              "\n",
              "          const docLinkHtml = 'Like what you see? Visit the ' +\n",
              "            '<a target=\"_blank\" href=https://colab.research.google.com/notebooks/data_table.ipynb>data table notebook</a>'\n",
              "            + ' to learn more about interactive tables.';\n",
              "          element.innerHTML = '';\n",
              "          dataTable['output_type'] = 'display_data';\n",
              "          await google.colab.output.renderOutput(dataTable, element);\n",
              "          const docLink = document.createElement('div');\n",
              "          docLink.innerHTML = docLinkHtml;\n",
              "          element.appendChild(docLink);\n",
              "        }\n",
              "      </script>\n",
              "    </div>\n",
              "  </div>\n",
              "  "
            ]
          },
          "metadata": {},
          "execution_count": 42
        }
      ],
      "source": [
        "from sklearn.decomposition import PCA \n",
        "#(based on: https://www.kaggle.com/code/sanchitvj/sdss-dr16-data-analysis/notebook)\n",
        "pca = PCA(n_components = 3)\n",
        "df_pca = pca.fit_transform(sloan_survey[['u', 'g', 'r', 'i', 'z']])\n",
        "\n",
        "sloan_survey  = pd.concat((sloan_survey, pd.DataFrame(df_pca)), axis = 1)\n",
        "sloan_survey .rename({0:'F1', 1:'F2', 2:'F3'}, axis = 1, inplace = True)\n",
        "sloan_survey .drop(['u', 'g', 'r', 'i', 'z'], axis = 1, inplace = True)\n",
        "sloan_survey "
      ]
    },
    {
      "cell_type": "markdown",
      "metadata": {
        "id": "DXi3MtDYW8Wp"
      },
      "source": [
        "\\\\\n",
        "\n",
        "Spliting our df"
      ]
    },
    {
      "cell_type": "code",
      "execution_count": null,
      "metadata": {
        "id": "hC91qvB0Zd-9"
      },
      "outputs": [],
      "source": [
        "train_df, test_df = train_test_split(sloan_survey, test_size = 0.3, random_state = 7)\n",
        "#train_df, val_df = train_test_split(train_df, test_size = 0.3, random_state = 7)\n",
        "    #here we decided to not create the validation because after we will use only Grid Search for optimization"
      ]
    },
    {
      "cell_type": "code",
      "execution_count": null,
      "metadata": {
        "id": "M_R0XDZkU7X8",
        "colab": {
          "base_uri": "https://localhost:8080/"
        },
        "outputId": "af7d958b-6ac9-4e37-e9c6-7c5f570b6a48"
      },
      "outputs": [
        {
          "output_type": "execute_result",
          "data": {
            "text/plain": [
              "(7000, 11)"
            ]
          },
          "metadata": {},
          "execution_count": 44
        }
      ],
      "source": [
        "# Checking for the size of our new datasets and if our splitting code worked \n",
        "\n",
        "# This step is important to see if the matrix that we will build to test the models \n",
        "# is correct\n",
        "\n",
        "# Train dataset shape \n",
        "train_df.shape"
      ]
    },
    {
      "cell_type": "code",
      "execution_count": null,
      "metadata": {
        "id": "KKzhsHdmU9jH"
      },
      "outputs": [],
      "source": [
        "# Validation dataset shape\n",
        "#val_df.shape"
      ]
    },
    {
      "cell_type": "code",
      "execution_count": null,
      "metadata": {
        "id": "zTSwxCsfvBDZ",
        "colab": {
          "base_uri": "https://localhost:8080/"
        },
        "outputId": "43ee106a-611d-4a70-b3ae-14762befd2f5"
      },
      "outputs": [
        {
          "output_type": "execute_result",
          "data": {
            "text/plain": [
              "(3000, 11)"
            ]
          },
          "metadata": {},
          "execution_count": 46
        }
      ],
      "source": [
        "# Test dataset shape\n",
        "test_df.shape"
      ]
    },
    {
      "cell_type": "code",
      "execution_count": null,
      "metadata": {
        "id": "vquPjg_tVHUS"
      },
      "outputs": [],
      "source": [
        "# Now, we will concat these dataframes in one (df) so we can apply all the transformations \n",
        "# at the same time to all the dataframes \n",
        "\n",
        "df = pd.concat((train_df.loc[:,'ra':'F3'],\n",
        "             #   val_df.loc[:,'ra':'F3'],\n",
        "                test_df.loc[:,'ra':'F3']))"
      ]
    },
    {
      "cell_type": "code",
      "execution_count": null,
      "metadata": {
        "id": "aHPe75EQXqPP",
        "colab": {
          "base_uri": "https://localhost:8080/"
        },
        "outputId": "be2cf38f-c821-41d9-f148-4915af379f43"
      },
      "outputs": [
        {
          "output_type": "execute_result",
          "data": {
            "text/plain": [
              "(10000, 10)"
            ]
          },
          "metadata": {},
          "execution_count": 48
        }
      ],
      "source": [
        "# Checking if everything went well when concating the data \n",
        "\n",
        "df.shape"
      ]
    },
    {
      "cell_type": "markdown",
      "metadata": {
        "id": "8VFksD8zcnv2"
      },
      "source": [
        "Selecionar o conjunto de informações relevantes "
      ]
    },
    {
      "cell_type": "code",
      "execution_count": null,
      "metadata": {
        "id": "7bBvQXTsd6n7"
      },
      "outputs": [],
      "source": [
        "X_train = df[:train_df.shape[0]]\n",
        "#X_val = df[:val_df.shape[0]]\n",
        "X_test = df[:test_df.shape[0]]\n",
        "y_train = train_df.Class\n",
        "#y_val = val_df.Class\n",
        "y_test = test_df.Class"
      ]
    },
    {
      "cell_type": "markdown",
      "metadata": {
        "id": "4aNQXqy_VPVo"
      },
      "source": [
        "# B) Running Models \n",
        "* Decision Trees\n",
        "* Random Forest \n",
        "* AdaBoost\n",
        "* Gradient Boosting"
      ]
    },
    {
      "cell_type": "markdown",
      "metadata": {
        "id": "M31zjf1tbTiu"
      },
      "source": [
        "### DECISION TREES\n"
      ]
    },
    {
      "cell_type": "code",
      "execution_count": null,
      "metadata": {
        "id": "uW9_q54_snpQ",
        "colab": {
          "base_uri": "https://localhost:8080/"
        },
        "outputId": "5ff6c5ee-4405-46f5-f7d0-8d018793f9a8"
      },
      "outputs": [
        {
          "output_type": "stream",
          "name": "stdout",
          "text": [
            "Looking in indexes: https://pypi.org/simple, https://us-python.pkg.dev/colab-wheels/public/simple/\n",
            "Requirement already satisfied: sklearn in /usr/local/lib/python3.7/dist-packages (0.0)\n",
            "Requirement already satisfied: scikit-learn in /usr/local/lib/python3.7/dist-packages (from sklearn) (1.0.2)\n",
            "Requirement already satisfied: threadpoolctl>=2.0.0 in /usr/local/lib/python3.7/dist-packages (from scikit-learn->sklearn) (3.1.0)\n",
            "Requirement already satisfied: scipy>=1.1.0 in /usr/local/lib/python3.7/dist-packages (from scikit-learn->sklearn) (1.4.1)\n",
            "Requirement already satisfied: numpy>=1.14.6 in /usr/local/lib/python3.7/dist-packages (from scikit-learn->sklearn) (1.21.6)\n",
            "Requirement already satisfied: joblib>=0.11 in /usr/local/lib/python3.7/dist-packages (from scikit-learn->sklearn) (1.1.0)\n"
          ]
        }
      ],
      "source": [
        "!pip install sklearn"
      ]
    },
    {
      "cell_type": "code",
      "execution_count": null,
      "metadata": {
        "id": "Gz3toA1OVggL"
      },
      "outputs": [],
      "source": [
        "# DECISION TREES\n",
        "\n",
        "#Scikit\n",
        "from sklearn.tree import DecisionTreeClassifier\n",
        "from sklearn.ensemble import BaggingRegressor, RandomForestRegressor, AdaBoostRegressor, GradientBoostingRegressor\n",
        "from sklearn.metrics import accuracy_score, confusion_matrix\n",
        "from sklearn import metrics\n",
        "from sklearn.tree import _tree\n",
        "\n",
        "import warnings\n",
        "warnings.simplefilter('ignore')"
      ]
    },
    {
      "cell_type": "code",
      "execution_count": null,
      "metadata": {
        "id": "AdXvI6Q2jNwq",
        "colab": {
          "base_uri": "https://localhost:8080/",
          "height": 281
        },
        "outputId": "3da48618-ff7b-4801-c5d3-ba9ff472d82b"
      },
      "outputs": [
        {
          "output_type": "execute_result",
          "data": {
            "text/plain": [
              "<graphviz.files.Source at 0x7f7496d08610>"
            ],
            "image/svg+xml": "<?xml version=\"1.0\" encoding=\"UTF-8\" standalone=\"no\"?>\n<!DOCTYPE svg PUBLIC \"-//W3C//DTD SVG 1.1//EN\"\n \"http://www.w3.org/Graphics/SVG/1.1/DTD/svg11.dtd\">\n<!-- Generated by graphviz version 2.40.1 (20161225.0304)\n -->\n<!-- Title: Tree Pages: 1 -->\n<svg width=\"330pt\" height=\"195pt\"\n viewBox=\"0.00 0.00 330.00 195.00\" xmlns=\"http://www.w3.org/2000/svg\" xmlns:xlink=\"http://www.w3.org/1999/xlink\">\n<g id=\"graph0\" class=\"graph\" transform=\"scale(1 1) rotate(0) translate(4 191)\">\n<title>Tree</title>\n<polygon fill=\"#ffffff\" stroke=\"transparent\" points=\"-4,4 -4,-191 326,-191 326,4 -4,4\"/>\n<!-- 0 -->\n<g id=\"node1\" class=\"node\">\n<title>0</title>\n<path fill=\"#e0fbeb\" stroke=\"#000000\" d=\"M237.5,-187C237.5,-187 80.5,-187 80.5,-187 74.5,-187 68.5,-181 68.5,-175 68.5,-175 68.5,-116 68.5,-116 68.5,-110 74.5,-104 80.5,-104 80.5,-104 237.5,-104 237.5,-104 243.5,-104 249.5,-110 249.5,-116 249.5,-116 249.5,-175 249.5,-175 249.5,-181 243.5,-187 237.5,-187\"/>\n<text text-anchor=\"middle\" x=\"159\" y=\"-171.8\" font-family=\"Helvetica,sans-Serif\" font-size=\"14.00\" fill=\"#000000\">X[3] &lt;= 0.002</text>\n<text text-anchor=\"middle\" x=\"159\" y=\"-156.8\" font-family=\"Helvetica,sans-Serif\" font-size=\"14.00\" fill=\"#000000\">gini = 0.568</text>\n<text text-anchor=\"middle\" x=\"159\" y=\"-141.8\" font-family=\"Helvetica,sans-Serif\" font-size=\"14.00\" fill=\"#000000\">samples = 7000</text>\n<text text-anchor=\"middle\" x=\"159\" y=\"-126.8\" font-family=\"Helvetica,sans-Serif\" font-size=\"14.00\" fill=\"#000000\">value = [2890, 3530, 580]</text>\n<text text-anchor=\"middle\" x=\"159\" y=\"-111.8\" font-family=\"Helvetica,sans-Serif\" font-size=\"14.00\" fill=\"#000000\">class = GALAXY</text>\n</g>\n<!-- 1 -->\n<g id=\"node2\" class=\"node\">\n<title>1</title>\n<path fill=\"#e5823a\" stroke=\"#000000\" d=\"M136,-68C136,-68 12,-68 12,-68 6,-68 0,-62 0,-56 0,-56 0,-12 0,-12 0,-6 6,0 12,0 12,0 136,0 136,0 142,0 148,-6 148,-12 148,-12 148,-56 148,-56 148,-62 142,-68 136,-68\"/>\n<text text-anchor=\"middle\" x=\"74\" y=\"-52.8\" font-family=\"Helvetica,sans-Serif\" font-size=\"14.00\" fill=\"#000000\">gini = 0.01</text>\n<text text-anchor=\"middle\" x=\"74\" y=\"-37.8\" font-family=\"Helvetica,sans-Serif\" font-size=\"14.00\" fill=\"#000000\">samples = 2901</text>\n<text text-anchor=\"middle\" x=\"74\" y=\"-22.8\" font-family=\"Helvetica,sans-Serif\" font-size=\"14.00\" fill=\"#000000\">value = [2887, 13, 1]</text>\n<text text-anchor=\"middle\" x=\"74\" y=\"-7.8\" font-family=\"Helvetica,sans-Serif\" font-size=\"14.00\" fill=\"#000000\">class = STAR</text>\n</g>\n<!-- 0&#45;&gt;1 -->\n<g id=\"edge1\" class=\"edge\">\n<title>0&#45;&gt;1</title>\n<path fill=\"none\" stroke=\"#000000\" d=\"M127.3491,-103.9815C120.4829,-94.9747 113.2118,-85.4367 106.3202,-76.3965\"/>\n<polygon fill=\"#000000\" stroke=\"#000000\" points=\"108.9664,-74.0945 100.1203,-68.2637 103.3995,-78.3383 108.9664,-74.0945\"/>\n<text text-anchor=\"middle\" x=\"96.779\" y=\"-89.3394\" font-family=\"Helvetica,sans-Serif\" font-size=\"14.00\" fill=\"#000000\">True</text>\n</g>\n<!-- 2 -->\n<g id=\"node3\" class=\"node\">\n<title>2</title>\n<path fill=\"#5ae996\" stroke=\"#000000\" d=\"M310,-68C310,-68 178,-68 178,-68 172,-68 166,-62 166,-56 166,-56 166,-12 166,-12 166,-6 172,0 178,0 178,0 310,0 310,0 316,0 322,-6 322,-12 322,-12 322,-56 322,-56 322,-62 316,-68 310,-68\"/>\n<text text-anchor=\"middle\" x=\"244\" y=\"-52.8\" font-family=\"Helvetica,sans-Serif\" font-size=\"14.00\" fill=\"#000000\">gini = 0.244</text>\n<text text-anchor=\"middle\" x=\"244\" y=\"-37.8\" font-family=\"Helvetica,sans-Serif\" font-size=\"14.00\" fill=\"#000000\">samples = 4099</text>\n<text text-anchor=\"middle\" x=\"244\" y=\"-22.8\" font-family=\"Helvetica,sans-Serif\" font-size=\"14.00\" fill=\"#000000\">value = [3, 3517, 579]</text>\n<text text-anchor=\"middle\" x=\"244\" y=\"-7.8\" font-family=\"Helvetica,sans-Serif\" font-size=\"14.00\" fill=\"#000000\">class = GALAXY</text>\n</g>\n<!-- 0&#45;&gt;2 -->\n<g id=\"edge2\" class=\"edge\">\n<title>0&#45;&gt;2</title>\n<path fill=\"none\" stroke=\"#000000\" d=\"M190.6509,-103.9815C197.5171,-94.9747 204.7882,-85.4367 211.6798,-76.3965\"/>\n<polygon fill=\"#000000\" stroke=\"#000000\" points=\"214.6005,-78.3383 217.8797,-68.2637 209.0336,-74.0945 214.6005,-78.3383\"/>\n<text text-anchor=\"middle\" x=\"221.221\" y=\"-89.3394\" font-family=\"Helvetica,sans-Serif\" font-size=\"14.00\" fill=\"#000000\">False</text>\n</g>\n</g>\n</svg>\n"
          },
          "metadata": {},
          "execution_count": 52
        }
      ],
      "source": [
        "# NAIVE 1: Decision tree with depth = 1 \n",
        "\n",
        "dtc = tree.DecisionTreeClassifier(max_depth = 1)  \n",
        "dtc_noprune = tree.DecisionTreeClassifier()\n",
        "\n",
        "dtc.fit(X_train, y_train)\n",
        "dtc_noprune.fit(X_train, y_train)\n",
        "\n",
        "dot_data = tree.export_graphviz(dtc, out_file=None, \n",
        "                     class_names = ['STAR', 'GALAXY', 'QSO'],\n",
        "                     filled=True, rounded=True) \n",
        "\n",
        "graph = graphviz.Source(dot_data) \n",
        "graph"
      ]
    },
    {
      "cell_type": "code",
      "execution_count": null,
      "metadata": {
        "id": "ym29dzVlXOj4",
        "colab": {
          "base_uri": "https://localhost:8080/"
        },
        "outputId": "c4fd6993-da04-4ab1-ce75-521eba42a427"
      },
      "outputs": [
        {
          "output_type": "stream",
          "name": "stdout",
          "text": [
            "Accuracy 0.458\n"
          ]
        }
      ],
      "source": [
        "y_pred_dtc = dtc.predict(X_test)\n",
        "cm_dtc = confusion_matrix(y_test, y_pred_dtc)\n",
        "print(\"Accuracy\", metrics.accuracy_score(y_test, y_pred_dtc))"
      ]
    },
    {
      "cell_type": "code",
      "execution_count": null,
      "metadata": {
        "id": "0HHg5XU3VZry"
      },
      "outputs": [],
      "source": [
        "#we tried to compute like this, but we failed: \n",
        "\n",
        "#all_n_estimators = [50, 100, 250]\n",
        "#all_max_depth = [1,2,3, 5,10, 25, 50]\n",
        "#accuracy_list = []\n",
        "#n_estimators_list = []\n",
        "#max_depth_list = []\n",
        "\n",
        "#for n_estimators in all_n_estimators:\n",
        " #   for max_depth in all_max_depth:\n",
        "  #      print('n_estimators', n_estimators,\n",
        "   #           'max_depth', max_depth )\n",
        "              \n",
        "    #    DTR = DecisionTreeRegressor(\n",
        "     #       n_estimators=n_estimators,\n",
        "      #      max_depth=max_depth\n",
        "       #     ).fit(X_train, y_train)\n",
        "        \n",
        "        #pred = DTR.predict(X_val)\n",
        "        \n",
        "        #accuracy = metrics.accuracy_score(y_val, np.exp(pred))\n",
        "        \n",
        "        #accuracy_list.append(accuracy)\n",
        "        #n_estimators_list.append(n_estimators)\n",
        "        #max_depth_list.append(max_depth)           \n"
      ]
    },
    {
      "cell_type": "code",
      "execution_count": null,
      "metadata": {
        "id": "8Gk8QZihV7AZ"
      },
      "outputs": [],
      "source": [
        "#results = pd.DataFrame({\n",
        "#    'n_estimators': n_estimators_list,\n",
        "#    'max_depth': max_depth_list,\n",
        "#    'accuracy': accuracy_list\n",
        "#})\n",
        "\n",
        "#results"
      ]
    },
    {
      "cell_type": "code",
      "execution_count": null,
      "metadata": {
        "id": "7mhOVfQPWrLQ",
        "colab": {
          "base_uri": "https://localhost:8080/",
          "height": 1000
        },
        "outputId": "890f3eb6-4fce-49a5-ab9d-ceb167122860"
      },
      "outputs": [
        {
          "output_type": "execute_result",
          "data": {
            "text/plain": [
              "<graphviz.files.Source at 0x7f7496d11890>"
            ],
            "image/svg+xml": "<?xml version=\"1.0\" encoding=\"UTF-8\" standalone=\"no\"?>\n<!DOCTYPE svg PUBLIC \"-//W3C//DTD SVG 1.1//EN\"\n \"http://www.w3.org/Graphics/SVG/1.1/DTD/svg11.dtd\">\n<!-- Generated by graphviz version 2.40.1 (20161225.0304)\n -->\n<!-- Title: Tree Pages: 1 -->\n<svg width=\"4345pt\" height=\"1504pt\"\n viewBox=\"0.00 0.00 4345.00 1504.00\" xmlns=\"http://www.w3.org/2000/svg\" xmlns:xlink=\"http://www.w3.org/1999/xlink\">\n<g id=\"graph0\" class=\"graph\" transform=\"scale(1 1) rotate(0) translate(4 1500)\">\n<title>Tree</title>\n<polygon fill=\"#ffffff\" stroke=\"transparent\" points=\"-4,4 -4,-1500 4341,-1500 4341,4 -4,4\"/>\n<!-- 0 -->\n<g id=\"node1\" class=\"node\">\n<title>0</title>\n<path fill=\"#e0fbeb\" stroke=\"#000000\" d=\"M1841,-1496C1841,-1496 1684,-1496 1684,-1496 1678,-1496 1672,-1490 1672,-1484 1672,-1484 1672,-1425 1672,-1425 1672,-1419 1678,-1413 1684,-1413 1684,-1413 1841,-1413 1841,-1413 1847,-1413 1853,-1419 1853,-1425 1853,-1425 1853,-1484 1853,-1484 1853,-1490 1847,-1496 1841,-1496\"/>\n<text text-anchor=\"middle\" x=\"1762.5\" y=\"-1480.8\" font-family=\"Helvetica,sans-Serif\" font-size=\"14.00\" fill=\"#000000\">X[3] &lt;= 0.002</text>\n<text text-anchor=\"middle\" x=\"1762.5\" y=\"-1465.8\" font-family=\"Helvetica,sans-Serif\" font-size=\"14.00\" fill=\"#000000\">gini = 0.568</text>\n<text text-anchor=\"middle\" x=\"1762.5\" y=\"-1450.8\" font-family=\"Helvetica,sans-Serif\" font-size=\"14.00\" fill=\"#000000\">samples = 7000</text>\n<text text-anchor=\"middle\" x=\"1762.5\" y=\"-1435.8\" font-family=\"Helvetica,sans-Serif\" font-size=\"14.00\" fill=\"#000000\">value = [2890, 3530, 580]</text>\n<text text-anchor=\"middle\" x=\"1762.5\" y=\"-1420.8\" font-family=\"Helvetica,sans-Serif\" font-size=\"14.00\" fill=\"#000000\">class = GALAXY</text>\n</g>\n<!-- 1 -->\n<g id=\"node2\" class=\"node\">\n<title>1</title>\n<path fill=\"#e5823a\" stroke=\"#000000\" d=\"M1680.5,-1377C1680.5,-1377 1556.5,-1377 1556.5,-1377 1550.5,-1377 1544.5,-1371 1544.5,-1365 1544.5,-1365 1544.5,-1306 1544.5,-1306 1544.5,-1300 1550.5,-1294 1556.5,-1294 1556.5,-1294 1680.5,-1294 1680.5,-1294 1686.5,-1294 1692.5,-1300 1692.5,-1306 1692.5,-1306 1692.5,-1365 1692.5,-1365 1692.5,-1371 1686.5,-1377 1680.5,-1377\"/>\n<text text-anchor=\"middle\" x=\"1618.5\" y=\"-1361.8\" font-family=\"Helvetica,sans-Serif\" font-size=\"14.00\" fill=\"#000000\">X[3] &lt;= 0.002</text>\n<text text-anchor=\"middle\" x=\"1618.5\" y=\"-1346.8\" font-family=\"Helvetica,sans-Serif\" font-size=\"14.00\" fill=\"#000000\">gini = 0.01</text>\n<text text-anchor=\"middle\" x=\"1618.5\" y=\"-1331.8\" font-family=\"Helvetica,sans-Serif\" font-size=\"14.00\" fill=\"#000000\">samples = 2901</text>\n<text text-anchor=\"middle\" x=\"1618.5\" y=\"-1316.8\" font-family=\"Helvetica,sans-Serif\" font-size=\"14.00\" fill=\"#000000\">value = [2887, 13, 1]</text>\n<text text-anchor=\"middle\" x=\"1618.5\" y=\"-1301.8\" font-family=\"Helvetica,sans-Serif\" font-size=\"14.00\" fill=\"#000000\">class = STAR</text>\n</g>\n<!-- 0&#45;&gt;1 -->\n<g id=\"edge1\" class=\"edge\">\n<title>0&#45;&gt;1</title>\n<path fill=\"none\" stroke=\"#000000\" d=\"M1712.1358,-1412.8796C1700.8015,-1403.513 1688.6785,-1393.4948 1677.0419,-1383.8784\"/>\n<polygon fill=\"#000000\" stroke=\"#000000\" points=\"1679.0173,-1380.9703 1669.0792,-1377.2981 1674.5581,-1386.3663 1679.0173,-1380.9703\"/>\n<text text-anchor=\"middle\" x=\"1671.4449\" y=\"-1398.4859\" font-family=\"Helvetica,sans-Serif\" font-size=\"14.00\" fill=\"#000000\">True</text>\n</g>\n<!-- 52 -->\n<g id=\"node53\" class=\"node\">\n<title>52</title>\n<path fill=\"#5ae996\" stroke=\"#000000\" d=\"M2569.5,-1377C2569.5,-1377 2437.5,-1377 2437.5,-1377 2431.5,-1377 2425.5,-1371 2425.5,-1365 2425.5,-1365 2425.5,-1306 2425.5,-1306 2425.5,-1300 2431.5,-1294 2437.5,-1294 2437.5,-1294 2569.5,-1294 2569.5,-1294 2575.5,-1294 2581.5,-1300 2581.5,-1306 2581.5,-1306 2581.5,-1365 2581.5,-1365 2581.5,-1371 2575.5,-1377 2569.5,-1377\"/>\n<text text-anchor=\"middle\" x=\"2503.5\" y=\"-1361.8\" font-family=\"Helvetica,sans-Serif\" font-size=\"14.00\" fill=\"#000000\">X[3] &lt;= 0.235</text>\n<text text-anchor=\"middle\" x=\"2503.5\" y=\"-1346.8\" font-family=\"Helvetica,sans-Serif\" font-size=\"14.00\" fill=\"#000000\">gini = 0.244</text>\n<text text-anchor=\"middle\" x=\"2503.5\" y=\"-1331.8\" font-family=\"Helvetica,sans-Serif\" font-size=\"14.00\" fill=\"#000000\">samples = 4099</text>\n<text text-anchor=\"middle\" x=\"2503.5\" y=\"-1316.8\" font-family=\"Helvetica,sans-Serif\" font-size=\"14.00\" fill=\"#000000\">value = [3, 3517, 579]</text>\n<text text-anchor=\"middle\" x=\"2503.5\" y=\"-1301.8\" font-family=\"Helvetica,sans-Serif\" font-size=\"14.00\" fill=\"#000000\">class = GALAXY</text>\n</g>\n<!-- 0&#45;&gt;52 -->\n<g id=\"edge52\" class=\"edge\">\n<title>0&#45;&gt;52</title>\n<path fill=\"none\" stroke=\"#000000\" d=\"M1853.3611,-1439.9083C1996.7746,-1416.8769 2273.8317,-1372.3833 2415.4661,-1349.6377\"/>\n<polygon fill=\"#000000\" stroke=\"#000000\" points=\"2416.1075,-1353.0796 2425.426,-1348.0382 2414.9975,-1346.1682 2416.1075,-1353.0796\"/>\n<text text-anchor=\"middle\" x=\"2410.775\" y=\"-1364.5952\" font-family=\"Helvetica,sans-Serif\" font-size=\"14.00\" fill=\"#000000\">False</text>\n</g>\n<!-- 2 -->\n<g id=\"node3\" class=\"node\">\n<title>2</title>\n<path fill=\"#e5823a\" stroke=\"#000000\" d=\"M661.5,-1258C661.5,-1258 537.5,-1258 537.5,-1258 531.5,-1258 525.5,-1252 525.5,-1246 525.5,-1246 525.5,-1187 525.5,-1187 525.5,-1181 531.5,-1175 537.5,-1175 537.5,-1175 661.5,-1175 661.5,-1175 667.5,-1175 673.5,-1181 673.5,-1187 673.5,-1187 673.5,-1246 673.5,-1246 673.5,-1252 667.5,-1258 661.5,-1258\"/>\n<text text-anchor=\"middle\" x=\"599.5\" y=\"-1242.8\" font-family=\"Helvetica,sans-Serif\" font-size=\"14.00\" fill=\"#000000\">X[8] &lt;= &#45;0.971</text>\n<text text-anchor=\"middle\" x=\"599.5\" y=\"-1227.8\" font-family=\"Helvetica,sans-Serif\" font-size=\"14.00\" fill=\"#000000\">gini = 0.009</text>\n<text text-anchor=\"middle\" x=\"599.5\" y=\"-1212.8\" font-family=\"Helvetica,sans-Serif\" font-size=\"14.00\" fill=\"#000000\">samples = 2898</text>\n<text text-anchor=\"middle\" x=\"599.5\" y=\"-1197.8\" font-family=\"Helvetica,sans-Serif\" font-size=\"14.00\" fill=\"#000000\">value = [2885, 12, 1]</text>\n<text text-anchor=\"middle\" x=\"599.5\" y=\"-1182.8\" font-family=\"Helvetica,sans-Serif\" font-size=\"14.00\" fill=\"#000000\">class = STAR</text>\n</g>\n<!-- 1&#45;&gt;2 -->\n<g id=\"edge2\" class=\"edge\">\n<title>1&#45;&gt;2</title>\n<path fill=\"none\" stroke=\"#000000\" d=\"M1544.3952,-1326.846C1359.5838,-1305.2635 879.1468,-1249.1575 683.8749,-1226.3534\"/>\n<polygon fill=\"#000000\" stroke=\"#000000\" points=\"684.0088,-1222.8453 673.6703,-1225.1617 683.1968,-1229.7981 684.0088,-1222.8453\"/>\n</g>\n<!-- 49 -->\n<g id=\"node50\" class=\"node\">\n<title>49</title>\n<path fill=\"#f2c09c\" stroke=\"#000000\" d=\"M1664,-1258C1664,-1258 1573,-1258 1573,-1258 1567,-1258 1561,-1252 1561,-1246 1561,-1246 1561,-1187 1561,-1187 1561,-1181 1567,-1175 1573,-1175 1573,-1175 1664,-1175 1664,-1175 1670,-1175 1676,-1181 1676,-1187 1676,-1187 1676,-1246 1676,-1246 1676,-1252 1670,-1258 1664,-1258\"/>\n<text text-anchor=\"middle\" x=\"1618.5\" y=\"-1242.8\" font-family=\"Helvetica,sans-Serif\" font-size=\"14.00\" fill=\"#000000\">X[7] &lt;= &#45;1.356</text>\n<text text-anchor=\"middle\" x=\"1618.5\" y=\"-1227.8\" font-family=\"Helvetica,sans-Serif\" font-size=\"14.00\" fill=\"#000000\">gini = 0.444</text>\n<text text-anchor=\"middle\" x=\"1618.5\" y=\"-1212.8\" font-family=\"Helvetica,sans-Serif\" font-size=\"14.00\" fill=\"#000000\">samples = 3</text>\n<text text-anchor=\"middle\" x=\"1618.5\" y=\"-1197.8\" font-family=\"Helvetica,sans-Serif\" font-size=\"14.00\" fill=\"#000000\">value = [2, 1, 0]</text>\n<text text-anchor=\"middle\" x=\"1618.5\" y=\"-1182.8\" font-family=\"Helvetica,sans-Serif\" font-size=\"14.00\" fill=\"#000000\">class = STAR</text>\n</g>\n<!-- 1&#45;&gt;49 -->\n<g id=\"edge49\" class=\"edge\">\n<title>1&#45;&gt;49</title>\n<path fill=\"none\" stroke=\"#000000\" d=\"M1618.5,-1293.8796C1618.5,-1285.6838 1618.5,-1276.9891 1618.5,-1268.5013\"/>\n<polygon fill=\"#000000\" stroke=\"#000000\" points=\"1622.0001,-1268.298 1618.5,-1258.2981 1615.0001,-1268.2981 1622.0001,-1268.298\"/>\n</g>\n<!-- 3 -->\n<g id=\"node4\" class=\"node\">\n<title>3</title>\n<path fill=\"#e78946\" stroke=\"#000000\" d=\"M396,-1139C396,-1139 297,-1139 297,-1139 291,-1139 285,-1133 285,-1127 285,-1127 285,-1068 285,-1068 285,-1062 291,-1056 297,-1056 297,-1056 396,-1056 396,-1056 402,-1056 408,-1062 408,-1068 408,-1068 408,-1127 408,-1127 408,-1133 402,-1139 396,-1139\"/>\n<text text-anchor=\"middle\" x=\"346.5\" y=\"-1123.8\" font-family=\"Helvetica,sans-Serif\" font-size=\"14.00\" fill=\"#000000\">X[7] &lt;= 0.194</text>\n<text text-anchor=\"middle\" x=\"346.5\" y=\"-1108.8\" font-family=\"Helvetica,sans-Serif\" font-size=\"14.00\" fill=\"#000000\">gini = 0.113</text>\n<text text-anchor=\"middle\" x=\"346.5\" y=\"-1093.8\" font-family=\"Helvetica,sans-Serif\" font-size=\"14.00\" fill=\"#000000\">samples = 50</text>\n<text text-anchor=\"middle\" x=\"346.5\" y=\"-1078.8\" font-family=\"Helvetica,sans-Serif\" font-size=\"14.00\" fill=\"#000000\">value = [47, 3, 0]</text>\n<text text-anchor=\"middle\" x=\"346.5\" y=\"-1063.8\" font-family=\"Helvetica,sans-Serif\" font-size=\"14.00\" fill=\"#000000\">class = STAR</text>\n</g>\n<!-- 2&#45;&gt;3 -->\n<g id=\"edge3\" class=\"edge\">\n<title>2&#45;&gt;3</title>\n<path fill=\"none\" stroke=\"#000000\" d=\"M525.3011,-1181.6001C491.3156,-1165.6149 451.2173,-1146.7544 417.6153,-1130.9495\"/>\n<polygon fill=\"#000000\" stroke=\"#000000\" points=\"418.8593,-1127.6668 408.3206,-1126.5777 415.8799,-1134.0011 418.8593,-1127.6668\"/>\n</g>\n<!-- 10 -->\n<g id=\"node11\" class=\"node\">\n<title>10</title>\n<path fill=\"#e5813a\" stroke=\"#000000\" d=\"M657.5,-1139C657.5,-1139 541.5,-1139 541.5,-1139 535.5,-1139 529.5,-1133 529.5,-1127 529.5,-1127 529.5,-1068 529.5,-1068 529.5,-1062 535.5,-1056 541.5,-1056 541.5,-1056 657.5,-1056 657.5,-1056 663.5,-1056 669.5,-1062 669.5,-1068 669.5,-1068 669.5,-1127 669.5,-1127 669.5,-1133 663.5,-1139 657.5,-1139\"/>\n<text text-anchor=\"middle\" x=\"599.5\" y=\"-1123.8\" font-family=\"Helvetica,sans-Serif\" font-size=\"14.00\" fill=\"#000000\">X[7] &lt;= &#45;5.397</text>\n<text text-anchor=\"middle\" x=\"599.5\" y=\"-1108.8\" font-family=\"Helvetica,sans-Serif\" font-size=\"14.00\" fill=\"#000000\">gini = 0.007</text>\n<text text-anchor=\"middle\" x=\"599.5\" y=\"-1093.8\" font-family=\"Helvetica,sans-Serif\" font-size=\"14.00\" fill=\"#000000\">samples = 2848</text>\n<text text-anchor=\"middle\" x=\"599.5\" y=\"-1078.8\" font-family=\"Helvetica,sans-Serif\" font-size=\"14.00\" fill=\"#000000\">value = [2838, 9, 1]</text>\n<text text-anchor=\"middle\" x=\"599.5\" y=\"-1063.8\" font-family=\"Helvetica,sans-Serif\" font-size=\"14.00\" fill=\"#000000\">class = STAR</text>\n</g>\n<!-- 2&#45;&gt;10 -->\n<g id=\"edge10\" class=\"edge\">\n<title>2&#45;&gt;10</title>\n<path fill=\"none\" stroke=\"#000000\" d=\"M599.5,-1174.8796C599.5,-1166.6838 599.5,-1157.9891 599.5,-1149.5013\"/>\n<polygon fill=\"#000000\" stroke=\"#000000\" points=\"603.0001,-1149.298 599.5,-1139.2981 596.0001,-1149.2981 603.0001,-1149.298\"/>\n</g>\n<!-- 4 -->\n<g id=\"node5\" class=\"node\">\n<title>4</title>\n<path fill=\"#e68641\" stroke=\"#000000\" d=\"M254,-1020C254,-1020 155,-1020 155,-1020 149,-1020 143,-1014 143,-1008 143,-1008 143,-949 143,-949 143,-943 149,-937 155,-937 155,-937 254,-937 254,-937 260,-937 266,-943 266,-949 266,-949 266,-1008 266,-1008 266,-1014 260,-1020 254,-1020\"/>\n<text text-anchor=\"middle\" x=\"204.5\" y=\"-1004.8\" font-family=\"Helvetica,sans-Serif\" font-size=\"14.00\" fill=\"#000000\">X[4] &lt;= 307.0</text>\n<text text-anchor=\"middle\" x=\"204.5\" y=\"-989.8\" font-family=\"Helvetica,sans-Serif\" font-size=\"14.00\" fill=\"#000000\">gini = 0.078</text>\n<text text-anchor=\"middle\" x=\"204.5\" y=\"-974.8\" font-family=\"Helvetica,sans-Serif\" font-size=\"14.00\" fill=\"#000000\">samples = 49</text>\n<text text-anchor=\"middle\" x=\"204.5\" y=\"-959.8\" font-family=\"Helvetica,sans-Serif\" font-size=\"14.00\" fill=\"#000000\">value = [47, 2, 0]</text>\n<text text-anchor=\"middle\" x=\"204.5\" y=\"-944.8\" font-family=\"Helvetica,sans-Serif\" font-size=\"14.00\" fill=\"#000000\">class = STAR</text>\n</g>\n<!-- 3&#45;&gt;4 -->\n<g id=\"edge4\" class=\"edge\">\n<title>3&#45;&gt;4</title>\n<path fill=\"none\" stroke=\"#000000\" d=\"M296.8353,-1055.8796C285.6584,-1046.513 273.7038,-1036.4948 262.2288,-1026.8784\"/>\n<polygon fill=\"#000000\" stroke=\"#000000\" points=\"264.2893,-1024.0386 254.3767,-1020.2981 259.7931,-1029.4037 264.2893,-1024.0386\"/>\n</g>\n<!-- 9 -->\n<g id=\"node10\" class=\"node\">\n<title>9</title>\n<path fill=\"#39e581\" stroke=\"#000000\" d=\"M397,-1012.5C397,-1012.5 296,-1012.5 296,-1012.5 290,-1012.5 284,-1006.5 284,-1000.5 284,-1000.5 284,-956.5 284,-956.5 284,-950.5 290,-944.5 296,-944.5 296,-944.5 397,-944.5 397,-944.5 403,-944.5 409,-950.5 409,-956.5 409,-956.5 409,-1000.5 409,-1000.5 409,-1006.5 403,-1012.5 397,-1012.5\"/>\n<text text-anchor=\"middle\" x=\"346.5\" y=\"-997.3\" font-family=\"Helvetica,sans-Serif\" font-size=\"14.00\" fill=\"#000000\">gini = 0.0</text>\n<text text-anchor=\"middle\" x=\"346.5\" y=\"-982.3\" font-family=\"Helvetica,sans-Serif\" font-size=\"14.00\" fill=\"#000000\">samples = 1</text>\n<text text-anchor=\"middle\" x=\"346.5\" y=\"-967.3\" font-family=\"Helvetica,sans-Serif\" font-size=\"14.00\" fill=\"#000000\">value = [0, 1, 0]</text>\n<text text-anchor=\"middle\" x=\"346.5\" y=\"-952.3\" font-family=\"Helvetica,sans-Serif\" font-size=\"14.00\" fill=\"#000000\">class = GALAXY</text>\n</g>\n<!-- 3&#45;&gt;9 -->\n<g id=\"edge9\" class=\"edge\">\n<title>3&#45;&gt;9</title>\n<path fill=\"none\" stroke=\"#000000\" d=\"M346.5,-1055.8796C346.5,-1045.2134 346.5,-1033.7021 346.5,-1022.9015\"/>\n<polygon fill=\"#000000\" stroke=\"#000000\" points=\"350.0001,-1022.8149 346.5,-1012.8149 343.0001,-1022.815 350.0001,-1022.8149\"/>\n</g>\n<!-- 5 -->\n<g id=\"node6\" class=\"node\">\n<title>5</title>\n<path fill=\"#39e581\" stroke=\"#000000\" d=\"M113,-893.5C113,-893.5 12,-893.5 12,-893.5 6,-893.5 0,-887.5 0,-881.5 0,-881.5 0,-837.5 0,-837.5 0,-831.5 6,-825.5 12,-825.5 12,-825.5 113,-825.5 113,-825.5 119,-825.5 125,-831.5 125,-837.5 125,-837.5 125,-881.5 125,-881.5 125,-887.5 119,-893.5 113,-893.5\"/>\n<text text-anchor=\"middle\" x=\"62.5\" y=\"-878.3\" font-family=\"Helvetica,sans-Serif\" font-size=\"14.00\" fill=\"#000000\">gini = 0.0</text>\n<text text-anchor=\"middle\" x=\"62.5\" y=\"-863.3\" font-family=\"Helvetica,sans-Serif\" font-size=\"14.00\" fill=\"#000000\">samples = 1</text>\n<text text-anchor=\"middle\" x=\"62.5\" y=\"-848.3\" font-family=\"Helvetica,sans-Serif\" font-size=\"14.00\" fill=\"#000000\">value = [0, 1, 0]</text>\n<text text-anchor=\"middle\" x=\"62.5\" y=\"-833.3\" font-family=\"Helvetica,sans-Serif\" font-size=\"14.00\" fill=\"#000000\">class = GALAXY</text>\n</g>\n<!-- 4&#45;&gt;5 -->\n<g id=\"edge5\" class=\"edge\">\n<title>4&#45;&gt;5</title>\n<path fill=\"none\" stroke=\"#000000\" d=\"M154.8353,-936.8796C140.6642,-925.0038 125.243,-912.0804 111.1342,-900.2568\"/>\n<polygon fill=\"#000000\" stroke=\"#000000\" points=\"113.3598,-897.5554 103.4472,-893.8149 108.8637,-902.9206 113.3598,-897.5554\"/>\n</g>\n<!-- 6 -->\n<g id=\"node7\" class=\"node\">\n<title>6</title>\n<path fill=\"#e6843d\" stroke=\"#000000\" d=\"M254,-901C254,-901 155,-901 155,-901 149,-901 143,-895 143,-889 143,-889 143,-830 143,-830 143,-824 149,-818 155,-818 155,-818 254,-818 254,-818 260,-818 266,-824 266,-830 266,-830 266,-889 266,-889 266,-895 260,-901 254,-901\"/>\n<text text-anchor=\"middle\" x=\"204.5\" y=\"-885.8\" font-family=\"Helvetica,sans-Serif\" font-size=\"14.00\" fill=\"#000000\">X[8] &lt;= &#45;0.973</text>\n<text text-anchor=\"middle\" x=\"204.5\" y=\"-870.8\" font-family=\"Helvetica,sans-Serif\" font-size=\"14.00\" fill=\"#000000\">gini = 0.041</text>\n<text text-anchor=\"middle\" x=\"204.5\" y=\"-855.8\" font-family=\"Helvetica,sans-Serif\" font-size=\"14.00\" fill=\"#000000\">samples = 48</text>\n<text text-anchor=\"middle\" x=\"204.5\" y=\"-840.8\" font-family=\"Helvetica,sans-Serif\" font-size=\"14.00\" fill=\"#000000\">value = [47, 1, 0]</text>\n<text text-anchor=\"middle\" x=\"204.5\" y=\"-825.8\" font-family=\"Helvetica,sans-Serif\" font-size=\"14.00\" fill=\"#000000\">class = STAR</text>\n</g>\n<!-- 4&#45;&gt;6 -->\n<g id=\"edge6\" class=\"edge\">\n<title>4&#45;&gt;6</title>\n<path fill=\"none\" stroke=\"#000000\" d=\"M204.5,-936.8796C204.5,-928.6838 204.5,-919.9891 204.5,-911.5013\"/>\n<polygon fill=\"#000000\" stroke=\"#000000\" points=\"208.0001,-911.298 204.5,-901.2981 201.0001,-911.2981 208.0001,-911.298\"/>\n</g>\n<!-- 7 -->\n<g id=\"node8\" class=\"node\">\n<title>7</title>\n<path fill=\"#e58139\" stroke=\"#000000\" d=\"M113,-774.5C113,-774.5 14,-774.5 14,-774.5 8,-774.5 2,-768.5 2,-762.5 2,-762.5 2,-718.5 2,-718.5 2,-712.5 8,-706.5 14,-706.5 14,-706.5 113,-706.5 113,-706.5 119,-706.5 125,-712.5 125,-718.5 125,-718.5 125,-762.5 125,-762.5 125,-768.5 119,-774.5 113,-774.5\"/>\n<text text-anchor=\"middle\" x=\"63.5\" y=\"-759.3\" font-family=\"Helvetica,sans-Serif\" font-size=\"14.00\" fill=\"#000000\">gini = 0.0</text>\n<text text-anchor=\"middle\" x=\"63.5\" y=\"-744.3\" font-family=\"Helvetica,sans-Serif\" font-size=\"14.00\" fill=\"#000000\">samples = 47</text>\n<text text-anchor=\"middle\" x=\"63.5\" y=\"-729.3\" font-family=\"Helvetica,sans-Serif\" font-size=\"14.00\" fill=\"#000000\">value = [47, 0, 0]</text>\n<text text-anchor=\"middle\" x=\"63.5\" y=\"-714.3\" font-family=\"Helvetica,sans-Serif\" font-size=\"14.00\" fill=\"#000000\">class = STAR</text>\n</g>\n<!-- 6&#45;&gt;7 -->\n<g id=\"edge7\" class=\"edge\">\n<title>6&#45;&gt;7</title>\n<path fill=\"none\" stroke=\"#000000\" d=\"M155.185,-817.8796C141.244,-806.1138 126.0846,-793.3197 112.1812,-781.5855\"/>\n<polygon fill=\"#000000\" stroke=\"#000000\" points=\"114.0584,-778.5899 104.1589,-774.8149 109.5436,-783.9394 114.0584,-778.5899\"/>\n</g>\n<!-- 8 -->\n<g id=\"node9\" class=\"node\">\n<title>8</title>\n<path fill=\"#39e581\" stroke=\"#000000\" d=\"M256,-774.5C256,-774.5 155,-774.5 155,-774.5 149,-774.5 143,-768.5 143,-762.5 143,-762.5 143,-718.5 143,-718.5 143,-712.5 149,-706.5 155,-706.5 155,-706.5 256,-706.5 256,-706.5 262,-706.5 268,-712.5 268,-718.5 268,-718.5 268,-762.5 268,-762.5 268,-768.5 262,-774.5 256,-774.5\"/>\n<text text-anchor=\"middle\" x=\"205.5\" y=\"-759.3\" font-family=\"Helvetica,sans-Serif\" font-size=\"14.00\" fill=\"#000000\">gini = 0.0</text>\n<text text-anchor=\"middle\" x=\"205.5\" y=\"-744.3\" font-family=\"Helvetica,sans-Serif\" font-size=\"14.00\" fill=\"#000000\">samples = 1</text>\n<text text-anchor=\"middle\" x=\"205.5\" y=\"-729.3\" font-family=\"Helvetica,sans-Serif\" font-size=\"14.00\" fill=\"#000000\">value = [0, 1, 0]</text>\n<text text-anchor=\"middle\" x=\"205.5\" y=\"-714.3\" font-family=\"Helvetica,sans-Serif\" font-size=\"14.00\" fill=\"#000000\">class = GALAXY</text>\n</g>\n<!-- 6&#45;&gt;8 -->\n<g id=\"edge8\" class=\"edge\">\n<title>6&#45;&gt;8</title>\n<path fill=\"none\" stroke=\"#000000\" d=\"M204.8498,-817.8796C204.9394,-807.2134 205.0361,-795.7021 205.1269,-784.9015\"/>\n<polygon fill=\"#000000\" stroke=\"#000000\" points=\"208.6274,-784.844 205.2116,-774.8149 201.6276,-784.7851 208.6274,-784.844\"/>\n</g>\n<!-- 11 -->\n<g id=\"node12\" class=\"node\">\n<title>11</title>\n<path fill=\"#e78b48\" stroke=\"#000000\" d=\"M538,-1020C538,-1020 439,-1020 439,-1020 433,-1020 427,-1014 427,-1008 427,-1008 427,-949 427,-949 427,-943 433,-937 439,-937 439,-937 538,-937 538,-937 544,-937 550,-943 550,-949 550,-949 550,-1008 550,-1008 550,-1014 544,-1020 538,-1020\"/>\n<text text-anchor=\"middle\" x=\"488.5\" y=\"-1004.8\" font-family=\"Helvetica,sans-Serif\" font-size=\"14.00\" fill=\"#000000\">X[7] &lt;= &#45;5.467</text>\n<text text-anchor=\"middle\" x=\"488.5\" y=\"-989.8\" font-family=\"Helvetica,sans-Serif\" font-size=\"14.00\" fill=\"#000000\">gini = 0.133</text>\n<text text-anchor=\"middle\" x=\"488.5\" y=\"-974.8\" font-family=\"Helvetica,sans-Serif\" font-size=\"14.00\" fill=\"#000000\">samples = 28</text>\n<text text-anchor=\"middle\" x=\"488.5\" y=\"-959.8\" font-family=\"Helvetica,sans-Serif\" font-size=\"14.00\" fill=\"#000000\">value = [26, 2, 0]</text>\n<text text-anchor=\"middle\" x=\"488.5\" y=\"-944.8\" font-family=\"Helvetica,sans-Serif\" font-size=\"14.00\" fill=\"#000000\">class = STAR</text>\n</g>\n<!-- 10&#45;&gt;11 -->\n<g id=\"edge11\" class=\"edge\">\n<title>10&#45;&gt;11</title>\n<path fill=\"none\" stroke=\"#000000\" d=\"M560.6776,-1055.8796C552.1927,-1046.7832 543.1346,-1037.0722 534.4032,-1027.7116\"/>\n<polygon fill=\"#000000\" stroke=\"#000000\" points=\"536.8686,-1025.2233 527.4881,-1020.2981 531.7497,-1029.9981 536.8686,-1025.2233\"/>\n</g>\n<!-- 16 -->\n<g id=\"node17\" class=\"node\">\n<title>16</title>\n<path fill=\"#e5813a\" stroke=\"#000000\" d=\"M760.5,-1020C760.5,-1020 644.5,-1020 644.5,-1020 638.5,-1020 632.5,-1014 632.5,-1008 632.5,-1008 632.5,-949 632.5,-949 632.5,-943 638.5,-937 644.5,-937 644.5,-937 760.5,-937 760.5,-937 766.5,-937 772.5,-943 772.5,-949 772.5,-949 772.5,-1008 772.5,-1008 772.5,-1014 766.5,-1020 760.5,-1020\"/>\n<text text-anchor=\"middle\" x=\"702.5\" y=\"-1004.8\" font-family=\"Helvetica,sans-Serif\" font-size=\"14.00\" fill=\"#000000\">X[6] &lt;= 23.5</text>\n<text text-anchor=\"middle\" x=\"702.5\" y=\"-989.8\" font-family=\"Helvetica,sans-Serif\" font-size=\"14.00\" fill=\"#000000\">gini = 0.006</text>\n<text text-anchor=\"middle\" x=\"702.5\" y=\"-974.8\" font-family=\"Helvetica,sans-Serif\" font-size=\"14.00\" fill=\"#000000\">samples = 2820</text>\n<text text-anchor=\"middle\" x=\"702.5\" y=\"-959.8\" font-family=\"Helvetica,sans-Serif\" font-size=\"14.00\" fill=\"#000000\">value = [2812, 7, 1]</text>\n<text text-anchor=\"middle\" x=\"702.5\" y=\"-944.8\" font-family=\"Helvetica,sans-Serif\" font-size=\"14.00\" fill=\"#000000\">class = STAR</text>\n</g>\n<!-- 10&#45;&gt;16 -->\n<g id=\"edge16\" class=\"edge\">\n<title>10&#45;&gt;16</title>\n<path fill=\"none\" stroke=\"#000000\" d=\"M635.5244,-1055.8796C643.3198,-1046.8733 651.6367,-1037.2644 659.6644,-1027.9897\"/>\n<polygon fill=\"#000000\" stroke=\"#000000\" points=\"662.4237,-1030.1498 666.3218,-1020.2981 657.1309,-1025.5686 662.4237,-1030.1498\"/>\n</g>\n<!-- 12 -->\n<g id=\"node13\" class=\"node\">\n<title>12</title>\n<path fill=\"#e58139\" stroke=\"#000000\" d=\"M396,-893.5C396,-893.5 297,-893.5 297,-893.5 291,-893.5 285,-887.5 285,-881.5 285,-881.5 285,-837.5 285,-837.5 285,-831.5 291,-825.5 297,-825.5 297,-825.5 396,-825.5 396,-825.5 402,-825.5 408,-831.5 408,-837.5 408,-837.5 408,-881.5 408,-881.5 408,-887.5 402,-893.5 396,-893.5\"/>\n<text text-anchor=\"middle\" x=\"346.5\" y=\"-878.3\" font-family=\"Helvetica,sans-Serif\" font-size=\"14.00\" fill=\"#000000\">gini = 0.0</text>\n<text text-anchor=\"middle\" x=\"346.5\" y=\"-863.3\" font-family=\"Helvetica,sans-Serif\" font-size=\"14.00\" fill=\"#000000\">samples = 25</text>\n<text text-anchor=\"middle\" x=\"346.5\" y=\"-848.3\" font-family=\"Helvetica,sans-Serif\" font-size=\"14.00\" fill=\"#000000\">value = [25, 0, 0]</text>\n<text text-anchor=\"middle\" x=\"346.5\" y=\"-833.3\" font-family=\"Helvetica,sans-Serif\" font-size=\"14.00\" fill=\"#000000\">class = STAR</text>\n</g>\n<!-- 11&#45;&gt;12 -->\n<g id=\"edge12\" class=\"edge\">\n<title>11&#45;&gt;12</title>\n<path fill=\"none\" stroke=\"#000000\" d=\"M438.8353,-936.8796C424.6642,-925.0038 409.243,-912.0804 395.1342,-900.2568\"/>\n<polygon fill=\"#000000\" stroke=\"#000000\" points=\"397.3598,-897.5554 387.4472,-893.8149 392.8637,-902.9206 397.3598,-897.5554\"/>\n</g>\n<!-- 13 -->\n<g id=\"node14\" class=\"node\">\n<title>13</title>\n<path fill=\"#9cf2c0\" stroke=\"#000000\" d=\"M539,-901C539,-901 438,-901 438,-901 432,-901 426,-895 426,-889 426,-889 426,-830 426,-830 426,-824 432,-818 438,-818 438,-818 539,-818 539,-818 545,-818 551,-824 551,-830 551,-830 551,-889 551,-889 551,-895 545,-901 539,-901\"/>\n<text text-anchor=\"middle\" x=\"488.5\" y=\"-885.8\" font-family=\"Helvetica,sans-Serif\" font-size=\"14.00\" fill=\"#000000\">X[4] &lt;= 2708.0</text>\n<text text-anchor=\"middle\" x=\"488.5\" y=\"-870.8\" font-family=\"Helvetica,sans-Serif\" font-size=\"14.00\" fill=\"#000000\">gini = 0.444</text>\n<text text-anchor=\"middle\" x=\"488.5\" y=\"-855.8\" font-family=\"Helvetica,sans-Serif\" font-size=\"14.00\" fill=\"#000000\">samples = 3</text>\n<text text-anchor=\"middle\" x=\"488.5\" y=\"-840.8\" font-family=\"Helvetica,sans-Serif\" font-size=\"14.00\" fill=\"#000000\">value = [1, 2, 0]</text>\n<text text-anchor=\"middle\" x=\"488.5\" y=\"-825.8\" font-family=\"Helvetica,sans-Serif\" font-size=\"14.00\" fill=\"#000000\">class = GALAXY</text>\n</g>\n<!-- 11&#45;&gt;13 -->\n<g id=\"edge13\" class=\"edge\">\n<title>11&#45;&gt;13</title>\n<path fill=\"none\" stroke=\"#000000\" d=\"M488.5,-936.8796C488.5,-928.6838 488.5,-919.9891 488.5,-911.5013\"/>\n<polygon fill=\"#000000\" stroke=\"#000000\" points=\"492.0001,-911.298 488.5,-901.2981 485.0001,-911.2981 492.0001,-911.298\"/>\n</g>\n<!-- 14 -->\n<g id=\"node15\" class=\"node\">\n<title>14</title>\n<path fill=\"#39e581\" stroke=\"#000000\" d=\"M400,-774.5C400,-774.5 299,-774.5 299,-774.5 293,-774.5 287,-768.5 287,-762.5 287,-762.5 287,-718.5 287,-718.5 287,-712.5 293,-706.5 299,-706.5 299,-706.5 400,-706.5 400,-706.5 406,-706.5 412,-712.5 412,-718.5 412,-718.5 412,-762.5 412,-762.5 412,-768.5 406,-774.5 400,-774.5\"/>\n<text text-anchor=\"middle\" x=\"349.5\" y=\"-759.3\" font-family=\"Helvetica,sans-Serif\" font-size=\"14.00\" fill=\"#000000\">gini = 0.0</text>\n<text text-anchor=\"middle\" x=\"349.5\" y=\"-744.3\" font-family=\"Helvetica,sans-Serif\" font-size=\"14.00\" fill=\"#000000\">samples = 2</text>\n<text text-anchor=\"middle\" x=\"349.5\" y=\"-729.3\" font-family=\"Helvetica,sans-Serif\" font-size=\"14.00\" fill=\"#000000\">value = [0, 2, 0]</text>\n<text text-anchor=\"middle\" x=\"349.5\" y=\"-714.3\" font-family=\"Helvetica,sans-Serif\" font-size=\"14.00\" fill=\"#000000\">class = GALAXY</text>\n</g>\n<!-- 13&#45;&gt;14 -->\n<g id=\"edge14\" class=\"edge\">\n<title>13&#45;&gt;14</title>\n<path fill=\"none\" stroke=\"#000000\" d=\"M439.8845,-817.8796C426.1413,-806.1138 411.1969,-793.3197 397.4907,-781.5855\"/>\n<polygon fill=\"#000000\" stroke=\"#000000\" points=\"399.4548,-778.6596 389.5822,-774.8149 394.9024,-783.9771 399.4548,-778.6596\"/>\n</g>\n<!-- 15 -->\n<g id=\"node16\" class=\"node\">\n<title>15</title>\n<path fill=\"#e58139\" stroke=\"#000000\" d=\"M533,-774.5C533,-774.5 442,-774.5 442,-774.5 436,-774.5 430,-768.5 430,-762.5 430,-762.5 430,-718.5 430,-718.5 430,-712.5 436,-706.5 442,-706.5 442,-706.5 533,-706.5 533,-706.5 539,-706.5 545,-712.5 545,-718.5 545,-718.5 545,-762.5 545,-762.5 545,-768.5 539,-774.5 533,-774.5\"/>\n<text text-anchor=\"middle\" x=\"487.5\" y=\"-759.3\" font-family=\"Helvetica,sans-Serif\" font-size=\"14.00\" fill=\"#000000\">gini = 0.0</text>\n<text text-anchor=\"middle\" x=\"487.5\" y=\"-744.3\" font-family=\"Helvetica,sans-Serif\" font-size=\"14.00\" fill=\"#000000\">samples = 1</text>\n<text text-anchor=\"middle\" x=\"487.5\" y=\"-729.3\" font-family=\"Helvetica,sans-Serif\" font-size=\"14.00\" fill=\"#000000\">value = [1, 0, 0]</text>\n<text text-anchor=\"middle\" x=\"487.5\" y=\"-714.3\" font-family=\"Helvetica,sans-Serif\" font-size=\"14.00\" fill=\"#000000\">class = STAR</text>\n</g>\n<!-- 13&#45;&gt;15 -->\n<g id=\"edge15\" class=\"edge\">\n<title>13&#45;&gt;15</title>\n<path fill=\"none\" stroke=\"#000000\" d=\"M488.1502,-817.8796C488.0606,-807.2134 487.9639,-795.7021 487.8731,-784.9015\"/>\n<polygon fill=\"#000000\" stroke=\"#000000\" points=\"491.3724,-784.7851 487.7884,-774.8149 484.3726,-784.844 491.3724,-784.7851\"/>\n</g>\n<!-- 17 -->\n<g id=\"node18\" class=\"node\">\n<title>17</title>\n<path fill=\"#e6843d\" stroke=\"#000000\" d=\"M756,-901C756,-901 649,-901 649,-901 643,-901 637,-895 637,-889 637,-889 637,-830 637,-830 637,-824 643,-818 649,-818 649,-818 756,-818 756,-818 762,-818 768,-824 768,-830 768,-830 768,-889 768,-889 768,-895 762,-901 756,-901\"/>\n<text text-anchor=\"middle\" x=\"702.5\" y=\"-885.8\" font-family=\"Helvetica,sans-Serif\" font-size=\"14.00\" fill=\"#000000\">X[6] &lt;= 22.5</text>\n<text text-anchor=\"middle\" x=\"702.5\" y=\"-870.8\" font-family=\"Helvetica,sans-Serif\" font-size=\"14.00\" fill=\"#000000\">gini = 0.038</text>\n<text text-anchor=\"middle\" x=\"702.5\" y=\"-855.8\" font-family=\"Helvetica,sans-Serif\" font-size=\"14.00\" fill=\"#000000\">samples = 102</text>\n<text text-anchor=\"middle\" x=\"702.5\" y=\"-840.8\" font-family=\"Helvetica,sans-Serif\" font-size=\"14.00\" fill=\"#000000\">value = [100, 2, 0]</text>\n<text text-anchor=\"middle\" x=\"702.5\" y=\"-825.8\" font-family=\"Helvetica,sans-Serif\" font-size=\"14.00\" fill=\"#000000\">class = STAR</text>\n</g>\n<!-- 16&#45;&gt;17 -->\n<g id=\"edge17\" class=\"edge\">\n<title>16&#45;&gt;17</title>\n<path fill=\"none\" stroke=\"#000000\" d=\"M702.5,-936.8796C702.5,-928.6838 702.5,-919.9891 702.5,-911.5013\"/>\n<polygon fill=\"#000000\" stroke=\"#000000\" points=\"706.0001,-911.298 702.5,-901.2981 699.0001,-911.2981 706.0001,-911.298\"/>\n</g>\n<!-- 22 -->\n<g id=\"node23\" class=\"node\">\n<title>22</title>\n<path fill=\"#e58139\" stroke=\"#000000\" d=\"M976.5,-901C976.5,-901 860.5,-901 860.5,-901 854.5,-901 848.5,-895 848.5,-889 848.5,-889 848.5,-830 848.5,-830 848.5,-824 854.5,-818 860.5,-818 860.5,-818 976.5,-818 976.5,-818 982.5,-818 988.5,-824 988.5,-830 988.5,-830 988.5,-889 988.5,-889 988.5,-895 982.5,-901 976.5,-901\"/>\n<text text-anchor=\"middle\" x=\"918.5\" y=\"-885.8\" font-family=\"Helvetica,sans-Serif\" font-size=\"14.00\" fill=\"#000000\">X[9] &lt;= 0.171</text>\n<text text-anchor=\"middle\" x=\"918.5\" y=\"-870.8\" font-family=\"Helvetica,sans-Serif\" font-size=\"14.00\" fill=\"#000000\">gini = 0.004</text>\n<text text-anchor=\"middle\" x=\"918.5\" y=\"-855.8\" font-family=\"Helvetica,sans-Serif\" font-size=\"14.00\" fill=\"#000000\">samples = 2718</text>\n<text text-anchor=\"middle\" x=\"918.5\" y=\"-840.8\" font-family=\"Helvetica,sans-Serif\" font-size=\"14.00\" fill=\"#000000\">value = [2712, 5, 1]</text>\n<text text-anchor=\"middle\" x=\"918.5\" y=\"-825.8\" font-family=\"Helvetica,sans-Serif\" font-size=\"14.00\" fill=\"#000000\">class = STAR</text>\n</g>\n<!-- 16&#45;&gt;22 -->\n<g id=\"edge22\" class=\"edge\">\n<title>16&#45;&gt;22</title>\n<path fill=\"none\" stroke=\"#000000\" d=\"M772.629,-939.8641C793.9578,-928.1135 817.5429,-915.1199 839.419,-903.0678\"/>\n<polygon fill=\"#000000\" stroke=\"#000000\" points=\"841.2837,-906.0365 848.3535,-898.1455 837.9058,-899.9054 841.2837,-906.0365\"/>\n</g>\n<!-- 18 -->\n<g id=\"node19\" class=\"node\">\n<title>18</title>\n<path fill=\"#e58139\" stroke=\"#000000\" d=\"M674,-774.5C674,-774.5 575,-774.5 575,-774.5 569,-774.5 563,-768.5 563,-762.5 563,-762.5 563,-718.5 563,-718.5 563,-712.5 569,-706.5 575,-706.5 575,-706.5 674,-706.5 674,-706.5 680,-706.5 686,-712.5 686,-718.5 686,-718.5 686,-762.5 686,-762.5 686,-768.5 680,-774.5 674,-774.5\"/>\n<text text-anchor=\"middle\" x=\"624.5\" y=\"-759.3\" font-family=\"Helvetica,sans-Serif\" font-size=\"14.00\" fill=\"#000000\">gini = 0.0</text>\n<text text-anchor=\"middle\" x=\"624.5\" y=\"-744.3\" font-family=\"Helvetica,sans-Serif\" font-size=\"14.00\" fill=\"#000000\">samples = 99</text>\n<text text-anchor=\"middle\" x=\"624.5\" y=\"-729.3\" font-family=\"Helvetica,sans-Serif\" font-size=\"14.00\" fill=\"#000000\">value = [99, 0, 0]</text>\n<text text-anchor=\"middle\" x=\"624.5\" y=\"-714.3\" font-family=\"Helvetica,sans-Serif\" font-size=\"14.00\" fill=\"#000000\">class = STAR</text>\n</g>\n<!-- 17&#45;&gt;18 -->\n<g id=\"edge18\" class=\"edge\">\n<title>17&#45;&gt;18</title>\n<path fill=\"none\" stroke=\"#000000\" d=\"M675.2194,-817.8796C667.8677,-806.6636 659.9036,-794.5131 652.5126,-783.2372\"/>\n<polygon fill=\"#000000\" stroke=\"#000000\" points=\"655.4014,-781.2598 646.9921,-774.8149 649.5469,-785.0972 655.4014,-781.2598\"/>\n</g>\n<!-- 19 -->\n<g id=\"node20\" class=\"node\">\n<title>19</title>\n<path fill=\"#9cf2c0\" stroke=\"#000000\" d=\"M817,-782C817,-782 716,-782 716,-782 710,-782 704,-776 704,-770 704,-770 704,-711 704,-711 704,-705 710,-699 716,-699 716,-699 817,-699 817,-699 823,-699 829,-705 829,-711 829,-711 829,-770 829,-770 829,-776 823,-782 817,-782\"/>\n<text text-anchor=\"middle\" x=\"766.5\" y=\"-766.8\" font-family=\"Helvetica,sans-Serif\" font-size=\"14.00\" fill=\"#000000\">X[4] &lt;= 2725.5</text>\n<text text-anchor=\"middle\" x=\"766.5\" y=\"-751.8\" font-family=\"Helvetica,sans-Serif\" font-size=\"14.00\" fill=\"#000000\">gini = 0.444</text>\n<text text-anchor=\"middle\" x=\"766.5\" y=\"-736.8\" font-family=\"Helvetica,sans-Serif\" font-size=\"14.00\" fill=\"#000000\">samples = 3</text>\n<text text-anchor=\"middle\" x=\"766.5\" y=\"-721.8\" font-family=\"Helvetica,sans-Serif\" font-size=\"14.00\" fill=\"#000000\">value = [1, 2, 0]</text>\n<text text-anchor=\"middle\" x=\"766.5\" y=\"-706.8\" font-family=\"Helvetica,sans-Serif\" font-size=\"14.00\" fill=\"#000000\">class = GALAXY</text>\n</g>\n<!-- 17&#45;&gt;19 -->\n<g id=\"edge19\" class=\"edge\">\n<title>17&#45;&gt;19</title>\n<path fill=\"none\" stroke=\"#000000\" d=\"M724.8841,-817.8796C729.4856,-809.3236 734.3796,-800.2238 739.1342,-791.3833\"/>\n<polygon fill=\"#000000\" stroke=\"#000000\" points=\"742.3662,-792.763 744.0204,-782.2981 736.2012,-789.4473 742.3662,-792.763\"/>\n</g>\n<!-- 20 -->\n<g id=\"node21\" class=\"node\">\n<title>20</title>\n<path fill=\"#39e581\" stroke=\"#000000\" d=\"M607,-655.5C607,-655.5 506,-655.5 506,-655.5 500,-655.5 494,-649.5 494,-643.5 494,-643.5 494,-599.5 494,-599.5 494,-593.5 500,-587.5 506,-587.5 506,-587.5 607,-587.5 607,-587.5 613,-587.5 619,-593.5 619,-599.5 619,-599.5 619,-643.5 619,-643.5 619,-649.5 613,-655.5 607,-655.5\"/>\n<text text-anchor=\"middle\" x=\"556.5\" y=\"-640.3\" font-family=\"Helvetica,sans-Serif\" font-size=\"14.00\" fill=\"#000000\">gini = 0.0</text>\n<text text-anchor=\"middle\" x=\"556.5\" y=\"-625.3\" font-family=\"Helvetica,sans-Serif\" font-size=\"14.00\" fill=\"#000000\">samples = 2</text>\n<text text-anchor=\"middle\" x=\"556.5\" y=\"-610.3\" font-family=\"Helvetica,sans-Serif\" font-size=\"14.00\" fill=\"#000000\">value = [0, 2, 0]</text>\n<text text-anchor=\"middle\" x=\"556.5\" y=\"-595.3\" font-family=\"Helvetica,sans-Serif\" font-size=\"14.00\" fill=\"#000000\">class = GALAXY</text>\n</g>\n<!-- 19&#45;&gt;20 -->\n<g id=\"edge20\" class=\"edge\">\n<title>19&#45;&gt;20</title>\n<path fill=\"none\" stroke=\"#000000\" d=\"M703.7341,-704.1756C700.6164,-702.4174 697.5255,-700.6842 694.5,-699 664.9641,-682.5577 656.9858,-679.5319 627.5,-663 626.1768,-662.2581 624.8411,-661.5063 623.4963,-660.7467\"/>\n<polygon fill=\"#000000\" stroke=\"#000000\" points=\"624.9456,-657.5445 614.5228,-655.6424 621.4845,-663.629 624.9456,-657.5445\"/>\n</g>\n<!-- 21 -->\n<g id=\"node22\" class=\"node\">\n<title>21</title>\n<path fill=\"#e58139\" stroke=\"#000000\" d=\"M740,-655.5C740,-655.5 649,-655.5 649,-655.5 643,-655.5 637,-649.5 637,-643.5 637,-643.5 637,-599.5 637,-599.5 637,-593.5 643,-587.5 649,-587.5 649,-587.5 740,-587.5 740,-587.5 746,-587.5 752,-593.5 752,-599.5 752,-599.5 752,-643.5 752,-643.5 752,-649.5 746,-655.5 740,-655.5\"/>\n<text text-anchor=\"middle\" x=\"694.5\" y=\"-640.3\" font-family=\"Helvetica,sans-Serif\" font-size=\"14.00\" fill=\"#000000\">gini = 0.0</text>\n<text text-anchor=\"middle\" x=\"694.5\" y=\"-625.3\" font-family=\"Helvetica,sans-Serif\" font-size=\"14.00\" fill=\"#000000\">samples = 1</text>\n<text text-anchor=\"middle\" x=\"694.5\" y=\"-610.3\" font-family=\"Helvetica,sans-Serif\" font-size=\"14.00\" fill=\"#000000\">value = [1, 0, 0]</text>\n<text text-anchor=\"middle\" x=\"694.5\" y=\"-595.3\" font-family=\"Helvetica,sans-Serif\" font-size=\"14.00\" fill=\"#000000\">class = STAR</text>\n</g>\n<!-- 19&#45;&gt;21 -->\n<g id=\"edge21\" class=\"edge\">\n<title>19&#45;&gt;21</title>\n<path fill=\"none\" stroke=\"#000000\" d=\"M741.3179,-698.8796C734.5983,-687.7735 727.3243,-675.7513 720.5586,-664.5691\"/>\n<polygon fill=\"#000000\" stroke=\"#000000\" points=\"723.4332,-662.5589 715.262,-655.8149 717.4441,-666.1826 723.4332,-662.5589\"/>\n</g>\n<!-- 23 -->\n<g id=\"node24\" class=\"node\">\n<title>23</title>\n<path fill=\"#e58139\" stroke=\"#000000\" d=\"M976.5,-782C976.5,-782 860.5,-782 860.5,-782 854.5,-782 848.5,-776 848.5,-770 848.5,-770 848.5,-711 848.5,-711 848.5,-705 854.5,-699 860.5,-699 860.5,-699 976.5,-699 976.5,-699 982.5,-699 988.5,-705 988.5,-711 988.5,-711 988.5,-770 988.5,-770 988.5,-776 982.5,-782 976.5,-782\"/>\n<text text-anchor=\"middle\" x=\"918.5\" y=\"-766.8\" font-family=\"Helvetica,sans-Serif\" font-size=\"14.00\" fill=\"#000000\">X[0] &lt;= 112.395</text>\n<text text-anchor=\"middle\" x=\"918.5\" y=\"-751.8\" font-family=\"Helvetica,sans-Serif\" font-size=\"14.00\" fill=\"#000000\">gini = 0.004</text>\n<text text-anchor=\"middle\" x=\"918.5\" y=\"-736.8\" font-family=\"Helvetica,sans-Serif\" font-size=\"14.00\" fill=\"#000000\">samples = 2690</text>\n<text text-anchor=\"middle\" x=\"918.5\" y=\"-721.8\" font-family=\"Helvetica,sans-Serif\" font-size=\"14.00\" fill=\"#000000\">value = [2685, 4, 1]</text>\n<text text-anchor=\"middle\" x=\"918.5\" y=\"-706.8\" font-family=\"Helvetica,sans-Serif\" font-size=\"14.00\" fill=\"#000000\">class = STAR</text>\n</g>\n<!-- 22&#45;&gt;23 -->\n<g id=\"edge23\" class=\"edge\">\n<title>22&#45;&gt;23</title>\n<path fill=\"none\" stroke=\"#000000\" d=\"M918.5,-817.8796C918.5,-809.6838 918.5,-800.9891 918.5,-792.5013\"/>\n<polygon fill=\"#000000\" stroke=\"#000000\" points=\"922.0001,-792.298 918.5,-782.2981 915.0001,-792.2981 922.0001,-792.298\"/>\n</g>\n<!-- 46 -->\n<g id=\"node47\" class=\"node\">\n<title>46</title>\n<path fill=\"#e68640\" stroke=\"#000000\" d=\"M1190,-782C1190,-782 1091,-782 1091,-782 1085,-782 1079,-776 1079,-770 1079,-770 1079,-711 1079,-711 1079,-705 1085,-699 1091,-699 1091,-699 1190,-699 1190,-699 1196,-699 1202,-705 1202,-711 1202,-711 1202,-770 1202,-770 1202,-776 1196,-782 1190,-782\"/>\n<text text-anchor=\"middle\" x=\"1140.5\" y=\"-766.8\" font-family=\"Helvetica,sans-Serif\" font-size=\"14.00\" fill=\"#000000\">X[9] &lt;= 0.18</text>\n<text text-anchor=\"middle\" x=\"1140.5\" y=\"-751.8\" font-family=\"Helvetica,sans-Serif\" font-size=\"14.00\" fill=\"#000000\">gini = 0.069</text>\n<text text-anchor=\"middle\" x=\"1140.5\" y=\"-736.8\" font-family=\"Helvetica,sans-Serif\" font-size=\"14.00\" fill=\"#000000\">samples = 28</text>\n<text text-anchor=\"middle\" x=\"1140.5\" y=\"-721.8\" font-family=\"Helvetica,sans-Serif\" font-size=\"14.00\" fill=\"#000000\">value = [27, 1, 0]</text>\n<text text-anchor=\"middle\" x=\"1140.5\" y=\"-706.8\" font-family=\"Helvetica,sans-Serif\" font-size=\"14.00\" fill=\"#000000\">class = STAR</text>\n</g>\n<!-- 22&#45;&gt;46 -->\n<g id=\"edge46\" class=\"edge\">\n<title>22&#45;&gt;46</title>\n<path fill=\"none\" stroke=\"#000000\" d=\"M988.7422,-821.8477C1014.6502,-807.96 1043.9984,-792.2283 1069.9349,-778.3254\"/>\n<polygon fill=\"#000000\" stroke=\"#000000\" points=\"1071.7954,-781.2993 1078.9554,-773.4901 1068.4882,-775.1298 1071.7954,-781.2993\"/>\n</g>\n<!-- 24 -->\n<g id=\"node25\" class=\"node\">\n<title>24</title>\n<path fill=\"#e5823b\" stroke=\"#000000\" d=\"M889,-663C889,-663 782,-663 782,-663 776,-663 770,-657 770,-651 770,-651 770,-592 770,-592 770,-586 776,-580 782,-580 782,-580 889,-580 889,-580 895,-580 901,-586 901,-592 901,-592 901,-651 901,-651 901,-657 895,-663 889,-663\"/>\n<text text-anchor=\"middle\" x=\"835.5\" y=\"-647.8\" font-family=\"Helvetica,sans-Serif\" font-size=\"14.00\" fill=\"#000000\">X[0] &lt;= 112.344</text>\n<text text-anchor=\"middle\" x=\"835.5\" y=\"-632.8\" font-family=\"Helvetica,sans-Serif\" font-size=\"14.00\" fill=\"#000000\">gini = 0.022</text>\n<text text-anchor=\"middle\" x=\"835.5\" y=\"-617.8\" font-family=\"Helvetica,sans-Serif\" font-size=\"14.00\" fill=\"#000000\">samples = 178</text>\n<text text-anchor=\"middle\" x=\"835.5\" y=\"-602.8\" font-family=\"Helvetica,sans-Serif\" font-size=\"14.00\" fill=\"#000000\">value = [176, 2, 0]</text>\n<text text-anchor=\"middle\" x=\"835.5\" y=\"-587.8\" font-family=\"Helvetica,sans-Serif\" font-size=\"14.00\" fill=\"#000000\">class = STAR</text>\n</g>\n<!-- 23&#45;&gt;24 -->\n<g id=\"edge24\" class=\"edge\">\n<title>23&#45;&gt;24</title>\n<path fill=\"none\" stroke=\"#000000\" d=\"M889.4706,-698.8796C883.3145,-690.0534 876.7549,-680.6485 870.4064,-671.5466\"/>\n<polygon fill=\"#000000\" stroke=\"#000000\" points=\"873.2448,-669.4978 864.6533,-663.2981 867.5033,-673.5024 873.2448,-669.4978\"/>\n</g>\n<!-- 31 -->\n<g id=\"node32\" class=\"node\">\n<title>31</title>\n<path fill=\"#e58139\" stroke=\"#000000\" d=\"M1047.5,-663C1047.5,-663 931.5,-663 931.5,-663 925.5,-663 919.5,-657 919.5,-651 919.5,-651 919.5,-592 919.5,-592 919.5,-586 925.5,-580 931.5,-580 931.5,-580 1047.5,-580 1047.5,-580 1053.5,-580 1059.5,-586 1059.5,-592 1059.5,-592 1059.5,-651 1059.5,-651 1059.5,-657 1053.5,-663 1047.5,-663\"/>\n<text text-anchor=\"middle\" x=\"989.5\" y=\"-647.8\" font-family=\"Helvetica,sans-Serif\" font-size=\"14.00\" fill=\"#000000\">X[2] &lt;= 511.5</text>\n<text text-anchor=\"middle\" x=\"989.5\" y=\"-632.8\" font-family=\"Helvetica,sans-Serif\" font-size=\"14.00\" fill=\"#000000\">gini = 0.002</text>\n<text text-anchor=\"middle\" x=\"989.5\" y=\"-617.8\" font-family=\"Helvetica,sans-Serif\" font-size=\"14.00\" fill=\"#000000\">samples = 2512</text>\n<text text-anchor=\"middle\" x=\"989.5\" y=\"-602.8\" font-family=\"Helvetica,sans-Serif\" font-size=\"14.00\" fill=\"#000000\">value = [2509, 2, 1]</text>\n<text text-anchor=\"middle\" x=\"989.5\" y=\"-587.8\" font-family=\"Helvetica,sans-Serif\" font-size=\"14.00\" fill=\"#000000\">class = STAR</text>\n</g>\n<!-- 23&#45;&gt;31 -->\n<g id=\"edge31\" class=\"edge\">\n<title>23&#45;&gt;31</title>\n<path fill=\"none\" stroke=\"#000000\" d=\"M943.3324,-698.8796C948.4909,-690.2335 953.9808,-681.0322 959.3076,-672.1042\"/>\n<polygon fill=\"#000000\" stroke=\"#000000\" points=\"962.4436,-673.679 964.5617,-663.2981 956.4322,-670.0924 962.4436,-673.679\"/>\n</g>\n<!-- 25 -->\n<g id=\"node26\" class=\"node\">\n<title>25</title>\n<path fill=\"#e5823a\" stroke=\"#000000\" d=\"M733,-544C733,-544 626,-544 626,-544 620,-544 614,-538 614,-532 614,-532 614,-473 614,-473 614,-467 620,-461 626,-461 626,-461 733,-461 733,-461 739,-461 745,-467 745,-473 745,-473 745,-532 745,-532 745,-538 739,-544 733,-544\"/>\n<text text-anchor=\"middle\" x=\"679.5\" y=\"-528.8\" font-family=\"Helvetica,sans-Serif\" font-size=\"14.00\" fill=\"#000000\">X[5] &lt;= 51888.0</text>\n<text text-anchor=\"middle\" x=\"679.5\" y=\"-513.8\" font-family=\"Helvetica,sans-Serif\" font-size=\"14.00\" fill=\"#000000\">gini = 0.011</text>\n<text text-anchor=\"middle\" x=\"679.5\" y=\"-498.8\" font-family=\"Helvetica,sans-Serif\" font-size=\"14.00\" fill=\"#000000\">samples = 177</text>\n<text text-anchor=\"middle\" x=\"679.5\" y=\"-483.8\" font-family=\"Helvetica,sans-Serif\" font-size=\"14.00\" fill=\"#000000\">value = [176, 1, 0]</text>\n<text text-anchor=\"middle\" x=\"679.5\" y=\"-468.8\" font-family=\"Helvetica,sans-Serif\" font-size=\"14.00\" fill=\"#000000\">class = STAR</text>\n</g>\n<!-- 24&#45;&gt;25 -->\n<g id=\"edge25\" class=\"edge\">\n<title>24&#45;&gt;25</title>\n<path fill=\"none\" stroke=\"#000000\" d=\"M780.9388,-579.8796C768.4698,-570.368 755.1198,-560.1843 742.3352,-550.432\"/>\n<polygon fill=\"#000000\" stroke=\"#000000\" points=\"744.104,-547.3792 734.0304,-544.0969 739.8585,-552.9448 744.104,-547.3792\"/>\n</g>\n<!-- 30 -->\n<g id=\"node31\" class=\"node\">\n<title>30</title>\n<path fill=\"#39e581\" stroke=\"#000000\" d=\"M886,-536.5C886,-536.5 785,-536.5 785,-536.5 779,-536.5 773,-530.5 773,-524.5 773,-524.5 773,-480.5 773,-480.5 773,-474.5 779,-468.5 785,-468.5 785,-468.5 886,-468.5 886,-468.5 892,-468.5 898,-474.5 898,-480.5 898,-480.5 898,-524.5 898,-524.5 898,-530.5 892,-536.5 886,-536.5\"/>\n<text text-anchor=\"middle\" x=\"835.5\" y=\"-521.3\" font-family=\"Helvetica,sans-Serif\" font-size=\"14.00\" fill=\"#000000\">gini = 0.0</text>\n<text text-anchor=\"middle\" x=\"835.5\" y=\"-506.3\" font-family=\"Helvetica,sans-Serif\" font-size=\"14.00\" fill=\"#000000\">samples = 1</text>\n<text text-anchor=\"middle\" x=\"835.5\" y=\"-491.3\" font-family=\"Helvetica,sans-Serif\" font-size=\"14.00\" fill=\"#000000\">value = [0, 1, 0]</text>\n<text text-anchor=\"middle\" x=\"835.5\" y=\"-476.3\" font-family=\"Helvetica,sans-Serif\" font-size=\"14.00\" fill=\"#000000\">class = GALAXY</text>\n</g>\n<!-- 24&#45;&gt;30 -->\n<g id=\"edge30\" class=\"edge\">\n<title>24&#45;&gt;30</title>\n<path fill=\"none\" stroke=\"#000000\" d=\"M835.5,-579.8796C835.5,-569.2134 835.5,-557.7021 835.5,-546.9015\"/>\n<polygon fill=\"#000000\" stroke=\"#000000\" points=\"839.0001,-546.8149 835.5,-536.8149 832.0001,-546.815 839.0001,-546.8149\"/>\n</g>\n<!-- 26 -->\n<g id=\"node27\" class=\"node\">\n<title>26</title>\n<path fill=\"#e78946\" stroke=\"#000000\" d=\"M584,-425C584,-425 485,-425 485,-425 479,-425 473,-419 473,-413 473,-413 473,-354 473,-354 473,-348 479,-342 485,-342 485,-342 584,-342 584,-342 590,-342 596,-348 596,-354 596,-354 596,-413 596,-413 596,-419 590,-425 584,-425\"/>\n<text text-anchor=\"middle\" x=\"534.5\" y=\"-409.8\" font-family=\"Helvetica,sans-Serif\" font-size=\"14.00\" fill=\"#000000\">X[3] &lt;= &#45;0.0</text>\n<text text-anchor=\"middle\" x=\"534.5\" y=\"-394.8\" font-family=\"Helvetica,sans-Serif\" font-size=\"14.00\" fill=\"#000000\">gini = 0.117</text>\n<text text-anchor=\"middle\" x=\"534.5\" y=\"-379.8\" font-family=\"Helvetica,sans-Serif\" font-size=\"14.00\" fill=\"#000000\">samples = 16</text>\n<text text-anchor=\"middle\" x=\"534.5\" y=\"-364.8\" font-family=\"Helvetica,sans-Serif\" font-size=\"14.00\" fill=\"#000000\">value = [15, 1, 0]</text>\n<text text-anchor=\"middle\" x=\"534.5\" y=\"-349.8\" font-family=\"Helvetica,sans-Serif\" font-size=\"14.00\" fill=\"#000000\">class = STAR</text>\n</g>\n<!-- 25&#45;&gt;26 -->\n<g id=\"edge26\" class=\"edge\">\n<title>25&#45;&gt;26</title>\n<path fill=\"none\" stroke=\"#000000\" d=\"M628.786,-460.8796C617.373,-451.513 605.1659,-441.4948 593.4485,-431.8784\"/>\n<polygon fill=\"#000000\" stroke=\"#000000\" points=\"595.3809,-428.9366 585.4304,-425.2981 590.9401,-434.3476 595.3809,-428.9366\"/>\n</g>\n<!-- 29 -->\n<g id=\"node30\" class=\"node\">\n<title>29</title>\n<path fill=\"#e58139\" stroke=\"#000000\" d=\"M733,-417.5C733,-417.5 626,-417.5 626,-417.5 620,-417.5 614,-411.5 614,-405.5 614,-405.5 614,-361.5 614,-361.5 614,-355.5 620,-349.5 626,-349.5 626,-349.5 733,-349.5 733,-349.5 739,-349.5 745,-355.5 745,-361.5 745,-361.5 745,-405.5 745,-405.5 745,-411.5 739,-417.5 733,-417.5\"/>\n<text text-anchor=\"middle\" x=\"679.5\" y=\"-402.3\" font-family=\"Helvetica,sans-Serif\" font-size=\"14.00\" fill=\"#000000\">gini = 0.0</text>\n<text text-anchor=\"middle\" x=\"679.5\" y=\"-387.3\" font-family=\"Helvetica,sans-Serif\" font-size=\"14.00\" fill=\"#000000\">samples = 161</text>\n<text text-anchor=\"middle\" x=\"679.5\" y=\"-372.3\" font-family=\"Helvetica,sans-Serif\" font-size=\"14.00\" fill=\"#000000\">value = [161, 0, 0]</text>\n<text text-anchor=\"middle\" x=\"679.5\" y=\"-357.3\" font-family=\"Helvetica,sans-Serif\" font-size=\"14.00\" fill=\"#000000\">class = STAR</text>\n</g>\n<!-- 25&#45;&gt;29 -->\n<g id=\"edge29\" class=\"edge\">\n<title>25&#45;&gt;29</title>\n<path fill=\"none\" stroke=\"#000000\" d=\"M679.5,-460.8796C679.5,-450.2134 679.5,-438.7021 679.5,-427.9015\"/>\n<polygon fill=\"#000000\" stroke=\"#000000\" points=\"683.0001,-427.8149 679.5,-417.8149 676.0001,-427.815 683.0001,-427.8149\"/>\n</g>\n<!-- 27 -->\n<g id=\"node28\" class=\"node\">\n<title>27</title>\n<path fill=\"#e58139\" stroke=\"#000000\" d=\"M501,-298.5C501,-298.5 402,-298.5 402,-298.5 396,-298.5 390,-292.5 390,-286.5 390,-286.5 390,-242.5 390,-242.5 390,-236.5 396,-230.5 402,-230.5 402,-230.5 501,-230.5 501,-230.5 507,-230.5 513,-236.5 513,-242.5 513,-242.5 513,-286.5 513,-286.5 513,-292.5 507,-298.5 501,-298.5\"/>\n<text text-anchor=\"middle\" x=\"451.5\" y=\"-283.3\" font-family=\"Helvetica,sans-Serif\" font-size=\"14.00\" fill=\"#000000\">gini = 0.0</text>\n<text text-anchor=\"middle\" x=\"451.5\" y=\"-268.3\" font-family=\"Helvetica,sans-Serif\" font-size=\"14.00\" fill=\"#000000\">samples = 15</text>\n<text text-anchor=\"middle\" x=\"451.5\" y=\"-253.3\" font-family=\"Helvetica,sans-Serif\" font-size=\"14.00\" fill=\"#000000\">value = [15, 0, 0]</text>\n<text text-anchor=\"middle\" x=\"451.5\" y=\"-238.3\" font-family=\"Helvetica,sans-Serif\" font-size=\"14.00\" fill=\"#000000\">class = STAR</text>\n</g>\n<!-- 26&#45;&gt;27 -->\n<g id=\"edge27\" class=\"edge\">\n<title>26&#45;&gt;27</title>\n<path fill=\"none\" stroke=\"#000000\" d=\"M505.4706,-341.8796C497.6477,-330.6636 489.173,-318.5131 481.3083,-307.2372\"/>\n<polygon fill=\"#000000\" stroke=\"#000000\" points=\"484.0254,-305.0147 475.4339,-298.8149 478.284,-309.0192 484.0254,-305.0147\"/>\n</g>\n<!-- 28 -->\n<g id=\"node29\" class=\"node\">\n<title>28</title>\n<path fill=\"#39e581\" stroke=\"#000000\" d=\"M644,-298.5C644,-298.5 543,-298.5 543,-298.5 537,-298.5 531,-292.5 531,-286.5 531,-286.5 531,-242.5 531,-242.5 531,-236.5 537,-230.5 543,-230.5 543,-230.5 644,-230.5 644,-230.5 650,-230.5 656,-236.5 656,-242.5 656,-242.5 656,-286.5 656,-286.5 656,-292.5 650,-298.5 644,-298.5\"/>\n<text text-anchor=\"middle\" x=\"593.5\" y=\"-283.3\" font-family=\"Helvetica,sans-Serif\" font-size=\"14.00\" fill=\"#000000\">gini = 0.0</text>\n<text text-anchor=\"middle\" x=\"593.5\" y=\"-268.3\" font-family=\"Helvetica,sans-Serif\" font-size=\"14.00\" fill=\"#000000\">samples = 1</text>\n<text text-anchor=\"middle\" x=\"593.5\" y=\"-253.3\" font-family=\"Helvetica,sans-Serif\" font-size=\"14.00\" fill=\"#000000\">value = [0, 1, 0]</text>\n<text text-anchor=\"middle\" x=\"593.5\" y=\"-238.3\" font-family=\"Helvetica,sans-Serif\" font-size=\"14.00\" fill=\"#000000\">class = GALAXY</text>\n</g>\n<!-- 26&#45;&gt;28 -->\n<g id=\"edge28\" class=\"edge\">\n<title>26&#45;&gt;28</title>\n<path fill=\"none\" stroke=\"#000000\" d=\"M555.1353,-341.8796C560.5872,-330.8835 566.4843,-318.9893 571.9816,-307.9015\"/>\n<polygon fill=\"#000000\" stroke=\"#000000\" points=\"575.1804,-309.3289 576.4867,-298.8149 568.9089,-306.2195 575.1804,-309.3289\"/>\n</g>\n<!-- 32 -->\n<g id=\"node33\" class=\"node\">\n<title>32</title>\n<path fill=\"#e58139\" stroke=\"#000000\" d=\"M1045.5,-544C1045.5,-544 929.5,-544 929.5,-544 923.5,-544 917.5,-538 917.5,-532 917.5,-532 917.5,-473 917.5,-473 917.5,-467 923.5,-461 929.5,-461 929.5,-461 1045.5,-461 1045.5,-461 1051.5,-461 1057.5,-467 1057.5,-473 1057.5,-473 1057.5,-532 1057.5,-532 1057.5,-538 1051.5,-544 1045.5,-544\"/>\n<text text-anchor=\"middle\" x=\"987.5\" y=\"-528.8\" font-family=\"Helvetica,sans-Serif\" font-size=\"14.00\" fill=\"#000000\">X[9] &lt;= 0.042</text>\n<text text-anchor=\"middle\" x=\"987.5\" y=\"-513.8\" font-family=\"Helvetica,sans-Serif\" font-size=\"14.00\" fill=\"#000000\">gini = 0.001</text>\n<text text-anchor=\"middle\" x=\"987.5\" y=\"-498.8\" font-family=\"Helvetica,sans-Serif\" font-size=\"14.00\" fill=\"#000000\">samples = 2180</text>\n<text text-anchor=\"middle\" x=\"987.5\" y=\"-483.8\" font-family=\"Helvetica,sans-Serif\" font-size=\"14.00\" fill=\"#000000\">value = [2179, 0, 1]</text>\n<text text-anchor=\"middle\" x=\"987.5\" y=\"-468.8\" font-family=\"Helvetica,sans-Serif\" font-size=\"14.00\" fill=\"#000000\">class = STAR</text>\n</g>\n<!-- 31&#45;&gt;32 -->\n<g id=\"edge32\" class=\"edge\">\n<title>31&#45;&gt;32</title>\n<path fill=\"none\" stroke=\"#000000\" d=\"M988.8005,-579.8796C988.6628,-571.6838 988.5166,-562.9891 988.374,-554.5013\"/>\n<polygon fill=\"#000000\" stroke=\"#000000\" points=\"991.8701,-554.2378 988.2025,-544.2981 984.8711,-554.3555 991.8701,-554.2378\"/>\n</g>\n<!-- 37 -->\n<g id=\"node38\" class=\"node\">\n<title>37</title>\n<path fill=\"#e5823a\" stroke=\"#000000\" d=\"M1219,-544C1219,-544 1112,-544 1112,-544 1106,-544 1100,-538 1100,-532 1100,-532 1100,-473 1100,-473 1100,-467 1106,-461 1112,-461 1112,-461 1219,-461 1219,-461 1225,-461 1231,-467 1231,-473 1231,-473 1231,-532 1231,-532 1231,-538 1225,-544 1219,-544\"/>\n<text text-anchor=\"middle\" x=\"1165.5\" y=\"-528.8\" font-family=\"Helvetica,sans-Serif\" font-size=\"14.00\" fill=\"#000000\">X[0] &lt;= 220.754</text>\n<text text-anchor=\"middle\" x=\"1165.5\" y=\"-513.8\" font-family=\"Helvetica,sans-Serif\" font-size=\"14.00\" fill=\"#000000\">gini = 0.012</text>\n<text text-anchor=\"middle\" x=\"1165.5\" y=\"-498.8\" font-family=\"Helvetica,sans-Serif\" font-size=\"14.00\" fill=\"#000000\">samples = 332</text>\n<text text-anchor=\"middle\" x=\"1165.5\" y=\"-483.8\" font-family=\"Helvetica,sans-Serif\" font-size=\"14.00\" fill=\"#000000\">value = [330, 2, 0]</text>\n<text text-anchor=\"middle\" x=\"1165.5\" y=\"-468.8\" font-family=\"Helvetica,sans-Serif\" font-size=\"14.00\" fill=\"#000000\">class = STAR</text>\n</g>\n<!-- 31&#45;&gt;37 -->\n<g id=\"edge37\" class=\"edge\">\n<title>31&#45;&gt;37</title>\n<path fill=\"none\" stroke=\"#000000\" d=\"M1051.0563,-579.8796C1065.3918,-570.1868 1080.7595,-559.7961 1095.4325,-549.8752\"/>\n<polygon fill=\"#000000\" stroke=\"#000000\" points=\"1097.6548,-552.5976 1103.9785,-544.0969 1093.7339,-546.7987 1097.6548,-552.5976\"/>\n</g>\n<!-- 33 -->\n<g id=\"node34\" class=\"node\">\n<title>33</title>\n<path fill=\"#e58139\" stroke=\"#000000\" d=\"M891.5,-417.5C891.5,-417.5 775.5,-417.5 775.5,-417.5 769.5,-417.5 763.5,-411.5 763.5,-405.5 763.5,-405.5 763.5,-361.5 763.5,-361.5 763.5,-355.5 769.5,-349.5 775.5,-349.5 775.5,-349.5 891.5,-349.5 891.5,-349.5 897.5,-349.5 903.5,-355.5 903.5,-361.5 903.5,-361.5 903.5,-405.5 903.5,-405.5 903.5,-411.5 897.5,-417.5 891.5,-417.5\"/>\n<text text-anchor=\"middle\" x=\"833.5\" y=\"-402.3\" font-family=\"Helvetica,sans-Serif\" font-size=\"14.00\" fill=\"#000000\">gini = 0.0</text>\n<text text-anchor=\"middle\" x=\"833.5\" y=\"-387.3\" font-family=\"Helvetica,sans-Serif\" font-size=\"14.00\" fill=\"#000000\">samples = 2048</text>\n<text text-anchor=\"middle\" x=\"833.5\" y=\"-372.3\" font-family=\"Helvetica,sans-Serif\" font-size=\"14.00\" fill=\"#000000\">value = [2048, 0, 0]</text>\n<text text-anchor=\"middle\" x=\"833.5\" y=\"-357.3\" font-family=\"Helvetica,sans-Serif\" font-size=\"14.00\" fill=\"#000000\">class = STAR</text>\n</g>\n<!-- 32&#45;&gt;33 -->\n<g id=\"edge33\" class=\"edge\">\n<title>32&#45;&gt;33</title>\n<path fill=\"none\" stroke=\"#000000\" d=\"M933.6383,-460.8796C918.2696,-449.0038 901.5453,-436.0804 886.2441,-424.2568\"/>\n<polygon fill=\"#000000\" stroke=\"#000000\" points=\"887.9605,-421.1599 877.9076,-417.8149 883.6804,-426.699 887.9605,-421.1599\"/>\n</g>\n<!-- 34 -->\n<g id=\"node35\" class=\"node\">\n<title>34</title>\n<path fill=\"#e5823b\" stroke=\"#000000\" d=\"M1041,-425C1041,-425 934,-425 934,-425 928,-425 922,-419 922,-413 922,-413 922,-354 922,-354 922,-348 928,-342 934,-342 934,-342 1041,-342 1041,-342 1047,-342 1053,-348 1053,-354 1053,-354 1053,-413 1053,-413 1053,-419 1047,-425 1041,-425\"/>\n<text text-anchor=\"middle\" x=\"987.5\" y=\"-409.8\" font-family=\"Helvetica,sans-Serif\" font-size=\"14.00\" fill=\"#000000\">X[9] &lt;= 0.042</text>\n<text text-anchor=\"middle\" x=\"987.5\" y=\"-394.8\" font-family=\"Helvetica,sans-Serif\" font-size=\"14.00\" fill=\"#000000\">gini = 0.015</text>\n<text text-anchor=\"middle\" x=\"987.5\" y=\"-379.8\" font-family=\"Helvetica,sans-Serif\" font-size=\"14.00\" fill=\"#000000\">samples = 132</text>\n<text text-anchor=\"middle\" x=\"987.5\" y=\"-364.8\" font-family=\"Helvetica,sans-Serif\" font-size=\"14.00\" fill=\"#000000\">value = [131, 0, 1]</text>\n<text text-anchor=\"middle\" x=\"987.5\" y=\"-349.8\" font-family=\"Helvetica,sans-Serif\" font-size=\"14.00\" fill=\"#000000\">class = STAR</text>\n</g>\n<!-- 32&#45;&gt;34 -->\n<g id=\"edge34\" class=\"edge\">\n<title>32&#45;&gt;34</title>\n<path fill=\"none\" stroke=\"#000000\" d=\"M987.5,-460.8796C987.5,-452.6838 987.5,-443.9891 987.5,-435.5013\"/>\n<polygon fill=\"#000000\" stroke=\"#000000\" points=\"991.0001,-435.298 987.5,-425.2981 984.0001,-435.2981 991.0001,-435.298\"/>\n</g>\n<!-- 35 -->\n<g id=\"node36\" class=\"node\">\n<title>35</title>\n<path fill=\"#8139e5\" stroke=\"#000000\" d=\"M835,-298.5C835,-298.5 744,-298.5 744,-298.5 738,-298.5 732,-292.5 732,-286.5 732,-286.5 732,-242.5 732,-242.5 732,-236.5 738,-230.5 744,-230.5 744,-230.5 835,-230.5 835,-230.5 841,-230.5 847,-236.5 847,-242.5 847,-242.5 847,-286.5 847,-286.5 847,-292.5 841,-298.5 835,-298.5\"/>\n<text text-anchor=\"middle\" x=\"789.5\" y=\"-283.3\" font-family=\"Helvetica,sans-Serif\" font-size=\"14.00\" fill=\"#000000\">gini = 0.0</text>\n<text text-anchor=\"middle\" x=\"789.5\" y=\"-268.3\" font-family=\"Helvetica,sans-Serif\" font-size=\"14.00\" fill=\"#000000\">samples = 1</text>\n<text text-anchor=\"middle\" x=\"789.5\" y=\"-253.3\" font-family=\"Helvetica,sans-Serif\" font-size=\"14.00\" fill=\"#000000\">value = [0, 0, 1]</text>\n<text text-anchor=\"middle\" x=\"789.5\" y=\"-238.3\" font-family=\"Helvetica,sans-Serif\" font-size=\"14.00\" fill=\"#000000\">class = QSO</text>\n</g>\n<!-- 34&#45;&gt;35 -->\n<g id=\"edge35\" class=\"edge\">\n<title>34&#45;&gt;35</title>\n<path fill=\"none\" stroke=\"#000000\" d=\"M921.804,-345.4574C900.5639,-333.0168 876.9603,-319.0428 855.5,-306 854.3939,-305.3278 853.2784,-304.6479 852.1557,-303.9618\"/>\n<polygon fill=\"#000000\" stroke=\"#000000\" points=\"853.7964,-300.862 843.4445,-298.6062 850.1302,-306.8251 853.7964,-300.862\"/>\n</g>\n<!-- 36 -->\n<g id=\"node37\" class=\"node\">\n<title>36</title>\n<path fill=\"#e58139\" stroke=\"#000000\" d=\"M984,-298.5C984,-298.5 877,-298.5 877,-298.5 871,-298.5 865,-292.5 865,-286.5 865,-286.5 865,-242.5 865,-242.5 865,-236.5 871,-230.5 877,-230.5 877,-230.5 984,-230.5 984,-230.5 990,-230.5 996,-236.5 996,-242.5 996,-242.5 996,-286.5 996,-286.5 996,-292.5 990,-298.5 984,-298.5\"/>\n<text text-anchor=\"middle\" x=\"930.5\" y=\"-283.3\" font-family=\"Helvetica,sans-Serif\" font-size=\"14.00\" fill=\"#000000\">gini = 0.0</text>\n<text text-anchor=\"middle\" x=\"930.5\" y=\"-268.3\" font-family=\"Helvetica,sans-Serif\" font-size=\"14.00\" fill=\"#000000\">samples = 131</text>\n<text text-anchor=\"middle\" x=\"930.5\" y=\"-253.3\" font-family=\"Helvetica,sans-Serif\" font-size=\"14.00\" fill=\"#000000\">value = [131, 0, 0]</text>\n<text text-anchor=\"middle\" x=\"930.5\" y=\"-238.3\" font-family=\"Helvetica,sans-Serif\" font-size=\"14.00\" fill=\"#000000\">class = STAR</text>\n</g>\n<!-- 34&#45;&gt;36 -->\n<g id=\"edge36\" class=\"edge\">\n<title>34&#45;&gt;36</title>\n<path fill=\"none\" stroke=\"#000000\" d=\"M967.5642,-341.8796C962.2971,-330.8835 956.5999,-318.9893 951.289,-307.9015\"/>\n<polygon fill=\"#000000\" stroke=\"#000000\" points=\"954.4131,-306.3217 946.9366,-298.8149 948.1,-309.3457 954.4131,-306.3217\"/>\n</g>\n<!-- 38 -->\n<g id=\"node39\" class=\"node\">\n<title>38</title>\n<path fill=\"#e9965a\" stroke=\"#000000\" d=\"M1211,-425C1211,-425 1120,-425 1120,-425 1114,-425 1108,-419 1108,-413 1108,-413 1108,-354 1108,-354 1108,-348 1114,-342 1120,-342 1120,-342 1211,-342 1211,-342 1217,-342 1223,-348 1223,-354 1223,-354 1223,-413 1223,-413 1223,-419 1217,-425 1211,-425\"/>\n<text text-anchor=\"middle\" x=\"1165.5\" y=\"-409.8\" font-family=\"Helvetica,sans-Serif\" font-size=\"14.00\" fill=\"#000000\">X[1] &lt;= &#45;0.682</text>\n<text text-anchor=\"middle\" x=\"1165.5\" y=\"-394.8\" font-family=\"Helvetica,sans-Serif\" font-size=\"14.00\" fill=\"#000000\">gini = 0.245</text>\n<text text-anchor=\"middle\" x=\"1165.5\" y=\"-379.8\" font-family=\"Helvetica,sans-Serif\" font-size=\"14.00\" fill=\"#000000\">samples = 7</text>\n<text text-anchor=\"middle\" x=\"1165.5\" y=\"-364.8\" font-family=\"Helvetica,sans-Serif\" font-size=\"14.00\" fill=\"#000000\">value = [6, 1, 0]</text>\n<text text-anchor=\"middle\" x=\"1165.5\" y=\"-349.8\" font-family=\"Helvetica,sans-Serif\" font-size=\"14.00\" fill=\"#000000\">class = STAR</text>\n</g>\n<!-- 37&#45;&gt;38 -->\n<g id=\"edge38\" class=\"edge\">\n<title>37&#45;&gt;38</title>\n<path fill=\"none\" stroke=\"#000000\" d=\"M1165.5,-460.8796C1165.5,-452.6838 1165.5,-443.9891 1165.5,-435.5013\"/>\n<polygon fill=\"#000000\" stroke=\"#000000\" points=\"1169.0001,-435.298 1165.5,-425.2981 1162.0001,-435.2981 1169.0001,-435.298\"/>\n</g>\n<!-- 41 -->\n<g id=\"node42\" class=\"node\">\n<title>41</title>\n<path fill=\"#e5813a\" stroke=\"#000000\" d=\"M1409,-425C1409,-425 1302,-425 1302,-425 1296,-425 1290,-419 1290,-413 1290,-413 1290,-354 1290,-354 1290,-348 1296,-342 1302,-342 1302,-342 1409,-342 1409,-342 1415,-342 1421,-348 1421,-354 1421,-354 1421,-413 1421,-413 1421,-419 1415,-425 1409,-425\"/>\n<text text-anchor=\"middle\" x=\"1355.5\" y=\"-409.8\" font-family=\"Helvetica,sans-Serif\" font-size=\"14.00\" fill=\"#000000\">X[1] &lt;= 53.42</text>\n<text text-anchor=\"middle\" x=\"1355.5\" y=\"-394.8\" font-family=\"Helvetica,sans-Serif\" font-size=\"14.00\" fill=\"#000000\">gini = 0.006</text>\n<text text-anchor=\"middle\" x=\"1355.5\" y=\"-379.8\" font-family=\"Helvetica,sans-Serif\" font-size=\"14.00\" fill=\"#000000\">samples = 325</text>\n<text text-anchor=\"middle\" x=\"1355.5\" y=\"-364.8\" font-family=\"Helvetica,sans-Serif\" font-size=\"14.00\" fill=\"#000000\">value = [324, 1, 0]</text>\n<text text-anchor=\"middle\" x=\"1355.5\" y=\"-349.8\" font-family=\"Helvetica,sans-Serif\" font-size=\"14.00\" fill=\"#000000\">class = STAR</text>\n</g>\n<!-- 37&#45;&gt;41 -->\n<g id=\"edge41\" class=\"edge\">\n<title>37&#45;&gt;41</title>\n<path fill=\"none\" stroke=\"#000000\" d=\"M1231.1533,-461.3803C1247.3207,-451.2544 1264.7455,-440.341 1281.2863,-429.9812\"/>\n<polygon fill=\"#000000\" stroke=\"#000000\" points=\"1283.227,-432.8956 1289.8441,-424.6213 1279.5113,-426.9631 1283.227,-432.8956\"/>\n</g>\n<!-- 39 -->\n<g id=\"node40\" class=\"node\">\n<title>39</title>\n<path fill=\"#39e581\" stroke=\"#000000\" d=\"M1127,-298.5C1127,-298.5 1026,-298.5 1026,-298.5 1020,-298.5 1014,-292.5 1014,-286.5 1014,-286.5 1014,-242.5 1014,-242.5 1014,-236.5 1020,-230.5 1026,-230.5 1026,-230.5 1127,-230.5 1127,-230.5 1133,-230.5 1139,-236.5 1139,-242.5 1139,-242.5 1139,-286.5 1139,-286.5 1139,-292.5 1133,-298.5 1127,-298.5\"/>\n<text text-anchor=\"middle\" x=\"1076.5\" y=\"-283.3\" font-family=\"Helvetica,sans-Serif\" font-size=\"14.00\" fill=\"#000000\">gini = 0.0</text>\n<text text-anchor=\"middle\" x=\"1076.5\" y=\"-268.3\" font-family=\"Helvetica,sans-Serif\" font-size=\"14.00\" fill=\"#000000\">samples = 1</text>\n<text text-anchor=\"middle\" x=\"1076.5\" y=\"-253.3\" font-family=\"Helvetica,sans-Serif\" font-size=\"14.00\" fill=\"#000000\">value = [0, 1, 0]</text>\n<text text-anchor=\"middle\" x=\"1076.5\" y=\"-238.3\" font-family=\"Helvetica,sans-Serif\" font-size=\"14.00\" fill=\"#000000\">class = GALAXY</text>\n</g>\n<!-- 38&#45;&gt;39 -->\n<g id=\"edge39\" class=\"edge\">\n<title>38&#45;&gt;39</title>\n<path fill=\"none\" stroke=\"#000000\" d=\"M1134.3721,-341.8796C1125.9014,-330.5536 1116.7181,-318.2748 1108.2153,-306.9058\"/>\n<polygon fill=\"#000000\" stroke=\"#000000\" points=\"1110.9562,-304.7268 1102.1641,-298.8149 1105.3505,-308.9193 1110.9562,-304.7268\"/>\n</g>\n<!-- 40 -->\n<g id=\"node41\" class=\"node\">\n<title>40</title>\n<path fill=\"#e58139\" stroke=\"#000000\" d=\"M1260,-298.5C1260,-298.5 1169,-298.5 1169,-298.5 1163,-298.5 1157,-292.5 1157,-286.5 1157,-286.5 1157,-242.5 1157,-242.5 1157,-236.5 1163,-230.5 1169,-230.5 1169,-230.5 1260,-230.5 1260,-230.5 1266,-230.5 1272,-236.5 1272,-242.5 1272,-242.5 1272,-286.5 1272,-286.5 1272,-292.5 1266,-298.5 1260,-298.5\"/>\n<text text-anchor=\"middle\" x=\"1214.5\" y=\"-283.3\" font-family=\"Helvetica,sans-Serif\" font-size=\"14.00\" fill=\"#000000\">gini = 0.0</text>\n<text text-anchor=\"middle\" x=\"1214.5\" y=\"-268.3\" font-family=\"Helvetica,sans-Serif\" font-size=\"14.00\" fill=\"#000000\">samples = 6</text>\n<text text-anchor=\"middle\" x=\"1214.5\" y=\"-253.3\" font-family=\"Helvetica,sans-Serif\" font-size=\"14.00\" fill=\"#000000\">value = [6, 0, 0]</text>\n<text text-anchor=\"middle\" x=\"1214.5\" y=\"-238.3\" font-family=\"Helvetica,sans-Serif\" font-size=\"14.00\" fill=\"#000000\">class = STAR</text>\n</g>\n<!-- 38&#45;&gt;40 -->\n<g id=\"edge40\" class=\"edge\">\n<title>38&#45;&gt;40</title>\n<path fill=\"none\" stroke=\"#000000\" d=\"M1182.6378,-341.8796C1187.1203,-330.9935 1191.9653,-319.227 1196.4917,-308.2344\"/>\n<polygon fill=\"#000000\" stroke=\"#000000\" points=\"1199.7991,-309.3944 1200.3703,-298.8149 1193.3264,-306.7291 1199.7991,-309.3944\"/>\n</g>\n<!-- 42 -->\n<g id=\"node43\" class=\"node\">\n<title>42</title>\n<path fill=\"#e58139\" stroke=\"#000000\" d=\"M1409,-298.5C1409,-298.5 1302,-298.5 1302,-298.5 1296,-298.5 1290,-292.5 1290,-286.5 1290,-286.5 1290,-242.5 1290,-242.5 1290,-236.5 1296,-230.5 1302,-230.5 1302,-230.5 1409,-230.5 1409,-230.5 1415,-230.5 1421,-236.5 1421,-242.5 1421,-242.5 1421,-286.5 1421,-286.5 1421,-292.5 1415,-298.5 1409,-298.5\"/>\n<text text-anchor=\"middle\" x=\"1355.5\" y=\"-283.3\" font-family=\"Helvetica,sans-Serif\" font-size=\"14.00\" fill=\"#000000\">gini = 0.0</text>\n<text text-anchor=\"middle\" x=\"1355.5\" y=\"-268.3\" font-family=\"Helvetica,sans-Serif\" font-size=\"14.00\" fill=\"#000000\">samples = 301</text>\n<text text-anchor=\"middle\" x=\"1355.5\" y=\"-253.3\" font-family=\"Helvetica,sans-Serif\" font-size=\"14.00\" fill=\"#000000\">value = [301, 0, 0]</text>\n<text text-anchor=\"middle\" x=\"1355.5\" y=\"-238.3\" font-family=\"Helvetica,sans-Serif\" font-size=\"14.00\" fill=\"#000000\">class = STAR</text>\n</g>\n<!-- 41&#45;&gt;42 -->\n<g id=\"edge42\" class=\"edge\">\n<title>41&#45;&gt;42</title>\n<path fill=\"none\" stroke=\"#000000\" d=\"M1355.5,-341.8796C1355.5,-331.2134 1355.5,-319.7021 1355.5,-308.9015\"/>\n<polygon fill=\"#000000\" stroke=\"#000000\" points=\"1359.0001,-308.8149 1355.5,-298.8149 1352.0001,-308.815 1359.0001,-308.8149\"/>\n</g>\n<!-- 43 -->\n<g id=\"node44\" class=\"node\">\n<title>43</title>\n<path fill=\"#e68642\" stroke=\"#000000\" d=\"M1550,-306C1550,-306 1451,-306 1451,-306 1445,-306 1439,-300 1439,-294 1439,-294 1439,-235 1439,-235 1439,-229 1445,-223 1451,-223 1451,-223 1550,-223 1550,-223 1556,-223 1562,-229 1562,-235 1562,-235 1562,-294 1562,-294 1562,-300 1556,-306 1550,-306\"/>\n<text text-anchor=\"middle\" x=\"1500.5\" y=\"-290.8\" font-family=\"Helvetica,sans-Serif\" font-size=\"14.00\" fill=\"#000000\">X[1] &lt;= 53.466</text>\n<text text-anchor=\"middle\" x=\"1500.5\" y=\"-275.8\" font-family=\"Helvetica,sans-Serif\" font-size=\"14.00\" fill=\"#000000\">gini = 0.08</text>\n<text text-anchor=\"middle\" x=\"1500.5\" y=\"-260.8\" font-family=\"Helvetica,sans-Serif\" font-size=\"14.00\" fill=\"#000000\">samples = 24</text>\n<text text-anchor=\"middle\" x=\"1500.5\" y=\"-245.8\" font-family=\"Helvetica,sans-Serif\" font-size=\"14.00\" fill=\"#000000\">value = [23, 1, 0]</text>\n<text text-anchor=\"middle\" x=\"1500.5\" y=\"-230.8\" font-family=\"Helvetica,sans-Serif\" font-size=\"14.00\" fill=\"#000000\">class = STAR</text>\n</g>\n<!-- 41&#45;&gt;43 -->\n<g id=\"edge43\" class=\"edge\">\n<title>41&#45;&gt;43</title>\n<path fill=\"none\" stroke=\"#000000\" d=\"M1406.214,-341.8796C1417.627,-332.513 1429.8341,-322.4948 1441.5515,-312.8784\"/>\n<polygon fill=\"#000000\" stroke=\"#000000\" points=\"1444.0599,-315.3476 1449.5696,-306.2981 1439.6191,-309.9366 1444.0599,-315.3476\"/>\n</g>\n<!-- 44 -->\n<g id=\"node45\" class=\"node\">\n<title>44</title>\n<path fill=\"#39e581\" stroke=\"#000000\" d=\"M1409,-179.5C1409,-179.5 1308,-179.5 1308,-179.5 1302,-179.5 1296,-173.5 1296,-167.5 1296,-167.5 1296,-123.5 1296,-123.5 1296,-117.5 1302,-111.5 1308,-111.5 1308,-111.5 1409,-111.5 1409,-111.5 1415,-111.5 1421,-117.5 1421,-123.5 1421,-123.5 1421,-167.5 1421,-167.5 1421,-173.5 1415,-179.5 1409,-179.5\"/>\n<text text-anchor=\"middle\" x=\"1358.5\" y=\"-164.3\" font-family=\"Helvetica,sans-Serif\" font-size=\"14.00\" fill=\"#000000\">gini = 0.0</text>\n<text text-anchor=\"middle\" x=\"1358.5\" y=\"-149.3\" font-family=\"Helvetica,sans-Serif\" font-size=\"14.00\" fill=\"#000000\">samples = 1</text>\n<text text-anchor=\"middle\" x=\"1358.5\" y=\"-134.3\" font-family=\"Helvetica,sans-Serif\" font-size=\"14.00\" fill=\"#000000\">value = [0, 1, 0]</text>\n<text text-anchor=\"middle\" x=\"1358.5\" y=\"-119.3\" font-family=\"Helvetica,sans-Serif\" font-size=\"14.00\" fill=\"#000000\">class = GALAXY</text>\n</g>\n<!-- 43&#45;&gt;44 -->\n<g id=\"edge44\" class=\"edge\">\n<title>43&#45;&gt;44</title>\n<path fill=\"none\" stroke=\"#000000\" d=\"M1450.8353,-222.8796C1436.6642,-211.0038 1421.243,-198.0804 1407.1342,-186.2568\"/>\n<polygon fill=\"#000000\" stroke=\"#000000\" points=\"1409.3598,-183.5554 1399.4472,-179.8149 1404.8637,-188.9206 1409.3598,-183.5554\"/>\n</g>\n<!-- 45 -->\n<g id=\"node46\" class=\"node\">\n<title>45</title>\n<path fill=\"#e58139\" stroke=\"#000000\" d=\"M1550,-179.5C1550,-179.5 1451,-179.5 1451,-179.5 1445,-179.5 1439,-173.5 1439,-167.5 1439,-167.5 1439,-123.5 1439,-123.5 1439,-117.5 1445,-111.5 1451,-111.5 1451,-111.5 1550,-111.5 1550,-111.5 1556,-111.5 1562,-117.5 1562,-123.5 1562,-123.5 1562,-167.5 1562,-167.5 1562,-173.5 1556,-179.5 1550,-179.5\"/>\n<text text-anchor=\"middle\" x=\"1500.5\" y=\"-164.3\" font-family=\"Helvetica,sans-Serif\" font-size=\"14.00\" fill=\"#000000\">gini = 0.0</text>\n<text text-anchor=\"middle\" x=\"1500.5\" y=\"-149.3\" font-family=\"Helvetica,sans-Serif\" font-size=\"14.00\" fill=\"#000000\">samples = 23</text>\n<text text-anchor=\"middle\" x=\"1500.5\" y=\"-134.3\" font-family=\"Helvetica,sans-Serif\" font-size=\"14.00\" fill=\"#000000\">value = [23, 0, 0]</text>\n<text text-anchor=\"middle\" x=\"1500.5\" y=\"-119.3\" font-family=\"Helvetica,sans-Serif\" font-size=\"14.00\" fill=\"#000000\">class = STAR</text>\n</g>\n<!-- 43&#45;&gt;45 -->\n<g id=\"edge45\" class=\"edge\">\n<title>43&#45;&gt;45</title>\n<path fill=\"none\" stroke=\"#000000\" d=\"M1500.5,-222.8796C1500.5,-212.2134 1500.5,-200.7021 1500.5,-189.9015\"/>\n<polygon fill=\"#000000\" stroke=\"#000000\" points=\"1504.0001,-189.8149 1500.5,-179.8149 1497.0001,-189.815 1504.0001,-189.8149\"/>\n</g>\n<!-- 47 -->\n<g id=\"node48\" class=\"node\">\n<title>47</title>\n<path fill=\"#39e581\" stroke=\"#000000\" d=\"M1191,-655.5C1191,-655.5 1090,-655.5 1090,-655.5 1084,-655.5 1078,-649.5 1078,-643.5 1078,-643.5 1078,-599.5 1078,-599.5 1078,-593.5 1084,-587.5 1090,-587.5 1090,-587.5 1191,-587.5 1191,-587.5 1197,-587.5 1203,-593.5 1203,-599.5 1203,-599.5 1203,-643.5 1203,-643.5 1203,-649.5 1197,-655.5 1191,-655.5\"/>\n<text text-anchor=\"middle\" x=\"1140.5\" y=\"-640.3\" font-family=\"Helvetica,sans-Serif\" font-size=\"14.00\" fill=\"#000000\">gini = 0.0</text>\n<text text-anchor=\"middle\" x=\"1140.5\" y=\"-625.3\" font-family=\"Helvetica,sans-Serif\" font-size=\"14.00\" fill=\"#000000\">samples = 1</text>\n<text text-anchor=\"middle\" x=\"1140.5\" y=\"-610.3\" font-family=\"Helvetica,sans-Serif\" font-size=\"14.00\" fill=\"#000000\">value = [0, 1, 0]</text>\n<text text-anchor=\"middle\" x=\"1140.5\" y=\"-595.3\" font-family=\"Helvetica,sans-Serif\" font-size=\"14.00\" fill=\"#000000\">class = GALAXY</text>\n</g>\n<!-- 46&#45;&gt;47 -->\n<g id=\"edge47\" class=\"edge\">\n<title>46&#45;&gt;47</title>\n<path fill=\"none\" stroke=\"#000000\" d=\"M1140.5,-698.8796C1140.5,-688.2134 1140.5,-676.7021 1140.5,-665.9015\"/>\n<polygon fill=\"#000000\" stroke=\"#000000\" points=\"1144.0001,-665.8149 1140.5,-655.8149 1137.0001,-665.815 1144.0001,-665.8149\"/>\n</g>\n<!-- 48 -->\n<g id=\"node49\" class=\"node\">\n<title>48</title>\n<path fill=\"#e58139\" stroke=\"#000000\" d=\"M1332,-655.5C1332,-655.5 1233,-655.5 1233,-655.5 1227,-655.5 1221,-649.5 1221,-643.5 1221,-643.5 1221,-599.5 1221,-599.5 1221,-593.5 1227,-587.5 1233,-587.5 1233,-587.5 1332,-587.5 1332,-587.5 1338,-587.5 1344,-593.5 1344,-599.5 1344,-599.5 1344,-643.5 1344,-643.5 1344,-649.5 1338,-655.5 1332,-655.5\"/>\n<text text-anchor=\"middle\" x=\"1282.5\" y=\"-640.3\" font-family=\"Helvetica,sans-Serif\" font-size=\"14.00\" fill=\"#000000\">gini = 0.0</text>\n<text text-anchor=\"middle\" x=\"1282.5\" y=\"-625.3\" font-family=\"Helvetica,sans-Serif\" font-size=\"14.00\" fill=\"#000000\">samples = 27</text>\n<text text-anchor=\"middle\" x=\"1282.5\" y=\"-610.3\" font-family=\"Helvetica,sans-Serif\" font-size=\"14.00\" fill=\"#000000\">value = [27, 0, 0]</text>\n<text text-anchor=\"middle\" x=\"1282.5\" y=\"-595.3\" font-family=\"Helvetica,sans-Serif\" font-size=\"14.00\" fill=\"#000000\">class = STAR</text>\n</g>\n<!-- 46&#45;&gt;48 -->\n<g id=\"edge48\" class=\"edge\">\n<title>46&#45;&gt;48</title>\n<path fill=\"none\" stroke=\"#000000\" d=\"M1190.1647,-698.8796C1204.3358,-687.0038 1219.757,-674.0804 1233.8658,-662.2568\"/>\n<polygon fill=\"#000000\" stroke=\"#000000\" points=\"1236.1363,-664.9206 1241.5528,-655.8149 1231.6402,-659.5554 1236.1363,-664.9206\"/>\n</g>\n<!-- 50 -->\n<g id=\"node51\" class=\"node\">\n<title>50</title>\n<path fill=\"#39e581\" stroke=\"#000000\" d=\"M1610,-1131.5C1610,-1131.5 1509,-1131.5 1509,-1131.5 1503,-1131.5 1497,-1125.5 1497,-1119.5 1497,-1119.5 1497,-1075.5 1497,-1075.5 1497,-1069.5 1503,-1063.5 1509,-1063.5 1509,-1063.5 1610,-1063.5 1610,-1063.5 1616,-1063.5 1622,-1069.5 1622,-1075.5 1622,-1075.5 1622,-1119.5 1622,-1119.5 1622,-1125.5 1616,-1131.5 1610,-1131.5\"/>\n<text text-anchor=\"middle\" x=\"1559.5\" y=\"-1116.3\" font-family=\"Helvetica,sans-Serif\" font-size=\"14.00\" fill=\"#000000\">gini = 0.0</text>\n<text text-anchor=\"middle\" x=\"1559.5\" y=\"-1101.3\" font-family=\"Helvetica,sans-Serif\" font-size=\"14.00\" fill=\"#000000\">samples = 1</text>\n<text text-anchor=\"middle\" x=\"1559.5\" y=\"-1086.3\" font-family=\"Helvetica,sans-Serif\" font-size=\"14.00\" fill=\"#000000\">value = [0, 1, 0]</text>\n<text text-anchor=\"middle\" x=\"1559.5\" y=\"-1071.3\" font-family=\"Helvetica,sans-Serif\" font-size=\"14.00\" fill=\"#000000\">class = GALAXY</text>\n</g>\n<!-- 49&#45;&gt;50 -->\n<g id=\"edge50\" class=\"edge\">\n<title>49&#45;&gt;50</title>\n<path fill=\"none\" stroke=\"#000000\" d=\"M1597.8647,-1174.8796C1592.4128,-1163.8835 1586.5157,-1151.9893 1581.0184,-1140.9015\"/>\n<polygon fill=\"#000000\" stroke=\"#000000\" points=\"1584.0911,-1139.2195 1576.5133,-1131.8149 1577.8196,-1142.3289 1584.0911,-1139.2195\"/>\n</g>\n<!-- 51 -->\n<g id=\"node52\" class=\"node\">\n<title>51</title>\n<path fill=\"#e58139\" stroke=\"#000000\" d=\"M1743,-1131.5C1743,-1131.5 1652,-1131.5 1652,-1131.5 1646,-1131.5 1640,-1125.5 1640,-1119.5 1640,-1119.5 1640,-1075.5 1640,-1075.5 1640,-1069.5 1646,-1063.5 1652,-1063.5 1652,-1063.5 1743,-1063.5 1743,-1063.5 1749,-1063.5 1755,-1069.5 1755,-1075.5 1755,-1075.5 1755,-1119.5 1755,-1119.5 1755,-1125.5 1749,-1131.5 1743,-1131.5\"/>\n<text text-anchor=\"middle\" x=\"1697.5\" y=\"-1116.3\" font-family=\"Helvetica,sans-Serif\" font-size=\"14.00\" fill=\"#000000\">gini = 0.0</text>\n<text text-anchor=\"middle\" x=\"1697.5\" y=\"-1101.3\" font-family=\"Helvetica,sans-Serif\" font-size=\"14.00\" fill=\"#000000\">samples = 2</text>\n<text text-anchor=\"middle\" x=\"1697.5\" y=\"-1086.3\" font-family=\"Helvetica,sans-Serif\" font-size=\"14.00\" fill=\"#000000\">value = [2, 0, 0]</text>\n<text text-anchor=\"middle\" x=\"1697.5\" y=\"-1071.3\" font-family=\"Helvetica,sans-Serif\" font-size=\"14.00\" fill=\"#000000\">class = STAR</text>\n</g>\n<!-- 49&#45;&gt;51 -->\n<g id=\"edge51\" class=\"edge\">\n<title>49&#45;&gt;51</title>\n<path fill=\"none\" stroke=\"#000000\" d=\"M1646.1304,-1174.8796C1653.5763,-1163.6636 1661.6425,-1151.5131 1669.1282,-1140.2372\"/>\n<polygon fill=\"#000000\" stroke=\"#000000\" points=\"1672.1046,-1142.082 1674.7195,-1131.8149 1666.2727,-1138.2104 1672.1046,-1142.082\"/>\n</g>\n<!-- 53 -->\n<g id=\"node54\" class=\"node\">\n<title>53</title>\n<path fill=\"#3ce583\" stroke=\"#000000\" d=\"M2565.5,-1258C2565.5,-1258 2441.5,-1258 2441.5,-1258 2435.5,-1258 2429.5,-1252 2429.5,-1246 2429.5,-1246 2429.5,-1187 2429.5,-1187 2429.5,-1181 2435.5,-1175 2441.5,-1175 2441.5,-1175 2565.5,-1175 2565.5,-1175 2571.5,-1175 2577.5,-1181 2577.5,-1187 2577.5,-1187 2577.5,-1246 2577.5,-1246 2577.5,-1252 2571.5,-1258 2565.5,-1258\"/>\n<text text-anchor=\"middle\" x=\"2503.5\" y=\"-1242.8\" font-family=\"Helvetica,sans-Serif\" font-size=\"14.00\" fill=\"#000000\">X[9] &lt;= 0.331</text>\n<text text-anchor=\"middle\" x=\"2503.5\" y=\"-1227.8\" font-family=\"Helvetica,sans-Serif\" font-size=\"14.00\" fill=\"#000000\">gini = 0.027</text>\n<text text-anchor=\"middle\" x=\"2503.5\" y=\"-1212.8\" font-family=\"Helvetica,sans-Serif\" font-size=\"14.00\" fill=\"#000000\">samples = 3550</text>\n<text text-anchor=\"middle\" x=\"2503.5\" y=\"-1197.8\" font-family=\"Helvetica,sans-Serif\" font-size=\"14.00\" fill=\"#000000\">value = [3, 3502, 45]</text>\n<text text-anchor=\"middle\" x=\"2503.5\" y=\"-1182.8\" font-family=\"Helvetica,sans-Serif\" font-size=\"14.00\" fill=\"#000000\">class = GALAXY</text>\n</g>\n<!-- 52&#45;&gt;53 -->\n<g id=\"edge53\" class=\"edge\">\n<title>52&#45;&gt;53</title>\n<path fill=\"none\" stroke=\"#000000\" d=\"M2503.5,-1293.8796C2503.5,-1285.6838 2503.5,-1276.9891 2503.5,-1268.5013\"/>\n<polygon fill=\"#000000\" stroke=\"#000000\" points=\"2507.0001,-1268.298 2503.5,-1258.2981 2500.0001,-1268.2981 2507.0001,-1268.298\"/>\n</g>\n<!-- 116 -->\n<g id=\"node117\" class=\"node\">\n<title>116</title>\n<path fill=\"#853fe6\" stroke=\"#000000\" d=\"M3615.5,-1258C3615.5,-1258 3499.5,-1258 3499.5,-1258 3493.5,-1258 3487.5,-1252 3487.5,-1246 3487.5,-1246 3487.5,-1187 3487.5,-1187 3487.5,-1181 3493.5,-1175 3499.5,-1175 3499.5,-1175 3615.5,-1175 3615.5,-1175 3621.5,-1175 3627.5,-1181 3627.5,-1187 3627.5,-1187 3627.5,-1246 3627.5,-1246 3627.5,-1252 3621.5,-1258 3615.5,-1258\"/>\n<text text-anchor=\"middle\" x=\"3557.5\" y=\"-1242.8\" font-family=\"Helvetica,sans-Serif\" font-size=\"14.00\" fill=\"#000000\">X[9] &lt;= &#45;0.083</text>\n<text text-anchor=\"middle\" x=\"3557.5\" y=\"-1227.8\" font-family=\"Helvetica,sans-Serif\" font-size=\"14.00\" fill=\"#000000\">gini = 0.053</text>\n<text text-anchor=\"middle\" x=\"3557.5\" y=\"-1212.8\" font-family=\"Helvetica,sans-Serif\" font-size=\"14.00\" fill=\"#000000\">samples = 549</text>\n<text text-anchor=\"middle\" x=\"3557.5\" y=\"-1197.8\" font-family=\"Helvetica,sans-Serif\" font-size=\"14.00\" fill=\"#000000\">value = [0, 15, 534]</text>\n<text text-anchor=\"middle\" x=\"3557.5\" y=\"-1182.8\" font-family=\"Helvetica,sans-Serif\" font-size=\"14.00\" fill=\"#000000\">class = QSO</text>\n</g>\n<!-- 52&#45;&gt;116 -->\n<g id=\"edge116\" class=\"edge\">\n<title>52&#45;&gt;116</title>\n<path fill=\"none\" stroke=\"#000000\" d=\"M2581.8602,-1326.6529C2776.5837,-1304.668 3280.8568,-1247.7339 3477.4049,-1225.543\"/>\n<polygon fill=\"#000000\" stroke=\"#000000\" points=\"3477.8306,-1229.0173 3487.3747,-1224.4174 3477.0452,-1222.0615 3477.8306,-1229.0173\"/>\n</g>\n<!-- 54 -->\n<g id=\"node55\" class=\"node\">\n<title>54</title>\n<path fill=\"#3ae582\" stroke=\"#000000\" d=\"M2460.5,-1139C2460.5,-1139 2336.5,-1139 2336.5,-1139 2330.5,-1139 2324.5,-1133 2324.5,-1127 2324.5,-1127 2324.5,-1068 2324.5,-1068 2324.5,-1062 2330.5,-1056 2336.5,-1056 2336.5,-1056 2460.5,-1056 2460.5,-1056 2466.5,-1056 2472.5,-1062 2472.5,-1068 2472.5,-1068 2472.5,-1127 2472.5,-1127 2472.5,-1133 2466.5,-1139 2460.5,-1139\"/>\n<text text-anchor=\"middle\" x=\"2398.5\" y=\"-1123.8\" font-family=\"Helvetica,sans-Serif\" font-size=\"14.00\" fill=\"#000000\">X[3] &lt;= 0.005</text>\n<text text-anchor=\"middle\" x=\"2398.5\" y=\"-1108.8\" font-family=\"Helvetica,sans-Serif\" font-size=\"14.00\" fill=\"#000000\">gini = 0.011</text>\n<text text-anchor=\"middle\" x=\"2398.5\" y=\"-1093.8\" font-family=\"Helvetica,sans-Serif\" font-size=\"14.00\" fill=\"#000000\">samples = 3516</text>\n<text text-anchor=\"middle\" x=\"2398.5\" y=\"-1078.8\" font-family=\"Helvetica,sans-Serif\" font-size=\"14.00\" fill=\"#000000\">value = [3, 3497, 16]</text>\n<text text-anchor=\"middle\" x=\"2398.5\" y=\"-1063.8\" font-family=\"Helvetica,sans-Serif\" font-size=\"14.00\" fill=\"#000000\">class = GALAXY</text>\n</g>\n<!-- 53&#45;&gt;54 -->\n<g id=\"edge54\" class=\"edge\">\n<title>53&#45;&gt;54</title>\n<path fill=\"none\" stroke=\"#000000\" d=\"M2466.7761,-1174.8796C2458.8293,-1165.8733 2450.351,-1156.2644 2442.1674,-1146.9897\"/>\n<polygon fill=\"#000000\" stroke=\"#000000\" points=\"2444.6213,-1144.4808 2435.3807,-1139.2981 2439.3725,-1149.1122 2444.6213,-1144.4808\"/>\n</g>\n<!-- 107 -->\n<g id=\"node108\" class=\"node\">\n<title>107</title>\n<path fill=\"#975be9\" stroke=\"#000000\" d=\"M2658,-1139C2658,-1139 2559,-1139 2559,-1139 2553,-1139 2547,-1133 2547,-1127 2547,-1127 2547,-1068 2547,-1068 2547,-1062 2553,-1056 2559,-1056 2559,-1056 2658,-1056 2658,-1056 2664,-1056 2670,-1062 2670,-1068 2670,-1068 2670,-1127 2670,-1127 2670,-1133 2664,-1139 2658,-1139\"/>\n<text text-anchor=\"middle\" x=\"2608.5\" y=\"-1123.8\" font-family=\"Helvetica,sans-Serif\" font-size=\"14.00\" fill=\"#000000\">X[7] &lt;= &#45;4.432</text>\n<text text-anchor=\"middle\" x=\"2608.5\" y=\"-1108.8\" font-family=\"Helvetica,sans-Serif\" font-size=\"14.00\" fill=\"#000000\">gini = 0.251</text>\n<text text-anchor=\"middle\" x=\"2608.5\" y=\"-1093.8\" font-family=\"Helvetica,sans-Serif\" font-size=\"14.00\" fill=\"#000000\">samples = 34</text>\n<text text-anchor=\"middle\" x=\"2608.5\" y=\"-1078.8\" font-family=\"Helvetica,sans-Serif\" font-size=\"14.00\" fill=\"#000000\">value = [0, 5, 29]</text>\n<text text-anchor=\"middle\" x=\"2608.5\" y=\"-1063.8\" font-family=\"Helvetica,sans-Serif\" font-size=\"14.00\" fill=\"#000000\">class = QSO</text>\n</g>\n<!-- 53&#45;&gt;107 -->\n<g id=\"edge107\" class=\"edge\">\n<title>53&#45;&gt;107</title>\n<path fill=\"none\" stroke=\"#000000\" d=\"M2540.2239,-1174.8796C2548.1707,-1165.8733 2556.649,-1156.2644 2564.8326,-1146.9897\"/>\n<polygon fill=\"#000000\" stroke=\"#000000\" points=\"2567.6275,-1149.1122 2571.6193,-1139.2981 2562.3787,-1144.4808 2567.6275,-1149.1122\"/>\n</g>\n<!-- 55 -->\n<g id=\"node56\" class=\"node\">\n<title>55</title>\n<path fill=\"#ffffff\" stroke=\"#000000\" d=\"M2185,-1020C2185,-1020 2094,-1020 2094,-1020 2088,-1020 2082,-1014 2082,-1008 2082,-1008 2082,-949 2082,-949 2082,-943 2088,-937 2094,-937 2094,-937 2185,-937 2185,-937 2191,-937 2197,-943 2197,-949 2197,-949 2197,-1008 2197,-1008 2197,-1014 2191,-1020 2185,-1020\"/>\n<text text-anchor=\"middle\" x=\"2139.5\" y=\"-1004.8\" font-family=\"Helvetica,sans-Serif\" font-size=\"14.00\" fill=\"#000000\">X[8] &lt;= 1.084</text>\n<text text-anchor=\"middle\" x=\"2139.5\" y=\"-989.8\" font-family=\"Helvetica,sans-Serif\" font-size=\"14.00\" fill=\"#000000\">gini = 0.5</text>\n<text text-anchor=\"middle\" x=\"2139.5\" y=\"-974.8\" font-family=\"Helvetica,sans-Serif\" font-size=\"14.00\" fill=\"#000000\">samples = 6</text>\n<text text-anchor=\"middle\" x=\"2139.5\" y=\"-959.8\" font-family=\"Helvetica,sans-Serif\" font-size=\"14.00\" fill=\"#000000\">value = [3, 3, 0]</text>\n<text text-anchor=\"middle\" x=\"2139.5\" y=\"-944.8\" font-family=\"Helvetica,sans-Serif\" font-size=\"14.00\" fill=\"#000000\">class = STAR</text>\n</g>\n<!-- 54&#45;&gt;55 -->\n<g id=\"edge55\" class=\"edge\">\n<title>54&#45;&gt;55</title>\n<path fill=\"none\" stroke=\"#000000\" d=\"M2324.281,-1063.3994C2287.232,-1046.3769 2242.7515,-1025.9399 2206.7164,-1009.3832\"/>\n<polygon fill=\"#000000\" stroke=\"#000000\" points=\"2207.8176,-1006.0375 2197.2696,-1005.0428 2204.8951,-1012.3982 2207.8176,-1006.0375\"/>\n</g>\n<!-- 58 -->\n<g id=\"node59\" class=\"node\">\n<title>58</title>\n<path fill=\"#3ae582\" stroke=\"#000000\" d=\"M2460.5,-1020C2460.5,-1020 2336.5,-1020 2336.5,-1020 2330.5,-1020 2324.5,-1014 2324.5,-1008 2324.5,-1008 2324.5,-949 2324.5,-949 2324.5,-943 2330.5,-937 2336.5,-937 2336.5,-937 2460.5,-937 2460.5,-937 2466.5,-937 2472.5,-943 2472.5,-949 2472.5,-949 2472.5,-1008 2472.5,-1008 2472.5,-1014 2466.5,-1020 2460.5,-1020\"/>\n<text text-anchor=\"middle\" x=\"2398.5\" y=\"-1004.8\" font-family=\"Helvetica,sans-Serif\" font-size=\"14.00\" fill=\"#000000\">X[9] &lt;= 0.277</text>\n<text text-anchor=\"middle\" x=\"2398.5\" y=\"-989.8\" font-family=\"Helvetica,sans-Serif\" font-size=\"14.00\" fill=\"#000000\">gini = 0.009</text>\n<text text-anchor=\"middle\" x=\"2398.5\" y=\"-974.8\" font-family=\"Helvetica,sans-Serif\" font-size=\"14.00\" fill=\"#000000\">samples = 3510</text>\n<text text-anchor=\"middle\" x=\"2398.5\" y=\"-959.8\" font-family=\"Helvetica,sans-Serif\" font-size=\"14.00\" fill=\"#000000\">value = [0, 3494, 16]</text>\n<text text-anchor=\"middle\" x=\"2398.5\" y=\"-944.8\" font-family=\"Helvetica,sans-Serif\" font-size=\"14.00\" fill=\"#000000\">class = GALAXY</text>\n</g>\n<!-- 54&#45;&gt;58 -->\n<g id=\"edge58\" class=\"edge\">\n<title>54&#45;&gt;58</title>\n<path fill=\"none\" stroke=\"#000000\" d=\"M2398.5,-1055.8796C2398.5,-1047.6838 2398.5,-1038.9891 2398.5,-1030.5013\"/>\n<polygon fill=\"#000000\" stroke=\"#000000\" points=\"2402.0001,-1030.298 2398.5,-1020.2981 2395.0001,-1030.2981 2402.0001,-1030.298\"/>\n</g>\n<!-- 56 -->\n<g id=\"node57\" class=\"node\">\n<title>56</title>\n<path fill=\"#e58139\" stroke=\"#000000\" d=\"M2047,-893.5C2047,-893.5 1956,-893.5 1956,-893.5 1950,-893.5 1944,-887.5 1944,-881.5 1944,-881.5 1944,-837.5 1944,-837.5 1944,-831.5 1950,-825.5 1956,-825.5 1956,-825.5 2047,-825.5 2047,-825.5 2053,-825.5 2059,-831.5 2059,-837.5 2059,-837.5 2059,-881.5 2059,-881.5 2059,-887.5 2053,-893.5 2047,-893.5\"/>\n<text text-anchor=\"middle\" x=\"2001.5\" y=\"-878.3\" font-family=\"Helvetica,sans-Serif\" font-size=\"14.00\" fill=\"#000000\">gini = 0.0</text>\n<text text-anchor=\"middle\" x=\"2001.5\" y=\"-863.3\" font-family=\"Helvetica,sans-Serif\" font-size=\"14.00\" fill=\"#000000\">samples = 3</text>\n<text text-anchor=\"middle\" x=\"2001.5\" y=\"-848.3\" font-family=\"Helvetica,sans-Serif\" font-size=\"14.00\" fill=\"#000000\">value = [3, 0, 0]</text>\n<text text-anchor=\"middle\" x=\"2001.5\" y=\"-833.3\" font-family=\"Helvetica,sans-Serif\" font-size=\"14.00\" fill=\"#000000\">class = STAR</text>\n</g>\n<!-- 55&#45;&gt;56 -->\n<g id=\"edge56\" class=\"edge\">\n<title>55&#45;&gt;56</title>\n<path fill=\"none\" stroke=\"#000000\" d=\"M2091.2343,-936.8796C2077.5899,-925.1138 2062.7531,-912.3197 2049.1454,-900.5855\"/>\n<polygon fill=\"#000000\" stroke=\"#000000\" points=\"2051.1527,-897.6948 2041.2938,-893.8149 2046.5813,-902.9961 2051.1527,-897.6948\"/>\n</g>\n<!-- 57 -->\n<g id=\"node58\" class=\"node\">\n<title>57</title>\n<path fill=\"#39e581\" stroke=\"#000000\" d=\"M2190,-893.5C2190,-893.5 2089,-893.5 2089,-893.5 2083,-893.5 2077,-887.5 2077,-881.5 2077,-881.5 2077,-837.5 2077,-837.5 2077,-831.5 2083,-825.5 2089,-825.5 2089,-825.5 2190,-825.5 2190,-825.5 2196,-825.5 2202,-831.5 2202,-837.5 2202,-837.5 2202,-881.5 2202,-881.5 2202,-887.5 2196,-893.5 2190,-893.5\"/>\n<text text-anchor=\"middle\" x=\"2139.5\" y=\"-878.3\" font-family=\"Helvetica,sans-Serif\" font-size=\"14.00\" fill=\"#000000\">gini = 0.0</text>\n<text text-anchor=\"middle\" x=\"2139.5\" y=\"-863.3\" font-family=\"Helvetica,sans-Serif\" font-size=\"14.00\" fill=\"#000000\">samples = 3</text>\n<text text-anchor=\"middle\" x=\"2139.5\" y=\"-848.3\" font-family=\"Helvetica,sans-Serif\" font-size=\"14.00\" fill=\"#000000\">value = [0, 3, 0]</text>\n<text text-anchor=\"middle\" x=\"2139.5\" y=\"-833.3\" font-family=\"Helvetica,sans-Serif\" font-size=\"14.00\" fill=\"#000000\">class = GALAXY</text>\n</g>\n<!-- 55&#45;&gt;57 -->\n<g id=\"edge57\" class=\"edge\">\n<title>55&#45;&gt;57</title>\n<path fill=\"none\" stroke=\"#000000\" d=\"M2139.5,-936.8796C2139.5,-926.2134 2139.5,-914.7021 2139.5,-903.9015\"/>\n<polygon fill=\"#000000\" stroke=\"#000000\" points=\"2143.0001,-903.8149 2139.5,-893.8149 2136.0001,-903.815 2143.0001,-903.8149\"/>\n</g>\n<!-- 59 -->\n<g id=\"node60\" class=\"node\">\n<title>59</title>\n<path fill=\"#3ae581\" stroke=\"#000000\" d=\"M2356.5,-901C2356.5,-901 2232.5,-901 2232.5,-901 2226.5,-901 2220.5,-895 2220.5,-889 2220.5,-889 2220.5,-830 2220.5,-830 2220.5,-824 2226.5,-818 2232.5,-818 2232.5,-818 2356.5,-818 2356.5,-818 2362.5,-818 2368.5,-824 2368.5,-830 2368.5,-830 2368.5,-889 2368.5,-889 2368.5,-895 2362.5,-901 2356.5,-901\"/>\n<text text-anchor=\"middle\" x=\"2294.5\" y=\"-885.8\" font-family=\"Helvetica,sans-Serif\" font-size=\"14.00\" fill=\"#000000\">X[9] &lt;= 0.191</text>\n<text text-anchor=\"middle\" x=\"2294.5\" y=\"-870.8\" font-family=\"Helvetica,sans-Serif\" font-size=\"14.00\" fill=\"#000000\">gini = 0.006</text>\n<text text-anchor=\"middle\" x=\"2294.5\" y=\"-855.8\" font-family=\"Helvetica,sans-Serif\" font-size=\"14.00\" fill=\"#000000\">samples = 3483</text>\n<text text-anchor=\"middle\" x=\"2294.5\" y=\"-840.8\" font-family=\"Helvetica,sans-Serif\" font-size=\"14.00\" fill=\"#000000\">value = [0, 3473, 10]</text>\n<text text-anchor=\"middle\" x=\"2294.5\" y=\"-825.8\" font-family=\"Helvetica,sans-Serif\" font-size=\"14.00\" fill=\"#000000\">class = GALAXY</text>\n</g>\n<!-- 58&#45;&gt;59 -->\n<g id=\"edge59\" class=\"edge\">\n<title>58&#45;&gt;59</title>\n<path fill=\"none\" stroke=\"#000000\" d=\"M2362.1258,-936.8796C2354.2548,-927.8733 2345.8571,-918.2644 2337.7515,-908.9897\"/>\n<polygon fill=\"#000000\" stroke=\"#000000\" points=\"2340.2454,-906.5246 2331.0294,-901.2981 2334.9746,-911.131 2340.2454,-906.5246\"/>\n</g>\n<!-- 98 -->\n<g id=\"node99\" class=\"node\">\n<title>98</title>\n<path fill=\"#72eca5\" stroke=\"#000000\" d=\"M2500,-901C2500,-901 2399,-901 2399,-901 2393,-901 2387,-895 2387,-889 2387,-889 2387,-830 2387,-830 2387,-824 2393,-818 2399,-818 2399,-818 2500,-818 2500,-818 2506,-818 2512,-824 2512,-830 2512,-830 2512,-889 2512,-889 2512,-895 2506,-901 2500,-901\"/>\n<text text-anchor=\"middle\" x=\"2449.5\" y=\"-885.8\" font-family=\"Helvetica,sans-Serif\" font-size=\"14.00\" fill=\"#000000\">X[8] &lt;= &#45;0.131</text>\n<text text-anchor=\"middle\" x=\"2449.5\" y=\"-870.8\" font-family=\"Helvetica,sans-Serif\" font-size=\"14.00\" fill=\"#000000\">gini = 0.346</text>\n<text text-anchor=\"middle\" x=\"2449.5\" y=\"-855.8\" font-family=\"Helvetica,sans-Serif\" font-size=\"14.00\" fill=\"#000000\">samples = 27</text>\n<text text-anchor=\"middle\" x=\"2449.5\" y=\"-840.8\" font-family=\"Helvetica,sans-Serif\" font-size=\"14.00\" fill=\"#000000\">value = [0, 21, 6]</text>\n<text text-anchor=\"middle\" x=\"2449.5\" y=\"-825.8\" font-family=\"Helvetica,sans-Serif\" font-size=\"14.00\" fill=\"#000000\">class = GALAXY</text>\n</g>\n<!-- 58&#45;&gt;98 -->\n<g id=\"edge98\" class=\"edge\">\n<title>58&#45;&gt;98</title>\n<path fill=\"none\" stroke=\"#000000\" d=\"M2416.3373,-936.8796C2419.9656,-928.4136 2423.822,-919.4153 2427.5732,-910.6626\"/>\n<polygon fill=\"#000000\" stroke=\"#000000\" points=\"2430.8643,-911.8683 2431.5865,-901.2981 2424.4303,-909.1108 2430.8643,-911.8683\"/>\n</g>\n<!-- 60 -->\n<g id=\"node61\" class=\"node\">\n<title>60</title>\n<path fill=\"#39e581\" stroke=\"#000000\" d=\"M2072.5,-782C2072.5,-782 1956.5,-782 1956.5,-782 1950.5,-782 1944.5,-776 1944.5,-770 1944.5,-770 1944.5,-711 1944.5,-711 1944.5,-705 1950.5,-699 1956.5,-699 1956.5,-699 2072.5,-699 2072.5,-699 2078.5,-699 2084.5,-705 2084.5,-711 2084.5,-711 2084.5,-770 2084.5,-770 2084.5,-776 2078.5,-782 2072.5,-782\"/>\n<text text-anchor=\"middle\" x=\"2014.5\" y=\"-766.8\" font-family=\"Helvetica,sans-Serif\" font-size=\"14.00\" fill=\"#000000\">X[8] &lt;= &#45;0.881</text>\n<text text-anchor=\"middle\" x=\"2014.5\" y=\"-751.8\" font-family=\"Helvetica,sans-Serif\" font-size=\"14.00\" fill=\"#000000\">gini = 0.002</text>\n<text text-anchor=\"middle\" x=\"2014.5\" y=\"-736.8\" font-family=\"Helvetica,sans-Serif\" font-size=\"14.00\" fill=\"#000000\">samples = 3287</text>\n<text text-anchor=\"middle\" x=\"2014.5\" y=\"-721.8\" font-family=\"Helvetica,sans-Serif\" font-size=\"14.00\" fill=\"#000000\">value = [0, 3284, 3]</text>\n<text text-anchor=\"middle\" x=\"2014.5\" y=\"-706.8\" font-family=\"Helvetica,sans-Serif\" font-size=\"14.00\" fill=\"#000000\">class = GALAXY</text>\n</g>\n<!-- 59&#45;&gt;60 -->\n<g id=\"edge60\" class=\"edge\">\n<title>59&#45;&gt;60</title>\n<path fill=\"none\" stroke=\"#000000\" d=\"M2220.4529,-822.5055C2217.0999,-820.9604 2213.7708,-819.4517 2210.5,-818 2172.737,-801.2398 2130.1573,-784.1879 2094.3558,-770.3619\"/>\n<polygon fill=\"#000000\" stroke=\"#000000\" points=\"2095.5185,-767.0592 2084.9286,-766.7352 2093.005,-773.5924 2095.5185,-767.0592\"/>\n</g>\n<!-- 75 -->\n<g id=\"node76\" class=\"node\">\n<title>75</title>\n<path fill=\"#40e686\" stroke=\"#000000\" d=\"M2348,-782C2348,-782 2241,-782 2241,-782 2235,-782 2229,-776 2229,-770 2229,-770 2229,-711 2229,-711 2229,-705 2235,-699 2241,-699 2241,-699 2348,-699 2348,-699 2354,-699 2360,-705 2360,-711 2360,-711 2360,-770 2360,-770 2360,-776 2354,-782 2348,-782\"/>\n<text text-anchor=\"middle\" x=\"2294.5\" y=\"-766.8\" font-family=\"Helvetica,sans-Serif\" font-size=\"14.00\" fill=\"#000000\">X[9] &lt;= 0.191</text>\n<text text-anchor=\"middle\" x=\"2294.5\" y=\"-751.8\" font-family=\"Helvetica,sans-Serif\" font-size=\"14.00\" fill=\"#000000\">gini = 0.069</text>\n<text text-anchor=\"middle\" x=\"2294.5\" y=\"-736.8\" font-family=\"Helvetica,sans-Serif\" font-size=\"14.00\" fill=\"#000000\">samples = 196</text>\n<text text-anchor=\"middle\" x=\"2294.5\" y=\"-721.8\" font-family=\"Helvetica,sans-Serif\" font-size=\"14.00\" fill=\"#000000\">value = [0, 189, 7]</text>\n<text text-anchor=\"middle\" x=\"2294.5\" y=\"-706.8\" font-family=\"Helvetica,sans-Serif\" font-size=\"14.00\" fill=\"#000000\">class = GALAXY</text>\n</g>\n<!-- 59&#45;&gt;75 -->\n<g id=\"edge75\" class=\"edge\">\n<title>59&#45;&gt;75</title>\n<path fill=\"none\" stroke=\"#000000\" d=\"M2294.5,-817.8796C2294.5,-809.6838 2294.5,-800.9891 2294.5,-792.5013\"/>\n<polygon fill=\"#000000\" stroke=\"#000000\" points=\"2298.0001,-792.298 2294.5,-782.2981 2291.0001,-792.2981 2298.0001,-792.298\"/>\n</g>\n<!-- 61 -->\n<g id=\"node62\" class=\"node\">\n<title>61</title>\n<path fill=\"#3ae582\" stroke=\"#000000\" d=\"M1914,-663C1914,-663 1807,-663 1807,-663 1801,-663 1795,-657 1795,-651 1795,-651 1795,-592 1795,-592 1795,-586 1801,-580 1807,-580 1807,-580 1914,-580 1914,-580 1920,-580 1926,-586 1926,-592 1926,-592 1926,-651 1926,-651 1926,-657 1920,-663 1914,-663\"/>\n<text text-anchor=\"middle\" x=\"1860.5\" y=\"-647.8\" font-family=\"Helvetica,sans-Serif\" font-size=\"14.00\" fill=\"#000000\">X[8] &lt;= &#45;0.881</text>\n<text text-anchor=\"middle\" x=\"1860.5\" y=\"-632.8\" font-family=\"Helvetica,sans-Serif\" font-size=\"14.00\" fill=\"#000000\">gini = 0.01</text>\n<text text-anchor=\"middle\" x=\"1860.5\" y=\"-617.8\" font-family=\"Helvetica,sans-Serif\" font-size=\"14.00\" fill=\"#000000\">samples = 601</text>\n<text text-anchor=\"middle\" x=\"1860.5\" y=\"-602.8\" font-family=\"Helvetica,sans-Serif\" font-size=\"14.00\" fill=\"#000000\">value = [0, 598, 3]</text>\n<text text-anchor=\"middle\" x=\"1860.5\" y=\"-587.8\" font-family=\"Helvetica,sans-Serif\" font-size=\"14.00\" fill=\"#000000\">class = GALAXY</text>\n</g>\n<!-- 60&#45;&gt;61 -->\n<g id=\"edge61\" class=\"edge\">\n<title>60&#45;&gt;61</title>\n<path fill=\"none\" stroke=\"#000000\" d=\"M1960.6383,-698.8796C1948.3291,-689.368 1935.1503,-679.1843 1922.5296,-669.432\"/>\n<polygon fill=\"#000000\" stroke=\"#000000\" points=\"1924.3843,-666.4419 1914.3313,-663.0969 1920.1041,-671.9809 1924.3843,-666.4419\"/>\n</g>\n<!-- 74 -->\n<g id=\"node75\" class=\"node\">\n<title>74</title>\n<path fill=\"#39e581\" stroke=\"#000000\" d=\"M2072.5,-655.5C2072.5,-655.5 1956.5,-655.5 1956.5,-655.5 1950.5,-655.5 1944.5,-649.5 1944.5,-643.5 1944.5,-643.5 1944.5,-599.5 1944.5,-599.5 1944.5,-593.5 1950.5,-587.5 1956.5,-587.5 1956.5,-587.5 2072.5,-587.5 2072.5,-587.5 2078.5,-587.5 2084.5,-593.5 2084.5,-599.5 2084.5,-599.5 2084.5,-643.5 2084.5,-643.5 2084.5,-649.5 2078.5,-655.5 2072.5,-655.5\"/>\n<text text-anchor=\"middle\" x=\"2014.5\" y=\"-640.3\" font-family=\"Helvetica,sans-Serif\" font-size=\"14.00\" fill=\"#000000\">gini = 0.0</text>\n<text text-anchor=\"middle\" x=\"2014.5\" y=\"-625.3\" font-family=\"Helvetica,sans-Serif\" font-size=\"14.00\" fill=\"#000000\">samples = 2686</text>\n<text text-anchor=\"middle\" x=\"2014.5\" y=\"-610.3\" font-family=\"Helvetica,sans-Serif\" font-size=\"14.00\" fill=\"#000000\">value = [0, 2686, 0]</text>\n<text text-anchor=\"middle\" x=\"2014.5\" y=\"-595.3\" font-family=\"Helvetica,sans-Serif\" font-size=\"14.00\" fill=\"#000000\">class = GALAXY</text>\n</g>\n<!-- 60&#45;&gt;74 -->\n<g id=\"edge74\" class=\"edge\">\n<title>60&#45;&gt;74</title>\n<path fill=\"none\" stroke=\"#000000\" d=\"M2014.5,-698.8796C2014.5,-688.2134 2014.5,-676.7021 2014.5,-665.9015\"/>\n<polygon fill=\"#000000\" stroke=\"#000000\" points=\"2018.0001,-665.8149 2014.5,-655.8149 2011.0001,-665.815 2018.0001,-665.8149\"/>\n</g>\n<!-- 62 -->\n<g id=\"node63\" class=\"node\">\n<title>62</title>\n<path fill=\"#3ae581\" stroke=\"#000000\" d=\"M1866,-544C1866,-544 1759,-544 1759,-544 1753,-544 1747,-538 1747,-532 1747,-532 1747,-473 1747,-473 1747,-467 1753,-461 1759,-461 1759,-461 1866,-461 1866,-461 1872,-461 1878,-467 1878,-473 1878,-473 1878,-532 1878,-532 1878,-538 1872,-544 1866,-544\"/>\n<text text-anchor=\"middle\" x=\"1812.5\" y=\"-528.8\" font-family=\"Helvetica,sans-Serif\" font-size=\"14.00\" fill=\"#000000\">X[9] &lt;= 0.164</text>\n<text text-anchor=\"middle\" x=\"1812.5\" y=\"-513.8\" font-family=\"Helvetica,sans-Serif\" font-size=\"14.00\" fill=\"#000000\">gini = 0.007</text>\n<text text-anchor=\"middle\" x=\"1812.5\" y=\"-498.8\" font-family=\"Helvetica,sans-Serif\" font-size=\"14.00\" fill=\"#000000\">samples = 600</text>\n<text text-anchor=\"middle\" x=\"1812.5\" y=\"-483.8\" font-family=\"Helvetica,sans-Serif\" font-size=\"14.00\" fill=\"#000000\">value = [0, 598, 2]</text>\n<text text-anchor=\"middle\" x=\"1812.5\" y=\"-468.8\" font-family=\"Helvetica,sans-Serif\" font-size=\"14.00\" fill=\"#000000\">class = GALAXY</text>\n</g>\n<!-- 61&#45;&gt;62 -->\n<g id=\"edge62\" class=\"edge\">\n<title>61&#45;&gt;62</title>\n<path fill=\"none\" stroke=\"#000000\" d=\"M1843.7119,-579.8796C1840.2971,-571.4136 1836.6675,-562.4153 1833.137,-553.6626\"/>\n<polygon fill=\"#000000\" stroke=\"#000000\" points=\"1836.3464,-552.2628 1829.3597,-544.2981 1829.8547,-554.8813 1836.3464,-552.2628\"/>\n</g>\n<!-- 73 -->\n<g id=\"node74\" class=\"node\">\n<title>73</title>\n<path fill=\"#8139e5\" stroke=\"#000000\" d=\"M1999,-536.5C1999,-536.5 1908,-536.5 1908,-536.5 1902,-536.5 1896,-530.5 1896,-524.5 1896,-524.5 1896,-480.5 1896,-480.5 1896,-474.5 1902,-468.5 1908,-468.5 1908,-468.5 1999,-468.5 1999,-468.5 2005,-468.5 2011,-474.5 2011,-480.5 2011,-480.5 2011,-524.5 2011,-524.5 2011,-530.5 2005,-536.5 1999,-536.5\"/>\n<text text-anchor=\"middle\" x=\"1953.5\" y=\"-521.3\" font-family=\"Helvetica,sans-Serif\" font-size=\"14.00\" fill=\"#000000\">gini = 0.0</text>\n<text text-anchor=\"middle\" x=\"1953.5\" y=\"-506.3\" font-family=\"Helvetica,sans-Serif\" font-size=\"14.00\" fill=\"#000000\">samples = 1</text>\n<text text-anchor=\"middle\" x=\"1953.5\" y=\"-491.3\" font-family=\"Helvetica,sans-Serif\" font-size=\"14.00\" fill=\"#000000\">value = [0, 0, 1]</text>\n<text text-anchor=\"middle\" x=\"1953.5\" y=\"-476.3\" font-family=\"Helvetica,sans-Serif\" font-size=\"14.00\" fill=\"#000000\">class = QSO</text>\n</g>\n<!-- 61&#45;&gt;73 -->\n<g id=\"edge73\" class=\"edge\">\n<title>61&#45;&gt;73</title>\n<path fill=\"none\" stroke=\"#000000\" d=\"M1893.0269,-579.8796C1901.8783,-568.5536 1911.4743,-556.2748 1920.3593,-544.9058\"/>\n<polygon fill=\"#000000\" stroke=\"#000000\" points=\"1923.2824,-546.8494 1926.6824,-536.8149 1917.7669,-542.539 1923.2824,-546.8494\"/>\n</g>\n<!-- 63 -->\n<g id=\"node64\" class=\"node\">\n<title>63</title>\n<path fill=\"#39e581\" stroke=\"#000000\" d=\"M1842,-425C1842,-425 1735,-425 1735,-425 1729,-425 1723,-419 1723,-413 1723,-413 1723,-354 1723,-354 1723,-348 1729,-342 1735,-342 1735,-342 1842,-342 1842,-342 1848,-342 1854,-348 1854,-354 1854,-354 1854,-413 1854,-413 1854,-419 1848,-425 1842,-425\"/>\n<text text-anchor=\"middle\" x=\"1788.5\" y=\"-409.8\" font-family=\"Helvetica,sans-Serif\" font-size=\"14.00\" fill=\"#000000\">X[4] &lt;= 271.5</text>\n<text text-anchor=\"middle\" x=\"1788.5\" y=\"-394.8\" font-family=\"Helvetica,sans-Serif\" font-size=\"14.00\" fill=\"#000000\">gini = 0.003</text>\n<text text-anchor=\"middle\" x=\"1788.5\" y=\"-379.8\" font-family=\"Helvetica,sans-Serif\" font-size=\"14.00\" fill=\"#000000\">samples = 596</text>\n<text text-anchor=\"middle\" x=\"1788.5\" y=\"-364.8\" font-family=\"Helvetica,sans-Serif\" font-size=\"14.00\" fill=\"#000000\">value = [0, 595, 1]</text>\n<text text-anchor=\"middle\" x=\"1788.5\" y=\"-349.8\" font-family=\"Helvetica,sans-Serif\" font-size=\"14.00\" fill=\"#000000\">class = GALAXY</text>\n</g>\n<!-- 62&#45;&gt;63 -->\n<g id=\"edge63\" class=\"edge\">\n<title>62&#45;&gt;63</title>\n<path fill=\"none\" stroke=\"#000000\" d=\"M1804.106,-460.8796C1802.4349,-452.5938 1800.6609,-443.798 1798.9312,-435.2216\"/>\n<polygon fill=\"#000000\" stroke=\"#000000\" points=\"1802.3379,-434.4087 1796.9299,-425.2981 1795.476,-435.7927 1802.3379,-434.4087\"/>\n</g>\n<!-- 70 -->\n<g id=\"node71\" class=\"node\">\n<title>70</title>\n<path fill=\"#7beeab\" stroke=\"#000000\" d=\"M1985,-425C1985,-425 1884,-425 1884,-425 1878,-425 1872,-419 1872,-413 1872,-413 1872,-354 1872,-354 1872,-348 1878,-342 1884,-342 1884,-342 1985,-342 1985,-342 1991,-342 1997,-348 1997,-354 1997,-354 1997,-413 1997,-413 1997,-419 1991,-425 1985,-425\"/>\n<text text-anchor=\"middle\" x=\"1934.5\" y=\"-409.8\" font-family=\"Helvetica,sans-Serif\" font-size=\"14.00\" fill=\"#000000\">X[8] &lt;= &#45;0.926</text>\n<text text-anchor=\"middle\" x=\"1934.5\" y=\"-394.8\" font-family=\"Helvetica,sans-Serif\" font-size=\"14.00\" fill=\"#000000\">gini = 0.375</text>\n<text text-anchor=\"middle\" x=\"1934.5\" y=\"-379.8\" font-family=\"Helvetica,sans-Serif\" font-size=\"14.00\" fill=\"#000000\">samples = 4</text>\n<text text-anchor=\"middle\" x=\"1934.5\" y=\"-364.8\" font-family=\"Helvetica,sans-Serif\" font-size=\"14.00\" fill=\"#000000\">value = [0, 3, 1]</text>\n<text text-anchor=\"middle\" x=\"1934.5\" y=\"-349.8\" font-family=\"Helvetica,sans-Serif\" font-size=\"14.00\" fill=\"#000000\">class = GALAXY</text>\n</g>\n<!-- 62&#45;&gt;70 -->\n<g id=\"edge70\" class=\"edge\">\n<title>62&#45;&gt;70</title>\n<path fill=\"none\" stroke=\"#000000\" d=\"M1855.1697,-460.8796C1864.5877,-451.6931 1874.6484,-441.8798 1884.3328,-432.4336\"/>\n<polygon fill=\"#000000\" stroke=\"#000000\" points=\"1886.9335,-434.7861 1891.6482,-425.2981 1882.0457,-429.7751 1886.9335,-434.7861\"/>\n</g>\n<!-- 64 -->\n<g id=\"node65\" class=\"node\">\n<title>64</title>\n<path fill=\"#3ee684\" stroke=\"#000000\" d=\"M1693,-306C1693,-306 1592,-306 1592,-306 1586,-306 1580,-300 1580,-294 1580,-294 1580,-235 1580,-235 1580,-229 1586,-223 1592,-223 1592,-223 1693,-223 1693,-223 1699,-223 1705,-229 1705,-235 1705,-235 1705,-294 1705,-294 1705,-300 1699,-306 1693,-306\"/>\n<text text-anchor=\"middle\" x=\"1642.5\" y=\"-290.8\" font-family=\"Helvetica,sans-Serif\" font-size=\"14.00\" fill=\"#000000\">X[8] &lt;= &#45;1.18</text>\n<text text-anchor=\"middle\" x=\"1642.5\" y=\"-275.8\" font-family=\"Helvetica,sans-Serif\" font-size=\"14.00\" fill=\"#000000\">gini = 0.05</text>\n<text text-anchor=\"middle\" x=\"1642.5\" y=\"-260.8\" font-family=\"Helvetica,sans-Serif\" font-size=\"14.00\" fill=\"#000000\">samples = 39</text>\n<text text-anchor=\"middle\" x=\"1642.5\" y=\"-245.8\" font-family=\"Helvetica,sans-Serif\" font-size=\"14.00\" fill=\"#000000\">value = [0, 38, 1]</text>\n<text text-anchor=\"middle\" x=\"1642.5\" y=\"-230.8\" font-family=\"Helvetica,sans-Serif\" font-size=\"14.00\" fill=\"#000000\">class = GALAXY</text>\n</g>\n<!-- 63&#45;&gt;64 -->\n<g id=\"edge64\" class=\"edge\">\n<title>63&#45;&gt;64</title>\n<path fill=\"none\" stroke=\"#000000\" d=\"M1737.4363,-341.8796C1725.9445,-332.513 1713.6532,-322.4948 1701.855,-312.8784\"/>\n<polygon fill=\"#000000\" stroke=\"#000000\" points=\"1703.7444,-309.903 1693.7817,-306.2981 1699.3218,-315.329 1703.7444,-309.903\"/>\n</g>\n<!-- 69 -->\n<g id=\"node70\" class=\"node\">\n<title>69</title>\n<path fill=\"#39e581\" stroke=\"#000000\" d=\"M1842,-298.5C1842,-298.5 1735,-298.5 1735,-298.5 1729,-298.5 1723,-292.5 1723,-286.5 1723,-286.5 1723,-242.5 1723,-242.5 1723,-236.5 1729,-230.5 1735,-230.5 1735,-230.5 1842,-230.5 1842,-230.5 1848,-230.5 1854,-236.5 1854,-242.5 1854,-242.5 1854,-286.5 1854,-286.5 1854,-292.5 1848,-298.5 1842,-298.5\"/>\n<text text-anchor=\"middle\" x=\"1788.5\" y=\"-283.3\" font-family=\"Helvetica,sans-Serif\" font-size=\"14.00\" fill=\"#000000\">gini = 0.0</text>\n<text text-anchor=\"middle\" x=\"1788.5\" y=\"-268.3\" font-family=\"Helvetica,sans-Serif\" font-size=\"14.00\" fill=\"#000000\">samples = 557</text>\n<text text-anchor=\"middle\" x=\"1788.5\" y=\"-253.3\" font-family=\"Helvetica,sans-Serif\" font-size=\"14.00\" fill=\"#000000\">value = [0, 557, 0]</text>\n<text text-anchor=\"middle\" x=\"1788.5\" y=\"-238.3\" font-family=\"Helvetica,sans-Serif\" font-size=\"14.00\" fill=\"#000000\">class = GALAXY</text>\n</g>\n<!-- 63&#45;&gt;69 -->\n<g id=\"edge69\" class=\"edge\">\n<title>63&#45;&gt;69</title>\n<path fill=\"none\" stroke=\"#000000\" d=\"M1788.5,-341.8796C1788.5,-331.2134 1788.5,-319.7021 1788.5,-308.9015\"/>\n<polygon fill=\"#000000\" stroke=\"#000000\" points=\"1792.0001,-308.8149 1788.5,-298.8149 1785.0001,-308.815 1792.0001,-308.8149\"/>\n</g>\n<!-- 65 -->\n<g id=\"node66\" class=\"node\">\n<title>65</title>\n<path fill=\"#9cf2c0\" stroke=\"#000000\" d=\"M1693,-187C1693,-187 1592,-187 1592,-187 1586,-187 1580,-181 1580,-175 1580,-175 1580,-116 1580,-116 1580,-110 1586,-104 1592,-104 1592,-104 1693,-104 1693,-104 1699,-104 1705,-110 1705,-116 1705,-116 1705,-175 1705,-175 1705,-181 1699,-187 1693,-187\"/>\n<text text-anchor=\"middle\" x=\"1642.5\" y=\"-171.8\" font-family=\"Helvetica,sans-Serif\" font-size=\"14.00\" fill=\"#000000\">X[2] &lt;= 241.5</text>\n<text text-anchor=\"middle\" x=\"1642.5\" y=\"-156.8\" font-family=\"Helvetica,sans-Serif\" font-size=\"14.00\" fill=\"#000000\">gini = 0.444</text>\n<text text-anchor=\"middle\" x=\"1642.5\" y=\"-141.8\" font-family=\"Helvetica,sans-Serif\" font-size=\"14.00\" fill=\"#000000\">samples = 3</text>\n<text text-anchor=\"middle\" x=\"1642.5\" y=\"-126.8\" font-family=\"Helvetica,sans-Serif\" font-size=\"14.00\" fill=\"#000000\">value = [0, 2, 1]</text>\n<text text-anchor=\"middle\" x=\"1642.5\" y=\"-111.8\" font-family=\"Helvetica,sans-Serif\" font-size=\"14.00\" fill=\"#000000\">class = GALAXY</text>\n</g>\n<!-- 64&#45;&gt;65 -->\n<g id=\"edge65\" class=\"edge\">\n<title>64&#45;&gt;65</title>\n<path fill=\"none\" stroke=\"#000000\" d=\"M1642.5,-222.8796C1642.5,-214.6838 1642.5,-205.9891 1642.5,-197.5013\"/>\n<polygon fill=\"#000000\" stroke=\"#000000\" points=\"1646.0001,-197.298 1642.5,-187.2981 1639.0001,-197.2981 1646.0001,-197.298\"/>\n</g>\n<!-- 68 -->\n<g id=\"node69\" class=\"node\">\n<title>68</title>\n<path fill=\"#39e581\" stroke=\"#000000\" d=\"M1836,-179.5C1836,-179.5 1735,-179.5 1735,-179.5 1729,-179.5 1723,-173.5 1723,-167.5 1723,-167.5 1723,-123.5 1723,-123.5 1723,-117.5 1729,-111.5 1735,-111.5 1735,-111.5 1836,-111.5 1836,-111.5 1842,-111.5 1848,-117.5 1848,-123.5 1848,-123.5 1848,-167.5 1848,-167.5 1848,-173.5 1842,-179.5 1836,-179.5\"/>\n<text text-anchor=\"middle\" x=\"1785.5\" y=\"-164.3\" font-family=\"Helvetica,sans-Serif\" font-size=\"14.00\" fill=\"#000000\">gini = 0.0</text>\n<text text-anchor=\"middle\" x=\"1785.5\" y=\"-149.3\" font-family=\"Helvetica,sans-Serif\" font-size=\"14.00\" fill=\"#000000\">samples = 36</text>\n<text text-anchor=\"middle\" x=\"1785.5\" y=\"-134.3\" font-family=\"Helvetica,sans-Serif\" font-size=\"14.00\" fill=\"#000000\">value = [0, 36, 0]</text>\n<text text-anchor=\"middle\" x=\"1785.5\" y=\"-119.3\" font-family=\"Helvetica,sans-Serif\" font-size=\"14.00\" fill=\"#000000\">class = GALAXY</text>\n</g>\n<!-- 64&#45;&gt;68 -->\n<g id=\"edge68\" class=\"edge\">\n<title>64&#45;&gt;68</title>\n<path fill=\"none\" stroke=\"#000000\" d=\"M1692.5145,-222.8796C1706.7853,-211.0038 1722.3151,-198.0804 1736.5233,-186.2568\"/>\n<polygon fill=\"#000000\" stroke=\"#000000\" points=\"1738.8166,-188.9019 1744.2644,-179.8149 1734.339,-183.5212 1738.8166,-188.9019\"/>\n</g>\n<!-- 66 -->\n<g id=\"node67\" class=\"node\">\n<title>66</title>\n<path fill=\"#39e581\" stroke=\"#000000\" d=\"M1624,-68C1624,-68 1523,-68 1523,-68 1517,-68 1511,-62 1511,-56 1511,-56 1511,-12 1511,-12 1511,-6 1517,0 1523,0 1523,0 1624,0 1624,0 1630,0 1636,-6 1636,-12 1636,-12 1636,-56 1636,-56 1636,-62 1630,-68 1624,-68\"/>\n<text text-anchor=\"middle\" x=\"1573.5\" y=\"-52.8\" font-family=\"Helvetica,sans-Serif\" font-size=\"14.00\" fill=\"#000000\">gini = 0.0</text>\n<text text-anchor=\"middle\" x=\"1573.5\" y=\"-37.8\" font-family=\"Helvetica,sans-Serif\" font-size=\"14.00\" fill=\"#000000\">samples = 2</text>\n<text text-anchor=\"middle\" x=\"1573.5\" y=\"-22.8\" font-family=\"Helvetica,sans-Serif\" font-size=\"14.00\" fill=\"#000000\">value = [0, 2, 0]</text>\n<text text-anchor=\"middle\" x=\"1573.5\" y=\"-7.8\" font-family=\"Helvetica,sans-Serif\" font-size=\"14.00\" fill=\"#000000\">class = GALAXY</text>\n</g>\n<!-- 65&#45;&gt;66 -->\n<g id=\"edge66\" class=\"edge\">\n<title>65&#45;&gt;66</title>\n<path fill=\"none\" stroke=\"#000000\" d=\"M1616.8069,-103.9815C1611.3469,-95.1585 1605.5716,-85.8258 1600.0793,-76.9506\"/>\n<polygon fill=\"#000000\" stroke=\"#000000\" points=\"1602.942,-74.9254 1594.7035,-68.2637 1596.9896,-78.609 1602.942,-74.9254\"/>\n</g>\n<!-- 67 -->\n<g id=\"node68\" class=\"node\">\n<title>67</title>\n<path fill=\"#8139e5\" stroke=\"#000000\" d=\"M1757,-68C1757,-68 1666,-68 1666,-68 1660,-68 1654,-62 1654,-56 1654,-56 1654,-12 1654,-12 1654,-6 1660,0 1666,0 1666,0 1757,0 1757,0 1763,0 1769,-6 1769,-12 1769,-12 1769,-56 1769,-56 1769,-62 1763,-68 1757,-68\"/>\n<text text-anchor=\"middle\" x=\"1711.5\" y=\"-52.8\" font-family=\"Helvetica,sans-Serif\" font-size=\"14.00\" fill=\"#000000\">gini = 0.0</text>\n<text text-anchor=\"middle\" x=\"1711.5\" y=\"-37.8\" font-family=\"Helvetica,sans-Serif\" font-size=\"14.00\" fill=\"#000000\">samples = 1</text>\n<text text-anchor=\"middle\" x=\"1711.5\" y=\"-22.8\" font-family=\"Helvetica,sans-Serif\" font-size=\"14.00\" fill=\"#000000\">value = [0, 0, 1]</text>\n<text text-anchor=\"middle\" x=\"1711.5\" y=\"-7.8\" font-family=\"Helvetica,sans-Serif\" font-size=\"14.00\" fill=\"#000000\">class = QSO</text>\n</g>\n<!-- 65&#45;&gt;67 -->\n<g id=\"edge67\" class=\"edge\">\n<title>65&#45;&gt;67</title>\n<path fill=\"none\" stroke=\"#000000\" d=\"M1668.1931,-103.9815C1673.6531,-95.1585 1679.4284,-85.8258 1684.9207,-76.9506\"/>\n<polygon fill=\"#000000\" stroke=\"#000000\" points=\"1688.0104,-78.609 1690.2965,-68.2637 1682.058,-74.9254 1688.0104,-78.609\"/>\n</g>\n<!-- 71 -->\n<g id=\"node72\" class=\"node\">\n<title>71</title>\n<path fill=\"#39e581\" stroke=\"#000000\" d=\"M1985,-298.5C1985,-298.5 1884,-298.5 1884,-298.5 1878,-298.5 1872,-292.5 1872,-286.5 1872,-286.5 1872,-242.5 1872,-242.5 1872,-236.5 1878,-230.5 1884,-230.5 1884,-230.5 1985,-230.5 1985,-230.5 1991,-230.5 1997,-236.5 1997,-242.5 1997,-242.5 1997,-286.5 1997,-286.5 1997,-292.5 1991,-298.5 1985,-298.5\"/>\n<text text-anchor=\"middle\" x=\"1934.5\" y=\"-283.3\" font-family=\"Helvetica,sans-Serif\" font-size=\"14.00\" fill=\"#000000\">gini = 0.0</text>\n<text text-anchor=\"middle\" x=\"1934.5\" y=\"-268.3\" font-family=\"Helvetica,sans-Serif\" font-size=\"14.00\" fill=\"#000000\">samples = 3</text>\n<text text-anchor=\"middle\" x=\"1934.5\" y=\"-253.3\" font-family=\"Helvetica,sans-Serif\" font-size=\"14.00\" fill=\"#000000\">value = [0, 3, 0]</text>\n<text text-anchor=\"middle\" x=\"1934.5\" y=\"-238.3\" font-family=\"Helvetica,sans-Serif\" font-size=\"14.00\" fill=\"#000000\">class = GALAXY</text>\n</g>\n<!-- 70&#45;&gt;71 -->\n<g id=\"edge71\" class=\"edge\">\n<title>70&#45;&gt;71</title>\n<path fill=\"none\" stroke=\"#000000\" d=\"M1934.5,-341.8796C1934.5,-331.2134 1934.5,-319.7021 1934.5,-308.9015\"/>\n<polygon fill=\"#000000\" stroke=\"#000000\" points=\"1938.0001,-308.8149 1934.5,-298.8149 1931.0001,-308.815 1938.0001,-308.8149\"/>\n</g>\n<!-- 72 -->\n<g id=\"node73\" class=\"node\">\n<title>72</title>\n<path fill=\"#8139e5\" stroke=\"#000000\" d=\"M2118,-298.5C2118,-298.5 2027,-298.5 2027,-298.5 2021,-298.5 2015,-292.5 2015,-286.5 2015,-286.5 2015,-242.5 2015,-242.5 2015,-236.5 2021,-230.5 2027,-230.5 2027,-230.5 2118,-230.5 2118,-230.5 2124,-230.5 2130,-236.5 2130,-242.5 2130,-242.5 2130,-286.5 2130,-286.5 2130,-292.5 2124,-298.5 2118,-298.5\"/>\n<text text-anchor=\"middle\" x=\"2072.5\" y=\"-283.3\" font-family=\"Helvetica,sans-Serif\" font-size=\"14.00\" fill=\"#000000\">gini = 0.0</text>\n<text text-anchor=\"middle\" x=\"2072.5\" y=\"-268.3\" font-family=\"Helvetica,sans-Serif\" font-size=\"14.00\" fill=\"#000000\">samples = 1</text>\n<text text-anchor=\"middle\" x=\"2072.5\" y=\"-253.3\" font-family=\"Helvetica,sans-Serif\" font-size=\"14.00\" fill=\"#000000\">value = [0, 0, 1]</text>\n<text text-anchor=\"middle\" x=\"2072.5\" y=\"-238.3\" font-family=\"Helvetica,sans-Serif\" font-size=\"14.00\" fill=\"#000000\">class = QSO</text>\n</g>\n<!-- 70&#45;&gt;72 -->\n<g id=\"edge72\" class=\"edge\">\n<title>70&#45;&gt;72</title>\n<path fill=\"none\" stroke=\"#000000\" d=\"M1982.7657,-341.8796C1996.4101,-330.1138 2011.2469,-317.3197 2024.8546,-305.5855\"/>\n<polygon fill=\"#000000\" stroke=\"#000000\" points=\"2027.4187,-307.9961 2032.7062,-298.8149 2022.8473,-302.6948 2027.4187,-307.9961\"/>\n</g>\n<!-- 76 -->\n<g id=\"node77\" class=\"node\">\n<title>76</title>\n<path fill=\"#8139e5\" stroke=\"#000000\" d=\"M2206,-655.5C2206,-655.5 2115,-655.5 2115,-655.5 2109,-655.5 2103,-649.5 2103,-643.5 2103,-643.5 2103,-599.5 2103,-599.5 2103,-593.5 2109,-587.5 2115,-587.5 2115,-587.5 2206,-587.5 2206,-587.5 2212,-587.5 2218,-593.5 2218,-599.5 2218,-599.5 2218,-643.5 2218,-643.5 2218,-649.5 2212,-655.5 2206,-655.5\"/>\n<text text-anchor=\"middle\" x=\"2160.5\" y=\"-640.3\" font-family=\"Helvetica,sans-Serif\" font-size=\"14.00\" fill=\"#000000\">gini = 0.0</text>\n<text text-anchor=\"middle\" x=\"2160.5\" y=\"-625.3\" font-family=\"Helvetica,sans-Serif\" font-size=\"14.00\" fill=\"#000000\">samples = 1</text>\n<text text-anchor=\"middle\" x=\"2160.5\" y=\"-610.3\" font-family=\"Helvetica,sans-Serif\" font-size=\"14.00\" fill=\"#000000\">value = [0, 0, 1]</text>\n<text text-anchor=\"middle\" x=\"2160.5\" y=\"-595.3\" font-family=\"Helvetica,sans-Serif\" font-size=\"14.00\" fill=\"#000000\">class = QSO</text>\n</g>\n<!-- 75&#45;&gt;76 -->\n<g id=\"edge76\" class=\"edge\">\n<title>75&#45;&gt;76</title>\n<path fill=\"none\" stroke=\"#000000\" d=\"M2247.6333,-698.8796C2234.3844,-687.1138 2219.9776,-674.3197 2206.7644,-662.5855\"/>\n<polygon fill=\"#000000\" stroke=\"#000000\" points=\"2208.9416,-659.8381 2199.1403,-655.8149 2204.2935,-665.0722 2208.9416,-659.8381\"/>\n</g>\n<!-- 77 -->\n<g id=\"node78\" class=\"node\">\n<title>77</title>\n<path fill=\"#3fe685\" stroke=\"#000000\" d=\"M2355,-663C2355,-663 2248,-663 2248,-663 2242,-663 2236,-657 2236,-651 2236,-651 2236,-592 2236,-592 2236,-586 2242,-580 2248,-580 2248,-580 2355,-580 2355,-580 2361,-580 2367,-586 2367,-592 2367,-592 2367,-651 2367,-651 2367,-657 2361,-663 2355,-663\"/>\n<text text-anchor=\"middle\" x=\"2301.5\" y=\"-647.8\" font-family=\"Helvetica,sans-Serif\" font-size=\"14.00\" fill=\"#000000\">X[6] &lt;= 85.5</text>\n<text text-anchor=\"middle\" x=\"2301.5\" y=\"-632.8\" font-family=\"Helvetica,sans-Serif\" font-size=\"14.00\" fill=\"#000000\">gini = 0.06</text>\n<text text-anchor=\"middle\" x=\"2301.5\" y=\"-617.8\" font-family=\"Helvetica,sans-Serif\" font-size=\"14.00\" fill=\"#000000\">samples = 195</text>\n<text text-anchor=\"middle\" x=\"2301.5\" y=\"-602.8\" font-family=\"Helvetica,sans-Serif\" font-size=\"14.00\" fill=\"#000000\">value = [0, 189, 6]</text>\n<text text-anchor=\"middle\" x=\"2301.5\" y=\"-587.8\" font-family=\"Helvetica,sans-Serif\" font-size=\"14.00\" fill=\"#000000\">class = GALAXY</text>\n</g>\n<!-- 75&#45;&gt;77 -->\n<g id=\"edge77\" class=\"edge\">\n<title>75&#45;&gt;77</title>\n<path fill=\"none\" stroke=\"#000000\" d=\"M2296.9483,-698.8796C2297.4304,-690.6838 2297.9418,-681.9891 2298.4411,-673.5013\"/>\n<polygon fill=\"#000000\" stroke=\"#000000\" points=\"2301.9479,-673.4864 2299.0413,-663.2981 2294.96,-673.0753 2301.9479,-673.4864\"/>\n</g>\n<!-- 78 -->\n<g id=\"node79\" class=\"node\">\n<title>78</title>\n<path fill=\"#5eea99\" stroke=\"#000000\" d=\"M2352,-544C2352,-544 2251,-544 2251,-544 2245,-544 2239,-538 2239,-532 2239,-532 2239,-473 2239,-473 2239,-467 2245,-461 2251,-461 2251,-461 2352,-461 2352,-461 2358,-461 2364,-467 2364,-473 2364,-473 2364,-532 2364,-532 2364,-538 2358,-544 2352,-544\"/>\n<text text-anchor=\"middle\" x=\"2301.5\" y=\"-528.8\" font-family=\"Helvetica,sans-Serif\" font-size=\"14.00\" fill=\"#000000\">X[8] &lt;= &#45;0.213</text>\n<text text-anchor=\"middle\" x=\"2301.5\" y=\"-513.8\" font-family=\"Helvetica,sans-Serif\" font-size=\"14.00\" fill=\"#000000\">gini = 0.266</text>\n<text text-anchor=\"middle\" x=\"2301.5\" y=\"-498.8\" font-family=\"Helvetica,sans-Serif\" font-size=\"14.00\" fill=\"#000000\">samples = 19</text>\n<text text-anchor=\"middle\" x=\"2301.5\" y=\"-483.8\" font-family=\"Helvetica,sans-Serif\" font-size=\"14.00\" fill=\"#000000\">value = [0, 16, 3]</text>\n<text text-anchor=\"middle\" x=\"2301.5\" y=\"-468.8\" font-family=\"Helvetica,sans-Serif\" font-size=\"14.00\" fill=\"#000000\">class = GALAXY</text>\n</g>\n<!-- 77&#45;&gt;78 -->\n<g id=\"edge78\" class=\"edge\">\n<title>77&#45;&gt;78</title>\n<path fill=\"none\" stroke=\"#000000\" d=\"M2301.5,-579.8796C2301.5,-571.6838 2301.5,-562.9891 2301.5,-554.5013\"/>\n<polygon fill=\"#000000\" stroke=\"#000000\" points=\"2305.0001,-554.298 2301.5,-544.2981 2298.0001,-554.2981 2305.0001,-554.298\"/>\n</g>\n<!-- 83 -->\n<g id=\"node84\" class=\"node\">\n<title>83</title>\n<path fill=\"#3ce583\" stroke=\"#000000\" d=\"M2619,-544C2619,-544 2512,-544 2512,-544 2506,-544 2500,-538 2500,-532 2500,-532 2500,-473 2500,-473 2500,-467 2506,-461 2512,-461 2512,-461 2619,-461 2619,-461 2625,-461 2631,-467 2631,-473 2631,-473 2631,-532 2631,-532 2631,-538 2625,-544 2619,-544\"/>\n<text text-anchor=\"middle\" x=\"2565.5\" y=\"-528.8\" font-family=\"Helvetica,sans-Serif\" font-size=\"14.00\" fill=\"#000000\">X[5] &lt;= 51613.0</text>\n<text text-anchor=\"middle\" x=\"2565.5\" y=\"-513.8\" font-family=\"Helvetica,sans-Serif\" font-size=\"14.00\" fill=\"#000000\">gini = 0.034</text>\n<text text-anchor=\"middle\" x=\"2565.5\" y=\"-498.8\" font-family=\"Helvetica,sans-Serif\" font-size=\"14.00\" fill=\"#000000\">samples = 176</text>\n<text text-anchor=\"middle\" x=\"2565.5\" y=\"-483.8\" font-family=\"Helvetica,sans-Serif\" font-size=\"14.00\" fill=\"#000000\">value = [0, 173, 3]</text>\n<text text-anchor=\"middle\" x=\"2565.5\" y=\"-468.8\" font-family=\"Helvetica,sans-Serif\" font-size=\"14.00\" fill=\"#000000\">class = GALAXY</text>\n</g>\n<!-- 77&#45;&gt;83 -->\n<g id=\"edge83\" class=\"edge\">\n<title>77&#45;&gt;83</title>\n<path fill=\"none\" stroke=\"#000000\" d=\"M2367.0439,-584.1876C2369.8865,-582.7453 2372.7136,-581.3432 2375.5,-580 2412.6059,-562.1124 2454.9542,-544.5728 2490.2392,-530.716\"/>\n<polygon fill=\"#000000\" stroke=\"#000000\" points=\"2491.9512,-533.805 2499.9938,-526.9081 2489.4056,-527.2842 2491.9512,-533.805\"/>\n</g>\n<!-- 79 -->\n<g id=\"node80\" class=\"node\">\n<title>79</title>\n<path fill=\"#cef8e0\" stroke=\"#000000\" d=\"M2293,-425C2293,-425 2192,-425 2192,-425 2186,-425 2180,-419 2180,-413 2180,-413 2180,-354 2180,-354 2180,-348 2186,-342 2192,-342 2192,-342 2293,-342 2293,-342 2299,-342 2305,-348 2305,-354 2305,-354 2305,-413 2305,-413 2305,-419 2299,-425 2293,-425\"/>\n<text text-anchor=\"middle\" x=\"2242.5\" y=\"-409.8\" font-family=\"Helvetica,sans-Serif\" font-size=\"14.00\" fill=\"#000000\">X[7] &lt;= &#45;0.416</text>\n<text text-anchor=\"middle\" x=\"2242.5\" y=\"-394.8\" font-family=\"Helvetica,sans-Serif\" font-size=\"14.00\" fill=\"#000000\">gini = 0.49</text>\n<text text-anchor=\"middle\" x=\"2242.5\" y=\"-379.8\" font-family=\"Helvetica,sans-Serif\" font-size=\"14.00\" fill=\"#000000\">samples = 7</text>\n<text text-anchor=\"middle\" x=\"2242.5\" y=\"-364.8\" font-family=\"Helvetica,sans-Serif\" font-size=\"14.00\" fill=\"#000000\">value = [0, 4, 3]</text>\n<text text-anchor=\"middle\" x=\"2242.5\" y=\"-349.8\" font-family=\"Helvetica,sans-Serif\" font-size=\"14.00\" fill=\"#000000\">class = GALAXY</text>\n</g>\n<!-- 78&#45;&gt;79 -->\n<g id=\"edge79\" class=\"edge\">\n<title>78&#45;&gt;79</title>\n<path fill=\"none\" stroke=\"#000000\" d=\"M2280.8647,-460.8796C2276.6226,-452.3236 2272.111,-443.2238 2267.7279,-434.3833\"/>\n<polygon fill=\"#000000\" stroke=\"#000000\" points=\"2270.8012,-432.7026 2263.2234,-425.2981 2264.5297,-435.8121 2270.8012,-432.7026\"/>\n</g>\n<!-- 82 -->\n<g id=\"node83\" class=\"node\">\n<title>82</title>\n<path fill=\"#39e581\" stroke=\"#000000\" d=\"M2436,-417.5C2436,-417.5 2335,-417.5 2335,-417.5 2329,-417.5 2323,-411.5 2323,-405.5 2323,-405.5 2323,-361.5 2323,-361.5 2323,-355.5 2329,-349.5 2335,-349.5 2335,-349.5 2436,-349.5 2436,-349.5 2442,-349.5 2448,-355.5 2448,-361.5 2448,-361.5 2448,-405.5 2448,-405.5 2448,-411.5 2442,-417.5 2436,-417.5\"/>\n<text text-anchor=\"middle\" x=\"2385.5\" y=\"-402.3\" font-family=\"Helvetica,sans-Serif\" font-size=\"14.00\" fill=\"#000000\">gini = 0.0</text>\n<text text-anchor=\"middle\" x=\"2385.5\" y=\"-387.3\" font-family=\"Helvetica,sans-Serif\" font-size=\"14.00\" fill=\"#000000\">samples = 12</text>\n<text text-anchor=\"middle\" x=\"2385.5\" y=\"-372.3\" font-family=\"Helvetica,sans-Serif\" font-size=\"14.00\" fill=\"#000000\">value = [0, 12, 0]</text>\n<text text-anchor=\"middle\" x=\"2385.5\" y=\"-357.3\" font-family=\"Helvetica,sans-Serif\" font-size=\"14.00\" fill=\"#000000\">class = GALAXY</text>\n</g>\n<!-- 78&#45;&gt;82 -->\n<g id=\"edge82\" class=\"edge\">\n<title>78&#45;&gt;82</title>\n<path fill=\"none\" stroke=\"#000000\" d=\"M2330.8791,-460.8796C2338.7963,-449.6636 2347.3731,-437.5131 2355.3325,-426.2372\"/>\n<polygon fill=\"#000000\" stroke=\"#000000\" points=\"2358.3702,-428.003 2361.2777,-417.8149 2352.6514,-423.9662 2358.3702,-428.003\"/>\n</g>\n<!-- 80 -->\n<g id=\"node81\" class=\"node\">\n<title>80</title>\n<path fill=\"#8139e5\" stroke=\"#000000\" d=\"M2251,-298.5C2251,-298.5 2160,-298.5 2160,-298.5 2154,-298.5 2148,-292.5 2148,-286.5 2148,-286.5 2148,-242.5 2148,-242.5 2148,-236.5 2154,-230.5 2160,-230.5 2160,-230.5 2251,-230.5 2251,-230.5 2257,-230.5 2263,-236.5 2263,-242.5 2263,-242.5 2263,-286.5 2263,-286.5 2263,-292.5 2257,-298.5 2251,-298.5\"/>\n<text text-anchor=\"middle\" x=\"2205.5\" y=\"-283.3\" font-family=\"Helvetica,sans-Serif\" font-size=\"14.00\" fill=\"#000000\">gini = 0.0</text>\n<text text-anchor=\"middle\" x=\"2205.5\" y=\"-268.3\" font-family=\"Helvetica,sans-Serif\" font-size=\"14.00\" fill=\"#000000\">samples = 3</text>\n<text text-anchor=\"middle\" x=\"2205.5\" y=\"-253.3\" font-family=\"Helvetica,sans-Serif\" font-size=\"14.00\" fill=\"#000000\">value = [0, 0, 3]</text>\n<text text-anchor=\"middle\" x=\"2205.5\" y=\"-238.3\" font-family=\"Helvetica,sans-Serif\" font-size=\"14.00\" fill=\"#000000\">class = QSO</text>\n</g>\n<!-- 79&#45;&gt;80 -->\n<g id=\"edge80\" class=\"edge\">\n<title>79&#45;&gt;80</title>\n<path fill=\"none\" stroke=\"#000000\" d=\"M2229.5592,-341.8796C2226.2086,-331.1034 2222.5899,-319.4647 2219.2017,-308.5677\"/>\n<polygon fill=\"#000000\" stroke=\"#000000\" points=\"2222.4806,-307.3248 2216.1693,-298.8149 2215.7963,-309.4032 2222.4806,-307.3248\"/>\n</g>\n<!-- 81 -->\n<g id=\"node82\" class=\"node\">\n<title>81</title>\n<path fill=\"#39e581\" stroke=\"#000000\" d=\"M2394,-298.5C2394,-298.5 2293,-298.5 2293,-298.5 2287,-298.5 2281,-292.5 2281,-286.5 2281,-286.5 2281,-242.5 2281,-242.5 2281,-236.5 2287,-230.5 2293,-230.5 2293,-230.5 2394,-230.5 2394,-230.5 2400,-230.5 2406,-236.5 2406,-242.5 2406,-242.5 2406,-286.5 2406,-286.5 2406,-292.5 2400,-298.5 2394,-298.5\"/>\n<text text-anchor=\"middle\" x=\"2343.5\" y=\"-283.3\" font-family=\"Helvetica,sans-Serif\" font-size=\"14.00\" fill=\"#000000\">gini = 0.0</text>\n<text text-anchor=\"middle\" x=\"2343.5\" y=\"-268.3\" font-family=\"Helvetica,sans-Serif\" font-size=\"14.00\" fill=\"#000000\">samples = 4</text>\n<text text-anchor=\"middle\" x=\"2343.5\" y=\"-253.3\" font-family=\"Helvetica,sans-Serif\" font-size=\"14.00\" fill=\"#000000\">value = [0, 4, 0]</text>\n<text text-anchor=\"middle\" x=\"2343.5\" y=\"-238.3\" font-family=\"Helvetica,sans-Serif\" font-size=\"14.00\" fill=\"#000000\">class = GALAXY</text>\n</g>\n<!-- 79&#45;&gt;81 -->\n<g id=\"edge81\" class=\"edge\">\n<title>79&#45;&gt;81</title>\n<path fill=\"none\" stroke=\"#000000\" d=\"M2277.8249,-341.8796C2287.531,-330.4436 2298.0616,-318.0363 2307.7893,-306.575\"/>\n<polygon fill=\"#000000\" stroke=\"#000000\" points=\"2310.5731,-308.7039 2314.3756,-298.8149 2305.2362,-304.1743 2310.5731,-308.7039\"/>\n</g>\n<!-- 84 -->\n<g id=\"node85\" class=\"node\">\n<title>84</title>\n<path fill=\"#55e993\" stroke=\"#000000\" d=\"M2616,-425C2616,-425 2515,-425 2515,-425 2509,-425 2503,-419 2503,-413 2503,-413 2503,-354 2503,-354 2503,-348 2509,-342 2515,-342 2515,-342 2616,-342 2616,-342 2622,-342 2628,-348 2628,-354 2628,-354 2628,-413 2628,-413 2628,-419 2622,-425 2616,-425\"/>\n<text text-anchor=\"middle\" x=\"2565.5\" y=\"-409.8\" font-family=\"Helvetica,sans-Serif\" font-size=\"14.00\" fill=\"#000000\">X[8] &lt;= &#45;0.376</text>\n<text text-anchor=\"middle\" x=\"2565.5\" y=\"-394.8\" font-family=\"Helvetica,sans-Serif\" font-size=\"14.00\" fill=\"#000000\">gini = 0.219</text>\n<text text-anchor=\"middle\" x=\"2565.5\" y=\"-379.8\" font-family=\"Helvetica,sans-Serif\" font-size=\"14.00\" fill=\"#000000\">samples = 8</text>\n<text text-anchor=\"middle\" x=\"2565.5\" y=\"-364.8\" font-family=\"Helvetica,sans-Serif\" font-size=\"14.00\" fill=\"#000000\">value = [0, 7, 1]</text>\n<text text-anchor=\"middle\" x=\"2565.5\" y=\"-349.8\" font-family=\"Helvetica,sans-Serif\" font-size=\"14.00\" fill=\"#000000\">class = GALAXY</text>\n</g>\n<!-- 83&#45;&gt;84 -->\n<g id=\"edge84\" class=\"edge\">\n<title>83&#45;&gt;84</title>\n<path fill=\"none\" stroke=\"#000000\" d=\"M2565.5,-460.8796C2565.5,-452.6838 2565.5,-443.9891 2565.5,-435.5013\"/>\n<polygon fill=\"#000000\" stroke=\"#000000\" points=\"2569.0001,-435.298 2565.5,-425.2981 2562.0001,-435.2981 2569.0001,-435.298\"/>\n</g>\n<!-- 87 -->\n<g id=\"node88\" class=\"node\">\n<title>87</title>\n<path fill=\"#3be583\" stroke=\"#000000\" d=\"M2819,-425C2819,-425 2712,-425 2712,-425 2706,-425 2700,-419 2700,-413 2700,-413 2700,-354 2700,-354 2700,-348 2706,-342 2712,-342 2712,-342 2819,-342 2819,-342 2825,-342 2831,-348 2831,-354 2831,-354 2831,-413 2831,-413 2831,-419 2825,-425 2819,-425\"/>\n<text text-anchor=\"middle\" x=\"2765.5\" y=\"-409.8\" font-family=\"Helvetica,sans-Serif\" font-size=\"14.00\" fill=\"#000000\">X[6] &lt;= 610.5</text>\n<text text-anchor=\"middle\" x=\"2765.5\" y=\"-394.8\" font-family=\"Helvetica,sans-Serif\" font-size=\"14.00\" fill=\"#000000\">gini = 0.024</text>\n<text text-anchor=\"middle\" x=\"2765.5\" y=\"-379.8\" font-family=\"Helvetica,sans-Serif\" font-size=\"14.00\" fill=\"#000000\">samples = 168</text>\n<text text-anchor=\"middle\" x=\"2765.5\" y=\"-364.8\" font-family=\"Helvetica,sans-Serif\" font-size=\"14.00\" fill=\"#000000\">value = [0, 166, 2]</text>\n<text text-anchor=\"middle\" x=\"2765.5\" y=\"-349.8\" font-family=\"Helvetica,sans-Serif\" font-size=\"14.00\" fill=\"#000000\">class = GALAXY</text>\n</g>\n<!-- 83&#45;&gt;87 -->\n<g id=\"edge87\" class=\"edge\">\n<title>83&#45;&gt;87</title>\n<path fill=\"none\" stroke=\"#000000\" d=\"M2631.2645,-463.3701C2650.4054,-451.9813 2671.4495,-439.46 2691.0831,-427.778\"/>\n<polygon fill=\"#000000\" stroke=\"#000000\" points=\"2692.8918,-430.7746 2699.696,-422.6534 2689.3125,-424.7589 2692.8918,-430.7746\"/>\n</g>\n<!-- 85 -->\n<g id=\"node86\" class=\"node\">\n<title>85</title>\n<path fill=\"#8139e5\" stroke=\"#000000\" d=\"M2527,-298.5C2527,-298.5 2436,-298.5 2436,-298.5 2430,-298.5 2424,-292.5 2424,-286.5 2424,-286.5 2424,-242.5 2424,-242.5 2424,-236.5 2430,-230.5 2436,-230.5 2436,-230.5 2527,-230.5 2527,-230.5 2533,-230.5 2539,-236.5 2539,-242.5 2539,-242.5 2539,-286.5 2539,-286.5 2539,-292.5 2533,-298.5 2527,-298.5\"/>\n<text text-anchor=\"middle\" x=\"2481.5\" y=\"-283.3\" font-family=\"Helvetica,sans-Serif\" font-size=\"14.00\" fill=\"#000000\">gini = 0.0</text>\n<text text-anchor=\"middle\" x=\"2481.5\" y=\"-268.3\" font-family=\"Helvetica,sans-Serif\" font-size=\"14.00\" fill=\"#000000\">samples = 1</text>\n<text text-anchor=\"middle\" x=\"2481.5\" y=\"-253.3\" font-family=\"Helvetica,sans-Serif\" font-size=\"14.00\" fill=\"#000000\">value = [0, 0, 1]</text>\n<text text-anchor=\"middle\" x=\"2481.5\" y=\"-238.3\" font-family=\"Helvetica,sans-Serif\" font-size=\"14.00\" fill=\"#000000\">class = QSO</text>\n</g>\n<!-- 84&#45;&gt;85 -->\n<g id=\"edge85\" class=\"edge\">\n<title>84&#45;&gt;85</title>\n<path fill=\"none\" stroke=\"#000000\" d=\"M2536.1209,-341.8796C2528.2037,-330.6636 2519.6269,-318.5131 2511.6675,-307.2372\"/>\n<polygon fill=\"#000000\" stroke=\"#000000\" points=\"2514.3486,-304.9662 2505.7223,-298.8149 2508.6298,-309.003 2514.3486,-304.9662\"/>\n</g>\n<!-- 86 -->\n<g id=\"node87\" class=\"node\">\n<title>86</title>\n<path fill=\"#39e581\" stroke=\"#000000\" d=\"M2670,-298.5C2670,-298.5 2569,-298.5 2569,-298.5 2563,-298.5 2557,-292.5 2557,-286.5 2557,-286.5 2557,-242.5 2557,-242.5 2557,-236.5 2563,-230.5 2569,-230.5 2569,-230.5 2670,-230.5 2670,-230.5 2676,-230.5 2682,-236.5 2682,-242.5 2682,-242.5 2682,-286.5 2682,-286.5 2682,-292.5 2676,-298.5 2670,-298.5\"/>\n<text text-anchor=\"middle\" x=\"2619.5\" y=\"-283.3\" font-family=\"Helvetica,sans-Serif\" font-size=\"14.00\" fill=\"#000000\">gini = 0.0</text>\n<text text-anchor=\"middle\" x=\"2619.5\" y=\"-268.3\" font-family=\"Helvetica,sans-Serif\" font-size=\"14.00\" fill=\"#000000\">samples = 7</text>\n<text text-anchor=\"middle\" x=\"2619.5\" y=\"-253.3\" font-family=\"Helvetica,sans-Serif\" font-size=\"14.00\" fill=\"#000000\">value = [0, 7, 0]</text>\n<text text-anchor=\"middle\" x=\"2619.5\" y=\"-238.3\" font-family=\"Helvetica,sans-Serif\" font-size=\"14.00\" fill=\"#000000\">class = GALAXY</text>\n</g>\n<!-- 84&#45;&gt;86 -->\n<g id=\"edge86\" class=\"edge\">\n<title>84&#45;&gt;86</title>\n<path fill=\"none\" stroke=\"#000000\" d=\"M2584.3866,-341.8796C2589.3265,-330.9935 2594.6659,-319.227 2599.6541,-308.2344\"/>\n<polygon fill=\"#000000\" stroke=\"#000000\" points=\"2602.9834,-309.3675 2603.9285,-298.8149 2596.609,-306.4749 2602.9834,-309.3675\"/>\n</g>\n<!-- 88 -->\n<g id=\"node89\" class=\"node\">\n<title>88</title>\n<path fill=\"#3ae582\" stroke=\"#000000\" d=\"M2819,-306C2819,-306 2712,-306 2712,-306 2706,-306 2700,-300 2700,-294 2700,-294 2700,-235 2700,-235 2700,-229 2706,-223 2712,-223 2712,-223 2819,-223 2819,-223 2825,-223 2831,-229 2831,-235 2831,-235 2831,-294 2831,-294 2831,-300 2825,-306 2819,-306\"/>\n<text text-anchor=\"middle\" x=\"2765.5\" y=\"-290.8\" font-family=\"Helvetica,sans-Serif\" font-size=\"14.00\" fill=\"#000000\">X[9] &lt;= 0.243</text>\n<text text-anchor=\"middle\" x=\"2765.5\" y=\"-275.8\" font-family=\"Helvetica,sans-Serif\" font-size=\"14.00\" fill=\"#000000\">gini = 0.013</text>\n<text text-anchor=\"middle\" x=\"2765.5\" y=\"-260.8\" font-family=\"Helvetica,sans-Serif\" font-size=\"14.00\" fill=\"#000000\">samples = 155</text>\n<text text-anchor=\"middle\" x=\"2765.5\" y=\"-245.8\" font-family=\"Helvetica,sans-Serif\" font-size=\"14.00\" fill=\"#000000\">value = [0, 154, 1]</text>\n<text text-anchor=\"middle\" x=\"2765.5\" y=\"-230.8\" font-family=\"Helvetica,sans-Serif\" font-size=\"14.00\" fill=\"#000000\">class = GALAXY</text>\n</g>\n<!-- 87&#45;&gt;88 -->\n<g id=\"edge88\" class=\"edge\">\n<title>87&#45;&gt;88</title>\n<path fill=\"none\" stroke=\"#000000\" d=\"M2765.5,-341.8796C2765.5,-333.6838 2765.5,-324.9891 2765.5,-316.5013\"/>\n<polygon fill=\"#000000\" stroke=\"#000000\" points=\"2769.0001,-316.298 2765.5,-306.2981 2762.0001,-316.2981 2769.0001,-316.298\"/>\n</g>\n<!-- 93 -->\n<g id=\"node94\" class=\"node\">\n<title>93</title>\n<path fill=\"#49e78c\" stroke=\"#000000\" d=\"M2962,-306C2962,-306 2861,-306 2861,-306 2855,-306 2849,-300 2849,-294 2849,-294 2849,-235 2849,-235 2849,-229 2855,-223 2861,-223 2861,-223 2962,-223 2962,-223 2968,-223 2974,-229 2974,-235 2974,-235 2974,-294 2974,-294 2974,-300 2968,-306 2962,-306\"/>\n<text text-anchor=\"middle\" x=\"2911.5\" y=\"-290.8\" font-family=\"Helvetica,sans-Serif\" font-size=\"14.00\" fill=\"#000000\">X[6] &lt;= 615.5</text>\n<text text-anchor=\"middle\" x=\"2911.5\" y=\"-275.8\" font-family=\"Helvetica,sans-Serif\" font-size=\"14.00\" fill=\"#000000\">gini = 0.142</text>\n<text text-anchor=\"middle\" x=\"2911.5\" y=\"-260.8\" font-family=\"Helvetica,sans-Serif\" font-size=\"14.00\" fill=\"#000000\">samples = 13</text>\n<text text-anchor=\"middle\" x=\"2911.5\" y=\"-245.8\" font-family=\"Helvetica,sans-Serif\" font-size=\"14.00\" fill=\"#000000\">value = [0, 12, 1]</text>\n<text text-anchor=\"middle\" x=\"2911.5\" y=\"-230.8\" font-family=\"Helvetica,sans-Serif\" font-size=\"14.00\" fill=\"#000000\">class = GALAXY</text>\n</g>\n<!-- 87&#45;&gt;93 -->\n<g id=\"edge93\" class=\"edge\">\n<title>87&#45;&gt;93</title>\n<path fill=\"none\" stroke=\"#000000\" d=\"M2816.5637,-341.8796C2828.0555,-332.513 2840.3468,-322.4948 2852.145,-312.8784\"/>\n<polygon fill=\"#000000\" stroke=\"#000000\" points=\"2854.6782,-315.329 2860.2183,-306.2981 2850.2556,-309.903 2854.6782,-315.329\"/>\n</g>\n<!-- 89 -->\n<g id=\"node90\" class=\"node\">\n<title>89</title>\n<path fill=\"#39e581\" stroke=\"#000000\" d=\"M2674,-179.5C2674,-179.5 2567,-179.5 2567,-179.5 2561,-179.5 2555,-173.5 2555,-167.5 2555,-167.5 2555,-123.5 2555,-123.5 2555,-117.5 2561,-111.5 2567,-111.5 2567,-111.5 2674,-111.5 2674,-111.5 2680,-111.5 2686,-117.5 2686,-123.5 2686,-123.5 2686,-167.5 2686,-167.5 2686,-173.5 2680,-179.5 2674,-179.5\"/>\n<text text-anchor=\"middle\" x=\"2620.5\" y=\"-164.3\" font-family=\"Helvetica,sans-Serif\" font-size=\"14.00\" fill=\"#000000\">gini = 0.0</text>\n<text text-anchor=\"middle\" x=\"2620.5\" y=\"-149.3\" font-family=\"Helvetica,sans-Serif\" font-size=\"14.00\" fill=\"#000000\">samples = 123</text>\n<text text-anchor=\"middle\" x=\"2620.5\" y=\"-134.3\" font-family=\"Helvetica,sans-Serif\" font-size=\"14.00\" fill=\"#000000\">value = [0, 123, 0]</text>\n<text text-anchor=\"middle\" x=\"2620.5\" y=\"-119.3\" font-family=\"Helvetica,sans-Serif\" font-size=\"14.00\" fill=\"#000000\">class = GALAXY</text>\n</g>\n<!-- 88&#45;&gt;89 -->\n<g id=\"edge89\" class=\"edge\">\n<title>88&#45;&gt;89</title>\n<path fill=\"none\" stroke=\"#000000\" d=\"M2714.786,-222.8796C2700.3156,-211.0038 2684.5686,-198.0804 2670.1617,-186.2568\"/>\n<polygon fill=\"#000000\" stroke=\"#000000\" points=\"2672.2628,-183.4534 2662.3123,-179.8149 2667.822,-188.8645 2672.2628,-183.4534\"/>\n</g>\n<!-- 90 -->\n<g id=\"node91\" class=\"node\">\n<title>90</title>\n<path fill=\"#3fe685\" stroke=\"#000000\" d=\"M2817,-187C2817,-187 2716,-187 2716,-187 2710,-187 2704,-181 2704,-175 2704,-175 2704,-116 2704,-116 2704,-110 2710,-104 2716,-104 2716,-104 2817,-104 2817,-104 2823,-104 2829,-110 2829,-116 2829,-116 2829,-175 2829,-175 2829,-181 2823,-187 2817,-187\"/>\n<text text-anchor=\"middle\" x=\"2766.5\" y=\"-171.8\" font-family=\"Helvetica,sans-Serif\" font-size=\"14.00\" fill=\"#000000\">X[9] &lt;= 0.245</text>\n<text text-anchor=\"middle\" x=\"2766.5\" y=\"-156.8\" font-family=\"Helvetica,sans-Serif\" font-size=\"14.00\" fill=\"#000000\">gini = 0.061</text>\n<text text-anchor=\"middle\" x=\"2766.5\" y=\"-141.8\" font-family=\"Helvetica,sans-Serif\" font-size=\"14.00\" fill=\"#000000\">samples = 32</text>\n<text text-anchor=\"middle\" x=\"2766.5\" y=\"-126.8\" font-family=\"Helvetica,sans-Serif\" font-size=\"14.00\" fill=\"#000000\">value = [0, 31, 1]</text>\n<text text-anchor=\"middle\" x=\"2766.5\" y=\"-111.8\" font-family=\"Helvetica,sans-Serif\" font-size=\"14.00\" fill=\"#000000\">class = GALAXY</text>\n</g>\n<!-- 88&#45;&gt;90 -->\n<g id=\"edge90\" class=\"edge\">\n<title>88&#45;&gt;90</title>\n<path fill=\"none\" stroke=\"#000000\" d=\"M2765.8498,-222.8796C2765.9186,-214.6838 2765.9917,-205.9891 2766.063,-197.5013\"/>\n<polygon fill=\"#000000\" stroke=\"#000000\" points=\"2769.5645,-197.3272 2766.1488,-187.2981 2762.5648,-197.2683 2769.5645,-197.3272\"/>\n</g>\n<!-- 91 -->\n<g id=\"node92\" class=\"node\">\n<title>91</title>\n<path fill=\"#8139e5\" stroke=\"#000000\" d=\"M2675,-68C2675,-68 2584,-68 2584,-68 2578,-68 2572,-62 2572,-56 2572,-56 2572,-12 2572,-12 2572,-6 2578,0 2584,0 2584,0 2675,0 2675,0 2681,0 2687,-6 2687,-12 2687,-12 2687,-56 2687,-56 2687,-62 2681,-68 2675,-68\"/>\n<text text-anchor=\"middle\" x=\"2629.5\" y=\"-52.8\" font-family=\"Helvetica,sans-Serif\" font-size=\"14.00\" fill=\"#000000\">gini = 0.0</text>\n<text text-anchor=\"middle\" x=\"2629.5\" y=\"-37.8\" font-family=\"Helvetica,sans-Serif\" font-size=\"14.00\" fill=\"#000000\">samples = 1</text>\n<text text-anchor=\"middle\" x=\"2629.5\" y=\"-22.8\" font-family=\"Helvetica,sans-Serif\" font-size=\"14.00\" fill=\"#000000\">value = [0, 0, 1]</text>\n<text text-anchor=\"middle\" x=\"2629.5\" y=\"-7.8\" font-family=\"Helvetica,sans-Serif\" font-size=\"14.00\" fill=\"#000000\">class = QSO</text>\n</g>\n<!-- 90&#45;&gt;91 -->\n<g id=\"edge91\" class=\"edge\">\n<title>90&#45;&gt;91</title>\n<path fill=\"none\" stroke=\"#000000\" d=\"M2715.4863,-103.9815C2703.742,-94.4232 2691.2628,-84.2668 2679.5595,-74.7419\"/>\n<polygon fill=\"#000000\" stroke=\"#000000\" points=\"2681.565,-71.8614 2671.5998,-68.2637 2677.1464,-77.2906 2681.565,-71.8614\"/>\n</g>\n<!-- 92 -->\n<g id=\"node93\" class=\"node\">\n<title>92</title>\n<path fill=\"#39e581\" stroke=\"#000000\" d=\"M2818,-68C2818,-68 2717,-68 2717,-68 2711,-68 2705,-62 2705,-56 2705,-56 2705,-12 2705,-12 2705,-6 2711,0 2717,0 2717,0 2818,0 2818,0 2824,0 2830,-6 2830,-12 2830,-12 2830,-56 2830,-56 2830,-62 2824,-68 2818,-68\"/>\n<text text-anchor=\"middle\" x=\"2767.5\" y=\"-52.8\" font-family=\"Helvetica,sans-Serif\" font-size=\"14.00\" fill=\"#000000\">gini = 0.0</text>\n<text text-anchor=\"middle\" x=\"2767.5\" y=\"-37.8\" font-family=\"Helvetica,sans-Serif\" font-size=\"14.00\" fill=\"#000000\">samples = 31</text>\n<text text-anchor=\"middle\" x=\"2767.5\" y=\"-22.8\" font-family=\"Helvetica,sans-Serif\" font-size=\"14.00\" fill=\"#000000\">value = [0, 31, 0]</text>\n<text text-anchor=\"middle\" x=\"2767.5\" y=\"-7.8\" font-family=\"Helvetica,sans-Serif\" font-size=\"14.00\" fill=\"#000000\">class = GALAXY</text>\n</g>\n<!-- 90&#45;&gt;92 -->\n<g id=\"edge92\" class=\"edge\">\n<title>90&#45;&gt;92</title>\n<path fill=\"none\" stroke=\"#000000\" d=\"M2766.8724,-103.9815C2766.9474,-95.618 2767.0265,-86.7965 2767.1023,-78.3409\"/>\n<polygon fill=\"#000000\" stroke=\"#000000\" points=\"2770.6028,-78.2947 2767.1927,-68.2637 2763.6031,-78.2318 2770.6028,-78.2947\"/>\n</g>\n<!-- 94 -->\n<g id=\"node95\" class=\"node\">\n<title>94</title>\n<path fill=\"#ffffff\" stroke=\"#000000\" d=\"M2961,-187C2961,-187 2860,-187 2860,-187 2854,-187 2848,-181 2848,-175 2848,-175 2848,-116 2848,-116 2848,-110 2854,-104 2860,-104 2860,-104 2961,-104 2961,-104 2967,-104 2973,-110 2973,-116 2973,-116 2973,-175 2973,-175 2973,-181 2967,-187 2961,-187\"/>\n<text text-anchor=\"middle\" x=\"2910.5\" y=\"-171.8\" font-family=\"Helvetica,sans-Serif\" font-size=\"14.00\" fill=\"#000000\">X[4] &lt;= 611.0</text>\n<text text-anchor=\"middle\" x=\"2910.5\" y=\"-156.8\" font-family=\"Helvetica,sans-Serif\" font-size=\"14.00\" fill=\"#000000\">gini = 0.5</text>\n<text text-anchor=\"middle\" x=\"2910.5\" y=\"-141.8\" font-family=\"Helvetica,sans-Serif\" font-size=\"14.00\" fill=\"#000000\">samples = 2</text>\n<text text-anchor=\"middle\" x=\"2910.5\" y=\"-126.8\" font-family=\"Helvetica,sans-Serif\" font-size=\"14.00\" fill=\"#000000\">value = [0, 1, 1]</text>\n<text text-anchor=\"middle\" x=\"2910.5\" y=\"-111.8\" font-family=\"Helvetica,sans-Serif\" font-size=\"14.00\" fill=\"#000000\">class = GALAXY</text>\n</g>\n<!-- 93&#45;&gt;94 -->\n<g id=\"edge94\" class=\"edge\">\n<title>93&#45;&gt;94</title>\n<path fill=\"none\" stroke=\"#000000\" d=\"M2911.1502,-222.8796C2911.0814,-214.6838 2911.0083,-205.9891 2910.937,-197.5013\"/>\n<polygon fill=\"#000000\" stroke=\"#000000\" points=\"2914.4352,-197.2683 2910.8512,-187.2981 2907.4355,-197.3272 2914.4352,-197.2683\"/>\n</g>\n<!-- 97 -->\n<g id=\"node98\" class=\"node\">\n<title>97</title>\n<path fill=\"#39e581\" stroke=\"#000000\" d=\"M3104,-179.5C3104,-179.5 3003,-179.5 3003,-179.5 2997,-179.5 2991,-173.5 2991,-167.5 2991,-167.5 2991,-123.5 2991,-123.5 2991,-117.5 2997,-111.5 3003,-111.5 3003,-111.5 3104,-111.5 3104,-111.5 3110,-111.5 3116,-117.5 3116,-123.5 3116,-123.5 3116,-167.5 3116,-167.5 3116,-173.5 3110,-179.5 3104,-179.5\"/>\n<text text-anchor=\"middle\" x=\"3053.5\" y=\"-164.3\" font-family=\"Helvetica,sans-Serif\" font-size=\"14.00\" fill=\"#000000\">gini = 0.0</text>\n<text text-anchor=\"middle\" x=\"3053.5\" y=\"-149.3\" font-family=\"Helvetica,sans-Serif\" font-size=\"14.00\" fill=\"#000000\">samples = 11</text>\n<text text-anchor=\"middle\" x=\"3053.5\" y=\"-134.3\" font-family=\"Helvetica,sans-Serif\" font-size=\"14.00\" fill=\"#000000\">value = [0, 11, 0]</text>\n<text text-anchor=\"middle\" x=\"3053.5\" y=\"-119.3\" font-family=\"Helvetica,sans-Serif\" font-size=\"14.00\" fill=\"#000000\">class = GALAXY</text>\n</g>\n<!-- 93&#45;&gt;97 -->\n<g id=\"edge97\" class=\"edge\">\n<title>93&#45;&gt;97</title>\n<path fill=\"none\" stroke=\"#000000\" d=\"M2961.1647,-222.8796C2975.3358,-211.0038 2990.757,-198.0804 3004.8658,-186.2568\"/>\n<polygon fill=\"#000000\" stroke=\"#000000\" points=\"3007.1363,-188.9206 3012.5528,-179.8149 3002.6402,-183.5554 3007.1363,-188.9206\"/>\n</g>\n<!-- 95 -->\n<g id=\"node96\" class=\"node\">\n<title>95</title>\n<path fill=\"#8139e5\" stroke=\"#000000\" d=\"M2955,-68C2955,-68 2864,-68 2864,-68 2858,-68 2852,-62 2852,-56 2852,-56 2852,-12 2852,-12 2852,-6 2858,0 2864,0 2864,0 2955,0 2955,0 2961,0 2967,-6 2967,-12 2967,-12 2967,-56 2967,-56 2967,-62 2961,-68 2955,-68\"/>\n<text text-anchor=\"middle\" x=\"2909.5\" y=\"-52.8\" font-family=\"Helvetica,sans-Serif\" font-size=\"14.00\" fill=\"#000000\">gini = 0.0</text>\n<text text-anchor=\"middle\" x=\"2909.5\" y=\"-37.8\" font-family=\"Helvetica,sans-Serif\" font-size=\"14.00\" fill=\"#000000\">samples = 1</text>\n<text text-anchor=\"middle\" x=\"2909.5\" y=\"-22.8\" font-family=\"Helvetica,sans-Serif\" font-size=\"14.00\" fill=\"#000000\">value = [0, 0, 1]</text>\n<text text-anchor=\"middle\" x=\"2909.5\" y=\"-7.8\" font-family=\"Helvetica,sans-Serif\" font-size=\"14.00\" fill=\"#000000\">class = QSO</text>\n</g>\n<!-- 94&#45;&gt;95 -->\n<g id=\"edge95\" class=\"edge\">\n<title>94&#45;&gt;95</title>\n<path fill=\"none\" stroke=\"#000000\" d=\"M2910.1276,-103.9815C2910.0526,-95.618 2909.9735,-86.7965 2909.8977,-78.3409\"/>\n<polygon fill=\"#000000\" stroke=\"#000000\" points=\"2913.3969,-78.2318 2909.8073,-68.2637 2906.3972,-78.2947 2913.3969,-78.2318\"/>\n</g>\n<!-- 96 -->\n<g id=\"node97\" class=\"node\">\n<title>96</title>\n<path fill=\"#39e581\" stroke=\"#000000\" d=\"M3098,-68C3098,-68 2997,-68 2997,-68 2991,-68 2985,-62 2985,-56 2985,-56 2985,-12 2985,-12 2985,-6 2991,0 2997,0 2997,0 3098,0 3098,0 3104,0 3110,-6 3110,-12 3110,-12 3110,-56 3110,-56 3110,-62 3104,-68 3098,-68\"/>\n<text text-anchor=\"middle\" x=\"3047.5\" y=\"-52.8\" font-family=\"Helvetica,sans-Serif\" font-size=\"14.00\" fill=\"#000000\">gini = 0.0</text>\n<text text-anchor=\"middle\" x=\"3047.5\" y=\"-37.8\" font-family=\"Helvetica,sans-Serif\" font-size=\"14.00\" fill=\"#000000\">samples = 1</text>\n<text text-anchor=\"middle\" x=\"3047.5\" y=\"-22.8\" font-family=\"Helvetica,sans-Serif\" font-size=\"14.00\" fill=\"#000000\">value = [0, 1, 0]</text>\n<text text-anchor=\"middle\" x=\"3047.5\" y=\"-7.8\" font-family=\"Helvetica,sans-Serif\" font-size=\"14.00\" fill=\"#000000\">class = GALAXY</text>\n</g>\n<!-- 94&#45;&gt;96 -->\n<g id=\"edge96\" class=\"edge\">\n<title>94&#45;&gt;96</title>\n<path fill=\"none\" stroke=\"#000000\" d=\"M2961.5137,-103.9815C2973.258,-94.4232 2985.7372,-84.2668 2997.4405,-74.7419\"/>\n<polygon fill=\"#000000\" stroke=\"#000000\" points=\"2999.8536,-77.2906 3005.4002,-68.2637 2995.435,-71.8614 2999.8536,-77.2906\"/>\n</g>\n<!-- 99 -->\n<g id=\"node100\" class=\"node\">\n<title>99</title>\n<path fill=\"#9a61ea\" stroke=\"#000000\" d=\"M2491,-782C2491,-782 2400,-782 2400,-782 2394,-782 2388,-776 2388,-770 2388,-770 2388,-711 2388,-711 2388,-705 2394,-699 2400,-699 2400,-699 2491,-699 2491,-699 2497,-699 2503,-705 2503,-711 2503,-711 2503,-770 2503,-770 2503,-776 2497,-782 2491,-782\"/>\n<text text-anchor=\"middle\" x=\"2445.5\" y=\"-766.8\" font-family=\"Helvetica,sans-Serif\" font-size=\"14.00\" fill=\"#000000\">X[3] &lt;= 0.159</text>\n<text text-anchor=\"middle\" x=\"2445.5\" y=\"-751.8\" font-family=\"Helvetica,sans-Serif\" font-size=\"14.00\" fill=\"#000000\">gini = 0.278</text>\n<text text-anchor=\"middle\" x=\"2445.5\" y=\"-736.8\" font-family=\"Helvetica,sans-Serif\" font-size=\"14.00\" fill=\"#000000\">samples = 6</text>\n<text text-anchor=\"middle\" x=\"2445.5\" y=\"-721.8\" font-family=\"Helvetica,sans-Serif\" font-size=\"14.00\" fill=\"#000000\">value = [0, 1, 5]</text>\n<text text-anchor=\"middle\" x=\"2445.5\" y=\"-706.8\" font-family=\"Helvetica,sans-Serif\" font-size=\"14.00\" fill=\"#000000\">class = QSO</text>\n</g>\n<!-- 98&#45;&gt;99 -->\n<g id=\"edge99\" class=\"edge\">\n<title>98&#45;&gt;99</title>\n<path fill=\"none\" stroke=\"#000000\" d=\"M2448.101,-817.8796C2447.8255,-809.6838 2447.5332,-800.9891 2447.2479,-792.5013\"/>\n<polygon fill=\"#000000\" stroke=\"#000000\" points=\"2450.739,-792.1748 2446.905,-782.2981 2443.743,-792.41 2450.739,-792.1748\"/>\n</g>\n<!-- 102 -->\n<g id=\"node103\" class=\"node\">\n<title>102</title>\n<path fill=\"#43e687\" stroke=\"#000000\" d=\"M2634,-782C2634,-782 2533,-782 2533,-782 2527,-782 2521,-776 2521,-770 2521,-770 2521,-711 2521,-711 2521,-705 2527,-699 2533,-699 2533,-699 2634,-699 2634,-699 2640,-699 2646,-705 2646,-711 2646,-711 2646,-770 2646,-770 2646,-776 2640,-782 2634,-782\"/>\n<text text-anchor=\"middle\" x=\"2583.5\" y=\"-766.8\" font-family=\"Helvetica,sans-Serif\" font-size=\"14.00\" fill=\"#000000\">X[3] &lt;= 0.069</text>\n<text text-anchor=\"middle\" x=\"2583.5\" y=\"-751.8\" font-family=\"Helvetica,sans-Serif\" font-size=\"14.00\" fill=\"#000000\">gini = 0.091</text>\n<text text-anchor=\"middle\" x=\"2583.5\" y=\"-736.8\" font-family=\"Helvetica,sans-Serif\" font-size=\"14.00\" fill=\"#000000\">samples = 21</text>\n<text text-anchor=\"middle\" x=\"2583.5\" y=\"-721.8\" font-family=\"Helvetica,sans-Serif\" font-size=\"14.00\" fill=\"#000000\">value = [0, 20, 1]</text>\n<text text-anchor=\"middle\" x=\"2583.5\" y=\"-706.8\" font-family=\"Helvetica,sans-Serif\" font-size=\"14.00\" fill=\"#000000\">class = GALAXY</text>\n</g>\n<!-- 98&#45;&gt;102 -->\n<g id=\"edge102\" class=\"edge\">\n<title>98&#45;&gt;102</title>\n<path fill=\"none\" stroke=\"#000000\" d=\"M2496.3667,-817.8796C2506.8125,-808.6031 2517.9781,-798.6874 2528.711,-789.1559\"/>\n<polygon fill=\"#000000\" stroke=\"#000000\" points=\"2531.2801,-791.5553 2536.4333,-782.2981 2526.632,-786.3213 2531.2801,-791.5553\"/>\n</g>\n<!-- 100 -->\n<g id=\"node101\" class=\"node\">\n<title>100</title>\n<path fill=\"#8139e5\" stroke=\"#000000\" d=\"M2488,-655.5C2488,-655.5 2397,-655.5 2397,-655.5 2391,-655.5 2385,-649.5 2385,-643.5 2385,-643.5 2385,-599.5 2385,-599.5 2385,-593.5 2391,-587.5 2397,-587.5 2397,-587.5 2488,-587.5 2488,-587.5 2494,-587.5 2500,-593.5 2500,-599.5 2500,-599.5 2500,-643.5 2500,-643.5 2500,-649.5 2494,-655.5 2488,-655.5\"/>\n<text text-anchor=\"middle\" x=\"2442.5\" y=\"-640.3\" font-family=\"Helvetica,sans-Serif\" font-size=\"14.00\" fill=\"#000000\">gini = 0.0</text>\n<text text-anchor=\"middle\" x=\"2442.5\" y=\"-625.3\" font-family=\"Helvetica,sans-Serif\" font-size=\"14.00\" fill=\"#000000\">samples = 5</text>\n<text text-anchor=\"middle\" x=\"2442.5\" y=\"-610.3\" font-family=\"Helvetica,sans-Serif\" font-size=\"14.00\" fill=\"#000000\">value = [0, 0, 5]</text>\n<text text-anchor=\"middle\" x=\"2442.5\" y=\"-595.3\" font-family=\"Helvetica,sans-Serif\" font-size=\"14.00\" fill=\"#000000\">class = QSO</text>\n</g>\n<!-- 99&#45;&gt;100 -->\n<g id=\"edge100\" class=\"edge\">\n<title>99&#45;&gt;100</title>\n<path fill=\"none\" stroke=\"#000000\" d=\"M2444.4507,-698.8796C2444.1818,-688.2134 2443.8916,-676.7021 2443.6194,-665.9015\"/>\n<polygon fill=\"#000000\" stroke=\"#000000\" points=\"2447.1161,-665.7235 2443.3651,-655.8149 2440.1183,-665.9 2447.1161,-665.7235\"/>\n</g>\n<!-- 101 -->\n<g id=\"node102\" class=\"node\">\n<title>101</title>\n<path fill=\"#39e581\" stroke=\"#000000\" d=\"M2631,-655.5C2631,-655.5 2530,-655.5 2530,-655.5 2524,-655.5 2518,-649.5 2518,-643.5 2518,-643.5 2518,-599.5 2518,-599.5 2518,-593.5 2524,-587.5 2530,-587.5 2530,-587.5 2631,-587.5 2631,-587.5 2637,-587.5 2643,-593.5 2643,-599.5 2643,-599.5 2643,-643.5 2643,-643.5 2643,-649.5 2637,-655.5 2631,-655.5\"/>\n<text text-anchor=\"middle\" x=\"2580.5\" y=\"-640.3\" font-family=\"Helvetica,sans-Serif\" font-size=\"14.00\" fill=\"#000000\">gini = 0.0</text>\n<text text-anchor=\"middle\" x=\"2580.5\" y=\"-625.3\" font-family=\"Helvetica,sans-Serif\" font-size=\"14.00\" fill=\"#000000\">samples = 1</text>\n<text text-anchor=\"middle\" x=\"2580.5\" y=\"-610.3\" font-family=\"Helvetica,sans-Serif\" font-size=\"14.00\" fill=\"#000000\">value = [0, 1, 0]</text>\n<text text-anchor=\"middle\" x=\"2580.5\" y=\"-595.3\" font-family=\"Helvetica,sans-Serif\" font-size=\"14.00\" fill=\"#000000\">class = GALAXY</text>\n</g>\n<!-- 99&#45;&gt;101 -->\n<g id=\"edge101\" class=\"edge\">\n<title>99&#45;&gt;101</title>\n<path fill=\"none\" stroke=\"#000000\" d=\"M2492.7164,-698.8796C2506.0642,-687.1138 2520.5785,-674.3197 2533.8904,-662.5855\"/>\n<polygon fill=\"#000000\" stroke=\"#000000\" points=\"2536.384,-665.0531 2541.5713,-655.8149 2531.7552,-659.8019 2536.384,-665.0531\"/>\n</g>\n<!-- 103 -->\n<g id=\"node104\" class=\"node\">\n<title>103</title>\n<path fill=\"#39e581\" stroke=\"#000000\" d=\"M2774,-655.5C2774,-655.5 2673,-655.5 2673,-655.5 2667,-655.5 2661,-649.5 2661,-643.5 2661,-643.5 2661,-599.5 2661,-599.5 2661,-593.5 2667,-587.5 2673,-587.5 2673,-587.5 2774,-587.5 2774,-587.5 2780,-587.5 2786,-593.5 2786,-599.5 2786,-599.5 2786,-643.5 2786,-643.5 2786,-649.5 2780,-655.5 2774,-655.5\"/>\n<text text-anchor=\"middle\" x=\"2723.5\" y=\"-640.3\" font-family=\"Helvetica,sans-Serif\" font-size=\"14.00\" fill=\"#000000\">gini = 0.0</text>\n<text text-anchor=\"middle\" x=\"2723.5\" y=\"-625.3\" font-family=\"Helvetica,sans-Serif\" font-size=\"14.00\" fill=\"#000000\">samples = 16</text>\n<text text-anchor=\"middle\" x=\"2723.5\" y=\"-610.3\" font-family=\"Helvetica,sans-Serif\" font-size=\"14.00\" fill=\"#000000\">value = [0, 16, 0]</text>\n<text text-anchor=\"middle\" x=\"2723.5\" y=\"-595.3\" font-family=\"Helvetica,sans-Serif\" font-size=\"14.00\" fill=\"#000000\">class = GALAXY</text>\n</g>\n<!-- 102&#45;&gt;103 -->\n<g id=\"edge103\" class=\"edge\">\n<title>102&#45;&gt;103</title>\n<path fill=\"none\" stroke=\"#000000\" d=\"M2632.4652,-698.8796C2646.3073,-687.1138 2661.3592,-674.3197 2675.1641,-662.5855\"/>\n<polygon fill=\"#000000\" stroke=\"#000000\" points=\"2677.7769,-664.9582 2683.1295,-655.8149 2673.2433,-659.6247 2677.7769,-664.9582\"/>\n</g>\n<!-- 104 -->\n<g id=\"node105\" class=\"node\">\n<title>104</title>\n<path fill=\"#6aeca0\" stroke=\"#000000\" d=\"M2917,-663C2917,-663 2816,-663 2816,-663 2810,-663 2804,-657 2804,-651 2804,-651 2804,-592 2804,-592 2804,-586 2810,-580 2816,-580 2816,-580 2917,-580 2917,-580 2923,-580 2929,-586 2929,-592 2929,-592 2929,-651 2929,-651 2929,-657 2923,-663 2917,-663\"/>\n<text text-anchor=\"middle\" x=\"2866.5\" y=\"-647.8\" font-family=\"Helvetica,sans-Serif\" font-size=\"14.00\" fill=\"#000000\">X[8] &lt;= 0.291</text>\n<text text-anchor=\"middle\" x=\"2866.5\" y=\"-632.8\" font-family=\"Helvetica,sans-Serif\" font-size=\"14.00\" fill=\"#000000\">gini = 0.32</text>\n<text text-anchor=\"middle\" x=\"2866.5\" y=\"-617.8\" font-family=\"Helvetica,sans-Serif\" font-size=\"14.00\" fill=\"#000000\">samples = 5</text>\n<text text-anchor=\"middle\" x=\"2866.5\" y=\"-602.8\" font-family=\"Helvetica,sans-Serif\" font-size=\"14.00\" fill=\"#000000\">value = [0, 4, 1]</text>\n<text text-anchor=\"middle\" x=\"2866.5\" y=\"-587.8\" font-family=\"Helvetica,sans-Serif\" font-size=\"14.00\" fill=\"#000000\">class = GALAXY</text>\n</g>\n<!-- 102&#45;&gt;104 -->\n<g id=\"edge104\" class=\"edge\">\n<title>102&#45;&gt;104</title>\n<path fill=\"none\" stroke=\"#000000\" d=\"M2646.1355,-702.6759C2648.9316,-701.3737 2651.7272,-700.1408 2654.5,-699 2713.9143,-674.5552 2735.0118,-687.2643 2794.5,-663 2794.596,-662.9608 2794.6921,-662.9216 2794.7881,-662.8822\"/>\n<polygon fill=\"#000000\" stroke=\"#000000\" points=\"2796.0229,-666.1625 2803.775,-658.9407 2793.2113,-659.752 2796.0229,-666.1625\"/>\n</g>\n<!-- 105 -->\n<g id=\"node106\" class=\"node\">\n<title>105</title>\n<path fill=\"#39e581\" stroke=\"#000000\" d=\"M2803,-536.5C2803,-536.5 2702,-536.5 2702,-536.5 2696,-536.5 2690,-530.5 2690,-524.5 2690,-524.5 2690,-480.5 2690,-480.5 2690,-474.5 2696,-468.5 2702,-468.5 2702,-468.5 2803,-468.5 2803,-468.5 2809,-468.5 2815,-474.5 2815,-480.5 2815,-480.5 2815,-524.5 2815,-524.5 2815,-530.5 2809,-536.5 2803,-536.5\"/>\n<text text-anchor=\"middle\" x=\"2752.5\" y=\"-521.3\" font-family=\"Helvetica,sans-Serif\" font-size=\"14.00\" fill=\"#000000\">gini = 0.0</text>\n<text text-anchor=\"middle\" x=\"2752.5\" y=\"-506.3\" font-family=\"Helvetica,sans-Serif\" font-size=\"14.00\" fill=\"#000000\">samples = 4</text>\n<text text-anchor=\"middle\" x=\"2752.5\" y=\"-491.3\" font-family=\"Helvetica,sans-Serif\" font-size=\"14.00\" fill=\"#000000\">value = [0, 4, 0]</text>\n<text text-anchor=\"middle\" x=\"2752.5\" y=\"-476.3\" font-family=\"Helvetica,sans-Serif\" font-size=\"14.00\" fill=\"#000000\">class = GALAXY</text>\n</g>\n<!-- 104&#45;&gt;105 -->\n<g id=\"edge105\" class=\"edge\">\n<title>104&#45;&gt;105</title>\n<path fill=\"none\" stroke=\"#000000\" d=\"M2826.6283,-579.8796C2815.5676,-568.3337 2803.5582,-555.7976 2792.4906,-544.2446\"/>\n<polygon fill=\"#000000\" stroke=\"#000000\" points=\"2794.8183,-541.6149 2785.3731,-536.8149 2789.7635,-546.4573 2794.8183,-541.6149\"/>\n</g>\n<!-- 106 -->\n<g id=\"node107\" class=\"node\">\n<title>106</title>\n<path fill=\"#8139e5\" stroke=\"#000000\" d=\"M2936,-536.5C2936,-536.5 2845,-536.5 2845,-536.5 2839,-536.5 2833,-530.5 2833,-524.5 2833,-524.5 2833,-480.5 2833,-480.5 2833,-474.5 2839,-468.5 2845,-468.5 2845,-468.5 2936,-468.5 2936,-468.5 2942,-468.5 2948,-474.5 2948,-480.5 2948,-480.5 2948,-524.5 2948,-524.5 2948,-530.5 2942,-536.5 2936,-536.5\"/>\n<text text-anchor=\"middle\" x=\"2890.5\" y=\"-521.3\" font-family=\"Helvetica,sans-Serif\" font-size=\"14.00\" fill=\"#000000\">gini = 0.0</text>\n<text text-anchor=\"middle\" x=\"2890.5\" y=\"-506.3\" font-family=\"Helvetica,sans-Serif\" font-size=\"14.00\" fill=\"#000000\">samples = 1</text>\n<text text-anchor=\"middle\" x=\"2890.5\" y=\"-491.3\" font-family=\"Helvetica,sans-Serif\" font-size=\"14.00\" fill=\"#000000\">value = [0, 0, 1]</text>\n<text text-anchor=\"middle\" x=\"2890.5\" y=\"-476.3\" font-family=\"Helvetica,sans-Serif\" font-size=\"14.00\" fill=\"#000000\">class = QSO</text>\n</g>\n<!-- 104&#45;&gt;106 -->\n<g id=\"edge106\" class=\"edge\">\n<title>104&#45;&gt;106</title>\n<path fill=\"none\" stroke=\"#000000\" d=\"M2874.894,-579.8796C2877.0452,-569.2134 2879.3668,-557.7021 2881.5451,-546.9015\"/>\n<polygon fill=\"#000000\" stroke=\"#000000\" points=\"2885.0332,-547.3095 2883.5793,-536.8149 2878.1713,-545.9256 2885.0332,-547.3095\"/>\n</g>\n<!-- 108 -->\n<g id=\"node109\" class=\"node\">\n<title>108</title>\n<path fill=\"#39e581\" stroke=\"#000000\" d=\"M2659,-1012.5C2659,-1012.5 2558,-1012.5 2558,-1012.5 2552,-1012.5 2546,-1006.5 2546,-1000.5 2546,-1000.5 2546,-956.5 2546,-956.5 2546,-950.5 2552,-944.5 2558,-944.5 2558,-944.5 2659,-944.5 2659,-944.5 2665,-944.5 2671,-950.5 2671,-956.5 2671,-956.5 2671,-1000.5 2671,-1000.5 2671,-1006.5 2665,-1012.5 2659,-1012.5\"/>\n<text text-anchor=\"middle\" x=\"2608.5\" y=\"-997.3\" font-family=\"Helvetica,sans-Serif\" font-size=\"14.00\" fill=\"#000000\">gini = 0.0</text>\n<text text-anchor=\"middle\" x=\"2608.5\" y=\"-982.3\" font-family=\"Helvetica,sans-Serif\" font-size=\"14.00\" fill=\"#000000\">samples = 2</text>\n<text text-anchor=\"middle\" x=\"2608.5\" y=\"-967.3\" font-family=\"Helvetica,sans-Serif\" font-size=\"14.00\" fill=\"#000000\">value = [0, 2, 0]</text>\n<text text-anchor=\"middle\" x=\"2608.5\" y=\"-952.3\" font-family=\"Helvetica,sans-Serif\" font-size=\"14.00\" fill=\"#000000\">class = GALAXY</text>\n</g>\n<!-- 107&#45;&gt;108 -->\n<g id=\"edge108\" class=\"edge\">\n<title>107&#45;&gt;108</title>\n<path fill=\"none\" stroke=\"#000000\" d=\"M2608.5,-1055.8796C2608.5,-1045.2134 2608.5,-1033.7021 2608.5,-1022.9015\"/>\n<polygon fill=\"#000000\" stroke=\"#000000\" points=\"2612.0001,-1022.8149 2608.5,-1012.8149 2605.0001,-1022.815 2612.0001,-1022.8149\"/>\n</g>\n<!-- 109 -->\n<g id=\"node110\" class=\"node\">\n<title>109</title>\n<path fill=\"#8e4de8\" stroke=\"#000000\" d=\"M2828,-1020C2828,-1020 2729,-1020 2729,-1020 2723,-1020 2717,-1014 2717,-1008 2717,-1008 2717,-949 2717,-949 2717,-943 2723,-937 2729,-937 2729,-937 2828,-937 2828,-937 2834,-937 2840,-943 2840,-949 2840,-949 2840,-1008 2840,-1008 2840,-1014 2834,-1020 2828,-1020\"/>\n<text text-anchor=\"middle\" x=\"2778.5\" y=\"-1004.8\" font-family=\"Helvetica,sans-Serif\" font-size=\"14.00\" fill=\"#000000\">X[8] &lt;= &#45;0.363</text>\n<text text-anchor=\"middle\" x=\"2778.5\" y=\"-989.8\" font-family=\"Helvetica,sans-Serif\" font-size=\"14.00\" fill=\"#000000\">gini = 0.17</text>\n<text text-anchor=\"middle\" x=\"2778.5\" y=\"-974.8\" font-family=\"Helvetica,sans-Serif\" font-size=\"14.00\" fill=\"#000000\">samples = 32</text>\n<text text-anchor=\"middle\" x=\"2778.5\" y=\"-959.8\" font-family=\"Helvetica,sans-Serif\" font-size=\"14.00\" fill=\"#000000\">value = [0, 3, 29]</text>\n<text text-anchor=\"middle\" x=\"2778.5\" y=\"-944.8\" font-family=\"Helvetica,sans-Serif\" font-size=\"14.00\" fill=\"#000000\">class = QSO</text>\n</g>\n<!-- 107&#45;&gt;109 -->\n<g id=\"edge109\" class=\"edge\">\n<title>107&#45;&gt;109</title>\n<path fill=\"none\" stroke=\"#000000\" d=\"M2667.9578,-1055.8796C2681.8046,-1046.1868 2696.6484,-1035.7961 2710.8212,-1025.8752\"/>\n<polygon fill=\"#000000\" stroke=\"#000000\" points=\"2712.8906,-1028.6989 2719.0758,-1020.0969 2708.8764,-1022.9643 2712.8906,-1028.6989\"/>\n</g>\n<!-- 110 -->\n<g id=\"node111\" class=\"node\">\n<title>110</title>\n<path fill=\"#9cf2c0\" stroke=\"#000000\" d=\"M2829,-901C2829,-901 2728,-901 2728,-901 2722,-901 2716,-895 2716,-889 2716,-889 2716,-830 2716,-830 2716,-824 2722,-818 2728,-818 2728,-818 2829,-818 2829,-818 2835,-818 2841,-824 2841,-830 2841,-830 2841,-889 2841,-889 2841,-895 2835,-901 2829,-901\"/>\n<text text-anchor=\"middle\" x=\"2778.5\" y=\"-885.8\" font-family=\"Helvetica,sans-Serif\" font-size=\"14.00\" fill=\"#000000\">X[7] &lt;= 1.114</text>\n<text text-anchor=\"middle\" x=\"2778.5\" y=\"-870.8\" font-family=\"Helvetica,sans-Serif\" font-size=\"14.00\" fill=\"#000000\">gini = 0.444</text>\n<text text-anchor=\"middle\" x=\"2778.5\" y=\"-855.8\" font-family=\"Helvetica,sans-Serif\" font-size=\"14.00\" fill=\"#000000\">samples = 3</text>\n<text text-anchor=\"middle\" x=\"2778.5\" y=\"-840.8\" font-family=\"Helvetica,sans-Serif\" font-size=\"14.00\" fill=\"#000000\">value = [0, 2, 1]</text>\n<text text-anchor=\"middle\" x=\"2778.5\" y=\"-825.8\" font-family=\"Helvetica,sans-Serif\" font-size=\"14.00\" fill=\"#000000\">class = GALAXY</text>\n</g>\n<!-- 109&#45;&gt;110 -->\n<g id=\"edge110\" class=\"edge\">\n<title>109&#45;&gt;110</title>\n<path fill=\"none\" stroke=\"#000000\" d=\"M2778.5,-936.8796C2778.5,-928.6838 2778.5,-919.9891 2778.5,-911.5013\"/>\n<polygon fill=\"#000000\" stroke=\"#000000\" points=\"2782.0001,-911.298 2778.5,-901.2981 2775.0001,-911.2981 2782.0001,-911.298\"/>\n</g>\n<!-- 113 -->\n<g id=\"node114\" class=\"node\">\n<title>113</title>\n<path fill=\"#8640e6\" stroke=\"#000000\" d=\"M3052,-901C3052,-901 2953,-901 2953,-901 2947,-901 2941,-895 2941,-889 2941,-889 2941,-830 2941,-830 2941,-824 2947,-818 2953,-818 2953,-818 3052,-818 3052,-818 3058,-818 3064,-824 3064,-830 3064,-830 3064,-889 3064,-889 3064,-895 3058,-901 3052,-901\"/>\n<text text-anchor=\"middle\" x=\"3002.5\" y=\"-885.8\" font-family=\"Helvetica,sans-Serif\" font-size=\"14.00\" fill=\"#000000\">X[6] &lt;= 44.0</text>\n<text text-anchor=\"middle\" x=\"3002.5\" y=\"-870.8\" font-family=\"Helvetica,sans-Serif\" font-size=\"14.00\" fill=\"#000000\">gini = 0.067</text>\n<text text-anchor=\"middle\" x=\"3002.5\" y=\"-855.8\" font-family=\"Helvetica,sans-Serif\" font-size=\"14.00\" fill=\"#000000\">samples = 29</text>\n<text text-anchor=\"middle\" x=\"3002.5\" y=\"-840.8\" font-family=\"Helvetica,sans-Serif\" font-size=\"14.00\" fill=\"#000000\">value = [0, 1, 28]</text>\n<text text-anchor=\"middle\" x=\"3002.5\" y=\"-825.8\" font-family=\"Helvetica,sans-Serif\" font-size=\"14.00\" fill=\"#000000\">class = QSO</text>\n</g>\n<!-- 109&#45;&gt;113 -->\n<g id=\"edge113\" class=\"edge\">\n<title>109&#45;&gt;113</title>\n<path fill=\"none\" stroke=\"#000000\" d=\"M2840.0053,-945.8253C2868.41,-930.7353 2902.2951,-912.7338 2931.754,-897.0838\"/>\n<polygon fill=\"#000000\" stroke=\"#000000\" points=\"2933.5542,-900.0908 2940.7433,-892.3083 2930.27,-893.909 2933.5542,-900.0908\"/>\n</g>\n<!-- 111 -->\n<g id=\"node112\" class=\"node\">\n<title>111</title>\n<path fill=\"#39e581\" stroke=\"#000000\" d=\"M2777,-774.5C2777,-774.5 2676,-774.5 2676,-774.5 2670,-774.5 2664,-768.5 2664,-762.5 2664,-762.5 2664,-718.5 2664,-718.5 2664,-712.5 2670,-706.5 2676,-706.5 2676,-706.5 2777,-706.5 2777,-706.5 2783,-706.5 2789,-712.5 2789,-718.5 2789,-718.5 2789,-762.5 2789,-762.5 2789,-768.5 2783,-774.5 2777,-774.5\"/>\n<text text-anchor=\"middle\" x=\"2726.5\" y=\"-759.3\" font-family=\"Helvetica,sans-Serif\" font-size=\"14.00\" fill=\"#000000\">gini = 0.0</text>\n<text text-anchor=\"middle\" x=\"2726.5\" y=\"-744.3\" font-family=\"Helvetica,sans-Serif\" font-size=\"14.00\" fill=\"#000000\">samples = 2</text>\n<text text-anchor=\"middle\" x=\"2726.5\" y=\"-729.3\" font-family=\"Helvetica,sans-Serif\" font-size=\"14.00\" fill=\"#000000\">value = [0, 2, 0]</text>\n<text text-anchor=\"middle\" x=\"2726.5\" y=\"-714.3\" font-family=\"Helvetica,sans-Serif\" font-size=\"14.00\" fill=\"#000000\">class = GALAXY</text>\n</g>\n<!-- 110&#45;&gt;111 -->\n<g id=\"edge111\" class=\"edge\">\n<title>110&#45;&gt;111</title>\n<path fill=\"none\" stroke=\"#000000\" d=\"M2760.3129,-817.8796C2755.556,-806.9935 2750.4143,-795.227 2745.6108,-784.2344\"/>\n<polygon fill=\"#000000\" stroke=\"#000000\" points=\"2748.7061,-782.5768 2741.4948,-774.8149 2742.2918,-785.3798 2748.7061,-782.5768\"/>\n</g>\n<!-- 112 -->\n<g id=\"node113\" class=\"node\">\n<title>112</title>\n<path fill=\"#8139e5\" stroke=\"#000000\" d=\"M2910,-774.5C2910,-774.5 2819,-774.5 2819,-774.5 2813,-774.5 2807,-768.5 2807,-762.5 2807,-762.5 2807,-718.5 2807,-718.5 2807,-712.5 2813,-706.5 2819,-706.5 2819,-706.5 2910,-706.5 2910,-706.5 2916,-706.5 2922,-712.5 2922,-718.5 2922,-718.5 2922,-762.5 2922,-762.5 2922,-768.5 2916,-774.5 2910,-774.5\"/>\n<text text-anchor=\"middle\" x=\"2864.5\" y=\"-759.3\" font-family=\"Helvetica,sans-Serif\" font-size=\"14.00\" fill=\"#000000\">gini = 0.0</text>\n<text text-anchor=\"middle\" x=\"2864.5\" y=\"-744.3\" font-family=\"Helvetica,sans-Serif\" font-size=\"14.00\" fill=\"#000000\">samples = 1</text>\n<text text-anchor=\"middle\" x=\"2864.5\" y=\"-729.3\" font-family=\"Helvetica,sans-Serif\" font-size=\"14.00\" fill=\"#000000\">value = [0, 0, 1]</text>\n<text text-anchor=\"middle\" x=\"2864.5\" y=\"-714.3\" font-family=\"Helvetica,sans-Serif\" font-size=\"14.00\" fill=\"#000000\">class = QSO</text>\n</g>\n<!-- 110&#45;&gt;112 -->\n<g id=\"edge112\" class=\"edge\">\n<title>110&#45;&gt;112</title>\n<path fill=\"none\" stroke=\"#000000\" d=\"M2808.5786,-817.8796C2816.6843,-806.6636 2825.4653,-794.5131 2833.6143,-783.2372\"/>\n<polygon fill=\"#000000\" stroke=\"#000000\" points=\"2836.6803,-784.9701 2839.701,-774.8149 2831.0068,-780.8698 2836.6803,-784.9701\"/>\n</g>\n<!-- 114 -->\n<g id=\"node115\" class=\"node\">\n<title>114</title>\n<path fill=\"#39e581\" stroke=\"#000000\" d=\"M3053,-774.5C3053,-774.5 2952,-774.5 2952,-774.5 2946,-774.5 2940,-768.5 2940,-762.5 2940,-762.5 2940,-718.5 2940,-718.5 2940,-712.5 2946,-706.5 2952,-706.5 2952,-706.5 3053,-706.5 3053,-706.5 3059,-706.5 3065,-712.5 3065,-718.5 3065,-718.5 3065,-762.5 3065,-762.5 3065,-768.5 3059,-774.5 3053,-774.5\"/>\n<text text-anchor=\"middle\" x=\"3002.5\" y=\"-759.3\" font-family=\"Helvetica,sans-Serif\" font-size=\"14.00\" fill=\"#000000\">gini = 0.0</text>\n<text text-anchor=\"middle\" x=\"3002.5\" y=\"-744.3\" font-family=\"Helvetica,sans-Serif\" font-size=\"14.00\" fill=\"#000000\">samples = 1</text>\n<text text-anchor=\"middle\" x=\"3002.5\" y=\"-729.3\" font-family=\"Helvetica,sans-Serif\" font-size=\"14.00\" fill=\"#000000\">value = [0, 1, 0]</text>\n<text text-anchor=\"middle\" x=\"3002.5\" y=\"-714.3\" font-family=\"Helvetica,sans-Serif\" font-size=\"14.00\" fill=\"#000000\">class = GALAXY</text>\n</g>\n<!-- 113&#45;&gt;114 -->\n<g id=\"edge114\" class=\"edge\">\n<title>113&#45;&gt;114</title>\n<path fill=\"none\" stroke=\"#000000\" d=\"M3002.5,-817.8796C3002.5,-807.2134 3002.5,-795.7021 3002.5,-784.9015\"/>\n<polygon fill=\"#000000\" stroke=\"#000000\" points=\"3006.0001,-784.8149 3002.5,-774.8149 2999.0001,-784.815 3006.0001,-784.8149\"/>\n</g>\n<!-- 115 -->\n<g id=\"node116\" class=\"node\">\n<title>115</title>\n<path fill=\"#8139e5\" stroke=\"#000000\" d=\"M3194,-774.5C3194,-774.5 3095,-774.5 3095,-774.5 3089,-774.5 3083,-768.5 3083,-762.5 3083,-762.5 3083,-718.5 3083,-718.5 3083,-712.5 3089,-706.5 3095,-706.5 3095,-706.5 3194,-706.5 3194,-706.5 3200,-706.5 3206,-712.5 3206,-718.5 3206,-718.5 3206,-762.5 3206,-762.5 3206,-768.5 3200,-774.5 3194,-774.5\"/>\n<text text-anchor=\"middle\" x=\"3144.5\" y=\"-759.3\" font-family=\"Helvetica,sans-Serif\" font-size=\"14.00\" fill=\"#000000\">gini = 0.0</text>\n<text text-anchor=\"middle\" x=\"3144.5\" y=\"-744.3\" font-family=\"Helvetica,sans-Serif\" font-size=\"14.00\" fill=\"#000000\">samples = 28</text>\n<text text-anchor=\"middle\" x=\"3144.5\" y=\"-729.3\" font-family=\"Helvetica,sans-Serif\" font-size=\"14.00\" fill=\"#000000\">value = [0, 0, 28]</text>\n<text text-anchor=\"middle\" x=\"3144.5\" y=\"-714.3\" font-family=\"Helvetica,sans-Serif\" font-size=\"14.00\" fill=\"#000000\">class = QSO</text>\n</g>\n<!-- 113&#45;&gt;115 -->\n<g id=\"edge115\" class=\"edge\">\n<title>113&#45;&gt;115</title>\n<path fill=\"none\" stroke=\"#000000\" d=\"M3052.1647,-817.8796C3066.3358,-806.0038 3081.757,-793.0804 3095.8658,-781.2568\"/>\n<polygon fill=\"#000000\" stroke=\"#000000\" points=\"3098.1363,-783.9206 3103.5528,-774.8149 3093.6402,-778.5554 3098.1363,-783.9206\"/>\n</g>\n<!-- 117 -->\n<g id=\"node118\" class=\"node\">\n<title>117</title>\n<path fill=\"#d5bdf6\" stroke=\"#000000\" d=\"M3603,-1139C3603,-1139 3512,-1139 3512,-1139 3506,-1139 3500,-1133 3500,-1127 3500,-1127 3500,-1068 3500,-1068 3500,-1062 3506,-1056 3512,-1056 3512,-1056 3603,-1056 3603,-1056 3609,-1056 3615,-1062 3615,-1068 3615,-1068 3615,-1127 3615,-1127 3615,-1133 3609,-1139 3603,-1139\"/>\n<text text-anchor=\"middle\" x=\"3557.5\" y=\"-1123.8\" font-family=\"Helvetica,sans-Serif\" font-size=\"14.00\" fill=\"#000000\">X[3] &lt;= 0.879</text>\n<text text-anchor=\"middle\" x=\"3557.5\" y=\"-1108.8\" font-family=\"Helvetica,sans-Serif\" font-size=\"14.00\" fill=\"#000000\">gini = 0.48</text>\n<text text-anchor=\"middle\" x=\"3557.5\" y=\"-1093.8\" font-family=\"Helvetica,sans-Serif\" font-size=\"14.00\" fill=\"#000000\">samples = 15</text>\n<text text-anchor=\"middle\" x=\"3557.5\" y=\"-1078.8\" font-family=\"Helvetica,sans-Serif\" font-size=\"14.00\" fill=\"#000000\">value = [0, 6, 9]</text>\n<text text-anchor=\"middle\" x=\"3557.5\" y=\"-1063.8\" font-family=\"Helvetica,sans-Serif\" font-size=\"14.00\" fill=\"#000000\">class = QSO</text>\n</g>\n<!-- 116&#45;&gt;117 -->\n<g id=\"edge117\" class=\"edge\">\n<title>116&#45;&gt;117</title>\n<path fill=\"none\" stroke=\"#000000\" d=\"M3557.5,-1174.8796C3557.5,-1166.6838 3557.5,-1157.9891 3557.5,-1149.5013\"/>\n<polygon fill=\"#000000\" stroke=\"#000000\" points=\"3561.0001,-1149.298 3557.5,-1139.2981 3554.0001,-1149.2981 3561.0001,-1149.298\"/>\n</g>\n<!-- 124 -->\n<g id=\"node125\" class=\"node\">\n<title>124</title>\n<path fill=\"#833ce5\" stroke=\"#000000\" d=\"M3820,-1139C3820,-1139 3713,-1139 3713,-1139 3707,-1139 3701,-1133 3701,-1127 3701,-1127 3701,-1068 3701,-1068 3701,-1062 3707,-1056 3713,-1056 3713,-1056 3820,-1056 3820,-1056 3826,-1056 3832,-1062 3832,-1068 3832,-1068 3832,-1127 3832,-1127 3832,-1133 3826,-1139 3820,-1139\"/>\n<text text-anchor=\"middle\" x=\"3766.5\" y=\"-1123.8\" font-family=\"Helvetica,sans-Serif\" font-size=\"14.00\" fill=\"#000000\">X[8] &lt;= 0.01</text>\n<text text-anchor=\"middle\" x=\"3766.5\" y=\"-1108.8\" font-family=\"Helvetica,sans-Serif\" font-size=\"14.00\" fill=\"#000000\">gini = 0.033</text>\n<text text-anchor=\"middle\" x=\"3766.5\" y=\"-1093.8\" font-family=\"Helvetica,sans-Serif\" font-size=\"14.00\" fill=\"#000000\">samples = 534</text>\n<text text-anchor=\"middle\" x=\"3766.5\" y=\"-1078.8\" font-family=\"Helvetica,sans-Serif\" font-size=\"14.00\" fill=\"#000000\">value = [0, 9, 525]</text>\n<text text-anchor=\"middle\" x=\"3766.5\" y=\"-1063.8\" font-family=\"Helvetica,sans-Serif\" font-size=\"14.00\" fill=\"#000000\">class = QSO</text>\n</g>\n<!-- 116&#45;&gt;124 -->\n<g id=\"edge124\" class=\"edge\">\n<title>116&#45;&gt;124</title>\n<path fill=\"none\" stroke=\"#000000\" d=\"M3627.6754,-1176.5437C3648.3244,-1164.7866 3670.9849,-1151.8842 3691.9004,-1139.9754\"/>\n<polygon fill=\"#000000\" stroke=\"#000000\" points=\"3693.7881,-1142.9282 3700.7464,-1134.9386 3690.3245,-1136.8451 3693.7881,-1142.9282\"/>\n</g>\n<!-- 118 -->\n<g id=\"node119\" class=\"node\">\n<title>118</title>\n<path fill=\"#7beeab\" stroke=\"#000000\" d=\"M3496,-1020C3496,-1020 3395,-1020 3395,-1020 3389,-1020 3383,-1014 3383,-1008 3383,-1008 3383,-949 3383,-949 3383,-943 3389,-937 3395,-937 3395,-937 3496,-937 3496,-937 3502,-937 3508,-943 3508,-949 3508,-949 3508,-1008 3508,-1008 3508,-1014 3502,-1020 3496,-1020\"/>\n<text text-anchor=\"middle\" x=\"3445.5\" y=\"-1004.8\" font-family=\"Helvetica,sans-Serif\" font-size=\"14.00\" fill=\"#000000\">X[9] &lt;= &#45;0.176</text>\n<text text-anchor=\"middle\" x=\"3445.5\" y=\"-989.8\" font-family=\"Helvetica,sans-Serif\" font-size=\"14.00\" fill=\"#000000\">gini = 0.375</text>\n<text text-anchor=\"middle\" x=\"3445.5\" y=\"-974.8\" font-family=\"Helvetica,sans-Serif\" font-size=\"14.00\" fill=\"#000000\">samples = 8</text>\n<text text-anchor=\"middle\" x=\"3445.5\" y=\"-959.8\" font-family=\"Helvetica,sans-Serif\" font-size=\"14.00\" fill=\"#000000\">value = [0, 6, 2]</text>\n<text text-anchor=\"middle\" x=\"3445.5\" y=\"-944.8\" font-family=\"Helvetica,sans-Serif\" font-size=\"14.00\" fill=\"#000000\">class = GALAXY</text>\n</g>\n<!-- 117&#45;&gt;118 -->\n<g id=\"edge118\" class=\"edge\">\n<title>117&#45;&gt;118</title>\n<path fill=\"none\" stroke=\"#000000\" d=\"M3518.3278,-1055.8796C3509.7665,-1046.7832 3500.6268,-1037.0722 3491.8168,-1027.7116\"/>\n<polygon fill=\"#000000\" stroke=\"#000000\" points=\"3494.2417,-1025.1813 3484.8394,-1020.2981 3489.1443,-1029.9789 3494.2417,-1025.1813\"/>\n</g>\n<!-- 123 -->\n<g id=\"node124\" class=\"node\">\n<title>123</title>\n<path fill=\"#8139e5\" stroke=\"#000000\" d=\"M3629,-1012.5C3629,-1012.5 3538,-1012.5 3538,-1012.5 3532,-1012.5 3526,-1006.5 3526,-1000.5 3526,-1000.5 3526,-956.5 3526,-956.5 3526,-950.5 3532,-944.5 3538,-944.5 3538,-944.5 3629,-944.5 3629,-944.5 3635,-944.5 3641,-950.5 3641,-956.5 3641,-956.5 3641,-1000.5 3641,-1000.5 3641,-1006.5 3635,-1012.5 3629,-1012.5\"/>\n<text text-anchor=\"middle\" x=\"3583.5\" y=\"-997.3\" font-family=\"Helvetica,sans-Serif\" font-size=\"14.00\" fill=\"#000000\">gini = 0.0</text>\n<text text-anchor=\"middle\" x=\"3583.5\" y=\"-982.3\" font-family=\"Helvetica,sans-Serif\" font-size=\"14.00\" fill=\"#000000\">samples = 7</text>\n<text text-anchor=\"middle\" x=\"3583.5\" y=\"-967.3\" font-family=\"Helvetica,sans-Serif\" font-size=\"14.00\" fill=\"#000000\">value = [0, 0, 7]</text>\n<text text-anchor=\"middle\" x=\"3583.5\" y=\"-952.3\" font-family=\"Helvetica,sans-Serif\" font-size=\"14.00\" fill=\"#000000\">class = QSO</text>\n</g>\n<!-- 117&#45;&gt;123 -->\n<g id=\"edge123\" class=\"edge\">\n<title>117&#45;&gt;123</title>\n<path fill=\"none\" stroke=\"#000000\" d=\"M3566.5935,-1055.8796C3568.924,-1045.2134 3571.439,-1033.7021 3573.7988,-1022.9015\"/>\n<polygon fill=\"#000000\" stroke=\"#000000\" points=\"3577.2874,-1023.3316 3576.0026,-1012.8149 3570.4487,-1021.8374 3577.2874,-1023.3316\"/>\n</g>\n<!-- 119 -->\n<g id=\"node120\" class=\"node\">\n<title>119</title>\n<path fill=\"#c09cf2\" stroke=\"#000000\" d=\"M3379,-901C3379,-901 3284,-901 3284,-901 3278,-901 3272,-895 3272,-889 3272,-889 3272,-830 3272,-830 3272,-824 3278,-818 3284,-818 3284,-818 3379,-818 3379,-818 3385,-818 3391,-824 3391,-830 3391,-830 3391,-889 3391,-889 3391,-895 3385,-901 3379,-901\"/>\n<text text-anchor=\"middle\" x=\"3331.5\" y=\"-885.8\" font-family=\"Helvetica,sans-Serif\" font-size=\"14.00\" fill=\"#000000\">X[5] &lt;= 54523.0</text>\n<text text-anchor=\"middle\" x=\"3331.5\" y=\"-870.8\" font-family=\"Helvetica,sans-Serif\" font-size=\"14.00\" fill=\"#000000\">gini = 0.444</text>\n<text text-anchor=\"middle\" x=\"3331.5\" y=\"-855.8\" font-family=\"Helvetica,sans-Serif\" font-size=\"14.00\" fill=\"#000000\">samples = 3</text>\n<text text-anchor=\"middle\" x=\"3331.5\" y=\"-840.8\" font-family=\"Helvetica,sans-Serif\" font-size=\"14.00\" fill=\"#000000\">value = [0, 1, 2]</text>\n<text text-anchor=\"middle\" x=\"3331.5\" y=\"-825.8\" font-family=\"Helvetica,sans-Serif\" font-size=\"14.00\" fill=\"#000000\">class = QSO</text>\n</g>\n<!-- 118&#45;&gt;119 -->\n<g id=\"edge119\" class=\"edge\">\n<title>118&#45;&gt;119</title>\n<path fill=\"none\" stroke=\"#000000\" d=\"M3405.6283,-936.8796C3396.9142,-927.7832 3387.6112,-918.0722 3378.6438,-908.7116\"/>\n<polygon fill=\"#000000\" stroke=\"#000000\" points=\"3380.987,-906.098 3371.5419,-901.2981 3375.9322,-910.9405 3380.987,-906.098\"/>\n</g>\n<!-- 122 -->\n<g id=\"node123\" class=\"node\">\n<title>122</title>\n<path fill=\"#39e581\" stroke=\"#000000\" d=\"M3522,-893.5C3522,-893.5 3421,-893.5 3421,-893.5 3415,-893.5 3409,-887.5 3409,-881.5 3409,-881.5 3409,-837.5 3409,-837.5 3409,-831.5 3415,-825.5 3421,-825.5 3421,-825.5 3522,-825.5 3522,-825.5 3528,-825.5 3534,-831.5 3534,-837.5 3534,-837.5 3534,-881.5 3534,-881.5 3534,-887.5 3528,-893.5 3522,-893.5\"/>\n<text text-anchor=\"middle\" x=\"3471.5\" y=\"-878.3\" font-family=\"Helvetica,sans-Serif\" font-size=\"14.00\" fill=\"#000000\">gini = 0.0</text>\n<text text-anchor=\"middle\" x=\"3471.5\" y=\"-863.3\" font-family=\"Helvetica,sans-Serif\" font-size=\"14.00\" fill=\"#000000\">samples = 5</text>\n<text text-anchor=\"middle\" x=\"3471.5\" y=\"-848.3\" font-family=\"Helvetica,sans-Serif\" font-size=\"14.00\" fill=\"#000000\">value = [0, 5, 0]</text>\n<text text-anchor=\"middle\" x=\"3471.5\" y=\"-833.3\" font-family=\"Helvetica,sans-Serif\" font-size=\"14.00\" fill=\"#000000\">class = GALAXY</text>\n</g>\n<!-- 118&#45;&gt;122 -->\n<g id=\"edge122\" class=\"edge\">\n<title>118&#45;&gt;122</title>\n<path fill=\"none\" stroke=\"#000000\" d=\"M3454.5935,-936.8796C3456.924,-926.2134 3459.439,-914.7021 3461.7988,-903.9015\"/>\n<polygon fill=\"#000000\" stroke=\"#000000\" points=\"3465.2874,-904.3316 3464.0026,-893.8149 3458.4487,-902.8374 3465.2874,-904.3316\"/>\n</g>\n<!-- 120 -->\n<g id=\"node121\" class=\"node\">\n<title>120</title>\n<path fill=\"#8139e5\" stroke=\"#000000\" d=\"M3327,-774.5C3327,-774.5 3236,-774.5 3236,-774.5 3230,-774.5 3224,-768.5 3224,-762.5 3224,-762.5 3224,-718.5 3224,-718.5 3224,-712.5 3230,-706.5 3236,-706.5 3236,-706.5 3327,-706.5 3327,-706.5 3333,-706.5 3339,-712.5 3339,-718.5 3339,-718.5 3339,-762.5 3339,-762.5 3339,-768.5 3333,-774.5 3327,-774.5\"/>\n<text text-anchor=\"middle\" x=\"3281.5\" y=\"-759.3\" font-family=\"Helvetica,sans-Serif\" font-size=\"14.00\" fill=\"#000000\">gini = 0.0</text>\n<text text-anchor=\"middle\" x=\"3281.5\" y=\"-744.3\" font-family=\"Helvetica,sans-Serif\" font-size=\"14.00\" fill=\"#000000\">samples = 2</text>\n<text text-anchor=\"middle\" x=\"3281.5\" y=\"-729.3\" font-family=\"Helvetica,sans-Serif\" font-size=\"14.00\" fill=\"#000000\">value = [0, 0, 2]</text>\n<text text-anchor=\"middle\" x=\"3281.5\" y=\"-714.3\" font-family=\"Helvetica,sans-Serif\" font-size=\"14.00\" fill=\"#000000\">class = QSO</text>\n</g>\n<!-- 119&#45;&gt;120 -->\n<g id=\"edge120\" class=\"edge\">\n<title>119&#45;&gt;120</title>\n<path fill=\"none\" stroke=\"#000000\" d=\"M3314.0124,-817.8796C3309.4384,-806.9935 3304.4946,-795.227 3299.8758,-784.2344\"/>\n<polygon fill=\"#000000\" stroke=\"#000000\" points=\"3303.0185,-782.6784 3295.918,-774.8149 3296.565,-785.39 3303.0185,-782.6784\"/>\n</g>\n<!-- 121 -->\n<g id=\"node122\" class=\"node\">\n<title>121</title>\n<path fill=\"#39e581\" stroke=\"#000000\" d=\"M3470,-774.5C3470,-774.5 3369,-774.5 3369,-774.5 3363,-774.5 3357,-768.5 3357,-762.5 3357,-762.5 3357,-718.5 3357,-718.5 3357,-712.5 3363,-706.5 3369,-706.5 3369,-706.5 3470,-706.5 3470,-706.5 3476,-706.5 3482,-712.5 3482,-718.5 3482,-718.5 3482,-762.5 3482,-762.5 3482,-768.5 3476,-774.5 3470,-774.5\"/>\n<text text-anchor=\"middle\" x=\"3419.5\" y=\"-759.3\" font-family=\"Helvetica,sans-Serif\" font-size=\"14.00\" fill=\"#000000\">gini = 0.0</text>\n<text text-anchor=\"middle\" x=\"3419.5\" y=\"-744.3\" font-family=\"Helvetica,sans-Serif\" font-size=\"14.00\" fill=\"#000000\">samples = 1</text>\n<text text-anchor=\"middle\" x=\"3419.5\" y=\"-729.3\" font-family=\"Helvetica,sans-Serif\" font-size=\"14.00\" fill=\"#000000\">value = [0, 1, 0]</text>\n<text text-anchor=\"middle\" x=\"3419.5\" y=\"-714.3\" font-family=\"Helvetica,sans-Serif\" font-size=\"14.00\" fill=\"#000000\">class = GALAXY</text>\n</g>\n<!-- 119&#45;&gt;121 -->\n<g id=\"edge121\" class=\"edge\">\n<title>119&#45;&gt;121</title>\n<path fill=\"none\" stroke=\"#000000\" d=\"M3362.2781,-817.8796C3370.6536,-806.5536 3379.7338,-794.2748 3388.1411,-782.9058\"/>\n<polygon fill=\"#000000\" stroke=\"#000000\" points=\"3390.9925,-784.9364 3394.1242,-774.8149 3385.3643,-780.7743 3390.9925,-784.9364\"/>\n</g>\n<!-- 125 -->\n<g id=\"node126\" class=\"node\">\n<title>125</title>\n<path fill=\"#ba93f1\" stroke=\"#000000\" d=\"M3816,-1020C3816,-1020 3717,-1020 3717,-1020 3711,-1020 3705,-1014 3705,-1008 3705,-1008 3705,-949 3705,-949 3705,-943 3711,-937 3717,-937 3717,-937 3816,-937 3816,-937 3822,-937 3828,-943 3828,-949 3828,-949 3828,-1008 3828,-1008 3828,-1014 3822,-1020 3816,-1020\"/>\n<text text-anchor=\"middle\" x=\"3766.5\" y=\"-1004.8\" font-family=\"Helvetica,sans-Serif\" font-size=\"14.00\" fill=\"#000000\">X[9] &lt;= 0.394</text>\n<text text-anchor=\"middle\" x=\"3766.5\" y=\"-989.8\" font-family=\"Helvetica,sans-Serif\" font-size=\"14.00\" fill=\"#000000\">gini = 0.43</text>\n<text text-anchor=\"middle\" x=\"3766.5\" y=\"-974.8\" font-family=\"Helvetica,sans-Serif\" font-size=\"14.00\" fill=\"#000000\">samples = 16</text>\n<text text-anchor=\"middle\" x=\"3766.5\" y=\"-959.8\" font-family=\"Helvetica,sans-Serif\" font-size=\"14.00\" fill=\"#000000\">value = [0, 5, 11]</text>\n<text text-anchor=\"middle\" x=\"3766.5\" y=\"-944.8\" font-family=\"Helvetica,sans-Serif\" font-size=\"14.00\" fill=\"#000000\">class = QSO</text>\n</g>\n<!-- 124&#45;&gt;125 -->\n<g id=\"edge125\" class=\"edge\">\n<title>124&#45;&gt;125</title>\n<path fill=\"none\" stroke=\"#000000\" d=\"M3766.5,-1055.8796C3766.5,-1047.6838 3766.5,-1038.9891 3766.5,-1030.5013\"/>\n<polygon fill=\"#000000\" stroke=\"#000000\" points=\"3770.0001,-1030.298 3766.5,-1020.2981 3763.0001,-1030.2981 3770.0001,-1030.298\"/>\n</g>\n<!-- 132 -->\n<g id=\"node133\" class=\"node\">\n<title>132</title>\n<path fill=\"#823be5\" stroke=\"#000000\" d=\"M3984,-1020C3984,-1020 3877,-1020 3877,-1020 3871,-1020 3865,-1014 3865,-1008 3865,-1008 3865,-949 3865,-949 3865,-943 3871,-937 3877,-937 3877,-937 3984,-937 3984,-937 3990,-937 3996,-943 3996,-949 3996,-949 3996,-1008 3996,-1008 3996,-1014 3990,-1020 3984,-1020\"/>\n<text text-anchor=\"middle\" x=\"3930.5\" y=\"-1004.8\" font-family=\"Helvetica,sans-Serif\" font-size=\"14.00\" fill=\"#000000\">X[9] &lt;= 0.956</text>\n<text text-anchor=\"middle\" x=\"3930.5\" y=\"-989.8\" font-family=\"Helvetica,sans-Serif\" font-size=\"14.00\" fill=\"#000000\">gini = 0.015</text>\n<text text-anchor=\"middle\" x=\"3930.5\" y=\"-974.8\" font-family=\"Helvetica,sans-Serif\" font-size=\"14.00\" fill=\"#000000\">samples = 518</text>\n<text text-anchor=\"middle\" x=\"3930.5\" y=\"-959.8\" font-family=\"Helvetica,sans-Serif\" font-size=\"14.00\" fill=\"#000000\">value = [0, 4, 514]</text>\n<text text-anchor=\"middle\" x=\"3930.5\" y=\"-944.8\" font-family=\"Helvetica,sans-Serif\" font-size=\"14.00\" fill=\"#000000\">class = QSO</text>\n</g>\n<!-- 124&#45;&gt;132 -->\n<g id=\"edge132\" class=\"edge\">\n<title>124&#45;&gt;132</title>\n<path fill=\"none\" stroke=\"#000000\" d=\"M3823.8592,-1055.8796C3837.0925,-1046.2774 3851.2697,-1035.9903 3864.8264,-1026.1534\"/>\n<polygon fill=\"#000000\" stroke=\"#000000\" points=\"3867.1349,-1028.8027 3873.1731,-1020.0969 3863.0238,-1023.1371 3867.1349,-1028.8027\"/>\n</g>\n<!-- 126 -->\n<g id=\"node127\" class=\"node\">\n<title>126</title>\n<path fill=\"#d7fae6\" stroke=\"#000000\" d=\"M3700,-901C3700,-901 3599,-901 3599,-901 3593,-901 3587,-895 3587,-889 3587,-889 3587,-830 3587,-830 3587,-824 3593,-818 3599,-818 3599,-818 3700,-818 3700,-818 3706,-818 3712,-824 3712,-830 3712,-830 3712,-889 3712,-889 3712,-895 3706,-901 3700,-901\"/>\n<text text-anchor=\"middle\" x=\"3649.5\" y=\"-885.8\" font-family=\"Helvetica,sans-Serif\" font-size=\"14.00\" fill=\"#000000\">X[1] &lt;= 0.587</text>\n<text text-anchor=\"middle\" x=\"3649.5\" y=\"-870.8\" font-family=\"Helvetica,sans-Serif\" font-size=\"14.00\" fill=\"#000000\">gini = 0.494</text>\n<text text-anchor=\"middle\" x=\"3649.5\" y=\"-855.8\" font-family=\"Helvetica,sans-Serif\" font-size=\"14.00\" fill=\"#000000\">samples = 9</text>\n<text text-anchor=\"middle\" x=\"3649.5\" y=\"-840.8\" font-family=\"Helvetica,sans-Serif\" font-size=\"14.00\" fill=\"#000000\">value = [0, 5, 4]</text>\n<text text-anchor=\"middle\" x=\"3649.5\" y=\"-825.8\" font-family=\"Helvetica,sans-Serif\" font-size=\"14.00\" fill=\"#000000\">class = GALAXY</text>\n</g>\n<!-- 125&#45;&gt;126 -->\n<g id=\"edge126\" class=\"edge\">\n<title>125&#45;&gt;126</title>\n<path fill=\"none\" stroke=\"#000000\" d=\"M3725.5791,-936.8796C3716.547,-927.6931 3706.8987,-917.8798 3697.6112,-908.4336\"/>\n<polygon fill=\"#000000\" stroke=\"#000000\" points=\"3700.1023,-905.975 3690.5956,-901.2981 3695.1107,-910.8827 3700.1023,-905.975\"/>\n</g>\n<!-- 131 -->\n<g id=\"node132\" class=\"node\">\n<title>131</title>\n<path fill=\"#8139e5\" stroke=\"#000000\" d=\"M3833,-893.5C3833,-893.5 3742,-893.5 3742,-893.5 3736,-893.5 3730,-887.5 3730,-881.5 3730,-881.5 3730,-837.5 3730,-837.5 3730,-831.5 3736,-825.5 3742,-825.5 3742,-825.5 3833,-825.5 3833,-825.5 3839,-825.5 3845,-831.5 3845,-837.5 3845,-837.5 3845,-881.5 3845,-881.5 3845,-887.5 3839,-893.5 3833,-893.5\"/>\n<text text-anchor=\"middle\" x=\"3787.5\" y=\"-878.3\" font-family=\"Helvetica,sans-Serif\" font-size=\"14.00\" fill=\"#000000\">gini = 0.0</text>\n<text text-anchor=\"middle\" x=\"3787.5\" y=\"-863.3\" font-family=\"Helvetica,sans-Serif\" font-size=\"14.00\" fill=\"#000000\">samples = 7</text>\n<text text-anchor=\"middle\" x=\"3787.5\" y=\"-848.3\" font-family=\"Helvetica,sans-Serif\" font-size=\"14.00\" fill=\"#000000\">value = [0, 0, 7]</text>\n<text text-anchor=\"middle\" x=\"3787.5\" y=\"-833.3\" font-family=\"Helvetica,sans-Serif\" font-size=\"14.00\" fill=\"#000000\">class = QSO</text>\n</g>\n<!-- 125&#45;&gt;131 -->\n<g id=\"edge131\" class=\"edge\">\n<title>125&#45;&gt;131</title>\n<path fill=\"none\" stroke=\"#000000\" d=\"M3773.8448,-936.8796C3775.7271,-926.2134 3777.7585,-914.7021 3779.6644,-903.9015\"/>\n<polygon fill=\"#000000\" stroke=\"#000000\" points=\"3783.1532,-904.2711 3781.4444,-893.8149 3776.2597,-903.0545 3783.1532,-904.2711\"/>\n</g>\n<!-- 127 -->\n<g id=\"node128\" class=\"node\">\n<title>127</title>\n<path fill=\"#39e581\" stroke=\"#000000\" d=\"M3613,-774.5C3613,-774.5 3512,-774.5 3512,-774.5 3506,-774.5 3500,-768.5 3500,-762.5 3500,-762.5 3500,-718.5 3500,-718.5 3500,-712.5 3506,-706.5 3512,-706.5 3512,-706.5 3613,-706.5 3613,-706.5 3619,-706.5 3625,-712.5 3625,-718.5 3625,-718.5 3625,-762.5 3625,-762.5 3625,-768.5 3619,-774.5 3613,-774.5\"/>\n<text text-anchor=\"middle\" x=\"3562.5\" y=\"-759.3\" font-family=\"Helvetica,sans-Serif\" font-size=\"14.00\" fill=\"#000000\">gini = 0.0</text>\n<text text-anchor=\"middle\" x=\"3562.5\" y=\"-744.3\" font-family=\"Helvetica,sans-Serif\" font-size=\"14.00\" fill=\"#000000\">samples = 4</text>\n<text text-anchor=\"middle\" x=\"3562.5\" y=\"-729.3\" font-family=\"Helvetica,sans-Serif\" font-size=\"14.00\" fill=\"#000000\">value = [0, 4, 0]</text>\n<text text-anchor=\"middle\" x=\"3562.5\" y=\"-714.3\" font-family=\"Helvetica,sans-Serif\" font-size=\"14.00\" fill=\"#000000\">class = GALAXY</text>\n</g>\n<!-- 126&#45;&gt;127 -->\n<g id=\"edge127\" class=\"edge\">\n<title>126&#45;&gt;127</title>\n<path fill=\"none\" stroke=\"#000000\" d=\"M3619.0716,-817.8796C3610.7913,-806.5536 3601.8143,-794.2748 3593.5026,-782.9058\"/>\n<polygon fill=\"#000000\" stroke=\"#000000\" points=\"3596.3147,-780.822 3587.5874,-774.8149 3590.6639,-784.9533 3596.3147,-780.822\"/>\n</g>\n<!-- 128 -->\n<g id=\"node129\" class=\"node\">\n<title>128</title>\n<path fill=\"#a06aec\" stroke=\"#000000\" d=\"M3746,-782C3746,-782 3655,-782 3655,-782 3649,-782 3643,-776 3643,-770 3643,-770 3643,-711 3643,-711 3643,-705 3649,-699 3655,-699 3655,-699 3746,-699 3746,-699 3752,-699 3758,-705 3758,-711 3758,-711 3758,-770 3758,-770 3758,-776 3752,-782 3746,-782\"/>\n<text text-anchor=\"middle\" x=\"3700.5\" y=\"-766.8\" font-family=\"Helvetica,sans-Serif\" font-size=\"14.00\" fill=\"#000000\">X[1] &lt;= 55.08</text>\n<text text-anchor=\"middle\" x=\"3700.5\" y=\"-751.8\" font-family=\"Helvetica,sans-Serif\" font-size=\"14.00\" fill=\"#000000\">gini = 0.32</text>\n<text text-anchor=\"middle\" x=\"3700.5\" y=\"-736.8\" font-family=\"Helvetica,sans-Serif\" font-size=\"14.00\" fill=\"#000000\">samples = 5</text>\n<text text-anchor=\"middle\" x=\"3700.5\" y=\"-721.8\" font-family=\"Helvetica,sans-Serif\" font-size=\"14.00\" fill=\"#000000\">value = [0, 1, 4]</text>\n<text text-anchor=\"middle\" x=\"3700.5\" y=\"-706.8\" font-family=\"Helvetica,sans-Serif\" font-size=\"14.00\" fill=\"#000000\">class = QSO</text>\n</g>\n<!-- 126&#45;&gt;128 -->\n<g id=\"edge128\" class=\"edge\">\n<title>126&#45;&gt;128</title>\n<path fill=\"none\" stroke=\"#000000\" d=\"M3667.3373,-817.8796C3670.9656,-809.4136 3674.822,-800.4153 3678.5732,-791.6626\"/>\n<polygon fill=\"#000000\" stroke=\"#000000\" points=\"3681.8643,-792.8683 3682.5865,-782.2981 3675.4303,-790.1108 3681.8643,-792.8683\"/>\n</g>\n<!-- 129 -->\n<g id=\"node130\" class=\"node\">\n<title>129</title>\n<path fill=\"#8139e5\" stroke=\"#000000\" d=\"M3608,-655.5C3608,-655.5 3517,-655.5 3517,-655.5 3511,-655.5 3505,-649.5 3505,-643.5 3505,-643.5 3505,-599.5 3505,-599.5 3505,-593.5 3511,-587.5 3517,-587.5 3517,-587.5 3608,-587.5 3608,-587.5 3614,-587.5 3620,-593.5 3620,-599.5 3620,-599.5 3620,-643.5 3620,-643.5 3620,-649.5 3614,-655.5 3608,-655.5\"/>\n<text text-anchor=\"middle\" x=\"3562.5\" y=\"-640.3\" font-family=\"Helvetica,sans-Serif\" font-size=\"14.00\" fill=\"#000000\">gini = 0.0</text>\n<text text-anchor=\"middle\" x=\"3562.5\" y=\"-625.3\" font-family=\"Helvetica,sans-Serif\" font-size=\"14.00\" fill=\"#000000\">samples = 4</text>\n<text text-anchor=\"middle\" x=\"3562.5\" y=\"-610.3\" font-family=\"Helvetica,sans-Serif\" font-size=\"14.00\" fill=\"#000000\">value = [0, 0, 4]</text>\n<text text-anchor=\"middle\" x=\"3562.5\" y=\"-595.3\" font-family=\"Helvetica,sans-Serif\" font-size=\"14.00\" fill=\"#000000\">class = QSO</text>\n</g>\n<!-- 128&#45;&gt;129 -->\n<g id=\"edge129\" class=\"edge\">\n<title>128&#45;&gt;129</title>\n<path fill=\"none\" stroke=\"#000000\" d=\"M3652.2343,-698.8796C3638.5899,-687.1138 3623.7531,-674.3197 3610.1454,-662.5855\"/>\n<polygon fill=\"#000000\" stroke=\"#000000\" points=\"3612.1527,-659.6948 3602.2938,-655.8149 3607.5813,-664.9961 3612.1527,-659.6948\"/>\n</g>\n<!-- 130 -->\n<g id=\"node131\" class=\"node\">\n<title>130</title>\n<path fill=\"#39e581\" stroke=\"#000000\" d=\"M3751,-655.5C3751,-655.5 3650,-655.5 3650,-655.5 3644,-655.5 3638,-649.5 3638,-643.5 3638,-643.5 3638,-599.5 3638,-599.5 3638,-593.5 3644,-587.5 3650,-587.5 3650,-587.5 3751,-587.5 3751,-587.5 3757,-587.5 3763,-593.5 3763,-599.5 3763,-599.5 3763,-643.5 3763,-643.5 3763,-649.5 3757,-655.5 3751,-655.5\"/>\n<text text-anchor=\"middle\" x=\"3700.5\" y=\"-640.3\" font-family=\"Helvetica,sans-Serif\" font-size=\"14.00\" fill=\"#000000\">gini = 0.0</text>\n<text text-anchor=\"middle\" x=\"3700.5\" y=\"-625.3\" font-family=\"Helvetica,sans-Serif\" font-size=\"14.00\" fill=\"#000000\">samples = 1</text>\n<text text-anchor=\"middle\" x=\"3700.5\" y=\"-610.3\" font-family=\"Helvetica,sans-Serif\" font-size=\"14.00\" fill=\"#000000\">value = [0, 1, 0]</text>\n<text text-anchor=\"middle\" x=\"3700.5\" y=\"-595.3\" font-family=\"Helvetica,sans-Serif\" font-size=\"14.00\" fill=\"#000000\">class = GALAXY</text>\n</g>\n<!-- 128&#45;&gt;130 -->\n<g id=\"edge130\" class=\"edge\">\n<title>128&#45;&gt;130</title>\n<path fill=\"none\" stroke=\"#000000\" d=\"M3700.5,-698.8796C3700.5,-688.2134 3700.5,-676.7021 3700.5,-665.9015\"/>\n<polygon fill=\"#000000\" stroke=\"#000000\" points=\"3704.0001,-665.8149 3700.5,-655.8149 3697.0001,-665.815 3704.0001,-665.8149\"/>\n</g>\n<!-- 133 -->\n<g id=\"node134\" class=\"node\">\n<title>133</title>\n<path fill=\"#823ae5\" stroke=\"#000000\" d=\"M3984,-901C3984,-901 3877,-901 3877,-901 3871,-901 3865,-895 3865,-889 3865,-889 3865,-830 3865,-830 3865,-824 3871,-818 3877,-818 3877,-818 3984,-818 3984,-818 3990,-818 3996,-824 3996,-830 3996,-830 3996,-889 3996,-889 3996,-895 3990,-901 3984,-901\"/>\n<text text-anchor=\"middle\" x=\"3930.5\" y=\"-885.8\" font-family=\"Helvetica,sans-Serif\" font-size=\"14.00\" fill=\"#000000\">X[7] &lt;= 0.325</text>\n<text text-anchor=\"middle\" x=\"3930.5\" y=\"-870.8\" font-family=\"Helvetica,sans-Serif\" font-size=\"14.00\" fill=\"#000000\">gini = 0.012</text>\n<text text-anchor=\"middle\" x=\"3930.5\" y=\"-855.8\" font-family=\"Helvetica,sans-Serif\" font-size=\"14.00\" fill=\"#000000\">samples = 517</text>\n<text text-anchor=\"middle\" x=\"3930.5\" y=\"-840.8\" font-family=\"Helvetica,sans-Serif\" font-size=\"14.00\" fill=\"#000000\">value = [0, 3, 514]</text>\n<text text-anchor=\"middle\" x=\"3930.5\" y=\"-825.8\" font-family=\"Helvetica,sans-Serif\" font-size=\"14.00\" fill=\"#000000\">class = QSO</text>\n</g>\n<!-- 132&#45;&gt;133 -->\n<g id=\"edge133\" class=\"edge\">\n<title>132&#45;&gt;133</title>\n<path fill=\"none\" stroke=\"#000000\" d=\"M3930.5,-936.8796C3930.5,-928.6838 3930.5,-919.9891 3930.5,-911.5013\"/>\n<polygon fill=\"#000000\" stroke=\"#000000\" points=\"3934.0001,-911.298 3930.5,-901.2981 3927.0001,-911.2981 3934.0001,-911.298\"/>\n</g>\n<!-- 142 -->\n<g id=\"node143\" class=\"node\">\n<title>142</title>\n<path fill=\"#39e581\" stroke=\"#000000\" d=\"M4127,-893.5C4127,-893.5 4026,-893.5 4026,-893.5 4020,-893.5 4014,-887.5 4014,-881.5 4014,-881.5 4014,-837.5 4014,-837.5 4014,-831.5 4020,-825.5 4026,-825.5 4026,-825.5 4127,-825.5 4127,-825.5 4133,-825.5 4139,-831.5 4139,-837.5 4139,-837.5 4139,-881.5 4139,-881.5 4139,-887.5 4133,-893.5 4127,-893.5\"/>\n<text text-anchor=\"middle\" x=\"4076.5\" y=\"-878.3\" font-family=\"Helvetica,sans-Serif\" font-size=\"14.00\" fill=\"#000000\">gini = 0.0</text>\n<text text-anchor=\"middle\" x=\"4076.5\" y=\"-863.3\" font-family=\"Helvetica,sans-Serif\" font-size=\"14.00\" fill=\"#000000\">samples = 1</text>\n<text text-anchor=\"middle\" x=\"4076.5\" y=\"-848.3\" font-family=\"Helvetica,sans-Serif\" font-size=\"14.00\" fill=\"#000000\">value = [0, 1, 0]</text>\n<text text-anchor=\"middle\" x=\"4076.5\" y=\"-833.3\" font-family=\"Helvetica,sans-Serif\" font-size=\"14.00\" fill=\"#000000\">class = GALAXY</text>\n</g>\n<!-- 132&#45;&gt;142 -->\n<g id=\"edge142\" class=\"edge\">\n<title>132&#45;&gt;142</title>\n<path fill=\"none\" stroke=\"#000000\" d=\"M3981.5637,-936.8796C3996.134,-925.0038 4011.9896,-912.0804 4026.4958,-900.2568\"/>\n<polygon fill=\"#000000\" stroke=\"#000000\" points=\"4028.8592,-902.8459 4034.3993,-893.8149 4024.4366,-897.4199 4028.8592,-902.8459\"/>\n</g>\n<!-- 134 -->\n<g id=\"node135\" class=\"node\">\n<title>134</title>\n<path fill=\"#985dea\" stroke=\"#000000\" d=\"M3980,-782C3980,-782 3881,-782 3881,-782 3875,-782 3869,-776 3869,-770 3869,-770 3869,-711 3869,-711 3869,-705 3875,-699 3881,-699 3881,-699 3980,-699 3980,-699 3986,-699 3992,-705 3992,-711 3992,-711 3992,-770 3992,-770 3992,-776 3986,-782 3980,-782\"/>\n<text text-anchor=\"middle\" x=\"3930.5\" y=\"-766.8\" font-family=\"Helvetica,sans-Serif\" font-size=\"14.00\" fill=\"#000000\">X[8] &lt;= 0.949</text>\n<text text-anchor=\"middle\" x=\"3930.5\" y=\"-751.8\" font-family=\"Helvetica,sans-Serif\" font-size=\"14.00\" fill=\"#000000\">gini = 0.26</text>\n<text text-anchor=\"middle\" x=\"3930.5\" y=\"-736.8\" font-family=\"Helvetica,sans-Serif\" font-size=\"14.00\" fill=\"#000000\">samples = 13</text>\n<text text-anchor=\"middle\" x=\"3930.5\" y=\"-721.8\" font-family=\"Helvetica,sans-Serif\" font-size=\"14.00\" fill=\"#000000\">value = [0, 2, 11]</text>\n<text text-anchor=\"middle\" x=\"3930.5\" y=\"-706.8\" font-family=\"Helvetica,sans-Serif\" font-size=\"14.00\" fill=\"#000000\">class = QSO</text>\n</g>\n<!-- 133&#45;&gt;134 -->\n<g id=\"edge134\" class=\"edge\">\n<title>133&#45;&gt;134</title>\n<path fill=\"none\" stroke=\"#000000\" d=\"M3930.5,-817.8796C3930.5,-809.6838 3930.5,-800.9891 3930.5,-792.5013\"/>\n<polygon fill=\"#000000\" stroke=\"#000000\" points=\"3934.0001,-792.298 3930.5,-782.2981 3927.0001,-792.2981 3934.0001,-792.298\"/>\n</g>\n<!-- 137 -->\n<g id=\"node138\" class=\"node\">\n<title>137</title>\n<path fill=\"#8139e5\" stroke=\"#000000\" d=\"M4180,-782C4180,-782 4073,-782 4073,-782 4067,-782 4061,-776 4061,-770 4061,-770 4061,-711 4061,-711 4061,-705 4067,-699 4073,-699 4073,-699 4180,-699 4180,-699 4186,-699 4192,-705 4192,-711 4192,-711 4192,-770 4192,-770 4192,-776 4186,-782 4180,-782\"/>\n<text text-anchor=\"middle\" x=\"4126.5\" y=\"-766.8\" font-family=\"Helvetica,sans-Serif\" font-size=\"14.00\" fill=\"#000000\">X[6] &lt;= 25.5</text>\n<text text-anchor=\"middle\" x=\"4126.5\" y=\"-751.8\" font-family=\"Helvetica,sans-Serif\" font-size=\"14.00\" fill=\"#000000\">gini = 0.004</text>\n<text text-anchor=\"middle\" x=\"4126.5\" y=\"-736.8\" font-family=\"Helvetica,sans-Serif\" font-size=\"14.00\" fill=\"#000000\">samples = 504</text>\n<text text-anchor=\"middle\" x=\"4126.5\" y=\"-721.8\" font-family=\"Helvetica,sans-Serif\" font-size=\"14.00\" fill=\"#000000\">value = [0, 1, 503]</text>\n<text text-anchor=\"middle\" x=\"4126.5\" y=\"-706.8\" font-family=\"Helvetica,sans-Serif\" font-size=\"14.00\" fill=\"#000000\">class = QSO</text>\n</g>\n<!-- 133&#45;&gt;137 -->\n<g id=\"edge137\" class=\"edge\">\n<title>133&#45;&gt;137</title>\n<path fill=\"none\" stroke=\"#000000\" d=\"M3996.0377,-819.7093C4014.003,-808.8017 4033.6092,-796.898 4052.0355,-785.7106\"/>\n<polygon fill=\"#000000\" stroke=\"#000000\" points=\"4053.9587,-788.6376 4060.6901,-780.456 4050.3258,-782.6541 4053.9587,-788.6376\"/>\n</g>\n<!-- 135 -->\n<g id=\"node136\" class=\"node\">\n<title>135</title>\n<path fill=\"#39e581\" stroke=\"#000000\" d=\"M3894,-655.5C3894,-655.5 3793,-655.5 3793,-655.5 3787,-655.5 3781,-649.5 3781,-643.5 3781,-643.5 3781,-599.5 3781,-599.5 3781,-593.5 3787,-587.5 3793,-587.5 3793,-587.5 3894,-587.5 3894,-587.5 3900,-587.5 3906,-593.5 3906,-599.5 3906,-599.5 3906,-643.5 3906,-643.5 3906,-649.5 3900,-655.5 3894,-655.5\"/>\n<text text-anchor=\"middle\" x=\"3843.5\" y=\"-640.3\" font-family=\"Helvetica,sans-Serif\" font-size=\"14.00\" fill=\"#000000\">gini = 0.0</text>\n<text text-anchor=\"middle\" x=\"3843.5\" y=\"-625.3\" font-family=\"Helvetica,sans-Serif\" font-size=\"14.00\" fill=\"#000000\">samples = 2</text>\n<text text-anchor=\"middle\" x=\"3843.5\" y=\"-610.3\" font-family=\"Helvetica,sans-Serif\" font-size=\"14.00\" fill=\"#000000\">value = [0, 2, 0]</text>\n<text text-anchor=\"middle\" x=\"3843.5\" y=\"-595.3\" font-family=\"Helvetica,sans-Serif\" font-size=\"14.00\" fill=\"#000000\">class = GALAXY</text>\n</g>\n<!-- 134&#45;&gt;135 -->\n<g id=\"edge135\" class=\"edge\">\n<title>134&#45;&gt;135</title>\n<path fill=\"none\" stroke=\"#000000\" d=\"M3900.0716,-698.8796C3891.7913,-687.5536 3882.8143,-675.2748 3874.5026,-663.9058\"/>\n<polygon fill=\"#000000\" stroke=\"#000000\" points=\"3877.3147,-661.822 3868.5874,-655.8149 3871.6639,-665.9533 3877.3147,-661.822\"/>\n</g>\n<!-- 136 -->\n<g id=\"node137\" class=\"node\">\n<title>136</title>\n<path fill=\"#8139e5\" stroke=\"#000000\" d=\"M4035,-655.5C4035,-655.5 3936,-655.5 3936,-655.5 3930,-655.5 3924,-649.5 3924,-643.5 3924,-643.5 3924,-599.5 3924,-599.5 3924,-593.5 3930,-587.5 3936,-587.5 3936,-587.5 4035,-587.5 4035,-587.5 4041,-587.5 4047,-593.5 4047,-599.5 4047,-599.5 4047,-643.5 4047,-643.5 4047,-649.5 4041,-655.5 4035,-655.5\"/>\n<text text-anchor=\"middle\" x=\"3985.5\" y=\"-640.3\" font-family=\"Helvetica,sans-Serif\" font-size=\"14.00\" fill=\"#000000\">gini = 0.0</text>\n<text text-anchor=\"middle\" x=\"3985.5\" y=\"-625.3\" font-family=\"Helvetica,sans-Serif\" font-size=\"14.00\" fill=\"#000000\">samples = 11</text>\n<text text-anchor=\"middle\" x=\"3985.5\" y=\"-610.3\" font-family=\"Helvetica,sans-Serif\" font-size=\"14.00\" fill=\"#000000\">value = [0, 0, 11]</text>\n<text text-anchor=\"middle\" x=\"3985.5\" y=\"-595.3\" font-family=\"Helvetica,sans-Serif\" font-size=\"14.00\" fill=\"#000000\">class = QSO</text>\n</g>\n<!-- 134&#45;&gt;136 -->\n<g id=\"edge136\" class=\"edge\">\n<title>134&#45;&gt;136</title>\n<path fill=\"none\" stroke=\"#000000\" d=\"M3949.7363,-698.8796C3954.8186,-687.8835 3960.3159,-675.9893 3965.4405,-664.9015\"/>\n<polygon fill=\"#000000\" stroke=\"#000000\" points=\"3968.6218,-666.3607 3969.6402,-655.8149 3962.2676,-663.4239 3968.6218,-666.3607\"/>\n</g>\n<!-- 138 -->\n<g id=\"node139\" class=\"node\">\n<title>138</title>\n<path fill=\"#8946e7\" stroke=\"#000000\" d=\"M4176,-663C4176,-663 4077,-663 4077,-663 4071,-663 4065,-657 4065,-651 4065,-651 4065,-592 4065,-592 4065,-586 4071,-580 4077,-580 4077,-580 4176,-580 4176,-580 4182,-580 4188,-586 4188,-592 4188,-592 4188,-651 4188,-651 4188,-657 4182,-663 4176,-663\"/>\n<text text-anchor=\"middle\" x=\"4126.5\" y=\"-647.8\" font-family=\"Helvetica,sans-Serif\" font-size=\"14.00\" fill=\"#000000\">X[6] &lt;= 24.5</text>\n<text text-anchor=\"middle\" x=\"4126.5\" y=\"-632.8\" font-family=\"Helvetica,sans-Serif\" font-size=\"14.00\" fill=\"#000000\">gini = 0.117</text>\n<text text-anchor=\"middle\" x=\"4126.5\" y=\"-617.8\" font-family=\"Helvetica,sans-Serif\" font-size=\"14.00\" fill=\"#000000\">samples = 16</text>\n<text text-anchor=\"middle\" x=\"4126.5\" y=\"-602.8\" font-family=\"Helvetica,sans-Serif\" font-size=\"14.00\" fill=\"#000000\">value = [0, 1, 15]</text>\n<text text-anchor=\"middle\" x=\"4126.5\" y=\"-587.8\" font-family=\"Helvetica,sans-Serif\" font-size=\"14.00\" fill=\"#000000\">class = QSO</text>\n</g>\n<!-- 137&#45;&gt;138 -->\n<g id=\"edge138\" class=\"edge\">\n<title>137&#45;&gt;138</title>\n<path fill=\"none\" stroke=\"#000000\" d=\"M4126.5,-698.8796C4126.5,-690.6838 4126.5,-681.9891 4126.5,-673.5013\"/>\n<polygon fill=\"#000000\" stroke=\"#000000\" points=\"4130.0001,-673.298 4126.5,-663.2981 4123.0001,-673.2981 4130.0001,-673.298\"/>\n</g>\n<!-- 141 -->\n<g id=\"node142\" class=\"node\">\n<title>141</title>\n<path fill=\"#8139e5\" stroke=\"#000000\" d=\"M4325,-655.5C4325,-655.5 4218,-655.5 4218,-655.5 4212,-655.5 4206,-649.5 4206,-643.5 4206,-643.5 4206,-599.5 4206,-599.5 4206,-593.5 4212,-587.5 4218,-587.5 4218,-587.5 4325,-587.5 4325,-587.5 4331,-587.5 4337,-593.5 4337,-599.5 4337,-599.5 4337,-643.5 4337,-643.5 4337,-649.5 4331,-655.5 4325,-655.5\"/>\n<text text-anchor=\"middle\" x=\"4271.5\" y=\"-640.3\" font-family=\"Helvetica,sans-Serif\" font-size=\"14.00\" fill=\"#000000\">gini = 0.0</text>\n<text text-anchor=\"middle\" x=\"4271.5\" y=\"-625.3\" font-family=\"Helvetica,sans-Serif\" font-size=\"14.00\" fill=\"#000000\">samples = 488</text>\n<text text-anchor=\"middle\" x=\"4271.5\" y=\"-610.3\" font-family=\"Helvetica,sans-Serif\" font-size=\"14.00\" fill=\"#000000\">value = [0, 0, 488]</text>\n<text text-anchor=\"middle\" x=\"4271.5\" y=\"-595.3\" font-family=\"Helvetica,sans-Serif\" font-size=\"14.00\" fill=\"#000000\">class = QSO</text>\n</g>\n<!-- 137&#45;&gt;141 -->\n<g id=\"edge141\" class=\"edge\">\n<title>137&#45;&gt;141</title>\n<path fill=\"none\" stroke=\"#000000\" d=\"M4177.214,-698.8796C4191.6844,-687.0038 4207.4314,-674.0804 4221.8383,-662.2568\"/>\n<polygon fill=\"#000000\" stroke=\"#000000\" points=\"4224.178,-664.8645 4229.6877,-655.8149 4219.7372,-659.4534 4224.178,-664.8645\"/>\n</g>\n<!-- 139 -->\n<g id=\"node140\" class=\"node\">\n<title>139</title>\n<path fill=\"#8139e5\" stroke=\"#000000\" d=\"M4105,-536.5C4105,-536.5 4006,-536.5 4006,-536.5 4000,-536.5 3994,-530.5 3994,-524.5 3994,-524.5 3994,-480.5 3994,-480.5 3994,-474.5 4000,-468.5 4006,-468.5 4006,-468.5 4105,-468.5 4105,-468.5 4111,-468.5 4117,-474.5 4117,-480.5 4117,-480.5 4117,-524.5 4117,-524.5 4117,-530.5 4111,-536.5 4105,-536.5\"/>\n<text text-anchor=\"middle\" x=\"4055.5\" y=\"-521.3\" font-family=\"Helvetica,sans-Serif\" font-size=\"14.00\" fill=\"#000000\">gini = 0.0</text>\n<text text-anchor=\"middle\" x=\"4055.5\" y=\"-506.3\" font-family=\"Helvetica,sans-Serif\" font-size=\"14.00\" fill=\"#000000\">samples = 15</text>\n<text text-anchor=\"middle\" x=\"4055.5\" y=\"-491.3\" font-family=\"Helvetica,sans-Serif\" font-size=\"14.00\" fill=\"#000000\">value = [0, 0, 15]</text>\n<text text-anchor=\"middle\" x=\"4055.5\" y=\"-476.3\" font-family=\"Helvetica,sans-Serif\" font-size=\"14.00\" fill=\"#000000\">class = QSO</text>\n</g>\n<!-- 138&#45;&gt;139 -->\n<g id=\"edge139\" class=\"edge\">\n<title>138&#45;&gt;139</title>\n<path fill=\"none\" stroke=\"#000000\" d=\"M4101.6676,-579.8796C4095.0413,-568.7735 4087.8684,-556.7513 4081.1967,-545.5691\"/>\n<polygon fill=\"#000000\" stroke=\"#000000\" points=\"4084.1031,-543.6093 4075.9736,-536.8149 4078.0917,-547.1959 4084.1031,-543.6093\"/>\n</g>\n<!-- 140 -->\n<g id=\"node141\" class=\"node\">\n<title>140</title>\n<path fill=\"#39e581\" stroke=\"#000000\" d=\"M4248,-536.5C4248,-536.5 4147,-536.5 4147,-536.5 4141,-536.5 4135,-530.5 4135,-524.5 4135,-524.5 4135,-480.5 4135,-480.5 4135,-474.5 4141,-468.5 4147,-468.5 4147,-468.5 4248,-468.5 4248,-468.5 4254,-468.5 4260,-474.5 4260,-480.5 4260,-480.5 4260,-524.5 4260,-524.5 4260,-530.5 4254,-536.5 4248,-536.5\"/>\n<text text-anchor=\"middle\" x=\"4197.5\" y=\"-521.3\" font-family=\"Helvetica,sans-Serif\" font-size=\"14.00\" fill=\"#000000\">gini = 0.0</text>\n<text text-anchor=\"middle\" x=\"4197.5\" y=\"-506.3\" font-family=\"Helvetica,sans-Serif\" font-size=\"14.00\" fill=\"#000000\">samples = 1</text>\n<text text-anchor=\"middle\" x=\"4197.5\" y=\"-491.3\" font-family=\"Helvetica,sans-Serif\" font-size=\"14.00\" fill=\"#000000\">value = [0, 1, 0]</text>\n<text text-anchor=\"middle\" x=\"4197.5\" y=\"-476.3\" font-family=\"Helvetica,sans-Serif\" font-size=\"14.00\" fill=\"#000000\">class = GALAXY</text>\n</g>\n<!-- 138&#45;&gt;140 -->\n<g id=\"edge140\" class=\"edge\">\n<title>138&#45;&gt;140</title>\n<path fill=\"none\" stroke=\"#000000\" d=\"M4151.3324,-579.8796C4157.9587,-568.7735 4165.1316,-556.7513 4171.8033,-545.5691\"/>\n<polygon fill=\"#000000\" stroke=\"#000000\" points=\"4174.9083,-547.1959 4177.0264,-536.8149 4168.8969,-543.6093 4174.9083,-547.1959\"/>\n</g>\n</g>\n</svg>\n"
          },
          "metadata": {},
          "execution_count": 56
        }
      ],
      "source": [
        "# Model: Decision tree with depth = 10 \n",
        "\n",
        "dtc = tree.DecisionTreeClassifier(max_depth = 100)  \n",
        "dtc_noprune = tree.DecisionTreeClassifier()\n",
        "\n",
        "dtc.fit(X_train, y_train)\n",
        "dtc_noprune.fit(X_train, y_train)\n",
        "\n",
        "dot_data = tree.export_graphviz(dtc, out_file=None, \n",
        "                     class_names = ['STAR', 'GALAXY', 'QSO'],\n",
        "                     filled=True, rounded=True) \n",
        "\n",
        "graph = graphviz.Source(dot_data) \n",
        "graph"
      ]
    },
    {
      "cell_type": "code",
      "execution_count": null,
      "metadata": {
        "id": "Yw1ldSkeTZlp",
        "colab": {
          "base_uri": "https://localhost:8080/"
        },
        "outputId": "a2ceb60f-0360-4d20-dbea-71f7ca7360a1"
      },
      "outputs": [
        {
          "output_type": "stream",
          "name": "stdout",
          "text": [
            "Accuracy 0.424\n"
          ]
        }
      ],
      "source": [
        "y_pred_dtc = dtc.predict(X_test)\n",
        "cm_dtc = confusion_matrix(y_test, y_pred_dtc)\n",
        "print(\"Accuracy\", metrics.accuracy_score(y_test, y_pred_dtc))"
      ]
    },
    {
      "cell_type": "code",
      "execution_count": null,
      "metadata": {
        "id": "veq7QyggAFuI",
        "colab": {
          "base_uri": "https://localhost:8080/"
        },
        "outputId": "eed34dc7-0df9-4f4f-e43e-0ec3ff9d78c6"
      },
      "outputs": [
        {
          "output_type": "stream",
          "name": "stdout",
          "text": [
            "0.4236666666666667\n"
          ]
        }
      ],
      "source": [
        "# based on https://www.kaggle.com/code/pruthviacharya1/decision-tree-classifier-with-99-3-accuracy \n",
        "\n",
        "from sklearn.model_selection import GridSearchCV\n",
        "#Finding the best parameters \n",
        "\n",
        "#Seperating the target variable \"class\" from the set of the dataset \n",
        "X = sloan_survey.drop('Class',axis=1) \n",
        "y = sloan_survey['Class']\n",
        "\n",
        "parameters_list = {'max_depth':np.arange(1,11),'min_samples_leaf':np.arange(2,10)},\n",
        "all_decision_trees = GridSearchCV(DecisionTreeClassifier(),parameters_list)\n",
        "all_decision_trees.fit(X,y)\n",
        "\n",
        "#Using the best parameters\n",
        "y_pred = all_decision_trees.predict(X_test)\n",
        "print(accuracy_score(y_test,y_pred))"
      ]
    },
    {
      "cell_type": "markdown",
      "source": [
        "Our naive model has performed better than depth = 10. "
      ],
      "metadata": {
        "id": "S1OAxLflA1Yf"
      }
    },
    {
      "cell_type": "markdown",
      "metadata": {
        "id": "lSaiNRIabbLL"
      },
      "source": [
        "### RANDOM FOREST"
      ]
    },
    {
      "cell_type": "code",
      "execution_count": null,
      "metadata": {
        "id": "yBjIHuR3azPU",
        "colab": {
          "base_uri": "https://localhost:8080/"
        },
        "outputId": "9086d4a3-5427-456c-c51a-2e77a7375bab"
      },
      "outputs": [
        {
          "output_type": "stream",
          "name": "stdout",
          "text": [
            "Accuracy 0.424\n"
          ]
        }
      ],
      "source": [
        "# From: https://www.geeksforgeeks.org/random-forest-classifier-using-scikit-learn/\n",
        "\n",
        "from sklearn.ensemble import RandomForestClassifier\n",
        "\n",
        "clf = RandomForestClassifier(n_estimators = 100) \n",
        "#testar para estimadores diferentes, alem de 100\n",
        " \n",
        "# Training the model on the training dataset\n",
        "# fit function is used to train the model using the training sets as parameters\n",
        "clf.fit(X_train, y_train)\n",
        " \n",
        "# performing predictions on the test dataset\n",
        "y_pred_rf = clf.predict(X_test)\n",
        " \n",
        "# using metrics module for accuracy calculation\n",
        "print(\"Accuracy\", metrics.accuracy_score(y_test, y_pred_rf))\n",
        "\n",
        "# confusion matrix\n",
        "cm_rf = confusion_matrix(y_test, y_pred_rf)\n"
      ]
    },
    {
      "cell_type": "code",
      "execution_count": null,
      "metadata": {
        "id": "rpX_-rV_a_S6",
        "colab": {
          "base_uri": "https://localhost:8080/",
          "height": 350
        },
        "outputId": "59bfe635-91d0-4db7-84f5-721c072020a9"
      },
      "outputs": [
        {
          "output_type": "display_data",
          "data": {
            "text/plain": [
              "<Figure size 720x360 with 2 Axes>"
            ],
            "image/png": "[encoded data removed]"
          },
          "metadata": {}
        }
      ],
      "source": [
        "# Now, lets check our Confusion Matrix for Random Forest\n",
        "\n",
        "labels = ['STAR', 'GALAXY', 'QSO']\n",
        "\n",
        "ax= plt.subplot()\n",
        "sns.heatmap(cm_rf, annot=True, fmt='g', ax=ax, cmap=\"YlGnBu\"); \n",
        "# labels, title and ticks\n",
        "ax.set_xlabel('Predicted labels');ax.set_ylabel('True labels'); \n",
        "ax.set_title('Confusion Matrix'); \n",
        "ax.xaxis.set_ticklabels(labels); ax.yaxis.set_ticklabels(labels);"
      ]
    },
    {
      "cell_type": "code",
      "execution_count": null,
      "metadata": {
        "id": "kmRoqK4Nbiw5",
        "colab": {
          "base_uri": "https://localhost:8080/"
        },
        "outputId": "69cee586-ce3f-4e55-8138-1b32c50460a5"
      },
      "outputs": [
        {
          "output_type": "stream",
          "name": "stdout",
          "text": [
            "Parameters currently in use:\n",
            "\n",
            "{'bootstrap': True,\n",
            " 'ccp_alpha': 0.0,\n",
            " 'criterion': 'squared_error',\n",
            " 'max_depth': None,\n",
            " 'max_features': 'auto',\n",
            " 'max_leaf_nodes': None,\n",
            " 'max_samples': None,\n",
            " 'min_impurity_decrease': 0.0,\n",
            " 'min_samples_leaf': 1,\n",
            " 'min_samples_split': 2,\n",
            " 'min_weight_fraction_leaf': 0.0,\n",
            " 'n_estimators': 100,\n",
            " 'n_jobs': None,\n",
            " 'oob_score': False,\n",
            " 'random_state': 42,\n",
            " 'verbose': 0,\n",
            " 'warm_start': False}\n"
          ]
        }
      ],
      "source": [
        "# Optimizing hyperparameters:\n",
        "\n",
        "from sklearn.ensemble import RandomForestRegressor\n",
        "rf = RandomForestRegressor(random_state = 42)\n",
        "from pprint import pprint\n",
        "# Look at parameters used by our current forest\n",
        "print('Parameters currently in use:\\n')\n",
        "pprint(rf.get_params())\n"
      ]
    },
    {
      "cell_type": "code",
      "execution_count": null,
      "metadata": {
        "id": "vYxZVlhDdWZr",
        "colab": {
          "base_uri": "https://localhost:8080/"
        },
        "outputId": "8d9f7e99-5c7d-4b4b-8839-1116f106433f"
      },
      "outputs": [
        {
          "output_type": "stream",
          "name": "stdout",
          "text": [
            "{'bootstrap': [True, False],\n",
            " 'max_depth': [10, 20, 30, 40, 50, 60, 70, 80, 90, 100, 110, None],\n",
            " 'max_features': ['auto', 'sqrt'],\n",
            " 'min_samples_leaf': [1, 2, 4],\n",
            " 'min_samples_split': [2, 5, 10],\n",
            " 'n_estimators': [200, 400, 600, 800, 1000, 1200, 1400, 1600, 1800, 2000]}\n"
          ]
        }
      ],
      "source": [
        "from sklearn.model_selection import RandomizedSearchCV\n",
        "\n",
        "# Number of trees in random forest\n",
        "n_estimators = [int(x) for x in np.linspace(start = 200, stop = 2000, num = 10)]\n",
        "\n",
        "# Number of features to consider at every split\n",
        "max_features = ['auto', 'sqrt']\n",
        "\n",
        "# Maximum number of levels in tree\n",
        "max_depth = [int(x) for x in np.linspace(10, 110, num = 11)]\n",
        "max_depth.append(None)\n",
        "\n",
        "# Minimum number of samples required to split a node\n",
        "min_samples_split = [2, 5, 10]\n",
        "\n",
        "# Minimum number of samples required at each leaf node\n",
        "min_samples_leaf = [1, 2, 4]\n",
        "\n",
        "# Method of selecting samples for training each tree\n",
        "bootstrap = [True, False]\n",
        "\n",
        "# Create the random grid\n",
        "random_grid = {'n_estimators': n_estimators,\n",
        "               'max_features': max_features,\n",
        "               'max_depth': max_depth,\n",
        "               'min_samples_split': min_samples_split,\n",
        "               'min_samples_leaf': min_samples_leaf,\n",
        "               'bootstrap': bootstrap}\n",
        "               \n",
        "pprint(random_grid)"
      ]
    },
    {
      "cell_type": "code",
      "execution_count": null,
      "metadata": {
        "id": "lOdEhx6pdmSK"
      },
      "outputs": [],
      "source": [
        "# Use the random grid to search for best hyperparameters\n",
        "\n",
        "# First create the base model to tune\n",
        "\n",
        "##rf = RandomForestRegressor()\n",
        "\n",
        "# Random search of parameters, using 3 fold cross validation, \n",
        "# search across 100 different combinations, and use all available cores\n",
        "\n",
        "\n",
        "##rf_random = RandomizedSearchCV(estimator = rf, param_distributions = random_grid, n_iter = 100, cv = 3, verbose=2, random_state=42, n_jobs = -1)\n",
        "\n",
        "# Fit the random search model\n",
        "\n",
        "##rf_random.fit(X_train, y_train)"
      ]
    },
    {
      "cell_type": "code",
      "execution_count": null,
      "metadata": {
        "id": "Aa9BLz16dicX"
      },
      "outputs": [],
      "source": [
        "#rf_random.best_params_\n",
        "\n",
        "#our best model was:"
      ]
    },
    {
      "cell_type": "markdown",
      "metadata": {
        "id": "VU50MJ-CbfI4"
      },
      "source": [
        "### ADABOOST"
      ]
    },
    {
      "cell_type": "code",
      "execution_count": null,
      "metadata": {
        "id": "ao11Me8mbAGi"
      },
      "outputs": [],
      "source": [
        "from sklearn.ensemble import AdaBoostClassifier"
      ]
    },
    {
      "cell_type": "code",
      "execution_count": null,
      "metadata": {
        "id": "N-qZhv2hI6UN"
      },
      "outputs": [],
      "source": [
        "# From:https://www.datacamp.com/tutorial/adaboost-classifier-python\n",
        "\n",
        "# Create adaboost classifer object\n",
        "abc = AdaBoostClassifier(n_estimators=50,\n",
        "                         learning_rate=1)\n",
        "# Train Adaboost Classifer\n",
        "model = abc.fit(X_train, y_train)\n",
        "\n",
        "#Predict the response for test dataset\n",
        "y_pred_adb = model.predict(X_test)\n"
      ]
    },
    {
      "cell_type": "code",
      "execution_count": null,
      "metadata": {
        "id": "H1MercJlI-gF",
        "colab": {
          "base_uri": "https://localhost:8080/"
        },
        "outputId": "530d95fb-17e8-496d-d42a-d8e4c2c6551b"
      },
      "outputs": [
        {
          "output_type": "stream",
          "name": "stdout",
          "text": [
            "Accuracy: 0.402\n"
          ]
        }
      ],
      "source": [
        "# Computing model accuracy\n",
        "print(\"Accuracy:\",metrics.accuracy_score(y_test, y_pred_adb))"
      ]
    },
    {
      "cell_type": "code",
      "execution_count": null,
      "metadata": {
        "id": "NlRy1yE5JBOC"
      },
      "outputs": [],
      "source": [
        "# Confusion Matrix\n",
        "cm_adb = confusion_matrix(y_test, y_pred_adb)"
      ]
    },
    {
      "cell_type": "code",
      "execution_count": null,
      "metadata": {
        "id": "ZpDNpgpJJFgh",
        "colab": {
          "base_uri": "https://localhost:8080/",
          "height": 350
        },
        "outputId": "3392e7ed-59a9-4a17-976c-2d86a21a7dc9"
      },
      "outputs": [
        {
          "output_type": "display_data",
          "data": {
            "text/plain": [
              "<Figure size 720x360 with 2 Axes>"
            ],
            "image/png": "[encoded data removed]"
          },
          "metadata": {}
        }
      ],
      "source": [
        "#Now, lets check our Confusion Matrix for AdaBoost\n",
        "\n",
        "labels = ['STAR', 'GALAXY', 'QSO']\n",
        "ax= plt.subplot()\n",
        "sns.heatmap(cm_adb, annot=True, fmt='g', ax=ax, cmap=\"YlGnBu\"); \n",
        "ax.set_xlabel('Predicted labels');ax.set_ylabel('True labels'); \n",
        "ax.set_title('Confusion Matrix'); \n",
        "ax.xaxis.set_ticklabels(labels); ax.yaxis.set_ticklabels(labels);"
      ]
    },
    {
      "cell_type": "code",
      "execution_count": null,
      "metadata": {
        "id": "Y7x10f-TwanX"
      },
      "outputs": [],
      "source": [
        "#Using grid search to optimize hyperparameters:\n",
        "#based on: https://machinelearningmastery.com/adaboost-ensemble-in-python/\n",
        "\n",
        "\n",
        "from sklearn.datasets import make_classification\n",
        "from sklearn.model_selection import RepeatedStratifiedKFold\n",
        "from sklearn.model_selection import GridSearchCV\n",
        "from sklearn.ensemble import AdaBoostClassifier\n"
      ]
    },
    {
      "cell_type": "code",
      "execution_count": null,
      "metadata": {
        "id": "STQUX3DrweD4"
      },
      "outputs": [],
      "source": [
        "# define the model with default hyperparameters\n",
        "model = AdaBoostClassifier()\n",
        "\n",
        "# define the grid of values to search\n",
        "grid = dict()\n",
        "grid['n_estimators'] = [10, 50, 100, 500]\n",
        "grid['learning_rate'] = [0.0001, 0.001, 0.01, 0.1, 1.0]"
      ]
    },
    {
      "cell_type": "code",
      "execution_count": null,
      "metadata": {
        "id": "Xc2zo22qwhHa"
      },
      "outputs": [],
      "source": [
        "# define the evaluation procedure\n",
        "cv = RepeatedStratifiedKFold(n_splits=10, n_repeats=3, random_state=1)\n",
        "\n",
        "# define the grid search procedure\n",
        "grid_search = GridSearchCV(estimator=model, param_grid=grid, n_jobs=-1, cv=cv, scoring='accuracy')\n",
        "\n",
        "# execute the grid search\n",
        "grid_result = grid_search.fit(X_train, y_train)\n",
        "\n",
        "# summarize the best score and configuration\n",
        "print(\"Best: %f using %s\" % (grid_result.best_score_, grid_result.best_params_))"
      ]
    },
    {
      "cell_type": "code",
      "execution_count": null,
      "metadata": {
        "id": "OALd9P8bJj_2"
      },
      "outputs": [],
      "source": [
        "# summarize all scores that were evaluated\n",
        "means = grid_result.cv_results_['mean_test_score']\n",
        "stds = grid_result.cv_results_['std_test_score']\n",
        "params = grid_result.cv_results_['params']\n",
        "for mean, stdev, param in zip(means, stds, params):\n",
        "    print(\"%f (%f) with: %r\" % (mean, stdev, param))\n",
        "\n",
        "#Best model for Adaboost:\n",
        "#0.914286 (0.001952) with: {'learning_rate': 0.0001, 'n_estimators': 10}"
      ]
    },
    {
      "cell_type": "markdown",
      "metadata": {
        "id": "9Tx__5VybsFe"
      },
      "source": [
        "### GRADIENT BOOSTING "
      ]
    },
    {
      "cell_type": "code",
      "execution_count": null,
      "metadata": {
        "id": "GizDuoF_d1oD"
      },
      "outputs": [],
      "source": [
        "from sklearn.ensemble import GradientBoostingClassifier\n",
        "from sklearn import metrics"
      ]
    },
    {
      "cell_type": "code",
      "execution_count": null,
      "metadata": {
        "id": "pRJHLwDlyu16"
      },
      "outputs": [],
      "source": [
        "from sklearn.preprocessing import MinMaxScaler\n",
        "scaler = MinMaxScaler()\n",
        "X_train_scale = scaler.fit_transform(X_train)\n",
        "X_test_scale = scaler.transform(X_test)"
      ]
    },
    {
      "cell_type": "code",
      "execution_count": null,
      "metadata": {
        "id": "T45Fzryny43D"
      },
      "outputs": [],
      "source": [
        "from sklearn.model_selection import train_test_split\n",
        "X_train_sub, X_test_sub, y_train_sub, y_test_sub = train_test_split(X_train_scale, y_train, random_state=0)"
      ]
    },
    {
      "cell_type": "code",
      "execution_count": null,
      "metadata": {
        "id": "W43imutSzAwB"
      },
      "outputs": [],
      "source": [
        "learning_rates = [0.05, 0.1, 0.25, 0.5, 0.75, 1]\n",
        "for learning_rate in learning_rates:\n",
        "    gb = GradientBoostingClassifier(n_estimators=20, learning_rate = learning_rate, max_features=2, max_depth = 2, random_state = 0)\n",
        "    gb.fit(X_train_sub, y_train_sub)\n",
        "    print(\"Learning rate: \", learning_rate)\n",
        "    print(\"Accuracy score (training): {0:.3f}\".format(gb.score(X_train_sub, y_train_sub)))\n",
        "    print(\"Accuracy score (validation): {0:.3f}\".format(gb.score(X_test_sub, y_test_sub)))\n",
        "    \n",
        "#best model:\n",
        "# Learning rate:  0.5\n",
        "#Accuracy score (training): 0.994\n",
        "#Accuracy score (test): 0.989"
      ]
    },
    {
      "cell_type": "markdown",
      "metadata": {
        "id": "ugpHOq0kt7oW"
      },
      "source": [
        "\\\n",
        "Feature Importance\n"
      ]
    },
    {
      "cell_type": "code",
      "execution_count": null,
      "metadata": {
        "id": "AlGbczGtcsr-"
      },
      "outputs": [],
      "source": [
        "import time\n",
        "\n",
        "from sklearn.ensemble import RandomForestClassifier\n",
        "\n",
        "feature_names = [f\"feature {i}\" for i in range(df.shape[1])]\n",
        "forest = RandomForestClassifier(random_state=0)\n",
        "forest.fit(X_train, y_train)\n",
        "from sklearn.inspection import permutation_importance"
      ]
    },
    {
      "cell_type": "code",
      "execution_count": null,
      "metadata": {
        "id": "w0DOz-o01P27"
      },
      "outputs": [],
      "source": [
        "start_time = time.time()\n",
        "importances = forest.feature_importances_\n",
        "std = np.std([tree.feature_importances_ for tree in forest.estimators_], axis=0)\n",
        "elapsed_time = time.time() - start_time\n",
        "\n",
        "print(f\"Elapsed time to compute the importances: {elapsed_time:.3f} seconds\")"
      ]
    },
    {
      "cell_type": "code",
      "execution_count": null,
      "metadata": {
        "id": "sYfjbkwidZvo"
      },
      "outputs": [],
      "source": [
        "import pandas as pd\n",
        "\n",
        "forest_importances = pd.Series(importances, index=feature_names)\n",
        "\n",
        "fig, ax = plt.subplots()\n",
        "forest_importances.plot.bar(yerr=std, ax=ax)\n",
        "ax.set_title(\"Feature importances using MDI\")\n",
        "ax.set_ylabel(\"Mean decrease in impurity\")\n",
        "fig.tight_layout()"
      ]
    },
    {
      "cell_type": "code",
      "execution_count": null,
      "metadata": {
        "id": "6Wck3IKMenm7"
      },
      "outputs": [],
      "source": [
        "from sklearn.inspection import permutation_importance\n",
        "\n",
        "start_time = time.time()\n",
        "result = permutation_importance(\n",
        "forest, X_test, y_test, n_repeats=10, random_state=42, n_jobs=2)\n",
        "elapsed_time = time.time() - start_time\n",
        "print(f\"Elapsed time to compute the importances: {elapsed_time:.3f} seconds\")\n",
        "\n",
        "forest_importances = pd.Series(result.importances_mean, index=feature_names)"
      ]
    },
    {
      "cell_type": "code",
      "execution_count": null,
      "metadata": {
        "id": "foUT4kT4e4vP"
      },
      "outputs": [],
      "source": [
        "fig, ax = plt.subplots()\n",
        "forest_importances.plot.bar(yerr=result.importances_std, ax=ax)\n",
        "ax.set_title(\"Feature importances using permutation on full model\")\n",
        "ax.set_ylabel(\"Mean accuracy decrease\")\n",
        "fig.tight_layout()\n",
        "plt.show()"
      ]
    },
    {
      "cell_type": "code",
      "execution_count": null,
      "metadata": {
        "id": "SJgO_Am9gBs4"
      },
      "outputs": [],
      "source": [
        "df.info()\n",
        "type(df)\n"
      ]
    },
    {
      "cell_type": "markdown",
      "metadata": {
        "id": "MFYgAlva0BUr"
      },
      "source": [
        "\\\\\n",
        "\n",
        "##OUR CHOSEN MODEL:\n",
        "\n",
        "###GRADIENT BOOSTING\n",
        "\n",
        "Learning rate:  0.5\n",
        "\n",
        "Accuracy score (training): 0.994\n",
        "\n",
        "Accuracy score (test): 0.989\n",
        "\n",
        "Features more important were redshift, mjd, and F9."
      ]
    },
    {
      "cell_type": "markdown",
      "source": [
        "### EXERCICIO 3 - DATA VISUALIZATION DASHBOARD "
      ],
      "metadata": {
        "id": "vT-AE0odQVID"
      }
    },
    {
      "cell_type": "code",
      "source": [
        "from google.colab import files\n",
        "uploaded = files.upload()\n",
        "equipment = pd.read_csv(io.BytesIO(uploaded['russia_losses_equipment.csv']))\n",
        "equipment.head()"
      ],
      "metadata": {
        "id": "ECE1dfrOQcNL"
      },
      "execution_count": null,
      "outputs": []
    },
    {
      "cell_type": "code",
      "source": [
        "from google.colab import files\n",
        "uploaded = files.upload()\n",
        "personnel = pd.read_csv(io.BytesIO(uploaded['russia_losses_personnel.csv']))\n",
        "personnel.head()"
      ],
      "metadata": {
        "id": "BMcGO7yrREg3"
      },
      "execution_count": null,
      "outputs": []
    },
    {
      "cell_type": "markdown",
      "source": [
        "### GENERAL INFORMATION "
      ],
      "metadata": {
        "id": "H47hN9SORcVV"
      }
    },
    {
      "cell_type": "code",
      "source": [
        "# Shape equipment\n",
        "equipment.shape"
      ],
      "metadata": {
        "id": "gnZEfIWXRdWZ"
      },
      "execution_count": null,
      "outputs": []
    },
    {
      "cell_type": "code",
      "source": [
        "# Shape personnel\n",
        "personnel.shape"
      ],
      "metadata": {
        "id": "CZ-sjIgRRgo-"
      },
      "execution_count": null,
      "outputs": []
    },
    {
      "cell_type": "markdown",
      "source": [
        "Since both dfs regards the same event, we will merge both informations"
      ],
      "metadata": {
        "id": "wy4-9zRERkkW"
      }
    },
    {
      "cell_type": "code",
      "source": [
        "df = equipment.merge(personnel,how='left',left_on=[\"date\",\"day\"],right_on=[\"date\",\"day\"])"
      ],
      "metadata": {
        "id": "4-i0oeVNRqJX"
      },
      "execution_count": null,
      "outputs": []
    },
    {
      "cell_type": "code",
      "source": [
        "df"
      ],
      "metadata": {
        "id": "7QzPBJXDSd8E"
      },
      "execution_count": null,
      "outputs": []
    },
    {
      "cell_type": "markdown",
      "source": [
        "###DATA PREP\n",
        "\n",
        "Inspired on: https://www.kaggle.com/code/tomasborges/2022-russian-invasion-of-ukraine-eda-forecast"
      ],
      "metadata": {
        "id": "_sPC8-S1SwFp"
      }
    },
    {
      "cell_type": "code",
      "source": [
        "# Lest first check for missing values in our dataset, visualizing the percentage \n",
        "# of NaN in each variable. \n",
        "\n",
        "total = df.isnull().sum().sort_values(ascending=False)\n",
        "percent = (df.isnull().sum()/df.isnull().count()*100).sort_values(ascending=False)\n",
        "missing_data = pd.concat([total, percent], axis=1, keys=['Total', 'Percent'])\n",
        "missing_data.head(20)"
      ],
      "metadata": {
        "id": "goGROqSbS2Ur"
      },
      "execution_count": null,
      "outputs": []
    },
    {
      "cell_type": "code",
      "source": [
        "# Drop variables with over 60% of missing values\n",
        "df.drop(labels= ['personnel*','greatest losses direction','mobile SRBM system','cruise missiles','vehicles and fuel tanks'],axis=1, inplace=True)"
      ],
      "metadata": {
        "id": "3y-Uawa_S5Py"
      },
      "execution_count": null,
      "outputs": []
    },
    {
      "cell_type": "code",
      "source": [
        "#The equipment data has missing values we need to treat\n",
        "#the personnel data has a column with little to no value: 'personnel*'\n",
        "\n",
        "#changing 'date' type to datetime for our timeseries study\n",
        "df['date'] = pd.to_datetime(df['date'])\n",
        "\n",
        "\n",
        "#fill na (missing values)\n",
        "df.fillna(value=0, inplace=True)"
      ],
      "metadata": {
        "id": "0EE_DTDCS9M0"
      },
      "execution_count": null,
      "outputs": []
    },
    {
      "cell_type": "markdown",
      "source": [
        "### SOME BASIC FEATURE ENGINEERING \n",
        "\n",
        "#### Incremental Personel Loss\n",
        "Since we have personnel losses are cumulative, we are adding a column with daily/incremental personnel losses"
      ],
      "metadata": {
        "id": "WUaEHlZKTAY3"
      }
    },
    {
      "cell_type": "code",
      "source": [
        "df['incremental_personnel_loss'] = df['personnel'].diff(periods=1)\n",
        "\n",
        "#setting day 1\n",
        "df['incremental_personnel_loss'] = df['incremental_personnel_loss'].replace(df['incremental_personnel_loss'][0],df['personnel'][0])"
      ],
      "metadata": {
        "id": "Yfjz1dxFTCId"
      },
      "execution_count": null,
      "outputs": []
    },
    {
      "cell_type": "markdown",
      "source": [
        "Week and Month Variables "
      ],
      "metadata": {
        "id": "r808mcIRTcR3"
      }
    },
    {
      "cell_type": "code",
      "source": [
        "df['month'] = df['day']//30\n",
        "df['week'] = df['day']//7"
      ],
      "metadata": {
        "id": "8wBe_Hc8TadT"
      },
      "execution_count": null,
      "outputs": []
    },
    {
      "cell_type": "code",
      "source": [
        "print(df[\"month\"].unique()) # 4 months\n",
        "print(df[\"week\"].unique()) # 15 weeks"
      ],
      "metadata": {
        "id": "hEIcQAUvTjZG"
      },
      "execution_count": null,
      "outputs": []
    },
    {
      "cell_type": "markdown",
      "source": [
        "\\\\\n",
        "\n",
        "### VISUALIZATIONS \n",
        "\\\\\n",
        "\n",
        "Attempt 1: Dashboard \n",
        "\\\\\n",
        "We were not abble to run the code for our dashboard visualization.  In the last code chuck we received an Error Message saying \"syntax error\" in the following line: col1, col2= st.columns(2).  "
      ],
      "metadata": {
        "id": "MnnhL62pTfqD"
      }
    },
    {
      "cell_type": "code",
      "source": [
        "#pip install streamlit"
      ],
      "metadata": {
        "id": "G2O2XNm200l1"
      },
      "execution_count": null,
      "outputs": []
    },
    {
      "cell_type": "code",
      "source": [
        "#import time \n",
        "#import numpy as np  \n",
        "#import pandas as pd  \n",
        "#import plotly.express as px  \n",
        "#import streamlit as st  "
      ],
      "metadata": {
        "id": "WqzL2_JI0xZh"
      },
      "execution_count": null,
      "outputs": []
    },
    {
      "cell_type": "code",
      "source": [
        "#st.set_page_config(\n",
        "#    page_title = 'Russian-Ukranian War Dashboard',\n",
        "#    page_icon = '🇺🇦',\n",
        "#    layout = 'wide'\n",
        "#)"
      ],
      "metadata": {
        "id": "KIK1rOSazl2_"
      },
      "execution_count": null,
      "outputs": []
    },
    {
      "cell_type": "code",
      "source": [
        "# dashboard title\n",
        "\n",
        "#st.title(\"Russian-Ukranian War Dashboard - 2022\")"
      ],
      "metadata": {
        "id": "Zq5jmoL61GGF"
      },
      "execution_count": null,
      "outputs": []
    },
    {
      "cell_type": "code",
      "source": [
        "# top-level filters\n",
        "#month_filter = st.selectbox(\"Select the Month\", pd.unique(df[\"month\"]))"
      ],
      "metadata": {
        "id": "PIM5ZFXZ1Icw"
      },
      "execution_count": null,
      "outputs": []
    },
    {
      "cell_type": "code",
      "source": [
        "# creating a single-element container.\n",
        "#placeholder = st.empty()\n",
        "\n",
        "# dataframe filter (here we would be able to filter/visualize data by month)\n",
        "\n",
        "#df = df[df['month']==month_filter]"
      ],
      "metadata": {
        "id": "VhUbNQcj1x10"
      },
      "execution_count": null,
      "outputs": []
    },
    {
      "cell_type": "code",
      "source": [
        "# Code for the dashboard itself:  \n",
        "\n",
        "#for month in range(15):\n",
        "#    while True: \n",
        "    \n",
        "#        df['personnel)new'] = df['personnel'] * np.random.choice(range(1,5))\n",
        "#        df['POW_new'] = df['POW'] * np.random.choice(range(1,5))\n",
        "\n",
        "    # creating KPIs \n",
        "#    avg_personnel = np.mean(df['personnel']) \n",
        "\n",
        "#    count_pow = int(df[(df[\"POW\"]=='POW')]['POW'].count() + np.random.choice(range(1,30)))\n",
        "\n",
        "#    count_artillery = int(df[(df[\"field artillery\"]=='field artillery')]['field artillery'].count() + np.random.choice(range(1,30)))\n",
        "  \n",
        "\n",
        "#   with placeholder.container():\n",
        "        # create three columns\n",
        "#        kpi1, kpi2= st.columns(2)\n",
        "\n",
        "        # fill in those three columns with respective metrics or KPIs \n",
        "#        kpi1.metric(label=\"Avarege Personnel\", value=round(avg_personnel), delta= round(avg_personnel) - 10)\n",
        "#        kpi2.metric(label=\"Count of Prisioners of War\", value= int(POW, delta= - 10 + POW)\n",
        "       \n",
        "\n",
        "    # create two columns for charts \n",
        "              \n",
        "#    col1, col2= st.columns(2)\n",
        "#        with col1:\n",
        "#            st.markdown(\"Total Count of Personnel Losses by Week\")\n",
        "#            fig = px.bar(data_frame=df, y = 'personnel', x = 'week')\n",
        "#            st.write(col1)\n",
        "#        with col2:\n",
        "#            st.markdown(\"Total Count of Personnel Losses by Week\")\n",
        "#            fig2 = px.bar(data_frame=df, y = 'military auto', x = 'week')\n",
        "#            st.write(fig_c2)\n",
        "                    \n",
        "#    st.markdown(\"### Detailed Data View\")\n",
        "#    st.dataframe(df)\n",
        "                    \n",
        "#    time.sleep(1)"
      ],
      "metadata": {
        "id": "rOfvUIhm10mN"
      },
      "execution_count": null,
      "outputs": []
    },
    {
      "cell_type": "markdown",
      "source": [
        "\\\\\n",
        "\n",
        "TO OVERCOME OUR PROBLEM WITH THE DASHBOARD WE WILL RELY ON A BASIC VISUALIZATION ANALYSIS. "
      ],
      "metadata": {
        "id": "FoKdaA4F1Fku"
      }
    },
    {
      "cell_type": "code",
      "source": [
        "import matplotlib.dates as mdates\n",
        "from scipy.stats import pearsonr"
      ],
      "metadata": {
        "id": "lVdCaeaYU5eN"
      },
      "execution_count": null,
      "outputs": []
    },
    {
      "cell_type": "code",
      "source": [
        "fig, axes = plt.subplots(1, 2, figsize=(20, 10))\n",
        "\n",
        "axes[0].plot(df['date'], df['incremental_personnel_loss'], \"b.\")\n",
        "axes[1].plot(df['date'], df['personnel'])\n",
        "\n",
        "for ax in axes:\n",
        "    ax.xaxis.set_minor_locator(mdates.DayLocator(bymonthday=[25], interval=1, tz=None))\n",
        "    ax.xaxis.set_major_locator(mdates.MonthLocator())\n",
        "    ax.grid(True)\n",
        "\n",
        "    \n",
        "#adding a trendline to personnel losses\n",
        "z = np.polyfit(mdates.date2num(df['date']), df['incremental_personnel_loss'], 3)\n",
        "p = np.poly1d(z)\n",
        "axes[0].plot(mdates.date2num(df['date']),p(mdates.date2num(df['date'])))\n",
        "\n",
        "axes[0].set_title('Incremental daily Personnel losses', fontsize = 16)\n",
        "axes[1].set_title('Cumulative Personnel losses', fontsize = 16)"
      ],
      "metadata": {
        "id": "qgkRm4g8Tl0T"
      },
      "execution_count": null,
      "outputs": []
    },
    {
      "cell_type": "markdown",
      "source": [
        "Graphs one and two shwo that there is a signifficant increase in deaths in the first half of the war. After hiting a cummulative loss of 12000, there is a stabilization of fatalities. "
      ],
      "metadata": {
        "id": "_XO2gisH4Bic"
      }
    },
    {
      "cell_type": "markdown",
      "source": [
        "PERSONNEL LOSS BY WEEK"
      ],
      "metadata": {
        "id": "trsY5gTPVIYk"
      }
    },
    {
      "cell_type": "code",
      "source": [
        "fig,ax1 = plt.subplots(figsize= (10,10*0.618))\n",
        "\n",
        "\n",
        "bp = sns.boxplot(data = df, \n",
        "                     x = \"week\", \n",
        "                     y = \"incremental_personnel_loss\",\n",
        "                     palette=\"crest\",\n",
        "                     ax = ax1)\n",
        "\n",
        "ax2 = ax1.twinx()\n",
        "\n",
        "lp = sns.lineplot(data = df, \n",
        "                     x = \"week\", \n",
        "                     y = \"personnel\",\n",
        "                     linewidth = 3,\n",
        "                     ax=ax2)\n",
        "ax1.set(xlabel='Weeks since the start of the war', ylabel='Daily personnel losses')\n",
        "ax2.set(ylabel='')\n",
        "ax1.set_title(\"Personal Loss by Week\", fontsize = 14);"
      ],
      "metadata": {
        "id": "VbxSgf4RVLFF"
      },
      "execution_count": null,
      "outputs": []
    },
    {
      "cell_type": "markdown",
      "source": [
        "As we have argued on the first and second figures, there was a significant ammount of fatalities in the first two weeks of war. More precisely, only on the second week russia lost over 3000 people. "
      ],
      "metadata": {
        "id": "at08RJfV5vXQ"
      }
    },
    {
      "cell_type": "markdown",
      "source": [
        "PRISIONERS OF WAR (POW)"
      ],
      "metadata": {
        "id": "Ho81yDh7Vlb7"
      }
    },
    {
      "cell_type": "code",
      "source": [
        "fig,ax = plt.subplots(figsize= (10,10*0.618))\n",
        "\n",
        "# Change the style of plot\n",
        "plt.style.use('seaborn-darkgrid')\n",
        " \n",
        "# Make the same graph\n",
        "ax.fill_between(df[\"week\"], df[\"POW\"], color=\"skyblue\", alpha=0.3)\n",
        "ax.plot(df[\"week\"], df[\"POW\"], color=\"skyblue\")\n",
        "\n",
        "#getting correlation with personnel losses\n",
        "corr, _ = pearsonr(df[\"POW\"], df['personnel'])\n",
        "Pearsons_correlation = 'Pearsons correlation: %.3f' % corr\n",
        "\n",
        "# Add titles\n",
        "plt.title(f\"The evolution of POWs \", fontsize=12)\n",
        "plt.xlabel(\"Weeks Since the War Start\")\n",
        "plt.ylabel(\"POWs\")\n",
        "\n",
        "# Show the graph\n",
        "plt.show()"
      ],
      "metadata": {
        "id": "tsKbBAsjVnlw"
      },
      "execution_count": null,
      "outputs": []
    },
    {
      "cell_type": "markdown",
      "source": [
        "Prisioners of war tendencies also behaves similarly to personnel losses with a Pearsons Correlation of 0.825. As most POWs were captured in the first 4 weeks of the war and most losses happened on the first couple of weeks. "
      ],
      "metadata": {
        "id": "9BQyz2Fq6zJ5"
      }
    },
    {
      "cell_type": "markdown",
      "source": [
        "EQUIPMENT LOSSES "
      ],
      "metadata": {
        "id": "iXbcz0ZLXZ6B"
      }
    },
    {
      "cell_type": "code",
      "source": [
        "ig,ax = plt.subplots(figsize= (10,8))\n",
        "\n",
        "#getting the proper df with columns sorted by the last row, we also drop the columnds that were merged into \"vehicles and fuel tanks\"\n",
        "df_bar = df.loc[:, ~df.columns.isin(['date', 'day', 'week', 'personnel', 'POW', 'incremental_personnel_loss','military auto', 'fuel tank', 'mobile SRBM system'])].sort_values(by=len(df_losses.index)-1, axis=1)\n",
        "\n",
        "#It's important to properly capture the data we want before plotting\n",
        "x = df_bar.columns.values\n",
        "#we want an array and not index, also we removed irrelevant columns\n",
        "y = df_bar.tail(1).squeeze().values\n",
        "#we get the values of the last day to give us the most recent losses\n",
        "\n",
        "#adding a color map\n",
        "my_cmap = plt.get_cmap(\"Dark2\")\n",
        "rescale = lambda y: (y - np.min(y)) / (np.max(y) - np.min(y))\n",
        "\n",
        "#plotting\n",
        "ax.barh(x, y, align = 'center', alpha=0.5, color = my_cmap(rescale(y)))\n",
        "ax.set_title('Total Equipment Losses', fontsize=18)\n",
        "\n",
        "plt.show()"
      ],
      "metadata": {
        "id": "zFaBiSfBXVLB"
      },
      "execution_count": null,
      "outputs": []
    },
    {
      "cell_type": "markdown",
      "source": [
        "If we analyse the equiment losses, Armored Personnel Carrier (APC) is the item which has been more affected. We believe this happens because the total count of APC that belongs to the Russian Army is greater than naval ships or aircrafts, for example. In this sense, a better metric would be to compare the propostional loss, considering the losses relation to the total count of a given equipment.  "
      ],
      "metadata": {
        "id": "TbUqpIlv7kEn"
      }
    },
    {
      "cell_type": "markdown",
      "source": [
        "AIR EQUIPMENT LOSSES "
      ],
      "metadata": {
        "id": "yHE3wOtNZXhG"
      }
    },
    {
      "cell_type": "code",
      "source": [
        "# Plot multiple lines\n",
        "fig, ax = plt.subplots(figsize= (10,10*0.618))\n",
        "\n",
        "num=0\n",
        "for column in df[['aircraft', 'helicopter', 'drone']]:\n",
        "    num+=1\n",
        "    plt.plot(df['date'], df[column], marker='', linewidth=1, alpha=0.9, label=column)\n",
        "\n",
        "# Add legend\n",
        "plt.legend(loc=2, ncol=2)\n",
        " \n",
        "# Add titles\n",
        "plt.title(\"Air Equipment Losses\", fontsize=20)\n",
        "plt.xlabel(\"Time\")\n",
        "plt.ylabel(\"Losses\")\n",
        "\n",
        "# Show the graph\n",
        "plt.show()"
      ],
      "metadata": {
        "id": "-UpuWbtGZZL1"
      },
      "execution_count": null,
      "outputs": []
    },
    {
      "cell_type": "markdown",
      "source": [
        "We believe in two hypothesis about drones being the most lost air equipment: \n",
        "\n",
        "* H_1: we proportionally have more drone than other air equipments. \n",
        "* H_2: Drones are easier targets to hit. \n",
        "\n",
        "Unfortunatly, since our data regards only losses, we cannot test any of the hypothesis. "
      ],
      "metadata": {
        "id": "WQd_vrYq-STq"
      }
    }
  ],
  "metadata": {
    "colab": {
      "collapsed_sections": [],
      "name": "Lista2.ipynb",
      "provenance": []
    },
    "kernelspec": {
      "display_name": "Python 3",
      "name": "python3"
    },
    "language_info": {
      "name": "python"
    }
  },
  "nbformat": 4,
  "nbformat_minor": 0
}