{
  "cells": [
    {
      "cell_type": "markdown",
      "metadata": {
        "id": "Em8nj8RUAUhy"
      },
      "source": [
        "# LIST 2 - MACHINE LEARNING\n",
        "\n",
        "Prof: Thiago Curado | Students: Gabriela N. Brogim and Isabella Nascimento\n",
        "\n"
      ]
    },
    {
      "cell_type": "markdown",
      "metadata": {
        "id": "0L_6b27VAlcZ"
      },
      "source": [
        "EXERCISE 1 - ADABOOST"
      ]
    },
    {
      "cell_type": "code",
      "execution_count": null,
      "metadata": {
        "id": "78ITDJVcAFET"
      },
      "outputs": [],
      "source": [
        "# Core\n",
        "import pandas as pd\n",
        "import numpy as np\n",
        "from scipy.stats import skew\n",
        "\n",
        "# Visual\n",
        "import matplotlib.pyplot as plt\n",
        "plt.rcParams['figure.figsize'] = [15, 7.5]\n",
        "import plotly.express as px\n",
        "import seaborn as sns\n",
        "\n",
        "# Scikit\n",
        "import sklearn\n",
        "from sklearn.linear_model import LinearRegression, Ridge, RidgeCV, ElasticNet, LassoCV, ElasticNetCV, Lasso\n",
        "from sklearn.model_selection import train_test_split\n",
        "from sklearn.tree import DecisionTreeRegressor\n",
        "from sklearn.tree import DecisionTreeClassifier\n",
        "from sklearn.ensemble import BaggingRegressor, RandomForestRegressor, AdaBoostRegressor, GradientBoostingRegressor\n",
        "\n",
        "# Core\n",
        "import seaborn as sns\n",
        "import pandas as pd\n",
        "import numpy as np\n",
        "from math import log,exp\n",
        "\n",
        "# Visual\n",
        "import matplotlib.pyplot as plt\n",
        "plt.rcParams['figure.figsize'] = (10, 5)\n",
        "import graphviz\n",
        "\n",
        "from sklearn.model_selection import train_test_split\n",
        "from sklearn import tree\n",
        "from sklearn.ensemble import AdaBoostClassifier\n",
        "\n",
        "import io \n"
      ]
    },
    {
      "cell_type": "code",
      "execution_count": null,
      "metadata": {
        "colab": {
          "base_uri": "https://localhost:8080/",
          "height": 374,
          "resources": {
            "http://localhost:8080/nbextensions/google.colab/files.js": {
              "data": "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",
              "headers": [
                [
                  "content-type",
                  "application/javascript"
                ]
              ],
              "ok": true,
              "status": 200,
              "status_text": ""
            }
          }
        },
        "id": "3jQkIcBNA3sm",
        "outputId": "acbf58fa-2222-4e5a-e9dd-e0d25ebf67b0"
      },
      "outputs": [
        {
          "output_type": "display_data",
          "data": {
            "text/plain": [
              "<IPython.core.display.HTML object>"
            ],
            "text/html": [
              "\n",
              "     <input type=\"file\" id=\"files-26a3e666-a6f3-4104-926a-a42134ffbd3a\" name=\"files[]\" multiple disabled\n",
              "        style=\"border:none\" />\n",
              "     <output id=\"result-26a3e666-a6f3-4104-926a-a42134ffbd3a\">\n",
              "      Upload widget is only available when the cell has been executed in the\n",
              "      current browser session. Please rerun this cell to enable.\n",
              "      </output>\n",
              "      <script src=\"/nbextensions/google.colab/files.js\"></script> "
            ]
          },
          "metadata": {}
        },
        {
          "output_type": "stream",
          "name": "stdout",
          "text": [
            "Saving train.csv to train.csv\n"
          ]
        },
        {
          "output_type": "execute_result",
          "data": {
            "text/plain": [
              "   Id  MSSubClass MSZoning  LotFrontage  LotArea Street Alley LotShape  \\\n",
              "0   1          60       RL         65.0     8450   Pave   NaN      Reg   \n",
              "1   2          20       RL         80.0     9600   Pave   NaN      Reg   \n",
              "2   3          60       RL         68.0    11250   Pave   NaN      IR1   \n",
              "3   4          70       RL         60.0     9550   Pave   NaN      IR1   \n",
              "4   5          60       RL         84.0    14260   Pave   NaN      IR1   \n",
              "\n",
              "  LandContour Utilities  ... PoolArea PoolQC Fence MiscFeature MiscVal MoSold  \\\n",
              "0         Lvl    AllPub  ...        0    NaN   NaN         NaN       0      2   \n",
              "1         Lvl    AllPub  ...        0    NaN   NaN         NaN       0      5   \n",
              "2         Lvl    AllPub  ...        0    NaN   NaN         NaN       0      9   \n",
              "3         Lvl    AllPub  ...        0    NaN   NaN         NaN       0      2   \n",
              "4         Lvl    AllPub  ...        0    NaN   NaN         NaN       0     12   \n",
              "\n",
              "  YrSold  SaleType  SaleCondition  SalePrice  \n",
              "0   2008        WD         Normal     208500  \n",
              "1   2007        WD         Normal     181500  \n",
              "2   2008        WD         Normal     223500  \n",
              "3   2006        WD        Abnorml     140000  \n",
              "4   2008        WD         Normal     250000  \n",
              "\n",
              "[5 rows x 81 columns]"
            ],
            "text/html": [
              "\n",
              "  <div id=\"df-5f954734-ab06-4e0b-9dbd-3a31ca637b31\">\n",
              "    <div class=\"colab-df-container\">\n",
              "      <div>\n",
              "<style scoped>\n",
              "    .dataframe tbody tr th:only-of-type {\n",
              "        vertical-align: middle;\n",
              "    }\n",
              "\n",
              "    .dataframe tbody tr th {\n",
              "        vertical-align: top;\n",
              "    }\n",
              "\n",
              "    .dataframe thead th {\n",
              "        text-align: right;\n",
              "    }\n",
              "</style>\n",
              "<table border=\"1\" class=\"dataframe\">\n",
              "  <thead>\n",
              "    <tr style=\"text-align: right;\">\n",
              "      <th></th>\n",
              "      <th>Id</th>\n",
              "      <th>MSSubClass</th>\n",
              "      <th>MSZoning</th>\n",
              "      <th>LotFrontage</th>\n",
              "      <th>LotArea</th>\n",
              "      <th>Street</th>\n",
              "      <th>Alley</th>\n",
              "      <th>LotShape</th>\n",
              "      <th>LandContour</th>\n",
              "      <th>Utilities</th>\n",
              "      <th>...</th>\n",
              "      <th>PoolArea</th>\n",
              "      <th>PoolQC</th>\n",
              "      <th>Fence</th>\n",
              "      <th>MiscFeature</th>\n",
              "      <th>MiscVal</th>\n",
              "      <th>MoSold</th>\n",
              "      <th>YrSold</th>\n",
              "      <th>SaleType</th>\n",
              "      <th>SaleCondition</th>\n",
              "      <th>SalePrice</th>\n",
              "    </tr>\n",
              "  </thead>\n",
              "  <tbody>\n",
              "    <tr>\n",
              "      <th>0</th>\n",
              "      <td>1</td>\n",
              "      <td>60</td>\n",
              "      <td>RL</td>\n",
              "      <td>65.0</td>\n",
              "      <td>8450</td>\n",
              "      <td>Pave</td>\n",
              "      <td>NaN</td>\n",
              "      <td>Reg</td>\n",
              "      <td>Lvl</td>\n",
              "      <td>AllPub</td>\n",
              "      <td>...</td>\n",
              "      <td>0</td>\n",
              "      <td>NaN</td>\n",
              "      <td>NaN</td>\n",
              "      <td>NaN</td>\n",
              "      <td>0</td>\n",
              "      <td>2</td>\n",
              "      <td>2008</td>\n",
              "      <td>WD</td>\n",
              "      <td>Normal</td>\n",
              "      <td>208500</td>\n",
              "    </tr>\n",
              "    <tr>\n",
              "      <th>1</th>\n",
              "      <td>2</td>\n",
              "      <td>20</td>\n",
              "      <td>RL</td>\n",
              "      <td>80.0</td>\n",
              "      <td>9600</td>\n",
              "      <td>Pave</td>\n",
              "      <td>NaN</td>\n",
              "      <td>Reg</td>\n",
              "      <td>Lvl</td>\n",
              "      <td>AllPub</td>\n",
              "      <td>...</td>\n",
              "      <td>0</td>\n",
              "      <td>NaN</td>\n",
              "      <td>NaN</td>\n",
              "      <td>NaN</td>\n",
              "      <td>0</td>\n",
              "      <td>5</td>\n",
              "      <td>2007</td>\n",
              "      <td>WD</td>\n",
              "      <td>Normal</td>\n",
              "      <td>181500</td>\n",
              "    </tr>\n",
              "    <tr>\n",
              "      <th>2</th>\n",
              "      <td>3</td>\n",
              "      <td>60</td>\n",
              "      <td>RL</td>\n",
              "      <td>68.0</td>\n",
              "      <td>11250</td>\n",
              "      <td>Pave</td>\n",
              "      <td>NaN</td>\n",
              "      <td>IR1</td>\n",
              "      <td>Lvl</td>\n",
              "      <td>AllPub</td>\n",
              "      <td>...</td>\n",
              "      <td>0</td>\n",
              "      <td>NaN</td>\n",
              "      <td>NaN</td>\n",
              "      <td>NaN</td>\n",
              "      <td>0</td>\n",
              "      <td>9</td>\n",
              "      <td>2008</td>\n",
              "      <td>WD</td>\n",
              "      <td>Normal</td>\n",
              "      <td>223500</td>\n",
              "    </tr>\n",
              "    <tr>\n",
              "      <th>3</th>\n",
              "      <td>4</td>\n",
              "      <td>70</td>\n",
              "      <td>RL</td>\n",
              "      <td>60.0</td>\n",
              "      <td>9550</td>\n",
              "      <td>Pave</td>\n",
              "      <td>NaN</td>\n",
              "      <td>IR1</td>\n",
              "      <td>Lvl</td>\n",
              "      <td>AllPub</td>\n",
              "      <td>...</td>\n",
              "      <td>0</td>\n",
              "      <td>NaN</td>\n",
              "      <td>NaN</td>\n",
              "      <td>NaN</td>\n",
              "      <td>0</td>\n",
              "      <td>2</td>\n",
              "      <td>2006</td>\n",
              "      <td>WD</td>\n",
              "      <td>Abnorml</td>\n",
              "      <td>140000</td>\n",
              "    </tr>\n",
              "    <tr>\n",
              "      <th>4</th>\n",
              "      <td>5</td>\n",
              "      <td>60</td>\n",
              "      <td>RL</td>\n",
              "      <td>84.0</td>\n",
              "      <td>14260</td>\n",
              "      <td>Pave</td>\n",
              "      <td>NaN</td>\n",
              "      <td>IR1</td>\n",
              "      <td>Lvl</td>\n",
              "      <td>AllPub</td>\n",
              "      <td>...</td>\n",
              "      <td>0</td>\n",
              "      <td>NaN</td>\n",
              "      <td>NaN</td>\n",
              "      <td>NaN</td>\n",
              "      <td>0</td>\n",
              "      <td>12</td>\n",
              "      <td>2008</td>\n",
              "      <td>WD</td>\n",
              "      <td>Normal</td>\n",
              "      <td>250000</td>\n",
              "    </tr>\n",
              "  </tbody>\n",
              "</table>\n",
              "<p>5 rows × 81 columns</p>\n",
              "</div>\n",
              "      <button class=\"colab-df-convert\" onclick=\"convertToInteractive('df-5f954734-ab06-4e0b-9dbd-3a31ca637b31')\"\n",
              "              title=\"Convert this dataframe to an interactive table.\"\n",
              "              style=\"display:none;\">\n",
              "        \n",
              "  <svg xmlns=\"http://www.w3.org/2000/svg\" height=\"24px\"viewBox=\"0 0 24 24\"\n",
              "       width=\"24px\">\n",
              "    <path d=\"M0 0h24v24H0V0z\" fill=\"none\"/>\n",
              "    <path d=\"M18.56 5.44l.94 2.06.94-2.06 2.06-.94-2.06-.94-.94-2.06-.94 2.06-2.06.94zm-11 1L8.5 8.5l.94-2.06 2.06-.94-2.06-.94L8.5 2.5l-.94 2.06-2.06.94zm10 10l.94 2.06.94-2.06 2.06-.94-2.06-.94-.94-2.06-.94 2.06-2.06.94z\"/><path d=\"M17.41 7.96l-1.37-1.37c-.4-.4-.92-.59-1.43-.59-.52 0-1.04.2-1.43.59L10.3 9.45l-7.72 7.72c-.78.78-.78 2.05 0 2.83L4 21.41c.39.39.9.59 1.41.59.51 0 1.02-.2 1.41-.59l7.78-7.78 2.81-2.81c.8-.78.8-2.07 0-2.86zM5.41 20L4 18.59l7.72-7.72 1.47 1.35L5.41 20z\"/>\n",
              "  </svg>\n",
              "      </button>\n",
              "      \n",
              "  <style>\n",
              "    .colab-df-container {\n",
              "      display:flex;\n",
              "      flex-wrap:wrap;\n",
              "      gap: 12px;\n",
              "    }\n",
              "\n",
              "    .colab-df-convert {\n",
              "      background-color: #E8F0FE;\n",
              "      border: none;\n",
              "      border-radius: 50%;\n",
              "      cursor: pointer;\n",
              "      display: none;\n",
              "      fill: #1967D2;\n",
              "      height: 32px;\n",
              "      padding: 0 0 0 0;\n",
              "      width: 32px;\n",
              "    }\n",
              "\n",
              "    .colab-df-convert:hover {\n",
              "      background-color: #E2EBFA;\n",
              "      box-shadow: 0px 1px 2px rgba(60, 64, 67, 0.3), 0px 1px 3px 1px rgba(60, 64, 67, 0.15);\n",
              "      fill: #174EA6;\n",
              "    }\n",
              "\n",
              "    [theme=dark] .colab-df-convert {\n",
              "      background-color: #3B4455;\n",
              "      fill: #D2E3FC;\n",
              "    }\n",
              "\n",
              "    [theme=dark] .colab-df-convert:hover {\n",
              "      background-color: #434B5C;\n",
              "      box-shadow: 0px 1px 3px 1px rgba(0, 0, 0, 0.15);\n",
              "      filter: drop-shadow(0px 1px 2px rgba(0, 0, 0, 0.3));\n",
              "      fill: #FFFFFF;\n",
              "    }\n",
              "  </style>\n",
              "\n",
              "      <script>\n",
              "        const buttonEl =\n",
              "          document.querySelector('#df-5f954734-ab06-4e0b-9dbd-3a31ca637b31 button.colab-df-convert');\n",
              "        buttonEl.style.display =\n",
              "          google.colab.kernel.accessAllowed ? 'block' : 'none';\n",
              "\n",
              "        async function convertToInteractive(key) {\n",
              "          const element = document.querySelector('#df-5f954734-ab06-4e0b-9dbd-3a31ca637b31');\n",
              "          const dataTable =\n",
              "            await google.colab.kernel.invokeFunction('convertToInteractive',\n",
              "                                                     [key], {});\n",
              "          if (!dataTable) return;\n",
              "\n",
              "          const docLinkHtml = 'Like what you see? Visit the ' +\n",
              "            '<a target=\"_blank\" href=https://colab.research.google.com/notebooks/data_table.ipynb>data table notebook</a>'\n",
              "            + ' to learn more about interactive tables.';\n",
              "          element.innerHTML = '';\n",
              "          dataTable['output_type'] = 'display_data';\n",
              "          await google.colab.output.renderOutput(dataTable, element);\n",
              "          const docLink = document.createElement('div');\n",
              "          docLink.innerHTML = docLinkHtml;\n",
              "          element.appendChild(docLink);\n",
              "        }\n",
              "      </script>\n",
              "    </div>\n",
              "  </div>\n",
              "  "
            ]
          },
          "metadata": {},
          "execution_count": 2
        }
      ],
      "source": [
        "#Importing the dataset:\n",
        "from google.colab import files\n",
        "uploaded = files.upload()\n",
        "df = pd.read_csv(io.BytesIO(uploaded['train.csv']))\n",
        "df.head()"
      ]
    },
    {
      "cell_type": "code",
      "execution_count": null,
      "metadata": {
        "id": "eZjMdfxMB04n"
      },
      "outputs": [],
      "source": [
        "#Dividing into train, test and validation:\n",
        "#train, test = train_test_split(df, test_size = 0.3, random_state = 7)\n",
        "#train, val = train_test_split(train, test_size = 0.3, random_state = 7)"
      ]
    },
    {
      "cell_type": "code",
      "execution_count": null,
      "metadata": {
        "id": "z8VyCd21hPd8"
      },
      "outputs": [],
      "source": [
        "#creating all data with all of them to threat the whole base as one:\n",
        "#all_data = pd.concat((train.loc[:,'MSSubClass':'SaleCondition'],\n",
        " #                     val.loc[:,'MSSubClass':'SaleCondition'],\n",
        "  #                    test.loc[:,'MSSubClass':'SaleCondition']))\n"
      ]
    },
    {
      "cell_type": "markdown",
      "metadata": {
        "id": "Tx7jwdYsBCfK"
      },
      "source": [
        "(A) Creating a function\n"
      ]
    },
    {
      "cell_type": "code",
      "execution_count": null,
      "metadata": {
        "id": "e-Iafj2_gqEN"
      },
      "outputs": [],
      "source": [
        "#The following code it is what we first thought of doing. But it went wrong...\n",
        "\n",
        "#Using a basic treatment to create the matrix:\n",
        "\n",
        "#train[\"SalePrice\"] = np.log1p(train[\"SalePrice\"])\n",
        "#numeric_feats = all_data.dtypes[all_data.dtypes != \"object\"].index\n",
        "#all_data = pd.get_dummies(all_data)\n",
        "#all_data = all_data.fillna(all_data.mean())\n",
        "\n",
        "#Creating matrixes \n",
        "#X_train = all_data[:train.shape[0]]\n",
        "#X_test = all_data[train.shape[0]:]\n",
        "#y_train = train.SalePrice\n",
        "#y_test = test.SalePrice"
      ]
    },
    {
      "cell_type": "code",
      "execution_count": null,
      "metadata": {
        "id": "IOZWZWzMiUhO"
      },
      "outputs": [],
      "source": [
        "#Defining accuracy measures:\n",
        "#def mape(Y_actual, Y_Predicted):\n",
        "#    mape = np.mean(np.abs( Y_actual - Y_Predicted)/Y_actual)*100\n",
        "#    mape = round(mape,2)\n",
        "#    return mape"
      ]
    },
    {
      "cell_type": "code",
      "execution_count": null,
      "metadata": {
        "id": "DV1Okmlght0c"
      },
      "outputs": [],
      "source": [
        "#all_n_estimators = [10, 50, 100, 250, 500, 1000, 5000]\n",
        "#max_depth = (n_depth)\n",
        "#mape_list = []\n",
        "#n_estimators_list = []"
      ]
    },
    {
      "cell_type": "code",
      "execution_count": null,
      "metadata": {
        "id": "_RWEhoQGi69X"
      },
      "outputs": [],
      "source": [
        "#the first function that failed:\n",
        "#for n_estimators in all_n_estimators:\n",
        "#    print('n_estimators', n_estimators )\n",
        "              \n",
        "#    ADA = AdaBoostRegressor(\n",
        "#        n_estimators=n_estimators\n",
        "#    ).fit(X_train, y_train)\n",
        "        \n",
        "#    pred = ADA.predict(X_test)\n",
        "        \n",
        "#    accuracy = mape(y_test, np.exp(pred))\n",
        "        \n",
        "#    mape_list.append(accuracy)\n",
        "#    n_estimators_list.append(n_estimators)\n",
        "\n",
        "# results = pd.DataFrame({\n",
        "#   'n_estimators': n_estimators_list,\n",
        "#    'MAPE': mape_list\n",
        "#})             "
      ]
    },
    {
      "cell_type": "code",
      "execution_count": null,
      "metadata": {
        "id": "1DhwEd2bLVSi"
      },
      "outputs": [],
      "source": [
        "# Our actual option:\n",
        "## The idea was based on: https://towardsdatascience.com/adaboost-from-scratch-37a936da3d50\n",
        "df2 = df #for exercise 1.3\n",
        "df3 = df #for exercise 1.4\n",
        "\n",
        "#Listing explanatory features\n",
        "\n",
        "#listing the features used on the adaboost code:\n",
        "features = ['OverallQual', 'GrLivArea', 'GarageCars']\n",
        "features_y = ['OverallQual', 'GrLivArea', 'GarageCars', 'SalePrice']\n",
        "df = df[features_y]"
      ]
    },
    {
      "cell_type": "code",
      "execution_count": null,
      "metadata": {
        "colab": {
          "base_uri": "https://localhost:8080/",
          "height": 377
        },
        "id": "AHRucxmkLXon",
        "outputId": "ceffd068-0659-4eb0-c3e7-64f6afb156bd"
      },
      "outputs": [
        {
          "output_type": "stream",
          "name": "stderr",
          "text": [
            "/usr/local/lib/python3.7/dist-packages/ipykernel_launcher.py:3: SettingWithCopyWarning: \n",
            "A value is trying to be set on a copy of a slice from a DataFrame.\n",
            "Try using .loc[row_indexer,col_indexer] = value instead\n",
            "\n",
            "See the caveats in the documentation: https://pandas.pydata.org/pandas-docs/stable/user_guide/indexing.html#returning-a-view-versus-a-copy\n",
            "  This is separate from the ipykernel package so we can avoid doing imports until\n"
          ]
        },
        {
          "output_type": "execute_result",
          "data": {
            "text/plain": [
              "   OverallQual  GrLivArea  GarageCars SalePrice\n",
              "0            7       1710           2         1\n",
              "1            6       1262           2         1\n",
              "2            7       1786           2         1\n",
              "3            7       1717           3        -1\n",
              "4            8       2198           3         1"
            ],
            "text/html": [
              "\n",
              "  <div id=\"df-5285d064-72b4-4bdb-9783-d0f9aa61887e\">\n",
              "    <div class=\"colab-df-container\">\n",
              "      <div>\n",
              "<style scoped>\n",
              "    .dataframe tbody tr th:only-of-type {\n",
              "        vertical-align: middle;\n",
              "    }\n",
              "\n",
              "    .dataframe tbody tr th {\n",
              "        vertical-align: top;\n",
              "    }\n",
              "\n",
              "    .dataframe thead th {\n",
              "        text-align: right;\n",
              "    }\n",
              "</style>\n",
              "<table border=\"1\" class=\"dataframe\">\n",
              "  <thead>\n",
              "    <tr style=\"text-align: right;\">\n",
              "      <th></th>\n",
              "      <th>OverallQual</th>\n",
              "      <th>GrLivArea</th>\n",
              "      <th>GarageCars</th>\n",
              "      <th>SalePrice</th>\n",
              "    </tr>\n",
              "  </thead>\n",
              "  <tbody>\n",
              "    <tr>\n",
              "      <th>0</th>\n",
              "      <td>7</td>\n",
              "      <td>1710</td>\n",
              "      <td>2</td>\n",
              "      <td>1</td>\n",
              "    </tr>\n",
              "    <tr>\n",
              "      <th>1</th>\n",
              "      <td>6</td>\n",
              "      <td>1262</td>\n",
              "      <td>2</td>\n",
              "      <td>1</td>\n",
              "    </tr>\n",
              "    <tr>\n",
              "      <th>2</th>\n",
              "      <td>7</td>\n",
              "      <td>1786</td>\n",
              "      <td>2</td>\n",
              "      <td>1</td>\n",
              "    </tr>\n",
              "    <tr>\n",
              "      <th>3</th>\n",
              "      <td>7</td>\n",
              "      <td>1717</td>\n",
              "      <td>3</td>\n",
              "      <td>-1</td>\n",
              "    </tr>\n",
              "    <tr>\n",
              "      <th>4</th>\n",
              "      <td>8</td>\n",
              "      <td>2198</td>\n",
              "      <td>3</td>\n",
              "      <td>1</td>\n",
              "    </tr>\n",
              "  </tbody>\n",
              "</table>\n",
              "</div>\n",
              "      <button class=\"colab-df-convert\" onclick=\"convertToInteractive('df-5285d064-72b4-4bdb-9783-d0f9aa61887e')\"\n",
              "              title=\"Convert this dataframe to an interactive table.\"\n",
              "              style=\"display:none;\">\n",
              "        \n",
              "  <svg xmlns=\"http://www.w3.org/2000/svg\" height=\"24px\"viewBox=\"0 0 24 24\"\n",
              "       width=\"24px\">\n",
              "    <path d=\"M0 0h24v24H0V0z\" fill=\"none\"/>\n",
              "    <path d=\"M18.56 5.44l.94 2.06.94-2.06 2.06-.94-2.06-.94-.94-2.06-.94 2.06-2.06.94zm-11 1L8.5 8.5l.94-2.06 2.06-.94-2.06-.94L8.5 2.5l-.94 2.06-2.06.94zm10 10l.94 2.06.94-2.06 2.06-.94-2.06-.94-.94-2.06-.94 2.06-2.06.94z\"/><path d=\"M17.41 7.96l-1.37-1.37c-.4-.4-.92-.59-1.43-.59-.52 0-1.04.2-1.43.59L10.3 9.45l-7.72 7.72c-.78.78-.78 2.05 0 2.83L4 21.41c.39.39.9.59 1.41.59.51 0 1.02-.2 1.41-.59l7.78-7.78 2.81-2.81c.8-.78.8-2.07 0-2.86zM5.41 20L4 18.59l7.72-7.72 1.47 1.35L5.41 20z\"/>\n",
              "  </svg>\n",
              "      </button>\n",
              "      \n",
              "  <style>\n",
              "    .colab-df-container {\n",
              "      display:flex;\n",
              "      flex-wrap:wrap;\n",
              "      gap: 12px;\n",
              "    }\n",
              "\n",
              "    .colab-df-convert {\n",
              "      background-color: #E8F0FE;\n",
              "      border: none;\n",
              "      border-radius: 50%;\n",
              "      cursor: pointer;\n",
              "      display: none;\n",
              "      fill: #1967D2;\n",
              "      height: 32px;\n",
              "      padding: 0 0 0 0;\n",
              "      width: 32px;\n",
              "    }\n",
              "\n",
              "    .colab-df-convert:hover {\n",
              "      background-color: #E2EBFA;\n",
              "      box-shadow: 0px 1px 2px rgba(60, 64, 67, 0.3), 0px 1px 3px 1px rgba(60, 64, 67, 0.15);\n",
              "      fill: #174EA6;\n",
              "    }\n",
              "\n",
              "    [theme=dark] .colab-df-convert {\n",
              "      background-color: #3B4455;\n",
              "      fill: #D2E3FC;\n",
              "    }\n",
              "\n",
              "    [theme=dark] .colab-df-convert:hover {\n",
              "      background-color: #434B5C;\n",
              "      box-shadow: 0px 1px 3px 1px rgba(0, 0, 0, 0.15);\n",
              "      filter: drop-shadow(0px 1px 2px rgba(0, 0, 0, 0.3));\n",
              "      fill: #FFFFFF;\n",
              "    }\n",
              "  </style>\n",
              "\n",
              "      <script>\n",
              "        const buttonEl =\n",
              "          document.querySelector('#df-5285d064-72b4-4bdb-9783-d0f9aa61887e button.colab-df-convert');\n",
              "        buttonEl.style.display =\n",
              "          google.colab.kernel.accessAllowed ? 'block' : 'none';\n",
              "\n",
              "        async function convertToInteractive(key) {\n",
              "          const element = document.querySelector('#df-5285d064-72b4-4bdb-9783-d0f9aa61887e');\n",
              "          const dataTable =\n",
              "            await google.colab.kernel.invokeFunction('convertToInteractive',\n",
              "                                                     [key], {});\n",
              "          if (!dataTable) return;\n",
              "\n",
              "          const docLinkHtml = 'Like what you see? Visit the ' +\n",
              "            '<a target=\"_blank\" href=https://colab.research.google.com/notebooks/data_table.ipynb>data table notebook</a>'\n",
              "            + ' to learn more about interactive tables.';\n",
              "          element.innerHTML = '';\n",
              "          dataTable['output_type'] = 'display_data';\n",
              "          await google.colab.output.renderOutput(dataTable, element);\n",
              "          const docLink = document.createElement('div');\n",
              "          docLink.innerHTML = docLinkHtml;\n",
              "          element.appendChild(docLink);\n",
              "        }\n",
              "      </script>\n",
              "    </div>\n",
              "  </div>\n",
              "  "
            ]
          },
          "metadata": {},
          "execution_count": 10
        }
      ],
      "source": [
        "## Changing the problem for a classification one\n",
        "\n",
        "df['SalePrice'] = pd.qcut(df['SalePrice'],q = 2, labels = [-1, 1])\n",
        "df.head()"
      ]
    },
    {
      "cell_type": "markdown",
      "metadata": {
        "id": "Sz8N-YTgtWuP"
      },
      "source": [
        "1 (A) and (B)\n"
      ]
    },
    {
      "cell_type": "code",
      "execution_count": null,
      "metadata": {
        "id": "rK24QIYzLai4"
      },
      "outputs": [],
      "source": [
        "#Steps of the fuctions:\n",
        "\n",
        "##Computing error\n",
        "\n",
        "def compute_error (y, y_pred, w_i):\n",
        "    return (sum(w_i* (np.not_equal(y, y_pred)).astype(int)))/sum(w_i)\n",
        "\n",
        "## Weights of weak classifiers \n",
        "\n",
        "def compute_alpha(error):\n",
        "    return np.log((1-error) / error)\n",
        "\n",
        "##Update weights after boosting interaction\n",
        "\n",
        "def update_weights(w_i, alpha, y, y_pred):\n",
        "    return w_i* np.exp(alpha * (np.not_equal(y, y_pred)).astype(int))"
      ]
    },
    {
      "cell_type": "code",
      "execution_count": null,
      "metadata": {
        "id": "tHWak_R5LhJo"
      },
      "outputs": [],
      "source": [
        "# Define AdaBoost for classification:\n",
        "class AdaBoost:\n",
        "    \n",
        "    def __init__(self):\n",
        "        self.alphas = []\n",
        "        self.G_M = []\n",
        "        self.M = None\n",
        "        self.training_errors = []\n",
        "        self.prediction_errors = []\n",
        "\n",
        "    def fit(self, X, y, M = 100):\n",
        "        '''\n",
        "        Fit model. Arguments:\n",
        "        X: independent variables - array-like matrix\n",
        "        y: target variable - array-like vector\n",
        "        M: number of boosting rounds. Default is 100 - integer\n",
        "        '''\n",
        "        \n",
        "        # Clear before calling\n",
        "        self.alphas = [] \n",
        "        self.training_errors = []\n",
        "        self.M = M\n",
        "\n",
        "        # Iterate over M weak classifiers\n",
        "        for m in range(0, M):\n",
        "            \n",
        "            # Set weights for current boosting iteration\n",
        "            if m == 0:\n",
        "                w_i = np.ones(len(y)) * 1 / len(y)  # At m = 0, weights are all the same and equal to 1 / N\n",
        "            else:\n",
        "                # (d) Update w_i\n",
        "                w_i = update_weights(w_i, alpha_m, y, y_pred)\n",
        "            \n",
        "            # (a) Fit weak classifier and predict labels\n",
        "            G_m = DecisionTreeClassifier(max_depth = 1)     # Stump: Two terminal-node classification tree\n",
        "            G_m.fit(X, y, sample_weight = w_i)\n",
        "            y_pred = G_m.predict(X)\n",
        "            \n",
        "            self.G_M.append(G_m) # Save to list of weak classifiers\n",
        "\n",
        "            # (b) Compute error\n",
        "            error_m = compute_error(y, y_pred, w_i)\n",
        "            self.training_errors.append(error_m)\n",
        "\n",
        "            # (c) Compute alpha\n",
        "            alpha_m = compute_alpha(error_m)\n",
        "            self.alphas.append(alpha_m)\n",
        "\n",
        "        assert len(self.G_M) == len(self.alphas)\n",
        "\n",
        "    def predict(self, X):\n",
        "\n",
        "        weak_preds = pd.DataFrame(index = range(len(X)), columns = range(self.M)) \n",
        "\n",
        "        for m in range(self.M):\n",
        "            y_pred_m = self.G_M[m].predict(X) * self.alphas[m]\n",
        "            weak_preds.iloc[:,m] = y_pred_m\n",
        "\n",
        "        y_pred = (1 * np.sign(weak_preds.T.sum())).astype(int)\n",
        "\n",
        "        return y_pred       \n",
        "\n",
        "\n",
        "#the code was based on: https://towardsdatascience.com/adaboost-from-scratch-37a936da3d50\n"
      ]
    },
    {
      "cell_type": "code",
      "execution_count": null,
      "metadata": {
        "id": "Xay5D-wpLpGv"
      },
      "outputs": [],
      "source": [
        "## Dividing into train and test:\n",
        "train, test = train_test_split(df, test_size=0.3, random_state=7)\n",
        "\n",
        "X_train = df[:train.shape[0]]\n",
        "X_test = df[train.shape[0]:]\n",
        "y_train = train.SalePrice\n",
        "y_test = test.SalePrice"
      ]
    },
    {
      "cell_type": "code",
      "execution_count": null,
      "metadata": {
        "colab": {
          "base_uri": "https://localhost:8080/"
        },
        "id": "C3BNDJ_iLug4",
        "outputId": "6a92d01b-9e96-4935-f297-bae5e9f48057"
      },
      "outputs": [
        {
          "output_type": "stream",
          "name": "stdout",
          "text": [
            "The ROC-AUC score of the model is: 0.5084\n"
          ]
        }
      ],
      "source": [
        "from sklearn.tree import DecisionTreeClassifier\n",
        "from sklearn.metrics import roc_auc_score\n",
        "\n",
        "def mape(Y_actual, Y_Predicted):\n",
        "    mape = np.mean(np.abs( Y_actual - Y_Predicted)/Y_actual)*100\n",
        "    mape = mape.round(2)\n",
        "    return mape\n",
        "\n",
        "# Predict\n",
        "\n",
        "ab = AdaBoost()\n",
        "ab.fit(X_train, y_train, M = 400)\n",
        "\n",
        "# Predict on test set\n",
        "y_pred = ab.predict(X_test)\n",
        "print('The ROC-AUC score of the model is:', round(roc_auc_score(y_test, y_pred), 4))"
      ]
    },
    {
      "cell_type": "markdown",
      "metadata": {
        "id": "x1zKsNNpkfEg"
      },
      "source": [
        "1(C)"
      ]
    },
    {
      "cell_type": "code",
      "execution_count": null,
      "metadata": {
        "colab": {
          "base_uri": "https://localhost:8080/",
          "height": 194
        },
        "id": "H-f8AMx843kQ",
        "outputId": "38ccec8b-98d1-4bc1-ab3d-74d0ef0a568f"
      },
      "outputs": [
        {
          "output_type": "display_data",
          "data": {
            "text/plain": [
              "<Figure size 720x360 with 1 Axes>"
            ],
            "image/png": "[encoded data removed]"
          },
          "metadata": {
            "needs_background": "light"
          }
        }
      ],
      "source": [
        "plt.figure(figsize=(10,5))\n",
        "plt.plot(ab.training_errors)\n",
        "plt.title('Training error rates by M')\n",
        "plt.hlines(0.5, 0, 400, colors = 'indigo', linestyles='dashed')\n",
        "plt.xlabel('M')\n",
        "plt.show()"
      ]
    },
    {
      "cell_type": "markdown",
      "metadata": {
        "id": "PHPqTEials85"
      },
      "source": [
        "2(A) Adding max depth:\n"
      ]
    },
    {
      "cell_type": "code",
      "execution_count": null,
      "metadata": {
        "id": "qhMSJyuc4jZG"
      },
      "outputs": [],
      "source": [
        "class AdaBoost:\n",
        "    \n",
        "    def __init__(self):\n",
        "        self.alphas = []\n",
        "        self.G_M = []\n",
        "        self.M = None\n",
        "        self.training_errors = []\n",
        "        self.prediction_errors = []\n",
        "        self.depth = []     #to include max depth, we will create a self.depth here\n",
        "\n",
        "    def fit(self, X, y, depth = 1, M = 100):\n",
        "        '''\n",
        "        Fit model. Arguments:\n",
        "        X: independent variables - array-like matrix\n",
        "        y: target variable - array-like vector\n",
        "        Depth: Max depth with default 1.\n",
        "        M: number of boosting rounds. Default is 100 - integer\n",
        "        '''\n",
        "        \n",
        "        # Clear before calling\n",
        "        self.alphas = [] \n",
        "        self.training_errors = []\n",
        "        self.M = M\n",
        "\n",
        "        # Iterate over M weak classifiers\n",
        "        for m in range(0, M):\n",
        "            \n",
        "            # Set weights for current boosting iteration\n",
        "            if m == 0:\n",
        "                w_i = np.ones(len(y)) * 1 / len(y)  \n",
        "            else:\n",
        "                # (d) Update w_i\n",
        "                w_i = update_weights(w_i, alpha_m, y, y_pred)\n",
        "            \n",
        "            # (a) Fit weak classifier and predict labels\n",
        "            G_m = DecisionTreeClassifier(max_depth = depth)     \n",
        "            G_m.fit(X, y, sample_weight = w_i)\n",
        "            y_pred = G_m.predict(X)\n",
        "            \n",
        "            self.G_M.append(G_m) \n",
        "\n",
        "            # (b) Compute error\n",
        "            error_m = compute_error(y, y_pred, w_i)\n",
        "            self.training_errors.append(error_m)\n",
        "\n",
        "            # (c) Compute alpha\n",
        "            alpha_m = compute_alpha(error_m)\n",
        "            self.alphas.append(alpha_m)\n",
        "\n",
        "        assert len(self.G_M) == len(self.alphas)\n",
        "\n",
        "    def predict(self, X):\n",
        "\n",
        "        weak_preds = pd.DataFrame(index = range(len(X)), columns = range(self.M)) \n",
        "\n",
        "        for m in range(self.M):\n",
        "            y_pred_m = self.G_M[m].predict(X) * self.alphas[m]\n",
        "            weak_preds.iloc[:,m] = y_pred_m\n",
        "\n",
        "        y_pred = (1 * np.sign(weak_preds.T.sum())).astype(int)\n",
        "\n",
        "        return y_pred      \n"
      ]
    },
    {
      "cell_type": "code",
      "execution_count": null,
      "metadata": {
        "colab": {
          "base_uri": "https://localhost:8080/"
        },
        "id": "TCcUST-W5xhE",
        "outputId": "d7a34d75-13ef-43cf-d31f-4108c967f291"
      },
      "outputs": [
        {
          "output_type": "stream",
          "name": "stdout",
          "text": [
            "The ROC-AUC score of the model is: 0.497\n"
          ]
        }
      ],
      "source": [
        "# Predict\n",
        "\n",
        "ab = AdaBoost()\n",
        "ab.fit(X_train, y_train, depth = 50, M = 400)\n",
        "y_pred = ab.predict(X_test)\n",
        "print('The ROC-AUC score of the model is:', round(roc_auc_score(y_test, y_pred), 4))"
      ]
    },
    {
      "cell_type": "markdown",
      "metadata": {
        "id": "W1IGnN096Z9C"
      },
      "source": [
        "(B) Plotting it:"
      ]
    },
    {
      "cell_type": "code",
      "execution_count": null,
      "metadata": {
        "colab": {
          "base_uri": "https://localhost:8080/",
          "height": 198
        },
        "id": "92VpWtG96TTC",
        "outputId": "d7cf44d9-718d-45aa-e50a-df50a3a526f1"
      },
      "outputs": [
        {
          "output_type": "display_data",
          "data": {
            "text/plain": [
              "<Figure size 720x360 with 1 Axes>"
            ],
            "image/png": "[encoded data removed]"
          },
          "metadata": {
            "needs_background": "light"
          }
        }
      ],
      "source": [
        "plt.figure(figsize=(10,5))\n",
        "plt.plot(ab.training_errors)\n",
        "plt.title('Training error rates by M')\n",
        "plt.hlines(0.5, 0, 400, colors = 'indigo', linestyles='dashed')\n",
        "plt.xlabel('M')\n",
        "plt.show()"
      ]
    },
    {
      "cell_type": "markdown",
      "metadata": {
        "id": "bOeDmjW8_o80"
      },
      "source": [
        "The graph above shows us that the training error rates increase significaantly between 0 and 50 M. "
      ]
    },
    {
      "cell_type": "markdown",
      "metadata": {
        "id": "D20VwVLk7KYU"
      },
      "source": [
        "(3) Modifying the function to allow a 3-value classification:\n",
        "\n",
        "Here, we first tried to change the function where the alpha is replaced by an \"i,\" which equals 3 — trying to make the classification be three objects (which clearly went wrong)."
      ]
    },
    {
      "cell_type": "code",
      "execution_count": null,
      "metadata": {
        "id": "aFkSMopD7JJn"
      },
      "outputs": [],
      "source": [
        "#class AdaBoost:\n",
        "  \n",
        " #   def __init__(self):\n",
        "#      self.i = []\n",
        "#    self.G_M = []\n",
        "#       self.M = None\n",
        "#        self.training_errors = []\n",
        "#        self.prediction_errors = []\n",
        "#        self.depth = []     \n",
        "\n",
        "#    def fit(self, X, y, i = 3, depth = 1, M = 100): #change alpha to \"i\" that is = 3\n",
        "      #       '''\n",
        " #      Fit model. Arguments:\n",
        " #       i: 3 \n",
        " #       X: independent variables - array-like matrix\n",
        " #       y: target variable - array-like vector\n",
        " #       Depth: Max depth with default 1.\n",
        " #       M: number of boosting rounds. Default is 100 - integer\n",
        " #       '''\n",
        "        \n",
        "        # Clear before calling\n",
        "  #      self.i = [] \n",
        "  #      self.training_errors = []\n",
        "  #      self.M = M\n",
        "\n",
        "        # Iterate over M weak classifiers\n",
        "#        for m in range(0, M):\n",
        "            \n",
        "            # Set weights for current boosting iteration\n",
        "#            if m == 0:\n",
        "#                w_i = np.ones(len(y)) * 1 / len(y)  \n",
        "#            else:\n",
        "                # (d) Update w_i\n",
        "#                w_i = update_weights(w_i, alpha_m, y, y_pred)\n",
        "            \n",
        "            # (a) Fit weak classifier and predict labels\n",
        "#            G_m = DecisionTreeClassifier(max_depth = depth)     \n",
        "#            G_m.fit(X, y, sample_weight = w_i)\n",
        "#            y_pred = G_m.predict(X)\n",
        "            \n",
        "#            self.G_M.append(G_m) \n",
        "\n",
        "            # (b) Compute error\n",
        " #           error_m = compute_error(y, y_pred, w_i)\n",
        "#            self.training_errors.append(error_m)\n",
        "\n",
        "#        assert len(self.G_M) == len(self.i)\n",
        "\n",
        "#    def predict(self, X):\n",
        "\n",
        "#        weak_preds = pd.DataFrame(index = range(len(X)), columns = range(self.M)) \n",
        "\n",
        " #       for m in range(self.M):\n",
        " #           y_pred_m = self.G_M[m].predict(X) * self.i[m]\n",
        " #           weak_preds.iloc[:,m] = y_pred_m\n",
        "\n",
        " #       y_pred = (1 * np.sign(weak_preds.T.sum())).astype(int)\n",
        "\n",
        " #       return y_pred      \n"
      ]
    },
    {
      "cell_type": "code",
      "execution_count": null,
      "metadata": {
        "id": "7Mv3S-Va8zpc"
      },
      "outputs": [],
      "source": [
        "#ab = AdaBoost()\n",
        "#ab.fit(X_train, y_train, i, depth = 100, M = 400)\n",
        "#y_pred = ab.predict(X_test)\n",
        "#print('The ROC-AUC score of the model is:', round(roc_auc_score(y_test, y_pred), 4))"
      ]
    },
    {
      "cell_type": "markdown",
      "metadata": {
        "id": "7dL0iGk_nlQ7"
      },
      "source": [
        "So, we tried again, but changing other part of our code:"
      ]
    },
    {
      "cell_type": "code",
      "execution_count": null,
      "metadata": {
        "id": "H0J0UKJZnXgJ",
        "colab": {
          "base_uri": "https://localhost:8080/",
          "height": 377
        },
        "outputId": "776f28ca-1c75-4db9-db81-9bb294ecfb46"
      },
      "outputs": [
        {
          "output_type": "stream",
          "name": "stderr",
          "text": [
            "/usr/local/lib/python3.7/dist-packages/ipykernel_launcher.py:2: SettingWithCopyWarning: \n",
            "A value is trying to be set on a copy of a slice from a DataFrame.\n",
            "Try using .loc[row_indexer,col_indexer] = value instead\n",
            "\n",
            "See the caveats in the documentation: https://pandas.pydata.org/pandas-docs/stable/user_guide/indexing.html#returning-a-view-versus-a-copy\n",
            "  \n"
          ]
        },
        {
          "output_type": "execute_result",
          "data": {
            "text/plain": [
              "   OverallQual  GrLivArea  GarageCars SalePrice\n",
              "0            7       1710           2         3\n",
              "1            6       1262           2         2\n",
              "2            7       1786           2         3\n",
              "3            7       1717           3         2\n",
              "4            8       2198           3         3"
            ],
            "text/html": [
              "\n",
              "  <div id=\"df-7b44d673-c665-403c-85e5-a89379d9d92d\">\n",
              "    <div class=\"colab-df-container\">\n",
              "      <div>\n",
              "<style scoped>\n",
              "    .dataframe tbody tr th:only-of-type {\n",
              "        vertical-align: middle;\n",
              "    }\n",
              "\n",
              "    .dataframe tbody tr th {\n",
              "        vertical-align: top;\n",
              "    }\n",
              "\n",
              "    .dataframe thead th {\n",
              "        text-align: right;\n",
              "    }\n",
              "</style>\n",
              "<table border=\"1\" class=\"dataframe\">\n",
              "  <thead>\n",
              "    <tr style=\"text-align: right;\">\n",
              "      <th></th>\n",
              "      <th>OverallQual</th>\n",
              "      <th>GrLivArea</th>\n",
              "      <th>GarageCars</th>\n",
              "      <th>SalePrice</th>\n",
              "    </tr>\n",
              "  </thead>\n",
              "  <tbody>\n",
              "    <tr>\n",
              "      <th>0</th>\n",
              "      <td>7</td>\n",
              "      <td>1710</td>\n",
              "      <td>2</td>\n",
              "      <td>3</td>\n",
              "    </tr>\n",
              "    <tr>\n",
              "      <th>1</th>\n",
              "      <td>6</td>\n",
              "      <td>1262</td>\n",
              "      <td>2</td>\n",
              "      <td>2</td>\n",
              "    </tr>\n",
              "    <tr>\n",
              "      <th>2</th>\n",
              "      <td>7</td>\n",
              "      <td>1786</td>\n",
              "      <td>2</td>\n",
              "      <td>3</td>\n",
              "    </tr>\n",
              "    <tr>\n",
              "      <th>3</th>\n",
              "      <td>7</td>\n",
              "      <td>1717</td>\n",
              "      <td>3</td>\n",
              "      <td>2</td>\n",
              "    </tr>\n",
              "    <tr>\n",
              "      <th>4</th>\n",
              "      <td>8</td>\n",
              "      <td>2198</td>\n",
              "      <td>3</td>\n",
              "      <td>3</td>\n",
              "    </tr>\n",
              "  </tbody>\n",
              "</table>\n",
              "</div>\n",
              "      <button class=\"colab-df-convert\" onclick=\"convertToInteractive('df-7b44d673-c665-403c-85e5-a89379d9d92d')\"\n",
              "              title=\"Convert this dataframe to an interactive table.\"\n",
              "              style=\"display:none;\">\n",
              "        \n",
              "  <svg xmlns=\"http://www.w3.org/2000/svg\" height=\"24px\"viewBox=\"0 0 24 24\"\n",
              "       width=\"24px\">\n",
              "    <path d=\"M0 0h24v24H0V0z\" fill=\"none\"/>\n",
              "    <path d=\"M18.56 5.44l.94 2.06.94-2.06 2.06-.94-2.06-.94-.94-2.06-.94 2.06-2.06.94zm-11 1L8.5 8.5l.94-2.06 2.06-.94-2.06-.94L8.5 2.5l-.94 2.06-2.06.94zm10 10l.94 2.06.94-2.06 2.06-.94-2.06-.94-.94-2.06-.94 2.06-2.06.94z\"/><path d=\"M17.41 7.96l-1.37-1.37c-.4-.4-.92-.59-1.43-.59-.52 0-1.04.2-1.43.59L10.3 9.45l-7.72 7.72c-.78.78-.78 2.05 0 2.83L4 21.41c.39.39.9.59 1.41.59.51 0 1.02-.2 1.41-.59l7.78-7.78 2.81-2.81c.8-.78.8-2.07 0-2.86zM5.41 20L4 18.59l7.72-7.72 1.47 1.35L5.41 20z\"/>\n",
              "  </svg>\n",
              "      </button>\n",
              "      \n",
              "  <style>\n",
              "    .colab-df-container {\n",
              "      display:flex;\n",
              "      flex-wrap:wrap;\n",
              "      gap: 12px;\n",
              "    }\n",
              "\n",
              "    .colab-df-convert {\n",
              "      background-color: #E8F0FE;\n",
              "      border: none;\n",
              "      border-radius: 50%;\n",
              "      cursor: pointer;\n",
              "      display: none;\n",
              "      fill: #1967D2;\n",
              "      height: 32px;\n",
              "      padding: 0 0 0 0;\n",
              "      width: 32px;\n",
              "    }\n",
              "\n",
              "    .colab-df-convert:hover {\n",
              "      background-color: #E2EBFA;\n",
              "      box-shadow: 0px 1px 2px rgba(60, 64, 67, 0.3), 0px 1px 3px 1px rgba(60, 64, 67, 0.15);\n",
              "      fill: #174EA6;\n",
              "    }\n",
              "\n",
              "    [theme=dark] .colab-df-convert {\n",
              "      background-color: #3B4455;\n",
              "      fill: #D2E3FC;\n",
              "    }\n",
              "\n",
              "    [theme=dark] .colab-df-convert:hover {\n",
              "      background-color: #434B5C;\n",
              "      box-shadow: 0px 1px 3px 1px rgba(0, 0, 0, 0.15);\n",
              "      filter: drop-shadow(0px 1px 2px rgba(0, 0, 0, 0.3));\n",
              "      fill: #FFFFFF;\n",
              "    }\n",
              "  </style>\n",
              "\n",
              "      <script>\n",
              "        const buttonEl =\n",
              "          document.querySelector('#df-7b44d673-c665-403c-85e5-a89379d9d92d button.colab-df-convert');\n",
              "        buttonEl.style.display =\n",
              "          google.colab.kernel.accessAllowed ? 'block' : 'none';\n",
              "\n",
              "        async function convertToInteractive(key) {\n",
              "          const element = document.querySelector('#df-7b44d673-c665-403c-85e5-a89379d9d92d');\n",
              "          const dataTable =\n",
              "            await google.colab.kernel.invokeFunction('convertToInteractive',\n",
              "                                                     [key], {});\n",
              "          if (!dataTable) return;\n",
              "\n",
              "          const docLinkHtml = 'Like what you see? Visit the ' +\n",
              "            '<a target=\"_blank\" href=https://colab.research.google.com/notebooks/data_table.ipynb>data table notebook</a>'\n",
              "            + ' to learn more about interactive tables.';\n",
              "          element.innerHTML = '';\n",
              "          dataTable['output_type'] = 'display_data';\n",
              "          await google.colab.output.renderOutput(dataTable, element);\n",
              "          const docLink = document.createElement('div');\n",
              "          docLink.innerHTML = docLinkHtml;\n",
              "          element.appendChild(docLink);\n",
              "        }\n",
              "      </script>\n",
              "    </div>\n",
              "  </div>\n",
              "  "
            ]
          },
          "metadata": {},
          "execution_count": 21
        }
      ],
      "source": [
        "df2 = df2[features_y]\n",
        "df2['SalePrice'] = pd.qcut(df2['SalePrice'], q = 3, labels = [1, 2, 3]) #here we tried by changing q \n",
        "df2.head()"
      ]
    },
    {
      "cell_type": "code",
      "execution_count": null,
      "metadata": {
        "id": "pxSsKENonv6e"
      },
      "outputs": [],
      "source": [
        "#and here we use the same code from before:\n",
        "class AdaBoost:\n",
        "    \n",
        "    def __init__(self):\n",
        "        self.alphas = []\n",
        "        self.G_M = []\n",
        "        self.M = None\n",
        "        self.training_errors = []\n",
        "        self.prediction_errors = []\n",
        "        self.depth = []     #to include max depth, we will create a self.depth here\n",
        "\n",
        "    def fit(self, X, y, depth = 1, M = 100):\n",
        "        '''\n",
        "        Fit model. Arguments:\n",
        "        X: independent variables - array-like matrix\n",
        "        y: target variable - array-like vector\n",
        "        Depth: Max depth with default 1.\n",
        "        M: number of boosting rounds. Default is 100 - integer\n",
        "        '''\n",
        "        \n",
        "        # Clear before calling\n",
        "        self.alphas = [] \n",
        "        self.training_errors = []\n",
        "        self.M = M\n",
        "\n",
        "        # Iterate over M weak classifiers\n",
        "        for m in range(0, M):\n",
        "            \n",
        "            # Set weights for current boosting iteration\n",
        "            if m == 0:\n",
        "                w_i = np.ones(len(y)) * 1 / len(y)  \n",
        "            else:\n",
        "                # (d) Update w_i\n",
        "                w_i = update_weights(w_i, alpha_m, y, y_pred)\n",
        "            \n",
        "            # (a) Fit weak classifier and predict labels\n",
        "            G_m = DecisionTreeClassifier(max_depth = depth)     \n",
        "            G_m.fit(X, y, sample_weight = w_i)\n",
        "            y_pred = G_m.predict(X)\n",
        "            \n",
        "            self.G_M.append(G_m) \n",
        "\n",
        "            # (b) Compute error\n",
        "            error_m = compute_error(y, y_pred, w_i)\n",
        "            self.training_errors.append(error_m)\n",
        "\n",
        "            # (c) Compute alpha\n",
        "            alpha_m = compute_alpha(error_m)\n",
        "            self.alphas.append(alpha_m)\n",
        "\n",
        "        assert len(self.G_M) == len(self.alphas)\n",
        "\n",
        "    def predict(self, X):\n",
        "\n",
        "        weak_preds = pd.DataFrame(index = range(len(X)), columns = range(self.M)) \n",
        "\n",
        "        for m in range(self.M):\n",
        "            y_pred_m = self.G_M[m].predict(X) * self.alphas[m]\n",
        "            weak_preds.iloc[:,m] = y_pred_m\n",
        "\n",
        "        y_pred = (1 * np.sign(weak_preds.T.sum())).astype(int)\n",
        "\n",
        "        return y_pred "
      ]
    },
    {
      "cell_type": "code",
      "execution_count": null,
      "metadata": {
        "colab": {
          "base_uri": "https://localhost:8080/"
        },
        "id": "RwK42wTKoKc_",
        "outputId": "117b0dfa-f840-4236-ebad-cf6ddb8aef07"
      },
      "outputs": [
        {
          "output_type": "stream",
          "name": "stdout",
          "text": [
            "The ROC-AUC score of the model is: 0.4925\n"
          ]
        }
      ],
      "source": [
        "# Predict\n",
        "\n",
        "ab = AdaBoost()\n",
        "ab.fit(X_train, y_train, depth = 50, M = 200)\n",
        "y_pred = ab.predict(X_test)\n",
        "print('The ROC-AUC score of the model is:', round(roc_auc_score(y_test, y_pred), 4))"
      ]
    },
    {
      "cell_type": "markdown",
      "metadata": {
        "id": "tz-hCdOu9-3e"
      },
      "source": [
        "4. Make it work with regressions: \n",
        "\n",
        "\n",
        "\n"
      ]
    },
    {
      "cell_type": "code",
      "execution_count": null,
      "metadata": {
        "id": "duyzpEeWlkVN"
      },
      "outputs": [],
      "source": [
        "from sklearn.tree import DecisionTreeRegressor\n",
        "class AdaBoost:\n",
        "    \n",
        "    def __init__(self):\n",
        "        self.alphas = []\n",
        "        self.G_M = []\n",
        "        self.M = None\n",
        "        self.training_errors = []\n",
        "        self.prediction_errors = []\n",
        "        self.depth = None \n",
        "\n",
        "    def fit(self, X, y, depth = 1, M = 100):\n",
        "        '''\n",
        "        Fit model. Arguments:\n",
        "        X: independent variables - array-like matrix\n",
        "        y: target variable - array-like vector\n",
        "        Depth: Max depth with default 1.\n",
        "        M: number of boosting rounds. Default is 100 - integer\n",
        "        '''\n",
        "        \n",
        "        # Clear before calling\n",
        "        self.alphas = [] \n",
        "        self.training_errors = []\n",
        "        self.M = M\n",
        "\n",
        "        # Iterate over M weak classifiers\n",
        "        for m in range(0, M):\n",
        "            \n",
        "            # Set weights for current boosting iteration\n",
        "            if m == 0:\n",
        "                w_i = np.ones(len(y)) * 1 / len(y)  \n",
        "            else:\n",
        "                # (d) Update w_i\n",
        "                w_i = update_weights(w_i, alpha_m, y, y_pred)\n",
        "            \n",
        "            # (a) Fit weak classifier and predict labels\n",
        "            G_m = DecisionTreeRegressor()  #we change it here!   \n",
        "            G_m.fit(X, y, sample_weight = w_i)\n",
        "            y_pred = G_m.predict(X)\n",
        "            \n",
        "            self.G_M.append(G_m) \n",
        "\n",
        "            # (b) Compute error\n",
        "            error_m = compute_error(y, y_pred, w_i)\n",
        "            self.training_errors.append(error_m)\n",
        "\n",
        "            # (c) Compute alpha\n",
        "            alpha_m = compute_alpha(error_m)\n",
        "            self.alphas.append(alpha_m)\n",
        "\n",
        "        assert len(self.G_M) == len(self.alphas)\n",
        "\n",
        "    def predict(self, X):\n",
        "\n",
        "        weak_preds = pd.DataFrame(index = range(len(X)), columns = range(self.M)) \n",
        "\n",
        "        for m in range(self.M):\n",
        "            y_pred_m = self.G_M[m].predict(X) * self.alphas[m]\n",
        "            weak_preds.iloc[:,m] = y_pred_m\n",
        "\n",
        "        y_pred = (1 * np.sign(weak_preds.T.sum())).astype(int)\n",
        "\n",
        "        return y_pred "
      ]
    },
    {
      "cell_type": "code",
      "execution_count": null,
      "metadata": {
        "id": "g9-yWQZh-yQR"
      },
      "outputs": [],
      "source": [
        "df3 = df3[features_y]"
      ]
    },
    {
      "cell_type": "code",
      "execution_count": null,
      "metadata": {
        "colab": {
          "base_uri": "https://localhost:8080/"
        },
        "id": "Wy29JOqm-k_0",
        "outputId": "364a5172-0079-4aad-c8ce-8c3a682679d7"
      },
      "outputs": [
        {
          "output_type": "stream",
          "name": "stderr",
          "text": [
            "/usr/local/lib/python3.7/dist-packages/ipykernel_launcher.py:2: FutureWarning: In a future version of pandas all arguments of DataFrame.drop except for the argument 'labels' will be keyword-only\n",
            "  \n",
            "/usr/local/lib/python3.7/dist-packages/ipykernel_launcher.py:3: FutureWarning: In a future version of pandas all arguments of DataFrame.drop except for the argument 'labels' will be keyword-only\n",
            "  This is separate from the ipykernel package so we can avoid doing imports until\n"
          ]
        }
      ],
      "source": [
        "train, test = train_test_split(df3, test_size=0.3, random_state=1)\n",
        "X_train = train.drop('SalePrice', 1)\n",
        "X_test = test.drop('SalePrice', 1)\n",
        "y_train = train['SalePrice'].astype(int)\n",
        "y_test = test[ 'SalePrice'].astype(int)"
      ]
    },
    {
      "cell_type": "code",
      "execution_count": null,
      "metadata": {
        "id": "zutdRX7dmXq0"
      },
      "outputs": [],
      "source": [
        "ab = AdaBoost()\n",
        "ab.fit(X_train, y_train, M = 400)\n",
        "y_pred = ab.predict(X_test)"
      ]
    },
    {
      "cell_type": "markdown",
      "metadata": {
        "id": "30naTiEfRxkK"
      },
      "source": [
        "## EXERCISE 2 "
      ]
    },
    {
      "cell_type": "markdown",
      "metadata": {
        "id": "FuOdnOL5R4B6"
      },
      "source": [
        "###I. Download data"
      ]
    },
    {
      "cell_type": "code",
      "execution_count": null,
      "metadata": {
        "colab": {
          "base_uri": "https://localhost:8080/",
          "height": 344,
          "resources": {
            "http://localhost:8080/nbextensions/google.colab/files.js": {
              "data": "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",
              "headers": [
                [
                  "content-type",
                  "application/javascript"
                ]
              ],
              "ok": true,
              "status": 200,
              "status_text": ""
            }
          }
        },
        "id": "4PiS1_c3R3Ne",
        "outputId": "54ee4702-8b73-47a2-9eab-ec61e2e13afa"
      },
      "outputs": [
        {
          "output_type": "display_data",
          "data": {
            "text/plain": [
              "<IPython.core.display.HTML object>"
            ],
            "text/html": [
              "\n",
              "     <input type=\"file\" id=\"files-d0555f35-347d-4100-b722-915c440f9f90\" name=\"files[]\" multiple disabled\n",
              "        style=\"border:none\" />\n",
              "     <output id=\"result-d0555f35-347d-4100-b722-915c440f9f90\">\n",
              "      Upload widget is only available when the cell has been executed in the\n",
              "      current browser session. Please rerun this cell to enable.\n",
              "      </output>\n",
              "      <script src=\"/nbextensions/google.colab/files.js\"></script> "
            ]
          },
          "metadata": {}
        },
        {
          "output_type": "stream",
          "name": "stdout",
          "text": [
            "Saving sloan_survey.csv to sloan_survey.csv\n"
          ]
        },
        {
          "output_type": "execute_result",
          "data": {
            "text/plain": [
              "          objid          ra       dec         u         g         r         i  \\\n",
              "0  1.237650e+18  183.531326  0.089693  19.47406  17.04240  15.94699  15.50342   \n",
              "1  1.237650e+18  183.598370  0.135285  18.66280  17.21449  16.67637  16.48922   \n",
              "2  1.237650e+18  183.680207  0.126185  19.38298  18.19169  17.47428  17.08732   \n",
              "3  1.237650e+18  183.870529  0.049911  17.76536  16.60272  16.16116  15.98233   \n",
              "4  1.237650e+18  183.883288  0.102557  17.55025  16.26342  16.43869  16.55492   \n",
              "\n",
              "          z  run  rerun  camcol  field     specobjid   class  redshift  plate  \\\n",
              "0  15.22531  752    301       4    267  3.722360e+18    STAR -0.000009   3306   \n",
              "1  16.39150  752    301       4    267  3.638140e+17    STAR -0.000055    323   \n",
              "2  16.80125  752    301       4    268  3.232740e+17  GALAXY  0.123111    287   \n",
              "3  15.90438  752    301       4    269  3.722370e+18    STAR -0.000111   3306   \n",
              "4  16.61326  752    301       4    269  3.722370e+18    STAR  0.000590   3306   \n",
              "\n",
              "     mjd  fiberid  \n",
              "0  54922      491  \n",
              "1  51615      541  \n",
              "2  52023      513  \n",
              "3  54922      510  \n",
              "4  54922      512  "
            ],
            "text/html": [
              "\n",
              "  <div id=\"df-003d6a25-0c75-42f2-b66b-c3178f140885\">\n",
              "    <div class=\"colab-df-container\">\n",
              "      <div>\n",
              "<style scoped>\n",
              "    .dataframe tbody tr th:only-of-type {\n",
              "        vertical-align: middle;\n",
              "    }\n",
              "\n",
              "    .dataframe tbody tr th {\n",
              "        vertical-align: top;\n",
              "    }\n",
              "\n",
              "    .dataframe thead th {\n",
              "        text-align: right;\n",
              "    }\n",
              "</style>\n",
              "<table border=\"1\" class=\"dataframe\">\n",
              "  <thead>\n",
              "    <tr style=\"text-align: right;\">\n",
              "      <th></th>\n",
              "      <th>objid</th>\n",
              "      <th>ra</th>\n",
              "      <th>dec</th>\n",
              "      <th>u</th>\n",
              "      <th>g</th>\n",
              "      <th>r</th>\n",
              "      <th>i</th>\n",
              "      <th>z</th>\n",
              "      <th>run</th>\n",
              "      <th>rerun</th>\n",
              "      <th>camcol</th>\n",
              "      <th>field</th>\n",
              "      <th>specobjid</th>\n",
              "      <th>class</th>\n",
              "      <th>redshift</th>\n",
              "      <th>plate</th>\n",
              "      <th>mjd</th>\n",
              "      <th>fiberid</th>\n",
              "    </tr>\n",
              "  </thead>\n",
              "  <tbody>\n",
              "    <tr>\n",
              "      <th>0</th>\n",
              "      <td>1.237650e+18</td>\n",
              "      <td>183.531326</td>\n",
              "      <td>0.089693</td>\n",
              "      <td>19.47406</td>\n",
              "      <td>17.04240</td>\n",
              "      <td>15.94699</td>\n",
              "      <td>15.50342</td>\n",
              "      <td>15.22531</td>\n",
              "      <td>752</td>\n",
              "      <td>301</td>\n",
              "      <td>4</td>\n",
              "      <td>267</td>\n",
              "      <td>3.722360e+18</td>\n",
              "      <td>STAR</td>\n",
              "      <td>-0.000009</td>\n",
              "      <td>3306</td>\n",
              "      <td>54922</td>\n",
              "      <td>491</td>\n",
              "    </tr>\n",
              "    <tr>\n",
              "      <th>1</th>\n",
              "      <td>1.237650e+18</td>\n",
              "      <td>183.598370</td>\n",
              "      <td>0.135285</td>\n",
              "      <td>18.66280</td>\n",
              "      <td>17.21449</td>\n",
              "      <td>16.67637</td>\n",
              "      <td>16.48922</td>\n",
              "      <td>16.39150</td>\n",
              "      <td>752</td>\n",
              "      <td>301</td>\n",
              "      <td>4</td>\n",
              "      <td>267</td>\n",
              "      <td>3.638140e+17</td>\n",
              "      <td>STAR</td>\n",
              "      <td>-0.000055</td>\n",
              "      <td>323</td>\n",
              "      <td>51615</td>\n",
              "      <td>541</td>\n",
              "    </tr>\n",
              "    <tr>\n",
              "      <th>2</th>\n",
              "      <td>1.237650e+18</td>\n",
              "      <td>183.680207</td>\n",
              "      <td>0.126185</td>\n",
              "      <td>19.38298</td>\n",
              "      <td>18.19169</td>\n",
              "      <td>17.47428</td>\n",
              "      <td>17.08732</td>\n",
              "      <td>16.80125</td>\n",
              "      <td>752</td>\n",
              "      <td>301</td>\n",
              "      <td>4</td>\n",
              "      <td>268</td>\n",
              "      <td>3.232740e+17</td>\n",
              "      <td>GALAXY</td>\n",
              "      <td>0.123111</td>\n",
              "      <td>287</td>\n",
              "      <td>52023</td>\n",
              "      <td>513</td>\n",
              "    </tr>\n",
              "    <tr>\n",
              "      <th>3</th>\n",
              "      <td>1.237650e+18</td>\n",
              "      <td>183.870529</td>\n",
              "      <td>0.049911</td>\n",
              "      <td>17.76536</td>\n",
              "      <td>16.60272</td>\n",
              "      <td>16.16116</td>\n",
              "      <td>15.98233</td>\n",
              "      <td>15.90438</td>\n",
              "      <td>752</td>\n",
              "      <td>301</td>\n",
              "      <td>4</td>\n",
              "      <td>269</td>\n",
              "      <td>3.722370e+18</td>\n",
              "      <td>STAR</td>\n",
              "      <td>-0.000111</td>\n",
              "      <td>3306</td>\n",
              "      <td>54922</td>\n",
              "      <td>510</td>\n",
              "    </tr>\n",
              "    <tr>\n",
              "      <th>4</th>\n",
              "      <td>1.237650e+18</td>\n",
              "      <td>183.883288</td>\n",
              "      <td>0.102557</td>\n",
              "      <td>17.55025</td>\n",
              "      <td>16.26342</td>\n",
              "      <td>16.43869</td>\n",
              "      <td>16.55492</td>\n",
              "      <td>16.61326</td>\n",
              "      <td>752</td>\n",
              "      <td>301</td>\n",
              "      <td>4</td>\n",
              "      <td>269</td>\n",
              "      <td>3.722370e+18</td>\n",
              "      <td>STAR</td>\n",
              "      <td>0.000590</td>\n",
              "      <td>3306</td>\n",
              "      <td>54922</td>\n",
              "      <td>512</td>\n",
              "    </tr>\n",
              "  </tbody>\n",
              "</table>\n",
              "</div>\n",
              "      <button class=\"colab-df-convert\" onclick=\"convertToInteractive('df-003d6a25-0c75-42f2-b66b-c3178f140885')\"\n",
              "              title=\"Convert this dataframe to an interactive table.\"\n",
              "              style=\"display:none;\">\n",
              "        \n",
              "  <svg xmlns=\"http://www.w3.org/2000/svg\" height=\"24px\"viewBox=\"0 0 24 24\"\n",
              "       width=\"24px\">\n",
              "    <path d=\"M0 0h24v24H0V0z\" fill=\"none\"/>\n",
              "    <path d=\"M18.56 5.44l.94 2.06.94-2.06 2.06-.94-2.06-.94-.94-2.06-.94 2.06-2.06.94zm-11 1L8.5 8.5l.94-2.06 2.06-.94-2.06-.94L8.5 2.5l-.94 2.06-2.06.94zm10 10l.94 2.06.94-2.06 2.06-.94-2.06-.94-.94-2.06-.94 2.06-2.06.94z\"/><path d=\"M17.41 7.96l-1.37-1.37c-.4-.4-.92-.59-1.43-.59-.52 0-1.04.2-1.43.59L10.3 9.45l-7.72 7.72c-.78.78-.78 2.05 0 2.83L4 21.41c.39.39.9.59 1.41.59.51 0 1.02-.2 1.41-.59l7.78-7.78 2.81-2.81c.8-.78.8-2.07 0-2.86zM5.41 20L4 18.59l7.72-7.72 1.47 1.35L5.41 20z\"/>\n",
              "  </svg>\n",
              "      </button>\n",
              "      \n",
              "  <style>\n",
              "    .colab-df-container {\n",
              "      display:flex;\n",
              "      flex-wrap:wrap;\n",
              "      gap: 12px;\n",
              "    }\n",
              "\n",
              "    .colab-df-convert {\n",
              "      background-color: #E8F0FE;\n",
              "      border: none;\n",
              "      border-radius: 50%;\n",
              "      cursor: pointer;\n",
              "      display: none;\n",
              "      fill: #1967D2;\n",
              "      height: 32px;\n",
              "      padding: 0 0 0 0;\n",
              "      width: 32px;\n",
              "    }\n",
              "\n",
              "    .colab-df-convert:hover {\n",
              "      background-color: #E2EBFA;\n",
              "      box-shadow: 0px 1px 2px rgba(60, 64, 67, 0.3), 0px 1px 3px 1px rgba(60, 64, 67, 0.15);\n",
              "      fill: #174EA6;\n",
              "    }\n",
              "\n",
              "    [theme=dark] .colab-df-convert {\n",
              "      background-color: #3B4455;\n",
              "      fill: #D2E3FC;\n",
              "    }\n",
              "\n",
              "    [theme=dark] .colab-df-convert:hover {\n",
              "      background-color: #434B5C;\n",
              "      box-shadow: 0px 1px 3px 1px rgba(0, 0, 0, 0.15);\n",
              "      filter: drop-shadow(0px 1px 2px rgba(0, 0, 0, 0.3));\n",
              "      fill: #FFFFFF;\n",
              "    }\n",
              "  </style>\n",
              "\n",
              "      <script>\n",
              "        const buttonEl =\n",
              "          document.querySelector('#df-003d6a25-0c75-42f2-b66b-c3178f140885 button.colab-df-convert');\n",
              "        buttonEl.style.display =\n",
              "          google.colab.kernel.accessAllowed ? 'block' : 'none';\n",
              "\n",
              "        async function convertToInteractive(key) {\n",
              "          const element = document.querySelector('#df-003d6a25-0c75-42f2-b66b-c3178f140885');\n",
              "          const dataTable =\n",
              "            await google.colab.kernel.invokeFunction('convertToInteractive',\n",
              "                                                     [key], {});\n",
              "          if (!dataTable) return;\n",
              "\n",
              "          const docLinkHtml = 'Like what you see? Visit the ' +\n",
              "            '<a target=\"_blank\" href=https://colab.research.google.com/notebooks/data_table.ipynb>data table notebook</a>'\n",
              "            + ' to learn more about interactive tables.';\n",
              "          element.innerHTML = '';\n",
              "          dataTable['output_type'] = 'display_data';\n",
              "          await google.colab.output.renderOutput(dataTable, element);\n",
              "          const docLink = document.createElement('div');\n",
              "          docLink.innerHTML = docLinkHtml;\n",
              "          element.appendChild(docLink);\n",
              "        }\n",
              "      </script>\n",
              "    </div>\n",
              "  </div>\n",
              "  "
            ]
          },
          "metadata": {},
          "execution_count": 28
        }
      ],
      "source": [
        "from google.colab import files\n",
        "uploaded = files.upload()\n",
        "sloan_survey = pd.read_csv(io.BytesIO(uploaded['sloan_survey.csv']))\n",
        "sloan_survey.head()"
      ]
    },
    {
      "cell_type": "markdown",
      "metadata": {
        "id": "ay20pejhRXQv"
      },
      "source": [
        "###II. First look"
      ]
    },
    {
      "cell_type": "code",
      "execution_count": null,
      "metadata": {
        "colab": {
          "base_uri": "https://localhost:8080/",
          "height": 270
        },
        "id": "Jq3GuLTWWw4V",
        "outputId": "84950e16-75d0-4818-9005-9323baece64a"
      },
      "outputs": [
        {
          "output_type": "execute_result",
          "data": {
            "text/plain": [
              "    class         objid          ra       dec         u         g         r  \\\n",
              "0    STAR  1.237650e+18  183.531326  0.089693  19.47406  17.04240  15.94699   \n",
              "1    STAR  1.237650e+18  183.598370  0.135285  18.66280  17.21449  16.67637   \n",
              "2  GALAXY  1.237650e+18  183.680207  0.126185  19.38298  18.19169  17.47428   \n",
              "3    STAR  1.237650e+18  183.870529  0.049911  17.76536  16.60272  16.16116   \n",
              "4    STAR  1.237650e+18  183.883288  0.102557  17.55025  16.26342  16.43869   \n",
              "\n",
              "          i         z  run  rerun  camcol  field     specobjid  redshift  \\\n",
              "0  15.50342  15.22531  752    301       4    267  3.722360e+18 -0.000009   \n",
              "1  16.48922  16.39150  752    301       4    267  3.638140e+17 -0.000055   \n",
              "2  17.08732  16.80125  752    301       4    268  3.232740e+17  0.123111   \n",
              "3  15.98233  15.90438  752    301       4    269  3.722370e+18 -0.000111   \n",
              "4  16.55492  16.61326  752    301       4    269  3.722370e+18  0.000590   \n",
              "\n",
              "   plate    mjd  fiberid  \n",
              "0   3306  54922      491  \n",
              "1    323  51615      541  \n",
              "2    287  52023      513  \n",
              "3   3306  54922      510  \n",
              "4   3306  54922      512  "
            ],
            "text/html": [
              "\n",
              "  <div id=\"df-3faab25c-dd1f-48f4-ae26-b4bd96ffdc25\">\n",
              "    <div class=\"colab-df-container\">\n",
              "      <div>\n",
              "<style scoped>\n",
              "    .dataframe tbody tr th:only-of-type {\n",
              "        vertical-align: middle;\n",
              "    }\n",
              "\n",
              "    .dataframe tbody tr th {\n",
              "        vertical-align: top;\n",
              "    }\n",
              "\n",
              "    .dataframe thead th {\n",
              "        text-align: right;\n",
              "    }\n",
              "</style>\n",
              "<table border=\"1\" class=\"dataframe\">\n",
              "  <thead>\n",
              "    <tr style=\"text-align: right;\">\n",
              "      <th></th>\n",
              "      <th>class</th>\n",
              "      <th>objid</th>\n",
              "      <th>ra</th>\n",
              "      <th>dec</th>\n",
              "      <th>u</th>\n",
              "      <th>g</th>\n",
              "      <th>r</th>\n",
              "      <th>i</th>\n",
              "      <th>z</th>\n",
              "      <th>run</th>\n",
              "      <th>rerun</th>\n",
              "      <th>camcol</th>\n",
              "      <th>field</th>\n",
              "      <th>specobjid</th>\n",
              "      <th>redshift</th>\n",
              "      <th>plate</th>\n",
              "      <th>mjd</th>\n",
              "      <th>fiberid</th>\n",
              "    </tr>\n",
              "  </thead>\n",
              "  <tbody>\n",
              "    <tr>\n",
              "      <th>0</th>\n",
              "      <td>STAR</td>\n",
              "      <td>1.237650e+18</td>\n",
              "      <td>183.531326</td>\n",
              "      <td>0.089693</td>\n",
              "      <td>19.47406</td>\n",
              "      <td>17.04240</td>\n",
              "      <td>15.94699</td>\n",
              "      <td>15.50342</td>\n",
              "      <td>15.22531</td>\n",
              "      <td>752</td>\n",
              "      <td>301</td>\n",
              "      <td>4</td>\n",
              "      <td>267</td>\n",
              "      <td>3.722360e+18</td>\n",
              "      <td>-0.000009</td>\n",
              "      <td>3306</td>\n",
              "      <td>54922</td>\n",
              "      <td>491</td>\n",
              "    </tr>\n",
              "    <tr>\n",
              "      <th>1</th>\n",
              "      <td>STAR</td>\n",
              "      <td>1.237650e+18</td>\n",
              "      <td>183.598370</td>\n",
              "      <td>0.135285</td>\n",
              "      <td>18.66280</td>\n",
              "      <td>17.21449</td>\n",
              "      <td>16.67637</td>\n",
              "      <td>16.48922</td>\n",
              "      <td>16.39150</td>\n",
              "      <td>752</td>\n",
              "      <td>301</td>\n",
              "      <td>4</td>\n",
              "      <td>267</td>\n",
              "      <td>3.638140e+17</td>\n",
              "      <td>-0.000055</td>\n",
              "      <td>323</td>\n",
              "      <td>51615</td>\n",
              "      <td>541</td>\n",
              "    </tr>\n",
              "    <tr>\n",
              "      <th>2</th>\n",
              "      <td>GALAXY</td>\n",
              "      <td>1.237650e+18</td>\n",
              "      <td>183.680207</td>\n",
              "      <td>0.126185</td>\n",
              "      <td>19.38298</td>\n",
              "      <td>18.19169</td>\n",
              "      <td>17.47428</td>\n",
              "      <td>17.08732</td>\n",
              "      <td>16.80125</td>\n",
              "      <td>752</td>\n",
              "      <td>301</td>\n",
              "      <td>4</td>\n",
              "      <td>268</td>\n",
              "      <td>3.232740e+17</td>\n",
              "      <td>0.123111</td>\n",
              "      <td>287</td>\n",
              "      <td>52023</td>\n",
              "      <td>513</td>\n",
              "    </tr>\n",
              "    <tr>\n",
              "      <th>3</th>\n",
              "      <td>STAR</td>\n",
              "      <td>1.237650e+18</td>\n",
              "      <td>183.870529</td>\n",
              "      <td>0.049911</td>\n",
              "      <td>17.76536</td>\n",
              "      <td>16.60272</td>\n",
              "      <td>16.16116</td>\n",
              "      <td>15.98233</td>\n",
              "      <td>15.90438</td>\n",
              "      <td>752</td>\n",
              "      <td>301</td>\n",
              "      <td>4</td>\n",
              "      <td>269</td>\n",
              "      <td>3.722370e+18</td>\n",
              "      <td>-0.000111</td>\n",
              "      <td>3306</td>\n",
              "      <td>54922</td>\n",
              "      <td>510</td>\n",
              "    </tr>\n",
              "    <tr>\n",
              "      <th>4</th>\n",
              "      <td>STAR</td>\n",
              "      <td>1.237650e+18</td>\n",
              "      <td>183.883288</td>\n",
              "      <td>0.102557</td>\n",
              "      <td>17.55025</td>\n",
              "      <td>16.26342</td>\n",
              "      <td>16.43869</td>\n",
              "      <td>16.55492</td>\n",
              "      <td>16.61326</td>\n",
              "      <td>752</td>\n",
              "      <td>301</td>\n",
              "      <td>4</td>\n",
              "      <td>269</td>\n",
              "      <td>3.722370e+18</td>\n",
              "      <td>0.000590</td>\n",
              "      <td>3306</td>\n",
              "      <td>54922</td>\n",
              "      <td>512</td>\n",
              "    </tr>\n",
              "  </tbody>\n",
              "</table>\n",
              "</div>\n",
              "      <button class=\"colab-df-convert\" onclick=\"convertToInteractive('df-3faab25c-dd1f-48f4-ae26-b4bd96ffdc25')\"\n",
              "              title=\"Convert this dataframe to an interactive table.\"\n",
              "              style=\"display:none;\">\n",
              "        \n",
              "  <svg xmlns=\"http://www.w3.org/2000/svg\" height=\"24px\"viewBox=\"0 0 24 24\"\n",
              "       width=\"24px\">\n",
              "    <path d=\"M0 0h24v24H0V0z\" fill=\"none\"/>\n",
              "    <path d=\"M18.56 5.44l.94 2.06.94-2.06 2.06-.94-2.06-.94-.94-2.06-.94 2.06-2.06.94zm-11 1L8.5 8.5l.94-2.06 2.06-.94-2.06-.94L8.5 2.5l-.94 2.06-2.06.94zm10 10l.94 2.06.94-2.06 2.06-.94-2.06-.94-.94-2.06-.94 2.06-2.06.94z\"/><path d=\"M17.41 7.96l-1.37-1.37c-.4-.4-.92-.59-1.43-.59-.52 0-1.04.2-1.43.59L10.3 9.45l-7.72 7.72c-.78.78-.78 2.05 0 2.83L4 21.41c.39.39.9.59 1.41.59.51 0 1.02-.2 1.41-.59l7.78-7.78 2.81-2.81c.8-.78.8-2.07 0-2.86zM5.41 20L4 18.59l7.72-7.72 1.47 1.35L5.41 20z\"/>\n",
              "  </svg>\n",
              "      </button>\n",
              "      \n",
              "  <style>\n",
              "    .colab-df-container {\n",
              "      display:flex;\n",
              "      flex-wrap:wrap;\n",
              "      gap: 12px;\n",
              "    }\n",
              "\n",
              "    .colab-df-convert {\n",
              "      background-color: #E8F0FE;\n",
              "      border: none;\n",
              "      border-radius: 50%;\n",
              "      cursor: pointer;\n",
              "      display: none;\n",
              "      fill: #1967D2;\n",
              "      height: 32px;\n",
              "      padding: 0 0 0 0;\n",
              "      width: 32px;\n",
              "    }\n",
              "\n",
              "    .colab-df-convert:hover {\n",
              "      background-color: #E2EBFA;\n",
              "      box-shadow: 0px 1px 2px rgba(60, 64, 67, 0.3), 0px 1px 3px 1px rgba(60, 64, 67, 0.15);\n",
              "      fill: #174EA6;\n",
              "    }\n",
              "\n",
              "    [theme=dark] .colab-df-convert {\n",
              "      background-color: #3B4455;\n",
              "      fill: #D2E3FC;\n",
              "    }\n",
              "\n",
              "    [theme=dark] .colab-df-convert:hover {\n",
              "      background-color: #434B5C;\n",
              "      box-shadow: 0px 1px 3px 1px rgba(0, 0, 0, 0.15);\n",
              "      filter: drop-shadow(0px 1px 2px rgba(0, 0, 0, 0.3));\n",
              "      fill: #FFFFFF;\n",
              "    }\n",
              "  </style>\n",
              "\n",
              "      <script>\n",
              "        const buttonEl =\n",
              "          document.querySelector('#df-3faab25c-dd1f-48f4-ae26-b4bd96ffdc25 button.colab-df-convert');\n",
              "        buttonEl.style.display =\n",
              "          google.colab.kernel.accessAllowed ? 'block' : 'none';\n",
              "\n",
              "        async function convertToInteractive(key) {\n",
              "          const element = document.querySelector('#df-3faab25c-dd1f-48f4-ae26-b4bd96ffdc25');\n",
              "          const dataTable =\n",
              "            await google.colab.kernel.invokeFunction('convertToInteractive',\n",
              "                                                     [key], {});\n",
              "          if (!dataTable) return;\n",
              "\n",
              "          const docLinkHtml = 'Like what you see? Visit the ' +\n",
              "            '<a target=\"_blank\" href=https://colab.research.google.com/notebooks/data_table.ipynb>data table notebook</a>'\n",
              "            + ' to learn more about interactive tables.';\n",
              "          element.innerHTML = '';\n",
              "          dataTable['output_type'] = 'display_data';\n",
              "          await google.colab.output.renderOutput(dataTable, element);\n",
              "          const docLink = document.createElement('div');\n",
              "          docLink.innerHTML = docLinkHtml;\n",
              "          element.appendChild(docLink);\n",
              "        }\n",
              "      </script>\n",
              "    </div>\n",
              "  </div>\n",
              "  "
            ]
          },
          "metadata": {},
          "execution_count": 29
        }
      ],
      "source": [
        "# Reordering the columns to see our dependent variable in the beginning\n",
        "cols_to_order = ['class']\n",
        "new_columns = cols_to_order + (sloan_survey.columns.drop(cols_to_order).tolist())\n",
        "sloan_survey = sloan_survey[new_columns]\n",
        "sloan_survey.head()"
      ]
    },
    {
      "cell_type": "code",
      "execution_count": null,
      "metadata": {
        "colab": {
          "base_uri": "https://localhost:8080/"
        },
        "id": "PwjUI-6VXSAs",
        "outputId": "d3ae7e85-06b1-418e-de3a-2b71a7d6d11b"
      },
      "outputs": [
        {
          "output_type": "stream",
          "name": "stdout",
          "text": [
            "<class 'pandas.core.frame.DataFrame'>\n",
            "RangeIndex: 10000 entries, 0 to 9999\n",
            "Data columns (total 18 columns):\n",
            " #   Column     Non-Null Count  Dtype  \n",
            "---  ------     --------------  -----  \n",
            " 0   class      10000 non-null  object \n",
            " 1   objid      10000 non-null  float64\n",
            " 2   ra         10000 non-null  float64\n",
            " 3   dec        10000 non-null  float64\n",
            " 4   u          10000 non-null  float64\n",
            " 5   g          10000 non-null  float64\n",
            " 6   r          10000 non-null  float64\n",
            " 7   i          10000 non-null  float64\n",
            " 8   z          10000 non-null  float64\n",
            " 9   run        10000 non-null  int64  \n",
            " 10  rerun      10000 non-null  int64  \n",
            " 11  camcol     10000 non-null  int64  \n",
            " 12  field      10000 non-null  int64  \n",
            " 13  specobjid  10000 non-null  float64\n",
            " 14  redshift   10000 non-null  float64\n",
            " 15  plate      10000 non-null  int64  \n",
            " 16  mjd        10000 non-null  int64  \n",
            " 17  fiberid    10000 non-null  int64  \n",
            "dtypes: float64(10), int64(7), object(1)\n",
            "memory usage: 1.4+ MB\n"
          ]
        },
        {
          "output_type": "execute_result",
          "data": {
            "text/plain": [
              "pandas.core.frame.DataFrame"
            ]
          },
          "metadata": {},
          "execution_count": 30
        }
      ],
      "source": [
        "sloan_survey.info()\n",
        "type(sloan_survey)\n"
      ]
    },
    {
      "cell_type": "code",
      "execution_count": null,
      "metadata": {
        "colab": {
          "base_uri": "https://localhost:8080/"
        },
        "id": "pGOddQPeT6iU",
        "outputId": "4a60a3bb-a45b-495c-d7f4-4233036258f1"
      },
      "outputs": [
        {
          "output_type": "execute_result",
          "data": {
            "text/plain": [
              "(10000, 18)"
            ]
          },
          "metadata": {},
          "execution_count": 31
        }
      ],
      "source": [
        "# Lets first take a look at the shape of our data \n",
        "# Our database has 1000 observations and 18 variables/collumns\n",
        "\n",
        "sloan_survey.shape"
      ]
    },
    {
      "cell_type": "code",
      "execution_count": null,
      "metadata": {
        "colab": {
          "base_uri": "https://localhost:8080/",
          "height": 364
        },
        "id": "quX1Zug5U3Ob",
        "outputId": "f9a95657-a491-424e-e813-c87bbcf427a7"
      },
      "outputs": [
        {
          "output_type": "execute_result",
          "data": {
            "text/plain": [
              "              objid            ra           dec             u             g  \\\n",
              "count  1.000000e+04  10000.000000  10000.000000  10000.000000  10000.000000   \n",
              "mean   1.237650e+18    175.529987     14.836148     18.619355     17.371931   \n",
              "std    1.577039e+05     47.783439     25.212207      0.828656      0.945457   \n",
              "min    1.237650e+18      8.235100     -5.382632     12.988970     12.799550   \n",
              "25%    1.237650e+18    157.370946     -0.539035     18.178035     16.815100   \n",
              "50%    1.237650e+18    180.394514      0.404166     18.853095     17.495135   \n",
              "75%    1.237650e+18    201.547279     35.649397     19.259232     18.010145   \n",
              "max    1.237650e+18    260.884382     68.542265     19.599900     19.918970   \n",
              "\n",
              "                  r             i             z           run    rerun  \\\n",
              "count  10000.000000  10000.000000  10000.000000  10000.000000  10000.0   \n",
              "mean      16.840963     16.583579     16.422833    981.034800    301.0   \n",
              "std        1.067764      1.141805      1.203188    273.305024      0.0   \n",
              "min       12.431600     11.947210     11.610410    308.000000    301.0   \n",
              "25%       16.173333     15.853705     15.618285    752.000000    301.0   \n",
              "50%       16.858770     16.554985     16.389945    756.000000    301.0   \n",
              "75%       17.512675     17.258550     17.141447   1331.000000    301.0   \n",
              "max       24.802040     28.179630     22.833060   1412.000000    301.0   \n",
              "\n",
              "             camcol         field     specobjid      redshift         plate  \\\n",
              "count  10000.000000  10000.000000  1.000000e+04  10000.000000  10000.000000   \n",
              "mean       3.648700    302.380100  1.645022e+18      0.143726   1460.986400   \n",
              "std        1.666183    162.577763  2.013998e+18      0.388774   1788.778371   \n",
              "min        1.000000     11.000000  2.995780e+17     -0.004136    266.000000   \n",
              "25%        2.000000    184.000000  3.389248e+17      0.000081    301.000000   \n",
              "50%        4.000000    299.000000  4.966580e+17      0.042591    441.000000   \n",
              "75%        5.000000    414.000000  2.881300e+18      0.092579   2559.000000   \n",
              "max        6.000000    768.000000  9.468830e+18      5.353854   8410.000000   \n",
              "\n",
              "                mjd       fiberid  \n",
              "count  10000.000000  10000.000000  \n",
              "mean   52943.533300    353.069400  \n",
              "std     1511.150651    206.298149  \n",
              "min    51578.000000      1.000000  \n",
              "25%    51900.000000    186.750000  \n",
              "50%    51997.000000    351.000000  \n",
              "75%    54468.000000    510.000000  \n",
              "max    57481.000000   1000.000000  "
            ],
            "text/html": [
              "\n",
              "  <div id=\"df-f1b3c986-1db1-4e1e-92a3-aa5e50e32ba2\">\n",
              "    <div class=\"colab-df-container\">\n",
              "      <div>\n",
              "<style scoped>\n",
              "    .dataframe tbody tr th:only-of-type {\n",
              "        vertical-align: middle;\n",
              "    }\n",
              "\n",
              "    .dataframe tbody tr th {\n",
              "        vertical-align: top;\n",
              "    }\n",
              "\n",
              "    .dataframe thead th {\n",
              "        text-align: right;\n",
              "    }\n",
              "</style>\n",
              "<table border=\"1\" class=\"dataframe\">\n",
              "  <thead>\n",
              "    <tr style=\"text-align: right;\">\n",
              "      <th></th>\n",
              "      <th>objid</th>\n",
              "      <th>ra</th>\n",
              "      <th>dec</th>\n",
              "      <th>u</th>\n",
              "      <th>g</th>\n",
              "      <th>r</th>\n",
              "      <th>i</th>\n",
              "      <th>z</th>\n",
              "      <th>run</th>\n",
              "      <th>rerun</th>\n",
              "      <th>camcol</th>\n",
              "      <th>field</th>\n",
              "      <th>specobjid</th>\n",
              "      <th>redshift</th>\n",
              "      <th>plate</th>\n",
              "      <th>mjd</th>\n",
              "      <th>fiberid</th>\n",
              "    </tr>\n",
              "  </thead>\n",
              "  <tbody>\n",
              "    <tr>\n",
              "      <th>count</th>\n",
              "      <td>1.000000e+04</td>\n",
              "      <td>10000.000000</td>\n",
              "      <td>10000.000000</td>\n",
              "      <td>10000.000000</td>\n",
              "      <td>10000.000000</td>\n",
              "      <td>10000.000000</td>\n",
              "      <td>10000.000000</td>\n",
              "      <td>10000.000000</td>\n",
              "      <td>10000.000000</td>\n",
              "      <td>10000.0</td>\n",
              "      <td>10000.000000</td>\n",
              "      <td>10000.000000</td>\n",
              "      <td>1.000000e+04</td>\n",
              "      <td>10000.000000</td>\n",
              "      <td>10000.000000</td>\n",
              "      <td>10000.000000</td>\n",
              "      <td>10000.000000</td>\n",
              "    </tr>\n",
              "    <tr>\n",
              "      <th>mean</th>\n",
              "      <td>1.237650e+18</td>\n",
              "      <td>175.529987</td>\n",
              "      <td>14.836148</td>\n",
              "      <td>18.619355</td>\n",
              "      <td>17.371931</td>\n",
              "      <td>16.840963</td>\n",
              "      <td>16.583579</td>\n",
              "      <td>16.422833</td>\n",
              "      <td>981.034800</td>\n",
              "      <td>301.0</td>\n",
              "      <td>3.648700</td>\n",
              "      <td>302.380100</td>\n",
              "      <td>1.645022e+18</td>\n",
              "      <td>0.143726</td>\n",
              "      <td>1460.986400</td>\n",
              "      <td>52943.533300</td>\n",
              "      <td>353.069400</td>\n",
              "    </tr>\n",
              "    <tr>\n",
              "      <th>std</th>\n",
              "      <td>1.577039e+05</td>\n",
              "      <td>47.783439</td>\n",
              "      <td>25.212207</td>\n",
              "      <td>0.828656</td>\n",
              "      <td>0.945457</td>\n",
              "      <td>1.067764</td>\n",
              "      <td>1.141805</td>\n",
              "      <td>1.203188</td>\n",
              "      <td>273.305024</td>\n",
              "      <td>0.0</td>\n",
              "      <td>1.666183</td>\n",
              "      <td>162.577763</td>\n",
              "      <td>2.013998e+18</td>\n",
              "      <td>0.388774</td>\n",
              "      <td>1788.778371</td>\n",
              "      <td>1511.150651</td>\n",
              "      <td>206.298149</td>\n",
              "    </tr>\n",
              "    <tr>\n",
              "      <th>min</th>\n",
              "      <td>1.237650e+18</td>\n",
              "      <td>8.235100</td>\n",
              "      <td>-5.382632</td>\n",
              "      <td>12.988970</td>\n",
              "      <td>12.799550</td>\n",
              "      <td>12.431600</td>\n",
              "      <td>11.947210</td>\n",
              "      <td>11.610410</td>\n",
              "      <td>308.000000</td>\n",
              "      <td>301.0</td>\n",
              "      <td>1.000000</td>\n",
              "      <td>11.000000</td>\n",
              "      <td>2.995780e+17</td>\n",
              "      <td>-0.004136</td>\n",
              "      <td>266.000000</td>\n",
              "      <td>51578.000000</td>\n",
              "      <td>1.000000</td>\n",
              "    </tr>\n",
              "    <tr>\n",
              "      <th>25%</th>\n",
              "      <td>1.237650e+18</td>\n",
              "      <td>157.370946</td>\n",
              "      <td>-0.539035</td>\n",
              "      <td>18.178035</td>\n",
              "      <td>16.815100</td>\n",
              "      <td>16.173333</td>\n",
              "      <td>15.853705</td>\n",
              "      <td>15.618285</td>\n",
              "      <td>752.000000</td>\n",
              "      <td>301.0</td>\n",
              "      <td>2.000000</td>\n",
              "      <td>184.000000</td>\n",
              "      <td>3.389248e+17</td>\n",
              "      <td>0.000081</td>\n",
              "      <td>301.000000</td>\n",
              "      <td>51900.000000</td>\n",
              "      <td>186.750000</td>\n",
              "    </tr>\n",
              "    <tr>\n",
              "      <th>50%</th>\n",
              "      <td>1.237650e+18</td>\n",
              "      <td>180.394514</td>\n",
              "      <td>0.404166</td>\n",
              "      <td>18.853095</td>\n",
              "      <td>17.495135</td>\n",
              "      <td>16.858770</td>\n",
              "      <td>16.554985</td>\n",
              "      <td>16.389945</td>\n",
              "      <td>756.000000</td>\n",
              "      <td>301.0</td>\n",
              "      <td>4.000000</td>\n",
              "      <td>299.000000</td>\n",
              "      <td>4.966580e+17</td>\n",
              "      <td>0.042591</td>\n",
              "      <td>441.000000</td>\n",
              "      <td>51997.000000</td>\n",
              "      <td>351.000000</td>\n",
              "    </tr>\n",
              "    <tr>\n",
              "      <th>75%</th>\n",
              "      <td>1.237650e+18</td>\n",
              "      <td>201.547279</td>\n",
              "      <td>35.649397</td>\n",
              "      <td>19.259232</td>\n",
              "      <td>18.010145</td>\n",
              "      <td>17.512675</td>\n",
              "      <td>17.258550</td>\n",
              "      <td>17.141447</td>\n",
              "      <td>1331.000000</td>\n",
              "      <td>301.0</td>\n",
              "      <td>5.000000</td>\n",
              "      <td>414.000000</td>\n",
              "      <td>2.881300e+18</td>\n",
              "      <td>0.092579</td>\n",
              "      <td>2559.000000</td>\n",
              "      <td>54468.000000</td>\n",
              "      <td>510.000000</td>\n",
              "    </tr>\n",
              "    <tr>\n",
              "      <th>max</th>\n",
              "      <td>1.237650e+18</td>\n",
              "      <td>260.884382</td>\n",
              "      <td>68.542265</td>\n",
              "      <td>19.599900</td>\n",
              "      <td>19.918970</td>\n",
              "      <td>24.802040</td>\n",
              "      <td>28.179630</td>\n",
              "      <td>22.833060</td>\n",
              "      <td>1412.000000</td>\n",
              "      <td>301.0</td>\n",
              "      <td>6.000000</td>\n",
              "      <td>768.000000</td>\n",
              "      <td>9.468830e+18</td>\n",
              "      <td>5.353854</td>\n",
              "      <td>8410.000000</td>\n",
              "      <td>57481.000000</td>\n",
              "      <td>1000.000000</td>\n",
              "    </tr>\n",
              "  </tbody>\n",
              "</table>\n",
              "</div>\n",
              "      <button class=\"colab-df-convert\" onclick=\"convertToInteractive('df-f1b3c986-1db1-4e1e-92a3-aa5e50e32ba2')\"\n",
              "              title=\"Convert this dataframe to an interactive table.\"\n",
              "              style=\"display:none;\">\n",
              "        \n",
              "  <svg xmlns=\"http://www.w3.org/2000/svg\" height=\"24px\"viewBox=\"0 0 24 24\"\n",
              "       width=\"24px\">\n",
              "    <path d=\"M0 0h24v24H0V0z\" fill=\"none\"/>\n",
              "    <path d=\"M18.56 5.44l.94 2.06.94-2.06 2.06-.94-2.06-.94-.94-2.06-.94 2.06-2.06.94zm-11 1L8.5 8.5l.94-2.06 2.06-.94-2.06-.94L8.5 2.5l-.94 2.06-2.06.94zm10 10l.94 2.06.94-2.06 2.06-.94-2.06-.94-.94-2.06-.94 2.06-2.06.94z\"/><path d=\"M17.41 7.96l-1.37-1.37c-.4-.4-.92-.59-1.43-.59-.52 0-1.04.2-1.43.59L10.3 9.45l-7.72 7.72c-.78.78-.78 2.05 0 2.83L4 21.41c.39.39.9.59 1.41.59.51 0 1.02-.2 1.41-.59l7.78-7.78 2.81-2.81c.8-.78.8-2.07 0-2.86zM5.41 20L4 18.59l7.72-7.72 1.47 1.35L5.41 20z\"/>\n",
              "  </svg>\n",
              "      </button>\n",
              "      \n",
              "  <style>\n",
              "    .colab-df-container {\n",
              "      display:flex;\n",
              "      flex-wrap:wrap;\n",
              "      gap: 12px;\n",
              "    }\n",
              "\n",
              "    .colab-df-convert {\n",
              "      background-color: #E8F0FE;\n",
              "      border: none;\n",
              "      border-radius: 50%;\n",
              "      cursor: pointer;\n",
              "      display: none;\n",
              "      fill: #1967D2;\n",
              "      height: 32px;\n",
              "      padding: 0 0 0 0;\n",
              "      width: 32px;\n",
              "    }\n",
              "\n",
              "    .colab-df-convert:hover {\n",
              "      background-color: #E2EBFA;\n",
              "      box-shadow: 0px 1px 2px rgba(60, 64, 67, 0.3), 0px 1px 3px 1px rgba(60, 64, 67, 0.15);\n",
              "      fill: #174EA6;\n",
              "    }\n",
              "\n",
              "    [theme=dark] .colab-df-convert {\n",
              "      background-color: #3B4455;\n",
              "      fill: #D2E3FC;\n",
              "    }\n",
              "\n",
              "    [theme=dark] .colab-df-convert:hover {\n",
              "      background-color: #434B5C;\n",
              "      box-shadow: 0px 1px 3px 1px rgba(0, 0, 0, 0.15);\n",
              "      filter: drop-shadow(0px 1px 2px rgba(0, 0, 0, 0.3));\n",
              "      fill: #FFFFFF;\n",
              "    }\n",
              "  </style>\n",
              "\n",
              "      <script>\n",
              "        const buttonEl =\n",
              "          document.querySelector('#df-f1b3c986-1db1-4e1e-92a3-aa5e50e32ba2 button.colab-df-convert');\n",
              "        buttonEl.style.display =\n",
              "          google.colab.kernel.accessAllowed ? 'block' : 'none';\n",
              "\n",
              "        async function convertToInteractive(key) {\n",
              "          const element = document.querySelector('#df-f1b3c986-1db1-4e1e-92a3-aa5e50e32ba2');\n",
              "          const dataTable =\n",
              "            await google.colab.kernel.invokeFunction('convertToInteractive',\n",
              "                                                     [key], {});\n",
              "          if (!dataTable) return;\n",
              "\n",
              "          const docLinkHtml = 'Like what you see? Visit the ' +\n",
              "            '<a target=\"_blank\" href=https://colab.research.google.com/notebooks/data_table.ipynb>data table notebook</a>'\n",
              "            + ' to learn more about interactive tables.';\n",
              "          element.innerHTML = '';\n",
              "          dataTable['output_type'] = 'display_data';\n",
              "          await google.colab.output.renderOutput(dataTable, element);\n",
              "          const docLink = document.createElement('div');\n",
              "          docLink.innerHTML = docLinkHtml;\n",
              "          element.appendChild(docLink);\n",
              "        }\n",
              "      </script>\n",
              "    </div>\n",
              "  </div>\n",
              "  "
            ]
          },
          "metadata": {},
          "execution_count": 32
        }
      ],
      "source": [
        "sloan_survey.describe()"
      ]
    },
    {
      "cell_type": "markdown",
      "metadata": {
        "id": "ZClXlHlIPtIA"
      },
      "source": [
        "\\\\\n",
        "\n",
        "###III. Selecting relevant variables based on df documentation: \n"
      ]
    },
    {
      "cell_type": "code",
      "execution_count": null,
      "metadata": {
        "id": "GDm9eMGrP3wB"
      },
      "outputs": [],
      "source": [
        "sloan_survey = sloan_survey.drop(columns=['objid', 'run','rerun','camcol','specobjid'])\n",
        "#objid and specobjid are just different forms of identification - we do not need them to run the models\n",
        "#the Camera column (camcol), the Rerun Number (rerun), and the Run number (run) are also just technical identifications  "
      ]
    },
    {
      "cell_type": "markdown",
      "metadata": {
        "id": "oEKjhetpRA04"
      },
      "source": [
        "\\\\\n",
        "\n",
        "###IV. Data Visualization: Univariate and Bivariate Analysis\n",
        "(based on: https://www.kaggle.com/code/sanchitvj/sdss-dr16-data-analysis/notebook)\n",
        "\n",
        "\\\\\n",
        "\n",
        "Dependent Variable - Class"
      ]
    },
    {
      "cell_type": "code",
      "execution_count": null,
      "metadata": {
        "colab": {
          "base_uri": "https://localhost:8080/",
          "height": 338
        },
        "id": "H7X4Dze2SCaj",
        "outputId": "6cc027d1-220a-4649-b475-354d671fa731"
      },
      "outputs": [
        {
          "output_type": "stream",
          "name": "stderr",
          "text": [
            "/usr/local/lib/python3.7/dist-packages/seaborn/_decorators.py:43: FutureWarning: Pass the following variable as a keyword arg: x. From version 0.12, the only valid positional argument will be `data`, and passing other arguments without an explicit keyword will result in an error or misinterpretation.\n",
            "  FutureWarning\n"
          ]
        },
        {
          "output_type": "execute_result",
          "data": {
            "text/plain": [
              "<matplotlib.axes._subplots.AxesSubplot at 0x7f9230859690>"
            ]
          },
          "metadata": {},
          "execution_count": 34
        },
        {
          "output_type": "display_data",
          "data": {
            "text/plain": [
              "<Figure size 576x432 with 1 Axes>"
            ],
            "image/png": "[encoded data removed]"
          },
          "metadata": {}
        }
      ],
      "source": [
        "sns.set_style('darkgrid')\n",
        "plt.figure(figsize = (8, 6))\n",
        "plt.title('Count of Observations by Class')\n",
        "sns.countplot(sloan_survey['class'], palette = 'magma')"
      ]
    },
    {
      "cell_type": "markdown",
      "metadata": {
        "id": "M-1sg_NsAP5H"
      },
      "source": [
        "The figure above shows that our interest variable is unbalanced, since we have much more observations from GALAXY and STAR classes. "
      ]
    },
    {
      "cell_type": "markdown",
      "metadata": {
        "id": "SOoHXdw8S-ZW"
      },
      "source": [
        "\\\\\n",
        "\n",
        "How our dependent varibale relates to \"redshift\".\n",
        "\n",
        "Obs: Redshift - how much light of that celestial body is captured by the telescope."
      ]
    },
    {
      "cell_type": "code",
      "execution_count": null,
      "metadata": {
        "id": "TJZzNOPUS9fA",
        "colab": {
          "base_uri": "https://localhost:8080/",
          "height": 513
        },
        "outputId": "bd07a5ff-072e-405a-b6c2-300b923e8a00"
      },
      "outputs": [
        {
          "output_type": "stream",
          "name": "stderr",
          "text": [
            "/usr/local/lib/python3.7/dist-packages/seaborn/distributions.py:2619: FutureWarning: `distplot` is a deprecated function and will be removed in a future version. Please adapt your code to use either `displot` (a figure-level function with similar flexibility) or `histplot` (an axes-level function for histograms).\n",
            "  warnings.warn(msg, FutureWarning)\n",
            "/usr/local/lib/python3.7/dist-packages/seaborn/distributions.py:2619: FutureWarning: `distplot` is a deprecated function and will be removed in a future version. Please adapt your code to use either `displot` (a figure-level function with similar flexibility) or `histplot` (an axes-level function for histograms).\n",
            "  warnings.warn(msg, FutureWarning)\n",
            "/usr/local/lib/python3.7/dist-packages/seaborn/distributions.py:2619: FutureWarning: `distplot` is a deprecated function and will be removed in a future version. Please adapt your code to use either `displot` (a figure-level function with similar flexibility) or `histplot` (an axes-level function for histograms).\n",
            "  warnings.warn(msg, FutureWarning)\n"
          ]
        },
        {
          "output_type": "execute_result",
          "data": {
            "text/plain": [
              "<matplotlib.axes._subplots.AxesSubplot at 0x7f92308eca50>"
            ]
          },
          "metadata": {},
          "execution_count": 35
        },
        {
          "output_type": "display_data",
          "data": {
            "text/plain": [
              "<Figure size 1728x432 with 3 Axes>"
            ],
            "image/png": "[encoded data removed]"
          },
          "metadata": {}
        }
      ],
      "source": [
        "fig, (ax1, ax2, ax3) = plt.subplots(ncols = 3, figsize = (24, 6))\n",
        "sns.distplot(sloan_survey[sloan_survey['class'] == 'STAR'].redshift, ax = ax1, bins = 30, color = 'g')\n",
        "sns.distplot(sloan_survey[sloan_survey['class'] == 'GALAXY'].redshift, ax = ax2, bins = 30, color = 'r')\n",
        "sns.distplot(sloan_survey[sloan_survey['class'] == 'QSO'].redshift, ax = ax3, bins = 30, color = 'b')"
      ]
    },
    {
      "cell_type": "markdown",
      "metadata": {
        "id": "PpTkkuB1UOBv"
      },
      "source": [
        "\\\\\n",
        "\n",
        "Correlation Matrix"
      ]
    },
    {
      "cell_type": "code",
      "execution_count": null,
      "metadata": {
        "colab": {
          "base_uri": "https://localhost:8080/",
          "height": 331
        },
        "id": "ks8ThZ8hUexf",
        "outputId": "d8c3629a-bf9c-4f7b-918a-62502757989d"
      },
      "outputs": [
        {
          "output_type": "execute_result",
          "data": {
            "text/plain": [
              "<matplotlib.axes._subplots.AxesSubplot at 0x7f922e072e90>"
            ]
          },
          "metadata": {},
          "execution_count": 36
        },
        {
          "output_type": "display_data",
          "data": {
            "text/plain": [
              "<Figure size 720x576 with 2 Axes>"
            ],
            "image/png": "[encoded data removed]"
          },
          "metadata": {}
        }
      ],
      "source": [
        "corr = sloan_survey.corr()\n",
        "plt.figure(figsize = (10, 8))\n",
        "sns.heatmap(corr, annot = True)"
      ]
    },
    {
      "cell_type": "markdown",
      "metadata": {
        "id": "ZQ3Gps4saKwB"
      },
      "source": [
        "\\\\\n",
        "###V. Data Visualization: Univariate and Bivariate Analysis\n",
        "\\\\\n",
        "\n",
        "###Encoding Dependent Variable \n",
        "\n",
        "To be able to run the models, we will make an encoding of the dependent variable. From \"object\" let's change it to \"int64\"."
      ]
    },
    {
      "cell_type": "code",
      "execution_count": null,
      "metadata": {
        "colab": {
          "base_uri": "https://localhost:8080/"
        },
        "id": "vGIr5En_YdIk",
        "outputId": "891a86ff-fb0f-4673-e0ad-aeb02aebe582"
      },
      "outputs": [
        {
          "output_type": "execute_result",
          "data": {
            "text/plain": [
              "array(['STAR', 'GALAXY', 'QSO'], dtype=object)"
            ]
          },
          "metadata": {},
          "execution_count": 37
        }
      ],
      "source": [
        "sloan_survey[\"class\"].unique()"
      ]
    },
    {
      "cell_type": "code",
      "execution_count": null,
      "metadata": {
        "colab": {
          "base_uri": "https://localhost:8080/"
        },
        "id": "PLmwDttZSYyO",
        "outputId": "f48e8bde-4e08-49ab-cc51-65a234c325ea"
      },
      "outputs": [
        {
          "output_type": "execute_result",
          "data": {
            "text/plain": [
              "GALAXY    4998\n",
              "STAR      4152\n",
              "QSO        850\n",
              "Name: class, dtype: int64"
            ]
          },
          "metadata": {},
          "execution_count": 38
        }
      ],
      "source": [
        "sloan_survey['class'].value_counts()"
      ]
    },
    {
      "cell_type": "code",
      "execution_count": null,
      "metadata": {
        "id": "YplhY-fnbJsT"
      },
      "outputs": [],
      "source": [
        "sloan_survey.rename(columns = {'class':'Class'}, inplace = True)"
      ]
    },
    {
      "cell_type": "code",
      "execution_count": null,
      "metadata": {
        "colab": {
          "base_uri": "https://localhost:8080/",
          "height": 488
        },
        "id": "uAKWTK08bADH",
        "outputId": "81023ff5-0ef7-41d3-b661-d852c7ab1b76"
      },
      "outputs": [
        {
          "output_type": "execute_result",
          "data": {
            "text/plain": [
              "      Class          ra        dec         u         g         r         i  \\\n",
              "0         1  183.531326   0.089693  19.47406  17.04240  15.94699  15.50342   \n",
              "1         1  183.598370   0.135285  18.66280  17.21449  16.67637  16.48922   \n",
              "2         2  183.680207   0.126185  19.38298  18.19169  17.47428  17.08732   \n",
              "3         1  183.870529   0.049911  17.76536  16.60272  16.16116  15.98233   \n",
              "4         1  183.883288   0.102557  17.55025  16.26342  16.43869  16.55492   \n",
              "...     ...         ...        ...       ...       ...       ...       ...   \n",
              "9995      2  131.316413  51.539547  18.81777  17.47053  16.91508  16.68305   \n",
              "9996      2  131.306083  51.671341  18.27255  17.43849  17.07692  16.71661   \n",
              "9997      1  131.552562  51.666986  18.75818  17.77784  17.51872  17.43302   \n",
              "9998      2  131.477151  51.753068  18.88287  17.91068  17.53152  17.36284   \n",
              "9999      2  131.665012  51.805307  19.27586  17.37829  16.30542  15.83548   \n",
              "\n",
              "             z  field  redshift  plate    mjd  fiberid  \n",
              "0     15.22531    267 -0.000009   3306  54922      491  \n",
              "1     16.39150    267 -0.000055    323  51615      541  \n",
              "2     16.80125    268  0.123111    287  52023      513  \n",
              "3     15.90438    269 -0.000111   3306  54922      510  \n",
              "4     16.61326    269  0.000590   3306  54922      512  \n",
              "...        ...    ...       ...    ...    ...      ...  \n",
              "9995  16.50570    161  0.027583    447  51877      246  \n",
              "9996  16.69897    162  0.117772    447  51877      228  \n",
              "9997  17.42048    162 -0.000402   7303  57013      622  \n",
              "9998  17.13988    163  0.014019    447  51877      229  \n",
              "9999  15.50588    163  0.118417    447  51877      233  \n",
              "\n",
              "[10000 rows x 13 columns]"
            ],
            "text/html": [
              "\n",
              "  <div id=\"df-db657cc9-dc90-4a42-b804-8792db5686c4\">\n",
              "    <div class=\"colab-df-container\">\n",
              "      <div>\n",
              "<style scoped>\n",
              "    .dataframe tbody tr th:only-of-type {\n",
              "        vertical-align: middle;\n",
              "    }\n",
              "\n",
              "    .dataframe tbody tr th {\n",
              "        vertical-align: top;\n",
              "    }\n",
              "\n",
              "    .dataframe thead th {\n",
              "        text-align: right;\n",
              "    }\n",
              "</style>\n",
              "<table border=\"1\" class=\"dataframe\">\n",
              "  <thead>\n",
              "    <tr style=\"text-align: right;\">\n",
              "      <th></th>\n",
              "      <th>Class</th>\n",
              "      <th>ra</th>\n",
              "      <th>dec</th>\n",
              "      <th>u</th>\n",
              "      <th>g</th>\n",
              "      <th>r</th>\n",
              "      <th>i</th>\n",
              "      <th>z</th>\n",
              "      <th>field</th>\n",
              "      <th>redshift</th>\n",
              "      <th>plate</th>\n",
              "      <th>mjd</th>\n",
              "      <th>fiberid</th>\n",
              "    </tr>\n",
              "  </thead>\n",
              "  <tbody>\n",
              "    <tr>\n",
              "      <th>0</th>\n",
              "      <td>1</td>\n",
              "      <td>183.531326</td>\n",
              "      <td>0.089693</td>\n",
              "      <td>19.47406</td>\n",
              "      <td>17.04240</td>\n",
              "      <td>15.94699</td>\n",
              "      <td>15.50342</td>\n",
              "      <td>15.22531</td>\n",
              "      <td>267</td>\n",
              "      <td>-0.000009</td>\n",
              "      <td>3306</td>\n",
              "      <td>54922</td>\n",
              "      <td>491</td>\n",
              "    </tr>\n",
              "    <tr>\n",
              "      <th>1</th>\n",
              "      <td>1</td>\n",
              "      <td>183.598370</td>\n",
              "      <td>0.135285</td>\n",
              "      <td>18.66280</td>\n",
              "      <td>17.21449</td>\n",
              "      <td>16.67637</td>\n",
              "      <td>16.48922</td>\n",
              "      <td>16.39150</td>\n",
              "      <td>267</td>\n",
              "      <td>-0.000055</td>\n",
              "      <td>323</td>\n",
              "      <td>51615</td>\n",
              "      <td>541</td>\n",
              "    </tr>\n",
              "    <tr>\n",
              "      <th>2</th>\n",
              "      <td>2</td>\n",
              "      <td>183.680207</td>\n",
              "      <td>0.126185</td>\n",
              "      <td>19.38298</td>\n",
              "      <td>18.19169</td>\n",
              "      <td>17.47428</td>\n",
              "      <td>17.08732</td>\n",
              "      <td>16.80125</td>\n",
              "      <td>268</td>\n",
              "      <td>0.123111</td>\n",
              "      <td>287</td>\n",
              "      <td>52023</td>\n",
              "      <td>513</td>\n",
              "    </tr>\n",
              "    <tr>\n",
              "      <th>3</th>\n",
              "      <td>1</td>\n",
              "      <td>183.870529</td>\n",
              "      <td>0.049911</td>\n",
              "      <td>17.76536</td>\n",
              "      <td>16.60272</td>\n",
              "      <td>16.16116</td>\n",
              "      <td>15.98233</td>\n",
              "      <td>15.90438</td>\n",
              "      <td>269</td>\n",
              "      <td>-0.000111</td>\n",
              "      <td>3306</td>\n",
              "      <td>54922</td>\n",
              "      <td>510</td>\n",
              "    </tr>\n",
              "    <tr>\n",
              "      <th>4</th>\n",
              "      <td>1</td>\n",
              "      <td>183.883288</td>\n",
              "      <td>0.102557</td>\n",
              "      <td>17.55025</td>\n",
              "      <td>16.26342</td>\n",
              "      <td>16.43869</td>\n",
              "      <td>16.55492</td>\n",
              "      <td>16.61326</td>\n",
              "      <td>269</td>\n",
              "      <td>0.000590</td>\n",
              "      <td>3306</td>\n",
              "      <td>54922</td>\n",
              "      <td>512</td>\n",
              "    </tr>\n",
              "    <tr>\n",
              "      <th>...</th>\n",
              "      <td>...</td>\n",
              "      <td>...</td>\n",
              "      <td>...</td>\n",
              "      <td>...</td>\n",
              "      <td>...</td>\n",
              "      <td>...</td>\n",
              "      <td>...</td>\n",
              "      <td>...</td>\n",
              "      <td>...</td>\n",
              "      <td>...</td>\n",
              "      <td>...</td>\n",
              "      <td>...</td>\n",
              "      <td>...</td>\n",
              "    </tr>\n",
              "    <tr>\n",
              "      <th>9995</th>\n",
              "      <td>2</td>\n",
              "      <td>131.316413</td>\n",
              "      <td>51.539547</td>\n",
              "      <td>18.81777</td>\n",
              "      <td>17.47053</td>\n",
              "      <td>16.91508</td>\n",
              "      <td>16.68305</td>\n",
              "      <td>16.50570</td>\n",
              "      <td>161</td>\n",
              "      <td>0.027583</td>\n",
              "      <td>447</td>\n",
              "      <td>51877</td>\n",
              "      <td>246</td>\n",
              "    </tr>\n",
              "    <tr>\n",
              "      <th>9996</th>\n",
              "      <td>2</td>\n",
              "      <td>131.306083</td>\n",
              "      <td>51.671341</td>\n",
              "      <td>18.27255</td>\n",
              "      <td>17.43849</td>\n",
              "      <td>17.07692</td>\n",
              "      <td>16.71661</td>\n",
              "      <td>16.69897</td>\n",
              "      <td>162</td>\n",
              "      <td>0.117772</td>\n",
              "      <td>447</td>\n",
              "      <td>51877</td>\n",
              "      <td>228</td>\n",
              "    </tr>\n",
              "    <tr>\n",
              "      <th>9997</th>\n",
              "      <td>1</td>\n",
              "      <td>131.552562</td>\n",
              "      <td>51.666986</td>\n",
              "      <td>18.75818</td>\n",
              "      <td>17.77784</td>\n",
              "      <td>17.51872</td>\n",
              "      <td>17.43302</td>\n",
              "      <td>17.42048</td>\n",
              "      <td>162</td>\n",
              "      <td>-0.000402</td>\n",
              "      <td>7303</td>\n",
              "      <td>57013</td>\n",
              "      <td>622</td>\n",
              "    </tr>\n",
              "    <tr>\n",
              "      <th>9998</th>\n",
              "      <td>2</td>\n",
              "      <td>131.477151</td>\n",
              "      <td>51.753068</td>\n",
              "      <td>18.88287</td>\n",
              "      <td>17.91068</td>\n",
              "      <td>17.53152</td>\n",
              "      <td>17.36284</td>\n",
              "      <td>17.13988</td>\n",
              "      <td>163</td>\n",
              "      <td>0.014019</td>\n",
              "      <td>447</td>\n",
              "      <td>51877</td>\n",
              "      <td>229</td>\n",
              "    </tr>\n",
              "    <tr>\n",
              "      <th>9999</th>\n",
              "      <td>2</td>\n",
              "      <td>131.665012</td>\n",
              "      <td>51.805307</td>\n",
              "      <td>19.27586</td>\n",
              "      <td>17.37829</td>\n",
              "      <td>16.30542</td>\n",
              "      <td>15.83548</td>\n",
              "      <td>15.50588</td>\n",
              "      <td>163</td>\n",
              "      <td>0.118417</td>\n",
              "      <td>447</td>\n",
              "      <td>51877</td>\n",
              "      <td>233</td>\n",
              "    </tr>\n",
              "  </tbody>\n",
              "</table>\n",
              "<p>10000 rows × 13 columns</p>\n",
              "</div>\n",
              "      <button class=\"colab-df-convert\" onclick=\"convertToInteractive('df-db657cc9-dc90-4a42-b804-8792db5686c4')\"\n",
              "              title=\"Convert this dataframe to an interactive table.\"\n",
              "              style=\"display:none;\">\n",
              "        \n",
              "  <svg xmlns=\"http://www.w3.org/2000/svg\" height=\"24px\"viewBox=\"0 0 24 24\"\n",
              "       width=\"24px\">\n",
              "    <path d=\"M0 0h24v24H0V0z\" fill=\"none\"/>\n",
              "    <path d=\"M18.56 5.44l.94 2.06.94-2.06 2.06-.94-2.06-.94-.94-2.06-.94 2.06-2.06.94zm-11 1L8.5 8.5l.94-2.06 2.06-.94-2.06-.94L8.5 2.5l-.94 2.06-2.06.94zm10 10l.94 2.06.94-2.06 2.06-.94-2.06-.94-.94-2.06-.94 2.06-2.06.94z\"/><path d=\"M17.41 7.96l-1.37-1.37c-.4-.4-.92-.59-1.43-.59-.52 0-1.04.2-1.43.59L10.3 9.45l-7.72 7.72c-.78.78-.78 2.05 0 2.83L4 21.41c.39.39.9.59 1.41.59.51 0 1.02-.2 1.41-.59l7.78-7.78 2.81-2.81c.8-.78.8-2.07 0-2.86zM5.41 20L4 18.59l7.72-7.72 1.47 1.35L5.41 20z\"/>\n",
              "  </svg>\n",
              "      </button>\n",
              "      \n",
              "  <style>\n",
              "    .colab-df-container {\n",
              "      display:flex;\n",
              "      flex-wrap:wrap;\n",
              "      gap: 12px;\n",
              "    }\n",
              "\n",
              "    .colab-df-convert {\n",
              "      background-color: #E8F0FE;\n",
              "      border: none;\n",
              "      border-radius: 50%;\n",
              "      cursor: pointer;\n",
              "      display: none;\n",
              "      fill: #1967D2;\n",
              "      height: 32px;\n",
              "      padding: 0 0 0 0;\n",
              "      width: 32px;\n",
              "    }\n",
              "\n",
              "    .colab-df-convert:hover {\n",
              "      background-color: #E2EBFA;\n",
              "      box-shadow: 0px 1px 2px rgba(60, 64, 67, 0.3), 0px 1px 3px 1px rgba(60, 64, 67, 0.15);\n",
              "      fill: #174EA6;\n",
              "    }\n",
              "\n",
              "    [theme=dark] .colab-df-convert {\n",
              "      background-color: #3B4455;\n",
              "      fill: #D2E3FC;\n",
              "    }\n",
              "\n",
              "    [theme=dark] .colab-df-convert:hover {\n",
              "      background-color: #434B5C;\n",
              "      box-shadow: 0px 1px 3px 1px rgba(0, 0, 0, 0.15);\n",
              "      filter: drop-shadow(0px 1px 2px rgba(0, 0, 0, 0.3));\n",
              "      fill: #FFFFFF;\n",
              "    }\n",
              "  </style>\n",
              "\n",
              "      <script>\n",
              "        const buttonEl =\n",
              "          document.querySelector('#df-db657cc9-dc90-4a42-b804-8792db5686c4 button.colab-df-convert');\n",
              "        buttonEl.style.display =\n",
              "          google.colab.kernel.accessAllowed ? 'block' : 'none';\n",
              "\n",
              "        async function convertToInteractive(key) {\n",
              "          const element = document.querySelector('#df-db657cc9-dc90-4a42-b804-8792db5686c4');\n",
              "          const dataTable =\n",
              "            await google.colab.kernel.invokeFunction('convertToInteractive',\n",
              "                                                     [key], {});\n",
              "          if (!dataTable) return;\n",
              "\n",
              "          const docLinkHtml = 'Like what you see? Visit the ' +\n",
              "            '<a target=\"_blank\" href=https://colab.research.google.com/notebooks/data_table.ipynb>data table notebook</a>'\n",
              "            + ' to learn more about interactive tables.';\n",
              "          element.innerHTML = '';\n",
              "          dataTable['output_type'] = 'display_data';\n",
              "          await google.colab.output.renderOutput(dataTable, element);\n",
              "          const docLink = document.createElement('div');\n",
              "          docLink.innerHTML = docLinkHtml;\n",
              "          element.appendChild(docLink);\n",
              "        }\n",
              "      </script>\n",
              "    </div>\n",
              "  </div>\n",
              "  "
            ]
          },
          "metadata": {},
          "execution_count": 40
        }
      ],
      "source": [
        "sloan_survey.Class = sloan_survey.replace(\n",
        "    {\"Class\": {'STAR': 1, \n",
        "               'GALAXY': 2,\n",
        "               'QSO': 3,\n",
        "              }}                \n",
        "                  ).Class \n",
        "sloan_survey  "
      ]
    },
    {
      "cell_type": "code",
      "execution_count": null,
      "metadata": {
        "colab": {
          "base_uri": "https://localhost:8080/"
        },
        "id": "drzFWkFSwmQu",
        "outputId": "d385c005-43d3-4602-d9e4-e3b47e25f6d4"
      },
      "outputs": [
        {
          "output_type": "stream",
          "name": "stdout",
          "text": [
            "<class 'pandas.core.frame.DataFrame'>\n",
            "RangeIndex: 10000 entries, 0 to 9999\n",
            "Data columns (total 13 columns):\n",
            " #   Column    Non-Null Count  Dtype  \n",
            "---  ------    --------------  -----  \n",
            " 0   Class     10000 non-null  int64  \n",
            " 1   ra        10000 non-null  float64\n",
            " 2   dec       10000 non-null  float64\n",
            " 3   u         10000 non-null  float64\n",
            " 4   g         10000 non-null  float64\n",
            " 5   r         10000 non-null  float64\n",
            " 6   i         10000 non-null  float64\n",
            " 7   z         10000 non-null  float64\n",
            " 8   field     10000 non-null  int64  \n",
            " 9   redshift  10000 non-null  float64\n",
            " 10  plate     10000 non-null  int64  \n",
            " 11  mjd       10000 non-null  int64  \n",
            " 12  fiberid   10000 non-null  int64  \n",
            "dtypes: float64(8), int64(5)\n",
            "memory usage: 1015.8 KB\n"
          ]
        },
        {
          "output_type": "execute_result",
          "data": {
            "text/plain": [
              "pandas.core.frame.DataFrame"
            ]
          },
          "metadata": {},
          "execution_count": 41
        }
      ],
      "source": [
        "sloan_survey.info()\n",
        "type(sloan_survey)"
      ]
    },
    {
      "cell_type": "markdown",
      "metadata": {
        "id": "CVm7Ksw-VRGS"
      },
      "source": [
        "### Selecting Features by applying Principal Component Analysis (PCA)\n",
        "As we saw in the correlation map, features u, g, r, i, z are highly correlated. So we will use PCA to reduce from five resources to three and have better accuracy.\n",
        "\n"
      ]
    },
    {
      "cell_type": "code",
      "execution_count": null,
      "metadata": {
        "colab": {
          "base_uri": "https://localhost:8080/",
          "height": 488
        },
        "id": "RfQS9DfLVMks",
        "outputId": "5dae67a3-e5f8-4b3b-ad62-430eddfeffc7"
      },
      "outputs": [
        {
          "output_type": "execute_result",
          "data": {
            "text/plain": [
              "      Class          ra        dec  field  redshift  plate    mjd  fiberid  \\\n",
              "0         1  183.531326   0.089693    267 -0.000009   3306  54922      491   \n",
              "1         1  183.598370   0.135285    267 -0.000055    323  51615      541   \n",
              "2         2  183.680207   0.126185    268  0.123111    287  52023      513   \n",
              "3         1  183.870529   0.049911    269 -0.000111   3306  54922      510   \n",
              "4         1  183.883288   0.102557    269  0.000590   3306  54922      512   \n",
              "...     ...         ...        ...    ...       ...    ...    ...      ...   \n",
              "9995      2  131.316413  51.539547    161  0.027583    447  51877      246   \n",
              "9996      2  131.306083  51.671341    162  0.117772    447  51877      228   \n",
              "9997      1  131.552562  51.666986    162 -0.000402   7303  57013      622   \n",
              "9998      2  131.477151  51.753068    163  0.014019    447  51877      229   \n",
              "9999      2  131.665012  51.805307    163  0.118417    447  51877      233   \n",
              "\n",
              "            F1        F2        F3  \n",
              "0    -1.507202 -1.377293 -0.265119  \n",
              "1    -0.195758 -0.028410 -0.155695  \n",
              "2     1.297604 -0.590023  0.140338  \n",
              "3    -1.446117  0.566685 -0.009272  \n",
              "4    -0.849271  1.287505 -0.397689  \n",
              "...        ...       ...       ...  \n",
              "9995  0.222959 -0.134301 -0.057857  \n",
              "9996  0.259171  0.415333  0.158501  \n",
              "9997  1.480725  0.388717 -0.126646  \n",
              "9998  1.392088  0.117004  0.038818  \n",
              "9999 -0.936205 -1.113215 -0.001130  \n",
              "\n",
              "[10000 rows x 11 columns]"
            ],
            "text/html": [
              "\n",
              "  <div id=\"df-d9097eeb-1120-4f74-8735-918b160f14bc\">\n",
              "    <div class=\"colab-df-container\">\n",
              "      <div>\n",
              "<style scoped>\n",
              "    .dataframe tbody tr th:only-of-type {\n",
              "        vertical-align: middle;\n",
              "    }\n",
              "\n",
              "    .dataframe tbody tr th {\n",
              "        vertical-align: top;\n",
              "    }\n",
              "\n",
              "    .dataframe thead th {\n",
              "        text-align: right;\n",
              "    }\n",
              "</style>\n",
              "<table border=\"1\" class=\"dataframe\">\n",
              "  <thead>\n",
              "    <tr style=\"text-align: right;\">\n",
              "      <th></th>\n",
              "      <th>Class</th>\n",
              "      <th>ra</th>\n",
              "      <th>dec</th>\n",
              "      <th>field</th>\n",
              "      <th>redshift</th>\n",
              "      <th>plate</th>\n",
              "      <th>mjd</th>\n",
              "      <th>fiberid</th>\n",
              "      <th>F1</th>\n",
              "      <th>F2</th>\n",
              "      <th>F3</th>\n",
              "    </tr>\n",
              "  </thead>\n",
              "  <tbody>\n",
              "    <tr>\n",
              "      <th>0</th>\n",
              "      <td>1</td>\n",
              "      <td>183.531326</td>\n",
              "      <td>0.089693</td>\n",
              "      <td>267</td>\n",
              "      <td>-0.000009</td>\n",
              "      <td>3306</td>\n",
              "      <td>54922</td>\n",
              "      <td>491</td>\n",
              "      <td>-1.507202</td>\n",
              "      <td>-1.377293</td>\n",
              "      <td>-0.265119</td>\n",
              "    </tr>\n",
              "    <tr>\n",
              "      <th>1</th>\n",
              "      <td>1</td>\n",
              "      <td>183.598370</td>\n",
              "      <td>0.135285</td>\n",
              "      <td>267</td>\n",
              "      <td>-0.000055</td>\n",
              "      <td>323</td>\n",
              "      <td>51615</td>\n",
              "      <td>541</td>\n",
              "      <td>-0.195758</td>\n",
              "      <td>-0.028410</td>\n",
              "      <td>-0.155695</td>\n",
              "    </tr>\n",
              "    <tr>\n",
              "      <th>2</th>\n",
              "      <td>2</td>\n",
              "      <td>183.680207</td>\n",
              "      <td>0.126185</td>\n",
              "      <td>268</td>\n",
              "      <td>0.123111</td>\n",
              "      <td>287</td>\n",
              "      <td>52023</td>\n",
              "      <td>513</td>\n",
              "      <td>1.297604</td>\n",
              "      <td>-0.590023</td>\n",
              "      <td>0.140338</td>\n",
              "    </tr>\n",
              "    <tr>\n",
              "      <th>3</th>\n",
              "      <td>1</td>\n",
              "      <td>183.870529</td>\n",
              "      <td>0.049911</td>\n",
              "      <td>269</td>\n",
              "      <td>-0.000111</td>\n",
              "      <td>3306</td>\n",
              "      <td>54922</td>\n",
              "      <td>510</td>\n",
              "      <td>-1.446117</td>\n",
              "      <td>0.566685</td>\n",
              "      <td>-0.009272</td>\n",
              "    </tr>\n",
              "    <tr>\n",
              "      <th>4</th>\n",
              "      <td>1</td>\n",
              "      <td>183.883288</td>\n",
              "      <td>0.102557</td>\n",
              "      <td>269</td>\n",
              "      <td>0.000590</td>\n",
              "      <td>3306</td>\n",
              "      <td>54922</td>\n",
              "      <td>512</td>\n",
              "      <td>-0.849271</td>\n",
              "      <td>1.287505</td>\n",
              "      <td>-0.397689</td>\n",
              "    </tr>\n",
              "    <tr>\n",
              "      <th>...</th>\n",
              "      <td>...</td>\n",
              "      <td>...</td>\n",
              "      <td>...</td>\n",
              "      <td>...</td>\n",
              "      <td>...</td>\n",
              "      <td>...</td>\n",
              "      <td>...</td>\n",
              "      <td>...</td>\n",
              "      <td>...</td>\n",
              "      <td>...</td>\n",
              "      <td>...</td>\n",
              "    </tr>\n",
              "    <tr>\n",
              "      <th>9995</th>\n",
              "      <td>2</td>\n",
              "      <td>131.316413</td>\n",
              "      <td>51.539547</td>\n",
              "      <td>161</td>\n",
              "      <td>0.027583</td>\n",
              "      <td>447</td>\n",
              "      <td>51877</td>\n",
              "      <td>246</td>\n",
              "      <td>0.222959</td>\n",
              "      <td>-0.134301</td>\n",
              "      <td>-0.057857</td>\n",
              "    </tr>\n",
              "    <tr>\n",
              "      <th>9996</th>\n",
              "      <td>2</td>\n",
              "      <td>131.306083</td>\n",
              "      <td>51.671341</td>\n",
              "      <td>162</td>\n",
              "      <td>0.117772</td>\n",
              "      <td>447</td>\n",
              "      <td>51877</td>\n",
              "      <td>228</td>\n",
              "      <td>0.259171</td>\n",
              "      <td>0.415333</td>\n",
              "      <td>0.158501</td>\n",
              "    </tr>\n",
              "    <tr>\n",
              "      <th>9997</th>\n",
              "      <td>1</td>\n",
              "      <td>131.552562</td>\n",
              "      <td>51.666986</td>\n",
              "      <td>162</td>\n",
              "      <td>-0.000402</td>\n",
              "      <td>7303</td>\n",
              "      <td>57013</td>\n",
              "      <td>622</td>\n",
              "      <td>1.480725</td>\n",
              "      <td>0.388717</td>\n",
              "      <td>-0.126646</td>\n",
              "    </tr>\n",
              "    <tr>\n",
              "      <th>9998</th>\n",
              "      <td>2</td>\n",
              "      <td>131.477151</td>\n",
              "      <td>51.753068</td>\n",
              "      <td>163</td>\n",
              "      <td>0.014019</td>\n",
              "      <td>447</td>\n",
              "      <td>51877</td>\n",
              "      <td>229</td>\n",
              "      <td>1.392088</td>\n",
              "      <td>0.117004</td>\n",
              "      <td>0.038818</td>\n",
              "    </tr>\n",
              "    <tr>\n",
              "      <th>9999</th>\n",
              "      <td>2</td>\n",
              "      <td>131.665012</td>\n",
              "      <td>51.805307</td>\n",
              "      <td>163</td>\n",
              "      <td>0.118417</td>\n",
              "      <td>447</td>\n",
              "      <td>51877</td>\n",
              "      <td>233</td>\n",
              "      <td>-0.936205</td>\n",
              "      <td>-1.113215</td>\n",
              "      <td>-0.001130</td>\n",
              "    </tr>\n",
              "  </tbody>\n",
              "</table>\n",
              "<p>10000 rows × 11 columns</p>\n",
              "</div>\n",
              "      <button class=\"colab-df-convert\" onclick=\"convertToInteractive('df-d9097eeb-1120-4f74-8735-918b160f14bc')\"\n",
              "              title=\"Convert this dataframe to an interactive table.\"\n",
              "              style=\"display:none;\">\n",
              "        \n",
              "  <svg xmlns=\"http://www.w3.org/2000/svg\" height=\"24px\"viewBox=\"0 0 24 24\"\n",
              "       width=\"24px\">\n",
              "    <path d=\"M0 0h24v24H0V0z\" fill=\"none\"/>\n",
              "    <path d=\"M18.56 5.44l.94 2.06.94-2.06 2.06-.94-2.06-.94-.94-2.06-.94 2.06-2.06.94zm-11 1L8.5 8.5l.94-2.06 2.06-.94-2.06-.94L8.5 2.5l-.94 2.06-2.06.94zm10 10l.94 2.06.94-2.06 2.06-.94-2.06-.94-.94-2.06-.94 2.06-2.06.94z\"/><path d=\"M17.41 7.96l-1.37-1.37c-.4-.4-.92-.59-1.43-.59-.52 0-1.04.2-1.43.59L10.3 9.45l-7.72 7.72c-.78.78-.78 2.05 0 2.83L4 21.41c.39.39.9.59 1.41.59.51 0 1.02-.2 1.41-.59l7.78-7.78 2.81-2.81c.8-.78.8-2.07 0-2.86zM5.41 20L4 18.59l7.72-7.72 1.47 1.35L5.41 20z\"/>\n",
              "  </svg>\n",
              "      </button>\n",
              "      \n",
              "  <style>\n",
              "    .colab-df-container {\n",
              "      display:flex;\n",
              "      flex-wrap:wrap;\n",
              "      gap: 12px;\n",
              "    }\n",
              "\n",
              "    .colab-df-convert {\n",
              "      background-color: #E8F0FE;\n",
              "      border: none;\n",
              "      border-radius: 50%;\n",
              "      cursor: pointer;\n",
              "      display: none;\n",
              "      fill: #1967D2;\n",
              "      height: 32px;\n",
              "      padding: 0 0 0 0;\n",
              "      width: 32px;\n",
              "    }\n",
              "\n",
              "    .colab-df-convert:hover {\n",
              "      background-color: #E2EBFA;\n",
              "      box-shadow: 0px 1px 2px rgba(60, 64, 67, 0.3), 0px 1px 3px 1px rgba(60, 64, 67, 0.15);\n",
              "      fill: #174EA6;\n",
              "    }\n",
              "\n",
              "    [theme=dark] .colab-df-convert {\n",
              "      background-color: #3B4455;\n",
              "      fill: #D2E3FC;\n",
              "    }\n",
              "\n",
              "    [theme=dark] .colab-df-convert:hover {\n",
              "      background-color: #434B5C;\n",
              "      box-shadow: 0px 1px 3px 1px rgba(0, 0, 0, 0.15);\n",
              "      filter: drop-shadow(0px 1px 2px rgba(0, 0, 0, 0.3));\n",
              "      fill: #FFFFFF;\n",
              "    }\n",
              "  </style>\n",
              "\n",
              "      <script>\n",
              "        const buttonEl =\n",
              "          document.querySelector('#df-d9097eeb-1120-4f74-8735-918b160f14bc button.colab-df-convert');\n",
              "        buttonEl.style.display =\n",
              "          google.colab.kernel.accessAllowed ? 'block' : 'none';\n",
              "\n",
              "        async function convertToInteractive(key) {\n",
              "          const element = document.querySelector('#df-d9097eeb-1120-4f74-8735-918b160f14bc');\n",
              "          const dataTable =\n",
              "            await google.colab.kernel.invokeFunction('convertToInteractive',\n",
              "                                                     [key], {});\n",
              "          if (!dataTable) return;\n",
              "\n",
              "          const docLinkHtml = 'Like what you see? Visit the ' +\n",
              "            '<a target=\"_blank\" href=https://colab.research.google.com/notebooks/data_table.ipynb>data table notebook</a>'\n",
              "            + ' to learn more about interactive tables.';\n",
              "          element.innerHTML = '';\n",
              "          dataTable['output_type'] = 'display_data';\n",
              "          await google.colab.output.renderOutput(dataTable, element);\n",
              "          const docLink = document.createElement('div');\n",
              "          docLink.innerHTML = docLinkHtml;\n",
              "          element.appendChild(docLink);\n",
              "        }\n",
              "      </script>\n",
              "    </div>\n",
              "  </div>\n",
              "  "
            ]
          },
          "metadata": {},
          "execution_count": 42
        }
      ],
      "source": [
        "from sklearn.decomposition import PCA \n",
        "#(based on: https://www.kaggle.com/code/sanchitvj/sdss-dr16-data-analysis/notebook)\n",
        "pca = PCA(n_components = 3)\n",
        "df_pca = pca.fit_transform(sloan_survey[['u', 'g', 'r', 'i', 'z']])\n",
        "\n",
        "sloan_survey  = pd.concat((sloan_survey, pd.DataFrame(df_pca)), axis = 1)\n",
        "sloan_survey .rename({0:'F1', 1:'F2', 2:'F3'}, axis = 1, inplace = True)\n",
        "sloan_survey .drop(['u', 'g', 'r', 'i', 'z'], axis = 1, inplace = True)\n",
        "sloan_survey "
      ]
    },
    {
      "cell_type": "markdown",
      "metadata": {
        "id": "DXi3MtDYW8Wp"
      },
      "source": [
        "\\\\\n",
        "\n",
        "Spliting our df"
      ]
    },
    {
      "cell_type": "code",
      "execution_count": null,
      "metadata": {
        "id": "hC91qvB0Zd-9"
      },
      "outputs": [],
      "source": [
        "train_df, test_df = train_test_split(sloan_survey, test_size = 0.3, random_state = 7)\n",
        "#train_df, val_df = train_test_split(train_df, test_size = 0.3, random_state = 7)\n",
        "    #here we decided to not create the validation because after we will use only Grid Search for optimization"
      ]
    },
    {
      "cell_type": "code",
      "execution_count": null,
      "metadata": {
        "colab": {
          "base_uri": "https://localhost:8080/"
        },
        "id": "M_R0XDZkU7X8",
        "outputId": "ccd0c95d-2af4-4200-a8b1-d6feccd1de91"
      },
      "outputs": [
        {
          "output_type": "execute_result",
          "data": {
            "text/plain": [
              "(7000, 11)"
            ]
          },
          "metadata": {},
          "execution_count": 44
        }
      ],
      "source": [
        "# Checking for the size of our new datasets and if our splitting code worked \n",
        "\n",
        "# This step is important to see if the matrix that we will build to test the models \n",
        "# is correct\n",
        "\n",
        "# Train dataset shape \n",
        "train_df.shape"
      ]
    },
    {
      "cell_type": "code",
      "execution_count": null,
      "metadata": {
        "id": "KKzhsHdmU9jH"
      },
      "outputs": [],
      "source": [
        "# Validation dataset shape\n",
        "#val_df.shape"
      ]
    },
    {
      "cell_type": "code",
      "execution_count": null,
      "metadata": {
        "colab": {
          "base_uri": "https://localhost:8080/"
        },
        "id": "zTSwxCsfvBDZ",
        "outputId": "aa385f5b-3970-477a-90da-1471cc3b77c4"
      },
      "outputs": [
        {
          "output_type": "execute_result",
          "data": {
            "text/plain": [
              "(3000, 11)"
            ]
          },
          "metadata": {},
          "execution_count": 46
        }
      ],
      "source": [
        "# Test dataset shape\n",
        "test_df.shape"
      ]
    },
    {
      "cell_type": "code",
      "execution_count": null,
      "metadata": {
        "id": "vquPjg_tVHUS"
      },
      "outputs": [],
      "source": [
        "# Now, we will concat these dataframes in one (df) so we can apply all the transformations \n",
        "# at the same time to all the dataframes \n",
        "\n",
        "df = pd.concat((train_df.loc[:,'ra':'F3'],\n",
        "             #   val_df.loc[:,'ra':'F3'],\n",
        "                test_df.loc[:,'ra':'F3']))"
      ]
    },
    {
      "cell_type": "code",
      "execution_count": null,
      "metadata": {
        "colab": {
          "base_uri": "https://localhost:8080/"
        },
        "id": "aHPe75EQXqPP",
        "outputId": "8fbe4bed-3fd2-42de-e3d5-98aa0d7e524d"
      },
      "outputs": [
        {
          "output_type": "execute_result",
          "data": {
            "text/plain": [
              "(10000, 10)"
            ]
          },
          "metadata": {},
          "execution_count": 48
        }
      ],
      "source": [
        "# Checking if everything went well when concating the data \n",
        "\n",
        "df.shape"
      ]
    },
    {
      "cell_type": "markdown",
      "metadata": {
        "id": "8VFksD8zcnv2"
      },
      "source": [
        "Selecionar o conjunto de informações relevantes "
      ]
    },
    {
      "cell_type": "code",
      "execution_count": null,
      "metadata": {
        "id": "7bBvQXTsd6n7"
      },
      "outputs": [],
      "source": [
        "X_train = df[:train_df.shape[0]]\n",
        "#X_val = df[:val_df.shape[0]]\n",
        "X_test = df[:test_df.shape[0]]\n",
        "y_train = train_df.Class\n",
        "#y_val = val_df.Class\n",
        "y_test = test_df.Class"
      ]
    },
    {
      "cell_type": "markdown",
      "metadata": {
        "id": "4aNQXqy_VPVo"
      },
      "source": [
        "# B) Running Models \n",
        "* Decision Trees\n",
        "* Random Forest \n",
        "* AdaBoost\n",
        "* Gradient Boosting"
      ]
    },
    {
      "cell_type": "markdown",
      "metadata": {
        "id": "M31zjf1tbTiu"
      },
      "source": [
        "### DECISION TREES\n"
      ]
    },
    {
      "cell_type": "code",
      "execution_count": null,
      "metadata": {
        "colab": {
          "base_uri": "https://localhost:8080/"
        },
        "id": "uW9_q54_snpQ",
        "outputId": "31a14c61-7bee-4400-8a7e-7433e8950d88"
      },
      "outputs": [
        {
          "output_type": "stream",
          "name": "stdout",
          "text": [
            "Looking in indexes: https://pypi.org/simple, https://us-python.pkg.dev/colab-wheels/public/simple/\n",
            "Requirement already satisfied: sklearn in /usr/local/lib/python3.7/dist-packages (0.0)\n",
            "Requirement already satisfied: scikit-learn in /usr/local/lib/python3.7/dist-packages (from sklearn) (1.0.2)\n",
            "Requirement already satisfied: joblib>=0.11 in /usr/local/lib/python3.7/dist-packages (from scikit-learn->sklearn) (1.1.0)\n",
            "Requirement already satisfied: threadpoolctl>=2.0.0 in /usr/local/lib/python3.7/dist-packages (from scikit-learn->sklearn) (3.1.0)\n",
            "Requirement already satisfied: scipy>=1.1.0 in /usr/local/lib/python3.7/dist-packages (from scikit-learn->sklearn) (1.4.1)\n",
            "Requirement already satisfied: numpy>=1.14.6 in /usr/local/lib/python3.7/dist-packages (from scikit-learn->sklearn) (1.21.6)\n"
          ]
        }
      ],
      "source": [
        "!pip install sklearn"
      ]
    },
    {
      "cell_type": "code",
      "execution_count": null,
      "metadata": {
        "id": "Gz3toA1OVggL"
      },
      "outputs": [],
      "source": [
        "# DECISION TREES\n",
        "\n",
        "#Scikit\n",
        "from sklearn.tree import DecisionTreeClassifier\n",
        "from sklearn.ensemble import BaggingRegressor, RandomForestRegressor, AdaBoostRegressor, GradientBoostingRegressor\n",
        "from sklearn.metrics import accuracy_score, confusion_matrix\n",
        "from sklearn import metrics\n",
        "from sklearn.tree import _tree\n",
        "\n",
        "import warnings\n",
        "warnings.simplefilter('ignore')"
      ]
    },
    {
      "cell_type": "code",
      "execution_count": null,
      "metadata": {
        "colab": {
          "base_uri": "https://localhost:8080/",
          "height": 301
        },
        "id": "AdXvI6Q2jNwq",
        "outputId": "5cfc8ffc-1b85-43c5-9aae-ba2e5d789df7"
      },
      "outputs": [
        {
          "output_type": "execute_result",
          "data": {
            "text/plain": [
              "<graphviz.files.Source at 0x7f922b6d0110>"
            ],
            "image/svg+xml": "<?xml version=\"1.0\" encoding=\"UTF-8\" standalone=\"no\"?>\n<!DOCTYPE svg PUBLIC \"-//W3C//DTD SVG 1.1//EN\"\n \"http://www.w3.org/Graphics/SVG/1.1/DTD/svg11.dtd\">\n<!-- Generated by graphviz version 2.40.1 (20161225.0304)\n -->\n<!-- Title: Tree Pages: 1 -->\n<svg width=\"330pt\" height=\"195pt\"\n viewBox=\"0.00 0.00 330.00 195.00\" xmlns=\"http://www.w3.org/2000/svg\" xmlns:xlink=\"http://www.w3.org/1999/xlink\">\n<g id=\"graph0\" class=\"graph\" transform=\"scale(1 1) rotate(0) translate(4 191)\">\n<title>Tree</title>\n<polygon fill=\"#ffffff\" stroke=\"transparent\" points=\"-4,4 -4,-191 326,-191 326,4 -4,4\"/>\n<!-- 0 -->\n<g id=\"node1\" class=\"node\">\n<title>0</title>\n<path fill=\"#e0fbeb\" stroke=\"#000000\" d=\"M237.5,-187C237.5,-187 80.5,-187 80.5,-187 74.5,-187 68.5,-181 68.5,-175 68.5,-175 68.5,-116 68.5,-116 68.5,-110 74.5,-104 80.5,-104 80.5,-104 237.5,-104 237.5,-104 243.5,-104 249.5,-110 249.5,-116 249.5,-116 249.5,-175 249.5,-175 249.5,-181 243.5,-187 237.5,-187\"/>\n<text text-anchor=\"middle\" x=\"159\" y=\"-171.8\" font-family=\"Helvetica,sans-Serif\" font-size=\"14.00\" fill=\"#000000\">X[3] &lt;= 0.002</text>\n<text text-anchor=\"middle\" x=\"159\" y=\"-156.8\" font-family=\"Helvetica,sans-Serif\" font-size=\"14.00\" fill=\"#000000\">gini = 0.568</text>\n<text text-anchor=\"middle\" x=\"159\" y=\"-141.8\" font-family=\"Helvetica,sans-Serif\" font-size=\"14.00\" fill=\"#000000\">samples = 7000</text>\n<text text-anchor=\"middle\" x=\"159\" y=\"-126.8\" font-family=\"Helvetica,sans-Serif\" font-size=\"14.00\" fill=\"#000000\">value = [2890, 3530, 580]</text>\n<text text-anchor=\"middle\" x=\"159\" y=\"-111.8\" font-family=\"Helvetica,sans-Serif\" font-size=\"14.00\" fill=\"#000000\">class = GALAXY</text>\n</g>\n<!-- 1 -->\n<g id=\"node2\" class=\"node\">\n<title>1</title>\n<path fill=\"#e5823a\" stroke=\"#000000\" d=\"M136,-68C136,-68 12,-68 12,-68 6,-68 0,-62 0,-56 0,-56 0,-12 0,-12 0,-6 6,0 12,0 12,0 136,0 136,0 142,0 148,-6 148,-12 148,-12 148,-56 148,-56 148,-62 142,-68 136,-68\"/>\n<text text-anchor=\"middle\" x=\"74\" y=\"-52.8\" font-family=\"Helvetica,sans-Serif\" font-size=\"14.00\" fill=\"#000000\">gini = 0.01</text>\n<text text-anchor=\"middle\" x=\"74\" y=\"-37.8\" font-family=\"Helvetica,sans-Serif\" font-size=\"14.00\" fill=\"#000000\">samples = 2901</text>\n<text text-anchor=\"middle\" x=\"74\" y=\"-22.8\" font-family=\"Helvetica,sans-Serif\" font-size=\"14.00\" fill=\"#000000\">value = [2887, 13, 1]</text>\n<text text-anchor=\"middle\" x=\"74\" y=\"-7.8\" font-family=\"Helvetica,sans-Serif\" font-size=\"14.00\" fill=\"#000000\">class = STAR</text>\n</g>\n<!-- 0&#45;&gt;1 -->\n<g id=\"edge1\" class=\"edge\">\n<title>0&#45;&gt;1</title>\n<path fill=\"none\" stroke=\"#000000\" d=\"M127.3491,-103.9815C120.4829,-94.9747 113.2118,-85.4367 106.3202,-76.3965\"/>\n<polygon fill=\"#000000\" stroke=\"#000000\" points=\"108.9664,-74.0945 100.1203,-68.2637 103.3995,-78.3383 108.9664,-74.0945\"/>\n<text text-anchor=\"middle\" x=\"96.779\" y=\"-89.3394\" font-family=\"Helvetica,sans-Serif\" font-size=\"14.00\" fill=\"#000000\">True</text>\n</g>\n<!-- 2 -->\n<g id=\"node3\" class=\"node\">\n<title>2</title>\n<path fill=\"#5ae996\" stroke=\"#000000\" d=\"M310,-68C310,-68 178,-68 178,-68 172,-68 166,-62 166,-56 166,-56 166,-12 166,-12 166,-6 172,0 178,0 178,0 310,0 310,0 316,0 322,-6 322,-12 322,-12 322,-56 322,-56 322,-62 316,-68 310,-68\"/>\n<text text-anchor=\"middle\" x=\"244\" y=\"-52.8\" font-family=\"Helvetica,sans-Serif\" font-size=\"14.00\" fill=\"#000000\">gini = 0.244</text>\n<text text-anchor=\"middle\" x=\"244\" y=\"-37.8\" font-family=\"Helvetica,sans-Serif\" font-size=\"14.00\" fill=\"#000000\">samples = 4099</text>\n<text text-anchor=\"middle\" x=\"244\" y=\"-22.8\" font-family=\"Helvetica,sans-Serif\" font-size=\"14.00\" fill=\"#000000\">value = [3, 3517, 579]</text>\n<text text-anchor=\"middle\" x=\"244\" y=\"-7.8\" font-family=\"Helvetica,sans-Serif\" font-size=\"14.00\" fill=\"#000000\">class = GALAXY</text>\n</g>\n<!-- 0&#45;&gt;2 -->\n<g id=\"edge2\" class=\"edge\">\n<title>0&#45;&gt;2</title>\n<path fill=\"none\" stroke=\"#000000\" d=\"M190.6509,-103.9815C197.5171,-94.9747 204.7882,-85.4367 211.6798,-76.3965\"/>\n<polygon fill=\"#000000\" stroke=\"#000000\" points=\"214.6005,-78.3383 217.8797,-68.2637 209.0336,-74.0945 214.6005,-78.3383\"/>\n<text text-anchor=\"middle\" x=\"221.221\" y=\"-89.3394\" font-family=\"Helvetica,sans-Serif\" font-size=\"14.00\" fill=\"#000000\">False</text>\n</g>\n</g>\n</svg>\n"
          },
          "metadata": {},
          "execution_count": 52
        }
      ],
      "source": [
        "# NAIVE 1: Decision tree with depth = 1 \n",
        "\n",
        "dtc = tree.DecisionTreeClassifier(max_depth = 1)  \n",
        "dtc_noprune = tree.DecisionTreeClassifier()\n",
        "\n",
        "dtc.fit(X_train, y_train)\n",
        "dtc_noprune.fit(X_train, y_train)\n",
        "\n",
        "dot_data = tree.export_graphviz(dtc, out_file=None, \n",
        "                     class_names = ['STAR', 'GALAXY', 'QSO'],\n",
        "                     filled=True, rounded=True) \n",
        "\n",
        "graph = graphviz.Source(dot_data) \n",
        "graph"
      ]
    },
    {
      "cell_type": "code",
      "execution_count": null,
      "metadata": {
        "colab": {
          "base_uri": "https://localhost:8080/"
        },
        "id": "ym29dzVlXOj4",
        "outputId": "96ecbd0e-a99e-46b4-9cc2-966507ebb8e7"
      },
      "outputs": [
        {
          "output_type": "stream",
          "name": "stdout",
          "text": [
            "Accuracy 0.458\n"
          ]
        }
      ],
      "source": [
        "y_pred_dtc = dtc.predict(X_test)\n",
        "cm_dtc = confusion_matrix(y_test, y_pred_dtc)\n",
        "print(\"Accuracy\", metrics.accuracy_score(y_test, y_pred_dtc))"
      ]
    },
    {
      "cell_type": "code",
      "execution_count": null,
      "metadata": {
        "id": "0HHg5XU3VZry"
      },
      "outputs": [],
      "source": [
        "#we tried to compute like this, but we failed: \n",
        "\n",
        "#all_n_estimators = [50, 100, 250]\n",
        "#all_max_depth = [1,2,3, 5,10, 25, 50]\n",
        "#accuracy_list = []\n",
        "#n_estimators_list = []\n",
        "#max_depth_list = []\n",
        "\n",
        "#for n_estimators in all_n_estimators:\n",
        " #   for max_depth in all_max_depth:\n",
        "  #      print('n_estimators', n_estimators,\n",
        "   #           'max_depth', max_depth )\n",
        "              \n",
        "    #    DTR = DecisionTreeRegressor(\n",
        "     #       n_estimators=n_estimators,\n",
        "      #      max_depth=max_depth\n",
        "       #     ).fit(X_train, y_train)\n",
        "        \n",
        "        #pred = DTR.predict(X_val)\n",
        "        \n",
        "        #accuracy = metrics.accuracy_score(y_val, np.exp(pred))\n",
        "        \n",
        "        #accuracy_list.append(accuracy)\n",
        "        #n_estimators_list.append(n_estimators)\n",
        "        #max_depth_list.append(max_depth)           \n"
      ]
    },
    {
      "cell_type": "code",
      "execution_count": null,
      "metadata": {
        "id": "8Gk8QZihV7AZ"
      },
      "outputs": [],
      "source": [
        "#results = pd.DataFrame({\n",
        "#    'n_estimators': n_estimators_list,\n",
        "#    'max_depth': max_depth_list,\n",
        "#    'accuracy': accuracy_list\n",
        "#})\n",
        "\n",
        "#results"
      ]
    },
    {
      "cell_type": "code",
      "execution_count": null,
      "metadata": {
        "colab": {
          "base_uri": "https://localhost:8080/",
          "height": 2046
        },
        "id": "7mhOVfQPWrLQ",
        "outputId": "aabab9f6-aa7b-4a0e-90a2-3188b065a65f"
      },
      "outputs": [
        {
          "output_type": "execute_result",
          "data": {
            "text/plain": [
              "<graphviz.files.Source at 0x7f92308fbc10>"
            ],
            "image/svg+xml": "<?xml version=\"1.0\" encoding=\"UTF-8\" standalone=\"no\"?>\n<!DOCTYPE svg PUBLIC \"-//W3C//DTD SVG 1.1//EN\"\n \"http://www.w3.org/Graphics/SVG/1.1/DTD/svg11.dtd\">\n<!-- Generated by graphviz version 2.40.1 (20161225.0304)\n -->\n<!-- Title: Tree Pages: 1 -->\n<svg width=\"4375pt\" height=\"1504pt\"\n viewBox=\"0.00 0.00 4375.00 1504.00\" xmlns=\"http://www.w3.org/2000/svg\" xmlns:xlink=\"http://www.w3.org/1999/xlink\">\n<g id=\"graph0\" class=\"graph\" transform=\"scale(1 1) rotate(0) translate(4 1500)\">\n<title>Tree</title>\n<polygon fill=\"#ffffff\" stroke=\"transparent\" points=\"-4,4 -4,-1500 4371,-1500 4371,4 -4,4\"/>\n<!-- 0 -->\n<g id=\"node1\" class=\"node\">\n<title>0</title>\n<path fill=\"#e0fbeb\" stroke=\"#000000\" d=\"M2227,-1496C2227,-1496 2070,-1496 2070,-1496 2064,-1496 2058,-1490 2058,-1484 2058,-1484 2058,-1425 2058,-1425 2058,-1419 2064,-1413 2070,-1413 2070,-1413 2227,-1413 2227,-1413 2233,-1413 2239,-1419 2239,-1425 2239,-1425 2239,-1484 2239,-1484 2239,-1490 2233,-1496 2227,-1496\"/>\n<text text-anchor=\"middle\" x=\"2148.5\" y=\"-1480.8\" font-family=\"Helvetica,sans-Serif\" font-size=\"14.00\" fill=\"#000000\">X[3] &lt;= 0.002</text>\n<text text-anchor=\"middle\" x=\"2148.5\" y=\"-1465.8\" font-family=\"Helvetica,sans-Serif\" font-size=\"14.00\" fill=\"#000000\">gini = 0.568</text>\n<text text-anchor=\"middle\" x=\"2148.5\" y=\"-1450.8\" font-family=\"Helvetica,sans-Serif\" font-size=\"14.00\" fill=\"#000000\">samples = 7000</text>\n<text text-anchor=\"middle\" x=\"2148.5\" y=\"-1435.8\" font-family=\"Helvetica,sans-Serif\" font-size=\"14.00\" fill=\"#000000\">value = [2890, 3530, 580]</text>\n<text text-anchor=\"middle\" x=\"2148.5\" y=\"-1420.8\" font-family=\"Helvetica,sans-Serif\" font-size=\"14.00\" fill=\"#000000\">class = GALAXY</text>\n</g>\n<!-- 1 -->\n<g id=\"node2\" class=\"node\">\n<title>1</title>\n<path fill=\"#e5823a\" stroke=\"#000000\" d=\"M1390.5,-1377C1390.5,-1377 1266.5,-1377 1266.5,-1377 1260.5,-1377 1254.5,-1371 1254.5,-1365 1254.5,-1365 1254.5,-1306 1254.5,-1306 1254.5,-1300 1260.5,-1294 1266.5,-1294 1266.5,-1294 1390.5,-1294 1390.5,-1294 1396.5,-1294 1402.5,-1300 1402.5,-1306 1402.5,-1306 1402.5,-1365 1402.5,-1365 1402.5,-1371 1396.5,-1377 1390.5,-1377\"/>\n<text text-anchor=\"middle\" x=\"1328.5\" y=\"-1361.8\" font-family=\"Helvetica,sans-Serif\" font-size=\"14.00\" fill=\"#000000\">X[3] &lt;= 0.002</text>\n<text text-anchor=\"middle\" x=\"1328.5\" y=\"-1346.8\" font-family=\"Helvetica,sans-Serif\" font-size=\"14.00\" fill=\"#000000\">gini = 0.01</text>\n<text text-anchor=\"middle\" x=\"1328.5\" y=\"-1331.8\" font-family=\"Helvetica,sans-Serif\" font-size=\"14.00\" fill=\"#000000\">samples = 2901</text>\n<text text-anchor=\"middle\" x=\"1328.5\" y=\"-1316.8\" font-family=\"Helvetica,sans-Serif\" font-size=\"14.00\" fill=\"#000000\">value = [2887, 13, 1]</text>\n<text text-anchor=\"middle\" x=\"1328.5\" y=\"-1301.8\" font-family=\"Helvetica,sans-Serif\" font-size=\"14.00\" fill=\"#000000\">class = STAR</text>\n</g>\n<!-- 0&#45;&gt;1 -->\n<g id=\"edge1\" class=\"edge\">\n<title>0&#45;&gt;1</title>\n<path fill=\"none\" stroke=\"#000000\" d=\"M2057.6126,-1441.3102C1897.5637,-1418.0836 1567.73,-1370.2175 1412.6156,-1347.707\"/>\n<polygon fill=\"#000000\" stroke=\"#000000\" points=\"1413.0538,-1344.234 1402.6548,-1346.2615 1412.0485,-1351.1615 1413.0538,-1344.234\"/>\n<text text-anchor=\"middle\" x=\"1417.6104\" y=\"-1362.5947\" font-family=\"Helvetica,sans-Serif\" font-size=\"14.00\" fill=\"#000000\">True</text>\n</g>\n<!-- 52 -->\n<g id=\"node53\" class=\"node\">\n<title>52</title>\n<path fill=\"#5ae996\" stroke=\"#000000\" d=\"M2576.5,-1377C2576.5,-1377 2444.5,-1377 2444.5,-1377 2438.5,-1377 2432.5,-1371 2432.5,-1365 2432.5,-1365 2432.5,-1306 2432.5,-1306 2432.5,-1300 2438.5,-1294 2444.5,-1294 2444.5,-1294 2576.5,-1294 2576.5,-1294 2582.5,-1294 2588.5,-1300 2588.5,-1306 2588.5,-1306 2588.5,-1365 2588.5,-1365 2588.5,-1371 2582.5,-1377 2576.5,-1377\"/>\n<text text-anchor=\"middle\" x=\"2510.5\" y=\"-1361.8\" font-family=\"Helvetica,sans-Serif\" font-size=\"14.00\" fill=\"#000000\">X[3] &lt;= 0.235</text>\n<text text-anchor=\"middle\" x=\"2510.5\" y=\"-1346.8\" font-family=\"Helvetica,sans-Serif\" font-size=\"14.00\" fill=\"#000000\">gini = 0.244</text>\n<text text-anchor=\"middle\" x=\"2510.5\" y=\"-1331.8\" font-family=\"Helvetica,sans-Serif\" font-size=\"14.00\" fill=\"#000000\">samples = 4099</text>\n<text text-anchor=\"middle\" x=\"2510.5\" y=\"-1316.8\" font-family=\"Helvetica,sans-Serif\" font-size=\"14.00\" fill=\"#000000\">value = [3, 3517, 579]</text>\n<text text-anchor=\"middle\" x=\"2510.5\" y=\"-1301.8\" font-family=\"Helvetica,sans-Serif\" font-size=\"14.00\" fill=\"#000000\">class = GALAXY</text>\n</g>\n<!-- 0&#45;&gt;52 -->\n<g id=\"edge52\" class=\"edge\">\n<title>0&#45;&gt;52</title>\n<path fill=\"none\" stroke=\"#000000\" d=\"M2239.3806,-1424.6249C2295.4916,-1406.1796 2367.1157,-1382.6346 2422.6541,-1364.3775\"/>\n<polygon fill=\"#000000\" stroke=\"#000000\" points=\"2424.0702,-1367.5963 2432.4771,-1361.1484 2421.8842,-1360.9464 2424.0702,-1367.5963\"/>\n<text text-anchor=\"middle\" x=\"2421.204\" y=\"-1379.7625\" font-family=\"Helvetica,sans-Serif\" font-size=\"14.00\" fill=\"#000000\">False</text>\n</g>\n<!-- 2 -->\n<g id=\"node3\" class=\"node\">\n<title>2</title>\n<path fill=\"#e5823a\" stroke=\"#000000\" d=\"M757.5,-1258C757.5,-1258 633.5,-1258 633.5,-1258 627.5,-1258 621.5,-1252 621.5,-1246 621.5,-1246 621.5,-1187 621.5,-1187 621.5,-1181 627.5,-1175 633.5,-1175 633.5,-1175 757.5,-1175 757.5,-1175 763.5,-1175 769.5,-1181 769.5,-1187 769.5,-1187 769.5,-1246 769.5,-1246 769.5,-1252 763.5,-1258 757.5,-1258\"/>\n<text text-anchor=\"middle\" x=\"695.5\" y=\"-1242.8\" font-family=\"Helvetica,sans-Serif\" font-size=\"14.00\" fill=\"#000000\">X[8] &lt;= &#45;0.971</text>\n<text text-anchor=\"middle\" x=\"695.5\" y=\"-1227.8\" font-family=\"Helvetica,sans-Serif\" font-size=\"14.00\" fill=\"#000000\">gini = 0.009</text>\n<text text-anchor=\"middle\" x=\"695.5\" y=\"-1212.8\" font-family=\"Helvetica,sans-Serif\" font-size=\"14.00\" fill=\"#000000\">samples = 2898</text>\n<text text-anchor=\"middle\" x=\"695.5\" y=\"-1197.8\" font-family=\"Helvetica,sans-Serif\" font-size=\"14.00\" fill=\"#000000\">value = [2885, 12, 1]</text>\n<text text-anchor=\"middle\" x=\"695.5\" y=\"-1182.8\" font-family=\"Helvetica,sans-Serif\" font-size=\"14.00\" fill=\"#000000\">class = STAR</text>\n</g>\n<!-- 1&#45;&gt;2 -->\n<g id=\"edge2\" class=\"edge\">\n<title>1&#45;&gt;2</title>\n<path fill=\"none\" stroke=\"#000000\" d=\"M1254.337,-1321.5578C1135.7736,-1299.2687 904.246,-1255.7429 779.6579,-1232.3211\"/>\n<polygon fill=\"#000000\" stroke=\"#000000\" points=\"780.25,-1228.8712 769.7755,-1230.4633 778.9567,-1235.7507 780.25,-1228.8712\"/>\n</g>\n<!-- 49 -->\n<g id=\"node50\" class=\"node\">\n<title>49</title>\n<path fill=\"#f2c09c\" stroke=\"#000000\" d=\"M1374,-1258C1374,-1258 1283,-1258 1283,-1258 1277,-1258 1271,-1252 1271,-1246 1271,-1246 1271,-1187 1271,-1187 1271,-1181 1277,-1175 1283,-1175 1283,-1175 1374,-1175 1374,-1175 1380,-1175 1386,-1181 1386,-1187 1386,-1187 1386,-1246 1386,-1246 1386,-1252 1380,-1258 1374,-1258\"/>\n<text text-anchor=\"middle\" x=\"1328.5\" y=\"-1242.8\" font-family=\"Helvetica,sans-Serif\" font-size=\"14.00\" fill=\"#000000\">X[7] &lt;= &#45;1.356</text>\n<text text-anchor=\"middle\" x=\"1328.5\" y=\"-1227.8\" font-family=\"Helvetica,sans-Serif\" font-size=\"14.00\" fill=\"#000000\">gini = 0.444</text>\n<text text-anchor=\"middle\" x=\"1328.5\" y=\"-1212.8\" font-family=\"Helvetica,sans-Serif\" font-size=\"14.00\" fill=\"#000000\">samples = 3</text>\n<text text-anchor=\"middle\" x=\"1328.5\" y=\"-1197.8\" font-family=\"Helvetica,sans-Serif\" font-size=\"14.00\" fill=\"#000000\">value = [2, 1, 0]</text>\n<text text-anchor=\"middle\" x=\"1328.5\" y=\"-1182.8\" font-family=\"Helvetica,sans-Serif\" font-size=\"14.00\" fill=\"#000000\">class = STAR</text>\n</g>\n<!-- 1&#45;&gt;49 -->\n<g id=\"edge49\" class=\"edge\">\n<title>1&#45;&gt;49</title>\n<path fill=\"none\" stroke=\"#000000\" d=\"M1328.5,-1293.8796C1328.5,-1285.6838 1328.5,-1276.9891 1328.5,-1268.5013\"/>\n<polygon fill=\"#000000\" stroke=\"#000000\" points=\"1332.0001,-1268.298 1328.5,-1258.2981 1325.0001,-1268.2981 1332.0001,-1268.298\"/>\n</g>\n<!-- 3 -->\n<g id=\"node4\" class=\"node\">\n<title>3</title>\n<path fill=\"#e78946\" stroke=\"#000000\" d=\"M320,-1139C320,-1139 221,-1139 221,-1139 215,-1139 209,-1133 209,-1127 209,-1127 209,-1068 209,-1068 209,-1062 215,-1056 221,-1056 221,-1056 320,-1056 320,-1056 326,-1056 332,-1062 332,-1068 332,-1068 332,-1127 332,-1127 332,-1133 326,-1139 320,-1139\"/>\n<text text-anchor=\"middle\" x=\"270.5\" y=\"-1123.8\" font-family=\"Helvetica,sans-Serif\" font-size=\"14.00\" fill=\"#000000\">X[4] &lt;= 307.0</text>\n<text text-anchor=\"middle\" x=\"270.5\" y=\"-1108.8\" font-family=\"Helvetica,sans-Serif\" font-size=\"14.00\" fill=\"#000000\">gini = 0.113</text>\n<text text-anchor=\"middle\" x=\"270.5\" y=\"-1093.8\" font-family=\"Helvetica,sans-Serif\" font-size=\"14.00\" fill=\"#000000\">samples = 50</text>\n<text text-anchor=\"middle\" x=\"270.5\" y=\"-1078.8\" font-family=\"Helvetica,sans-Serif\" font-size=\"14.00\" fill=\"#000000\">value = [47, 3, 0]</text>\n<text text-anchor=\"middle\" x=\"270.5\" y=\"-1063.8\" font-family=\"Helvetica,sans-Serif\" font-size=\"14.00\" fill=\"#000000\">class = STAR</text>\n</g>\n<!-- 2&#45;&gt;3 -->\n<g id=\"edge3\" class=\"edge\">\n<title>2&#45;&gt;3</title>\n<path fill=\"none\" stroke=\"#000000\" d=\"M621.4706,-1195.7718C542.9011,-1173.7723 419.5985,-1139.2476 342.004,-1117.5211\"/>\n<polygon fill=\"#000000\" stroke=\"#000000\" points=\"342.8791,-1114.1316 332.3058,-1114.8056 340.9917,-1120.8724 342.8791,-1114.1316\"/>\n</g>\n<!-- 10 -->\n<g id=\"node11\" class=\"node\">\n<title>10</title>\n<path fill=\"#e5813a\" stroke=\"#000000\" d=\"M753.5,-1139C753.5,-1139 637.5,-1139 637.5,-1139 631.5,-1139 625.5,-1133 625.5,-1127 625.5,-1127 625.5,-1068 625.5,-1068 625.5,-1062 631.5,-1056 637.5,-1056 637.5,-1056 753.5,-1056 753.5,-1056 759.5,-1056 765.5,-1062 765.5,-1068 765.5,-1068 765.5,-1127 765.5,-1127 765.5,-1133 759.5,-1139 753.5,-1139\"/>\n<text text-anchor=\"middle\" x=\"695.5\" y=\"-1123.8\" font-family=\"Helvetica,sans-Serif\" font-size=\"14.00\" fill=\"#000000\">X[7] &lt;= &#45;5.397</text>\n<text text-anchor=\"middle\" x=\"695.5\" y=\"-1108.8\" font-family=\"Helvetica,sans-Serif\" font-size=\"14.00\" fill=\"#000000\">gini = 0.007</text>\n<text text-anchor=\"middle\" x=\"695.5\" y=\"-1093.8\" font-family=\"Helvetica,sans-Serif\" font-size=\"14.00\" fill=\"#000000\">samples = 2848</text>\n<text text-anchor=\"middle\" x=\"695.5\" y=\"-1078.8\" font-family=\"Helvetica,sans-Serif\" font-size=\"14.00\" fill=\"#000000\">value = [2838, 9, 1]</text>\n<text text-anchor=\"middle\" x=\"695.5\" y=\"-1063.8\" font-family=\"Helvetica,sans-Serif\" font-size=\"14.00\" fill=\"#000000\">class = STAR</text>\n</g>\n<!-- 2&#45;&gt;10 -->\n<g id=\"edge10\" class=\"edge\">\n<title>2&#45;&gt;10</title>\n<path fill=\"none\" stroke=\"#000000\" d=\"M695.5,-1174.8796C695.5,-1166.6838 695.5,-1157.9891 695.5,-1149.5013\"/>\n<polygon fill=\"#000000\" stroke=\"#000000\" points=\"699.0001,-1149.298 695.5,-1139.2981 692.0001,-1149.2981 699.0001,-1149.298\"/>\n</g>\n<!-- 4 -->\n<g id=\"node5\" class=\"node\">\n<title>4</title>\n<path fill=\"#39e581\" stroke=\"#000000\" d=\"M179,-1012.5C179,-1012.5 78,-1012.5 78,-1012.5 72,-1012.5 66,-1006.5 66,-1000.5 66,-1000.5 66,-956.5 66,-956.5 66,-950.5 72,-944.5 78,-944.5 78,-944.5 179,-944.5 179,-944.5 185,-944.5 191,-950.5 191,-956.5 191,-956.5 191,-1000.5 191,-1000.5 191,-1006.5 185,-1012.5 179,-1012.5\"/>\n<text text-anchor=\"middle\" x=\"128.5\" y=\"-997.3\" font-family=\"Helvetica,sans-Serif\" font-size=\"14.00\" fill=\"#000000\">gini = 0.0</text>\n<text text-anchor=\"middle\" x=\"128.5\" y=\"-982.3\" font-family=\"Helvetica,sans-Serif\" font-size=\"14.00\" fill=\"#000000\">samples = 1</text>\n<text text-anchor=\"middle\" x=\"128.5\" y=\"-967.3\" font-family=\"Helvetica,sans-Serif\" font-size=\"14.00\" fill=\"#000000\">value = [0, 1, 0]</text>\n<text text-anchor=\"middle\" x=\"128.5\" y=\"-952.3\" font-family=\"Helvetica,sans-Serif\" font-size=\"14.00\" fill=\"#000000\">class = GALAXY</text>\n</g>\n<!-- 3&#45;&gt;4 -->\n<g id=\"edge4\" class=\"edge\">\n<title>3&#45;&gt;4</title>\n<path fill=\"none\" stroke=\"#000000\" d=\"M220.8353,-1055.8796C206.6642,-1044.0038 191.243,-1031.0804 177.1342,-1019.2568\"/>\n<polygon fill=\"#000000\" stroke=\"#000000\" points=\"179.3598,-1016.5554 169.4472,-1012.8149 174.8637,-1021.9206 179.3598,-1016.5554\"/>\n</g>\n<!-- 5 -->\n<g id=\"node6\" class=\"node\">\n<title>5</title>\n<path fill=\"#e68641\" stroke=\"#000000\" d=\"M320,-1020C320,-1020 221,-1020 221,-1020 215,-1020 209,-1014 209,-1008 209,-1008 209,-949 209,-949 209,-943 215,-937 221,-937 221,-937 320,-937 320,-937 326,-937 332,-943 332,-949 332,-949 332,-1008 332,-1008 332,-1014 326,-1020 320,-1020\"/>\n<text text-anchor=\"middle\" x=\"270.5\" y=\"-1004.8\" font-family=\"Helvetica,sans-Serif\" font-size=\"14.00\" fill=\"#000000\">X[8] &lt;= &#45;0.973</text>\n<text text-anchor=\"middle\" x=\"270.5\" y=\"-989.8\" font-family=\"Helvetica,sans-Serif\" font-size=\"14.00\" fill=\"#000000\">gini = 0.078</text>\n<text text-anchor=\"middle\" x=\"270.5\" y=\"-974.8\" font-family=\"Helvetica,sans-Serif\" font-size=\"14.00\" fill=\"#000000\">samples = 49</text>\n<text text-anchor=\"middle\" x=\"270.5\" y=\"-959.8\" font-family=\"Helvetica,sans-Serif\" font-size=\"14.00\" fill=\"#000000\">value = [47, 2, 0]</text>\n<text text-anchor=\"middle\" x=\"270.5\" y=\"-944.8\" font-family=\"Helvetica,sans-Serif\" font-size=\"14.00\" fill=\"#000000\">class = STAR</text>\n</g>\n<!-- 3&#45;&gt;5 -->\n<g id=\"edge5\" class=\"edge\">\n<title>3&#45;&gt;5</title>\n<path fill=\"none\" stroke=\"#000000\" d=\"M270.5,-1055.8796C270.5,-1047.6838 270.5,-1038.9891 270.5,-1030.5013\"/>\n<polygon fill=\"#000000\" stroke=\"#000000\" points=\"274.0001,-1030.298 270.5,-1020.2981 267.0001,-1030.2981 274.0001,-1030.298\"/>\n</g>\n<!-- 6 -->\n<g id=\"node7\" class=\"node\">\n<title>6</title>\n<path fill=\"#e6843d\" stroke=\"#000000\" d=\"M178,-901C178,-901 79,-901 79,-901 73,-901 67,-895 67,-889 67,-889 67,-830 67,-830 67,-824 73,-818 79,-818 79,-818 178,-818 178,-818 184,-818 190,-824 190,-830 190,-830 190,-889 190,-889 190,-895 184,-901 178,-901\"/>\n<text text-anchor=\"middle\" x=\"128.5\" y=\"-885.8\" font-family=\"Helvetica,sans-Serif\" font-size=\"14.00\" fill=\"#000000\">X[7] &lt;= 0.194</text>\n<text text-anchor=\"middle\" x=\"128.5\" y=\"-870.8\" font-family=\"Helvetica,sans-Serif\" font-size=\"14.00\" fill=\"#000000\">gini = 0.041</text>\n<text text-anchor=\"middle\" x=\"128.5\" y=\"-855.8\" font-family=\"Helvetica,sans-Serif\" font-size=\"14.00\" fill=\"#000000\">samples = 48</text>\n<text text-anchor=\"middle\" x=\"128.5\" y=\"-840.8\" font-family=\"Helvetica,sans-Serif\" font-size=\"14.00\" fill=\"#000000\">value = [47, 1, 0]</text>\n<text text-anchor=\"middle\" x=\"128.5\" y=\"-825.8\" font-family=\"Helvetica,sans-Serif\" font-size=\"14.00\" fill=\"#000000\">class = STAR</text>\n</g>\n<!-- 5&#45;&gt;6 -->\n<g id=\"edge6\" class=\"edge\">\n<title>5&#45;&gt;6</title>\n<path fill=\"none\" stroke=\"#000000\" d=\"M220.8353,-936.8796C209.6584,-927.513 197.7038,-917.4948 186.2288,-907.8784\"/>\n<polygon fill=\"#000000\" stroke=\"#000000\" points=\"188.2893,-905.0386 178.3767,-901.2981 183.7931,-910.4037 188.2893,-905.0386\"/>\n</g>\n<!-- 9 -->\n<g id=\"node10\" class=\"node\">\n<title>9</title>\n<path fill=\"#39e581\" stroke=\"#000000\" d=\"M321,-893.5C321,-893.5 220,-893.5 220,-893.5 214,-893.5 208,-887.5 208,-881.5 208,-881.5 208,-837.5 208,-837.5 208,-831.5 214,-825.5 220,-825.5 220,-825.5 321,-825.5 321,-825.5 327,-825.5 333,-831.5 333,-837.5 333,-837.5 333,-881.5 333,-881.5 333,-887.5 327,-893.5 321,-893.5\"/>\n<text text-anchor=\"middle\" x=\"270.5\" y=\"-878.3\" font-family=\"Helvetica,sans-Serif\" font-size=\"14.00\" fill=\"#000000\">gini = 0.0</text>\n<text text-anchor=\"middle\" x=\"270.5\" y=\"-863.3\" font-family=\"Helvetica,sans-Serif\" font-size=\"14.00\" fill=\"#000000\">samples = 1</text>\n<text text-anchor=\"middle\" x=\"270.5\" y=\"-848.3\" font-family=\"Helvetica,sans-Serif\" font-size=\"14.00\" fill=\"#000000\">value = [0, 1, 0]</text>\n<text text-anchor=\"middle\" x=\"270.5\" y=\"-833.3\" font-family=\"Helvetica,sans-Serif\" font-size=\"14.00\" fill=\"#000000\">class = GALAXY</text>\n</g>\n<!-- 5&#45;&gt;9 -->\n<g id=\"edge9\" class=\"edge\">\n<title>5&#45;&gt;9</title>\n<path fill=\"none\" stroke=\"#000000\" d=\"M270.5,-936.8796C270.5,-926.2134 270.5,-914.7021 270.5,-903.9015\"/>\n<polygon fill=\"#000000\" stroke=\"#000000\" points=\"274.0001,-903.8149 270.5,-893.8149 267.0001,-903.815 274.0001,-903.8149\"/>\n</g>\n<!-- 7 -->\n<g id=\"node8\" class=\"node\">\n<title>7</title>\n<path fill=\"#e58139\" stroke=\"#000000\" d=\"M111,-774.5C111,-774.5 12,-774.5 12,-774.5 6,-774.5 0,-768.5 0,-762.5 0,-762.5 0,-718.5 0,-718.5 0,-712.5 6,-706.5 12,-706.5 12,-706.5 111,-706.5 111,-706.5 117,-706.5 123,-712.5 123,-718.5 123,-718.5 123,-762.5 123,-762.5 123,-768.5 117,-774.5 111,-774.5\"/>\n<text text-anchor=\"middle\" x=\"61.5\" y=\"-759.3\" font-family=\"Helvetica,sans-Serif\" font-size=\"14.00\" fill=\"#000000\">gini = 0.0</text>\n<text text-anchor=\"middle\" x=\"61.5\" y=\"-744.3\" font-family=\"Helvetica,sans-Serif\" font-size=\"14.00\" fill=\"#000000\">samples = 47</text>\n<text text-anchor=\"middle\" x=\"61.5\" y=\"-729.3\" font-family=\"Helvetica,sans-Serif\" font-size=\"14.00\" fill=\"#000000\">value = [47, 0, 0]</text>\n<text text-anchor=\"middle\" x=\"61.5\" y=\"-714.3\" font-family=\"Helvetica,sans-Serif\" font-size=\"14.00\" fill=\"#000000\">class = STAR</text>\n</g>\n<!-- 6&#45;&gt;7 -->\n<g id=\"edge7\" class=\"edge\">\n<title>6&#45;&gt;7</title>\n<path fill=\"none\" stroke=\"#000000\" d=\"M105.0667,-817.8796C98.8137,-806.7735 92.0448,-794.7513 85.749,-783.5691\"/>\n<polygon fill=\"#000000\" stroke=\"#000000\" points=\"88.7761,-781.8116 80.8202,-774.8149 82.6765,-785.2459 88.7761,-781.8116\"/>\n</g>\n<!-- 8 -->\n<g id=\"node9\" class=\"node\">\n<title>8</title>\n<path fill=\"#39e581\" stroke=\"#000000\" d=\"M254,-774.5C254,-774.5 153,-774.5 153,-774.5 147,-774.5 141,-768.5 141,-762.5 141,-762.5 141,-718.5 141,-718.5 141,-712.5 147,-706.5 153,-706.5 153,-706.5 254,-706.5 254,-706.5 260,-706.5 266,-712.5 266,-718.5 266,-718.5 266,-762.5 266,-762.5 266,-768.5 260,-774.5 254,-774.5\"/>\n<text text-anchor=\"middle\" x=\"203.5\" y=\"-759.3\" font-family=\"Helvetica,sans-Serif\" font-size=\"14.00\" fill=\"#000000\">gini = 0.0</text>\n<text text-anchor=\"middle\" x=\"203.5\" y=\"-744.3\" font-family=\"Helvetica,sans-Serif\" font-size=\"14.00\" fill=\"#000000\">samples = 1</text>\n<text text-anchor=\"middle\" x=\"203.5\" y=\"-729.3\" font-family=\"Helvetica,sans-Serif\" font-size=\"14.00\" fill=\"#000000\">value = [0, 1, 0]</text>\n<text text-anchor=\"middle\" x=\"203.5\" y=\"-714.3\" font-family=\"Helvetica,sans-Serif\" font-size=\"14.00\" fill=\"#000000\">class = GALAXY</text>\n</g>\n<!-- 6&#45;&gt;8 -->\n<g id=\"edge8\" class=\"edge\">\n<title>6&#45;&gt;8</title>\n<path fill=\"none\" stroke=\"#000000\" d=\"M154.7314,-817.8796C161.731,-806.7735 169.308,-794.7513 176.3556,-783.5691\"/>\n<polygon fill=\"#000000\" stroke=\"#000000\" points=\"179.502,-785.1411 181.8729,-774.8149 173.58,-781.4087 179.502,-785.1411\"/>\n</g>\n<!-- 11 -->\n<g id=\"node12\" class=\"node\">\n<title>11</title>\n<path fill=\"#e78b48\" stroke=\"#000000\" d=\"M604,-1020C604,-1020 505,-1020 505,-1020 499,-1020 493,-1014 493,-1008 493,-1008 493,-949 493,-949 493,-943 499,-937 505,-937 505,-937 604,-937 604,-937 610,-937 616,-943 616,-949 616,-949 616,-1008 616,-1008 616,-1014 610,-1020 604,-1020\"/>\n<text text-anchor=\"middle\" x=\"554.5\" y=\"-1004.8\" font-family=\"Helvetica,sans-Serif\" font-size=\"14.00\" fill=\"#000000\">X[7] &lt;= &#45;5.467</text>\n<text text-anchor=\"middle\" x=\"554.5\" y=\"-989.8\" font-family=\"Helvetica,sans-Serif\" font-size=\"14.00\" fill=\"#000000\">gini = 0.133</text>\n<text text-anchor=\"middle\" x=\"554.5\" y=\"-974.8\" font-family=\"Helvetica,sans-Serif\" font-size=\"14.00\" fill=\"#000000\">samples = 28</text>\n<text text-anchor=\"middle\" x=\"554.5\" y=\"-959.8\" font-family=\"Helvetica,sans-Serif\" font-size=\"14.00\" fill=\"#000000\">value = [26, 2, 0]</text>\n<text text-anchor=\"middle\" x=\"554.5\" y=\"-944.8\" font-family=\"Helvetica,sans-Serif\" font-size=\"14.00\" fill=\"#000000\">class = STAR</text>\n</g>\n<!-- 10&#45;&gt;11 -->\n<g id=\"edge11\" class=\"edge\">\n<title>10&#45;&gt;11</title>\n<path fill=\"none\" stroke=\"#000000\" d=\"M646.185,-1055.8796C635.0868,-1046.513 623.2165,-1036.4948 611.8223,-1026.8784\"/>\n<polygon fill=\"#000000\" stroke=\"#000000\" points=\"613.925,-1024.0731 604.0254,-1020.2981 609.4101,-1029.4225 613.925,-1024.0731\"/>\n</g>\n<!-- 16 -->\n<g id=\"node17\" class=\"node\">\n<title>16</title>\n<path fill=\"#e5813a\" stroke=\"#000000\" d=\"M828.5,-1020C828.5,-1020 712.5,-1020 712.5,-1020 706.5,-1020 700.5,-1014 700.5,-1008 700.5,-1008 700.5,-949 700.5,-949 700.5,-943 706.5,-937 712.5,-937 712.5,-937 828.5,-937 828.5,-937 834.5,-937 840.5,-943 840.5,-949 840.5,-949 840.5,-1008 840.5,-1008 840.5,-1014 834.5,-1020 828.5,-1020\"/>\n<text text-anchor=\"middle\" x=\"770.5\" y=\"-1004.8\" font-family=\"Helvetica,sans-Serif\" font-size=\"14.00\" fill=\"#000000\">X[6] &lt;= 23.5</text>\n<text text-anchor=\"middle\" x=\"770.5\" y=\"-989.8\" font-family=\"Helvetica,sans-Serif\" font-size=\"14.00\" fill=\"#000000\">gini = 0.006</text>\n<text text-anchor=\"middle\" x=\"770.5\" y=\"-974.8\" font-family=\"Helvetica,sans-Serif\" font-size=\"14.00\" fill=\"#000000\">samples = 2820</text>\n<text text-anchor=\"middle\" x=\"770.5\" y=\"-959.8\" font-family=\"Helvetica,sans-Serif\" font-size=\"14.00\" fill=\"#000000\">value = [2812, 7, 1]</text>\n<text text-anchor=\"middle\" x=\"770.5\" y=\"-944.8\" font-family=\"Helvetica,sans-Serif\" font-size=\"14.00\" fill=\"#000000\">class = STAR</text>\n</g>\n<!-- 10&#45;&gt;16 -->\n<g id=\"edge16\" class=\"edge\">\n<title>10&#45;&gt;16</title>\n<path fill=\"none\" stroke=\"#000000\" d=\"M721.7314,-1055.8796C727.2373,-1047.1434 733.1006,-1037.8404 738.7824,-1028.8253\"/>\n<polygon fill=\"#000000\" stroke=\"#000000\" points=\"741.7857,-1030.6242 744.1567,-1020.2981 735.8637,-1026.8919 741.7857,-1030.6242\"/>\n</g>\n<!-- 12 -->\n<g id=\"node13\" class=\"node\">\n<title>12</title>\n<path fill=\"#e58139\" stroke=\"#000000\" d=\"M462,-893.5C462,-893.5 363,-893.5 363,-893.5 357,-893.5 351,-887.5 351,-881.5 351,-881.5 351,-837.5 351,-837.5 351,-831.5 357,-825.5 363,-825.5 363,-825.5 462,-825.5 462,-825.5 468,-825.5 474,-831.5 474,-837.5 474,-837.5 474,-881.5 474,-881.5 474,-887.5 468,-893.5 462,-893.5\"/>\n<text text-anchor=\"middle\" x=\"412.5\" y=\"-878.3\" font-family=\"Helvetica,sans-Serif\" font-size=\"14.00\" fill=\"#000000\">gini = 0.0</text>\n<text text-anchor=\"middle\" x=\"412.5\" y=\"-863.3\" font-family=\"Helvetica,sans-Serif\" font-size=\"14.00\" fill=\"#000000\">samples = 25</text>\n<text text-anchor=\"middle\" x=\"412.5\" y=\"-848.3\" font-family=\"Helvetica,sans-Serif\" font-size=\"14.00\" fill=\"#000000\">value = [25, 0, 0]</text>\n<text text-anchor=\"middle\" x=\"412.5\" y=\"-833.3\" font-family=\"Helvetica,sans-Serif\" font-size=\"14.00\" fill=\"#000000\">class = STAR</text>\n</g>\n<!-- 11&#45;&gt;12 -->\n<g id=\"edge12\" class=\"edge\">\n<title>11&#45;&gt;12</title>\n<path fill=\"none\" stroke=\"#000000\" d=\"M504.8353,-936.8796C490.6642,-925.0038 475.243,-912.0804 461.1342,-900.2568\"/>\n<polygon fill=\"#000000\" stroke=\"#000000\" points=\"463.3598,-897.5554 453.4472,-893.8149 458.8637,-902.9206 463.3598,-897.5554\"/>\n</g>\n<!-- 13 -->\n<g id=\"node14\" class=\"node\">\n<title>13</title>\n<path fill=\"#9cf2c0\" stroke=\"#000000\" d=\"M605,-901C605,-901 504,-901 504,-901 498,-901 492,-895 492,-889 492,-889 492,-830 492,-830 492,-824 498,-818 504,-818 504,-818 605,-818 605,-818 611,-818 617,-824 617,-830 617,-830 617,-889 617,-889 617,-895 611,-901 605,-901\"/>\n<text text-anchor=\"middle\" x=\"554.5\" y=\"-885.8\" font-family=\"Helvetica,sans-Serif\" font-size=\"14.00\" fill=\"#000000\">X[0] &lt;= 177.624</text>\n<text text-anchor=\"middle\" x=\"554.5\" y=\"-870.8\" font-family=\"Helvetica,sans-Serif\" font-size=\"14.00\" fill=\"#000000\">gini = 0.444</text>\n<text text-anchor=\"middle\" x=\"554.5\" y=\"-855.8\" font-family=\"Helvetica,sans-Serif\" font-size=\"14.00\" fill=\"#000000\">samples = 3</text>\n<text text-anchor=\"middle\" x=\"554.5\" y=\"-840.8\" font-family=\"Helvetica,sans-Serif\" font-size=\"14.00\" fill=\"#000000\">value = [1, 2, 0]</text>\n<text text-anchor=\"middle\" x=\"554.5\" y=\"-825.8\" font-family=\"Helvetica,sans-Serif\" font-size=\"14.00\" fill=\"#000000\">class = GALAXY</text>\n</g>\n<!-- 11&#45;&gt;13 -->\n<g id=\"edge13\" class=\"edge\">\n<title>11&#45;&gt;13</title>\n<path fill=\"none\" stroke=\"#000000\" d=\"M554.5,-936.8796C554.5,-928.6838 554.5,-919.9891 554.5,-911.5013\"/>\n<polygon fill=\"#000000\" stroke=\"#000000\" points=\"558.0001,-911.298 554.5,-901.2981 551.0001,-911.2981 558.0001,-911.298\"/>\n</g>\n<!-- 14 -->\n<g id=\"node15\" class=\"node\">\n<title>14</title>\n<path fill=\"#e58139\" stroke=\"#000000\" d=\"M395,-774.5C395,-774.5 304,-774.5 304,-774.5 298,-774.5 292,-768.5 292,-762.5 292,-762.5 292,-718.5 292,-718.5 292,-712.5 298,-706.5 304,-706.5 304,-706.5 395,-706.5 395,-706.5 401,-706.5 407,-712.5 407,-718.5 407,-718.5 407,-762.5 407,-762.5 407,-768.5 401,-774.5 395,-774.5\"/>\n<text text-anchor=\"middle\" x=\"349.5\" y=\"-759.3\" font-family=\"Helvetica,sans-Serif\" font-size=\"14.00\" fill=\"#000000\">gini = 0.0</text>\n<text text-anchor=\"middle\" x=\"349.5\" y=\"-744.3\" font-family=\"Helvetica,sans-Serif\" font-size=\"14.00\" fill=\"#000000\">samples = 1</text>\n<text text-anchor=\"middle\" x=\"349.5\" y=\"-729.3\" font-family=\"Helvetica,sans-Serif\" font-size=\"14.00\" fill=\"#000000\">value = [1, 0, 0]</text>\n<text text-anchor=\"middle\" x=\"349.5\" y=\"-714.3\" font-family=\"Helvetica,sans-Serif\" font-size=\"14.00\" fill=\"#000000\">class = STAR</text>\n</g>\n<!-- 13&#45;&gt;14 -->\n<g id=\"edge14\" class=\"edge\">\n<title>13&#45;&gt;14</title>\n<path fill=\"none\" stroke=\"#000000\" d=\"M491.7341,-823.1756C488.6164,-821.4174 485.5255,-819.6842 482.5,-818 452.9641,-801.5577 444.7144,-799.0069 415.5,-782 414.2206,-781.2552 412.93,-780.4983 411.6316,-779.7317\"/>\n<polygon fill=\"#000000\" stroke=\"#000000\" points=\"413.361,-776.6878 402.9828,-774.5563 409.7666,-782.6945 413.361,-776.6878\"/>\n</g>\n<!-- 15 -->\n<g id=\"node16\" class=\"node\">\n<title>15</title>\n<path fill=\"#39e581\" stroke=\"#000000\" d=\"M538,-774.5C538,-774.5 437,-774.5 437,-774.5 431,-774.5 425,-768.5 425,-762.5 425,-762.5 425,-718.5 425,-718.5 425,-712.5 431,-706.5 437,-706.5 437,-706.5 538,-706.5 538,-706.5 544,-706.5 550,-712.5 550,-718.5 550,-718.5 550,-762.5 550,-762.5 550,-768.5 544,-774.5 538,-774.5\"/>\n<text text-anchor=\"middle\" x=\"487.5\" y=\"-759.3\" font-family=\"Helvetica,sans-Serif\" font-size=\"14.00\" fill=\"#000000\">gini = 0.0</text>\n<text text-anchor=\"middle\" x=\"487.5\" y=\"-744.3\" font-family=\"Helvetica,sans-Serif\" font-size=\"14.00\" fill=\"#000000\">samples = 2</text>\n<text text-anchor=\"middle\" x=\"487.5\" y=\"-729.3\" font-family=\"Helvetica,sans-Serif\" font-size=\"14.00\" fill=\"#000000\">value = [0, 2, 0]</text>\n<text text-anchor=\"middle\" x=\"487.5\" y=\"-714.3\" font-family=\"Helvetica,sans-Serif\" font-size=\"14.00\" fill=\"#000000\">class = GALAXY</text>\n</g>\n<!-- 13&#45;&gt;15 -->\n<g id=\"edge15\" class=\"edge\">\n<title>13&#45;&gt;15</title>\n<path fill=\"none\" stroke=\"#000000\" d=\"M531.0667,-817.8796C524.8137,-806.7735 518.0448,-794.7513 511.749,-783.5691\"/>\n<polygon fill=\"#000000\" stroke=\"#000000\" points=\"514.7761,-781.8116 506.8202,-774.8149 508.6765,-785.2459 514.7761,-781.8116\"/>\n</g>\n<!-- 17 -->\n<g id=\"node18\" class=\"node\">\n<title>17</title>\n<path fill=\"#e6843d\" stroke=\"#000000\" d=\"M824,-901C824,-901 717,-901 717,-901 711,-901 705,-895 705,-889 705,-889 705,-830 705,-830 705,-824 711,-818 717,-818 717,-818 824,-818 824,-818 830,-818 836,-824 836,-830 836,-830 836,-889 836,-889 836,-895 830,-901 824,-901\"/>\n<text text-anchor=\"middle\" x=\"770.5\" y=\"-885.8\" font-family=\"Helvetica,sans-Serif\" font-size=\"14.00\" fill=\"#000000\">X[6] &lt;= 22.5</text>\n<text text-anchor=\"middle\" x=\"770.5\" y=\"-870.8\" font-family=\"Helvetica,sans-Serif\" font-size=\"14.00\" fill=\"#000000\">gini = 0.038</text>\n<text text-anchor=\"middle\" x=\"770.5\" y=\"-855.8\" font-family=\"Helvetica,sans-Serif\" font-size=\"14.00\" fill=\"#000000\">samples = 102</text>\n<text text-anchor=\"middle\" x=\"770.5\" y=\"-840.8\" font-family=\"Helvetica,sans-Serif\" font-size=\"14.00\" fill=\"#000000\">value = [100, 2, 0]</text>\n<text text-anchor=\"middle\" x=\"770.5\" y=\"-825.8\" font-family=\"Helvetica,sans-Serif\" font-size=\"14.00\" fill=\"#000000\">class = STAR</text>\n</g>\n<!-- 16&#45;&gt;17 -->\n<g id=\"edge17\" class=\"edge\">\n<title>16&#45;&gt;17</title>\n<path fill=\"none\" stroke=\"#000000\" d=\"M770.5,-936.8796C770.5,-928.6838 770.5,-919.9891 770.5,-911.5013\"/>\n<polygon fill=\"#000000\" stroke=\"#000000\" points=\"774.0001,-911.298 770.5,-901.2981 767.0001,-911.2981 774.0001,-911.298\"/>\n</g>\n<!-- 22 -->\n<g id=\"node23\" class=\"node\">\n<title>22</title>\n<path fill=\"#e58139\" stroke=\"#000000\" d=\"M1053.5,-901C1053.5,-901 937.5,-901 937.5,-901 931.5,-901 925.5,-895 925.5,-889 925.5,-889 925.5,-830 925.5,-830 925.5,-824 931.5,-818 937.5,-818 937.5,-818 1053.5,-818 1053.5,-818 1059.5,-818 1065.5,-824 1065.5,-830 1065.5,-830 1065.5,-889 1065.5,-889 1065.5,-895 1059.5,-901 1053.5,-901\"/>\n<text text-anchor=\"middle\" x=\"995.5\" y=\"-885.8\" font-family=\"Helvetica,sans-Serif\" font-size=\"14.00\" fill=\"#000000\">X[9] &lt;= 0.171</text>\n<text text-anchor=\"middle\" x=\"995.5\" y=\"-870.8\" font-family=\"Helvetica,sans-Serif\" font-size=\"14.00\" fill=\"#000000\">gini = 0.004</text>\n<text text-anchor=\"middle\" x=\"995.5\" y=\"-855.8\" font-family=\"Helvetica,sans-Serif\" font-size=\"14.00\" fill=\"#000000\">samples = 2718</text>\n<text text-anchor=\"middle\" x=\"995.5\" y=\"-840.8\" font-family=\"Helvetica,sans-Serif\" font-size=\"14.00\" fill=\"#000000\">value = [2712, 5, 1]</text>\n<text text-anchor=\"middle\" x=\"995.5\" y=\"-825.8\" font-family=\"Helvetica,sans-Serif\" font-size=\"14.00\" fill=\"#000000\">class = STAR</text>\n</g>\n<!-- 16&#45;&gt;22 -->\n<g id=\"edge22\" class=\"edge\">\n<title>16&#45;&gt;22</title>\n<path fill=\"none\" stroke=\"#000000\" d=\"M840.7659,-941.3371C864.767,-928.6432 891.7682,-914.3626 916.4159,-901.3267\"/>\n<polygon fill=\"#000000\" stroke=\"#000000\" points=\"918.1768,-904.3548 925.3803,-896.5856 914.9041,-898.1669 918.1768,-904.3548\"/>\n</g>\n<!-- 18 -->\n<g id=\"node19\" class=\"node\">\n<title>18</title>\n<path fill=\"#e58139\" stroke=\"#000000\" d=\"M679,-774.5C679,-774.5 580,-774.5 580,-774.5 574,-774.5 568,-768.5 568,-762.5 568,-762.5 568,-718.5 568,-718.5 568,-712.5 574,-706.5 580,-706.5 580,-706.5 679,-706.5 679,-706.5 685,-706.5 691,-712.5 691,-718.5 691,-718.5 691,-762.5 691,-762.5 691,-768.5 685,-774.5 679,-774.5\"/>\n<text text-anchor=\"middle\" x=\"629.5\" y=\"-759.3\" font-family=\"Helvetica,sans-Serif\" font-size=\"14.00\" fill=\"#000000\">gini = 0.0</text>\n<text text-anchor=\"middle\" x=\"629.5\" y=\"-744.3\" font-family=\"Helvetica,sans-Serif\" font-size=\"14.00\" fill=\"#000000\">samples = 99</text>\n<text text-anchor=\"middle\" x=\"629.5\" y=\"-729.3\" font-family=\"Helvetica,sans-Serif\" font-size=\"14.00\" fill=\"#000000\">value = [99, 0, 0]</text>\n<text text-anchor=\"middle\" x=\"629.5\" y=\"-714.3\" font-family=\"Helvetica,sans-Serif\" font-size=\"14.00\" fill=\"#000000\">class = STAR</text>\n</g>\n<!-- 17&#45;&gt;18 -->\n<g id=\"edge18\" class=\"edge\">\n<title>17&#45;&gt;18</title>\n<path fill=\"none\" stroke=\"#000000\" d=\"M721.185,-817.8796C707.244,-806.1138 692.0846,-793.3197 678.1812,-781.5855\"/>\n<polygon fill=\"#000000\" stroke=\"#000000\" points=\"680.0584,-778.5899 670.1589,-774.8149 675.5436,-783.9394 680.0584,-778.5899\"/>\n</g>\n<!-- 19 -->\n<g id=\"node20\" class=\"node\">\n<title>19</title>\n<path fill=\"#9cf2c0\" stroke=\"#000000\" d=\"M822,-782C822,-782 721,-782 721,-782 715,-782 709,-776 709,-770 709,-770 709,-711 709,-711 709,-705 715,-699 721,-699 721,-699 822,-699 822,-699 828,-699 834,-705 834,-711 834,-711 834,-770 834,-770 834,-776 828,-782 822,-782\"/>\n<text text-anchor=\"middle\" x=\"771.5\" y=\"-766.8\" font-family=\"Helvetica,sans-Serif\" font-size=\"14.00\" fill=\"#000000\">X[8] &lt;= 0.003</text>\n<text text-anchor=\"middle\" x=\"771.5\" y=\"-751.8\" font-family=\"Helvetica,sans-Serif\" font-size=\"14.00\" fill=\"#000000\">gini = 0.444</text>\n<text text-anchor=\"middle\" x=\"771.5\" y=\"-736.8\" font-family=\"Helvetica,sans-Serif\" font-size=\"14.00\" fill=\"#000000\">samples = 3</text>\n<text text-anchor=\"middle\" x=\"771.5\" y=\"-721.8\" font-family=\"Helvetica,sans-Serif\" font-size=\"14.00\" fill=\"#000000\">value = [1, 2, 0]</text>\n<text text-anchor=\"middle\" x=\"771.5\" y=\"-706.8\" font-family=\"Helvetica,sans-Serif\" font-size=\"14.00\" fill=\"#000000\">class = GALAXY</text>\n</g>\n<!-- 17&#45;&gt;19 -->\n<g id=\"edge19\" class=\"edge\">\n<title>17&#45;&gt;19</title>\n<path fill=\"none\" stroke=\"#000000\" d=\"M770.8498,-817.8796C770.9186,-809.6838 770.9917,-800.9891 771.063,-792.5013\"/>\n<polygon fill=\"#000000\" stroke=\"#000000\" points=\"774.5645,-792.3272 771.1488,-782.2981 767.5648,-792.2683 774.5645,-792.3272\"/>\n</g>\n<!-- 20 -->\n<g id=\"node21\" class=\"node\">\n<title>20</title>\n<path fill=\"#39e581\" stroke=\"#000000\" d=\"M648,-655.5C648,-655.5 547,-655.5 547,-655.5 541,-655.5 535,-649.5 535,-643.5 535,-643.5 535,-599.5 535,-599.5 535,-593.5 541,-587.5 547,-587.5 547,-587.5 648,-587.5 648,-587.5 654,-587.5 660,-593.5 660,-599.5 660,-599.5 660,-643.5 660,-643.5 660,-649.5 654,-655.5 648,-655.5\"/>\n<text text-anchor=\"middle\" x=\"597.5\" y=\"-640.3\" font-family=\"Helvetica,sans-Serif\" font-size=\"14.00\" fill=\"#000000\">gini = 0.0</text>\n<text text-anchor=\"middle\" x=\"597.5\" y=\"-625.3\" font-family=\"Helvetica,sans-Serif\" font-size=\"14.00\" fill=\"#000000\">samples = 2</text>\n<text text-anchor=\"middle\" x=\"597.5\" y=\"-610.3\" font-family=\"Helvetica,sans-Serif\" font-size=\"14.00\" fill=\"#000000\">value = [0, 2, 0]</text>\n<text text-anchor=\"middle\" x=\"597.5\" y=\"-595.3\" font-family=\"Helvetica,sans-Serif\" font-size=\"14.00\" fill=\"#000000\">class = GALAXY</text>\n</g>\n<!-- 19&#45;&gt;20 -->\n<g id=\"edge20\" class=\"edge\">\n<title>19&#45;&gt;20</title>\n<path fill=\"none\" stroke=\"#000000\" d=\"M710.6432,-698.8796C692.8729,-686.7263 673.4983,-673.4759 655.8847,-661.4297\"/>\n<polygon fill=\"#000000\" stroke=\"#000000\" points=\"657.6243,-658.3792 647.3942,-655.623 653.6726,-664.1572 657.6243,-658.3792\"/>\n</g>\n<!-- 21 -->\n<g id=\"node22\" class=\"node\">\n<title>21</title>\n<path fill=\"#e58139\" stroke=\"#000000\" d=\"M781,-655.5C781,-655.5 690,-655.5 690,-655.5 684,-655.5 678,-649.5 678,-643.5 678,-643.5 678,-599.5 678,-599.5 678,-593.5 684,-587.5 690,-587.5 690,-587.5 781,-587.5 781,-587.5 787,-587.5 793,-593.5 793,-599.5 793,-599.5 793,-643.5 793,-643.5 793,-649.5 787,-655.5 781,-655.5\"/>\n<text text-anchor=\"middle\" x=\"735.5\" y=\"-640.3\" font-family=\"Helvetica,sans-Serif\" font-size=\"14.00\" fill=\"#000000\">gini = 0.0</text>\n<text text-anchor=\"middle\" x=\"735.5\" y=\"-625.3\" font-family=\"Helvetica,sans-Serif\" font-size=\"14.00\" fill=\"#000000\">samples = 1</text>\n<text text-anchor=\"middle\" x=\"735.5\" y=\"-610.3\" font-family=\"Helvetica,sans-Serif\" font-size=\"14.00\" fill=\"#000000\">value = [1, 0, 0]</text>\n<text text-anchor=\"middle\" x=\"735.5\" y=\"-595.3\" font-family=\"Helvetica,sans-Serif\" font-size=\"14.00\" fill=\"#000000\">class = STAR</text>\n</g>\n<!-- 19&#45;&gt;21 -->\n<g id=\"edge21\" class=\"edge\">\n<title>19&#45;&gt;21</title>\n<path fill=\"none\" stroke=\"#000000\" d=\"M758.9089,-698.8796C755.6489,-688.1034 752.128,-676.4647 748.8314,-665.5677\"/>\n<polygon fill=\"#000000\" stroke=\"#000000\" points=\"752.1267,-664.373 745.881,-655.8149 745.4266,-666.4 752.1267,-664.373\"/>\n</g>\n<!-- 23 -->\n<g id=\"node24\" class=\"node\">\n<title>23</title>\n<path fill=\"#e58139\" stroke=\"#000000\" d=\"M1053.5,-782C1053.5,-782 937.5,-782 937.5,-782 931.5,-782 925.5,-776 925.5,-770 925.5,-770 925.5,-711 925.5,-711 925.5,-705 931.5,-699 937.5,-699 937.5,-699 1053.5,-699 1053.5,-699 1059.5,-699 1065.5,-705 1065.5,-711 1065.5,-711 1065.5,-770 1065.5,-770 1065.5,-776 1059.5,-782 1053.5,-782\"/>\n<text text-anchor=\"middle\" x=\"995.5\" y=\"-766.8\" font-family=\"Helvetica,sans-Serif\" font-size=\"14.00\" fill=\"#000000\">X[0] &lt;= 112.395</text>\n<text text-anchor=\"middle\" x=\"995.5\" y=\"-751.8\" font-family=\"Helvetica,sans-Serif\" font-size=\"14.00\" fill=\"#000000\">gini = 0.004</text>\n<text text-anchor=\"middle\" x=\"995.5\" y=\"-736.8\" font-family=\"Helvetica,sans-Serif\" font-size=\"14.00\" fill=\"#000000\">samples = 2690</text>\n<text text-anchor=\"middle\" x=\"995.5\" y=\"-721.8\" font-family=\"Helvetica,sans-Serif\" font-size=\"14.00\" fill=\"#000000\">value = [2685, 4, 1]</text>\n<text text-anchor=\"middle\" x=\"995.5\" y=\"-706.8\" font-family=\"Helvetica,sans-Serif\" font-size=\"14.00\" fill=\"#000000\">class = STAR</text>\n</g>\n<!-- 22&#45;&gt;23 -->\n<g id=\"edge23\" class=\"edge\">\n<title>22&#45;&gt;23</title>\n<path fill=\"none\" stroke=\"#000000\" d=\"M995.5,-817.8796C995.5,-809.6838 995.5,-800.9891 995.5,-792.5013\"/>\n<polygon fill=\"#000000\" stroke=\"#000000\" points=\"999.0001,-792.298 995.5,-782.2981 992.0001,-792.2981 999.0001,-792.298\"/>\n</g>\n<!-- 46 -->\n<g id=\"node47\" class=\"node\">\n<title>46</title>\n<path fill=\"#e68640\" stroke=\"#000000\" d=\"M1231,-782C1231,-782 1132,-782 1132,-782 1126,-782 1120,-776 1120,-770 1120,-770 1120,-711 1120,-711 1120,-705 1126,-699 1132,-699 1132,-699 1231,-699 1231,-699 1237,-699 1243,-705 1243,-711 1243,-711 1243,-770 1243,-770 1243,-776 1237,-782 1231,-782\"/>\n<text text-anchor=\"middle\" x=\"1181.5\" y=\"-766.8\" font-family=\"Helvetica,sans-Serif\" font-size=\"14.00\" fill=\"#000000\">X[9] &lt;= 0.18</text>\n<text text-anchor=\"middle\" x=\"1181.5\" y=\"-751.8\" font-family=\"Helvetica,sans-Serif\" font-size=\"14.00\" fill=\"#000000\">gini = 0.069</text>\n<text text-anchor=\"middle\" x=\"1181.5\" y=\"-736.8\" font-family=\"Helvetica,sans-Serif\" font-size=\"14.00\" fill=\"#000000\">samples = 28</text>\n<text text-anchor=\"middle\" x=\"1181.5\" y=\"-721.8\" font-family=\"Helvetica,sans-Serif\" font-size=\"14.00\" fill=\"#000000\">value = [27, 1, 0]</text>\n<text text-anchor=\"middle\" x=\"1181.5\" y=\"-706.8\" font-family=\"Helvetica,sans-Serif\" font-size=\"14.00\" fill=\"#000000\">class = STAR</text>\n</g>\n<!-- 22&#45;&gt;46 -->\n<g id=\"edge46\" class=\"edge\">\n<title>22&#45;&gt;46</title>\n<path fill=\"none\" stroke=\"#000000\" d=\"M1060.5538,-817.8796C1076.9683,-807.3778 1094.6633,-796.0568 1111.3178,-785.4015\"/>\n<polygon fill=\"#000000\" stroke=\"#000000\" points=\"1113.3826,-788.2356 1119.9199,-779.898 1109.6101,-782.3391 1113.3826,-788.2356\"/>\n</g>\n<!-- 24 -->\n<g id=\"node25\" class=\"node\">\n<title>24</title>\n<path fill=\"#e5823b\" stroke=\"#000000\" d=\"M930,-663C930,-663 823,-663 823,-663 817,-663 811,-657 811,-651 811,-651 811,-592 811,-592 811,-586 817,-580 823,-580 823,-580 930,-580 930,-580 936,-580 942,-586 942,-592 942,-592 942,-651 942,-651 942,-657 936,-663 930,-663\"/>\n<text text-anchor=\"middle\" x=\"876.5\" y=\"-647.8\" font-family=\"Helvetica,sans-Serif\" font-size=\"14.00\" fill=\"#000000\">X[1] &lt;= 35.213</text>\n<text text-anchor=\"middle\" x=\"876.5\" y=\"-632.8\" font-family=\"Helvetica,sans-Serif\" font-size=\"14.00\" fill=\"#000000\">gini = 0.022</text>\n<text text-anchor=\"middle\" x=\"876.5\" y=\"-617.8\" font-family=\"Helvetica,sans-Serif\" font-size=\"14.00\" fill=\"#000000\">samples = 178</text>\n<text text-anchor=\"middle\" x=\"876.5\" y=\"-602.8\" font-family=\"Helvetica,sans-Serif\" font-size=\"14.00\" fill=\"#000000\">value = [176, 2, 0]</text>\n<text text-anchor=\"middle\" x=\"876.5\" y=\"-587.8\" font-family=\"Helvetica,sans-Serif\" font-size=\"14.00\" fill=\"#000000\">class = STAR</text>\n</g>\n<!-- 23&#45;&gt;24 -->\n<g id=\"edge24\" class=\"edge\">\n<title>23&#45;&gt;24</title>\n<path fill=\"none\" stroke=\"#000000\" d=\"M953.8796,-698.8796C944.6931,-689.6931 934.8798,-679.8798 925.4336,-670.4336\"/>\n<polygon fill=\"#000000\" stroke=\"#000000\" points=\"927.8441,-667.8943 918.2981,-663.2981 922.8943,-672.8441 927.8441,-667.8943\"/>\n</g>\n<!-- 31 -->\n<g id=\"node32\" class=\"node\">\n<title>31</title>\n<path fill=\"#e58139\" stroke=\"#000000\" d=\"M1088.5,-663C1088.5,-663 972.5,-663 972.5,-663 966.5,-663 960.5,-657 960.5,-651 960.5,-651 960.5,-592 960.5,-592 960.5,-586 966.5,-580 972.5,-580 972.5,-580 1088.5,-580 1088.5,-580 1094.5,-580 1100.5,-586 1100.5,-592 1100.5,-592 1100.5,-651 1100.5,-651 1100.5,-657 1094.5,-663 1088.5,-663\"/>\n<text text-anchor=\"middle\" x=\"1030.5\" y=\"-647.8\" font-family=\"Helvetica,sans-Serif\" font-size=\"14.00\" fill=\"#000000\">X[2] &lt;= 511.5</text>\n<text text-anchor=\"middle\" x=\"1030.5\" y=\"-632.8\" font-family=\"Helvetica,sans-Serif\" font-size=\"14.00\" fill=\"#000000\">gini = 0.002</text>\n<text text-anchor=\"middle\" x=\"1030.5\" y=\"-617.8\" font-family=\"Helvetica,sans-Serif\" font-size=\"14.00\" fill=\"#000000\">samples = 2512</text>\n<text text-anchor=\"middle\" x=\"1030.5\" y=\"-602.8\" font-family=\"Helvetica,sans-Serif\" font-size=\"14.00\" fill=\"#000000\">value = [2509, 2, 1]</text>\n<text text-anchor=\"middle\" x=\"1030.5\" y=\"-587.8\" font-family=\"Helvetica,sans-Serif\" font-size=\"14.00\" fill=\"#000000\">class = STAR</text>\n</g>\n<!-- 23&#45;&gt;31 -->\n<g id=\"edge31\" class=\"edge\">\n<title>23&#45;&gt;31</title>\n<path fill=\"none\" stroke=\"#000000\" d=\"M1007.7413,-698.8796C1010.2048,-690.5037 1012.8216,-681.6067 1015.37,-672.942\"/>\n<polygon fill=\"#000000\" stroke=\"#000000\" points=\"1018.7425,-673.8793 1018.2064,-663.2981 1012.0269,-671.9041 1018.7425,-673.8793\"/>\n</g>\n<!-- 25 -->\n<g id=\"node26\" class=\"node\">\n<title>25</title>\n<path fill=\"#e5823a\" stroke=\"#000000\" d=\"M774,-544C774,-544 667,-544 667,-544 661,-544 655,-538 655,-532 655,-532 655,-473 655,-473 655,-467 661,-461 667,-461 667,-461 774,-461 774,-461 780,-461 786,-467 786,-473 786,-473 786,-532 786,-532 786,-538 780,-544 774,-544\"/>\n<text text-anchor=\"middle\" x=\"720.5\" y=\"-528.8\" font-family=\"Helvetica,sans-Serif\" font-size=\"14.00\" fill=\"#000000\">X[5] &lt;= 51888.0</text>\n<text text-anchor=\"middle\" x=\"720.5\" y=\"-513.8\" font-family=\"Helvetica,sans-Serif\" font-size=\"14.00\" fill=\"#000000\">gini = 0.011</text>\n<text text-anchor=\"middle\" x=\"720.5\" y=\"-498.8\" font-family=\"Helvetica,sans-Serif\" font-size=\"14.00\" fill=\"#000000\">samples = 177</text>\n<text text-anchor=\"middle\" x=\"720.5\" y=\"-483.8\" font-family=\"Helvetica,sans-Serif\" font-size=\"14.00\" fill=\"#000000\">value = [176, 1, 0]</text>\n<text text-anchor=\"middle\" x=\"720.5\" y=\"-468.8\" font-family=\"Helvetica,sans-Serif\" font-size=\"14.00\" fill=\"#000000\">class = STAR</text>\n</g>\n<!-- 24&#45;&gt;25 -->\n<g id=\"edge25\" class=\"edge\">\n<title>24&#45;&gt;25</title>\n<path fill=\"none\" stroke=\"#000000\" d=\"M821.9388,-579.8796C809.4698,-570.368 796.1198,-560.1843 783.3352,-550.432\"/>\n<polygon fill=\"#000000\" stroke=\"#000000\" points=\"785.104,-547.3792 775.0304,-544.0969 780.8585,-552.9448 785.104,-547.3792\"/>\n</g>\n<!-- 30 -->\n<g id=\"node31\" class=\"node\">\n<title>30</title>\n<path fill=\"#39e581\" stroke=\"#000000\" d=\"M927,-536.5C927,-536.5 826,-536.5 826,-536.5 820,-536.5 814,-530.5 814,-524.5 814,-524.5 814,-480.5 814,-480.5 814,-474.5 820,-468.5 826,-468.5 826,-468.5 927,-468.5 927,-468.5 933,-468.5 939,-474.5 939,-480.5 939,-480.5 939,-524.5 939,-524.5 939,-530.5 933,-536.5 927,-536.5\"/>\n<text text-anchor=\"middle\" x=\"876.5\" y=\"-521.3\" font-family=\"Helvetica,sans-Serif\" font-size=\"14.00\" fill=\"#000000\">gini = 0.0</text>\n<text text-anchor=\"middle\" x=\"876.5\" y=\"-506.3\" font-family=\"Helvetica,sans-Serif\" font-size=\"14.00\" fill=\"#000000\">samples = 1</text>\n<text text-anchor=\"middle\" x=\"876.5\" y=\"-491.3\" font-family=\"Helvetica,sans-Serif\" font-size=\"14.00\" fill=\"#000000\">value = [0, 1, 0]</text>\n<text text-anchor=\"middle\" x=\"876.5\" y=\"-476.3\" font-family=\"Helvetica,sans-Serif\" font-size=\"14.00\" fill=\"#000000\">class = GALAXY</text>\n</g>\n<!-- 24&#45;&gt;30 -->\n<g id=\"edge30\" class=\"edge\">\n<title>24&#45;&gt;30</title>\n<path fill=\"none\" stroke=\"#000000\" d=\"M876.5,-579.8796C876.5,-569.2134 876.5,-557.7021 876.5,-546.9015\"/>\n<polygon fill=\"#000000\" stroke=\"#000000\" points=\"880.0001,-546.8149 876.5,-536.8149 873.0001,-546.815 880.0001,-546.8149\"/>\n</g>\n<!-- 26 -->\n<g id=\"node27\" class=\"node\">\n<title>26</title>\n<path fill=\"#e78946\" stroke=\"#000000\" d=\"M625,-425C625,-425 526,-425 526,-425 520,-425 514,-419 514,-413 514,-413 514,-354 514,-354 514,-348 520,-342 526,-342 526,-342 625,-342 625,-342 631,-342 637,-348 637,-354 637,-354 637,-413 637,-413 637,-419 631,-425 625,-425\"/>\n<text text-anchor=\"middle\" x=\"575.5\" y=\"-409.8\" font-family=\"Helvetica,sans-Serif\" font-size=\"14.00\" fill=\"#000000\">X[3] &lt;= &#45;0.0</text>\n<text text-anchor=\"middle\" x=\"575.5\" y=\"-394.8\" font-family=\"Helvetica,sans-Serif\" font-size=\"14.00\" fill=\"#000000\">gini = 0.117</text>\n<text text-anchor=\"middle\" x=\"575.5\" y=\"-379.8\" font-family=\"Helvetica,sans-Serif\" font-size=\"14.00\" fill=\"#000000\">samples = 16</text>\n<text text-anchor=\"middle\" x=\"575.5\" y=\"-364.8\" font-family=\"Helvetica,sans-Serif\" font-size=\"14.00\" fill=\"#000000\">value = [15, 1, 0]</text>\n<text text-anchor=\"middle\" x=\"575.5\" y=\"-349.8\" font-family=\"Helvetica,sans-Serif\" font-size=\"14.00\" fill=\"#000000\">class = STAR</text>\n</g>\n<!-- 25&#45;&gt;26 -->\n<g id=\"edge26\" class=\"edge\">\n<title>25&#45;&gt;26</title>\n<path fill=\"none\" stroke=\"#000000\" d=\"M669.786,-460.8796C658.373,-451.513 646.1659,-441.4948 634.4485,-431.8784\"/>\n<polygon fill=\"#000000\" stroke=\"#000000\" points=\"636.3809,-428.9366 626.4304,-425.2981 631.9401,-434.3476 636.3809,-428.9366\"/>\n</g>\n<!-- 29 -->\n<g id=\"node30\" class=\"node\">\n<title>29</title>\n<path fill=\"#e58139\" stroke=\"#000000\" d=\"M774,-417.5C774,-417.5 667,-417.5 667,-417.5 661,-417.5 655,-411.5 655,-405.5 655,-405.5 655,-361.5 655,-361.5 655,-355.5 661,-349.5 667,-349.5 667,-349.5 774,-349.5 774,-349.5 780,-349.5 786,-355.5 786,-361.5 786,-361.5 786,-405.5 786,-405.5 786,-411.5 780,-417.5 774,-417.5\"/>\n<text text-anchor=\"middle\" x=\"720.5\" y=\"-402.3\" font-family=\"Helvetica,sans-Serif\" font-size=\"14.00\" fill=\"#000000\">gini = 0.0</text>\n<text text-anchor=\"middle\" x=\"720.5\" y=\"-387.3\" font-family=\"Helvetica,sans-Serif\" font-size=\"14.00\" fill=\"#000000\">samples = 161</text>\n<text text-anchor=\"middle\" x=\"720.5\" y=\"-372.3\" font-family=\"Helvetica,sans-Serif\" font-size=\"14.00\" fill=\"#000000\">value = [161, 0, 0]</text>\n<text text-anchor=\"middle\" x=\"720.5\" y=\"-357.3\" font-family=\"Helvetica,sans-Serif\" font-size=\"14.00\" fill=\"#000000\">class = STAR</text>\n</g>\n<!-- 25&#45;&gt;29 -->\n<g id=\"edge29\" class=\"edge\">\n<title>25&#45;&gt;29</title>\n<path fill=\"none\" stroke=\"#000000\" d=\"M720.5,-460.8796C720.5,-450.2134 720.5,-438.7021 720.5,-427.9015\"/>\n<polygon fill=\"#000000\" stroke=\"#000000\" points=\"724.0001,-427.8149 720.5,-417.8149 717.0001,-427.815 724.0001,-427.8149\"/>\n</g>\n<!-- 27 -->\n<g id=\"node28\" class=\"node\">\n<title>27</title>\n<path fill=\"#e58139\" stroke=\"#000000\" d=\"M570,-298.5C570,-298.5 471,-298.5 471,-298.5 465,-298.5 459,-292.5 459,-286.5 459,-286.5 459,-242.5 459,-242.5 459,-236.5 465,-230.5 471,-230.5 471,-230.5 570,-230.5 570,-230.5 576,-230.5 582,-236.5 582,-242.5 582,-242.5 582,-286.5 582,-286.5 582,-292.5 576,-298.5 570,-298.5\"/>\n<text text-anchor=\"middle\" x=\"520.5\" y=\"-283.3\" font-family=\"Helvetica,sans-Serif\" font-size=\"14.00\" fill=\"#000000\">gini = 0.0</text>\n<text text-anchor=\"middle\" x=\"520.5\" y=\"-268.3\" font-family=\"Helvetica,sans-Serif\" font-size=\"14.00\" fill=\"#000000\">samples = 15</text>\n<text text-anchor=\"middle\" x=\"520.5\" y=\"-253.3\" font-family=\"Helvetica,sans-Serif\" font-size=\"14.00\" fill=\"#000000\">value = [15, 0, 0]</text>\n<text text-anchor=\"middle\" x=\"520.5\" y=\"-238.3\" font-family=\"Helvetica,sans-Serif\" font-size=\"14.00\" fill=\"#000000\">class = STAR</text>\n</g>\n<!-- 26&#45;&gt;27 -->\n<g id=\"edge27\" class=\"edge\">\n<title>26&#45;&gt;27</title>\n<path fill=\"none\" stroke=\"#000000\" d=\"M556.2637,-341.8796C551.1814,-330.8835 545.6841,-318.9893 540.5595,-307.9015\"/>\n<polygon fill=\"#000000\" stroke=\"#000000\" points=\"543.7324,-306.4239 536.3598,-298.8149 537.3782,-309.3607 543.7324,-306.4239\"/>\n</g>\n<!-- 28 -->\n<g id=\"node29\" class=\"node\">\n<title>28</title>\n<path fill=\"#39e581\" stroke=\"#000000\" d=\"M713,-298.5C713,-298.5 612,-298.5 612,-298.5 606,-298.5 600,-292.5 600,-286.5 600,-286.5 600,-242.5 600,-242.5 600,-236.5 606,-230.5 612,-230.5 612,-230.5 713,-230.5 713,-230.5 719,-230.5 725,-236.5 725,-242.5 725,-242.5 725,-286.5 725,-286.5 725,-292.5 719,-298.5 713,-298.5\"/>\n<text text-anchor=\"middle\" x=\"662.5\" y=\"-283.3\" font-family=\"Helvetica,sans-Serif\" font-size=\"14.00\" fill=\"#000000\">gini = 0.0</text>\n<text text-anchor=\"middle\" x=\"662.5\" y=\"-268.3\" font-family=\"Helvetica,sans-Serif\" font-size=\"14.00\" fill=\"#000000\">samples = 1</text>\n<text text-anchor=\"middle\" x=\"662.5\" y=\"-253.3\" font-family=\"Helvetica,sans-Serif\" font-size=\"14.00\" fill=\"#000000\">value = [0, 1, 0]</text>\n<text text-anchor=\"middle\" x=\"662.5\" y=\"-238.3\" font-family=\"Helvetica,sans-Serif\" font-size=\"14.00\" fill=\"#000000\">class = GALAXY</text>\n</g>\n<!-- 26&#45;&gt;28 -->\n<g id=\"edge28\" class=\"edge\">\n<title>26&#45;&gt;28</title>\n<path fill=\"none\" stroke=\"#000000\" d=\"M605.9284,-341.8796C614.2087,-330.5536 623.1857,-318.2748 631.4974,-306.9058\"/>\n<polygon fill=\"#000000\" stroke=\"#000000\" points=\"634.3361,-308.9533 637.4126,-298.8149 628.6853,-304.822 634.3361,-308.9533\"/>\n</g>\n<!-- 32 -->\n<g id=\"node33\" class=\"node\">\n<title>32</title>\n<path fill=\"#e58139\" stroke=\"#000000\" d=\"M1086.5,-544C1086.5,-544 970.5,-544 970.5,-544 964.5,-544 958.5,-538 958.5,-532 958.5,-532 958.5,-473 958.5,-473 958.5,-467 964.5,-461 970.5,-461 970.5,-461 1086.5,-461 1086.5,-461 1092.5,-461 1098.5,-467 1098.5,-473 1098.5,-473 1098.5,-532 1098.5,-532 1098.5,-538 1092.5,-544 1086.5,-544\"/>\n<text text-anchor=\"middle\" x=\"1028.5\" y=\"-528.8\" font-family=\"Helvetica,sans-Serif\" font-size=\"14.00\" fill=\"#000000\">X[9] &lt;= 0.042</text>\n<text text-anchor=\"middle\" x=\"1028.5\" y=\"-513.8\" font-family=\"Helvetica,sans-Serif\" font-size=\"14.00\" fill=\"#000000\">gini = 0.001</text>\n<text text-anchor=\"middle\" x=\"1028.5\" y=\"-498.8\" font-family=\"Helvetica,sans-Serif\" font-size=\"14.00\" fill=\"#000000\">samples = 2180</text>\n<text text-anchor=\"middle\" x=\"1028.5\" y=\"-483.8\" font-family=\"Helvetica,sans-Serif\" font-size=\"14.00\" fill=\"#000000\">value = [2179, 0, 1]</text>\n<text text-anchor=\"middle\" x=\"1028.5\" y=\"-468.8\" font-family=\"Helvetica,sans-Serif\" font-size=\"14.00\" fill=\"#000000\">class = STAR</text>\n</g>\n<!-- 31&#45;&gt;32 -->\n<g id=\"edge32\" class=\"edge\">\n<title>31&#45;&gt;32</title>\n<path fill=\"none\" stroke=\"#000000\" d=\"M1029.8005,-579.8796C1029.6628,-571.6838 1029.5166,-562.9891 1029.374,-554.5013\"/>\n<polygon fill=\"#000000\" stroke=\"#000000\" points=\"1032.8701,-554.2378 1029.2025,-544.2981 1025.8711,-554.3555 1032.8701,-554.2378\"/>\n</g>\n<!-- 37 -->\n<g id=\"node38\" class=\"node\">\n<title>37</title>\n<path fill=\"#e5823a\" stroke=\"#000000\" d=\"M1276,-544C1276,-544 1169,-544 1169,-544 1163,-544 1157,-538 1157,-532 1157,-532 1157,-473 1157,-473 1157,-467 1163,-461 1169,-461 1169,-461 1276,-461 1276,-461 1282,-461 1288,-467 1288,-473 1288,-473 1288,-532 1288,-532 1288,-538 1282,-544 1276,-544\"/>\n<text text-anchor=\"middle\" x=\"1222.5\" y=\"-528.8\" font-family=\"Helvetica,sans-Serif\" font-size=\"14.00\" fill=\"#000000\">X[0] &lt;= 220.754</text>\n<text text-anchor=\"middle\" x=\"1222.5\" y=\"-513.8\" font-family=\"Helvetica,sans-Serif\" font-size=\"14.00\" fill=\"#000000\">gini = 0.012</text>\n<text text-anchor=\"middle\" x=\"1222.5\" y=\"-498.8\" font-family=\"Helvetica,sans-Serif\" font-size=\"14.00\" fill=\"#000000\">samples = 332</text>\n<text text-anchor=\"middle\" x=\"1222.5\" y=\"-483.8\" font-family=\"Helvetica,sans-Serif\" font-size=\"14.00\" fill=\"#000000\">value = [330, 2, 0]</text>\n<text text-anchor=\"middle\" x=\"1222.5\" y=\"-468.8\" font-family=\"Helvetica,sans-Serif\" font-size=\"14.00\" fill=\"#000000\">class = STAR</text>\n</g>\n<!-- 31&#45;&gt;37 -->\n<g id=\"edge37\" class=\"edge\">\n<title>31&#45;&gt;37</title>\n<path fill=\"none\" stroke=\"#000000\" d=\"M1097.6523,-579.8796C1113.9517,-569.7773 1131.4743,-558.917 1148.0872,-548.6204\"/>\n<polygon fill=\"#000000\" stroke=\"#000000\" points=\"1150.0245,-551.5375 1156.6805,-543.2944 1146.3368,-545.5876 1150.0245,-551.5375\"/>\n</g>\n<!-- 33 -->\n<g id=\"node34\" class=\"node\">\n<title>33</title>\n<path fill=\"#e58139\" stroke=\"#000000\" d=\"M932.5,-417.5C932.5,-417.5 816.5,-417.5 816.5,-417.5 810.5,-417.5 804.5,-411.5 804.5,-405.5 804.5,-405.5 804.5,-361.5 804.5,-361.5 804.5,-355.5 810.5,-349.5 816.5,-349.5 816.5,-349.5 932.5,-349.5 932.5,-349.5 938.5,-349.5 944.5,-355.5 944.5,-361.5 944.5,-361.5 944.5,-405.5 944.5,-405.5 944.5,-411.5 938.5,-417.5 932.5,-417.5\"/>\n<text text-anchor=\"middle\" x=\"874.5\" y=\"-402.3\" font-family=\"Helvetica,sans-Serif\" font-size=\"14.00\" fill=\"#000000\">gini = 0.0</text>\n<text text-anchor=\"middle\" x=\"874.5\" y=\"-387.3\" font-family=\"Helvetica,sans-Serif\" font-size=\"14.00\" fill=\"#000000\">samples = 2048</text>\n<text text-anchor=\"middle\" x=\"874.5\" y=\"-372.3\" font-family=\"Helvetica,sans-Serif\" font-size=\"14.00\" fill=\"#000000\">value = [2048, 0, 0]</text>\n<text text-anchor=\"middle\" x=\"874.5\" y=\"-357.3\" font-family=\"Helvetica,sans-Serif\" font-size=\"14.00\" fill=\"#000000\">class = STAR</text>\n</g>\n<!-- 32&#45;&gt;33 -->\n<g id=\"edge33\" class=\"edge\">\n<title>32&#45;&gt;33</title>\n<path fill=\"none\" stroke=\"#000000\" d=\"M974.6383,-460.8796C959.2696,-449.0038 942.5453,-436.0804 927.2441,-424.2568\"/>\n<polygon fill=\"#000000\" stroke=\"#000000\" points=\"928.9605,-421.1599 918.9076,-417.8149 924.6804,-426.699 928.9605,-421.1599\"/>\n</g>\n<!-- 34 -->\n<g id=\"node35\" class=\"node\">\n<title>34</title>\n<path fill=\"#e5823b\" stroke=\"#000000\" d=\"M1082,-425C1082,-425 975,-425 975,-425 969,-425 963,-419 963,-413 963,-413 963,-354 963,-354 963,-348 969,-342 975,-342 975,-342 1082,-342 1082,-342 1088,-342 1094,-348 1094,-354 1094,-354 1094,-413 1094,-413 1094,-419 1088,-425 1082,-425\"/>\n<text text-anchor=\"middle\" x=\"1028.5\" y=\"-409.8\" font-family=\"Helvetica,sans-Serif\" font-size=\"14.00\" fill=\"#000000\">X[9] &lt;= 0.042</text>\n<text text-anchor=\"middle\" x=\"1028.5\" y=\"-394.8\" font-family=\"Helvetica,sans-Serif\" font-size=\"14.00\" fill=\"#000000\">gini = 0.015</text>\n<text text-anchor=\"middle\" x=\"1028.5\" y=\"-379.8\" font-family=\"Helvetica,sans-Serif\" font-size=\"14.00\" fill=\"#000000\">samples = 132</text>\n<text text-anchor=\"middle\" x=\"1028.5\" y=\"-364.8\" font-family=\"Helvetica,sans-Serif\" font-size=\"14.00\" fill=\"#000000\">value = [131, 0, 1]</text>\n<text text-anchor=\"middle\" x=\"1028.5\" y=\"-349.8\" font-family=\"Helvetica,sans-Serif\" font-size=\"14.00\" fill=\"#000000\">class = STAR</text>\n</g>\n<!-- 32&#45;&gt;34 -->\n<g id=\"edge34\" class=\"edge\">\n<title>32&#45;&gt;34</title>\n<path fill=\"none\" stroke=\"#000000\" d=\"M1028.5,-460.8796C1028.5,-452.6838 1028.5,-443.9891 1028.5,-435.5013\"/>\n<polygon fill=\"#000000\" stroke=\"#000000\" points=\"1032.0001,-435.298 1028.5,-425.2981 1025.0001,-435.2981 1032.0001,-435.298\"/>\n</g>\n<!-- 35 -->\n<g id=\"node36\" class=\"node\">\n<title>35</title>\n<path fill=\"#8139e5\" stroke=\"#000000\" d=\"M892,-298.5C892,-298.5 801,-298.5 801,-298.5 795,-298.5 789,-292.5 789,-286.5 789,-286.5 789,-242.5 789,-242.5 789,-236.5 795,-230.5 801,-230.5 801,-230.5 892,-230.5 892,-230.5 898,-230.5 904,-236.5 904,-242.5 904,-242.5 904,-286.5 904,-286.5 904,-292.5 898,-298.5 892,-298.5\"/>\n<text text-anchor=\"middle\" x=\"846.5\" y=\"-283.3\" font-family=\"Helvetica,sans-Serif\" font-size=\"14.00\" fill=\"#000000\">gini = 0.0</text>\n<text text-anchor=\"middle\" x=\"846.5\" y=\"-268.3\" font-family=\"Helvetica,sans-Serif\" font-size=\"14.00\" fill=\"#000000\">samples = 1</text>\n<text text-anchor=\"middle\" x=\"846.5\" y=\"-253.3\" font-family=\"Helvetica,sans-Serif\" font-size=\"14.00\" fill=\"#000000\">value = [0, 0, 1]</text>\n<text text-anchor=\"middle\" x=\"846.5\" y=\"-238.3\" font-family=\"Helvetica,sans-Serif\" font-size=\"14.00\" fill=\"#000000\">class = QSO</text>\n</g>\n<!-- 34&#45;&gt;35 -->\n<g id=\"edge35\" class=\"edge\">\n<title>34&#45;&gt;35</title>\n<path fill=\"none\" stroke=\"#000000\" d=\"M964.8452,-341.8796C946.0889,-329.6158 925.6239,-316.2348 907.067,-304.1015\"/>\n<polygon fill=\"#000000\" stroke=\"#000000\" points=\"908.9733,-301.1662 898.6882,-298.623 905.1425,-307.025 908.9733,-301.1662\"/>\n</g>\n<!-- 36 -->\n<g id=\"node37\" class=\"node\">\n<title>36</title>\n<path fill=\"#e58139\" stroke=\"#000000\" d=\"M1041,-298.5C1041,-298.5 934,-298.5 934,-298.5 928,-298.5 922,-292.5 922,-286.5 922,-286.5 922,-242.5 922,-242.5 922,-236.5 928,-230.5 934,-230.5 934,-230.5 1041,-230.5 1041,-230.5 1047,-230.5 1053,-236.5 1053,-242.5 1053,-242.5 1053,-286.5 1053,-286.5 1053,-292.5 1047,-298.5 1041,-298.5\"/>\n<text text-anchor=\"middle\" x=\"987.5\" y=\"-283.3\" font-family=\"Helvetica,sans-Serif\" font-size=\"14.00\" fill=\"#000000\">gini = 0.0</text>\n<text text-anchor=\"middle\" x=\"987.5\" y=\"-268.3\" font-family=\"Helvetica,sans-Serif\" font-size=\"14.00\" fill=\"#000000\">samples = 131</text>\n<text text-anchor=\"middle\" x=\"987.5\" y=\"-253.3\" font-family=\"Helvetica,sans-Serif\" font-size=\"14.00\" fill=\"#000000\">value = [131, 0, 0]</text>\n<text text-anchor=\"middle\" x=\"987.5\" y=\"-238.3\" font-family=\"Helvetica,sans-Serif\" font-size=\"14.00\" fill=\"#000000\">class = STAR</text>\n</g>\n<!-- 34&#45;&gt;36 -->\n<g id=\"edge36\" class=\"edge\">\n<title>34&#45;&gt;36</title>\n<path fill=\"none\" stroke=\"#000000\" d=\"M1014.1602,-341.8796C1010.4474,-331.1034 1006.4374,-319.4647 1002.683,-308.5677\"/>\n<polygon fill=\"#000000\" stroke=\"#000000\" points=\"1005.8894,-307.1294 999.3228,-298.8149 999.2712,-309.4096 1005.8894,-307.1294\"/>\n</g>\n<!-- 38 -->\n<g id=\"node39\" class=\"node\">\n<title>38</title>\n<path fill=\"#e9965a\" stroke=\"#000000\" d=\"M1268,-425C1268,-425 1177,-425 1177,-425 1171,-425 1165,-419 1165,-413 1165,-413 1165,-354 1165,-354 1165,-348 1171,-342 1177,-342 1177,-342 1268,-342 1268,-342 1274,-342 1280,-348 1280,-354 1280,-354 1280,-413 1280,-413 1280,-419 1274,-425 1268,-425\"/>\n<text text-anchor=\"middle\" x=\"1222.5\" y=\"-409.8\" font-family=\"Helvetica,sans-Serif\" font-size=\"14.00\" fill=\"#000000\">X[1] &lt;= &#45;0.682</text>\n<text text-anchor=\"middle\" x=\"1222.5\" y=\"-394.8\" font-family=\"Helvetica,sans-Serif\" font-size=\"14.00\" fill=\"#000000\">gini = 0.245</text>\n<text text-anchor=\"middle\" x=\"1222.5\" y=\"-379.8\" font-family=\"Helvetica,sans-Serif\" font-size=\"14.00\" fill=\"#000000\">samples = 7</text>\n<text text-anchor=\"middle\" x=\"1222.5\" y=\"-364.8\" font-family=\"Helvetica,sans-Serif\" font-size=\"14.00\" fill=\"#000000\">value = [6, 1, 0]</text>\n<text text-anchor=\"middle\" x=\"1222.5\" y=\"-349.8\" font-family=\"Helvetica,sans-Serif\" font-size=\"14.00\" fill=\"#000000\">class = STAR</text>\n</g>\n<!-- 37&#45;&gt;38 -->\n<g id=\"edge38\" class=\"edge\">\n<title>37&#45;&gt;38</title>\n<path fill=\"none\" stroke=\"#000000\" d=\"M1222.5,-460.8796C1222.5,-452.6838 1222.5,-443.9891 1222.5,-435.5013\"/>\n<polygon fill=\"#000000\" stroke=\"#000000\" points=\"1226.0001,-435.298 1222.5,-425.2981 1219.0001,-435.2981 1226.0001,-435.298\"/>\n</g>\n<!-- 41 -->\n<g id=\"node42\" class=\"node\">\n<title>41</title>\n<path fill=\"#e5813a\" stroke=\"#000000\" d=\"M1466,-425C1466,-425 1359,-425 1359,-425 1353,-425 1347,-419 1347,-413 1347,-413 1347,-354 1347,-354 1347,-348 1353,-342 1359,-342 1359,-342 1466,-342 1466,-342 1472,-342 1478,-348 1478,-354 1478,-354 1478,-413 1478,-413 1478,-419 1472,-425 1466,-425\"/>\n<text text-anchor=\"middle\" x=\"1412.5\" y=\"-409.8\" font-family=\"Helvetica,sans-Serif\" font-size=\"14.00\" fill=\"#000000\">X[1] &lt;= 53.42</text>\n<text text-anchor=\"middle\" x=\"1412.5\" y=\"-394.8\" font-family=\"Helvetica,sans-Serif\" font-size=\"14.00\" fill=\"#000000\">gini = 0.006</text>\n<text text-anchor=\"middle\" x=\"1412.5\" y=\"-379.8\" font-family=\"Helvetica,sans-Serif\" font-size=\"14.00\" fill=\"#000000\">samples = 325</text>\n<text text-anchor=\"middle\" x=\"1412.5\" y=\"-364.8\" font-family=\"Helvetica,sans-Serif\" font-size=\"14.00\" fill=\"#000000\">value = [324, 1, 0]</text>\n<text text-anchor=\"middle\" x=\"1412.5\" y=\"-349.8\" font-family=\"Helvetica,sans-Serif\" font-size=\"14.00\" fill=\"#000000\">class = STAR</text>\n</g>\n<!-- 37&#45;&gt;41 -->\n<g id=\"edge41\" class=\"edge\">\n<title>37&#45;&gt;41</title>\n<path fill=\"none\" stroke=\"#000000\" d=\"M1288.1533,-461.3803C1304.3207,-451.2544 1321.7455,-440.341 1338.2863,-429.9812\"/>\n<polygon fill=\"#000000\" stroke=\"#000000\" points=\"1340.227,-432.8956 1346.8441,-424.6213 1336.5113,-426.9631 1340.227,-432.8956\"/>\n</g>\n<!-- 39 -->\n<g id=\"node40\" class=\"node\">\n<title>39</title>\n<path fill=\"#39e581\" stroke=\"#000000\" d=\"M1184,-298.5C1184,-298.5 1083,-298.5 1083,-298.5 1077,-298.5 1071,-292.5 1071,-286.5 1071,-286.5 1071,-242.5 1071,-242.5 1071,-236.5 1077,-230.5 1083,-230.5 1083,-230.5 1184,-230.5 1184,-230.5 1190,-230.5 1196,-236.5 1196,-242.5 1196,-242.5 1196,-286.5 1196,-286.5 1196,-292.5 1190,-298.5 1184,-298.5\"/>\n<text text-anchor=\"middle\" x=\"1133.5\" y=\"-283.3\" font-family=\"Helvetica,sans-Serif\" font-size=\"14.00\" fill=\"#000000\">gini = 0.0</text>\n<text text-anchor=\"middle\" x=\"1133.5\" y=\"-268.3\" font-family=\"Helvetica,sans-Serif\" font-size=\"14.00\" fill=\"#000000\">samples = 1</text>\n<text text-anchor=\"middle\" x=\"1133.5\" y=\"-253.3\" font-family=\"Helvetica,sans-Serif\" font-size=\"14.00\" fill=\"#000000\">value = [0, 1, 0]</text>\n<text text-anchor=\"middle\" x=\"1133.5\" y=\"-238.3\" font-family=\"Helvetica,sans-Serif\" font-size=\"14.00\" fill=\"#000000\">class = GALAXY</text>\n</g>\n<!-- 38&#45;&gt;39 -->\n<g id=\"edge39\" class=\"edge\">\n<title>38&#45;&gt;39</title>\n<path fill=\"none\" stroke=\"#000000\" d=\"M1191.3721,-341.8796C1182.9014,-330.5536 1173.7181,-318.2748 1165.2153,-306.9058\"/>\n<polygon fill=\"#000000\" stroke=\"#000000\" points=\"1167.9562,-304.7268 1159.1641,-298.8149 1162.3505,-308.9193 1167.9562,-304.7268\"/>\n</g>\n<!-- 40 -->\n<g id=\"node41\" class=\"node\">\n<title>40</title>\n<path fill=\"#e58139\" stroke=\"#000000\" d=\"M1317,-298.5C1317,-298.5 1226,-298.5 1226,-298.5 1220,-298.5 1214,-292.5 1214,-286.5 1214,-286.5 1214,-242.5 1214,-242.5 1214,-236.5 1220,-230.5 1226,-230.5 1226,-230.5 1317,-230.5 1317,-230.5 1323,-230.5 1329,-236.5 1329,-242.5 1329,-242.5 1329,-286.5 1329,-286.5 1329,-292.5 1323,-298.5 1317,-298.5\"/>\n<text text-anchor=\"middle\" x=\"1271.5\" y=\"-283.3\" font-family=\"Helvetica,sans-Serif\" font-size=\"14.00\" fill=\"#000000\">gini = 0.0</text>\n<text text-anchor=\"middle\" x=\"1271.5\" y=\"-268.3\" font-family=\"Helvetica,sans-Serif\" font-size=\"14.00\" fill=\"#000000\">samples = 6</text>\n<text text-anchor=\"middle\" x=\"1271.5\" y=\"-253.3\" font-family=\"Helvetica,sans-Serif\" font-size=\"14.00\" fill=\"#000000\">value = [6, 0, 0]</text>\n<text text-anchor=\"middle\" x=\"1271.5\" y=\"-238.3\" font-family=\"Helvetica,sans-Serif\" font-size=\"14.00\" fill=\"#000000\">class = STAR</text>\n</g>\n<!-- 38&#45;&gt;40 -->\n<g id=\"edge40\" class=\"edge\">\n<title>38&#45;&gt;40</title>\n<path fill=\"none\" stroke=\"#000000\" d=\"M1239.6378,-341.8796C1244.1203,-330.9935 1248.9653,-319.227 1253.4917,-308.2344\"/>\n<polygon fill=\"#000000\" stroke=\"#000000\" points=\"1256.7991,-309.3944 1257.3703,-298.8149 1250.3264,-306.7291 1256.7991,-309.3944\"/>\n</g>\n<!-- 42 -->\n<g id=\"node43\" class=\"node\">\n<title>42</title>\n<path fill=\"#e58139\" stroke=\"#000000\" d=\"M1466,-298.5C1466,-298.5 1359,-298.5 1359,-298.5 1353,-298.5 1347,-292.5 1347,-286.5 1347,-286.5 1347,-242.5 1347,-242.5 1347,-236.5 1353,-230.5 1359,-230.5 1359,-230.5 1466,-230.5 1466,-230.5 1472,-230.5 1478,-236.5 1478,-242.5 1478,-242.5 1478,-286.5 1478,-286.5 1478,-292.5 1472,-298.5 1466,-298.5\"/>\n<text text-anchor=\"middle\" x=\"1412.5\" y=\"-283.3\" font-family=\"Helvetica,sans-Serif\" font-size=\"14.00\" fill=\"#000000\">gini = 0.0</text>\n<text text-anchor=\"middle\" x=\"1412.5\" y=\"-268.3\" font-family=\"Helvetica,sans-Serif\" font-size=\"14.00\" fill=\"#000000\">samples = 301</text>\n<text text-anchor=\"middle\" x=\"1412.5\" y=\"-253.3\" font-family=\"Helvetica,sans-Serif\" font-size=\"14.00\" fill=\"#000000\">value = [301, 0, 0]</text>\n<text text-anchor=\"middle\" x=\"1412.5\" y=\"-238.3\" font-family=\"Helvetica,sans-Serif\" font-size=\"14.00\" fill=\"#000000\">class = STAR</text>\n</g>\n<!-- 41&#45;&gt;42 -->\n<g id=\"edge42\" class=\"edge\">\n<title>41&#45;&gt;42</title>\n<path fill=\"none\" stroke=\"#000000\" d=\"M1412.5,-341.8796C1412.5,-331.2134 1412.5,-319.7021 1412.5,-308.9015\"/>\n<polygon fill=\"#000000\" stroke=\"#000000\" points=\"1416.0001,-308.8149 1412.5,-298.8149 1409.0001,-308.815 1416.0001,-308.8149\"/>\n</g>\n<!-- 43 -->\n<g id=\"node44\" class=\"node\">\n<title>43</title>\n<path fill=\"#e68642\" stroke=\"#000000\" d=\"M1607,-306C1607,-306 1508,-306 1508,-306 1502,-306 1496,-300 1496,-294 1496,-294 1496,-235 1496,-235 1496,-229 1502,-223 1508,-223 1508,-223 1607,-223 1607,-223 1613,-223 1619,-229 1619,-235 1619,-235 1619,-294 1619,-294 1619,-300 1613,-306 1607,-306\"/>\n<text text-anchor=\"middle\" x=\"1557.5\" y=\"-290.8\" font-family=\"Helvetica,sans-Serif\" font-size=\"14.00\" fill=\"#000000\">X[1] &lt;= 53.466</text>\n<text text-anchor=\"middle\" x=\"1557.5\" y=\"-275.8\" font-family=\"Helvetica,sans-Serif\" font-size=\"14.00\" fill=\"#000000\">gini = 0.08</text>\n<text text-anchor=\"middle\" x=\"1557.5\" y=\"-260.8\" font-family=\"Helvetica,sans-Serif\" font-size=\"14.00\" fill=\"#000000\">samples = 24</text>\n<text text-anchor=\"middle\" x=\"1557.5\" y=\"-245.8\" font-family=\"Helvetica,sans-Serif\" font-size=\"14.00\" fill=\"#000000\">value = [23, 1, 0]</text>\n<text text-anchor=\"middle\" x=\"1557.5\" y=\"-230.8\" font-family=\"Helvetica,sans-Serif\" font-size=\"14.00\" fill=\"#000000\">class = STAR</text>\n</g>\n<!-- 41&#45;&gt;43 -->\n<g id=\"edge43\" class=\"edge\">\n<title>41&#45;&gt;43</title>\n<path fill=\"none\" stroke=\"#000000\" d=\"M1463.214,-341.8796C1474.627,-332.513 1486.8341,-322.4948 1498.5515,-312.8784\"/>\n<polygon fill=\"#000000\" stroke=\"#000000\" points=\"1501.0599,-315.3476 1506.5696,-306.2981 1496.6191,-309.9366 1501.0599,-315.3476\"/>\n</g>\n<!-- 44 -->\n<g id=\"node45\" class=\"node\">\n<title>44</title>\n<path fill=\"#39e581\" stroke=\"#000000\" d=\"M1466,-179.5C1466,-179.5 1365,-179.5 1365,-179.5 1359,-179.5 1353,-173.5 1353,-167.5 1353,-167.5 1353,-123.5 1353,-123.5 1353,-117.5 1359,-111.5 1365,-111.5 1365,-111.5 1466,-111.5 1466,-111.5 1472,-111.5 1478,-117.5 1478,-123.5 1478,-123.5 1478,-167.5 1478,-167.5 1478,-173.5 1472,-179.5 1466,-179.5\"/>\n<text text-anchor=\"middle\" x=\"1415.5\" y=\"-164.3\" font-family=\"Helvetica,sans-Serif\" font-size=\"14.00\" fill=\"#000000\">gini = 0.0</text>\n<text text-anchor=\"middle\" x=\"1415.5\" y=\"-149.3\" font-family=\"Helvetica,sans-Serif\" font-size=\"14.00\" fill=\"#000000\">samples = 1</text>\n<text text-anchor=\"middle\" x=\"1415.5\" y=\"-134.3\" font-family=\"Helvetica,sans-Serif\" font-size=\"14.00\" fill=\"#000000\">value = [0, 1, 0]</text>\n<text text-anchor=\"middle\" x=\"1415.5\" y=\"-119.3\" font-family=\"Helvetica,sans-Serif\" font-size=\"14.00\" fill=\"#000000\">class = GALAXY</text>\n</g>\n<!-- 43&#45;&gt;44 -->\n<g id=\"edge44\" class=\"edge\">\n<title>43&#45;&gt;44</title>\n<path fill=\"none\" stroke=\"#000000\" d=\"M1507.8353,-222.8796C1493.6642,-211.0038 1478.243,-198.0804 1464.1342,-186.2568\"/>\n<polygon fill=\"#000000\" stroke=\"#000000\" points=\"1466.3598,-183.5554 1456.4472,-179.8149 1461.8637,-188.9206 1466.3598,-183.5554\"/>\n</g>\n<!-- 45 -->\n<g id=\"node46\" class=\"node\">\n<title>45</title>\n<path fill=\"#e58139\" stroke=\"#000000\" d=\"M1607,-179.5C1607,-179.5 1508,-179.5 1508,-179.5 1502,-179.5 1496,-173.5 1496,-167.5 1496,-167.5 1496,-123.5 1496,-123.5 1496,-117.5 1502,-111.5 1508,-111.5 1508,-111.5 1607,-111.5 1607,-111.5 1613,-111.5 1619,-117.5 1619,-123.5 1619,-123.5 1619,-167.5 1619,-167.5 1619,-173.5 1613,-179.5 1607,-179.5\"/>\n<text text-anchor=\"middle\" x=\"1557.5\" y=\"-164.3\" font-family=\"Helvetica,sans-Serif\" font-size=\"14.00\" fill=\"#000000\">gini = 0.0</text>\n<text text-anchor=\"middle\" x=\"1557.5\" y=\"-149.3\" font-family=\"Helvetica,sans-Serif\" font-size=\"14.00\" fill=\"#000000\">samples = 23</text>\n<text text-anchor=\"middle\" x=\"1557.5\" y=\"-134.3\" font-family=\"Helvetica,sans-Serif\" font-size=\"14.00\" fill=\"#000000\">value = [23, 0, 0]</text>\n<text text-anchor=\"middle\" x=\"1557.5\" y=\"-119.3\" font-family=\"Helvetica,sans-Serif\" font-size=\"14.00\" fill=\"#000000\">class = STAR</text>\n</g>\n<!-- 43&#45;&gt;45 -->\n<g id=\"edge45\" class=\"edge\">\n<title>43&#45;&gt;45</title>\n<path fill=\"none\" stroke=\"#000000\" d=\"M1557.5,-222.8796C1557.5,-212.2134 1557.5,-200.7021 1557.5,-189.9015\"/>\n<polygon fill=\"#000000\" stroke=\"#000000\" points=\"1561.0001,-189.8149 1557.5,-179.8149 1554.0001,-189.815 1561.0001,-189.8149\"/>\n</g>\n<!-- 47 -->\n<g id=\"node48\" class=\"node\">\n<title>47</title>\n<path fill=\"#39e581\" stroke=\"#000000\" d=\"M1232,-655.5C1232,-655.5 1131,-655.5 1131,-655.5 1125,-655.5 1119,-649.5 1119,-643.5 1119,-643.5 1119,-599.5 1119,-599.5 1119,-593.5 1125,-587.5 1131,-587.5 1131,-587.5 1232,-587.5 1232,-587.5 1238,-587.5 1244,-593.5 1244,-599.5 1244,-599.5 1244,-643.5 1244,-643.5 1244,-649.5 1238,-655.5 1232,-655.5\"/>\n<text text-anchor=\"middle\" x=\"1181.5\" y=\"-640.3\" font-family=\"Helvetica,sans-Serif\" font-size=\"14.00\" fill=\"#000000\">gini = 0.0</text>\n<text text-anchor=\"middle\" x=\"1181.5\" y=\"-625.3\" font-family=\"Helvetica,sans-Serif\" font-size=\"14.00\" fill=\"#000000\">samples = 1</text>\n<text text-anchor=\"middle\" x=\"1181.5\" y=\"-610.3\" font-family=\"Helvetica,sans-Serif\" font-size=\"14.00\" fill=\"#000000\">value = [0, 1, 0]</text>\n<text text-anchor=\"middle\" x=\"1181.5\" y=\"-595.3\" font-family=\"Helvetica,sans-Serif\" font-size=\"14.00\" fill=\"#000000\">class = GALAXY</text>\n</g>\n<!-- 46&#45;&gt;47 -->\n<g id=\"edge47\" class=\"edge\">\n<title>46&#45;&gt;47</title>\n<path fill=\"none\" stroke=\"#000000\" d=\"M1181.5,-698.8796C1181.5,-688.2134 1181.5,-676.7021 1181.5,-665.9015\"/>\n<polygon fill=\"#000000\" stroke=\"#000000\" points=\"1185.0001,-665.8149 1181.5,-655.8149 1178.0001,-665.815 1185.0001,-665.8149\"/>\n</g>\n<!-- 48 -->\n<g id=\"node49\" class=\"node\">\n<title>48</title>\n<path fill=\"#e58139\" stroke=\"#000000\" d=\"M1373,-655.5C1373,-655.5 1274,-655.5 1274,-655.5 1268,-655.5 1262,-649.5 1262,-643.5 1262,-643.5 1262,-599.5 1262,-599.5 1262,-593.5 1268,-587.5 1274,-587.5 1274,-587.5 1373,-587.5 1373,-587.5 1379,-587.5 1385,-593.5 1385,-599.5 1385,-599.5 1385,-643.5 1385,-643.5 1385,-649.5 1379,-655.5 1373,-655.5\"/>\n<text text-anchor=\"middle\" x=\"1323.5\" y=\"-640.3\" font-family=\"Helvetica,sans-Serif\" font-size=\"14.00\" fill=\"#000000\">gini = 0.0</text>\n<text text-anchor=\"middle\" x=\"1323.5\" y=\"-625.3\" font-family=\"Helvetica,sans-Serif\" font-size=\"14.00\" fill=\"#000000\">samples = 27</text>\n<text text-anchor=\"middle\" x=\"1323.5\" y=\"-610.3\" font-family=\"Helvetica,sans-Serif\" font-size=\"14.00\" fill=\"#000000\">value = [27, 0, 0]</text>\n<text text-anchor=\"middle\" x=\"1323.5\" y=\"-595.3\" font-family=\"Helvetica,sans-Serif\" font-size=\"14.00\" fill=\"#000000\">class = STAR</text>\n</g>\n<!-- 46&#45;&gt;48 -->\n<g id=\"edge48\" class=\"edge\">\n<title>46&#45;&gt;48</title>\n<path fill=\"none\" stroke=\"#000000\" d=\"M1231.1647,-698.8796C1245.3358,-687.0038 1260.757,-674.0804 1274.8658,-662.2568\"/>\n<polygon fill=\"#000000\" stroke=\"#000000\" points=\"1277.1363,-664.9206 1282.5528,-655.8149 1272.6402,-659.5554 1277.1363,-664.9206\"/>\n</g>\n<!-- 50 -->\n<g id=\"node51\" class=\"node\">\n<title>50</title>\n<path fill=\"#39e581\" stroke=\"#000000\" d=\"M1310,-1131.5C1310,-1131.5 1209,-1131.5 1209,-1131.5 1203,-1131.5 1197,-1125.5 1197,-1119.5 1197,-1119.5 1197,-1075.5 1197,-1075.5 1197,-1069.5 1203,-1063.5 1209,-1063.5 1209,-1063.5 1310,-1063.5 1310,-1063.5 1316,-1063.5 1322,-1069.5 1322,-1075.5 1322,-1075.5 1322,-1119.5 1322,-1119.5 1322,-1125.5 1316,-1131.5 1310,-1131.5\"/>\n<text text-anchor=\"middle\" x=\"1259.5\" y=\"-1116.3\" font-family=\"Helvetica,sans-Serif\" font-size=\"14.00\" fill=\"#000000\">gini = 0.0</text>\n<text text-anchor=\"middle\" x=\"1259.5\" y=\"-1101.3\" font-family=\"Helvetica,sans-Serif\" font-size=\"14.00\" fill=\"#000000\">samples = 1</text>\n<text text-anchor=\"middle\" x=\"1259.5\" y=\"-1086.3\" font-family=\"Helvetica,sans-Serif\" font-size=\"14.00\" fill=\"#000000\">value = [0, 1, 0]</text>\n<text text-anchor=\"middle\" x=\"1259.5\" y=\"-1071.3\" font-family=\"Helvetica,sans-Serif\" font-size=\"14.00\" fill=\"#000000\">class = GALAXY</text>\n</g>\n<!-- 49&#45;&gt;50 -->\n<g id=\"edge50\" class=\"edge\">\n<title>49&#45;&gt;50</title>\n<path fill=\"none\" stroke=\"#000000\" d=\"M1304.3671,-1174.8796C1297.9275,-1163.7735 1290.9566,-1151.7513 1284.4729,-1140.5691\"/>\n<polygon fill=\"#000000\" stroke=\"#000000\" points=\"1287.4409,-1138.7102 1279.3969,-1131.8149 1281.3852,-1142.2215 1287.4409,-1138.7102\"/>\n</g>\n<!-- 51 -->\n<g id=\"node52\" class=\"node\">\n<title>51</title>\n<path fill=\"#e58139\" stroke=\"#000000\" d=\"M1443,-1131.5C1443,-1131.5 1352,-1131.5 1352,-1131.5 1346,-1131.5 1340,-1125.5 1340,-1119.5 1340,-1119.5 1340,-1075.5 1340,-1075.5 1340,-1069.5 1346,-1063.5 1352,-1063.5 1352,-1063.5 1443,-1063.5 1443,-1063.5 1449,-1063.5 1455,-1069.5 1455,-1075.5 1455,-1075.5 1455,-1119.5 1455,-1119.5 1455,-1125.5 1449,-1131.5 1443,-1131.5\"/>\n<text text-anchor=\"middle\" x=\"1397.5\" y=\"-1116.3\" font-family=\"Helvetica,sans-Serif\" font-size=\"14.00\" fill=\"#000000\">gini = 0.0</text>\n<text text-anchor=\"middle\" x=\"1397.5\" y=\"-1101.3\" font-family=\"Helvetica,sans-Serif\" font-size=\"14.00\" fill=\"#000000\">samples = 2</text>\n<text text-anchor=\"middle\" x=\"1397.5\" y=\"-1086.3\" font-family=\"Helvetica,sans-Serif\" font-size=\"14.00\" fill=\"#000000\">value = [2, 0, 0]</text>\n<text text-anchor=\"middle\" x=\"1397.5\" y=\"-1071.3\" font-family=\"Helvetica,sans-Serif\" font-size=\"14.00\" fill=\"#000000\">class = STAR</text>\n</g>\n<!-- 49&#45;&gt;51 -->\n<g id=\"edge51\" class=\"edge\">\n<title>49&#45;&gt;51</title>\n<path fill=\"none\" stroke=\"#000000\" d=\"M1352.6329,-1174.8796C1359.0725,-1163.7735 1366.0434,-1151.7513 1372.5271,-1140.5691\"/>\n<polygon fill=\"#000000\" stroke=\"#000000\" points=\"1375.6148,-1142.2215 1377.6031,-1131.8149 1369.5591,-1138.7102 1375.6148,-1142.2215\"/>\n</g>\n<!-- 53 -->\n<g id=\"node54\" class=\"node\">\n<title>53</title>\n<path fill=\"#3ce583\" stroke=\"#000000\" d=\"M2572.5,-1258C2572.5,-1258 2448.5,-1258 2448.5,-1258 2442.5,-1258 2436.5,-1252 2436.5,-1246 2436.5,-1246 2436.5,-1187 2436.5,-1187 2436.5,-1181 2442.5,-1175 2448.5,-1175 2448.5,-1175 2572.5,-1175 2572.5,-1175 2578.5,-1175 2584.5,-1181 2584.5,-1187 2584.5,-1187 2584.5,-1246 2584.5,-1246 2584.5,-1252 2578.5,-1258 2572.5,-1258\"/>\n<text text-anchor=\"middle\" x=\"2510.5\" y=\"-1242.8\" font-family=\"Helvetica,sans-Serif\" font-size=\"14.00\" fill=\"#000000\">X[9] &lt;= 0.331</text>\n<text text-anchor=\"middle\" x=\"2510.5\" y=\"-1227.8\" font-family=\"Helvetica,sans-Serif\" font-size=\"14.00\" fill=\"#000000\">gini = 0.027</text>\n<text text-anchor=\"middle\" x=\"2510.5\" y=\"-1212.8\" font-family=\"Helvetica,sans-Serif\" font-size=\"14.00\" fill=\"#000000\">samples = 3550</text>\n<text text-anchor=\"middle\" x=\"2510.5\" y=\"-1197.8\" font-family=\"Helvetica,sans-Serif\" font-size=\"14.00\" fill=\"#000000\">value = [3, 3502, 45]</text>\n<text text-anchor=\"middle\" x=\"2510.5\" y=\"-1182.8\" font-family=\"Helvetica,sans-Serif\" font-size=\"14.00\" fill=\"#000000\">class = GALAXY</text>\n</g>\n<!-- 52&#45;&gt;53 -->\n<g id=\"edge53\" class=\"edge\">\n<title>52&#45;&gt;53</title>\n<path fill=\"none\" stroke=\"#000000\" d=\"M2510.5,-1293.8796C2510.5,-1285.6838 2510.5,-1276.9891 2510.5,-1268.5013\"/>\n<polygon fill=\"#000000\" stroke=\"#000000\" points=\"2514.0001,-1268.298 2510.5,-1258.2981 2507.0001,-1268.2981 2514.0001,-1268.298\"/>\n</g>\n<!-- 116 -->\n<g id=\"node117\" class=\"node\">\n<title>116</title>\n<path fill=\"#853fe6\" stroke=\"#000000\" d=\"M3496.5,-1258C3496.5,-1258 3380.5,-1258 3380.5,-1258 3374.5,-1258 3368.5,-1252 3368.5,-1246 3368.5,-1246 3368.5,-1187 3368.5,-1187 3368.5,-1181 3374.5,-1175 3380.5,-1175 3380.5,-1175 3496.5,-1175 3496.5,-1175 3502.5,-1175 3508.5,-1181 3508.5,-1187 3508.5,-1187 3508.5,-1246 3508.5,-1246 3508.5,-1252 3502.5,-1258 3496.5,-1258\"/>\n<text text-anchor=\"middle\" x=\"3438.5\" y=\"-1242.8\" font-family=\"Helvetica,sans-Serif\" font-size=\"14.00\" fill=\"#000000\">X[9] &lt;= &#45;0.083</text>\n<text text-anchor=\"middle\" x=\"3438.5\" y=\"-1227.8\" font-family=\"Helvetica,sans-Serif\" font-size=\"14.00\" fill=\"#000000\">gini = 0.053</text>\n<text text-anchor=\"middle\" x=\"3438.5\" y=\"-1212.8\" font-family=\"Helvetica,sans-Serif\" font-size=\"14.00\" fill=\"#000000\">samples = 549</text>\n<text text-anchor=\"middle\" x=\"3438.5\" y=\"-1197.8\" font-family=\"Helvetica,sans-Serif\" font-size=\"14.00\" fill=\"#000000\">value = [0, 15, 534]</text>\n<text text-anchor=\"middle\" x=\"3438.5\" y=\"-1182.8\" font-family=\"Helvetica,sans-Serif\" font-size=\"14.00\" fill=\"#000000\">class = QSO</text>\n</g>\n<!-- 52&#45;&gt;116 -->\n<g id=\"edge116\" class=\"edge\">\n<title>52&#45;&gt;116</title>\n<path fill=\"none\" stroke=\"#000000\" d=\"M2588.821,-1325.4567C2763.2809,-1303.0852 3182.3173,-1249.351 3358.4138,-1226.7697\"/>\n<polygon fill=\"#000000\" stroke=\"#000000\" points=\"3358.9175,-1230.2338 3368.3911,-1225.4903 3358.0271,-1223.2907 3358.9175,-1230.2338\"/>\n</g>\n<!-- 54 -->\n<g id=\"node55\" class=\"node\">\n<title>54</title>\n<path fill=\"#3ae582\" stroke=\"#000000\" d=\"M2463.5,-1139C2463.5,-1139 2339.5,-1139 2339.5,-1139 2333.5,-1139 2327.5,-1133 2327.5,-1127 2327.5,-1127 2327.5,-1068 2327.5,-1068 2327.5,-1062 2333.5,-1056 2339.5,-1056 2339.5,-1056 2463.5,-1056 2463.5,-1056 2469.5,-1056 2475.5,-1062 2475.5,-1068 2475.5,-1068 2475.5,-1127 2475.5,-1127 2475.5,-1133 2469.5,-1139 2463.5,-1139\"/>\n<text text-anchor=\"middle\" x=\"2401.5\" y=\"-1123.8\" font-family=\"Helvetica,sans-Serif\" font-size=\"14.00\" fill=\"#000000\">X[3] &lt;= 0.005</text>\n<text text-anchor=\"middle\" x=\"2401.5\" y=\"-1108.8\" font-family=\"Helvetica,sans-Serif\" font-size=\"14.00\" fill=\"#000000\">gini = 0.011</text>\n<text text-anchor=\"middle\" x=\"2401.5\" y=\"-1093.8\" font-family=\"Helvetica,sans-Serif\" font-size=\"14.00\" fill=\"#000000\">samples = 3516</text>\n<text text-anchor=\"middle\" x=\"2401.5\" y=\"-1078.8\" font-family=\"Helvetica,sans-Serif\" font-size=\"14.00\" fill=\"#000000\">value = [3, 3497, 16]</text>\n<text text-anchor=\"middle\" x=\"2401.5\" y=\"-1063.8\" font-family=\"Helvetica,sans-Serif\" font-size=\"14.00\" fill=\"#000000\">class = GALAXY</text>\n</g>\n<!-- 53&#45;&gt;54 -->\n<g id=\"edge54\" class=\"edge\">\n<title>53&#45;&gt;54</title>\n<path fill=\"none\" stroke=\"#000000\" d=\"M2472.3771,-1174.8796C2464.0451,-1165.7832 2455.1502,-1156.0722 2446.5761,-1146.7116\"/>\n<polygon fill=\"#000000\" stroke=\"#000000\" points=\"2449.1211,-1144.3081 2439.7856,-1139.2981 2443.9592,-1149.0363 2449.1211,-1144.3081\"/>\n</g>\n<!-- 107 -->\n<g id=\"node108\" class=\"node\">\n<title>107</title>\n<path fill=\"#975be9\" stroke=\"#000000\" d=\"M2671,-1139C2671,-1139 2572,-1139 2572,-1139 2566,-1139 2560,-1133 2560,-1127 2560,-1127 2560,-1068 2560,-1068 2560,-1062 2566,-1056 2572,-1056 2572,-1056 2671,-1056 2671,-1056 2677,-1056 2683,-1062 2683,-1068 2683,-1068 2683,-1127 2683,-1127 2683,-1133 2677,-1139 2671,-1139\"/>\n<text text-anchor=\"middle\" x=\"2621.5\" y=\"-1123.8\" font-family=\"Helvetica,sans-Serif\" font-size=\"14.00\" fill=\"#000000\">X[3] &lt;= 0.036</text>\n<text text-anchor=\"middle\" x=\"2621.5\" y=\"-1108.8\" font-family=\"Helvetica,sans-Serif\" font-size=\"14.00\" fill=\"#000000\">gini = 0.251</text>\n<text text-anchor=\"middle\" x=\"2621.5\" y=\"-1093.8\" font-family=\"Helvetica,sans-Serif\" font-size=\"14.00\" fill=\"#000000\">samples = 34</text>\n<text text-anchor=\"middle\" x=\"2621.5\" y=\"-1078.8\" font-family=\"Helvetica,sans-Serif\" font-size=\"14.00\" fill=\"#000000\">value = [0, 5, 29]</text>\n<text text-anchor=\"middle\" x=\"2621.5\" y=\"-1063.8\" font-family=\"Helvetica,sans-Serif\" font-size=\"14.00\" fill=\"#000000\">class = QSO</text>\n</g>\n<!-- 53&#45;&gt;107 -->\n<g id=\"edge107\" class=\"edge\">\n<title>53&#45;&gt;107</title>\n<path fill=\"none\" stroke=\"#000000\" d=\"M2549.3224,-1174.8796C2557.8073,-1165.7832 2566.8654,-1156.0722 2575.5968,-1146.7116\"/>\n<polygon fill=\"#000000\" stroke=\"#000000\" points=\"2578.2503,-1148.9981 2582.5119,-1139.2981 2573.1314,-1144.2233 2578.2503,-1148.9981\"/>\n</g>\n<!-- 55 -->\n<g id=\"node56\" class=\"node\">\n<title>55</title>\n<path fill=\"#ffffff\" stroke=\"#000000\" d=\"M2219,-1020C2219,-1020 2128,-1020 2128,-1020 2122,-1020 2116,-1014 2116,-1008 2116,-1008 2116,-949 2116,-949 2116,-943 2122,-937 2128,-937 2128,-937 2219,-937 2219,-937 2225,-937 2231,-943 2231,-949 2231,-949 2231,-1008 2231,-1008 2231,-1014 2225,-1020 2219,-1020\"/>\n<text text-anchor=\"middle\" x=\"2173.5\" y=\"-1004.8\" font-family=\"Helvetica,sans-Serif\" font-size=\"14.00\" fill=\"#000000\">X[7] &lt;= &#45;2.06</text>\n<text text-anchor=\"middle\" x=\"2173.5\" y=\"-989.8\" font-family=\"Helvetica,sans-Serif\" font-size=\"14.00\" fill=\"#000000\">gini = 0.5</text>\n<text text-anchor=\"middle\" x=\"2173.5\" y=\"-974.8\" font-family=\"Helvetica,sans-Serif\" font-size=\"14.00\" fill=\"#000000\">samples = 6</text>\n<text text-anchor=\"middle\" x=\"2173.5\" y=\"-959.8\" font-family=\"Helvetica,sans-Serif\" font-size=\"14.00\" fill=\"#000000\">value = [3, 3, 0]</text>\n<text text-anchor=\"middle\" x=\"2173.5\" y=\"-944.8\" font-family=\"Helvetica,sans-Serif\" font-size=\"14.00\" fill=\"#000000\">class = STAR</text>\n</g>\n<!-- 54&#45;&gt;55 -->\n<g id=\"edge55\" class=\"edge\">\n<title>54&#45;&gt;55</title>\n<path fill=\"none\" stroke=\"#000000\" d=\"M2327.4749,-1058.8641C2299.4376,-1044.2306 2267.7065,-1027.6692 2240.3656,-1013.3992\"/>\n<polygon fill=\"#000000\" stroke=\"#000000\" points=\"2241.7581,-1010.1779 2231.2735,-1008.6537 2238.5192,-1016.3835 2241.7581,-1010.1779\"/>\n</g>\n<!-- 58 -->\n<g id=\"node59\" class=\"node\">\n<title>58</title>\n<path fill=\"#3ae582\" stroke=\"#000000\" d=\"M2463.5,-1020C2463.5,-1020 2339.5,-1020 2339.5,-1020 2333.5,-1020 2327.5,-1014 2327.5,-1008 2327.5,-1008 2327.5,-949 2327.5,-949 2327.5,-943 2333.5,-937 2339.5,-937 2339.5,-937 2463.5,-937 2463.5,-937 2469.5,-937 2475.5,-943 2475.5,-949 2475.5,-949 2475.5,-1008 2475.5,-1008 2475.5,-1014 2469.5,-1020 2463.5,-1020\"/>\n<text text-anchor=\"middle\" x=\"2401.5\" y=\"-1004.8\" font-family=\"Helvetica,sans-Serif\" font-size=\"14.00\" fill=\"#000000\">X[9] &lt;= 0.277</text>\n<text text-anchor=\"middle\" x=\"2401.5\" y=\"-989.8\" font-family=\"Helvetica,sans-Serif\" font-size=\"14.00\" fill=\"#000000\">gini = 0.009</text>\n<text text-anchor=\"middle\" x=\"2401.5\" y=\"-974.8\" font-family=\"Helvetica,sans-Serif\" font-size=\"14.00\" fill=\"#000000\">samples = 3510</text>\n<text text-anchor=\"middle\" x=\"2401.5\" y=\"-959.8\" font-family=\"Helvetica,sans-Serif\" font-size=\"14.00\" fill=\"#000000\">value = [0, 3494, 16]</text>\n<text text-anchor=\"middle\" x=\"2401.5\" y=\"-944.8\" font-family=\"Helvetica,sans-Serif\" font-size=\"14.00\" fill=\"#000000\">class = GALAXY</text>\n</g>\n<!-- 54&#45;&gt;58 -->\n<g id=\"edge58\" class=\"edge\">\n<title>54&#45;&gt;58</title>\n<path fill=\"none\" stroke=\"#000000\" d=\"M2401.5,-1055.8796C2401.5,-1047.6838 2401.5,-1038.9891 2401.5,-1030.5013\"/>\n<polygon fill=\"#000000\" stroke=\"#000000\" points=\"2405.0001,-1030.298 2401.5,-1020.2981 2398.0001,-1030.2981 2405.0001,-1030.298\"/>\n</g>\n<!-- 56 -->\n<g id=\"node57\" class=\"node\">\n<title>56</title>\n<path fill=\"#39e581\" stroke=\"#000000\" d=\"M2086,-893.5C2086,-893.5 1985,-893.5 1985,-893.5 1979,-893.5 1973,-887.5 1973,-881.5 1973,-881.5 1973,-837.5 1973,-837.5 1973,-831.5 1979,-825.5 1985,-825.5 1985,-825.5 2086,-825.5 2086,-825.5 2092,-825.5 2098,-831.5 2098,-837.5 2098,-837.5 2098,-881.5 2098,-881.5 2098,-887.5 2092,-893.5 2086,-893.5\"/>\n<text text-anchor=\"middle\" x=\"2035.5\" y=\"-878.3\" font-family=\"Helvetica,sans-Serif\" font-size=\"14.00\" fill=\"#000000\">gini = 0.0</text>\n<text text-anchor=\"middle\" x=\"2035.5\" y=\"-863.3\" font-family=\"Helvetica,sans-Serif\" font-size=\"14.00\" fill=\"#000000\">samples = 3</text>\n<text text-anchor=\"middle\" x=\"2035.5\" y=\"-848.3\" font-family=\"Helvetica,sans-Serif\" font-size=\"14.00\" fill=\"#000000\">value = [0, 3, 0]</text>\n<text text-anchor=\"middle\" x=\"2035.5\" y=\"-833.3\" font-family=\"Helvetica,sans-Serif\" font-size=\"14.00\" fill=\"#000000\">class = GALAXY</text>\n</g>\n<!-- 55&#45;&gt;56 -->\n<g id=\"edge56\" class=\"edge\">\n<title>55&#45;&gt;56</title>\n<path fill=\"none\" stroke=\"#000000\" d=\"M2125.2343,-936.8796C2111.5899,-925.1138 2096.7531,-912.3197 2083.1454,-900.5855\"/>\n<polygon fill=\"#000000\" stroke=\"#000000\" points=\"2085.1527,-897.6948 2075.2938,-893.8149 2080.5813,-902.9961 2085.1527,-897.6948\"/>\n</g>\n<!-- 57 -->\n<g id=\"node58\" class=\"node\">\n<title>57</title>\n<path fill=\"#e58139\" stroke=\"#000000\" d=\"M2219,-893.5C2219,-893.5 2128,-893.5 2128,-893.5 2122,-893.5 2116,-887.5 2116,-881.5 2116,-881.5 2116,-837.5 2116,-837.5 2116,-831.5 2122,-825.5 2128,-825.5 2128,-825.5 2219,-825.5 2219,-825.5 2225,-825.5 2231,-831.5 2231,-837.5 2231,-837.5 2231,-881.5 2231,-881.5 2231,-887.5 2225,-893.5 2219,-893.5\"/>\n<text text-anchor=\"middle\" x=\"2173.5\" y=\"-878.3\" font-family=\"Helvetica,sans-Serif\" font-size=\"14.00\" fill=\"#000000\">gini = 0.0</text>\n<text text-anchor=\"middle\" x=\"2173.5\" y=\"-863.3\" font-family=\"Helvetica,sans-Serif\" font-size=\"14.00\" fill=\"#000000\">samples = 3</text>\n<text text-anchor=\"middle\" x=\"2173.5\" y=\"-848.3\" font-family=\"Helvetica,sans-Serif\" font-size=\"14.00\" fill=\"#000000\">value = [3, 0, 0]</text>\n<text text-anchor=\"middle\" x=\"2173.5\" y=\"-833.3\" font-family=\"Helvetica,sans-Serif\" font-size=\"14.00\" fill=\"#000000\">class = STAR</text>\n</g>\n<!-- 55&#45;&gt;57 -->\n<g id=\"edge57\" class=\"edge\">\n<title>55&#45;&gt;57</title>\n<path fill=\"none\" stroke=\"#000000\" d=\"M2173.5,-936.8796C2173.5,-926.2134 2173.5,-914.7021 2173.5,-903.9015\"/>\n<polygon fill=\"#000000\" stroke=\"#000000\" points=\"2177.0001,-903.8149 2173.5,-893.8149 2170.0001,-903.815 2177.0001,-903.8149\"/>\n</g>\n<!-- 59 -->\n<g id=\"node60\" class=\"node\">\n<title>59</title>\n<path fill=\"#3ae581\" stroke=\"#000000\" d=\"M2385.5,-901C2385.5,-901 2261.5,-901 2261.5,-901 2255.5,-901 2249.5,-895 2249.5,-889 2249.5,-889 2249.5,-830 2249.5,-830 2249.5,-824 2255.5,-818 2261.5,-818 2261.5,-818 2385.5,-818 2385.5,-818 2391.5,-818 2397.5,-824 2397.5,-830 2397.5,-830 2397.5,-889 2397.5,-889 2397.5,-895 2391.5,-901 2385.5,-901\"/>\n<text text-anchor=\"middle\" x=\"2323.5\" y=\"-885.8\" font-family=\"Helvetica,sans-Serif\" font-size=\"14.00\" fill=\"#000000\">X[9] &lt;= 0.191</text>\n<text text-anchor=\"middle\" x=\"2323.5\" y=\"-870.8\" font-family=\"Helvetica,sans-Serif\" font-size=\"14.00\" fill=\"#000000\">gini = 0.006</text>\n<text text-anchor=\"middle\" x=\"2323.5\" y=\"-855.8\" font-family=\"Helvetica,sans-Serif\" font-size=\"14.00\" fill=\"#000000\">samples = 3483</text>\n<text text-anchor=\"middle\" x=\"2323.5\" y=\"-840.8\" font-family=\"Helvetica,sans-Serif\" font-size=\"14.00\" fill=\"#000000\">value = [0, 3473, 10]</text>\n<text text-anchor=\"middle\" x=\"2323.5\" y=\"-825.8\" font-family=\"Helvetica,sans-Serif\" font-size=\"14.00\" fill=\"#000000\">class = GALAXY</text>\n</g>\n<!-- 58&#45;&gt;59 -->\n<g id=\"edge59\" class=\"edge\">\n<title>58&#45;&gt;59</title>\n<path fill=\"none\" stroke=\"#000000\" d=\"M2374.2194,-936.8796C2368.4932,-928.1434 2362.3954,-918.8404 2356.4863,-909.8253\"/>\n<polygon fill=\"#000000\" stroke=\"#000000\" points=\"2359.3063,-907.7429 2350.8971,-901.2981 2353.4518,-911.5803 2359.3063,-907.7429\"/>\n</g>\n<!-- 98 -->\n<g id=\"node99\" class=\"node\">\n<title>98</title>\n<path fill=\"#72eca5\" stroke=\"#000000\" d=\"M2529,-901C2529,-901 2428,-901 2428,-901 2422,-901 2416,-895 2416,-889 2416,-889 2416,-830 2416,-830 2416,-824 2422,-818 2428,-818 2428,-818 2529,-818 2529,-818 2535,-818 2541,-824 2541,-830 2541,-830 2541,-889 2541,-889 2541,-895 2535,-901 2529,-901\"/>\n<text text-anchor=\"middle\" x=\"2478.5\" y=\"-885.8\" font-family=\"Helvetica,sans-Serif\" font-size=\"14.00\" fill=\"#000000\">X[8] &lt;= &#45;0.131</text>\n<text text-anchor=\"middle\" x=\"2478.5\" y=\"-870.8\" font-family=\"Helvetica,sans-Serif\" font-size=\"14.00\" fill=\"#000000\">gini = 0.346</text>\n<text text-anchor=\"middle\" x=\"2478.5\" y=\"-855.8\" font-family=\"Helvetica,sans-Serif\" font-size=\"14.00\" fill=\"#000000\">samples = 27</text>\n<text text-anchor=\"middle\" x=\"2478.5\" y=\"-840.8\" font-family=\"Helvetica,sans-Serif\" font-size=\"14.00\" fill=\"#000000\">value = [0, 21, 6]</text>\n<text text-anchor=\"middle\" x=\"2478.5\" y=\"-825.8\" font-family=\"Helvetica,sans-Serif\" font-size=\"14.00\" fill=\"#000000\">class = GALAXY</text>\n</g>\n<!-- 58&#45;&gt;98 -->\n<g id=\"edge98\" class=\"edge\">\n<title>58&#45;&gt;98</title>\n<path fill=\"none\" stroke=\"#000000\" d=\"M2428.4309,-936.8796C2434.0837,-928.1434 2440.1033,-918.8404 2445.9366,-909.8253\"/>\n<polygon fill=\"#000000\" stroke=\"#000000\" points=\"2448.9601,-911.5952 2451.4542,-901.2981 2443.0831,-907.7924 2448.9601,-911.5952\"/>\n</g>\n<!-- 60 -->\n<g id=\"node61\" class=\"node\">\n<title>60</title>\n<path fill=\"#39e581\" stroke=\"#000000\" d=\"M2098.5,-782C2098.5,-782 1982.5,-782 1982.5,-782 1976.5,-782 1970.5,-776 1970.5,-770 1970.5,-770 1970.5,-711 1970.5,-711 1970.5,-705 1976.5,-699 1982.5,-699 1982.5,-699 2098.5,-699 2098.5,-699 2104.5,-699 2110.5,-705 2110.5,-711 2110.5,-711 2110.5,-770 2110.5,-770 2110.5,-776 2104.5,-782 2098.5,-782\"/>\n<text text-anchor=\"middle\" x=\"2040.5\" y=\"-766.8\" font-family=\"Helvetica,sans-Serif\" font-size=\"14.00\" fill=\"#000000\">X[8] &lt;= &#45;0.881</text>\n<text text-anchor=\"middle\" x=\"2040.5\" y=\"-751.8\" font-family=\"Helvetica,sans-Serif\" font-size=\"14.00\" fill=\"#000000\">gini = 0.002</text>\n<text text-anchor=\"middle\" x=\"2040.5\" y=\"-736.8\" font-family=\"Helvetica,sans-Serif\" font-size=\"14.00\" fill=\"#000000\">samples = 3287</text>\n<text text-anchor=\"middle\" x=\"2040.5\" y=\"-721.8\" font-family=\"Helvetica,sans-Serif\" font-size=\"14.00\" fill=\"#000000\">value = [0, 3284, 3]</text>\n<text text-anchor=\"middle\" x=\"2040.5\" y=\"-706.8\" font-family=\"Helvetica,sans-Serif\" font-size=\"14.00\" fill=\"#000000\">class = GALAXY</text>\n</g>\n<!-- 59&#45;&gt;60 -->\n<g id=\"edge60\" class=\"edge\">\n<title>59&#45;&gt;60</title>\n<path fill=\"none\" stroke=\"#000000\" d=\"M2249.4623,-822.4843C2246.1067,-820.9449 2242.7746,-819.4432 2239.5,-818 2200.7257,-800.9107 2156.9104,-783.6339 2120.2828,-769.7429\"/>\n<polygon fill=\"#000000\" stroke=\"#000000\" points=\"2121.2361,-766.3617 2110.6444,-766.1026 2118.7628,-772.9102 2121.2361,-766.3617\"/>\n</g>\n<!-- 75 -->\n<g id=\"node76\" class=\"node\">\n<title>75</title>\n<path fill=\"#40e686\" stroke=\"#000000\" d=\"M2377,-782C2377,-782 2270,-782 2270,-782 2264,-782 2258,-776 2258,-770 2258,-770 2258,-711 2258,-711 2258,-705 2264,-699 2270,-699 2270,-699 2377,-699 2377,-699 2383,-699 2389,-705 2389,-711 2389,-711 2389,-770 2389,-770 2389,-776 2383,-782 2377,-782\"/>\n<text text-anchor=\"middle\" x=\"2323.5\" y=\"-766.8\" font-family=\"Helvetica,sans-Serif\" font-size=\"14.00\" fill=\"#000000\">X[9] &lt;= 0.191</text>\n<text text-anchor=\"middle\" x=\"2323.5\" y=\"-751.8\" font-family=\"Helvetica,sans-Serif\" font-size=\"14.00\" fill=\"#000000\">gini = 0.069</text>\n<text text-anchor=\"middle\" x=\"2323.5\" y=\"-736.8\" font-family=\"Helvetica,sans-Serif\" font-size=\"14.00\" fill=\"#000000\">samples = 196</text>\n<text text-anchor=\"middle\" x=\"2323.5\" y=\"-721.8\" font-family=\"Helvetica,sans-Serif\" font-size=\"14.00\" fill=\"#000000\">value = [0, 189, 7]</text>\n<text text-anchor=\"middle\" x=\"2323.5\" y=\"-706.8\" font-family=\"Helvetica,sans-Serif\" font-size=\"14.00\" fill=\"#000000\">class = GALAXY</text>\n</g>\n<!-- 59&#45;&gt;75 -->\n<g id=\"edge75\" class=\"edge\">\n<title>59&#45;&gt;75</title>\n<path fill=\"none\" stroke=\"#000000\" d=\"M2323.5,-817.8796C2323.5,-809.6838 2323.5,-800.9891 2323.5,-792.5013\"/>\n<polygon fill=\"#000000\" stroke=\"#000000\" points=\"2327.0001,-792.298 2323.5,-782.2981 2320.0001,-792.2981 2327.0001,-792.298\"/>\n</g>\n<!-- 61 -->\n<g id=\"node62\" class=\"node\">\n<title>61</title>\n<path fill=\"#3ae582\" stroke=\"#000000\" d=\"M1940,-663C1940,-663 1833,-663 1833,-663 1827,-663 1821,-657 1821,-651 1821,-651 1821,-592 1821,-592 1821,-586 1827,-580 1833,-580 1833,-580 1940,-580 1940,-580 1946,-580 1952,-586 1952,-592 1952,-592 1952,-651 1952,-651 1952,-657 1946,-663 1940,-663\"/>\n<text text-anchor=\"middle\" x=\"1886.5\" y=\"-647.8\" font-family=\"Helvetica,sans-Serif\" font-size=\"14.00\" fill=\"#000000\">X[8] &lt;= &#45;0.881</text>\n<text text-anchor=\"middle\" x=\"1886.5\" y=\"-632.8\" font-family=\"Helvetica,sans-Serif\" font-size=\"14.00\" fill=\"#000000\">gini = 0.01</text>\n<text text-anchor=\"middle\" x=\"1886.5\" y=\"-617.8\" font-family=\"Helvetica,sans-Serif\" font-size=\"14.00\" fill=\"#000000\">samples = 601</text>\n<text text-anchor=\"middle\" x=\"1886.5\" y=\"-602.8\" font-family=\"Helvetica,sans-Serif\" font-size=\"14.00\" fill=\"#000000\">value = [0, 598, 3]</text>\n<text text-anchor=\"middle\" x=\"1886.5\" y=\"-587.8\" font-family=\"Helvetica,sans-Serif\" font-size=\"14.00\" fill=\"#000000\">class = GALAXY</text>\n</g>\n<!-- 60&#45;&gt;61 -->\n<g id=\"edge61\" class=\"edge\">\n<title>60&#45;&gt;61</title>\n<path fill=\"none\" stroke=\"#000000\" d=\"M1986.6383,-698.8796C1974.3291,-689.368 1961.1503,-679.1843 1948.5296,-669.432\"/>\n<polygon fill=\"#000000\" stroke=\"#000000\" points=\"1950.3843,-666.4419 1940.3313,-663.0969 1946.1041,-671.9809 1950.3843,-666.4419\"/>\n</g>\n<!-- 74 -->\n<g id=\"node75\" class=\"node\">\n<title>74</title>\n<path fill=\"#39e581\" stroke=\"#000000\" d=\"M2098.5,-655.5C2098.5,-655.5 1982.5,-655.5 1982.5,-655.5 1976.5,-655.5 1970.5,-649.5 1970.5,-643.5 1970.5,-643.5 1970.5,-599.5 1970.5,-599.5 1970.5,-593.5 1976.5,-587.5 1982.5,-587.5 1982.5,-587.5 2098.5,-587.5 2098.5,-587.5 2104.5,-587.5 2110.5,-593.5 2110.5,-599.5 2110.5,-599.5 2110.5,-643.5 2110.5,-643.5 2110.5,-649.5 2104.5,-655.5 2098.5,-655.5\"/>\n<text text-anchor=\"middle\" x=\"2040.5\" y=\"-640.3\" font-family=\"Helvetica,sans-Serif\" font-size=\"14.00\" fill=\"#000000\">gini = 0.0</text>\n<text text-anchor=\"middle\" x=\"2040.5\" y=\"-625.3\" font-family=\"Helvetica,sans-Serif\" font-size=\"14.00\" fill=\"#000000\">samples = 2686</text>\n<text text-anchor=\"middle\" x=\"2040.5\" y=\"-610.3\" font-family=\"Helvetica,sans-Serif\" font-size=\"14.00\" fill=\"#000000\">value = [0, 2686, 0]</text>\n<text text-anchor=\"middle\" x=\"2040.5\" y=\"-595.3\" font-family=\"Helvetica,sans-Serif\" font-size=\"14.00\" fill=\"#000000\">class = GALAXY</text>\n</g>\n<!-- 60&#45;&gt;74 -->\n<g id=\"edge74\" class=\"edge\">\n<title>60&#45;&gt;74</title>\n<path fill=\"none\" stroke=\"#000000\" d=\"M2040.5,-698.8796C2040.5,-688.2134 2040.5,-676.7021 2040.5,-665.9015\"/>\n<polygon fill=\"#000000\" stroke=\"#000000\" points=\"2044.0001,-665.8149 2040.5,-655.8149 2037.0001,-665.815 2044.0001,-665.8149\"/>\n</g>\n<!-- 62 -->\n<g id=\"node63\" class=\"node\">\n<title>62</title>\n<path fill=\"#3ae581\" stroke=\"#000000\" d=\"M1911,-544C1911,-544 1804,-544 1804,-544 1798,-544 1792,-538 1792,-532 1792,-532 1792,-473 1792,-473 1792,-467 1798,-461 1804,-461 1804,-461 1911,-461 1911,-461 1917,-461 1923,-467 1923,-473 1923,-473 1923,-532 1923,-532 1923,-538 1917,-544 1911,-544\"/>\n<text text-anchor=\"middle\" x=\"1857.5\" y=\"-528.8\" font-family=\"Helvetica,sans-Serif\" font-size=\"14.00\" fill=\"#000000\">X[9] &lt;= 0.164</text>\n<text text-anchor=\"middle\" x=\"1857.5\" y=\"-513.8\" font-family=\"Helvetica,sans-Serif\" font-size=\"14.00\" fill=\"#000000\">gini = 0.007</text>\n<text text-anchor=\"middle\" x=\"1857.5\" y=\"-498.8\" font-family=\"Helvetica,sans-Serif\" font-size=\"14.00\" fill=\"#000000\">samples = 600</text>\n<text text-anchor=\"middle\" x=\"1857.5\" y=\"-483.8\" font-family=\"Helvetica,sans-Serif\" font-size=\"14.00\" fill=\"#000000\">value = [0, 598, 2]</text>\n<text text-anchor=\"middle\" x=\"1857.5\" y=\"-468.8\" font-family=\"Helvetica,sans-Serif\" font-size=\"14.00\" fill=\"#000000\">class = GALAXY</text>\n</g>\n<!-- 61&#45;&gt;62 -->\n<g id=\"edge62\" class=\"edge\">\n<title>61&#45;&gt;62</title>\n<path fill=\"none\" stroke=\"#000000\" d=\"M1876.3572,-579.8796C1874.338,-571.5938 1872.1945,-562.798 1870.1044,-554.2216\"/>\n<polygon fill=\"#000000\" stroke=\"#000000\" points=\"1873.4543,-553.185 1867.6861,-544.2981 1866.6534,-554.8425 1873.4543,-553.185\"/>\n</g>\n<!-- 73 -->\n<g id=\"node74\" class=\"node\">\n<title>73</title>\n<path fill=\"#8139e5\" stroke=\"#000000\" d=\"M2044,-536.5C2044,-536.5 1953,-536.5 1953,-536.5 1947,-536.5 1941,-530.5 1941,-524.5 1941,-524.5 1941,-480.5 1941,-480.5 1941,-474.5 1947,-468.5 1953,-468.5 1953,-468.5 2044,-468.5 2044,-468.5 2050,-468.5 2056,-474.5 2056,-480.5 2056,-480.5 2056,-524.5 2056,-524.5 2056,-530.5 2050,-536.5 2044,-536.5\"/>\n<text text-anchor=\"middle\" x=\"1998.5\" y=\"-521.3\" font-family=\"Helvetica,sans-Serif\" font-size=\"14.00\" fill=\"#000000\">gini = 0.0</text>\n<text text-anchor=\"middle\" x=\"1998.5\" y=\"-506.3\" font-family=\"Helvetica,sans-Serif\" font-size=\"14.00\" fill=\"#000000\">samples = 1</text>\n<text text-anchor=\"middle\" x=\"1998.5\" y=\"-491.3\" font-family=\"Helvetica,sans-Serif\" font-size=\"14.00\" fill=\"#000000\">value = [0, 0, 1]</text>\n<text text-anchor=\"middle\" x=\"1998.5\" y=\"-476.3\" font-family=\"Helvetica,sans-Serif\" font-size=\"14.00\" fill=\"#000000\">class = QSO</text>\n</g>\n<!-- 61&#45;&gt;73 -->\n<g id=\"edge73\" class=\"edge\">\n<title>61&#45;&gt;73</title>\n<path fill=\"none\" stroke=\"#000000\" d=\"M1925.6722,-579.8796C1936.5389,-568.3337 1948.3376,-555.7976 1959.2109,-544.2446\"/>\n<polygon fill=\"#000000\" stroke=\"#000000\" points=\"1961.8986,-546.4958 1966.2036,-536.8149 1956.8012,-541.6982 1961.8986,-546.4958\"/>\n</g>\n<!-- 63 -->\n<g id=\"node64\" class=\"node\">\n<title>63</title>\n<path fill=\"#39e581\" stroke=\"#000000\" d=\"M1896,-425C1896,-425 1789,-425 1789,-425 1783,-425 1777,-419 1777,-413 1777,-413 1777,-354 1777,-354 1777,-348 1783,-342 1789,-342 1789,-342 1896,-342 1896,-342 1902,-342 1908,-348 1908,-354 1908,-354 1908,-413 1908,-413 1908,-419 1902,-425 1896,-425\"/>\n<text text-anchor=\"middle\" x=\"1842.5\" y=\"-409.8\" font-family=\"Helvetica,sans-Serif\" font-size=\"14.00\" fill=\"#000000\">X[4] &lt;= 271.5</text>\n<text text-anchor=\"middle\" x=\"1842.5\" y=\"-394.8\" font-family=\"Helvetica,sans-Serif\" font-size=\"14.00\" fill=\"#000000\">gini = 0.003</text>\n<text text-anchor=\"middle\" x=\"1842.5\" y=\"-379.8\" font-family=\"Helvetica,sans-Serif\" font-size=\"14.00\" fill=\"#000000\">samples = 596</text>\n<text text-anchor=\"middle\" x=\"1842.5\" y=\"-364.8\" font-family=\"Helvetica,sans-Serif\" font-size=\"14.00\" fill=\"#000000\">value = [0, 595, 1]</text>\n<text text-anchor=\"middle\" x=\"1842.5\" y=\"-349.8\" font-family=\"Helvetica,sans-Serif\" font-size=\"14.00\" fill=\"#000000\">class = GALAXY</text>\n</g>\n<!-- 62&#45;&gt;63 -->\n<g id=\"edge63\" class=\"edge\">\n<title>62&#45;&gt;63</title>\n<path fill=\"none\" stroke=\"#000000\" d=\"M1852.2537,-460.8796C1851.2093,-452.5938 1850.1006,-443.798 1849.0195,-435.2216\"/>\n<polygon fill=\"#000000\" stroke=\"#000000\" points=\"1852.4919,-434.7818 1847.7687,-425.2981 1845.5468,-435.6573 1852.4919,-434.7818\"/>\n</g>\n<!-- 70 -->\n<g id=\"node71\" class=\"node\">\n<title>70</title>\n<path fill=\"#7beeab\" stroke=\"#000000\" d=\"M2039,-425C2039,-425 1938,-425 1938,-425 1932,-425 1926,-419 1926,-413 1926,-413 1926,-354 1926,-354 1926,-348 1932,-342 1938,-342 1938,-342 2039,-342 2039,-342 2045,-342 2051,-348 2051,-354 2051,-354 2051,-413 2051,-413 2051,-419 2045,-425 2039,-425\"/>\n<text text-anchor=\"middle\" x=\"1988.5\" y=\"-409.8\" font-family=\"Helvetica,sans-Serif\" font-size=\"14.00\" fill=\"#000000\">X[9] &lt;= 0.164</text>\n<text text-anchor=\"middle\" x=\"1988.5\" y=\"-394.8\" font-family=\"Helvetica,sans-Serif\" font-size=\"14.00\" fill=\"#000000\">gini = 0.375</text>\n<text text-anchor=\"middle\" x=\"1988.5\" y=\"-379.8\" font-family=\"Helvetica,sans-Serif\" font-size=\"14.00\" fill=\"#000000\">samples = 4</text>\n<text text-anchor=\"middle\" x=\"1988.5\" y=\"-364.8\" font-family=\"Helvetica,sans-Serif\" font-size=\"14.00\" fill=\"#000000\">value = [0, 3, 1]</text>\n<text text-anchor=\"middle\" x=\"1988.5\" y=\"-349.8\" font-family=\"Helvetica,sans-Serif\" font-size=\"14.00\" fill=\"#000000\">class = GALAXY</text>\n</g>\n<!-- 62&#45;&gt;70 -->\n<g id=\"edge70\" class=\"edge\">\n<title>62&#45;&gt;70</title>\n<path fill=\"none\" stroke=\"#000000\" d=\"M1903.3174,-460.8796C1913.5294,-451.6031 1924.445,-441.6874 1934.9376,-432.1559\"/>\n<polygon fill=\"#000000\" stroke=\"#000000\" points=\"1937.4384,-434.6127 1942.487,-425.2981 1932.7316,-429.4313 1937.4384,-434.6127\"/>\n</g>\n<!-- 64 -->\n<g id=\"node65\" class=\"node\">\n<title>64</title>\n<path fill=\"#3ee684\" stroke=\"#000000\" d=\"M1750,-306C1750,-306 1649,-306 1649,-306 1643,-306 1637,-300 1637,-294 1637,-294 1637,-235 1637,-235 1637,-229 1643,-223 1649,-223 1649,-223 1750,-223 1750,-223 1756,-223 1762,-229 1762,-235 1762,-235 1762,-294 1762,-294 1762,-300 1756,-306 1750,-306\"/>\n<text text-anchor=\"middle\" x=\"1699.5\" y=\"-290.8\" font-family=\"Helvetica,sans-Serif\" font-size=\"14.00\" fill=\"#000000\">X[8] &lt;= &#45;1.18</text>\n<text text-anchor=\"middle\" x=\"1699.5\" y=\"-275.8\" font-family=\"Helvetica,sans-Serif\" font-size=\"14.00\" fill=\"#000000\">gini = 0.05</text>\n<text text-anchor=\"middle\" x=\"1699.5\" y=\"-260.8\" font-family=\"Helvetica,sans-Serif\" font-size=\"14.00\" fill=\"#000000\">samples = 39</text>\n<text text-anchor=\"middle\" x=\"1699.5\" y=\"-245.8\" font-family=\"Helvetica,sans-Serif\" font-size=\"14.00\" fill=\"#000000\">value = [0, 38, 1]</text>\n<text text-anchor=\"middle\" x=\"1699.5\" y=\"-230.8\" font-family=\"Helvetica,sans-Serif\" font-size=\"14.00\" fill=\"#000000\">class = GALAXY</text>\n</g>\n<!-- 63&#45;&gt;64 -->\n<g id=\"edge64\" class=\"edge\">\n<title>63&#45;&gt;64</title>\n<path fill=\"none\" stroke=\"#000000\" d=\"M1792.4855,-341.8796C1781.2299,-332.513 1769.1912,-322.4948 1757.6354,-312.8784\"/>\n<polygon fill=\"#000000\" stroke=\"#000000\" points=\"1759.6534,-310.0043 1749.7279,-306.2981 1755.1758,-315.385 1759.6534,-310.0043\"/>\n</g>\n<!-- 69 -->\n<g id=\"node70\" class=\"node\">\n<title>69</title>\n<path fill=\"#39e581\" stroke=\"#000000\" d=\"M1899,-298.5C1899,-298.5 1792,-298.5 1792,-298.5 1786,-298.5 1780,-292.5 1780,-286.5 1780,-286.5 1780,-242.5 1780,-242.5 1780,-236.5 1786,-230.5 1792,-230.5 1792,-230.5 1899,-230.5 1899,-230.5 1905,-230.5 1911,-236.5 1911,-242.5 1911,-242.5 1911,-286.5 1911,-286.5 1911,-292.5 1905,-298.5 1899,-298.5\"/>\n<text text-anchor=\"middle\" x=\"1845.5\" y=\"-283.3\" font-family=\"Helvetica,sans-Serif\" font-size=\"14.00\" fill=\"#000000\">gini = 0.0</text>\n<text text-anchor=\"middle\" x=\"1845.5\" y=\"-268.3\" font-family=\"Helvetica,sans-Serif\" font-size=\"14.00\" fill=\"#000000\">samples = 557</text>\n<text text-anchor=\"middle\" x=\"1845.5\" y=\"-253.3\" font-family=\"Helvetica,sans-Serif\" font-size=\"14.00\" fill=\"#000000\">value = [0, 557, 0]</text>\n<text text-anchor=\"middle\" x=\"1845.5\" y=\"-238.3\" font-family=\"Helvetica,sans-Serif\" font-size=\"14.00\" fill=\"#000000\">class = GALAXY</text>\n</g>\n<!-- 63&#45;&gt;69 -->\n<g id=\"edge69\" class=\"edge\">\n<title>63&#45;&gt;69</title>\n<path fill=\"none\" stroke=\"#000000\" d=\"M1843.5493,-341.8796C1843.8182,-331.2134 1844.1084,-319.7021 1844.3806,-308.9015\"/>\n<polygon fill=\"#000000\" stroke=\"#000000\" points=\"1847.8817,-308.9 1844.6349,-298.8149 1840.8839,-308.7235 1847.8817,-308.9\"/>\n</g>\n<!-- 65 -->\n<g id=\"node66\" class=\"node\">\n<title>65</title>\n<path fill=\"#9cf2c0\" stroke=\"#000000\" d=\"M1750,-187C1750,-187 1649,-187 1649,-187 1643,-187 1637,-181 1637,-175 1637,-175 1637,-116 1637,-116 1637,-110 1643,-104 1649,-104 1649,-104 1750,-104 1750,-104 1756,-104 1762,-110 1762,-116 1762,-116 1762,-175 1762,-175 1762,-181 1756,-187 1750,-187\"/>\n<text text-anchor=\"middle\" x=\"1699.5\" y=\"-171.8\" font-family=\"Helvetica,sans-Serif\" font-size=\"14.00\" fill=\"#000000\">X[0] &lt;= 151.988</text>\n<text text-anchor=\"middle\" x=\"1699.5\" y=\"-156.8\" font-family=\"Helvetica,sans-Serif\" font-size=\"14.00\" fill=\"#000000\">gini = 0.444</text>\n<text text-anchor=\"middle\" x=\"1699.5\" y=\"-141.8\" font-family=\"Helvetica,sans-Serif\" font-size=\"14.00\" fill=\"#000000\">samples = 3</text>\n<text text-anchor=\"middle\" x=\"1699.5\" y=\"-126.8\" font-family=\"Helvetica,sans-Serif\" font-size=\"14.00\" fill=\"#000000\">value = [0, 2, 1]</text>\n<text text-anchor=\"middle\" x=\"1699.5\" y=\"-111.8\" font-family=\"Helvetica,sans-Serif\" font-size=\"14.00\" fill=\"#000000\">class = GALAXY</text>\n</g>\n<!-- 64&#45;&gt;65 -->\n<g id=\"edge65\" class=\"edge\">\n<title>64&#45;&gt;65</title>\n<path fill=\"none\" stroke=\"#000000\" d=\"M1699.5,-222.8796C1699.5,-214.6838 1699.5,-205.9891 1699.5,-197.5013\"/>\n<polygon fill=\"#000000\" stroke=\"#000000\" points=\"1703.0001,-197.298 1699.5,-187.2981 1696.0001,-197.2981 1703.0001,-197.298\"/>\n</g>\n<!-- 68 -->\n<g id=\"node69\" class=\"node\">\n<title>68</title>\n<path fill=\"#39e581\" stroke=\"#000000\" d=\"M1893,-179.5C1893,-179.5 1792,-179.5 1792,-179.5 1786,-179.5 1780,-173.5 1780,-167.5 1780,-167.5 1780,-123.5 1780,-123.5 1780,-117.5 1786,-111.5 1792,-111.5 1792,-111.5 1893,-111.5 1893,-111.5 1899,-111.5 1905,-117.5 1905,-123.5 1905,-123.5 1905,-167.5 1905,-167.5 1905,-173.5 1899,-179.5 1893,-179.5\"/>\n<text text-anchor=\"middle\" x=\"1842.5\" y=\"-164.3\" font-family=\"Helvetica,sans-Serif\" font-size=\"14.00\" fill=\"#000000\">gini = 0.0</text>\n<text text-anchor=\"middle\" x=\"1842.5\" y=\"-149.3\" font-family=\"Helvetica,sans-Serif\" font-size=\"14.00\" fill=\"#000000\">samples = 36</text>\n<text text-anchor=\"middle\" x=\"1842.5\" y=\"-134.3\" font-family=\"Helvetica,sans-Serif\" font-size=\"14.00\" fill=\"#000000\">value = [0, 36, 0]</text>\n<text text-anchor=\"middle\" x=\"1842.5\" y=\"-119.3\" font-family=\"Helvetica,sans-Serif\" font-size=\"14.00\" fill=\"#000000\">class = GALAXY</text>\n</g>\n<!-- 64&#45;&gt;68 -->\n<g id=\"edge68\" class=\"edge\">\n<title>64&#45;&gt;68</title>\n<path fill=\"none\" stroke=\"#000000\" d=\"M1749.5145,-222.8796C1763.7853,-211.0038 1779.3151,-198.0804 1793.5233,-186.2568\"/>\n<polygon fill=\"#000000\" stroke=\"#000000\" points=\"1795.8166,-188.9019 1801.2644,-179.8149 1791.339,-183.5212 1795.8166,-188.9019\"/>\n</g>\n<!-- 66 -->\n<g id=\"node67\" class=\"node\">\n<title>66</title>\n<path fill=\"#39e581\" stroke=\"#000000\" d=\"M1681,-68C1681,-68 1580,-68 1580,-68 1574,-68 1568,-62 1568,-56 1568,-56 1568,-12 1568,-12 1568,-6 1574,0 1580,0 1580,0 1681,0 1681,0 1687,0 1693,-6 1693,-12 1693,-12 1693,-56 1693,-56 1693,-62 1687,-68 1681,-68\"/>\n<text text-anchor=\"middle\" x=\"1630.5\" y=\"-52.8\" font-family=\"Helvetica,sans-Serif\" font-size=\"14.00\" fill=\"#000000\">gini = 0.0</text>\n<text text-anchor=\"middle\" x=\"1630.5\" y=\"-37.8\" font-family=\"Helvetica,sans-Serif\" font-size=\"14.00\" fill=\"#000000\">samples = 2</text>\n<text text-anchor=\"middle\" x=\"1630.5\" y=\"-22.8\" font-family=\"Helvetica,sans-Serif\" font-size=\"14.00\" fill=\"#000000\">value = [0, 2, 0]</text>\n<text text-anchor=\"middle\" x=\"1630.5\" y=\"-7.8\" font-family=\"Helvetica,sans-Serif\" font-size=\"14.00\" fill=\"#000000\">class = GALAXY</text>\n</g>\n<!-- 65&#45;&gt;66 -->\n<g id=\"edge66\" class=\"edge\">\n<title>65&#45;&gt;66</title>\n<path fill=\"none\" stroke=\"#000000\" d=\"M1673.8069,-103.9815C1668.3469,-95.1585 1662.5716,-85.8258 1657.0793,-76.9506\"/>\n<polygon fill=\"#000000\" stroke=\"#000000\" points=\"1659.942,-74.9254 1651.7035,-68.2637 1653.9896,-78.609 1659.942,-74.9254\"/>\n</g>\n<!-- 67 -->\n<g id=\"node68\" class=\"node\">\n<title>67</title>\n<path fill=\"#8139e5\" stroke=\"#000000\" d=\"M1814,-68C1814,-68 1723,-68 1723,-68 1717,-68 1711,-62 1711,-56 1711,-56 1711,-12 1711,-12 1711,-6 1717,0 1723,0 1723,0 1814,0 1814,0 1820,0 1826,-6 1826,-12 1826,-12 1826,-56 1826,-56 1826,-62 1820,-68 1814,-68\"/>\n<text text-anchor=\"middle\" x=\"1768.5\" y=\"-52.8\" font-family=\"Helvetica,sans-Serif\" font-size=\"14.00\" fill=\"#000000\">gini = 0.0</text>\n<text text-anchor=\"middle\" x=\"1768.5\" y=\"-37.8\" font-family=\"Helvetica,sans-Serif\" font-size=\"14.00\" fill=\"#000000\">samples = 1</text>\n<text text-anchor=\"middle\" x=\"1768.5\" y=\"-22.8\" font-family=\"Helvetica,sans-Serif\" font-size=\"14.00\" fill=\"#000000\">value = [0, 0, 1]</text>\n<text text-anchor=\"middle\" x=\"1768.5\" y=\"-7.8\" font-family=\"Helvetica,sans-Serif\" font-size=\"14.00\" fill=\"#000000\">class = QSO</text>\n</g>\n<!-- 65&#45;&gt;67 -->\n<g id=\"edge67\" class=\"edge\">\n<title>65&#45;&gt;67</title>\n<path fill=\"none\" stroke=\"#000000\" d=\"M1725.1931,-103.9815C1730.6531,-95.1585 1736.4284,-85.8258 1741.9207,-76.9506\"/>\n<polygon fill=\"#000000\" stroke=\"#000000\" points=\"1745.0104,-78.609 1747.2965,-68.2637 1739.058,-74.9254 1745.0104,-78.609\"/>\n</g>\n<!-- 71 -->\n<g id=\"node72\" class=\"node\">\n<title>71</title>\n<path fill=\"#8139e5\" stroke=\"#000000\" d=\"M2032,-298.5C2032,-298.5 1941,-298.5 1941,-298.5 1935,-298.5 1929,-292.5 1929,-286.5 1929,-286.5 1929,-242.5 1929,-242.5 1929,-236.5 1935,-230.5 1941,-230.5 1941,-230.5 2032,-230.5 2032,-230.5 2038,-230.5 2044,-236.5 2044,-242.5 2044,-242.5 2044,-286.5 2044,-286.5 2044,-292.5 2038,-298.5 2032,-298.5\"/>\n<text text-anchor=\"middle\" x=\"1986.5\" y=\"-283.3\" font-family=\"Helvetica,sans-Serif\" font-size=\"14.00\" fill=\"#000000\">gini = 0.0</text>\n<text text-anchor=\"middle\" x=\"1986.5\" y=\"-268.3\" font-family=\"Helvetica,sans-Serif\" font-size=\"14.00\" fill=\"#000000\">samples = 1</text>\n<text text-anchor=\"middle\" x=\"1986.5\" y=\"-253.3\" font-family=\"Helvetica,sans-Serif\" font-size=\"14.00\" fill=\"#000000\">value = [0, 0, 1]</text>\n<text text-anchor=\"middle\" x=\"1986.5\" y=\"-238.3\" font-family=\"Helvetica,sans-Serif\" font-size=\"14.00\" fill=\"#000000\">class = QSO</text>\n</g>\n<!-- 70&#45;&gt;71 -->\n<g id=\"edge71\" class=\"edge\">\n<title>70&#45;&gt;71</title>\n<path fill=\"none\" stroke=\"#000000\" d=\"M1987.8005,-341.8796C1987.6212,-331.2134 1987.4278,-319.7021 1987.2462,-308.9015\"/>\n<polygon fill=\"#000000\" stroke=\"#000000\" points=\"1990.7444,-308.7547 1987.0767,-298.8149 1983.7454,-308.8724 1990.7444,-308.7547\"/>\n</g>\n<!-- 72 -->\n<g id=\"node73\" class=\"node\">\n<title>72</title>\n<path fill=\"#39e581\" stroke=\"#000000\" d=\"M2175,-298.5C2175,-298.5 2074,-298.5 2074,-298.5 2068,-298.5 2062,-292.5 2062,-286.5 2062,-286.5 2062,-242.5 2062,-242.5 2062,-236.5 2068,-230.5 2074,-230.5 2074,-230.5 2175,-230.5 2175,-230.5 2181,-230.5 2187,-236.5 2187,-242.5 2187,-242.5 2187,-286.5 2187,-286.5 2187,-292.5 2181,-298.5 2175,-298.5\"/>\n<text text-anchor=\"middle\" x=\"2124.5\" y=\"-283.3\" font-family=\"Helvetica,sans-Serif\" font-size=\"14.00\" fill=\"#000000\">gini = 0.0</text>\n<text text-anchor=\"middle\" x=\"2124.5\" y=\"-268.3\" font-family=\"Helvetica,sans-Serif\" font-size=\"14.00\" fill=\"#000000\">samples = 3</text>\n<text text-anchor=\"middle\" x=\"2124.5\" y=\"-253.3\" font-family=\"Helvetica,sans-Serif\" font-size=\"14.00\" fill=\"#000000\">value = [0, 3, 0]</text>\n<text text-anchor=\"middle\" x=\"2124.5\" y=\"-238.3\" font-family=\"Helvetica,sans-Serif\" font-size=\"14.00\" fill=\"#000000\">class = GALAXY</text>\n</g>\n<!-- 70&#45;&gt;72 -->\n<g id=\"edge72\" class=\"edge\">\n<title>70&#45;&gt;72</title>\n<path fill=\"none\" stroke=\"#000000\" d=\"M2036.0662,-341.8796C2049.5128,-330.1138 2064.1347,-317.3197 2077.5451,-305.5855\"/>\n<polygon fill=\"#000000\" stroke=\"#000000\" points=\"2080.0619,-308.034 2085.2829,-298.8149 2075.4524,-302.766 2080.0619,-308.034\"/>\n</g>\n<!-- 76 -->\n<g id=\"node77\" class=\"node\">\n<title>76</title>\n<path fill=\"#8139e5\" stroke=\"#000000\" d=\"M2232,-655.5C2232,-655.5 2141,-655.5 2141,-655.5 2135,-655.5 2129,-649.5 2129,-643.5 2129,-643.5 2129,-599.5 2129,-599.5 2129,-593.5 2135,-587.5 2141,-587.5 2141,-587.5 2232,-587.5 2232,-587.5 2238,-587.5 2244,-593.5 2244,-599.5 2244,-599.5 2244,-643.5 2244,-643.5 2244,-649.5 2238,-655.5 2232,-655.5\"/>\n<text text-anchor=\"middle\" x=\"2186.5\" y=\"-640.3\" font-family=\"Helvetica,sans-Serif\" font-size=\"14.00\" fill=\"#000000\">gini = 0.0</text>\n<text text-anchor=\"middle\" x=\"2186.5\" y=\"-625.3\" font-family=\"Helvetica,sans-Serif\" font-size=\"14.00\" fill=\"#000000\">samples = 1</text>\n<text text-anchor=\"middle\" x=\"2186.5\" y=\"-610.3\" font-family=\"Helvetica,sans-Serif\" font-size=\"14.00\" fill=\"#000000\">value = [0, 0, 1]</text>\n<text text-anchor=\"middle\" x=\"2186.5\" y=\"-595.3\" font-family=\"Helvetica,sans-Serif\" font-size=\"14.00\" fill=\"#000000\">class = QSO</text>\n</g>\n<!-- 75&#45;&gt;76 -->\n<g id=\"edge76\" class=\"edge\">\n<title>75&#45;&gt;76</title>\n<path fill=\"none\" stroke=\"#000000\" d=\"M2275.584,-698.8796C2262.0385,-687.1138 2247.3092,-674.3197 2233.8002,-662.5855\"/>\n<polygon fill=\"#000000\" stroke=\"#000000\" points=\"2235.8503,-659.7303 2226.0054,-655.8149 2231.2599,-665.015 2235.8503,-659.7303\"/>\n</g>\n<!-- 77 -->\n<g id=\"node78\" class=\"node\">\n<title>77</title>\n<path fill=\"#3fe685\" stroke=\"#000000\" d=\"M2381,-663C2381,-663 2274,-663 2274,-663 2268,-663 2262,-657 2262,-651 2262,-651 2262,-592 2262,-592 2262,-586 2268,-580 2274,-580 2274,-580 2381,-580 2381,-580 2387,-580 2393,-586 2393,-592 2393,-592 2393,-651 2393,-651 2393,-657 2387,-663 2381,-663\"/>\n<text text-anchor=\"middle\" x=\"2327.5\" y=\"-647.8\" font-family=\"Helvetica,sans-Serif\" font-size=\"14.00\" fill=\"#000000\">X[6] &lt;= 85.5</text>\n<text text-anchor=\"middle\" x=\"2327.5\" y=\"-632.8\" font-family=\"Helvetica,sans-Serif\" font-size=\"14.00\" fill=\"#000000\">gini = 0.06</text>\n<text text-anchor=\"middle\" x=\"2327.5\" y=\"-617.8\" font-family=\"Helvetica,sans-Serif\" font-size=\"14.00\" fill=\"#000000\">samples = 195</text>\n<text text-anchor=\"middle\" x=\"2327.5\" y=\"-602.8\" font-family=\"Helvetica,sans-Serif\" font-size=\"14.00\" fill=\"#000000\">value = [0, 189, 6]</text>\n<text text-anchor=\"middle\" x=\"2327.5\" y=\"-587.8\" font-family=\"Helvetica,sans-Serif\" font-size=\"14.00\" fill=\"#000000\">class = GALAXY</text>\n</g>\n<!-- 75&#45;&gt;77 -->\n<g id=\"edge77\" class=\"edge\">\n<title>75&#45;&gt;77</title>\n<path fill=\"none\" stroke=\"#000000\" d=\"M2324.899,-698.8796C2325.1745,-690.6838 2325.4668,-681.9891 2325.7521,-673.5013\"/>\n<polygon fill=\"#000000\" stroke=\"#000000\" points=\"2329.257,-673.41 2326.095,-663.2981 2322.261,-673.1748 2329.257,-673.41\"/>\n</g>\n<!-- 78 -->\n<g id=\"node79\" class=\"node\">\n<title>78</title>\n<path fill=\"#5eea99\" stroke=\"#000000\" d=\"M2378,-544C2378,-544 2277,-544 2277,-544 2271,-544 2265,-538 2265,-532 2265,-532 2265,-473 2265,-473 2265,-467 2271,-461 2277,-461 2277,-461 2378,-461 2378,-461 2384,-461 2390,-467 2390,-473 2390,-473 2390,-532 2390,-532 2390,-538 2384,-544 2378,-544\"/>\n<text text-anchor=\"middle\" x=\"2327.5\" y=\"-528.8\" font-family=\"Helvetica,sans-Serif\" font-size=\"14.00\" fill=\"#000000\">X[8] &lt;= &#45;0.213</text>\n<text text-anchor=\"middle\" x=\"2327.5\" y=\"-513.8\" font-family=\"Helvetica,sans-Serif\" font-size=\"14.00\" fill=\"#000000\">gini = 0.266</text>\n<text text-anchor=\"middle\" x=\"2327.5\" y=\"-498.8\" font-family=\"Helvetica,sans-Serif\" font-size=\"14.00\" fill=\"#000000\">samples = 19</text>\n<text text-anchor=\"middle\" x=\"2327.5\" y=\"-483.8\" font-family=\"Helvetica,sans-Serif\" font-size=\"14.00\" fill=\"#000000\">value = [0, 16, 3]</text>\n<text text-anchor=\"middle\" x=\"2327.5\" y=\"-468.8\" font-family=\"Helvetica,sans-Serif\" font-size=\"14.00\" fill=\"#000000\">class = GALAXY</text>\n</g>\n<!-- 77&#45;&gt;78 -->\n<g id=\"edge78\" class=\"edge\">\n<title>77&#45;&gt;78</title>\n<path fill=\"none\" stroke=\"#000000\" d=\"M2327.5,-579.8796C2327.5,-571.6838 2327.5,-562.9891 2327.5,-554.5013\"/>\n<polygon fill=\"#000000\" stroke=\"#000000\" points=\"2331.0001,-554.298 2327.5,-544.2981 2324.0001,-554.2981 2331.0001,-554.298\"/>\n</g>\n<!-- 83 -->\n<g id=\"node84\" class=\"node\">\n<title>83</title>\n<path fill=\"#3ce583\" stroke=\"#000000\" d=\"M2717,-544C2717,-544 2610,-544 2610,-544 2604,-544 2598,-538 2598,-532 2598,-532 2598,-473 2598,-473 2598,-467 2604,-461 2610,-461 2610,-461 2717,-461 2717,-461 2723,-461 2729,-467 2729,-473 2729,-473 2729,-532 2729,-532 2729,-538 2723,-544 2717,-544\"/>\n<text text-anchor=\"middle\" x=\"2663.5\" y=\"-528.8\" font-family=\"Helvetica,sans-Serif\" font-size=\"14.00\" fill=\"#000000\">X[5] &lt;= 51613.0</text>\n<text text-anchor=\"middle\" x=\"2663.5\" y=\"-513.8\" font-family=\"Helvetica,sans-Serif\" font-size=\"14.00\" fill=\"#000000\">gini = 0.034</text>\n<text text-anchor=\"middle\" x=\"2663.5\" y=\"-498.8\" font-family=\"Helvetica,sans-Serif\" font-size=\"14.00\" fill=\"#000000\">samples = 176</text>\n<text text-anchor=\"middle\" x=\"2663.5\" y=\"-483.8\" font-family=\"Helvetica,sans-Serif\" font-size=\"14.00\" fill=\"#000000\">value = [0, 173, 3]</text>\n<text text-anchor=\"middle\" x=\"2663.5\" y=\"-468.8\" font-family=\"Helvetica,sans-Serif\" font-size=\"14.00\" fill=\"#000000\">class = GALAXY</text>\n</g>\n<!-- 77&#45;&gt;83 -->\n<g id=\"edge83\" class=\"edge\">\n<title>77&#45;&gt;83</title>\n<path fill=\"none\" stroke=\"#000000\" d=\"M2393.2958,-583.6407C2396.0442,-582.3652 2398.7859,-581.1454 2401.5,-580 2462.4919,-554.2596 2534.851,-533.5512 2588.0557,-520.0385\"/>\n<polygon fill=\"#000000\" stroke=\"#000000\" points=\"2588.915,-523.4315 2597.7602,-517.5995 2587.2087,-516.6426 2588.915,-523.4315\"/>\n</g>\n<!-- 79 -->\n<g id=\"node80\" class=\"node\">\n<title>79</title>\n<path fill=\"#cef8e0\" stroke=\"#000000\" d=\"M2345,-425C2345,-425 2244,-425 2244,-425 2238,-425 2232,-419 2232,-413 2232,-413 2232,-354 2232,-354 2232,-348 2238,-342 2244,-342 2244,-342 2345,-342 2345,-342 2351,-342 2357,-348 2357,-354 2357,-354 2357,-413 2357,-413 2357,-419 2351,-425 2345,-425\"/>\n<text text-anchor=\"middle\" x=\"2294.5\" y=\"-409.8\" font-family=\"Helvetica,sans-Serif\" font-size=\"14.00\" fill=\"#000000\">X[7] &lt;= &#45;0.416</text>\n<text text-anchor=\"middle\" x=\"2294.5\" y=\"-394.8\" font-family=\"Helvetica,sans-Serif\" font-size=\"14.00\" fill=\"#000000\">gini = 0.49</text>\n<text text-anchor=\"middle\" x=\"2294.5\" y=\"-379.8\" font-family=\"Helvetica,sans-Serif\" font-size=\"14.00\" fill=\"#000000\">samples = 7</text>\n<text text-anchor=\"middle\" x=\"2294.5\" y=\"-364.8\" font-family=\"Helvetica,sans-Serif\" font-size=\"14.00\" fill=\"#000000\">value = [0, 4, 3]</text>\n<text text-anchor=\"middle\" x=\"2294.5\" y=\"-349.8\" font-family=\"Helvetica,sans-Serif\" font-size=\"14.00\" fill=\"#000000\">class = GALAXY</text>\n</g>\n<!-- 78&#45;&gt;79 -->\n<g id=\"edge79\" class=\"edge\">\n<title>78&#45;&gt;79</title>\n<path fill=\"none\" stroke=\"#000000\" d=\"M2315.9582,-460.8796C2313.6355,-452.5037 2311.1682,-443.6067 2308.7654,-434.942\"/>\n<polygon fill=\"#000000\" stroke=\"#000000\" points=\"2312.1361,-433.9991 2306.0911,-425.2981 2305.3907,-435.8697 2312.1361,-433.9991\"/>\n</g>\n<!-- 82 -->\n<g id=\"node83\" class=\"node\">\n<title>82</title>\n<path fill=\"#39e581\" stroke=\"#000000\" d=\"M2488,-417.5C2488,-417.5 2387,-417.5 2387,-417.5 2381,-417.5 2375,-411.5 2375,-405.5 2375,-405.5 2375,-361.5 2375,-361.5 2375,-355.5 2381,-349.5 2387,-349.5 2387,-349.5 2488,-349.5 2488,-349.5 2494,-349.5 2500,-355.5 2500,-361.5 2500,-361.5 2500,-405.5 2500,-405.5 2500,-411.5 2494,-417.5 2488,-417.5\"/>\n<text text-anchor=\"middle\" x=\"2437.5\" y=\"-402.3\" font-family=\"Helvetica,sans-Serif\" font-size=\"14.00\" fill=\"#000000\">gini = 0.0</text>\n<text text-anchor=\"middle\" x=\"2437.5\" y=\"-387.3\" font-family=\"Helvetica,sans-Serif\" font-size=\"14.00\" fill=\"#000000\">samples = 12</text>\n<text text-anchor=\"middle\" x=\"2437.5\" y=\"-372.3\" font-family=\"Helvetica,sans-Serif\" font-size=\"14.00\" fill=\"#000000\">value = [0, 12, 0]</text>\n<text text-anchor=\"middle\" x=\"2437.5\" y=\"-357.3\" font-family=\"Helvetica,sans-Serif\" font-size=\"14.00\" fill=\"#000000\">class = GALAXY</text>\n</g>\n<!-- 78&#45;&gt;82 -->\n<g id=\"edge82\" class=\"edge\">\n<title>78&#45;&gt;82</title>\n<path fill=\"none\" stroke=\"#000000\" d=\"M2365.9727,-460.8796C2376.6453,-449.3337 2388.2333,-436.7976 2398.9125,-425.2446\"/>\n<polygon fill=\"#000000\" stroke=\"#000000\" points=\"2401.5625,-427.534 2405.7803,-417.8149 2396.4222,-422.7825 2401.5625,-427.534\"/>\n</g>\n<!-- 80 -->\n<g id=\"node81\" class=\"node\">\n<title>80</title>\n<path fill=\"#8139e5\" stroke=\"#000000\" d=\"M2308,-298.5C2308,-298.5 2217,-298.5 2217,-298.5 2211,-298.5 2205,-292.5 2205,-286.5 2205,-286.5 2205,-242.5 2205,-242.5 2205,-236.5 2211,-230.5 2217,-230.5 2217,-230.5 2308,-230.5 2308,-230.5 2314,-230.5 2320,-236.5 2320,-242.5 2320,-242.5 2320,-286.5 2320,-286.5 2320,-292.5 2314,-298.5 2308,-298.5\"/>\n<text text-anchor=\"middle\" x=\"2262.5\" y=\"-283.3\" font-family=\"Helvetica,sans-Serif\" font-size=\"14.00\" fill=\"#000000\">gini = 0.0</text>\n<text text-anchor=\"middle\" x=\"2262.5\" y=\"-268.3\" font-family=\"Helvetica,sans-Serif\" font-size=\"14.00\" fill=\"#000000\">samples = 3</text>\n<text text-anchor=\"middle\" x=\"2262.5\" y=\"-253.3\" font-family=\"Helvetica,sans-Serif\" font-size=\"14.00\" fill=\"#000000\">value = [0, 0, 3]</text>\n<text text-anchor=\"middle\" x=\"2262.5\" y=\"-238.3\" font-family=\"Helvetica,sans-Serif\" font-size=\"14.00\" fill=\"#000000\">class = QSO</text>\n</g>\n<!-- 79&#45;&gt;80 -->\n<g id=\"edge80\" class=\"edge\">\n<title>79&#45;&gt;80</title>\n<path fill=\"none\" stroke=\"#000000\" d=\"M2283.308,-341.8796C2280.4102,-331.1034 2277.2804,-319.4647 2274.3501,-308.5677\"/>\n<polygon fill=\"#000000\" stroke=\"#000000\" points=\"2277.7044,-307.563 2271.7275,-298.8149 2270.9445,-309.3808 2277.7044,-307.563\"/>\n</g>\n<!-- 81 -->\n<g id=\"node82\" class=\"node\">\n<title>81</title>\n<path fill=\"#39e581\" stroke=\"#000000\" d=\"M2451,-298.5C2451,-298.5 2350,-298.5 2350,-298.5 2344,-298.5 2338,-292.5 2338,-286.5 2338,-286.5 2338,-242.5 2338,-242.5 2338,-236.5 2344,-230.5 2350,-230.5 2350,-230.5 2451,-230.5 2451,-230.5 2457,-230.5 2463,-236.5 2463,-242.5 2463,-242.5 2463,-286.5 2463,-286.5 2463,-292.5 2457,-298.5 2451,-298.5\"/>\n<text text-anchor=\"middle\" x=\"2400.5\" y=\"-283.3\" font-family=\"Helvetica,sans-Serif\" font-size=\"14.00\" fill=\"#000000\">gini = 0.0</text>\n<text text-anchor=\"middle\" x=\"2400.5\" y=\"-268.3\" font-family=\"Helvetica,sans-Serif\" font-size=\"14.00\" fill=\"#000000\">samples = 4</text>\n<text text-anchor=\"middle\" x=\"2400.5\" y=\"-253.3\" font-family=\"Helvetica,sans-Serif\" font-size=\"14.00\" fill=\"#000000\">value = [0, 4, 0]</text>\n<text text-anchor=\"middle\" x=\"2400.5\" y=\"-238.3\" font-family=\"Helvetica,sans-Serif\" font-size=\"14.00\" fill=\"#000000\">class = GALAXY</text>\n</g>\n<!-- 79&#45;&gt;81 -->\n<g id=\"edge81\" class=\"edge\">\n<title>79&#45;&gt;81</title>\n<path fill=\"none\" stroke=\"#000000\" d=\"M2331.5737,-341.8796C2341.7603,-330.4436 2352.8122,-318.0363 2363.0215,-306.575\"/>\n<polygon fill=\"#000000\" stroke=\"#000000\" points=\"2365.8958,-308.6101 2369.9338,-298.8149 2360.6688,-303.9541 2365.8958,-308.6101\"/>\n</g>\n<!-- 84 -->\n<g id=\"node85\" class=\"node\">\n<title>84</title>\n<path fill=\"#55e993\" stroke=\"#000000\" d=\"M2714,-425C2714,-425 2613,-425 2613,-425 2607,-425 2601,-419 2601,-413 2601,-413 2601,-354 2601,-354 2601,-348 2607,-342 2613,-342 2613,-342 2714,-342 2714,-342 2720,-342 2726,-348 2726,-354 2726,-354 2726,-413 2726,-413 2726,-419 2720,-425 2714,-425\"/>\n<text text-anchor=\"middle\" x=\"2663.5\" y=\"-409.8\" font-family=\"Helvetica,sans-Serif\" font-size=\"14.00\" fill=\"#000000\">X[8] &lt;= &#45;0.376</text>\n<text text-anchor=\"middle\" x=\"2663.5\" y=\"-394.8\" font-family=\"Helvetica,sans-Serif\" font-size=\"14.00\" fill=\"#000000\">gini = 0.219</text>\n<text text-anchor=\"middle\" x=\"2663.5\" y=\"-379.8\" font-family=\"Helvetica,sans-Serif\" font-size=\"14.00\" fill=\"#000000\">samples = 8</text>\n<text text-anchor=\"middle\" x=\"2663.5\" y=\"-364.8\" font-family=\"Helvetica,sans-Serif\" font-size=\"14.00\" fill=\"#000000\">value = [0, 7, 1]</text>\n<text text-anchor=\"middle\" x=\"2663.5\" y=\"-349.8\" font-family=\"Helvetica,sans-Serif\" font-size=\"14.00\" fill=\"#000000\">class = GALAXY</text>\n</g>\n<!-- 83&#45;&gt;84 -->\n<g id=\"edge84\" class=\"edge\">\n<title>83&#45;&gt;84</title>\n<path fill=\"none\" stroke=\"#000000\" d=\"M2663.5,-460.8796C2663.5,-452.6838 2663.5,-443.9891 2663.5,-435.5013\"/>\n<polygon fill=\"#000000\" stroke=\"#000000\" points=\"2667.0001,-435.298 2663.5,-425.2981 2660.0001,-435.2981 2667.0001,-435.298\"/>\n</g>\n<!-- 87 -->\n<g id=\"node88\" class=\"node\">\n<title>87</title>\n<path fill=\"#3be583\" stroke=\"#000000\" d=\"M2876,-425C2876,-425 2769,-425 2769,-425 2763,-425 2757,-419 2757,-413 2757,-413 2757,-354 2757,-354 2757,-348 2763,-342 2769,-342 2769,-342 2876,-342 2876,-342 2882,-342 2888,-348 2888,-354 2888,-354 2888,-413 2888,-413 2888,-419 2882,-425 2876,-425\"/>\n<text text-anchor=\"middle\" x=\"2822.5\" y=\"-409.8\" font-family=\"Helvetica,sans-Serif\" font-size=\"14.00\" fill=\"#000000\">X[6] &lt;= 610.5</text>\n<text text-anchor=\"middle\" x=\"2822.5\" y=\"-394.8\" font-family=\"Helvetica,sans-Serif\" font-size=\"14.00\" fill=\"#000000\">gini = 0.024</text>\n<text text-anchor=\"middle\" x=\"2822.5\" y=\"-379.8\" font-family=\"Helvetica,sans-Serif\" font-size=\"14.00\" fill=\"#000000\">samples = 168</text>\n<text text-anchor=\"middle\" x=\"2822.5\" y=\"-364.8\" font-family=\"Helvetica,sans-Serif\" font-size=\"14.00\" fill=\"#000000\">value = [0, 166, 2]</text>\n<text text-anchor=\"middle\" x=\"2822.5\" y=\"-349.8\" font-family=\"Helvetica,sans-Serif\" font-size=\"14.00\" fill=\"#000000\">class = GALAXY</text>\n</g>\n<!-- 83&#45;&gt;87 -->\n<g id=\"edge87\" class=\"edge\">\n<title>83&#45;&gt;87</title>\n<path fill=\"none\" stroke=\"#000000\" d=\"M2719.1105,-460.8796C2731.9403,-451.2774 2745.6852,-440.9903 2758.8286,-431.1534\"/>\n<polygon fill=\"#000000\" stroke=\"#000000\" points=\"2761.0121,-433.891 2766.9209,-425.0969 2756.8177,-428.2868 2761.0121,-433.891\"/>\n</g>\n<!-- 85 -->\n<g id=\"node86\" class=\"node\">\n<title>85</title>\n<path fill=\"#8139e5\" stroke=\"#000000\" d=\"M2584,-298.5C2584,-298.5 2493,-298.5 2493,-298.5 2487,-298.5 2481,-292.5 2481,-286.5 2481,-286.5 2481,-242.5 2481,-242.5 2481,-236.5 2487,-230.5 2493,-230.5 2493,-230.5 2584,-230.5 2584,-230.5 2590,-230.5 2596,-236.5 2596,-242.5 2596,-242.5 2596,-286.5 2596,-286.5 2596,-292.5 2590,-298.5 2584,-298.5\"/>\n<text text-anchor=\"middle\" x=\"2538.5\" y=\"-283.3\" font-family=\"Helvetica,sans-Serif\" font-size=\"14.00\" fill=\"#000000\">gini = 0.0</text>\n<text text-anchor=\"middle\" x=\"2538.5\" y=\"-268.3\" font-family=\"Helvetica,sans-Serif\" font-size=\"14.00\" fill=\"#000000\">samples = 1</text>\n<text text-anchor=\"middle\" x=\"2538.5\" y=\"-253.3\" font-family=\"Helvetica,sans-Serif\" font-size=\"14.00\" fill=\"#000000\">value = [0, 0, 1]</text>\n<text text-anchor=\"middle\" x=\"2538.5\" y=\"-238.3\" font-family=\"Helvetica,sans-Serif\" font-size=\"14.00\" fill=\"#000000\">class = QSO</text>\n</g>\n<!-- 84&#45;&gt;85 -->\n<g id=\"edge85\" class=\"edge\">\n<title>84&#45;&gt;85</title>\n<path fill=\"none\" stroke=\"#000000\" d=\"M2619.7811,-341.8796C2607.5375,-330.2237 2594.2339,-317.5587 2582.0029,-305.9148\"/>\n<polygon fill=\"#000000\" stroke=\"#000000\" points=\"2584.2012,-303.1751 2574.5451,-298.8149 2579.3746,-308.245 2584.2012,-303.1751\"/>\n</g>\n<!-- 86 -->\n<g id=\"node87\" class=\"node\">\n<title>86</title>\n<path fill=\"#39e581\" stroke=\"#000000\" d=\"M2727,-298.5C2727,-298.5 2626,-298.5 2626,-298.5 2620,-298.5 2614,-292.5 2614,-286.5 2614,-286.5 2614,-242.5 2614,-242.5 2614,-236.5 2620,-230.5 2626,-230.5 2626,-230.5 2727,-230.5 2727,-230.5 2733,-230.5 2739,-236.5 2739,-242.5 2739,-242.5 2739,-286.5 2739,-286.5 2739,-292.5 2733,-298.5 2727,-298.5\"/>\n<text text-anchor=\"middle\" x=\"2676.5\" y=\"-283.3\" font-family=\"Helvetica,sans-Serif\" font-size=\"14.00\" fill=\"#000000\">gini = 0.0</text>\n<text text-anchor=\"middle\" x=\"2676.5\" y=\"-268.3\" font-family=\"Helvetica,sans-Serif\" font-size=\"14.00\" fill=\"#000000\">samples = 7</text>\n<text text-anchor=\"middle\" x=\"2676.5\" y=\"-253.3\" font-family=\"Helvetica,sans-Serif\" font-size=\"14.00\" fill=\"#000000\">value = [0, 7, 0]</text>\n<text text-anchor=\"middle\" x=\"2676.5\" y=\"-238.3\" font-family=\"Helvetica,sans-Serif\" font-size=\"14.00\" fill=\"#000000\">class = GALAXY</text>\n</g>\n<!-- 84&#45;&gt;86 -->\n<g id=\"edge86\" class=\"edge\">\n<title>84&#45;&gt;86</title>\n<path fill=\"none\" stroke=\"#000000\" d=\"M2668.0468,-341.8796C2669.212,-331.2134 2670.4695,-319.7021 2671.6494,-308.9015\"/>\n<polygon fill=\"#000000\" stroke=\"#000000\" points=\"2675.1445,-309.1359 2672.7513,-298.8149 2668.1859,-308.3757 2675.1445,-309.1359\"/>\n</g>\n<!-- 88 -->\n<g id=\"node89\" class=\"node\">\n<title>88</title>\n<path fill=\"#3ae582\" stroke=\"#000000\" d=\"M2876,-306C2876,-306 2769,-306 2769,-306 2763,-306 2757,-300 2757,-294 2757,-294 2757,-235 2757,-235 2757,-229 2763,-223 2769,-223 2769,-223 2876,-223 2876,-223 2882,-223 2888,-229 2888,-235 2888,-235 2888,-294 2888,-294 2888,-300 2882,-306 2876,-306\"/>\n<text text-anchor=\"middle\" x=\"2822.5\" y=\"-290.8\" font-family=\"Helvetica,sans-Serif\" font-size=\"14.00\" fill=\"#000000\">X[9] &lt;= 0.243</text>\n<text text-anchor=\"middle\" x=\"2822.5\" y=\"-275.8\" font-family=\"Helvetica,sans-Serif\" font-size=\"14.00\" fill=\"#000000\">gini = 0.013</text>\n<text text-anchor=\"middle\" x=\"2822.5\" y=\"-260.8\" font-family=\"Helvetica,sans-Serif\" font-size=\"14.00\" fill=\"#000000\">samples = 155</text>\n<text text-anchor=\"middle\" x=\"2822.5\" y=\"-245.8\" font-family=\"Helvetica,sans-Serif\" font-size=\"14.00\" fill=\"#000000\">value = [0, 154, 1]</text>\n<text text-anchor=\"middle\" x=\"2822.5\" y=\"-230.8\" font-family=\"Helvetica,sans-Serif\" font-size=\"14.00\" fill=\"#000000\">class = GALAXY</text>\n</g>\n<!-- 87&#45;&gt;88 -->\n<g id=\"edge88\" class=\"edge\">\n<title>87&#45;&gt;88</title>\n<path fill=\"none\" stroke=\"#000000\" d=\"M2822.5,-341.8796C2822.5,-333.6838 2822.5,-324.9891 2822.5,-316.5013\"/>\n<polygon fill=\"#000000\" stroke=\"#000000\" points=\"2826.0001,-316.298 2822.5,-306.2981 2819.0001,-316.2981 2826.0001,-316.298\"/>\n</g>\n<!-- 93 -->\n<g id=\"node94\" class=\"node\">\n<title>93</title>\n<path fill=\"#49e78c\" stroke=\"#000000\" d=\"M3019,-306C3019,-306 2918,-306 2918,-306 2912,-306 2906,-300 2906,-294 2906,-294 2906,-235 2906,-235 2906,-229 2912,-223 2918,-223 2918,-223 3019,-223 3019,-223 3025,-223 3031,-229 3031,-235 3031,-235 3031,-294 3031,-294 3031,-300 3025,-306 3019,-306\"/>\n<text text-anchor=\"middle\" x=\"2968.5\" y=\"-290.8\" font-family=\"Helvetica,sans-Serif\" font-size=\"14.00\" fill=\"#000000\">X[6] &lt;= 615.5</text>\n<text text-anchor=\"middle\" x=\"2968.5\" y=\"-275.8\" font-family=\"Helvetica,sans-Serif\" font-size=\"14.00\" fill=\"#000000\">gini = 0.142</text>\n<text text-anchor=\"middle\" x=\"2968.5\" y=\"-260.8\" font-family=\"Helvetica,sans-Serif\" font-size=\"14.00\" fill=\"#000000\">samples = 13</text>\n<text text-anchor=\"middle\" x=\"2968.5\" y=\"-245.8\" font-family=\"Helvetica,sans-Serif\" font-size=\"14.00\" fill=\"#000000\">value = [0, 12, 1]</text>\n<text text-anchor=\"middle\" x=\"2968.5\" y=\"-230.8\" font-family=\"Helvetica,sans-Serif\" font-size=\"14.00\" fill=\"#000000\">class = GALAXY</text>\n</g>\n<!-- 87&#45;&gt;93 -->\n<g id=\"edge93\" class=\"edge\">\n<title>87&#45;&gt;93</title>\n<path fill=\"none\" stroke=\"#000000\" d=\"M2873.5637,-341.8796C2885.0555,-332.513 2897.3468,-322.4948 2909.145,-312.8784\"/>\n<polygon fill=\"#000000\" stroke=\"#000000\" points=\"2911.6782,-315.329 2917.2183,-306.2981 2907.2556,-309.903 2911.6782,-315.329\"/>\n</g>\n<!-- 89 -->\n<g id=\"node90\" class=\"node\">\n<title>89</title>\n<path fill=\"#39e581\" stroke=\"#000000\" d=\"M2731,-179.5C2731,-179.5 2624,-179.5 2624,-179.5 2618,-179.5 2612,-173.5 2612,-167.5 2612,-167.5 2612,-123.5 2612,-123.5 2612,-117.5 2618,-111.5 2624,-111.5 2624,-111.5 2731,-111.5 2731,-111.5 2737,-111.5 2743,-117.5 2743,-123.5 2743,-123.5 2743,-167.5 2743,-167.5 2743,-173.5 2737,-179.5 2731,-179.5\"/>\n<text text-anchor=\"middle\" x=\"2677.5\" y=\"-164.3\" font-family=\"Helvetica,sans-Serif\" font-size=\"14.00\" fill=\"#000000\">gini = 0.0</text>\n<text text-anchor=\"middle\" x=\"2677.5\" y=\"-149.3\" font-family=\"Helvetica,sans-Serif\" font-size=\"14.00\" fill=\"#000000\">samples = 123</text>\n<text text-anchor=\"middle\" x=\"2677.5\" y=\"-134.3\" font-family=\"Helvetica,sans-Serif\" font-size=\"14.00\" fill=\"#000000\">value = [0, 123, 0]</text>\n<text text-anchor=\"middle\" x=\"2677.5\" y=\"-119.3\" font-family=\"Helvetica,sans-Serif\" font-size=\"14.00\" fill=\"#000000\">class = GALAXY</text>\n</g>\n<!-- 88&#45;&gt;89 -->\n<g id=\"edge89\" class=\"edge\">\n<title>88&#45;&gt;89</title>\n<path fill=\"none\" stroke=\"#000000\" d=\"M2771.786,-222.8796C2757.3156,-211.0038 2741.5686,-198.0804 2727.1617,-186.2568\"/>\n<polygon fill=\"#000000\" stroke=\"#000000\" points=\"2729.2628,-183.4534 2719.3123,-179.8149 2724.822,-188.8645 2729.2628,-183.4534\"/>\n</g>\n<!-- 90 -->\n<g id=\"node91\" class=\"node\">\n<title>90</title>\n<path fill=\"#3fe685\" stroke=\"#000000\" d=\"M2874,-187C2874,-187 2773,-187 2773,-187 2767,-187 2761,-181 2761,-175 2761,-175 2761,-116 2761,-116 2761,-110 2767,-104 2773,-104 2773,-104 2874,-104 2874,-104 2880,-104 2886,-110 2886,-116 2886,-116 2886,-175 2886,-175 2886,-181 2880,-187 2874,-187\"/>\n<text text-anchor=\"middle\" x=\"2823.5\" y=\"-171.8\" font-family=\"Helvetica,sans-Serif\" font-size=\"14.00\" fill=\"#000000\">X[9] &lt;= 0.245</text>\n<text text-anchor=\"middle\" x=\"2823.5\" y=\"-156.8\" font-family=\"Helvetica,sans-Serif\" font-size=\"14.00\" fill=\"#000000\">gini = 0.061</text>\n<text text-anchor=\"middle\" x=\"2823.5\" y=\"-141.8\" font-family=\"Helvetica,sans-Serif\" font-size=\"14.00\" fill=\"#000000\">samples = 32</text>\n<text text-anchor=\"middle\" x=\"2823.5\" y=\"-126.8\" font-family=\"Helvetica,sans-Serif\" font-size=\"14.00\" fill=\"#000000\">value = [0, 31, 1]</text>\n<text text-anchor=\"middle\" x=\"2823.5\" y=\"-111.8\" font-family=\"Helvetica,sans-Serif\" font-size=\"14.00\" fill=\"#000000\">class = GALAXY</text>\n</g>\n<!-- 88&#45;&gt;90 -->\n<g id=\"edge90\" class=\"edge\">\n<title>88&#45;&gt;90</title>\n<path fill=\"none\" stroke=\"#000000\" d=\"M2822.8498,-222.8796C2822.9186,-214.6838 2822.9917,-205.9891 2823.063,-197.5013\"/>\n<polygon fill=\"#000000\" stroke=\"#000000\" points=\"2826.5645,-197.3272 2823.1488,-187.2981 2819.5648,-197.2683 2826.5645,-197.3272\"/>\n</g>\n<!-- 91 -->\n<g id=\"node92\" class=\"node\">\n<title>91</title>\n<path fill=\"#8139e5\" stroke=\"#000000\" d=\"M2733,-68C2733,-68 2642,-68 2642,-68 2636,-68 2630,-62 2630,-56 2630,-56 2630,-12 2630,-12 2630,-6 2636,0 2642,0 2642,0 2733,0 2733,0 2739,0 2745,-6 2745,-12 2745,-12 2745,-56 2745,-56 2745,-62 2739,-68 2733,-68\"/>\n<text text-anchor=\"middle\" x=\"2687.5\" y=\"-52.8\" font-family=\"Helvetica,sans-Serif\" font-size=\"14.00\" fill=\"#000000\">gini = 0.0</text>\n<text text-anchor=\"middle\" x=\"2687.5\" y=\"-37.8\" font-family=\"Helvetica,sans-Serif\" font-size=\"14.00\" fill=\"#000000\">samples = 1</text>\n<text text-anchor=\"middle\" x=\"2687.5\" y=\"-22.8\" font-family=\"Helvetica,sans-Serif\" font-size=\"14.00\" fill=\"#000000\">value = [0, 0, 1]</text>\n<text text-anchor=\"middle\" x=\"2687.5\" y=\"-7.8\" font-family=\"Helvetica,sans-Serif\" font-size=\"14.00\" fill=\"#000000\">class = QSO</text>\n</g>\n<!-- 90&#45;&gt;91 -->\n<g id=\"edge91\" class=\"edge\">\n<title>90&#45;&gt;91</title>\n<path fill=\"none\" stroke=\"#000000\" d=\"M2772.8586,-103.9815C2761.2001,-94.4232 2748.812,-84.2668 2737.1941,-74.7419\"/>\n<polygon fill=\"#000000\" stroke=\"#000000\" points=\"2739.2448,-71.8972 2729.2925,-68.2637 2734.8067,-77.3105 2739.2448,-71.8972\"/>\n</g>\n<!-- 92 -->\n<g id=\"node93\" class=\"node\">\n<title>92</title>\n<path fill=\"#39e581\" stroke=\"#000000\" d=\"M2876,-68C2876,-68 2775,-68 2775,-68 2769,-68 2763,-62 2763,-56 2763,-56 2763,-12 2763,-12 2763,-6 2769,0 2775,0 2775,0 2876,0 2876,0 2882,0 2888,-6 2888,-12 2888,-12 2888,-56 2888,-56 2888,-62 2882,-68 2876,-68\"/>\n<text text-anchor=\"middle\" x=\"2825.5\" y=\"-52.8\" font-family=\"Helvetica,sans-Serif\" font-size=\"14.00\" fill=\"#000000\">gini = 0.0</text>\n<text text-anchor=\"middle\" x=\"2825.5\" y=\"-37.8\" font-family=\"Helvetica,sans-Serif\" font-size=\"14.00\" fill=\"#000000\">samples = 31</text>\n<text text-anchor=\"middle\" x=\"2825.5\" y=\"-22.8\" font-family=\"Helvetica,sans-Serif\" font-size=\"14.00\" fill=\"#000000\">value = [0, 31, 0]</text>\n<text text-anchor=\"middle\" x=\"2825.5\" y=\"-7.8\" font-family=\"Helvetica,sans-Serif\" font-size=\"14.00\" fill=\"#000000\">class = GALAXY</text>\n</g>\n<!-- 90&#45;&gt;92 -->\n<g id=\"edge92\" class=\"edge\">\n<title>90&#45;&gt;92</title>\n<path fill=\"none\" stroke=\"#000000\" d=\"M2824.2447,-103.9815C2824.3947,-95.618 2824.553,-86.7965 2824.7046,-78.3409\"/>\n<polygon fill=\"#000000\" stroke=\"#000000\" points=\"2828.2054,-78.3249 2824.8854,-68.2637 2821.2065,-78.1993 2828.2054,-78.3249\"/>\n</g>\n<!-- 94 -->\n<g id=\"node95\" class=\"node\">\n<title>94</title>\n<path fill=\"#ffffff\" stroke=\"#000000\" d=\"M3018,-187C3018,-187 2917,-187 2917,-187 2911,-187 2905,-181 2905,-175 2905,-175 2905,-116 2905,-116 2905,-110 2911,-104 2917,-104 2917,-104 3018,-104 3018,-104 3024,-104 3030,-110 3030,-116 3030,-116 3030,-175 3030,-175 3030,-181 3024,-187 3018,-187\"/>\n<text text-anchor=\"middle\" x=\"2967.5\" y=\"-171.8\" font-family=\"Helvetica,sans-Serif\" font-size=\"14.00\" fill=\"#000000\">X[3] &lt;= 0.161</text>\n<text text-anchor=\"middle\" x=\"2967.5\" y=\"-156.8\" font-family=\"Helvetica,sans-Serif\" font-size=\"14.00\" fill=\"#000000\">gini = 0.5</text>\n<text text-anchor=\"middle\" x=\"2967.5\" y=\"-141.8\" font-family=\"Helvetica,sans-Serif\" font-size=\"14.00\" fill=\"#000000\">samples = 2</text>\n<text text-anchor=\"middle\" x=\"2967.5\" y=\"-126.8\" font-family=\"Helvetica,sans-Serif\" font-size=\"14.00\" fill=\"#000000\">value = [0, 1, 1]</text>\n<text text-anchor=\"middle\" x=\"2967.5\" y=\"-111.8\" font-family=\"Helvetica,sans-Serif\" font-size=\"14.00\" fill=\"#000000\">class = GALAXY</text>\n</g>\n<!-- 93&#45;&gt;94 -->\n<g id=\"edge94\" class=\"edge\">\n<title>93&#45;&gt;94</title>\n<path fill=\"none\" stroke=\"#000000\" d=\"M2968.1502,-222.8796C2968.0814,-214.6838 2968.0083,-205.9891 2967.937,-197.5013\"/>\n<polygon fill=\"#000000\" stroke=\"#000000\" points=\"2971.4352,-197.2683 2967.8512,-187.2981 2964.4355,-197.3272 2971.4352,-197.2683\"/>\n</g>\n<!-- 97 -->\n<g id=\"node98\" class=\"node\">\n<title>97</title>\n<path fill=\"#39e581\" stroke=\"#000000\" d=\"M3161,-179.5C3161,-179.5 3060,-179.5 3060,-179.5 3054,-179.5 3048,-173.5 3048,-167.5 3048,-167.5 3048,-123.5 3048,-123.5 3048,-117.5 3054,-111.5 3060,-111.5 3060,-111.5 3161,-111.5 3161,-111.5 3167,-111.5 3173,-117.5 3173,-123.5 3173,-123.5 3173,-167.5 3173,-167.5 3173,-173.5 3167,-179.5 3161,-179.5\"/>\n<text text-anchor=\"middle\" x=\"3110.5\" y=\"-164.3\" font-family=\"Helvetica,sans-Serif\" font-size=\"14.00\" fill=\"#000000\">gini = 0.0</text>\n<text text-anchor=\"middle\" x=\"3110.5\" y=\"-149.3\" font-family=\"Helvetica,sans-Serif\" font-size=\"14.00\" fill=\"#000000\">samples = 11</text>\n<text text-anchor=\"middle\" x=\"3110.5\" y=\"-134.3\" font-family=\"Helvetica,sans-Serif\" font-size=\"14.00\" fill=\"#000000\">value = [0, 11, 0]</text>\n<text text-anchor=\"middle\" x=\"3110.5\" y=\"-119.3\" font-family=\"Helvetica,sans-Serif\" font-size=\"14.00\" fill=\"#000000\">class = GALAXY</text>\n</g>\n<!-- 93&#45;&gt;97 -->\n<g id=\"edge97\" class=\"edge\">\n<title>93&#45;&gt;97</title>\n<path fill=\"none\" stroke=\"#000000\" d=\"M3018.1647,-222.8796C3032.3358,-211.0038 3047.757,-198.0804 3061.8658,-186.2568\"/>\n<polygon fill=\"#000000\" stroke=\"#000000\" points=\"3064.1363,-188.9206 3069.5528,-179.8149 3059.6402,-183.5554 3064.1363,-188.9206\"/>\n</g>\n<!-- 95 -->\n<g id=\"node96\" class=\"node\">\n<title>95</title>\n<path fill=\"#8139e5\" stroke=\"#000000\" d=\"M3011,-68C3011,-68 2920,-68 2920,-68 2914,-68 2908,-62 2908,-56 2908,-56 2908,-12 2908,-12 2908,-6 2914,0 2920,0 2920,0 3011,0 3011,0 3017,0 3023,-6 3023,-12 3023,-12 3023,-56 3023,-56 3023,-62 3017,-68 3011,-68\"/>\n<text text-anchor=\"middle\" x=\"2965.5\" y=\"-52.8\" font-family=\"Helvetica,sans-Serif\" font-size=\"14.00\" fill=\"#000000\">gini = 0.0</text>\n<text text-anchor=\"middle\" x=\"2965.5\" y=\"-37.8\" font-family=\"Helvetica,sans-Serif\" font-size=\"14.00\" fill=\"#000000\">samples = 1</text>\n<text text-anchor=\"middle\" x=\"2965.5\" y=\"-22.8\" font-family=\"Helvetica,sans-Serif\" font-size=\"14.00\" fill=\"#000000\">value = [0, 0, 1]</text>\n<text text-anchor=\"middle\" x=\"2965.5\" y=\"-7.8\" font-family=\"Helvetica,sans-Serif\" font-size=\"14.00\" fill=\"#000000\">class = QSO</text>\n</g>\n<!-- 94&#45;&gt;95 -->\n<g id=\"edge95\" class=\"edge\">\n<title>94&#45;&gt;95</title>\n<path fill=\"none\" stroke=\"#000000\" d=\"M2966.7553,-103.9815C2966.6053,-95.618 2966.447,-86.7965 2966.2954,-78.3409\"/>\n<polygon fill=\"#000000\" stroke=\"#000000\" points=\"2969.7935,-78.1993 2966.1146,-68.2637 2962.7946,-78.3249 2969.7935,-78.1993\"/>\n</g>\n<!-- 96 -->\n<g id=\"node97\" class=\"node\">\n<title>96</title>\n<path fill=\"#39e581\" stroke=\"#000000\" d=\"M3154,-68C3154,-68 3053,-68 3053,-68 3047,-68 3041,-62 3041,-56 3041,-56 3041,-12 3041,-12 3041,-6 3047,0 3053,0 3053,0 3154,0 3154,0 3160,0 3166,-6 3166,-12 3166,-12 3166,-56 3166,-56 3166,-62 3160,-68 3154,-68\"/>\n<text text-anchor=\"middle\" x=\"3103.5\" y=\"-52.8\" font-family=\"Helvetica,sans-Serif\" font-size=\"14.00\" fill=\"#000000\">gini = 0.0</text>\n<text text-anchor=\"middle\" x=\"3103.5\" y=\"-37.8\" font-family=\"Helvetica,sans-Serif\" font-size=\"14.00\" fill=\"#000000\">samples = 1</text>\n<text text-anchor=\"middle\" x=\"3103.5\" y=\"-22.8\" font-family=\"Helvetica,sans-Serif\" font-size=\"14.00\" fill=\"#000000\">value = [0, 1, 0]</text>\n<text text-anchor=\"middle\" x=\"3103.5\" y=\"-7.8\" font-family=\"Helvetica,sans-Serif\" font-size=\"14.00\" fill=\"#000000\">class = GALAXY</text>\n</g>\n<!-- 94&#45;&gt;96 -->\n<g id=\"edge96\" class=\"edge\">\n<title>94&#45;&gt;96</title>\n<path fill=\"none\" stroke=\"#000000\" d=\"M3018.1414,-103.9815C3029.7999,-94.4232 3042.188,-84.2668 3053.8059,-74.7419\"/>\n<polygon fill=\"#000000\" stroke=\"#000000\" points=\"3056.1933,-77.3105 3061.7075,-68.2637 3051.7552,-71.8972 3056.1933,-77.3105\"/>\n</g>\n<!-- 99 -->\n<g id=\"node100\" class=\"node\">\n<title>99</title>\n<path fill=\"#9a61ea\" stroke=\"#000000\" d=\"M2521,-782C2521,-782 2430,-782 2430,-782 2424,-782 2418,-776 2418,-770 2418,-770 2418,-711 2418,-711 2418,-705 2424,-699 2430,-699 2430,-699 2521,-699 2521,-699 2527,-699 2533,-705 2533,-711 2533,-711 2533,-770 2533,-770 2533,-776 2527,-782 2521,-782\"/>\n<text text-anchor=\"middle\" x=\"2475.5\" y=\"-766.8\" font-family=\"Helvetica,sans-Serif\" font-size=\"14.00\" fill=\"#000000\">X[9] &lt;= 0.321</text>\n<text text-anchor=\"middle\" x=\"2475.5\" y=\"-751.8\" font-family=\"Helvetica,sans-Serif\" font-size=\"14.00\" fill=\"#000000\">gini = 0.278</text>\n<text text-anchor=\"middle\" x=\"2475.5\" y=\"-736.8\" font-family=\"Helvetica,sans-Serif\" font-size=\"14.00\" fill=\"#000000\">samples = 6</text>\n<text text-anchor=\"middle\" x=\"2475.5\" y=\"-721.8\" font-family=\"Helvetica,sans-Serif\" font-size=\"14.00\" fill=\"#000000\">value = [0, 1, 5]</text>\n<text text-anchor=\"middle\" x=\"2475.5\" y=\"-706.8\" font-family=\"Helvetica,sans-Serif\" font-size=\"14.00\" fill=\"#000000\">class = QSO</text>\n</g>\n<!-- 98&#45;&gt;99 -->\n<g id=\"edge99\" class=\"edge\">\n<title>98&#45;&gt;99</title>\n<path fill=\"none\" stroke=\"#000000\" d=\"M2477.4507,-817.8796C2477.2441,-809.6838 2477.0249,-800.9891 2476.811,-792.5013\"/>\n<polygon fill=\"#000000\" stroke=\"#000000\" points=\"2480.3047,-792.2067 2476.5537,-782.2981 2473.307,-792.3831 2480.3047,-792.2067\"/>\n</g>\n<!-- 102 -->\n<g id=\"node103\" class=\"node\">\n<title>102</title>\n<path fill=\"#43e687\" stroke=\"#000000\" d=\"M2664,-782C2664,-782 2563,-782 2563,-782 2557,-782 2551,-776 2551,-770 2551,-770 2551,-711 2551,-711 2551,-705 2557,-699 2563,-699 2563,-699 2664,-699 2664,-699 2670,-699 2676,-705 2676,-711 2676,-711 2676,-770 2676,-770 2676,-776 2670,-782 2664,-782\"/>\n<text text-anchor=\"middle\" x=\"2613.5\" y=\"-766.8\" font-family=\"Helvetica,sans-Serif\" font-size=\"14.00\" fill=\"#000000\">X[3] &lt;= 0.069</text>\n<text text-anchor=\"middle\" x=\"2613.5\" y=\"-751.8\" font-family=\"Helvetica,sans-Serif\" font-size=\"14.00\" fill=\"#000000\">gini = 0.091</text>\n<text text-anchor=\"middle\" x=\"2613.5\" y=\"-736.8\" font-family=\"Helvetica,sans-Serif\" font-size=\"14.00\" fill=\"#000000\">samples = 21</text>\n<text text-anchor=\"middle\" x=\"2613.5\" y=\"-721.8\" font-family=\"Helvetica,sans-Serif\" font-size=\"14.00\" fill=\"#000000\">value = [0, 20, 1]</text>\n<text text-anchor=\"middle\" x=\"2613.5\" y=\"-706.8\" font-family=\"Helvetica,sans-Serif\" font-size=\"14.00\" fill=\"#000000\">class = GALAXY</text>\n</g>\n<!-- 98&#45;&gt;102 -->\n<g id=\"edge102\" class=\"edge\">\n<title>98&#45;&gt;102</title>\n<path fill=\"none\" stroke=\"#000000\" d=\"M2525.7164,-817.8796C2536.2402,-808.6031 2547.4891,-798.6874 2558.3021,-789.1559\"/>\n<polygon fill=\"#000000\" stroke=\"#000000\" points=\"2560.8948,-791.5362 2566.082,-782.2981 2556.266,-786.2851 2560.8948,-791.5362\"/>\n</g>\n<!-- 100 -->\n<g id=\"node101\" class=\"node\">\n<title>100</title>\n<path fill=\"#8139e5\" stroke=\"#000000\" d=\"M2514,-655.5C2514,-655.5 2423,-655.5 2423,-655.5 2417,-655.5 2411,-649.5 2411,-643.5 2411,-643.5 2411,-599.5 2411,-599.5 2411,-593.5 2417,-587.5 2423,-587.5 2423,-587.5 2514,-587.5 2514,-587.5 2520,-587.5 2526,-593.5 2526,-599.5 2526,-599.5 2526,-643.5 2526,-643.5 2526,-649.5 2520,-655.5 2514,-655.5\"/>\n<text text-anchor=\"middle\" x=\"2468.5\" y=\"-640.3\" font-family=\"Helvetica,sans-Serif\" font-size=\"14.00\" fill=\"#000000\">gini = 0.0</text>\n<text text-anchor=\"middle\" x=\"2468.5\" y=\"-625.3\" font-family=\"Helvetica,sans-Serif\" font-size=\"14.00\" fill=\"#000000\">samples = 5</text>\n<text text-anchor=\"middle\" x=\"2468.5\" y=\"-610.3\" font-family=\"Helvetica,sans-Serif\" font-size=\"14.00\" fill=\"#000000\">value = [0, 0, 5]</text>\n<text text-anchor=\"middle\" x=\"2468.5\" y=\"-595.3\" font-family=\"Helvetica,sans-Serif\" font-size=\"14.00\" fill=\"#000000\">class = QSO</text>\n</g>\n<!-- 99&#45;&gt;100 -->\n<g id=\"edge100\" class=\"edge\">\n<title>99&#45;&gt;100</title>\n<path fill=\"none\" stroke=\"#000000\" d=\"M2473.0517,-698.8796C2472.4243,-688.2134 2471.7472,-676.7021 2471.1119,-665.9015\"/>\n<polygon fill=\"#000000\" stroke=\"#000000\" points=\"2474.5998,-665.5921 2470.5185,-655.8149 2467.6119,-666.0032 2474.5998,-665.5921\"/>\n</g>\n<!-- 101 -->\n<g id=\"node102\" class=\"node\">\n<title>101</title>\n<path fill=\"#39e581\" stroke=\"#000000\" d=\"M2657,-655.5C2657,-655.5 2556,-655.5 2556,-655.5 2550,-655.5 2544,-649.5 2544,-643.5 2544,-643.5 2544,-599.5 2544,-599.5 2544,-593.5 2550,-587.5 2556,-587.5 2556,-587.5 2657,-587.5 2657,-587.5 2663,-587.5 2669,-593.5 2669,-599.5 2669,-599.5 2669,-643.5 2669,-643.5 2669,-649.5 2663,-655.5 2657,-655.5\"/>\n<text text-anchor=\"middle\" x=\"2606.5\" y=\"-640.3\" font-family=\"Helvetica,sans-Serif\" font-size=\"14.00\" fill=\"#000000\">gini = 0.0</text>\n<text text-anchor=\"middle\" x=\"2606.5\" y=\"-625.3\" font-family=\"Helvetica,sans-Serif\" font-size=\"14.00\" fill=\"#000000\">samples = 1</text>\n<text text-anchor=\"middle\" x=\"2606.5\" y=\"-610.3\" font-family=\"Helvetica,sans-Serif\" font-size=\"14.00\" fill=\"#000000\">value = [0, 1, 0]</text>\n<text text-anchor=\"middle\" x=\"2606.5\" y=\"-595.3\" font-family=\"Helvetica,sans-Serif\" font-size=\"14.00\" fill=\"#000000\">class = GALAXY</text>\n</g>\n<!-- 99&#45;&gt;101 -->\n<g id=\"edge101\" class=\"edge\">\n<title>99&#45;&gt;101</title>\n<path fill=\"none\" stroke=\"#000000\" d=\"M2521.3174,-698.8796C2534.2697,-687.1138 2548.354,-674.3197 2561.2714,-662.5855\"/>\n<polygon fill=\"#000000\" stroke=\"#000000\" points=\"2563.6761,-665.1296 2568.7247,-655.8149 2558.9694,-659.9482 2563.6761,-665.1296\"/>\n</g>\n<!-- 103 -->\n<g id=\"node104\" class=\"node\">\n<title>103</title>\n<path fill=\"#39e581\" stroke=\"#000000\" d=\"M2800,-655.5C2800,-655.5 2699,-655.5 2699,-655.5 2693,-655.5 2687,-649.5 2687,-643.5 2687,-643.5 2687,-599.5 2687,-599.5 2687,-593.5 2693,-587.5 2699,-587.5 2699,-587.5 2800,-587.5 2800,-587.5 2806,-587.5 2812,-593.5 2812,-599.5 2812,-599.5 2812,-643.5 2812,-643.5 2812,-649.5 2806,-655.5 2800,-655.5\"/>\n<text text-anchor=\"middle\" x=\"2749.5\" y=\"-640.3\" font-family=\"Helvetica,sans-Serif\" font-size=\"14.00\" fill=\"#000000\">gini = 0.0</text>\n<text text-anchor=\"middle\" x=\"2749.5\" y=\"-625.3\" font-family=\"Helvetica,sans-Serif\" font-size=\"14.00\" fill=\"#000000\">samples = 16</text>\n<text text-anchor=\"middle\" x=\"2749.5\" y=\"-610.3\" font-family=\"Helvetica,sans-Serif\" font-size=\"14.00\" fill=\"#000000\">value = [0, 16, 0]</text>\n<text text-anchor=\"middle\" x=\"2749.5\" y=\"-595.3\" font-family=\"Helvetica,sans-Serif\" font-size=\"14.00\" fill=\"#000000\">class = GALAXY</text>\n</g>\n<!-- 102&#45;&gt;103 -->\n<g id=\"edge103\" class=\"edge\">\n<title>102&#45;&gt;103</title>\n<path fill=\"none\" stroke=\"#000000\" d=\"M2661.0662,-698.8796C2674.5128,-687.1138 2689.1347,-674.3197 2702.5451,-662.5855\"/>\n<polygon fill=\"#000000\" stroke=\"#000000\" points=\"2705.0619,-665.034 2710.2829,-655.8149 2700.4524,-659.766 2705.0619,-665.034\"/>\n</g>\n<!-- 104 -->\n<g id=\"node105\" class=\"node\">\n<title>104</title>\n<path fill=\"#6aeca0\" stroke=\"#000000\" d=\"M2943,-663C2943,-663 2842,-663 2842,-663 2836,-663 2830,-657 2830,-651 2830,-651 2830,-592 2830,-592 2830,-586 2836,-580 2842,-580 2842,-580 2943,-580 2943,-580 2949,-580 2955,-586 2955,-592 2955,-592 2955,-651 2955,-651 2955,-657 2949,-663 2943,-663\"/>\n<text text-anchor=\"middle\" x=\"2892.5\" y=\"-647.8\" font-family=\"Helvetica,sans-Serif\" font-size=\"14.00\" fill=\"#000000\">X[1] &lt;= 0.228</text>\n<text text-anchor=\"middle\" x=\"2892.5\" y=\"-632.8\" font-family=\"Helvetica,sans-Serif\" font-size=\"14.00\" fill=\"#000000\">gini = 0.32</text>\n<text text-anchor=\"middle\" x=\"2892.5\" y=\"-617.8\" font-family=\"Helvetica,sans-Serif\" font-size=\"14.00\" fill=\"#000000\">samples = 5</text>\n<text text-anchor=\"middle\" x=\"2892.5\" y=\"-602.8\" font-family=\"Helvetica,sans-Serif\" font-size=\"14.00\" fill=\"#000000\">value = [0, 4, 1]</text>\n<text text-anchor=\"middle\" x=\"2892.5\" y=\"-587.8\" font-family=\"Helvetica,sans-Serif\" font-size=\"14.00\" fill=\"#000000\">class = GALAXY</text>\n</g>\n<!-- 102&#45;&gt;104 -->\n<g id=\"edge104\" class=\"edge\">\n<title>102&#45;&gt;104</title>\n<path fill=\"none\" stroke=\"#000000\" d=\"M2676.1457,-702.7007C2678.939,-701.3917 2681.7313,-700.1506 2684.5,-699 2742.2389,-675.0052 2762.6885,-686.8194 2820.5,-663 2820.5959,-662.9605 2820.6918,-662.9209 2820.7877,-662.8812\"/>\n<polygon fill=\"#000000\" stroke=\"#000000\" points=\"2822.0325,-666.1577 2829.764,-658.9137 2819.2026,-659.7552 2822.0325,-666.1577\"/>\n</g>\n<!-- 105 -->\n<g id=\"node106\" class=\"node\">\n<title>105</title>\n<path fill=\"#8139e5\" stroke=\"#000000\" d=\"M2859,-536.5C2859,-536.5 2768,-536.5 2768,-536.5 2762,-536.5 2756,-530.5 2756,-524.5 2756,-524.5 2756,-480.5 2756,-480.5 2756,-474.5 2762,-468.5 2768,-468.5 2768,-468.5 2859,-468.5 2859,-468.5 2865,-468.5 2871,-474.5 2871,-480.5 2871,-480.5 2871,-524.5 2871,-524.5 2871,-530.5 2865,-536.5 2859,-536.5\"/>\n<text text-anchor=\"middle\" x=\"2813.5\" y=\"-521.3\" font-family=\"Helvetica,sans-Serif\" font-size=\"14.00\" fill=\"#000000\">gini = 0.0</text>\n<text text-anchor=\"middle\" x=\"2813.5\" y=\"-506.3\" font-family=\"Helvetica,sans-Serif\" font-size=\"14.00\" fill=\"#000000\">samples = 1</text>\n<text text-anchor=\"middle\" x=\"2813.5\" y=\"-491.3\" font-family=\"Helvetica,sans-Serif\" font-size=\"14.00\" fill=\"#000000\">value = [0, 0, 1]</text>\n<text text-anchor=\"middle\" x=\"2813.5\" y=\"-476.3\" font-family=\"Helvetica,sans-Serif\" font-size=\"14.00\" fill=\"#000000\">class = QSO</text>\n</g>\n<!-- 104&#45;&gt;105 -->\n<g id=\"edge105\" class=\"edge\">\n<title>104&#45;&gt;105</title>\n<path fill=\"none\" stroke=\"#000000\" d=\"M2864.8696,-579.8796C2857.4237,-568.6636 2849.3575,-556.5131 2841.8718,-545.2372\"/>\n<polygon fill=\"#000000\" stroke=\"#000000\" points=\"2844.7273,-543.2104 2836.2805,-536.8149 2838.8954,-547.082 2844.7273,-543.2104\"/>\n</g>\n<!-- 106 -->\n<g id=\"node107\" class=\"node\">\n<title>106</title>\n<path fill=\"#39e581\" stroke=\"#000000\" d=\"M3002,-536.5C3002,-536.5 2901,-536.5 2901,-536.5 2895,-536.5 2889,-530.5 2889,-524.5 2889,-524.5 2889,-480.5 2889,-480.5 2889,-474.5 2895,-468.5 2901,-468.5 2901,-468.5 3002,-468.5 3002,-468.5 3008,-468.5 3014,-474.5 3014,-480.5 3014,-480.5 3014,-524.5 3014,-524.5 3014,-530.5 3008,-536.5 3002,-536.5\"/>\n<text text-anchor=\"middle\" x=\"2951.5\" y=\"-521.3\" font-family=\"Helvetica,sans-Serif\" font-size=\"14.00\" fill=\"#000000\">gini = 0.0</text>\n<text text-anchor=\"middle\" x=\"2951.5\" y=\"-506.3\" font-family=\"Helvetica,sans-Serif\" font-size=\"14.00\" fill=\"#000000\">samples = 4</text>\n<text text-anchor=\"middle\" x=\"2951.5\" y=\"-491.3\" font-family=\"Helvetica,sans-Serif\" font-size=\"14.00\" fill=\"#000000\">value = [0, 4, 0]</text>\n<text text-anchor=\"middle\" x=\"2951.5\" y=\"-476.3\" font-family=\"Helvetica,sans-Serif\" font-size=\"14.00\" fill=\"#000000\">class = GALAXY</text>\n</g>\n<!-- 104&#45;&gt;106 -->\n<g id=\"edge106\" class=\"edge\">\n<title>104&#45;&gt;106</title>\n<path fill=\"none\" stroke=\"#000000\" d=\"M2913.1353,-579.8796C2918.5872,-568.8835 2924.4843,-556.9893 2929.9816,-545.9015\"/>\n<polygon fill=\"#000000\" stroke=\"#000000\" points=\"2933.1804,-547.3289 2934.4867,-536.8149 2926.9089,-544.2195 2933.1804,-547.3289\"/>\n</g>\n<!-- 108 -->\n<g id=\"node109\" class=\"node\">\n<title>108</title>\n<path fill=\"#39e581\" stroke=\"#000000\" d=\"M2672,-1012.5C2672,-1012.5 2571,-1012.5 2571,-1012.5 2565,-1012.5 2559,-1006.5 2559,-1000.5 2559,-1000.5 2559,-956.5 2559,-956.5 2559,-950.5 2565,-944.5 2571,-944.5 2571,-944.5 2672,-944.5 2672,-944.5 2678,-944.5 2684,-950.5 2684,-956.5 2684,-956.5 2684,-1000.5 2684,-1000.5 2684,-1006.5 2678,-1012.5 2672,-1012.5\"/>\n<text text-anchor=\"middle\" x=\"2621.5\" y=\"-997.3\" font-family=\"Helvetica,sans-Serif\" font-size=\"14.00\" fill=\"#000000\">gini = 0.0</text>\n<text text-anchor=\"middle\" x=\"2621.5\" y=\"-982.3\" font-family=\"Helvetica,sans-Serif\" font-size=\"14.00\" fill=\"#000000\">samples = 2</text>\n<text text-anchor=\"middle\" x=\"2621.5\" y=\"-967.3\" font-family=\"Helvetica,sans-Serif\" font-size=\"14.00\" fill=\"#000000\">value = [0, 2, 0]</text>\n<text text-anchor=\"middle\" x=\"2621.5\" y=\"-952.3\" font-family=\"Helvetica,sans-Serif\" font-size=\"14.00\" fill=\"#000000\">class = GALAXY</text>\n</g>\n<!-- 107&#45;&gt;108 -->\n<g id=\"edge108\" class=\"edge\">\n<title>107&#45;&gt;108</title>\n<path fill=\"none\" stroke=\"#000000\" d=\"M2621.5,-1055.8796C2621.5,-1045.2134 2621.5,-1033.7021 2621.5,-1022.9015\"/>\n<polygon fill=\"#000000\" stroke=\"#000000\" points=\"2625.0001,-1022.8149 2621.5,-1012.8149 2618.0001,-1022.815 2625.0001,-1022.8149\"/>\n</g>\n<!-- 109 -->\n<g id=\"node110\" class=\"node\">\n<title>109</title>\n<path fill=\"#8e4de8\" stroke=\"#000000\" d=\"M2881,-1020C2881,-1020 2782,-1020 2782,-1020 2776,-1020 2770,-1014 2770,-1008 2770,-1008 2770,-949 2770,-949 2770,-943 2776,-937 2782,-937 2782,-937 2881,-937 2881,-937 2887,-937 2893,-943 2893,-949 2893,-949 2893,-1008 2893,-1008 2893,-1014 2887,-1020 2881,-1020\"/>\n<text text-anchor=\"middle\" x=\"2831.5\" y=\"-1004.8\" font-family=\"Helvetica,sans-Serif\" font-size=\"14.00\" fill=\"#000000\">X[8] &lt;= &#45;0.363</text>\n<text text-anchor=\"middle\" x=\"2831.5\" y=\"-989.8\" font-family=\"Helvetica,sans-Serif\" font-size=\"14.00\" fill=\"#000000\">gini = 0.17</text>\n<text text-anchor=\"middle\" x=\"2831.5\" y=\"-974.8\" font-family=\"Helvetica,sans-Serif\" font-size=\"14.00\" fill=\"#000000\">samples = 32</text>\n<text text-anchor=\"middle\" x=\"2831.5\" y=\"-959.8\" font-family=\"Helvetica,sans-Serif\" font-size=\"14.00\" fill=\"#000000\">value = [0, 3, 29]</text>\n<text text-anchor=\"middle\" x=\"2831.5\" y=\"-944.8\" font-family=\"Helvetica,sans-Serif\" font-size=\"14.00\" fill=\"#000000\">class = QSO</text>\n</g>\n<!-- 107&#45;&gt;109 -->\n<g id=\"edge109\" class=\"edge\">\n<title>107&#45;&gt;109</title>\n<path fill=\"none\" stroke=\"#000000\" d=\"M2683.088,-1062.6001C2707.555,-1048.7355 2735.8389,-1032.708 2761.1109,-1018.3872\"/>\n<polygon fill=\"#000000\" stroke=\"#000000\" points=\"2762.9384,-1021.3745 2769.9131,-1013.3992 2759.4873,-1015.2843 2762.9384,-1021.3745\"/>\n</g>\n<!-- 110 -->\n<g id=\"node111\" class=\"node\">\n<title>110</title>\n<path fill=\"#9cf2c0\" stroke=\"#000000\" d=\"M2882,-901C2882,-901 2781,-901 2781,-901 2775,-901 2769,-895 2769,-889 2769,-889 2769,-830 2769,-830 2769,-824 2775,-818 2781,-818 2781,-818 2882,-818 2882,-818 2888,-818 2894,-824 2894,-830 2894,-830 2894,-889 2894,-889 2894,-895 2888,-901 2882,-901\"/>\n<text text-anchor=\"middle\" x=\"2831.5\" y=\"-885.8\" font-family=\"Helvetica,sans-Serif\" font-size=\"14.00\" fill=\"#000000\">X[5] &lt;= 51958.5</text>\n<text text-anchor=\"middle\" x=\"2831.5\" y=\"-870.8\" font-family=\"Helvetica,sans-Serif\" font-size=\"14.00\" fill=\"#000000\">gini = 0.444</text>\n<text text-anchor=\"middle\" x=\"2831.5\" y=\"-855.8\" font-family=\"Helvetica,sans-Serif\" font-size=\"14.00\" fill=\"#000000\">samples = 3</text>\n<text text-anchor=\"middle\" x=\"2831.5\" y=\"-840.8\" font-family=\"Helvetica,sans-Serif\" font-size=\"14.00\" fill=\"#000000\">value = [0, 2, 1]</text>\n<text text-anchor=\"middle\" x=\"2831.5\" y=\"-825.8\" font-family=\"Helvetica,sans-Serif\" font-size=\"14.00\" fill=\"#000000\">class = GALAXY</text>\n</g>\n<!-- 109&#45;&gt;110 -->\n<g id=\"edge110\" class=\"edge\">\n<title>109&#45;&gt;110</title>\n<path fill=\"none\" stroke=\"#000000\" d=\"M2831.5,-936.8796C2831.5,-928.6838 2831.5,-919.9891 2831.5,-911.5013\"/>\n<polygon fill=\"#000000\" stroke=\"#000000\" points=\"2835.0001,-911.298 2831.5,-901.2981 2828.0001,-911.2981 2835.0001,-911.298\"/>\n</g>\n<!-- 113 -->\n<g id=\"node114\" class=\"node\">\n<title>113</title>\n<path fill=\"#8640e6\" stroke=\"#000000\" d=\"M3082,-901C3082,-901 2983,-901 2983,-901 2977,-901 2971,-895 2971,-889 2971,-889 2971,-830 2971,-830 2971,-824 2977,-818 2983,-818 2983,-818 3082,-818 3082,-818 3088,-818 3094,-824 3094,-830 3094,-830 3094,-889 3094,-889 3094,-895 3088,-901 3082,-901\"/>\n<text text-anchor=\"middle\" x=\"3032.5\" y=\"-885.8\" font-family=\"Helvetica,sans-Serif\" font-size=\"14.00\" fill=\"#000000\">X[6] &lt;= 44.0</text>\n<text text-anchor=\"middle\" x=\"3032.5\" y=\"-870.8\" font-family=\"Helvetica,sans-Serif\" font-size=\"14.00\" fill=\"#000000\">gini = 0.067</text>\n<text text-anchor=\"middle\" x=\"3032.5\" y=\"-855.8\" font-family=\"Helvetica,sans-Serif\" font-size=\"14.00\" fill=\"#000000\">samples = 29</text>\n<text text-anchor=\"middle\" x=\"3032.5\" y=\"-840.8\" font-family=\"Helvetica,sans-Serif\" font-size=\"14.00\" fill=\"#000000\">value = [0, 1, 28]</text>\n<text text-anchor=\"middle\" x=\"3032.5\" y=\"-825.8\" font-family=\"Helvetica,sans-Serif\" font-size=\"14.00\" fill=\"#000000\">class = QSO</text>\n</g>\n<!-- 109&#45;&gt;113 -->\n<g id=\"edge113\" class=\"edge\">\n<title>109&#45;&gt;113</title>\n<path fill=\"none\" stroke=\"#000000\" d=\"M2893.1726,-941.9874C2914.9742,-929.0799 2939.6565,-914.4671 2962.1252,-901.1647\"/>\n<polygon fill=\"#000000\" stroke=\"#000000\" points=\"2964.1221,-904.0499 2970.944,-895.9436 2960.5559,-898.0264 2964.1221,-904.0499\"/>\n</g>\n<!-- 111 -->\n<g id=\"node112\" class=\"node\">\n<title>111</title>\n<path fill=\"#39e581\" stroke=\"#000000\" d=\"M2807,-774.5C2807,-774.5 2706,-774.5 2706,-774.5 2700,-774.5 2694,-768.5 2694,-762.5 2694,-762.5 2694,-718.5 2694,-718.5 2694,-712.5 2700,-706.5 2706,-706.5 2706,-706.5 2807,-706.5 2807,-706.5 2813,-706.5 2819,-712.5 2819,-718.5 2819,-718.5 2819,-762.5 2819,-762.5 2819,-768.5 2813,-774.5 2807,-774.5\"/>\n<text text-anchor=\"middle\" x=\"2756.5\" y=\"-759.3\" font-family=\"Helvetica,sans-Serif\" font-size=\"14.00\" fill=\"#000000\">gini = 0.0</text>\n<text text-anchor=\"middle\" x=\"2756.5\" y=\"-744.3\" font-family=\"Helvetica,sans-Serif\" font-size=\"14.00\" fill=\"#000000\">samples = 2</text>\n<text text-anchor=\"middle\" x=\"2756.5\" y=\"-729.3\" font-family=\"Helvetica,sans-Serif\" font-size=\"14.00\" fill=\"#000000\">value = [0, 2, 0]</text>\n<text text-anchor=\"middle\" x=\"2756.5\" y=\"-714.3\" font-family=\"Helvetica,sans-Serif\" font-size=\"14.00\" fill=\"#000000\">class = GALAXY</text>\n</g>\n<!-- 110&#45;&gt;111 -->\n<g id=\"edge111\" class=\"edge\">\n<title>110&#45;&gt;111</title>\n<path fill=\"none\" stroke=\"#000000\" d=\"M2805.2686,-817.8796C2798.269,-806.7735 2790.692,-794.7513 2783.6444,-783.5691\"/>\n<polygon fill=\"#000000\" stroke=\"#000000\" points=\"2786.42,-781.4087 2778.1271,-774.8149 2780.498,-785.1411 2786.42,-781.4087\"/>\n</g>\n<!-- 112 -->\n<g id=\"node113\" class=\"node\">\n<title>112</title>\n<path fill=\"#8139e5\" stroke=\"#000000\" d=\"M2940,-774.5C2940,-774.5 2849,-774.5 2849,-774.5 2843,-774.5 2837,-768.5 2837,-762.5 2837,-762.5 2837,-718.5 2837,-718.5 2837,-712.5 2843,-706.5 2849,-706.5 2849,-706.5 2940,-706.5 2940,-706.5 2946,-706.5 2952,-712.5 2952,-718.5 2952,-718.5 2952,-762.5 2952,-762.5 2952,-768.5 2946,-774.5 2940,-774.5\"/>\n<text text-anchor=\"middle\" x=\"2894.5\" y=\"-759.3\" font-family=\"Helvetica,sans-Serif\" font-size=\"14.00\" fill=\"#000000\">gini = 0.0</text>\n<text text-anchor=\"middle\" x=\"2894.5\" y=\"-744.3\" font-family=\"Helvetica,sans-Serif\" font-size=\"14.00\" fill=\"#000000\">samples = 1</text>\n<text text-anchor=\"middle\" x=\"2894.5\" y=\"-729.3\" font-family=\"Helvetica,sans-Serif\" font-size=\"14.00\" fill=\"#000000\">value = [0, 0, 1]</text>\n<text text-anchor=\"middle\" x=\"2894.5\" y=\"-714.3\" font-family=\"Helvetica,sans-Serif\" font-size=\"14.00\" fill=\"#000000\">class = QSO</text>\n</g>\n<!-- 110&#45;&gt;112 -->\n<g id=\"edge112\" class=\"edge\">\n<title>110&#45;&gt;112</title>\n<path fill=\"none\" stroke=\"#000000\" d=\"M2853.5343,-817.8796C2859.3558,-806.8835 2865.6527,-794.9893 2871.5227,-783.9015\"/>\n<polygon fill=\"#000000\" stroke=\"#000000\" points=\"2874.7476,-785.2905 2876.3333,-774.8149 2868.5611,-782.0152 2874.7476,-785.2905\"/>\n</g>\n<!-- 114 -->\n<g id=\"node115\" class=\"node\">\n<title>114</title>\n<path fill=\"#39e581\" stroke=\"#000000\" d=\"M3083,-774.5C3083,-774.5 2982,-774.5 2982,-774.5 2976,-774.5 2970,-768.5 2970,-762.5 2970,-762.5 2970,-718.5 2970,-718.5 2970,-712.5 2976,-706.5 2982,-706.5 2982,-706.5 3083,-706.5 3083,-706.5 3089,-706.5 3095,-712.5 3095,-718.5 3095,-718.5 3095,-762.5 3095,-762.5 3095,-768.5 3089,-774.5 3083,-774.5\"/>\n<text text-anchor=\"middle\" x=\"3032.5\" y=\"-759.3\" font-family=\"Helvetica,sans-Serif\" font-size=\"14.00\" fill=\"#000000\">gini = 0.0</text>\n<text text-anchor=\"middle\" x=\"3032.5\" y=\"-744.3\" font-family=\"Helvetica,sans-Serif\" font-size=\"14.00\" fill=\"#000000\">samples = 1</text>\n<text text-anchor=\"middle\" x=\"3032.5\" y=\"-729.3\" font-family=\"Helvetica,sans-Serif\" font-size=\"14.00\" fill=\"#000000\">value = [0, 1, 0]</text>\n<text text-anchor=\"middle\" x=\"3032.5\" y=\"-714.3\" font-family=\"Helvetica,sans-Serif\" font-size=\"14.00\" fill=\"#000000\">class = GALAXY</text>\n</g>\n<!-- 113&#45;&gt;114 -->\n<g id=\"edge114\" class=\"edge\">\n<title>113&#45;&gt;114</title>\n<path fill=\"none\" stroke=\"#000000\" d=\"M3032.5,-817.8796C3032.5,-807.2134 3032.5,-795.7021 3032.5,-784.9015\"/>\n<polygon fill=\"#000000\" stroke=\"#000000\" points=\"3036.0001,-784.8149 3032.5,-774.8149 3029.0001,-784.815 3036.0001,-784.8149\"/>\n</g>\n<!-- 115 -->\n<g id=\"node116\" class=\"node\">\n<title>115</title>\n<path fill=\"#8139e5\" stroke=\"#000000\" d=\"M3224,-774.5C3224,-774.5 3125,-774.5 3125,-774.5 3119,-774.5 3113,-768.5 3113,-762.5 3113,-762.5 3113,-718.5 3113,-718.5 3113,-712.5 3119,-706.5 3125,-706.5 3125,-706.5 3224,-706.5 3224,-706.5 3230,-706.5 3236,-712.5 3236,-718.5 3236,-718.5 3236,-762.5 3236,-762.5 3236,-768.5 3230,-774.5 3224,-774.5\"/>\n<text text-anchor=\"middle\" x=\"3174.5\" y=\"-759.3\" font-family=\"Helvetica,sans-Serif\" font-size=\"14.00\" fill=\"#000000\">gini = 0.0</text>\n<text text-anchor=\"middle\" x=\"3174.5\" y=\"-744.3\" font-family=\"Helvetica,sans-Serif\" font-size=\"14.00\" fill=\"#000000\">samples = 28</text>\n<text text-anchor=\"middle\" x=\"3174.5\" y=\"-729.3\" font-family=\"Helvetica,sans-Serif\" font-size=\"14.00\" fill=\"#000000\">value = [0, 0, 28]</text>\n<text text-anchor=\"middle\" x=\"3174.5\" y=\"-714.3\" font-family=\"Helvetica,sans-Serif\" font-size=\"14.00\" fill=\"#000000\">class = QSO</text>\n</g>\n<!-- 113&#45;&gt;115 -->\n<g id=\"edge115\" class=\"edge\">\n<title>113&#45;&gt;115</title>\n<path fill=\"none\" stroke=\"#000000\" d=\"M3082.1647,-817.8796C3096.3358,-806.0038 3111.757,-793.0804 3125.8658,-781.2568\"/>\n<polygon fill=\"#000000\" stroke=\"#000000\" points=\"3128.1363,-783.9206 3133.5528,-774.8149 3123.6402,-778.5554 3128.1363,-783.9206\"/>\n</g>\n<!-- 117 -->\n<g id=\"node118\" class=\"node\">\n<title>117</title>\n<path fill=\"#d5bdf6\" stroke=\"#000000\" d=\"M3484,-1139C3484,-1139 3393,-1139 3393,-1139 3387,-1139 3381,-1133 3381,-1127 3381,-1127 3381,-1068 3381,-1068 3381,-1062 3387,-1056 3393,-1056 3393,-1056 3484,-1056 3484,-1056 3490,-1056 3496,-1062 3496,-1068 3496,-1068 3496,-1127 3496,-1127 3496,-1133 3490,-1139 3484,-1139\"/>\n<text text-anchor=\"middle\" x=\"3438.5\" y=\"-1123.8\" font-family=\"Helvetica,sans-Serif\" font-size=\"14.00\" fill=\"#000000\">X[3] &lt;= 0.879</text>\n<text text-anchor=\"middle\" x=\"3438.5\" y=\"-1108.8\" font-family=\"Helvetica,sans-Serif\" font-size=\"14.00\" fill=\"#000000\">gini = 0.48</text>\n<text text-anchor=\"middle\" x=\"3438.5\" y=\"-1093.8\" font-family=\"Helvetica,sans-Serif\" font-size=\"14.00\" fill=\"#000000\">samples = 15</text>\n<text text-anchor=\"middle\" x=\"3438.5\" y=\"-1078.8\" font-family=\"Helvetica,sans-Serif\" font-size=\"14.00\" fill=\"#000000\">value = [0, 6, 9]</text>\n<text text-anchor=\"middle\" x=\"3438.5\" y=\"-1063.8\" font-family=\"Helvetica,sans-Serif\" font-size=\"14.00\" fill=\"#000000\">class = QSO</text>\n</g>\n<!-- 116&#45;&gt;117 -->\n<g id=\"edge117\" class=\"edge\">\n<title>116&#45;&gt;117</title>\n<path fill=\"none\" stroke=\"#000000\" d=\"M3438.5,-1174.8796C3438.5,-1166.6838 3438.5,-1157.9891 3438.5,-1149.5013\"/>\n<polygon fill=\"#000000\" stroke=\"#000000\" points=\"3442.0001,-1149.298 3438.5,-1139.2981 3435.0001,-1149.2981 3442.0001,-1149.298\"/>\n</g>\n<!-- 124 -->\n<g id=\"node125\" class=\"node\">\n<title>124</title>\n<path fill=\"#833ce5\" stroke=\"#000000\" d=\"M3803,-1139C3803,-1139 3696,-1139 3696,-1139 3690,-1139 3684,-1133 3684,-1127 3684,-1127 3684,-1068 3684,-1068 3684,-1062 3690,-1056 3696,-1056 3696,-1056 3803,-1056 3803,-1056 3809,-1056 3815,-1062 3815,-1068 3815,-1068 3815,-1127 3815,-1127 3815,-1133 3809,-1139 3803,-1139\"/>\n<text text-anchor=\"middle\" x=\"3749.5\" y=\"-1123.8\" font-family=\"Helvetica,sans-Serif\" font-size=\"14.00\" fill=\"#000000\">X[8] &lt;= 0.01</text>\n<text text-anchor=\"middle\" x=\"3749.5\" y=\"-1108.8\" font-family=\"Helvetica,sans-Serif\" font-size=\"14.00\" fill=\"#000000\">gini = 0.033</text>\n<text text-anchor=\"middle\" x=\"3749.5\" y=\"-1093.8\" font-family=\"Helvetica,sans-Serif\" font-size=\"14.00\" fill=\"#000000\">samples = 534</text>\n<text text-anchor=\"middle\" x=\"3749.5\" y=\"-1078.8\" font-family=\"Helvetica,sans-Serif\" font-size=\"14.00\" fill=\"#000000\">value = [0, 9, 525]</text>\n<text text-anchor=\"middle\" x=\"3749.5\" y=\"-1063.8\" font-family=\"Helvetica,sans-Serif\" font-size=\"14.00\" fill=\"#000000\">class = QSO</text>\n</g>\n<!-- 116&#45;&gt;124 -->\n<g id=\"edge124\" class=\"edge\">\n<title>116&#45;&gt;124</title>\n<path fill=\"none\" stroke=\"#000000\" d=\"M3508.6822,-1189.6457C3557.9958,-1170.7765 3623.8898,-1145.5631 3674.2831,-1126.2807\"/>\n<polygon fill=\"#000000\" stroke=\"#000000\" points=\"3675.736,-1129.4724 3683.8248,-1122.6297 3673.2343,-1122.9346 3675.736,-1129.4724\"/>\n</g>\n<!-- 118 -->\n<g id=\"node119\" class=\"node\">\n<title>118</title>\n<path fill=\"#7beeab\" stroke=\"#000000\" d=\"M3420,-1020C3420,-1020 3319,-1020 3319,-1020 3313,-1020 3307,-1014 3307,-1008 3307,-1008 3307,-949 3307,-949 3307,-943 3313,-937 3319,-937 3319,-937 3420,-937 3420,-937 3426,-937 3432,-943 3432,-949 3432,-949 3432,-1008 3432,-1008 3432,-1014 3426,-1020 3420,-1020\"/>\n<text text-anchor=\"middle\" x=\"3369.5\" y=\"-1004.8\" font-family=\"Helvetica,sans-Serif\" font-size=\"14.00\" fill=\"#000000\">X[9] &lt;= &#45;0.176</text>\n<text text-anchor=\"middle\" x=\"3369.5\" y=\"-989.8\" font-family=\"Helvetica,sans-Serif\" font-size=\"14.00\" fill=\"#000000\">gini = 0.375</text>\n<text text-anchor=\"middle\" x=\"3369.5\" y=\"-974.8\" font-family=\"Helvetica,sans-Serif\" font-size=\"14.00\" fill=\"#000000\">samples = 8</text>\n<text text-anchor=\"middle\" x=\"3369.5\" y=\"-959.8\" font-family=\"Helvetica,sans-Serif\" font-size=\"14.00\" fill=\"#000000\">value = [0, 6, 2]</text>\n<text text-anchor=\"middle\" x=\"3369.5\" y=\"-944.8\" font-family=\"Helvetica,sans-Serif\" font-size=\"14.00\" fill=\"#000000\">class = GALAXY</text>\n</g>\n<!-- 117&#45;&gt;118 -->\n<g id=\"edge118\" class=\"edge\">\n<title>117&#45;&gt;118</title>\n<path fill=\"none\" stroke=\"#000000\" d=\"M3414.3671,-1055.8796C3409.3539,-1047.2335 3404.0187,-1038.0322 3398.8419,-1029.1042\"/>\n<polygon fill=\"#000000\" stroke=\"#000000\" points=\"3401.7798,-1027.1934 3393.7359,-1020.2981 3395.7242,-1030.7047 3401.7798,-1027.1934\"/>\n</g>\n<!-- 123 -->\n<g id=\"node124\" class=\"node\">\n<title>123</title>\n<path fill=\"#8139e5\" stroke=\"#000000\" d=\"M3553,-1012.5C3553,-1012.5 3462,-1012.5 3462,-1012.5 3456,-1012.5 3450,-1006.5 3450,-1000.5 3450,-1000.5 3450,-956.5 3450,-956.5 3450,-950.5 3456,-944.5 3462,-944.5 3462,-944.5 3553,-944.5 3553,-944.5 3559,-944.5 3565,-950.5 3565,-956.5 3565,-956.5 3565,-1000.5 3565,-1000.5 3565,-1006.5 3559,-1012.5 3553,-1012.5\"/>\n<text text-anchor=\"middle\" x=\"3507.5\" y=\"-997.3\" font-family=\"Helvetica,sans-Serif\" font-size=\"14.00\" fill=\"#000000\">gini = 0.0</text>\n<text text-anchor=\"middle\" x=\"3507.5\" y=\"-982.3\" font-family=\"Helvetica,sans-Serif\" font-size=\"14.00\" fill=\"#000000\">samples = 7</text>\n<text text-anchor=\"middle\" x=\"3507.5\" y=\"-967.3\" font-family=\"Helvetica,sans-Serif\" font-size=\"14.00\" fill=\"#000000\">value = [0, 0, 7]</text>\n<text text-anchor=\"middle\" x=\"3507.5\" y=\"-952.3\" font-family=\"Helvetica,sans-Serif\" font-size=\"14.00\" fill=\"#000000\">class = QSO</text>\n</g>\n<!-- 117&#45;&gt;123 -->\n<g id=\"edge123\" class=\"edge\">\n<title>117&#45;&gt;123</title>\n<path fill=\"none\" stroke=\"#000000\" d=\"M3462.6329,-1055.8796C3469.0725,-1044.7735 3476.0434,-1032.7513 3482.5271,-1021.5691\"/>\n<polygon fill=\"#000000\" stroke=\"#000000\" points=\"3485.6148,-1023.2215 3487.6031,-1012.8149 3479.5591,-1019.7102 3485.6148,-1023.2215\"/>\n</g>\n<!-- 119 -->\n<g id=\"node120\" class=\"node\">\n<title>119</title>\n<path fill=\"#c09cf2\" stroke=\"#000000\" d=\"M3379,-901C3379,-901 3288,-901 3288,-901 3282,-901 3276,-895 3276,-889 3276,-889 3276,-830 3276,-830 3276,-824 3282,-818 3288,-818 3288,-818 3379,-818 3379,-818 3385,-818 3391,-824 3391,-830 3391,-830 3391,-889 3391,-889 3391,-895 3385,-901 3379,-901\"/>\n<text text-anchor=\"middle\" x=\"3333.5\" y=\"-885.8\" font-family=\"Helvetica,sans-Serif\" font-size=\"14.00\" fill=\"#000000\">X[6] &lt;= 351.5</text>\n<text text-anchor=\"middle\" x=\"3333.5\" y=\"-870.8\" font-family=\"Helvetica,sans-Serif\" font-size=\"14.00\" fill=\"#000000\">gini = 0.444</text>\n<text text-anchor=\"middle\" x=\"3333.5\" y=\"-855.8\" font-family=\"Helvetica,sans-Serif\" font-size=\"14.00\" fill=\"#000000\">samples = 3</text>\n<text text-anchor=\"middle\" x=\"3333.5\" y=\"-840.8\" font-family=\"Helvetica,sans-Serif\" font-size=\"14.00\" fill=\"#000000\">value = [0, 1, 2]</text>\n<text text-anchor=\"middle\" x=\"3333.5\" y=\"-825.8\" font-family=\"Helvetica,sans-Serif\" font-size=\"14.00\" fill=\"#000000\">class = QSO</text>\n</g>\n<!-- 118&#45;&gt;119 -->\n<g id=\"edge119\" class=\"edge\">\n<title>118&#45;&gt;119</title>\n<path fill=\"none\" stroke=\"#000000\" d=\"M3356.9089,-936.8796C3354.3751,-928.5037 3351.6835,-919.6067 3349.0623,-910.942\"/>\n<polygon fill=\"#000000\" stroke=\"#000000\" points=\"3352.3905,-909.8562 3346.1448,-901.2981 3345.6904,-911.8832 3352.3905,-909.8562\"/>\n</g>\n<!-- 122 -->\n<g id=\"node123\" class=\"node\">\n<title>122</title>\n<path fill=\"#39e581\" stroke=\"#000000\" d=\"M3522,-893.5C3522,-893.5 3421,-893.5 3421,-893.5 3415,-893.5 3409,-887.5 3409,-881.5 3409,-881.5 3409,-837.5 3409,-837.5 3409,-831.5 3415,-825.5 3421,-825.5 3421,-825.5 3522,-825.5 3522,-825.5 3528,-825.5 3534,-831.5 3534,-837.5 3534,-837.5 3534,-881.5 3534,-881.5 3534,-887.5 3528,-893.5 3522,-893.5\"/>\n<text text-anchor=\"middle\" x=\"3471.5\" y=\"-878.3\" font-family=\"Helvetica,sans-Serif\" font-size=\"14.00\" fill=\"#000000\">gini = 0.0</text>\n<text text-anchor=\"middle\" x=\"3471.5\" y=\"-863.3\" font-family=\"Helvetica,sans-Serif\" font-size=\"14.00\" fill=\"#000000\">samples = 5</text>\n<text text-anchor=\"middle\" x=\"3471.5\" y=\"-848.3\" font-family=\"Helvetica,sans-Serif\" font-size=\"14.00\" fill=\"#000000\">value = [0, 5, 0]</text>\n<text text-anchor=\"middle\" x=\"3471.5\" y=\"-833.3\" font-family=\"Helvetica,sans-Serif\" font-size=\"14.00\" fill=\"#000000\">class = GALAXY</text>\n</g>\n<!-- 118&#45;&gt;122 -->\n<g id=\"edge122\" class=\"edge\">\n<title>118&#45;&gt;122</title>\n<path fill=\"none\" stroke=\"#000000\" d=\"M3405.1747,-936.8796C3414.9769,-925.4436 3425.6118,-913.0363 3435.4357,-901.575\"/>\n<polygon fill=\"#000000\" stroke=\"#000000\" points=\"3438.2367,-903.6853 3442.0872,-893.8149 3432.9218,-899.1297 3438.2367,-903.6853\"/>\n</g>\n<!-- 120 -->\n<g id=\"node121\" class=\"node\">\n<title>120</title>\n<path fill=\"#39e581\" stroke=\"#000000\" d=\"M3367,-774.5C3367,-774.5 3266,-774.5 3266,-774.5 3260,-774.5 3254,-768.5 3254,-762.5 3254,-762.5 3254,-718.5 3254,-718.5 3254,-712.5 3260,-706.5 3266,-706.5 3266,-706.5 3367,-706.5 3367,-706.5 3373,-706.5 3379,-712.5 3379,-718.5 3379,-718.5 3379,-762.5 3379,-762.5 3379,-768.5 3373,-774.5 3367,-774.5\"/>\n<text text-anchor=\"middle\" x=\"3316.5\" y=\"-759.3\" font-family=\"Helvetica,sans-Serif\" font-size=\"14.00\" fill=\"#000000\">gini = 0.0</text>\n<text text-anchor=\"middle\" x=\"3316.5\" y=\"-744.3\" font-family=\"Helvetica,sans-Serif\" font-size=\"14.00\" fill=\"#000000\">samples = 1</text>\n<text text-anchor=\"middle\" x=\"3316.5\" y=\"-729.3\" font-family=\"Helvetica,sans-Serif\" font-size=\"14.00\" fill=\"#000000\">value = [0, 1, 0]</text>\n<text text-anchor=\"middle\" x=\"3316.5\" y=\"-714.3\" font-family=\"Helvetica,sans-Serif\" font-size=\"14.00\" fill=\"#000000\">class = GALAXY</text>\n</g>\n<!-- 119&#45;&gt;120 -->\n<g id=\"edge120\" class=\"edge\">\n<title>119&#45;&gt;120</title>\n<path fill=\"none\" stroke=\"#000000\" d=\"M3327.5542,-817.8796C3326.0305,-807.2134 3324.386,-795.7021 3322.8431,-784.9015\"/>\n<polygon fill=\"#000000\" stroke=\"#000000\" points=\"3326.2813,-784.2194 3321.4021,-774.8149 3319.3516,-785.2094 3326.2813,-784.2194\"/>\n</g>\n<!-- 121 -->\n<g id=\"node122\" class=\"node\">\n<title>121</title>\n<path fill=\"#8139e5\" stroke=\"#000000\" d=\"M3500,-774.5C3500,-774.5 3409,-774.5 3409,-774.5 3403,-774.5 3397,-768.5 3397,-762.5 3397,-762.5 3397,-718.5 3397,-718.5 3397,-712.5 3403,-706.5 3409,-706.5 3409,-706.5 3500,-706.5 3500,-706.5 3506,-706.5 3512,-712.5 3512,-718.5 3512,-718.5 3512,-762.5 3512,-762.5 3512,-768.5 3506,-774.5 3500,-774.5\"/>\n<text text-anchor=\"middle\" x=\"3454.5\" y=\"-759.3\" font-family=\"Helvetica,sans-Serif\" font-size=\"14.00\" fill=\"#000000\">gini = 0.0</text>\n<text text-anchor=\"middle\" x=\"3454.5\" y=\"-744.3\" font-family=\"Helvetica,sans-Serif\" font-size=\"14.00\" fill=\"#000000\">samples = 2</text>\n<text text-anchor=\"middle\" x=\"3454.5\" y=\"-729.3\" font-family=\"Helvetica,sans-Serif\" font-size=\"14.00\" fill=\"#000000\">value = [0, 0, 2]</text>\n<text text-anchor=\"middle\" x=\"3454.5\" y=\"-714.3\" font-family=\"Helvetica,sans-Serif\" font-size=\"14.00\" fill=\"#000000\">class = QSO</text>\n</g>\n<!-- 119&#45;&gt;121 -->\n<g id=\"edge121\" class=\"edge\">\n<title>119&#45;&gt;121</title>\n<path fill=\"none\" stroke=\"#000000\" d=\"M3375.8199,-817.8796C3387.6717,-806.2237 3400.5495,-793.5587 3412.3891,-781.9148\"/>\n<polygon fill=\"#000000\" stroke=\"#000000\" points=\"3414.9327,-784.3223 3419.6083,-774.8149 3410.0244,-779.3314 3414.9327,-784.3223\"/>\n</g>\n<!-- 125 -->\n<g id=\"node126\" class=\"node\">\n<title>125</title>\n<path fill=\"#ba93f1\" stroke=\"#000000\" d=\"M3799,-1020C3799,-1020 3700,-1020 3700,-1020 3694,-1020 3688,-1014 3688,-1008 3688,-1008 3688,-949 3688,-949 3688,-943 3694,-937 3700,-937 3700,-937 3799,-937 3799,-937 3805,-937 3811,-943 3811,-949 3811,-949 3811,-1008 3811,-1008 3811,-1014 3805,-1020 3799,-1020\"/>\n<text text-anchor=\"middle\" x=\"3749.5\" y=\"-1004.8\" font-family=\"Helvetica,sans-Serif\" font-size=\"14.00\" fill=\"#000000\">X[9] &lt;= 0.394</text>\n<text text-anchor=\"middle\" x=\"3749.5\" y=\"-989.8\" font-family=\"Helvetica,sans-Serif\" font-size=\"14.00\" fill=\"#000000\">gini = 0.43</text>\n<text text-anchor=\"middle\" x=\"3749.5\" y=\"-974.8\" font-family=\"Helvetica,sans-Serif\" font-size=\"14.00\" fill=\"#000000\">samples = 16</text>\n<text text-anchor=\"middle\" x=\"3749.5\" y=\"-959.8\" font-family=\"Helvetica,sans-Serif\" font-size=\"14.00\" fill=\"#000000\">value = [0, 5, 11]</text>\n<text text-anchor=\"middle\" x=\"3749.5\" y=\"-944.8\" font-family=\"Helvetica,sans-Serif\" font-size=\"14.00\" fill=\"#000000\">class = QSO</text>\n</g>\n<!-- 124&#45;&gt;125 -->\n<g id=\"edge125\" class=\"edge\">\n<title>124&#45;&gt;125</title>\n<path fill=\"none\" stroke=\"#000000\" d=\"M3749.5,-1055.8796C3749.5,-1047.6838 3749.5,-1038.9891 3749.5,-1030.5013\"/>\n<polygon fill=\"#000000\" stroke=\"#000000\" points=\"3753.0001,-1030.298 3749.5,-1020.2981 3746.0001,-1030.2981 3753.0001,-1030.298\"/>\n</g>\n<!-- 132 -->\n<g id=\"node133\" class=\"node\">\n<title>132</title>\n<path fill=\"#823be5\" stroke=\"#000000\" d=\"M4047,-1020C4047,-1020 3940,-1020 3940,-1020 3934,-1020 3928,-1014 3928,-1008 3928,-1008 3928,-949 3928,-949 3928,-943 3934,-937 3940,-937 3940,-937 4047,-937 4047,-937 4053,-937 4059,-943 4059,-949 4059,-949 4059,-1008 4059,-1008 4059,-1014 4053,-1020 4047,-1020\"/>\n<text text-anchor=\"middle\" x=\"3993.5\" y=\"-1004.8\" font-family=\"Helvetica,sans-Serif\" font-size=\"14.00\" fill=\"#000000\">X[9] &lt;= 0.956</text>\n<text text-anchor=\"middle\" x=\"3993.5\" y=\"-989.8\" font-family=\"Helvetica,sans-Serif\" font-size=\"14.00\" fill=\"#000000\">gini = 0.015</text>\n<text text-anchor=\"middle\" x=\"3993.5\" y=\"-974.8\" font-family=\"Helvetica,sans-Serif\" font-size=\"14.00\" fill=\"#000000\">samples = 518</text>\n<text text-anchor=\"middle\" x=\"3993.5\" y=\"-959.8\" font-family=\"Helvetica,sans-Serif\" font-size=\"14.00\" fill=\"#000000\">value = [0, 4, 514]</text>\n<text text-anchor=\"middle\" x=\"3993.5\" y=\"-944.8\" font-family=\"Helvetica,sans-Serif\" font-size=\"14.00\" fill=\"#000000\">class = QSO</text>\n</g>\n<!-- 124&#45;&gt;132 -->\n<g id=\"edge132\" class=\"edge\">\n<title>124&#45;&gt;132</title>\n<path fill=\"none\" stroke=\"#000000\" d=\"M3815.2085,-1065.4536C3847.0766,-1049.9114 3885.5079,-1031.1683 3918.5175,-1015.0693\"/>\n<polygon fill=\"#000000\" stroke=\"#000000\" points=\"3920.2204,-1018.133 3927.6742,-1010.6036 3917.1519,-1011.8413 3920.2204,-1018.133\"/>\n</g>\n<!-- 126 -->\n<g id=\"node127\" class=\"node\">\n<title>126</title>\n<path fill=\"#d7fae6\" stroke=\"#000000\" d=\"M3731,-901C3731,-901 3630,-901 3630,-901 3624,-901 3618,-895 3618,-889 3618,-889 3618,-830 3618,-830 3618,-824 3624,-818 3630,-818 3630,-818 3731,-818 3731,-818 3737,-818 3743,-824 3743,-830 3743,-830 3743,-889 3743,-889 3743,-895 3737,-901 3731,-901\"/>\n<text text-anchor=\"middle\" x=\"3680.5\" y=\"-885.8\" font-family=\"Helvetica,sans-Serif\" font-size=\"14.00\" fill=\"#000000\">X[1] &lt;= 0.587</text>\n<text text-anchor=\"middle\" x=\"3680.5\" y=\"-870.8\" font-family=\"Helvetica,sans-Serif\" font-size=\"14.00\" fill=\"#000000\">gini = 0.494</text>\n<text text-anchor=\"middle\" x=\"3680.5\" y=\"-855.8\" font-family=\"Helvetica,sans-Serif\" font-size=\"14.00\" fill=\"#000000\">samples = 9</text>\n<text text-anchor=\"middle\" x=\"3680.5\" y=\"-840.8\" font-family=\"Helvetica,sans-Serif\" font-size=\"14.00\" fill=\"#000000\">value = [0, 5, 4]</text>\n<text text-anchor=\"middle\" x=\"3680.5\" y=\"-825.8\" font-family=\"Helvetica,sans-Serif\" font-size=\"14.00\" fill=\"#000000\">class = GALAXY</text>\n</g>\n<!-- 125&#45;&gt;126 -->\n<g id=\"edge126\" class=\"edge\">\n<title>125&#45;&gt;126</title>\n<path fill=\"none\" stroke=\"#000000\" d=\"M3725.3671,-936.8796C3720.3539,-928.2335 3715.0187,-919.0322 3709.8419,-910.1042\"/>\n<polygon fill=\"#000000\" stroke=\"#000000\" points=\"3712.7798,-908.1934 3704.7359,-901.2981 3706.7242,-911.7047 3712.7798,-908.1934\"/>\n</g>\n<!-- 131 -->\n<g id=\"node132\" class=\"node\">\n<title>131</title>\n<path fill=\"#8139e5\" stroke=\"#000000\" d=\"M3864,-893.5C3864,-893.5 3773,-893.5 3773,-893.5 3767,-893.5 3761,-887.5 3761,-881.5 3761,-881.5 3761,-837.5 3761,-837.5 3761,-831.5 3767,-825.5 3773,-825.5 3773,-825.5 3864,-825.5 3864,-825.5 3870,-825.5 3876,-831.5 3876,-837.5 3876,-837.5 3876,-881.5 3876,-881.5 3876,-887.5 3870,-893.5 3864,-893.5\"/>\n<text text-anchor=\"middle\" x=\"3818.5\" y=\"-878.3\" font-family=\"Helvetica,sans-Serif\" font-size=\"14.00\" fill=\"#000000\">gini = 0.0</text>\n<text text-anchor=\"middle\" x=\"3818.5\" y=\"-863.3\" font-family=\"Helvetica,sans-Serif\" font-size=\"14.00\" fill=\"#000000\">samples = 7</text>\n<text text-anchor=\"middle\" x=\"3818.5\" y=\"-848.3\" font-family=\"Helvetica,sans-Serif\" font-size=\"14.00\" fill=\"#000000\">value = [0, 0, 7]</text>\n<text text-anchor=\"middle\" x=\"3818.5\" y=\"-833.3\" font-family=\"Helvetica,sans-Serif\" font-size=\"14.00\" fill=\"#000000\">class = QSO</text>\n</g>\n<!-- 125&#45;&gt;131 -->\n<g id=\"edge131\" class=\"edge\">\n<title>125&#45;&gt;131</title>\n<path fill=\"none\" stroke=\"#000000\" d=\"M3773.6329,-936.8796C3780.0725,-925.7735 3787.0434,-913.7513 3793.5271,-902.5691\"/>\n<polygon fill=\"#000000\" stroke=\"#000000\" points=\"3796.6148,-904.2215 3798.6031,-893.8149 3790.5591,-900.7102 3796.6148,-904.2215\"/>\n</g>\n<!-- 127 -->\n<g id=\"node128\" class=\"node\">\n<title>127</title>\n<path fill=\"#39e581\" stroke=\"#000000\" d=\"M3643,-774.5C3643,-774.5 3542,-774.5 3542,-774.5 3536,-774.5 3530,-768.5 3530,-762.5 3530,-762.5 3530,-718.5 3530,-718.5 3530,-712.5 3536,-706.5 3542,-706.5 3542,-706.5 3643,-706.5 3643,-706.5 3649,-706.5 3655,-712.5 3655,-718.5 3655,-718.5 3655,-762.5 3655,-762.5 3655,-768.5 3649,-774.5 3643,-774.5\"/>\n<text text-anchor=\"middle\" x=\"3592.5\" y=\"-759.3\" font-family=\"Helvetica,sans-Serif\" font-size=\"14.00\" fill=\"#000000\">gini = 0.0</text>\n<text text-anchor=\"middle\" x=\"3592.5\" y=\"-744.3\" font-family=\"Helvetica,sans-Serif\" font-size=\"14.00\" fill=\"#000000\">samples = 4</text>\n<text text-anchor=\"middle\" x=\"3592.5\" y=\"-729.3\" font-family=\"Helvetica,sans-Serif\" font-size=\"14.00\" fill=\"#000000\">value = [0, 4, 0]</text>\n<text text-anchor=\"middle\" x=\"3592.5\" y=\"-714.3\" font-family=\"Helvetica,sans-Serif\" font-size=\"14.00\" fill=\"#000000\">class = GALAXY</text>\n</g>\n<!-- 126&#45;&gt;127 -->\n<g id=\"edge127\" class=\"edge\">\n<title>126&#45;&gt;127</title>\n<path fill=\"none\" stroke=\"#000000\" d=\"M3649.7219,-817.8796C3641.3464,-806.5536 3632.2662,-794.2748 3623.8589,-782.9058\"/>\n<polygon fill=\"#000000\" stroke=\"#000000\" points=\"3626.6357,-780.7743 3617.8758,-774.8149 3621.0075,-784.9364 3626.6357,-780.7743\"/>\n</g>\n<!-- 128 -->\n<g id=\"node129\" class=\"node\">\n<title>128</title>\n<path fill=\"#a06aec\" stroke=\"#000000\" d=\"M3776,-782C3776,-782 3685,-782 3685,-782 3679,-782 3673,-776 3673,-770 3673,-770 3673,-711 3673,-711 3673,-705 3679,-699 3685,-699 3685,-699 3776,-699 3776,-699 3782,-699 3788,-705 3788,-711 3788,-711 3788,-770 3788,-770 3788,-776 3782,-782 3776,-782\"/>\n<text text-anchor=\"middle\" x=\"3730.5\" y=\"-766.8\" font-family=\"Helvetica,sans-Serif\" font-size=\"14.00\" fill=\"#000000\">X[1] &lt;= 55.08</text>\n<text text-anchor=\"middle\" x=\"3730.5\" y=\"-751.8\" font-family=\"Helvetica,sans-Serif\" font-size=\"14.00\" fill=\"#000000\">gini = 0.32</text>\n<text text-anchor=\"middle\" x=\"3730.5\" y=\"-736.8\" font-family=\"Helvetica,sans-Serif\" font-size=\"14.00\" fill=\"#000000\">samples = 5</text>\n<text text-anchor=\"middle\" x=\"3730.5\" y=\"-721.8\" font-family=\"Helvetica,sans-Serif\" font-size=\"14.00\" fill=\"#000000\">value = [0, 1, 4]</text>\n<text text-anchor=\"middle\" x=\"3730.5\" y=\"-706.8\" font-family=\"Helvetica,sans-Serif\" font-size=\"14.00\" fill=\"#000000\">class = QSO</text>\n</g>\n<!-- 126&#45;&gt;128 -->\n<g id=\"edge128\" class=\"edge\">\n<title>126&#45;&gt;128</title>\n<path fill=\"none\" stroke=\"#000000\" d=\"M3697.9876,-817.8796C3701.5447,-809.4136 3705.3255,-800.4153 3709.0031,-791.6626\"/>\n<polygon fill=\"#000000\" stroke=\"#000000\" points=\"3712.2908,-792.8731 3712.9378,-782.2981 3705.8373,-790.1616 3712.2908,-792.8731\"/>\n</g>\n<!-- 129 -->\n<g id=\"node130\" class=\"node\">\n<title>129</title>\n<path fill=\"#8139e5\" stroke=\"#000000\" d=\"M3638,-655.5C3638,-655.5 3547,-655.5 3547,-655.5 3541,-655.5 3535,-649.5 3535,-643.5 3535,-643.5 3535,-599.5 3535,-599.5 3535,-593.5 3541,-587.5 3547,-587.5 3547,-587.5 3638,-587.5 3638,-587.5 3644,-587.5 3650,-593.5 3650,-599.5 3650,-599.5 3650,-643.5 3650,-643.5 3650,-649.5 3644,-655.5 3638,-655.5\"/>\n<text text-anchor=\"middle\" x=\"3592.5\" y=\"-640.3\" font-family=\"Helvetica,sans-Serif\" font-size=\"14.00\" fill=\"#000000\">gini = 0.0</text>\n<text text-anchor=\"middle\" x=\"3592.5\" y=\"-625.3\" font-family=\"Helvetica,sans-Serif\" font-size=\"14.00\" fill=\"#000000\">samples = 4</text>\n<text text-anchor=\"middle\" x=\"3592.5\" y=\"-610.3\" font-family=\"Helvetica,sans-Serif\" font-size=\"14.00\" fill=\"#000000\">value = [0, 0, 4]</text>\n<text text-anchor=\"middle\" x=\"3592.5\" y=\"-595.3\" font-family=\"Helvetica,sans-Serif\" font-size=\"14.00\" fill=\"#000000\">class = QSO</text>\n</g>\n<!-- 128&#45;&gt;129 -->\n<g id=\"edge129\" class=\"edge\">\n<title>128&#45;&gt;129</title>\n<path fill=\"none\" stroke=\"#000000\" d=\"M3682.2343,-698.8796C3668.5899,-687.1138 3653.7531,-674.3197 3640.1454,-662.5855\"/>\n<polygon fill=\"#000000\" stroke=\"#000000\" points=\"3642.1527,-659.6948 3632.2938,-655.8149 3637.5813,-664.9961 3642.1527,-659.6948\"/>\n</g>\n<!-- 130 -->\n<g id=\"node131\" class=\"node\">\n<title>130</title>\n<path fill=\"#39e581\" stroke=\"#000000\" d=\"M3781,-655.5C3781,-655.5 3680,-655.5 3680,-655.5 3674,-655.5 3668,-649.5 3668,-643.5 3668,-643.5 3668,-599.5 3668,-599.5 3668,-593.5 3674,-587.5 3680,-587.5 3680,-587.5 3781,-587.5 3781,-587.5 3787,-587.5 3793,-593.5 3793,-599.5 3793,-599.5 3793,-643.5 3793,-643.5 3793,-649.5 3787,-655.5 3781,-655.5\"/>\n<text text-anchor=\"middle\" x=\"3730.5\" y=\"-640.3\" font-family=\"Helvetica,sans-Serif\" font-size=\"14.00\" fill=\"#000000\">gini = 0.0</text>\n<text text-anchor=\"middle\" x=\"3730.5\" y=\"-625.3\" font-family=\"Helvetica,sans-Serif\" font-size=\"14.00\" fill=\"#000000\">samples = 1</text>\n<text text-anchor=\"middle\" x=\"3730.5\" y=\"-610.3\" font-family=\"Helvetica,sans-Serif\" font-size=\"14.00\" fill=\"#000000\">value = [0, 1, 0]</text>\n<text text-anchor=\"middle\" x=\"3730.5\" y=\"-595.3\" font-family=\"Helvetica,sans-Serif\" font-size=\"14.00\" fill=\"#000000\">class = GALAXY</text>\n</g>\n<!-- 128&#45;&gt;130 -->\n<g id=\"edge130\" class=\"edge\">\n<title>128&#45;&gt;130</title>\n<path fill=\"none\" stroke=\"#000000\" d=\"M3730.5,-698.8796C3730.5,-688.2134 3730.5,-676.7021 3730.5,-665.9015\"/>\n<polygon fill=\"#000000\" stroke=\"#000000\" points=\"3734.0001,-665.8149 3730.5,-655.8149 3727.0001,-665.815 3734.0001,-665.8149\"/>\n</g>\n<!-- 133 -->\n<g id=\"node134\" class=\"node\">\n<title>133</title>\n<path fill=\"#823ae5\" stroke=\"#000000\" d=\"M4047,-901C4047,-901 3940,-901 3940,-901 3934,-901 3928,-895 3928,-889 3928,-889 3928,-830 3928,-830 3928,-824 3934,-818 3940,-818 3940,-818 4047,-818 4047,-818 4053,-818 4059,-824 4059,-830 4059,-830 4059,-889 4059,-889 4059,-895 4053,-901 4047,-901\"/>\n<text text-anchor=\"middle\" x=\"3993.5\" y=\"-885.8\" font-family=\"Helvetica,sans-Serif\" font-size=\"14.00\" fill=\"#000000\">X[7] &lt;= 0.325</text>\n<text text-anchor=\"middle\" x=\"3993.5\" y=\"-870.8\" font-family=\"Helvetica,sans-Serif\" font-size=\"14.00\" fill=\"#000000\">gini = 0.012</text>\n<text text-anchor=\"middle\" x=\"3993.5\" y=\"-855.8\" font-family=\"Helvetica,sans-Serif\" font-size=\"14.00\" fill=\"#000000\">samples = 517</text>\n<text text-anchor=\"middle\" x=\"3993.5\" y=\"-840.8\" font-family=\"Helvetica,sans-Serif\" font-size=\"14.00\" fill=\"#000000\">value = [0, 3, 514]</text>\n<text text-anchor=\"middle\" x=\"3993.5\" y=\"-825.8\" font-family=\"Helvetica,sans-Serif\" font-size=\"14.00\" fill=\"#000000\">class = QSO</text>\n</g>\n<!-- 132&#45;&gt;133 -->\n<g id=\"edge133\" class=\"edge\">\n<title>132&#45;&gt;133</title>\n<path fill=\"none\" stroke=\"#000000\" d=\"M3993.5,-936.8796C3993.5,-928.6838 3993.5,-919.9891 3993.5,-911.5013\"/>\n<polygon fill=\"#000000\" stroke=\"#000000\" points=\"3997.0001,-911.298 3993.5,-901.2981 3990.0001,-911.2981 3997.0001,-911.298\"/>\n</g>\n<!-- 142 -->\n<g id=\"node143\" class=\"node\">\n<title>142</title>\n<path fill=\"#39e581\" stroke=\"#000000\" d=\"M4190,-893.5C4190,-893.5 4089,-893.5 4089,-893.5 4083,-893.5 4077,-887.5 4077,-881.5 4077,-881.5 4077,-837.5 4077,-837.5 4077,-831.5 4083,-825.5 4089,-825.5 4089,-825.5 4190,-825.5 4190,-825.5 4196,-825.5 4202,-831.5 4202,-837.5 4202,-837.5 4202,-881.5 4202,-881.5 4202,-887.5 4196,-893.5 4190,-893.5\"/>\n<text text-anchor=\"middle\" x=\"4139.5\" y=\"-878.3\" font-family=\"Helvetica,sans-Serif\" font-size=\"14.00\" fill=\"#000000\">gini = 0.0</text>\n<text text-anchor=\"middle\" x=\"4139.5\" y=\"-863.3\" font-family=\"Helvetica,sans-Serif\" font-size=\"14.00\" fill=\"#000000\">samples = 1</text>\n<text text-anchor=\"middle\" x=\"4139.5\" y=\"-848.3\" font-family=\"Helvetica,sans-Serif\" font-size=\"14.00\" fill=\"#000000\">value = [0, 1, 0]</text>\n<text text-anchor=\"middle\" x=\"4139.5\" y=\"-833.3\" font-family=\"Helvetica,sans-Serif\" font-size=\"14.00\" fill=\"#000000\">class = GALAXY</text>\n</g>\n<!-- 132&#45;&gt;142 -->\n<g id=\"edge142\" class=\"edge\">\n<title>132&#45;&gt;142</title>\n<path fill=\"none\" stroke=\"#000000\" d=\"M4044.5637,-936.8796C4059.134,-925.0038 4074.9896,-912.0804 4089.4958,-900.2568\"/>\n<polygon fill=\"#000000\" stroke=\"#000000\" points=\"4091.8592,-902.8459 4097.3993,-893.8149 4087.4366,-897.4199 4091.8592,-902.8459\"/>\n</g>\n<!-- 134 -->\n<g id=\"node135\" class=\"node\">\n<title>134</title>\n<path fill=\"#985dea\" stroke=\"#000000\" d=\"M4043,-782C4043,-782 3944,-782 3944,-782 3938,-782 3932,-776 3932,-770 3932,-770 3932,-711 3932,-711 3932,-705 3938,-699 3944,-699 3944,-699 4043,-699 4043,-699 4049,-699 4055,-705 4055,-711 4055,-711 4055,-770 4055,-770 4055,-776 4049,-782 4043,-782\"/>\n<text text-anchor=\"middle\" x=\"3993.5\" y=\"-766.8\" font-family=\"Helvetica,sans-Serif\" font-size=\"14.00\" fill=\"#000000\">X[8] &lt;= 0.949</text>\n<text text-anchor=\"middle\" x=\"3993.5\" y=\"-751.8\" font-family=\"Helvetica,sans-Serif\" font-size=\"14.00\" fill=\"#000000\">gini = 0.26</text>\n<text text-anchor=\"middle\" x=\"3993.5\" y=\"-736.8\" font-family=\"Helvetica,sans-Serif\" font-size=\"14.00\" fill=\"#000000\">samples = 13</text>\n<text text-anchor=\"middle\" x=\"3993.5\" y=\"-721.8\" font-family=\"Helvetica,sans-Serif\" font-size=\"14.00\" fill=\"#000000\">value = [0, 2, 11]</text>\n<text text-anchor=\"middle\" x=\"3993.5\" y=\"-706.8\" font-family=\"Helvetica,sans-Serif\" font-size=\"14.00\" fill=\"#000000\">class = QSO</text>\n</g>\n<!-- 133&#45;&gt;134 -->\n<g id=\"edge134\" class=\"edge\">\n<title>133&#45;&gt;134</title>\n<path fill=\"none\" stroke=\"#000000\" d=\"M3993.5,-817.8796C3993.5,-809.6838 3993.5,-800.9891 3993.5,-792.5013\"/>\n<polygon fill=\"#000000\" stroke=\"#000000\" points=\"3997.0001,-792.298 3993.5,-782.2981 3990.0001,-792.2981 3997.0001,-792.298\"/>\n</g>\n<!-- 137 -->\n<g id=\"node138\" class=\"node\">\n<title>137</title>\n<path fill=\"#8139e5\" stroke=\"#000000\" d=\"M4210,-782C4210,-782 4103,-782 4103,-782 4097,-782 4091,-776 4091,-770 4091,-770 4091,-711 4091,-711 4091,-705 4097,-699 4103,-699 4103,-699 4210,-699 4210,-699 4216,-699 4222,-705 4222,-711 4222,-711 4222,-770 4222,-770 4222,-776 4216,-782 4210,-782\"/>\n<text text-anchor=\"middle\" x=\"4156.5\" y=\"-766.8\" font-family=\"Helvetica,sans-Serif\" font-size=\"14.00\" fill=\"#000000\">X[6] &lt;= 25.5</text>\n<text text-anchor=\"middle\" x=\"4156.5\" y=\"-751.8\" font-family=\"Helvetica,sans-Serif\" font-size=\"14.00\" fill=\"#000000\">gini = 0.004</text>\n<text text-anchor=\"middle\" x=\"4156.5\" y=\"-736.8\" font-family=\"Helvetica,sans-Serif\" font-size=\"14.00\" fill=\"#000000\">samples = 504</text>\n<text text-anchor=\"middle\" x=\"4156.5\" y=\"-721.8\" font-family=\"Helvetica,sans-Serif\" font-size=\"14.00\" fill=\"#000000\">value = [0, 1, 503]</text>\n<text text-anchor=\"middle\" x=\"4156.5\" y=\"-706.8\" font-family=\"Helvetica,sans-Serif\" font-size=\"14.00\" fill=\"#000000\">class = QSO</text>\n</g>\n<!-- 133&#45;&gt;137 -->\n<g id=\"edge137\" class=\"edge\">\n<title>133&#45;&gt;137</title>\n<path fill=\"none\" stroke=\"#000000\" d=\"M4050.5095,-817.8796C4063.6621,-808.2774 4077.7528,-797.9903 4091.2268,-788.1534\"/>\n<polygon fill=\"#000000\" stroke=\"#000000\" points=\"4093.5098,-790.8202 4099.5227,-782.0969 4089.3823,-785.1666 4093.5098,-790.8202\"/>\n</g>\n<!-- 135 -->\n<g id=\"node136\" class=\"node\">\n<title>135</title>\n<path fill=\"#39e581\" stroke=\"#000000\" d=\"M3924,-655.5C3924,-655.5 3823,-655.5 3823,-655.5 3817,-655.5 3811,-649.5 3811,-643.5 3811,-643.5 3811,-599.5 3811,-599.5 3811,-593.5 3817,-587.5 3823,-587.5 3823,-587.5 3924,-587.5 3924,-587.5 3930,-587.5 3936,-593.5 3936,-599.5 3936,-599.5 3936,-643.5 3936,-643.5 3936,-649.5 3930,-655.5 3924,-655.5\"/>\n<text text-anchor=\"middle\" x=\"3873.5\" y=\"-640.3\" font-family=\"Helvetica,sans-Serif\" font-size=\"14.00\" fill=\"#000000\">gini = 0.0</text>\n<text text-anchor=\"middle\" x=\"3873.5\" y=\"-625.3\" font-family=\"Helvetica,sans-Serif\" font-size=\"14.00\" fill=\"#000000\">samples = 2</text>\n<text text-anchor=\"middle\" x=\"3873.5\" y=\"-610.3\" font-family=\"Helvetica,sans-Serif\" font-size=\"14.00\" fill=\"#000000\">value = [0, 2, 0]</text>\n<text text-anchor=\"middle\" x=\"3873.5\" y=\"-595.3\" font-family=\"Helvetica,sans-Serif\" font-size=\"14.00\" fill=\"#000000\">class = GALAXY</text>\n</g>\n<!-- 134&#45;&gt;135 -->\n<g id=\"edge135\" class=\"edge\">\n<title>134&#45;&gt;135</title>\n<path fill=\"none\" stroke=\"#000000\" d=\"M3951.5298,-698.8796C3939.776,-687.2237 3927.0046,-674.5587 3915.2628,-662.9148\"/>\n<polygon fill=\"#000000\" stroke=\"#000000\" points=\"3917.6684,-660.3712 3908.1033,-655.8149 3912.7394,-665.3416 3917.6684,-660.3712\"/>\n</g>\n<!-- 136 -->\n<g id=\"node137\" class=\"node\">\n<title>136</title>\n<path fill=\"#8139e5\" stroke=\"#000000\" d=\"M4065,-655.5C4065,-655.5 3966,-655.5 3966,-655.5 3960,-655.5 3954,-649.5 3954,-643.5 3954,-643.5 3954,-599.5 3954,-599.5 3954,-593.5 3960,-587.5 3966,-587.5 3966,-587.5 4065,-587.5 4065,-587.5 4071,-587.5 4077,-593.5 4077,-599.5 4077,-599.5 4077,-643.5 4077,-643.5 4077,-649.5 4071,-655.5 4065,-655.5\"/>\n<text text-anchor=\"middle\" x=\"4015.5\" y=\"-640.3\" font-family=\"Helvetica,sans-Serif\" font-size=\"14.00\" fill=\"#000000\">gini = 0.0</text>\n<text text-anchor=\"middle\" x=\"4015.5\" y=\"-625.3\" font-family=\"Helvetica,sans-Serif\" font-size=\"14.00\" fill=\"#000000\">samples = 11</text>\n<text text-anchor=\"middle\" x=\"4015.5\" y=\"-610.3\" font-family=\"Helvetica,sans-Serif\" font-size=\"14.00\" fill=\"#000000\">value = [0, 0, 11]</text>\n<text text-anchor=\"middle\" x=\"4015.5\" y=\"-595.3\" font-family=\"Helvetica,sans-Serif\" font-size=\"14.00\" fill=\"#000000\">class = QSO</text>\n</g>\n<!-- 134&#45;&gt;136 -->\n<g id=\"edge136\" class=\"edge\">\n<title>134&#45;&gt;136</title>\n<path fill=\"none\" stroke=\"#000000\" d=\"M4001.1945,-698.8796C4003.1664,-688.2134 4005.2946,-676.7021 4007.2913,-665.9015\"/>\n<polygon fill=\"#000000\" stroke=\"#000000\" points=\"4010.7797,-666.2846 4009.1561,-655.8149 4003.8964,-665.012 4010.7797,-666.2846\"/>\n</g>\n<!-- 138 -->\n<g id=\"node139\" class=\"node\">\n<title>138</title>\n<path fill=\"#8946e7\" stroke=\"#000000\" d=\"M4206,-663C4206,-663 4107,-663 4107,-663 4101,-663 4095,-657 4095,-651 4095,-651 4095,-592 4095,-592 4095,-586 4101,-580 4107,-580 4107,-580 4206,-580 4206,-580 4212,-580 4218,-586 4218,-592 4218,-592 4218,-651 4218,-651 4218,-657 4212,-663 4206,-663\"/>\n<text text-anchor=\"middle\" x=\"4156.5\" y=\"-647.8\" font-family=\"Helvetica,sans-Serif\" font-size=\"14.00\" fill=\"#000000\">X[6] &lt;= 24.5</text>\n<text text-anchor=\"middle\" x=\"4156.5\" y=\"-632.8\" font-family=\"Helvetica,sans-Serif\" font-size=\"14.00\" fill=\"#000000\">gini = 0.117</text>\n<text text-anchor=\"middle\" x=\"4156.5\" y=\"-617.8\" font-family=\"Helvetica,sans-Serif\" font-size=\"14.00\" fill=\"#000000\">samples = 16</text>\n<text text-anchor=\"middle\" x=\"4156.5\" y=\"-602.8\" font-family=\"Helvetica,sans-Serif\" font-size=\"14.00\" fill=\"#000000\">value = [0, 1, 15]</text>\n<text text-anchor=\"middle\" x=\"4156.5\" y=\"-587.8\" font-family=\"Helvetica,sans-Serif\" font-size=\"14.00\" fill=\"#000000\">class = QSO</text>\n</g>\n<!-- 137&#45;&gt;138 -->\n<g id=\"edge138\" class=\"edge\">\n<title>137&#45;&gt;138</title>\n<path fill=\"none\" stroke=\"#000000\" d=\"M4156.5,-698.8796C4156.5,-690.6838 4156.5,-681.9891 4156.5,-673.5013\"/>\n<polygon fill=\"#000000\" stroke=\"#000000\" points=\"4160.0001,-673.298 4156.5,-663.2981 4153.0001,-673.2981 4160.0001,-673.298\"/>\n</g>\n<!-- 141 -->\n<g id=\"node142\" class=\"node\">\n<title>141</title>\n<path fill=\"#8139e5\" stroke=\"#000000\" d=\"M4355,-655.5C4355,-655.5 4248,-655.5 4248,-655.5 4242,-655.5 4236,-649.5 4236,-643.5 4236,-643.5 4236,-599.5 4236,-599.5 4236,-593.5 4242,-587.5 4248,-587.5 4248,-587.5 4355,-587.5 4355,-587.5 4361,-587.5 4367,-593.5 4367,-599.5 4367,-599.5 4367,-643.5 4367,-643.5 4367,-649.5 4361,-655.5 4355,-655.5\"/>\n<text text-anchor=\"middle\" x=\"4301.5\" y=\"-640.3\" font-family=\"Helvetica,sans-Serif\" font-size=\"14.00\" fill=\"#000000\">gini = 0.0</text>\n<text text-anchor=\"middle\" x=\"4301.5\" y=\"-625.3\" font-family=\"Helvetica,sans-Serif\" font-size=\"14.00\" fill=\"#000000\">samples = 488</text>\n<text text-anchor=\"middle\" x=\"4301.5\" y=\"-610.3\" font-family=\"Helvetica,sans-Serif\" font-size=\"14.00\" fill=\"#000000\">value = [0, 0, 488]</text>\n<text text-anchor=\"middle\" x=\"4301.5\" y=\"-595.3\" font-family=\"Helvetica,sans-Serif\" font-size=\"14.00\" fill=\"#000000\">class = QSO</text>\n</g>\n<!-- 137&#45;&gt;141 -->\n<g id=\"edge141\" class=\"edge\">\n<title>137&#45;&gt;141</title>\n<path fill=\"none\" stroke=\"#000000\" d=\"M4207.214,-698.8796C4221.6844,-687.0038 4237.4314,-674.0804 4251.8383,-662.2568\"/>\n<polygon fill=\"#000000\" stroke=\"#000000\" points=\"4254.178,-664.8645 4259.6877,-655.8149 4249.7372,-659.4534 4254.178,-664.8645\"/>\n</g>\n<!-- 139 -->\n<g id=\"node140\" class=\"node\">\n<title>139</title>\n<path fill=\"#8139e5\" stroke=\"#000000\" d=\"M4135,-536.5C4135,-536.5 4036,-536.5 4036,-536.5 4030,-536.5 4024,-530.5 4024,-524.5 4024,-524.5 4024,-480.5 4024,-480.5 4024,-474.5 4030,-468.5 4036,-468.5 4036,-468.5 4135,-468.5 4135,-468.5 4141,-468.5 4147,-474.5 4147,-480.5 4147,-480.5 4147,-524.5 4147,-524.5 4147,-530.5 4141,-536.5 4135,-536.5\"/>\n<text text-anchor=\"middle\" x=\"4085.5\" y=\"-521.3\" font-family=\"Helvetica,sans-Serif\" font-size=\"14.00\" fill=\"#000000\">gini = 0.0</text>\n<text text-anchor=\"middle\" x=\"4085.5\" y=\"-506.3\" font-family=\"Helvetica,sans-Serif\" font-size=\"14.00\" fill=\"#000000\">samples = 15</text>\n<text text-anchor=\"middle\" x=\"4085.5\" y=\"-491.3\" font-family=\"Helvetica,sans-Serif\" font-size=\"14.00\" fill=\"#000000\">value = [0, 0, 15]</text>\n<text text-anchor=\"middle\" x=\"4085.5\" y=\"-476.3\" font-family=\"Helvetica,sans-Serif\" font-size=\"14.00\" fill=\"#000000\">class = QSO</text>\n</g>\n<!-- 138&#45;&gt;139 -->\n<g id=\"edge139\" class=\"edge\">\n<title>138&#45;&gt;139</title>\n<path fill=\"none\" stroke=\"#000000\" d=\"M4131.6676,-579.8796C4125.0413,-568.7735 4117.8684,-556.7513 4111.1967,-545.5691\"/>\n<polygon fill=\"#000000\" stroke=\"#000000\" points=\"4114.1031,-543.6093 4105.9736,-536.8149 4108.0917,-547.1959 4114.1031,-543.6093\"/>\n</g>\n<!-- 140 -->\n<g id=\"node141\" class=\"node\">\n<title>140</title>\n<path fill=\"#39e581\" stroke=\"#000000\" d=\"M4278,-536.5C4278,-536.5 4177,-536.5 4177,-536.5 4171,-536.5 4165,-530.5 4165,-524.5 4165,-524.5 4165,-480.5 4165,-480.5 4165,-474.5 4171,-468.5 4177,-468.5 4177,-468.5 4278,-468.5 4278,-468.5 4284,-468.5 4290,-474.5 4290,-480.5 4290,-480.5 4290,-524.5 4290,-524.5 4290,-530.5 4284,-536.5 4278,-536.5\"/>\n<text text-anchor=\"middle\" x=\"4227.5\" y=\"-521.3\" font-family=\"Helvetica,sans-Serif\" font-size=\"14.00\" fill=\"#000000\">gini = 0.0</text>\n<text text-anchor=\"middle\" x=\"4227.5\" y=\"-506.3\" font-family=\"Helvetica,sans-Serif\" font-size=\"14.00\" fill=\"#000000\">samples = 1</text>\n<text text-anchor=\"middle\" x=\"4227.5\" y=\"-491.3\" font-family=\"Helvetica,sans-Serif\" font-size=\"14.00\" fill=\"#000000\">value = [0, 1, 0]</text>\n<text text-anchor=\"middle\" x=\"4227.5\" y=\"-476.3\" font-family=\"Helvetica,sans-Serif\" font-size=\"14.00\" fill=\"#000000\">class = GALAXY</text>\n</g>\n<!-- 138&#45;&gt;140 -->\n<g id=\"edge140\" class=\"edge\">\n<title>138&#45;&gt;140</title>\n<path fill=\"none\" stroke=\"#000000\" d=\"M4181.3324,-579.8796C4187.9587,-568.7735 4195.1316,-556.7513 4201.8033,-545.5691\"/>\n<polygon fill=\"#000000\" stroke=\"#000000\" points=\"4204.9083,-547.1959 4207.0264,-536.8149 4198.8969,-543.6093 4204.9083,-547.1959\"/>\n</g>\n</g>\n</svg>\n"
          },
          "metadata": {},
          "execution_count": 56
        }
      ],
      "source": [
        "# Model: Decision tree with depth = 10 \n",
        "\n",
        "dtc = tree.DecisionTreeClassifier(max_depth = 100)  \n",
        "dtc_noprune = tree.DecisionTreeClassifier()\n",
        "\n",
        "dtc.fit(X_train, y_train)\n",
        "dtc_noprune.fit(X_train, y_train)\n",
        "\n",
        "dot_data = tree.export_graphviz(dtc, out_file=None, \n",
        "                     class_names = ['STAR', 'GALAXY', 'QSO'],\n",
        "                     filled=True, rounded=True) \n",
        "\n",
        "graph = graphviz.Source(dot_data) \n",
        "graph"
      ]
    },
    {
      "cell_type": "code",
      "execution_count": null,
      "metadata": {
        "colab": {
          "base_uri": "https://localhost:8080/"
        },
        "id": "Yw1ldSkeTZlp",
        "outputId": "06cb8e88-9b2c-4870-fd2e-5008072205a5"
      },
      "outputs": [
        {
          "output_type": "stream",
          "name": "stdout",
          "text": [
            "Accuracy 0.424\n"
          ]
        }
      ],
      "source": [
        "y_pred_dtc = dtc.predict(X_test)\n",
        "cm_dtc = confusion_matrix(y_test, y_pred_dtc)\n",
        "print(\"Accuracy\", metrics.accuracy_score(y_test, y_pred_dtc))"
      ]
    },
    {
      "cell_type": "code",
      "execution_count": null,
      "metadata": {
        "colab": {
          "base_uri": "https://localhost:8080/"
        },
        "id": "veq7QyggAFuI",
        "outputId": "c4115eaa-5745-48d3-eba1-9fa23eb84a02"
      },
      "outputs": [
        {
          "output_type": "stream",
          "name": "stdout",
          "text": [
            "0.4236666666666667\n"
          ]
        }
      ],
      "source": [
        "# based on https://www.kaggle.com/code/pruthviacharya1/decision-tree-classifier-with-99-3-accuracy \n",
        "\n",
        "from sklearn.model_selection import GridSearchCV\n",
        "#Finding the best parameters \n",
        "\n",
        "#Seperating the target variable \"class\" from the set of the dataset \n",
        "X = sloan_survey.drop('Class',axis=1) \n",
        "y = sloan_survey['Class']\n",
        "\n",
        "parameters_list = {'max_depth':np.arange(1,11),'min_samples_leaf':np.arange(2,10)},\n",
        "all_decision_trees = GridSearchCV(DecisionTreeClassifier(),parameters_list)\n",
        "all_decision_trees.fit(X,y)\n",
        "\n",
        "#Using the best parameters\n",
        "y_pred = all_decision_trees.predict(X_test)\n",
        "print(accuracy_score(y_test,y_pred))"
      ]
    },
    {
      "cell_type": "markdown",
      "metadata": {
        "id": "S1OAxLflA1Yf"
      },
      "source": [
        "Our naive model has performed better than depth = 10. "
      ]
    },
    {
      "cell_type": "markdown",
      "metadata": {
        "id": "lSaiNRIabbLL"
      },
      "source": [
        "### RANDOM FOREST"
      ]
    },
    {
      "cell_type": "code",
      "execution_count": null,
      "metadata": {
        "colab": {
          "base_uri": "https://localhost:8080/"
        },
        "id": "yBjIHuR3azPU",
        "outputId": "75363ab8-f6b9-4b69-e240-82cefe332154"
      },
      "outputs": [
        {
          "output_type": "stream",
          "name": "stdout",
          "text": [
            "Accuracy 0.424\n"
          ]
        }
      ],
      "source": [
        "# From: https://www.geeksforgeeks.org/random-forest-classifier-using-scikit-learn/\n",
        "\n",
        "from sklearn.ensemble import RandomForestClassifier\n",
        "\n",
        "clf = RandomForestClassifier(n_estimators = 100) \n",
        "#testar para estimadores diferentes, alem de 100\n",
        " \n",
        "# Training the model on the training dataset\n",
        "# fit function is used to train the model using the training sets as parameters\n",
        "clf.fit(X_train, y_train)\n",
        " \n",
        "# performing predictions on the test dataset\n",
        "y_pred_rf = clf.predict(X_test)\n",
        " \n",
        "# using metrics module for accuracy calculation\n",
        "print(\"Accuracy\", metrics.accuracy_score(y_test, y_pred_rf))\n",
        "\n",
        "# confusion matrix\n",
        "cm_rf = confusion_matrix(y_test, y_pred_rf)\n"
      ]
    },
    {
      "cell_type": "code",
      "execution_count": null,
      "metadata": {
        "colab": {
          "base_uri": "https://localhost:8080/",
          "height": 262
        },
        "id": "rpX_-rV_a_S6",
        "outputId": "b2636a35-031d-460a-e499-72e62c429351"
      },
      "outputs": [
        {
          "output_type": "display_data",
          "data": {
            "text/plain": [
              "<Figure size 432x288 with 2 Axes>"
            ],
            "image/png": "[encoded data removed]"
          },
          "metadata": {}
        }
      ],
      "source": [
        "# Now, lets check our Confusion Matrix for Random Forest\n",
        "\n",
        "labels = ['STAR', 'GALAXY', 'QSO']\n",
        "\n",
        "ax= plt.subplot()\n",
        "sns.heatmap(cm_rf, annot=True, fmt='g', ax=ax, cmap=\"YlGnBu\"); \n",
        "# labels, title and ticks\n",
        "ax.set_xlabel('Predicted labels');ax.set_ylabel('True labels'); \n",
        "ax.set_title('Confusion Matrix'); \n",
        "ax.xaxis.set_ticklabels(labels); ax.yaxis.set_ticklabels(labels);"
      ]
    },
    {
      "cell_type": "code",
      "execution_count": null,
      "metadata": {
        "colab": {
          "base_uri": "https://localhost:8080/"
        },
        "id": "kmRoqK4Nbiw5",
        "outputId": "0a6c8671-b63e-461c-8b6f-0dcb3695b268"
      },
      "outputs": [
        {
          "output_type": "stream",
          "name": "stdout",
          "text": [
            "Parameters currently in use:\n",
            "\n",
            "{'bootstrap': True,\n",
            " 'ccp_alpha': 0.0,\n",
            " 'criterion': 'squared_error',\n",
            " 'max_depth': None,\n",
            " 'max_features': 'auto',\n",
            " 'max_leaf_nodes': None,\n",
            " 'max_samples': None,\n",
            " 'min_impurity_decrease': 0.0,\n",
            " 'min_samples_leaf': 1,\n",
            " 'min_samples_split': 2,\n",
            " 'min_weight_fraction_leaf': 0.0,\n",
            " 'n_estimators': 100,\n",
            " 'n_jobs': None,\n",
            " 'oob_score': False,\n",
            " 'random_state': 42,\n",
            " 'verbose': 0,\n",
            " 'warm_start': False}\n"
          ]
        }
      ],
      "source": [
        "# Optimizing hyperparameters:\n",
        "\n",
        "from sklearn.ensemble import RandomForestRegressor\n",
        "rf = RandomForestRegressor(random_state = 42)\n",
        "from pprint import pprint\n",
        "# Look at parameters used by our current forest\n",
        "print('Parameters currently in use:\\n')\n",
        "pprint(rf.get_params())\n"
      ]
    },
    {
      "cell_type": "code",
      "execution_count": null,
      "metadata": {
        "colab": {
          "base_uri": "https://localhost:8080/"
        },
        "id": "vYxZVlhDdWZr",
        "outputId": "a856c651-1e7d-41a7-8f8d-53dac4776fbe"
      },
      "outputs": [
        {
          "output_type": "stream",
          "name": "stdout",
          "text": [
            "{'bootstrap': [True, False],\n",
            " 'max_depth': [10, 20, 30, 40, 50, 60, 70, 80, 90, 100, 110, None],\n",
            " 'max_features': ['auto', 'sqrt'],\n",
            " 'min_samples_leaf': [1, 2, 4],\n",
            " 'min_samples_split': [2, 5, 10],\n",
            " 'n_estimators': [200, 400, 600, 800, 1000, 1200, 1400, 1600, 1800, 2000]}\n"
          ]
        }
      ],
      "source": [
        "from sklearn.model_selection import RandomizedSearchCV\n",
        "\n",
        "# Number of trees in random forest\n",
        "n_estimators = [int(x) for x in np.linspace(start = 200, stop = 2000, num = 10)]\n",
        "\n",
        "# Number of features to consider at every split\n",
        "max_features = ['auto', 'sqrt']\n",
        "\n",
        "# Maximum number of levels in tree\n",
        "max_depth = [int(x) for x in np.linspace(10, 110, num = 11)]\n",
        "max_depth.append(None)\n",
        "\n",
        "# Minimum number of samples required to split a node\n",
        "min_samples_split = [2, 5, 10]\n",
        "\n",
        "# Minimum number of samples required at each leaf node\n",
        "min_samples_leaf = [1, 2, 4]\n",
        "\n",
        "# Method of selecting samples for training each tree\n",
        "bootstrap = [True, False]\n",
        "\n",
        "# Create the random grid\n",
        "random_grid = {'n_estimators': n_estimators,\n",
        "               'max_features': max_features,\n",
        "               'max_depth': max_depth,\n",
        "               'min_samples_split': min_samples_split,\n",
        "               'min_samples_leaf': min_samples_leaf,\n",
        "               'bootstrap': bootstrap}\n",
        "               \n",
        "pprint(random_grid)"
      ]
    },
    {
      "cell_type": "code",
      "execution_count": null,
      "metadata": {
        "id": "lOdEhx6pdmSK"
      },
      "outputs": [],
      "source": [
        "# Use the random grid to search for best hyperparameters\n",
        "\n",
        "# First create the base model to tune\n",
        "\n",
        "##rf = RandomForestRegressor()\n",
        "\n",
        "# Random search of parameters, using 3 fold cross validation, \n",
        "# search across 100 different combinations, and use all available cores\n",
        "\n",
        "\n",
        "##rf_random = RandomizedSearchCV(estimator = rf, param_distributions = random_grid, n_iter = 100, cv = 3, verbose=2, random_state=42, n_jobs = -1)\n",
        "\n",
        "# Fit the random search model\n",
        "\n",
        "##rf_random.fit(X_train, y_train)"
      ]
    },
    {
      "cell_type": "code",
      "execution_count": null,
      "metadata": {
        "id": "Aa9BLz16dicX"
      },
      "outputs": [],
      "source": [
        "#rf_random.best_params_\n",
        "\n",
        "#our best model was:"
      ]
    },
    {
      "cell_type": "markdown",
      "metadata": {
        "id": "VU50MJ-CbfI4"
      },
      "source": [
        "### ADABOOST"
      ]
    },
    {
      "cell_type": "code",
      "execution_count": null,
      "metadata": {
        "id": "ao11Me8mbAGi"
      },
      "outputs": [],
      "source": [
        "from sklearn.ensemble import AdaBoostClassifier"
      ]
    },
    {
      "cell_type": "code",
      "execution_count": null,
      "metadata": {
        "id": "N-qZhv2hI6UN"
      },
      "outputs": [],
      "source": [
        "# From:https://www.datacamp.com/tutorial/adaboost-classifier-python\n",
        "\n",
        "# Create adaboost classifer object\n",
        "abc = AdaBoostClassifier(n_estimators=50,\n",
        "                         learning_rate=1)\n",
        "# Train Adaboost Classifer\n",
        "model = abc.fit(X_train, y_train)\n",
        "\n",
        "#Predict the response for test dataset\n",
        "y_pred_adb = model.predict(X_test)\n"
      ]
    },
    {
      "cell_type": "code",
      "execution_count": null,
      "metadata": {
        "colab": {
          "base_uri": "https://localhost:8080/"
        },
        "id": "H1MercJlI-gF",
        "outputId": "4aa17a91-6358-49ce-906c-110017fc344e"
      },
      "outputs": [
        {
          "output_type": "stream",
          "name": "stdout",
          "text": [
            "Accuracy: 0.402\n"
          ]
        }
      ],
      "source": [
        "# Computing model accuracy\n",
        "print(\"Accuracy:\",metrics.accuracy_score(y_test, y_pred_adb))"
      ]
    },
    {
      "cell_type": "code",
      "execution_count": null,
      "metadata": {
        "id": "NlRy1yE5JBOC"
      },
      "outputs": [],
      "source": [
        "# Confusion Matrix\n",
        "cm_adb = confusion_matrix(y_test, y_pred_adb)"
      ]
    },
    {
      "cell_type": "code",
      "execution_count": null,
      "metadata": {
        "colab": {
          "base_uri": "https://localhost:8080/",
          "height": 262
        },
        "id": "ZpDNpgpJJFgh",
        "outputId": "8509d88e-f18d-4930-f81a-4b05c914c959"
      },
      "outputs": [
        {
          "output_type": "display_data",
          "data": {
            "text/plain": [
              "<Figure size 432x288 with 2 Axes>"
            ],
            "image/png": "[encoded data removed]"
          },
          "metadata": {}
        }
      ],
      "source": [
        "#Now, lets check our Confusion Matrix for AdaBoost\n",
        "\n",
        "labels = ['STAR', 'GALAXY', 'QSO']\n",
        "ax= plt.subplot()\n",
        "sns.heatmap(cm_adb, annot=True, fmt='g', ax=ax, cmap=\"YlGnBu\"); \n",
        "ax.set_xlabel('Predicted labels');ax.set_ylabel('True labels'); \n",
        "ax.set_title('Confusion Matrix'); \n",
        "ax.xaxis.set_ticklabels(labels); ax.yaxis.set_ticklabels(labels);"
      ]
    },
    {
      "cell_type": "code",
      "execution_count": null,
      "metadata": {
        "id": "Y7x10f-TwanX"
      },
      "outputs": [],
      "source": [
        "#Using grid search to optimize hyperparameters:\n",
        "#based on: https://machinelearningmastery.com/adaboost-ensemble-in-python/\n",
        "\n",
        "\n",
        "from sklearn.datasets import make_classification\n",
        "from sklearn.model_selection import RepeatedStratifiedKFold\n",
        "from sklearn.model_selection import GridSearchCV\n",
        "from sklearn.ensemble import AdaBoostClassifier\n"
      ]
    },
    {
      "cell_type": "code",
      "execution_count": null,
      "metadata": {
        "id": "STQUX3DrweD4"
      },
      "outputs": [],
      "source": [
        "# define the model with default hyperparameters\n",
        "model = AdaBoostClassifier()\n",
        "\n",
        "# define the grid of values to search\n",
        "grid = dict()\n",
        "grid['n_estimators'] = [10, 50, 100, 500]\n",
        "grid['learning_rate'] = [0.0001, 0.001, 0.01, 0.1, 1.0]"
      ]
    },
    {
      "cell_type": "code",
      "execution_count": null,
      "metadata": {
        "colab": {
          "base_uri": "https://localhost:8080/"
        },
        "id": "Xc2zo22qwhHa",
        "outputId": "808b7315-2555-4442-c471-832befb1bebf"
      },
      "outputs": [
        {
          "output_type": "stream",
          "name": "stdout",
          "text": [
            "Best: 0.920333 using {'learning_rate': 0.01, 'n_estimators': 500}\n"
          ]
        }
      ],
      "source": [
        "# define the evaluation procedure\n",
        "cv = RepeatedStratifiedKFold(n_splits=10, n_repeats=3, random_state=1)\n",
        "\n",
        "# define the grid search procedure\n",
        "grid_search = GridSearchCV(estimator=model, param_grid=grid, n_jobs=-1, cv=cv, scoring='accuracy')\n",
        "\n",
        "# execute the grid search\n",
        "grid_result = grid_search.fit(X_train, y_train)\n",
        "\n",
        "# summarize the best score and configuration\n",
        "print(\"Best: %f using %s\" % (grid_result.best_score_, grid_result.best_params_))"
      ]
    },
    {
      "cell_type": "code",
      "execution_count": null,
      "metadata": {
        "colab": {
          "base_uri": "https://localhost:8080/"
        },
        "id": "OALd9P8bJj_2",
        "outputId": "d61c50b6-04cf-4076-957a-275f4cdb77fb"
      },
      "outputs": [
        {
          "output_type": "stream",
          "name": "stdout",
          "text": [
            "0.914286 (0.001952) with: {'learning_rate': 0.0001, 'n_estimators': 10}\n",
            "0.914286 (0.001952) with: {'learning_rate': 0.0001, 'n_estimators': 50}\n",
            "0.914286 (0.001952) with: {'learning_rate': 0.0001, 'n_estimators': 100}\n",
            "0.914286 (0.001952) with: {'learning_rate': 0.0001, 'n_estimators': 500}\n",
            "0.914286 (0.001952) with: {'learning_rate': 0.001, 'n_estimators': 10}\n",
            "0.914286 (0.001952) with: {'learning_rate': 0.001, 'n_estimators': 50}\n",
            "0.914286 (0.001952) with: {'learning_rate': 0.001, 'n_estimators': 100}\n",
            "0.914286 (0.001952) with: {'learning_rate': 0.001, 'n_estimators': 500}\n",
            "0.914286 (0.001952) with: {'learning_rate': 0.01, 'n_estimators': 10}\n",
            "0.914333 (0.001898) with: {'learning_rate': 0.01, 'n_estimators': 50}\n",
            "0.914429 (0.001704) with: {'learning_rate': 0.01, 'n_estimators': 100}\n",
            "0.920333 (0.011715) with: {'learning_rate': 0.01, 'n_estimators': 500}\n",
            "0.914476 (0.001720) with: {'learning_rate': 0.1, 'n_estimators': 10}\n",
            "0.919571 (0.011067) with: {'learning_rate': 0.1, 'n_estimators': 50}\n",
            "0.919667 (0.007699) with: {'learning_rate': 0.1, 'n_estimators': 100}\n",
            "0.911905 (0.015546) with: {'learning_rate': 0.1, 'n_estimators': 500}\n",
            "0.900333 (0.041069) with: {'learning_rate': 1.0, 'n_estimators': 10}\n",
            "0.900810 (0.042291) with: {'learning_rate': 1.0, 'n_estimators': 50}\n",
            "0.889429 (0.070791) with: {'learning_rate': 1.0, 'n_estimators': 100}\n",
            "0.902000 (0.028114) with: {'learning_rate': 1.0, 'n_estimators': 500}\n"
          ]
        }
      ],
      "source": [
        "# summarize all scores that were evaluated\n",
        "means = grid_result.cv_results_['mean_test_score']\n",
        "stds = grid_result.cv_results_['std_test_score']\n",
        "params = grid_result.cv_results_['params']\n",
        "for mean, stdev, param in zip(means, stds, params):\n",
        "    print(\"%f (%f) with: %r\" % (mean, stdev, param))\n"
      ]
    },
    {
      "cell_type": "markdown",
      "source": [
        "####Best model for Adaboost:\n",
        "0.914286 (0.001952) with: {'learning_rate': 0.0001, 'n_estimators': 10}"
      ],
      "metadata": {
        "id": "_HGvPkhiQpMB"
      }
    },
    {
      "cell_type": "markdown",
      "metadata": {
        "id": "9Tx__5VybsFe"
      },
      "source": [
        "### GRADIENT BOOSTING "
      ]
    },
    {
      "cell_type": "code",
      "execution_count": null,
      "metadata": {
        "id": "GizDuoF_d1oD"
      },
      "outputs": [],
      "source": [
        "from sklearn.ensemble import GradientBoostingClassifier\n",
        "from sklearn import metrics"
      ]
    },
    {
      "cell_type": "code",
      "execution_count": null,
      "metadata": {
        "id": "pRJHLwDlyu16"
      },
      "outputs": [],
      "source": [
        "from sklearn.preprocessing import MinMaxScaler\n",
        "scaler = MinMaxScaler()\n",
        "X_train_scale = scaler.fit_transform(X_train)\n",
        "X_test_scale = scaler.transform(X_test)"
      ]
    },
    {
      "cell_type": "code",
      "execution_count": null,
      "metadata": {
        "id": "T45Fzryny43D"
      },
      "outputs": [],
      "source": [
        "from sklearn.model_selection import train_test_split\n",
        "X_train_sub, X_test_sub, y_train_sub, y_test_sub = train_test_split(X_train_scale, y_train, random_state=0)"
      ]
    },
    {
      "cell_type": "code",
      "execution_count": null,
      "metadata": {
        "colab": {
          "base_uri": "https://localhost:8080/"
        },
        "id": "W43imutSzAwB",
        "outputId": "e882630d-210a-4243-e542-34fe8dcc6477"
      },
      "outputs": [
        {
          "output_type": "stream",
          "name": "stdout",
          "text": [
            "Learning rate:  0.05\n",
            "Accuracy score (training): 0.967\n",
            "Accuracy score (validation): 0.965\n",
            "Learning rate:  0.1\n",
            "Accuracy score (training): 0.981\n",
            "Accuracy score (validation): 0.982\n",
            "Learning rate:  0.25\n",
            "Accuracy score (training): 0.990\n",
            "Accuracy score (validation): 0.988\n",
            "Learning rate:  0.5\n",
            "Accuracy score (training): 0.994\n",
            "Accuracy score (validation): 0.989\n",
            "Learning rate:  0.75\n",
            "Accuracy score (training): 0.834\n",
            "Accuracy score (validation): 0.821\n",
            "Learning rate:  1\n",
            "Accuracy score (training): 0.991\n",
            "Accuracy score (validation): 0.986\n"
          ]
        }
      ],
      "source": [
        "learning_rates = [0.05, 0.1, 0.25, 0.5, 0.75, 1]\n",
        "for learning_rate in learning_rates:\n",
        "    gb = GradientBoostingClassifier(n_estimators=20, learning_rate = learning_rate, max_features=2, max_depth = 2, random_state = 0)\n",
        "    gb.fit(X_train_sub, y_train_sub)\n",
        "    print(\"Learning rate: \", learning_rate)\n",
        "    print(\"Accuracy score (training): {0:.3f}\".format(gb.score(X_train_sub, y_train_sub)))\n",
        "    print(\"Accuracy score (validation): {0:.3f}\".format(gb.score(X_test_sub, y_test_sub)))\n",
        "    "
      ]
    },
    {
      "cell_type": "markdown",
      "source": [
        "####Best model for Gradient Boosting:\n",
        "Learning rate:  0.5 \\\n",
        "Accuracy score (training): 0.994 \\\n",
        "Accuracy score (test): 0.989"
      ],
      "metadata": {
        "id": "SdKr9eToQymR"
      }
    },
    {
      "cell_type": "markdown",
      "metadata": {
        "id": "ugpHOq0kt7oW"
      },
      "source": [
        "\\\n",
        "Feature Importance\n"
      ]
    },
    {
      "cell_type": "code",
      "execution_count": null,
      "metadata": {
        "id": "AlGbczGtcsr-"
      },
      "outputs": [],
      "source": [
        "import time\n",
        "\n",
        "from sklearn.ensemble import RandomForestClassifier\n",
        "\n",
        "feature_names = [f\"feature {i}\" for i in range(df.shape[1])]\n",
        "forest = RandomForestClassifier(random_state=0)\n",
        "forest.fit(X_train, y_train)\n",
        "from sklearn.inspection import permutation_importance"
      ]
    },
    {
      "cell_type": "code",
      "execution_count": null,
      "metadata": {
        "colab": {
          "base_uri": "https://localhost:8080/"
        },
        "id": "w0DOz-o01P27",
        "outputId": "f7f59361-d55a-4bb3-b13f-765ba0ffcdc6"
      },
      "outputs": [
        {
          "output_type": "stream",
          "name": "stdout",
          "text": [
            "Elapsed time to compute the importances: 0.014 seconds\n"
          ]
        }
      ],
      "source": [
        "start_time = time.time()\n",
        "importances = forest.feature_importances_\n",
        "std = np.std([tree.feature_importances_ for tree in forest.estimators_], axis=0)\n",
        "elapsed_time = time.time() - start_time\n",
        "\n",
        "print(f\"Elapsed time to compute the importances: {elapsed_time:.3f} seconds\")"
      ]
    },
    {
      "cell_type": "code",
      "execution_count": null,
      "metadata": {
        "colab": {
          "base_uri": "https://localhost:8080/",
          "height": 230
        },
        "id": "sYfjbkwidZvo",
        "outputId": "4f74ae64-a411-4215-b427-a6094730eed8"
      },
      "outputs": [
        {
          "output_type": "display_data",
          "data": {
            "text/plain": [
              "<Figure size 432x288 with 1 Axes>"
            ],
            "image/png": "[encoded data removed]"
          },
          "metadata": {}
        }
      ],
      "source": [
        "import pandas as pd\n",
        "\n",
        "forest_importances = pd.Series(importances, index=feature_names)\n",
        "\n",
        "fig, ax = plt.subplots()\n",
        "forest_importances.plot.bar(yerr=std, ax=ax)\n",
        "ax.set_title(\"Feature importances using MDI\")\n",
        "ax.set_ylabel(\"Mean decrease in impurity\")\n",
        "fig.tight_layout()"
      ]
    },
    {
      "cell_type": "code",
      "execution_count": null,
      "metadata": {
        "colab": {
          "base_uri": "https://localhost:8080/"
        },
        "id": "6Wck3IKMenm7",
        "outputId": "26cb1211-fff0-402a-9713-37eb0e333b32"
      },
      "outputs": [
        {
          "output_type": "stream",
          "name": "stdout",
          "text": [
            "Elapsed time to compute the importances: 2.714 seconds\n"
          ]
        }
      ],
      "source": [
        "from sklearn.inspection import permutation_importance\n",
        "\n",
        "start_time = time.time()\n",
        "result = permutation_importance(\n",
        "forest, X_test, y_test, n_repeats=10, random_state=42, n_jobs=2)\n",
        "elapsed_time = time.time() - start_time\n",
        "print(f\"Elapsed time to compute the importances: {elapsed_time:.3f} seconds\")\n",
        "\n",
        "forest_importances = pd.Series(result.importances_mean, index=feature_names)"
      ]
    },
    {
      "cell_type": "code",
      "execution_count": null,
      "metadata": {
        "colab": {
          "base_uri": "https://localhost:8080/",
          "height": 230
        },
        "id": "foUT4kT4e4vP",
        "outputId": "88d1e4ac-d91f-4f75-a372-c1c9f93d726f"
      },
      "outputs": [
        {
          "output_type": "display_data",
          "data": {
            "text/plain": [
              "<Figure size 432x288 with 1 Axes>"
            ],
            "image/png": "[encoded data removed]"
          },
          "metadata": {}
        }
      ],
      "source": [
        "fig, ax = plt.subplots()\n",
        "forest_importances.plot.bar(yerr=result.importances_std, ax=ax)\n",
        "ax.set_title(\"Feature importances using permutation on full model\")\n",
        "ax.set_ylabel(\"Mean accuracy decrease\")\n",
        "fig.tight_layout()\n",
        "plt.show()"
      ]
    },
    {
      "cell_type": "code",
      "execution_count": null,
      "metadata": {
        "colab": {
          "base_uri": "https://localhost:8080/"
        },
        "id": "SJgO_Am9gBs4",
        "outputId": "53452547-e279-4fab-fdbb-446904889e83"
      },
      "outputs": [
        {
          "output_type": "stream",
          "name": "stdout",
          "text": [
            "<class 'pandas.core.frame.DataFrame'>\n",
            "Int64Index: 10000 entries, 2317 to 3582\n",
            "Data columns (total 10 columns):\n",
            " #   Column    Non-Null Count  Dtype  \n",
            "---  ------    --------------  -----  \n",
            " 0   ra        10000 non-null  float64\n",
            " 1   dec       10000 non-null  float64\n",
            " 2   field     10000 non-null  int64  \n",
            " 3   redshift  10000 non-null  float64\n",
            " 4   plate     10000 non-null  int64  \n",
            " 5   mjd       10000 non-null  int64  \n",
            " 6   fiberid   10000 non-null  int64  \n",
            " 7   F1        10000 non-null  float64\n",
            " 8   F2        10000 non-null  float64\n",
            " 9   F3        10000 non-null  float64\n",
            "dtypes: float64(6), int64(4)\n",
            "memory usage: 859.4 KB\n"
          ]
        },
        {
          "output_type": "execute_result",
          "data": {
            "text/plain": [
              "pandas.core.frame.DataFrame"
            ]
          },
          "metadata": {},
          "execution_count": 84
        }
      ],
      "source": [
        "df.info()\n",
        "type(df)\n"
      ]
    },
    {
      "cell_type": "markdown",
      "metadata": {
        "id": "MFYgAlva0BUr"
      },
      "source": [
        "\\\\\n",
        "\n",
        "##OUR CHOSEN MODEL:\n",
        "\n",
        "###GRADIENT BOOSTING\n",
        "\n",
        "Learning rate:  0.5\n",
        "\n",
        "Accuracy score (training): 0.994\n",
        "\n",
        "Accuracy score (test): 0.989\n",
        "\n",
        "Features more important were redshift, mjd, and F9."
      ]
    },
    {
      "cell_type": "markdown",
      "metadata": {
        "id": "vT-AE0odQVID"
      },
      "source": [
        "### EXERCICIO 3 - DATA VISUALIZATION DASHBOARD "
      ]
    },
    {
      "cell_type": "code",
      "execution_count": null,
      "metadata": {
        "colab": {
          "base_uri": "https://localhost:8080/",
          "height": 466,
          "resources": {
            "http://localhost:8080/nbextensions/google.colab/files.js": {
              "data": "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",
              "headers": [
                [
                  "content-type",
                  "application/javascript"
                ]
              ],
              "ok": true,
              "status": 200,
              "status_text": ""
            }
          }
        },
        "id": "ECE1dfrOQcNL",
        "outputId": "8b96e0e5-42c9-49f5-9559-aaf00428784f"
      },
      "outputs": [
        {
          "output_type": "display_data",
          "data": {
            "text/plain": [
              "<IPython.core.display.HTML object>"
            ],
            "text/html": [
              "\n",
              "     <input type=\"file\" id=\"files-f311d1c6-25f4-48c0-983a-fde1486a3fc1\" name=\"files[]\" multiple disabled\n",
              "        style=\"border:none\" />\n",
              "     <output id=\"result-f311d1c6-25f4-48c0-983a-fde1486a3fc1\">\n",
              "      Upload widget is only available when the cell has been executed in the\n",
              "      current browser session. Please rerun this cell to enable.\n",
              "      </output>\n",
              "      <script src=\"/nbextensions/google.colab/files.js\"></script> "
            ]
          },
          "metadata": {}
        },
        {
          "output_type": "stream",
          "name": "stdout",
          "text": [
            "Saving russia_losses_equipment.csv to russia_losses_equipment.csv\n"
          ]
        },
        {
          "output_type": "execute_result",
          "data": {
            "text/plain": [
              "         date  day  aircraft  helicopter  tank  APC  field artillery  MRL  \\\n",
              "0  2022-02-25    2        10           7    80  516               49    4   \n",
              "1  2022-02-26    3        27          26   146  706               49    4   \n",
              "2  2022-02-27    4        27          26   150  706               50    4   \n",
              "3  2022-02-28    5        29          29   150  816               74   21   \n",
              "4  2022-03-01    6        29          29   198  846               77   24   \n",
              "\n",
              "   military auto  fuel tank  drone  naval ship  anti-aircraft warfare  \\\n",
              "0          100.0       60.0      0           2                      0   \n",
              "1          130.0       60.0      2           2                      0   \n",
              "2          130.0       60.0      2           2                      0   \n",
              "3          291.0       60.0      3           2                      5   \n",
              "4          305.0       60.0      3           2                      7   \n",
              "\n",
              "   special equipment  mobile SRBM system  vehicles and fuel tanks  \\\n",
              "0                NaN                 NaN                      NaN   \n",
              "1                NaN                 NaN                      NaN   \n",
              "2                NaN                 NaN                      NaN   \n",
              "3                NaN                 NaN                      NaN   \n",
              "4                NaN                 NaN                      NaN   \n",
              "\n",
              "   cruise missiles greatest losses direction  \n",
              "0              NaN                       NaN  \n",
              "1              NaN                       NaN  \n",
              "2              NaN                       NaN  \n",
              "3              NaN                       NaN  \n",
              "4              NaN                       NaN  "
            ],
            "text/html": [
              "\n",
              "  <div id=\"df-8ec8d707-b110-4f08-b6f7-37150adfe684\">\n",
              "    <div class=\"colab-df-container\">\n",
              "      <div>\n",
              "<style scoped>\n",
              "    .dataframe tbody tr th:only-of-type {\n",
              "        vertical-align: middle;\n",
              "    }\n",
              "\n",
              "    .dataframe tbody tr th {\n",
              "        vertical-align: top;\n",
              "    }\n",
              "\n",
              "    .dataframe thead th {\n",
              "        text-align: right;\n",
              "    }\n",
              "</style>\n",
              "<table border=\"1\" class=\"dataframe\">\n",
              "  <thead>\n",
              "    <tr style=\"text-align: right;\">\n",
              "      <th></th>\n",
              "      <th>date</th>\n",
              "      <th>day</th>\n",
              "      <th>aircraft</th>\n",
              "      <th>helicopter</th>\n",
              "      <th>tank</th>\n",
              "      <th>APC</th>\n",
              "      <th>field artillery</th>\n",
              "      <th>MRL</th>\n",
              "      <th>military auto</th>\n",
              "      <th>fuel tank</th>\n",
              "      <th>drone</th>\n",
              "      <th>naval ship</th>\n",
              "      <th>anti-aircraft warfare</th>\n",
              "      <th>special equipment</th>\n",
              "      <th>mobile SRBM system</th>\n",
              "      <th>vehicles and fuel tanks</th>\n",
              "      <th>cruise missiles</th>\n",
              "      <th>greatest losses direction</th>\n",
              "    </tr>\n",
              "  </thead>\n",
              "  <tbody>\n",
              "    <tr>\n",
              "      <th>0</th>\n",
              "      <td>2022-02-25</td>\n",
              "      <td>2</td>\n",
              "      <td>10</td>\n",
              "      <td>7</td>\n",
              "      <td>80</td>\n",
              "      <td>516</td>\n",
              "      <td>49</td>\n",
              "      <td>4</td>\n",
              "      <td>100.0</td>\n",
              "      <td>60.0</td>\n",
              "      <td>0</td>\n",
              "      <td>2</td>\n",
              "      <td>0</td>\n",
              "      <td>NaN</td>\n",
              "      <td>NaN</td>\n",
              "      <td>NaN</td>\n",
              "      <td>NaN</td>\n",
              "      <td>NaN</td>\n",
              "    </tr>\n",
              "    <tr>\n",
              "      <th>1</th>\n",
              "      <td>2022-02-26</td>\n",
              "      <td>3</td>\n",
              "      <td>27</td>\n",
              "      <td>26</td>\n",
              "      <td>146</td>\n",
              "      <td>706</td>\n",
              "      <td>49</td>\n",
              "      <td>4</td>\n",
              "      <td>130.0</td>\n",
              "      <td>60.0</td>\n",
              "      <td>2</td>\n",
              "      <td>2</td>\n",
              "      <td>0</td>\n",
              "      <td>NaN</td>\n",
              "      <td>NaN</td>\n",
              "      <td>NaN</td>\n",
              "      <td>NaN</td>\n",
              "      <td>NaN</td>\n",
              "    </tr>\n",
              "    <tr>\n",
              "      <th>2</th>\n",
              "      <td>2022-02-27</td>\n",
              "      <td>4</td>\n",
              "      <td>27</td>\n",
              "      <td>26</td>\n",
              "      <td>150</td>\n",
              "      <td>706</td>\n",
              "      <td>50</td>\n",
              "      <td>4</td>\n",
              "      <td>130.0</td>\n",
              "      <td>60.0</td>\n",
              "      <td>2</td>\n",
              "      <td>2</td>\n",
              "      <td>0</td>\n",
              "      <td>NaN</td>\n",
              "      <td>NaN</td>\n",
              "      <td>NaN</td>\n",
              "      <td>NaN</td>\n",
              "      <td>NaN</td>\n",
              "    </tr>\n",
              "    <tr>\n",
              "      <th>3</th>\n",
              "      <td>2022-02-28</td>\n",
              "      <td>5</td>\n",
              "      <td>29</td>\n",
              "      <td>29</td>\n",
              "      <td>150</td>\n",
              "      <td>816</td>\n",
              "      <td>74</td>\n",
              "      <td>21</td>\n",
              "      <td>291.0</td>\n",
              "      <td>60.0</td>\n",
              "      <td>3</td>\n",
              "      <td>2</td>\n",
              "      <td>5</td>\n",
              "      <td>NaN</td>\n",
              "      <td>NaN</td>\n",
              "      <td>NaN</td>\n",
              "      <td>NaN</td>\n",
              "      <td>NaN</td>\n",
              "    </tr>\n",
              "    <tr>\n",
              "      <th>4</th>\n",
              "      <td>2022-03-01</td>\n",
              "      <td>6</td>\n",
              "      <td>29</td>\n",
              "      <td>29</td>\n",
              "      <td>198</td>\n",
              "      <td>846</td>\n",
              "      <td>77</td>\n",
              "      <td>24</td>\n",
              "      <td>305.0</td>\n",
              "      <td>60.0</td>\n",
              "      <td>3</td>\n",
              "      <td>2</td>\n",
              "      <td>7</td>\n",
              "      <td>NaN</td>\n",
              "      <td>NaN</td>\n",
              "      <td>NaN</td>\n",
              "      <td>NaN</td>\n",
              "      <td>NaN</td>\n",
              "    </tr>\n",
              "  </tbody>\n",
              "</table>\n",
              "</div>\n",
              "      <button class=\"colab-df-convert\" onclick=\"convertToInteractive('df-8ec8d707-b110-4f08-b6f7-37150adfe684')\"\n",
              "              title=\"Convert this dataframe to an interactive table.\"\n",
              "              style=\"display:none;\">\n",
              "        \n",
              "  <svg xmlns=\"http://www.w3.org/2000/svg\" height=\"24px\"viewBox=\"0 0 24 24\"\n",
              "       width=\"24px\">\n",
              "    <path d=\"M0 0h24v24H0V0z\" fill=\"none\"/>\n",
              "    <path d=\"M18.56 5.44l.94 2.06.94-2.06 2.06-.94-2.06-.94-.94-2.06-.94 2.06-2.06.94zm-11 1L8.5 8.5l.94-2.06 2.06-.94-2.06-.94L8.5 2.5l-.94 2.06-2.06.94zm10 10l.94 2.06.94-2.06 2.06-.94-2.06-.94-.94-2.06-.94 2.06-2.06.94z\"/><path d=\"M17.41 7.96l-1.37-1.37c-.4-.4-.92-.59-1.43-.59-.52 0-1.04.2-1.43.59L10.3 9.45l-7.72 7.72c-.78.78-.78 2.05 0 2.83L4 21.41c.39.39.9.59 1.41.59.51 0 1.02-.2 1.41-.59l7.78-7.78 2.81-2.81c.8-.78.8-2.07 0-2.86zM5.41 20L4 18.59l7.72-7.72 1.47 1.35L5.41 20z\"/>\n",
              "  </svg>\n",
              "      </button>\n",
              "      \n",
              "  <style>\n",
              "    .colab-df-container {\n",
              "      display:flex;\n",
              "      flex-wrap:wrap;\n",
              "      gap: 12px;\n",
              "    }\n",
              "\n",
              "    .colab-df-convert {\n",
              "      background-color: #E8F0FE;\n",
              "      border: none;\n",
              "      border-radius: 50%;\n",
              "      cursor: pointer;\n",
              "      display: none;\n",
              "      fill: #1967D2;\n",
              "      height: 32px;\n",
              "      padding: 0 0 0 0;\n",
              "      width: 32px;\n",
              "    }\n",
              "\n",
              "    .colab-df-convert:hover {\n",
              "      background-color: #E2EBFA;\n",
              "      box-shadow: 0px 1px 2px rgba(60, 64, 67, 0.3), 0px 1px 3px 1px rgba(60, 64, 67, 0.15);\n",
              "      fill: #174EA6;\n",
              "    }\n",
              "\n",
              "    [theme=dark] .colab-df-convert {\n",
              "      background-color: #3B4455;\n",
              "      fill: #D2E3FC;\n",
              "    }\n",
              "\n",
              "    [theme=dark] .colab-df-convert:hover {\n",
              "      background-color: #434B5C;\n",
              "      box-shadow: 0px 1px 3px 1px rgba(0, 0, 0, 0.15);\n",
              "      filter: drop-shadow(0px 1px 2px rgba(0, 0, 0, 0.3));\n",
              "      fill: #FFFFFF;\n",
              "    }\n",
              "  </style>\n",
              "\n",
              "      <script>\n",
              "        const buttonEl =\n",
              "          document.querySelector('#df-8ec8d707-b110-4f08-b6f7-37150adfe684 button.colab-df-convert');\n",
              "        buttonEl.style.display =\n",
              "          google.colab.kernel.accessAllowed ? 'block' : 'none';\n",
              "\n",
              "        async function convertToInteractive(key) {\n",
              "          const element = document.querySelector('#df-8ec8d707-b110-4f08-b6f7-37150adfe684');\n",
              "          const dataTable =\n",
              "            await google.colab.kernel.invokeFunction('convertToInteractive',\n",
              "                                                     [key], {});\n",
              "          if (!dataTable) return;\n",
              "\n",
              "          const docLinkHtml = 'Like what you see? Visit the ' +\n",
              "            '<a target=\"_blank\" href=https://colab.research.google.com/notebooks/data_table.ipynb>data table notebook</a>'\n",
              "            + ' to learn more about interactive tables.';\n",
              "          element.innerHTML = '';\n",
              "          dataTable['output_type'] = 'display_data';\n",
              "          await google.colab.output.renderOutput(dataTable, element);\n",
              "          const docLink = document.createElement('div');\n",
              "          docLink.innerHTML = docLinkHtml;\n",
              "          element.appendChild(docLink);\n",
              "        }\n",
              "      </script>\n",
              "    </div>\n",
              "  </div>\n",
              "  "
            ]
          },
          "metadata": {},
          "execution_count": 85
        }
      ],
      "source": [
        "from google.colab import files\n",
        "uploaded = files.upload()\n",
        "equipment = pd.read_csv(io.BytesIO(uploaded['russia_losses_equipment.csv']))\n",
        "equipment.head()"
      ]
    },
    {
      "cell_type": "code",
      "execution_count": null,
      "metadata": {
        "id": "BMcGO7yrREg3",
        "colab": {
          "resources": {
            "http://localhost:8080/nbextensions/google.colab/files.js": {
              "data": "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",
              "ok": true,
              "headers": [
                [
                  "content-type",
                  "application/javascript"
                ]
              ],
              "status": 200,
              "status_text": ""
            }
          },
          "base_uri": "https://localhost:8080/",
          "height": 431
        },
        "outputId": "24e4653c-96be-43b4-9a62-25c2ed056148"
      },
      "outputs": [
        {
          "output_type": "display_data",
          "data": {
            "text/plain": [
              "<IPython.core.display.HTML object>"
            ],
            "text/html": [
              "\n",
              "     <input type=\"file\" id=\"files-aa735ffb-92ed-4fe3-bed9-3e046c38168e\" name=\"files[]\" multiple disabled\n",
              "        style=\"border:none\" />\n",
              "     <output id=\"result-aa735ffb-92ed-4fe3-bed9-3e046c38168e\">\n",
              "      Upload widget is only available when the cell has been executed in the\n",
              "      current browser session. Please rerun this cell to enable.\n",
              "      </output>\n",
              "      <script src=\"/nbextensions/google.colab/files.js\"></script> "
            ]
          },
          "metadata": {}
        },
        {
          "output_type": "stream",
          "name": "stdout",
          "text": [
            "Saving russia_losses_personnel.csv to russia_losses_personnel.csv\n"
          ]
        },
        {
          "output_type": "execute_result",
          "data": {
            "text/plain": [
              "         date  day  personnel personnel*  POW\n",
              "0  2022-02-25    2       2800      about    0\n",
              "1  2022-02-26    3       4300      about    0\n",
              "2  2022-02-27    4       4500      about    0\n",
              "3  2022-02-28    5       5300      about    0\n",
              "4  2022-03-01    6       5710      about  200"
            ],
            "text/html": [
              "\n",
              "  <div id=\"df-c6a9cd9f-aa66-4836-badd-9ec390e4a158\">\n",
              "    <div class=\"colab-df-container\">\n",
              "      <div>\n",
              "<style scoped>\n",
              "    .dataframe tbody tr th:only-of-type {\n",
              "        vertical-align: middle;\n",
              "    }\n",
              "\n",
              "    .dataframe tbody tr th {\n",
              "        vertical-align: top;\n",
              "    }\n",
              "\n",
              "    .dataframe thead th {\n",
              "        text-align: right;\n",
              "    }\n",
              "</style>\n",
              "<table border=\"1\" class=\"dataframe\">\n",
              "  <thead>\n",
              "    <tr style=\"text-align: right;\">\n",
              "      <th></th>\n",
              "      <th>date</th>\n",
              "      <th>day</th>\n",
              "      <th>personnel</th>\n",
              "      <th>personnel*</th>\n",
              "      <th>POW</th>\n",
              "    </tr>\n",
              "  </thead>\n",
              "  <tbody>\n",
              "    <tr>\n",
              "      <th>0</th>\n",
              "      <td>2022-02-25</td>\n",
              "      <td>2</td>\n",
              "      <td>2800</td>\n",
              "      <td>about</td>\n",
              "      <td>0</td>\n",
              "    </tr>\n",
              "    <tr>\n",
              "      <th>1</th>\n",
              "      <td>2022-02-26</td>\n",
              "      <td>3</td>\n",
              "      <td>4300</td>\n",
              "      <td>about</td>\n",
              "      <td>0</td>\n",
              "    </tr>\n",
              "    <tr>\n",
              "      <th>2</th>\n",
              "      <td>2022-02-27</td>\n",
              "      <td>4</td>\n",
              "      <td>4500</td>\n",
              "      <td>about</td>\n",
              "      <td>0</td>\n",
              "    </tr>\n",
              "    <tr>\n",
              "      <th>3</th>\n",
              "      <td>2022-02-28</td>\n",
              "      <td>5</td>\n",
              "      <td>5300</td>\n",
              "      <td>about</td>\n",
              "      <td>0</td>\n",
              "    </tr>\n",
              "    <tr>\n",
              "      <th>4</th>\n",
              "      <td>2022-03-01</td>\n",
              "      <td>6</td>\n",
              "      <td>5710</td>\n",
              "      <td>about</td>\n",
              "      <td>200</td>\n",
              "    </tr>\n",
              "  </tbody>\n",
              "</table>\n",
              "</div>\n",
              "      <button class=\"colab-df-convert\" onclick=\"convertToInteractive('df-c6a9cd9f-aa66-4836-badd-9ec390e4a158')\"\n",
              "              title=\"Convert this dataframe to an interactive table.\"\n",
              "              style=\"display:none;\">\n",
              "        \n",
              "  <svg xmlns=\"http://www.w3.org/2000/svg\" height=\"24px\"viewBox=\"0 0 24 24\"\n",
              "       width=\"24px\">\n",
              "    <path d=\"M0 0h24v24H0V0z\" fill=\"none\"/>\n",
              "    <path d=\"M18.56 5.44l.94 2.06.94-2.06 2.06-.94-2.06-.94-.94-2.06-.94 2.06-2.06.94zm-11 1L8.5 8.5l.94-2.06 2.06-.94-2.06-.94L8.5 2.5l-.94 2.06-2.06.94zm10 10l.94 2.06.94-2.06 2.06-.94-2.06-.94-.94-2.06-.94 2.06-2.06.94z\"/><path d=\"M17.41 7.96l-1.37-1.37c-.4-.4-.92-.59-1.43-.59-.52 0-1.04.2-1.43.59L10.3 9.45l-7.72 7.72c-.78.78-.78 2.05 0 2.83L4 21.41c.39.39.9.59 1.41.59.51 0 1.02-.2 1.41-.59l7.78-7.78 2.81-2.81c.8-.78.8-2.07 0-2.86zM5.41 20L4 18.59l7.72-7.72 1.47 1.35L5.41 20z\"/>\n",
              "  </svg>\n",
              "      </button>\n",
              "      \n",
              "  <style>\n",
              "    .colab-df-container {\n",
              "      display:flex;\n",
              "      flex-wrap:wrap;\n",
              "      gap: 12px;\n",
              "    }\n",
              "\n",
              "    .colab-df-convert {\n",
              "      background-color: #E8F0FE;\n",
              "      border: none;\n",
              "      border-radius: 50%;\n",
              "      cursor: pointer;\n",
              "      display: none;\n",
              "      fill: #1967D2;\n",
              "      height: 32px;\n",
              "      padding: 0 0 0 0;\n",
              "      width: 32px;\n",
              "    }\n",
              "\n",
              "    .colab-df-convert:hover {\n",
              "      background-color: #E2EBFA;\n",
              "      box-shadow: 0px 1px 2px rgba(60, 64, 67, 0.3), 0px 1px 3px 1px rgba(60, 64, 67, 0.15);\n",
              "      fill: #174EA6;\n",
              "    }\n",
              "\n",
              "    [theme=dark] .colab-df-convert {\n",
              "      background-color: #3B4455;\n",
              "      fill: #D2E3FC;\n",
              "    }\n",
              "\n",
              "    [theme=dark] .colab-df-convert:hover {\n",
              "      background-color: #434B5C;\n",
              "      box-shadow: 0px 1px 3px 1px rgba(0, 0, 0, 0.15);\n",
              "      filter: drop-shadow(0px 1px 2px rgba(0, 0, 0, 0.3));\n",
              "      fill: #FFFFFF;\n",
              "    }\n",
              "  </style>\n",
              "\n",
              "      <script>\n",
              "        const buttonEl =\n",
              "          document.querySelector('#df-c6a9cd9f-aa66-4836-badd-9ec390e4a158 button.colab-df-convert');\n",
              "        buttonEl.style.display =\n",
              "          google.colab.kernel.accessAllowed ? 'block' : 'none';\n",
              "\n",
              "        async function convertToInteractive(key) {\n",
              "          const element = document.querySelector('#df-c6a9cd9f-aa66-4836-badd-9ec390e4a158');\n",
              "          const dataTable =\n",
              "            await google.colab.kernel.invokeFunction('convertToInteractive',\n",
              "                                                     [key], {});\n",
              "          if (!dataTable) return;\n",
              "\n",
              "          const docLinkHtml = 'Like what you see? Visit the ' +\n",
              "            '<a target=\"_blank\" href=https://colab.research.google.com/notebooks/data_table.ipynb>data table notebook</a>'\n",
              "            + ' to learn more about interactive tables.';\n",
              "          element.innerHTML = '';\n",
              "          dataTable['output_type'] = 'display_data';\n",
              "          await google.colab.output.renderOutput(dataTable, element);\n",
              "          const docLink = document.createElement('div');\n",
              "          docLink.innerHTML = docLinkHtml;\n",
              "          element.appendChild(docLink);\n",
              "        }\n",
              "      </script>\n",
              "    </div>\n",
              "  </div>\n",
              "  "
            ]
          },
          "metadata": {},
          "execution_count": 86
        }
      ],
      "source": [
        "from google.colab import files\n",
        "uploaded = files.upload()\n",
        "personnel = pd.read_csv(io.BytesIO(uploaded['russia_losses_personnel.csv']))\n",
        "personnel.head()"
      ]
    },
    {
      "cell_type": "markdown",
      "metadata": {
        "id": "H47hN9SORcVV"
      },
      "source": [
        "### GENERAL INFORMATION "
      ]
    },
    {
      "cell_type": "code",
      "execution_count": null,
      "metadata": {
        "id": "gnZEfIWXRdWZ",
        "colab": {
          "base_uri": "https://localhost:8080/"
        },
        "outputId": "7b0e1dd7-4d6d-4b3a-f577-883e4ae97cd5"
      },
      "outputs": [
        {
          "output_type": "execute_result",
          "data": {
            "text/plain": [
              "(102, 18)"
            ]
          },
          "metadata": {},
          "execution_count": 87
        }
      ],
      "source": [
        "# Shape equipment\n",
        "equipment.shape"
      ]
    },
    {
      "cell_type": "code",
      "execution_count": null,
      "metadata": {
        "id": "CZ-sjIgRRgo-",
        "colab": {
          "base_uri": "https://localhost:8080/"
        },
        "outputId": "bf2b57ef-f288-4a97-8fd9-834e071a2792"
      },
      "outputs": [
        {
          "output_type": "execute_result",
          "data": {
            "text/plain": [
              "(102, 5)"
            ]
          },
          "metadata": {},
          "execution_count": 88
        }
      ],
      "source": [
        "# Shape personnel\n",
        "personnel.shape"
      ]
    },
    {
      "cell_type": "markdown",
      "metadata": {
        "id": "wy4-9zRERkkW"
      },
      "source": [
        "Since both dfs regards the same event, we will merge both informations"
      ]
    },
    {
      "cell_type": "code",
      "execution_count": null,
      "metadata": {
        "id": "4-i0oeVNRqJX"
      },
      "outputs": [],
      "source": [
        "df = equipment.merge(personnel,how='left',left_on=[\"date\",\"day\"],right_on=[\"date\",\"day\"])"
      ]
    },
    {
      "cell_type": "code",
      "execution_count": null,
      "metadata": {
        "id": "7QzPBJXDSd8E",
        "colab": {
          "base_uri": "https://localhost:8080/",
          "height": 696
        },
        "outputId": "6eee6357-cb89-4e9e-d536-14ae2a158b20"
      },
      "outputs": [
        {
          "output_type": "execute_result",
          "data": {
            "text/plain": [
              "           date  day  aircraft  helicopter  tank   APC  field artillery  MRL  \\\n",
              "0    2022-02-25    2        10           7    80   516               49    4   \n",
              "1    2022-02-26    3        27          26   146   706               49    4   \n",
              "2    2022-02-27    4        27          26   150   706               50    4   \n",
              "3    2022-02-28    5        29          29   150   816               74   21   \n",
              "4    2022-03-01    6        29          29   198   846               77   24   \n",
              "..          ...  ...       ...         ...   ...   ...              ...  ...   \n",
              "97   2022-06-02   99       210         175  1363  3354              661  207   \n",
              "98   2022-06-03  100       210         175  1367  3366              675  207   \n",
              "99   2022-06-04  101       210         175  1376  3379              680  207   \n",
              "100  2022-06-05  102       210         175  1381  3392              686  207   \n",
              "101  2022-06-06  103       211         176  1386  3400              690  207   \n",
              "\n",
              "     military auto  fuel tank  ...  naval ship  anti-aircraft warfare  \\\n",
              "0            100.0       60.0  ...           2                      0   \n",
              "1            130.0       60.0  ...           2                      0   \n",
              "2            130.0       60.0  ...           2                      0   \n",
              "3            291.0       60.0  ...           2                      5   \n",
              "4            305.0       60.0  ...           2                      7   \n",
              "..             ...        ...  ...         ...                    ...   \n",
              "97             NaN        NaN  ...          13                     95   \n",
              "98             NaN        NaN  ...          13                     95   \n",
              "99             NaN        NaN  ...          13                     95   \n",
              "100            NaN        NaN  ...          13                     95   \n",
              "101            NaN        NaN  ...          13                     96   \n",
              "\n",
              "     special equipment  mobile SRBM system  vehicles and fuel tanks  \\\n",
              "0                  NaN                 NaN                      NaN   \n",
              "1                  NaN                 NaN                      NaN   \n",
              "2                  NaN                 NaN                      NaN   \n",
              "3                  NaN                 NaN                      NaN   \n",
              "4                  NaN                 NaN                      NaN   \n",
              "..                 ...                 ...                      ...   \n",
              "97                51.0                 NaN                   2325.0   \n",
              "98                51.0                 NaN                   2329.0   \n",
              "99                52.0                 NaN                   2337.0   \n",
              "100               53.0                 NaN                   2360.0   \n",
              "101               53.0                 NaN                   2395.0   \n",
              "\n",
              "     cruise missiles  greatest losses direction personnel  personnel*  POW  \n",
              "0                NaN                        NaN      2800       about    0  \n",
              "1                NaN                        NaN      4300       about    0  \n",
              "2                NaN                        NaN      4500       about    0  \n",
              "3                NaN                        NaN      5300       about    0  \n",
              "4                NaN                        NaN      5710       about  200  \n",
              "..               ...                        ...       ...         ...  ...  \n",
              "97             120.0                    Bakhmut     30850       about  498  \n",
              "98             121.0                    Bakhmut     30950       about  498  \n",
              "99             122.0               Zaporizhzhia     31050       about  498  \n",
              "100            122.0                    Bakhmut     31150       about  498  \n",
              "101            125.0                Slov'yansʹk     31250       about  498  \n",
              "\n",
              "[102 rows x 21 columns]"
            ],
            "text/html": [
              "\n",
              "  <div id=\"df-533c69dd-897a-4ff6-94b3-0fe690e22f8d\">\n",
              "    <div class=\"colab-df-container\">\n",
              "      <div>\n",
              "<style scoped>\n",
              "    .dataframe tbody tr th:only-of-type {\n",
              "        vertical-align: middle;\n",
              "    }\n",
              "\n",
              "    .dataframe tbody tr th {\n",
              "        vertical-align: top;\n",
              "    }\n",
              "\n",
              "    .dataframe thead th {\n",
              "        text-align: right;\n",
              "    }\n",
              "</style>\n",
              "<table border=\"1\" class=\"dataframe\">\n",
              "  <thead>\n",
              "    <tr style=\"text-align: right;\">\n",
              "      <th></th>\n",
              "      <th>date</th>\n",
              "      <th>day</th>\n",
              "      <th>aircraft</th>\n",
              "      <th>helicopter</th>\n",
              "      <th>tank</th>\n",
              "      <th>APC</th>\n",
              "      <th>field artillery</th>\n",
              "      <th>MRL</th>\n",
              "      <th>military auto</th>\n",
              "      <th>fuel tank</th>\n",
              "      <th>...</th>\n",
              "      <th>naval ship</th>\n",
              "      <th>anti-aircraft warfare</th>\n",
              "      <th>special equipment</th>\n",
              "      <th>mobile SRBM system</th>\n",
              "      <th>vehicles and fuel tanks</th>\n",
              "      <th>cruise missiles</th>\n",
              "      <th>greatest losses direction</th>\n",
              "      <th>personnel</th>\n",
              "      <th>personnel*</th>\n",
              "      <th>POW</th>\n",
              "    </tr>\n",
              "  </thead>\n",
              "  <tbody>\n",
              "    <tr>\n",
              "      <th>0</th>\n",
              "      <td>2022-02-25</td>\n",
              "      <td>2</td>\n",
              "      <td>10</td>\n",
              "      <td>7</td>\n",
              "      <td>80</td>\n",
              "      <td>516</td>\n",
              "      <td>49</td>\n",
              "      <td>4</td>\n",
              "      <td>100.0</td>\n",
              "      <td>60.0</td>\n",
              "      <td>...</td>\n",
              "      <td>2</td>\n",
              "      <td>0</td>\n",
              "      <td>NaN</td>\n",
              "      <td>NaN</td>\n",
              "      <td>NaN</td>\n",
              "      <td>NaN</td>\n",
              "      <td>NaN</td>\n",
              "      <td>2800</td>\n",
              "      <td>about</td>\n",
              "      <td>0</td>\n",
              "    </tr>\n",
              "    <tr>\n",
              "      <th>1</th>\n",
              "      <td>2022-02-26</td>\n",
              "      <td>3</td>\n",
              "      <td>27</td>\n",
              "      <td>26</td>\n",
              "      <td>146</td>\n",
              "      <td>706</td>\n",
              "      <td>49</td>\n",
              "      <td>4</td>\n",
              "      <td>130.0</td>\n",
              "      <td>60.0</td>\n",
              "      <td>...</td>\n",
              "      <td>2</td>\n",
              "      <td>0</td>\n",
              "      <td>NaN</td>\n",
              "      <td>NaN</td>\n",
              "      <td>NaN</td>\n",
              "      <td>NaN</td>\n",
              "      <td>NaN</td>\n",
              "      <td>4300</td>\n",
              "      <td>about</td>\n",
              "      <td>0</td>\n",
              "    </tr>\n",
              "    <tr>\n",
              "      <th>2</th>\n",
              "      <td>2022-02-27</td>\n",
              "      <td>4</td>\n",
              "      <td>27</td>\n",
              "      <td>26</td>\n",
              "      <td>150</td>\n",
              "      <td>706</td>\n",
              "      <td>50</td>\n",
              "      <td>4</td>\n",
              "      <td>130.0</td>\n",
              "      <td>60.0</td>\n",
              "      <td>...</td>\n",
              "      <td>2</td>\n",
              "      <td>0</td>\n",
              "      <td>NaN</td>\n",
              "      <td>NaN</td>\n",
              "      <td>NaN</td>\n",
              "      <td>NaN</td>\n",
              "      <td>NaN</td>\n",
              "      <td>4500</td>\n",
              "      <td>about</td>\n",
              "      <td>0</td>\n",
              "    </tr>\n",
              "    <tr>\n",
              "      <th>3</th>\n",
              "      <td>2022-02-28</td>\n",
              "      <td>5</td>\n",
              "      <td>29</td>\n",
              "      <td>29</td>\n",
              "      <td>150</td>\n",
              "      <td>816</td>\n",
              "      <td>74</td>\n",
              "      <td>21</td>\n",
              "      <td>291.0</td>\n",
              "      <td>60.0</td>\n",
              "      <td>...</td>\n",
              "      <td>2</td>\n",
              "      <td>5</td>\n",
              "      <td>NaN</td>\n",
              "      <td>NaN</td>\n",
              "      <td>NaN</td>\n",
              "      <td>NaN</td>\n",
              "      <td>NaN</td>\n",
              "      <td>5300</td>\n",
              "      <td>about</td>\n",
              "      <td>0</td>\n",
              "    </tr>\n",
              "    <tr>\n",
              "      <th>4</th>\n",
              "      <td>2022-03-01</td>\n",
              "      <td>6</td>\n",
              "      <td>29</td>\n",
              "      <td>29</td>\n",
              "      <td>198</td>\n",
              "      <td>846</td>\n",
              "      <td>77</td>\n",
              "      <td>24</td>\n",
              "      <td>305.0</td>\n",
              "      <td>60.0</td>\n",
              "      <td>...</td>\n",
              "      <td>2</td>\n",
              "      <td>7</td>\n",
              "      <td>NaN</td>\n",
              "      <td>NaN</td>\n",
              "      <td>NaN</td>\n",
              "      <td>NaN</td>\n",
              "      <td>NaN</td>\n",
              "      <td>5710</td>\n",
              "      <td>about</td>\n",
              "      <td>200</td>\n",
              "    </tr>\n",
              "    <tr>\n",
              "      <th>...</th>\n",
              "      <td>...</td>\n",
              "      <td>...</td>\n",
              "      <td>...</td>\n",
              "      <td>...</td>\n",
              "      <td>...</td>\n",
              "      <td>...</td>\n",
              "      <td>...</td>\n",
              "      <td>...</td>\n",
              "      <td>...</td>\n",
              "      <td>...</td>\n",
              "      <td>...</td>\n",
              "      <td>...</td>\n",
              "      <td>...</td>\n",
              "      <td>...</td>\n",
              "      <td>...</td>\n",
              "      <td>...</td>\n",
              "      <td>...</td>\n",
              "      <td>...</td>\n",
              "      <td>...</td>\n",
              "      <td>...</td>\n",
              "      <td>...</td>\n",
              "    </tr>\n",
              "    <tr>\n",
              "      <th>97</th>\n",
              "      <td>2022-06-02</td>\n",
              "      <td>99</td>\n",
              "      <td>210</td>\n",
              "      <td>175</td>\n",
              "      <td>1363</td>\n",
              "      <td>3354</td>\n",
              "      <td>661</td>\n",
              "      <td>207</td>\n",
              "      <td>NaN</td>\n",
              "      <td>NaN</td>\n",
              "      <td>...</td>\n",
              "      <td>13</td>\n",
              "      <td>95</td>\n",
              "      <td>51.0</td>\n",
              "      <td>NaN</td>\n",
              "      <td>2325.0</td>\n",
              "      <td>120.0</td>\n",
              "      <td>Bakhmut</td>\n",
              "      <td>30850</td>\n",
              "      <td>about</td>\n",
              "      <td>498</td>\n",
              "    </tr>\n",
              "    <tr>\n",
              "      <th>98</th>\n",
              "      <td>2022-06-03</td>\n",
              "      <td>100</td>\n",
              "      <td>210</td>\n",
              "      <td>175</td>\n",
              "      <td>1367</td>\n",
              "      <td>3366</td>\n",
              "      <td>675</td>\n",
              "      <td>207</td>\n",
              "      <td>NaN</td>\n",
              "      <td>NaN</td>\n",
              "      <td>...</td>\n",
              "      <td>13</td>\n",
              "      <td>95</td>\n",
              "      <td>51.0</td>\n",
              "      <td>NaN</td>\n",
              "      <td>2329.0</td>\n",
              "      <td>121.0</td>\n",
              "      <td>Bakhmut</td>\n",
              "      <td>30950</td>\n",
              "      <td>about</td>\n",
              "      <td>498</td>\n",
              "    </tr>\n",
              "    <tr>\n",
              "      <th>99</th>\n",
              "      <td>2022-06-04</td>\n",
              "      <td>101</td>\n",
              "      <td>210</td>\n",
              "      <td>175</td>\n",
              "      <td>1376</td>\n",
              "      <td>3379</td>\n",
              "      <td>680</td>\n",
              "      <td>207</td>\n",
              "      <td>NaN</td>\n",
              "      <td>NaN</td>\n",
              "      <td>...</td>\n",
              "      <td>13</td>\n",
              "      <td>95</td>\n",
              "      <td>52.0</td>\n",
              "      <td>NaN</td>\n",
              "      <td>2337.0</td>\n",
              "      <td>122.0</td>\n",
              "      <td>Zaporizhzhia</td>\n",
              "      <td>31050</td>\n",
              "      <td>about</td>\n",
              "      <td>498</td>\n",
              "    </tr>\n",
              "    <tr>\n",
              "      <th>100</th>\n",
              "      <td>2022-06-05</td>\n",
              "      <td>102</td>\n",
              "      <td>210</td>\n",
              "      <td>175</td>\n",
              "      <td>1381</td>\n",
              "      <td>3392</td>\n",
              "      <td>686</td>\n",
              "      <td>207</td>\n",
              "      <td>NaN</td>\n",
              "      <td>NaN</td>\n",
              "      <td>...</td>\n",
              "      <td>13</td>\n",
              "      <td>95</td>\n",
              "      <td>53.0</td>\n",
              "      <td>NaN</td>\n",
              "      <td>2360.0</td>\n",
              "      <td>122.0</td>\n",
              "      <td>Bakhmut</td>\n",
              "      <td>31150</td>\n",
              "      <td>about</td>\n",
              "      <td>498</td>\n",
              "    </tr>\n",
              "    <tr>\n",
              "      <th>101</th>\n",
              "      <td>2022-06-06</td>\n",
              "      <td>103</td>\n",
              "      <td>211</td>\n",
              "      <td>176</td>\n",
              "      <td>1386</td>\n",
              "      <td>3400</td>\n",
              "      <td>690</td>\n",
              "      <td>207</td>\n",
              "      <td>NaN</td>\n",
              "      <td>NaN</td>\n",
              "      <td>...</td>\n",
              "      <td>13</td>\n",
              "      <td>96</td>\n",
              "      <td>53.0</td>\n",
              "      <td>NaN</td>\n",
              "      <td>2395.0</td>\n",
              "      <td>125.0</td>\n",
              "      <td>Slov'yansʹk</td>\n",
              "      <td>31250</td>\n",
              "      <td>about</td>\n",
              "      <td>498</td>\n",
              "    </tr>\n",
              "  </tbody>\n",
              "</table>\n",
              "<p>102 rows × 21 columns</p>\n",
              "</div>\n",
              "      <button class=\"colab-df-convert\" onclick=\"convertToInteractive('df-533c69dd-897a-4ff6-94b3-0fe690e22f8d')\"\n",
              "              title=\"Convert this dataframe to an interactive table.\"\n",
              "              style=\"display:none;\">\n",
              "        \n",
              "  <svg xmlns=\"http://www.w3.org/2000/svg\" height=\"24px\"viewBox=\"0 0 24 24\"\n",
              "       width=\"24px\">\n",
              "    <path d=\"M0 0h24v24H0V0z\" fill=\"none\"/>\n",
              "    <path d=\"M18.56 5.44l.94 2.06.94-2.06 2.06-.94-2.06-.94-.94-2.06-.94 2.06-2.06.94zm-11 1L8.5 8.5l.94-2.06 2.06-.94-2.06-.94L8.5 2.5l-.94 2.06-2.06.94zm10 10l.94 2.06.94-2.06 2.06-.94-2.06-.94-.94-2.06-.94 2.06-2.06.94z\"/><path d=\"M17.41 7.96l-1.37-1.37c-.4-.4-.92-.59-1.43-.59-.52 0-1.04.2-1.43.59L10.3 9.45l-7.72 7.72c-.78.78-.78 2.05 0 2.83L4 21.41c.39.39.9.59 1.41.59.51 0 1.02-.2 1.41-.59l7.78-7.78 2.81-2.81c.8-.78.8-2.07 0-2.86zM5.41 20L4 18.59l7.72-7.72 1.47 1.35L5.41 20z\"/>\n",
              "  </svg>\n",
              "      </button>\n",
              "      \n",
              "  <style>\n",
              "    .colab-df-container {\n",
              "      display:flex;\n",
              "      flex-wrap:wrap;\n",
              "      gap: 12px;\n",
              "    }\n",
              "\n",
              "    .colab-df-convert {\n",
              "      background-color: #E8F0FE;\n",
              "      border: none;\n",
              "      border-radius: 50%;\n",
              "      cursor: pointer;\n",
              "      display: none;\n",
              "      fill: #1967D2;\n",
              "      height: 32px;\n",
              "      padding: 0 0 0 0;\n",
              "      width: 32px;\n",
              "    }\n",
              "\n",
              "    .colab-df-convert:hover {\n",
              "      background-color: #E2EBFA;\n",
              "      box-shadow: 0px 1px 2px rgba(60, 64, 67, 0.3), 0px 1px 3px 1px rgba(60, 64, 67, 0.15);\n",
              "      fill: #174EA6;\n",
              "    }\n",
              "\n",
              "    [theme=dark] .colab-df-convert {\n",
              "      background-color: #3B4455;\n",
              "      fill: #D2E3FC;\n",
              "    }\n",
              "\n",
              "    [theme=dark] .colab-df-convert:hover {\n",
              "      background-color: #434B5C;\n",
              "      box-shadow: 0px 1px 3px 1px rgba(0, 0, 0, 0.15);\n",
              "      filter: drop-shadow(0px 1px 2px rgba(0, 0, 0, 0.3));\n",
              "      fill: #FFFFFF;\n",
              "    }\n",
              "  </style>\n",
              "\n",
              "      <script>\n",
              "        const buttonEl =\n",
              "          document.querySelector('#df-533c69dd-897a-4ff6-94b3-0fe690e22f8d button.colab-df-convert');\n",
              "        buttonEl.style.display =\n",
              "          google.colab.kernel.accessAllowed ? 'block' : 'none';\n",
              "\n",
              "        async function convertToInteractive(key) {\n",
              "          const element = document.querySelector('#df-533c69dd-897a-4ff6-94b3-0fe690e22f8d');\n",
              "          const dataTable =\n",
              "            await google.colab.kernel.invokeFunction('convertToInteractive',\n",
              "                                                     [key], {});\n",
              "          if (!dataTable) return;\n",
              "\n",
              "          const docLinkHtml = 'Like what you see? Visit the ' +\n",
              "            '<a target=\"_blank\" href=https://colab.research.google.com/notebooks/data_table.ipynb>data table notebook</a>'\n",
              "            + ' to learn more about interactive tables.';\n",
              "          element.innerHTML = '';\n",
              "          dataTable['output_type'] = 'display_data';\n",
              "          await google.colab.output.renderOutput(dataTable, element);\n",
              "          const docLink = document.createElement('div');\n",
              "          docLink.innerHTML = docLinkHtml;\n",
              "          element.appendChild(docLink);\n",
              "        }\n",
              "      </script>\n",
              "    </div>\n",
              "  </div>\n",
              "  "
            ]
          },
          "metadata": {},
          "execution_count": 90
        }
      ],
      "source": [
        "df"
      ]
    },
    {
      "cell_type": "markdown",
      "metadata": {
        "id": "_sPC8-S1SwFp"
      },
      "source": [
        "###DATA PREP\n",
        "\n",
        "Inspired on: https://www.kaggle.com/code/tomasborges/2022-russian-invasion-of-ukraine-eda-forecast"
      ]
    },
    {
      "cell_type": "code",
      "execution_count": null,
      "metadata": {
        "id": "goGROqSbS2Ur",
        "colab": {
          "base_uri": "https://localhost:8080/",
          "height": 721
        },
        "outputId": "c2bb707f-8716-4d38-8a70-8549947e44c8"
      },
      "outputs": [
        {
          "output_type": "execute_result",
          "data": {
            "text/plain": [
              "                           Total    Percent\n",
              "greatest losses direction     89  87.254902\n",
              "mobile SRBM system            66  64.705882\n",
              "cruise missiles               65  63.725490\n",
              "vehicles and fuel tanks       65  63.725490\n",
              "military auto                 37  36.274510\n",
              "fuel tank                     37  36.274510\n",
              "special equipment             19  18.627451\n",
              "date                           0   0.000000\n",
              "anti-aircraft warfare          0   0.000000\n",
              "personnel*                     0   0.000000\n",
              "personnel                      0   0.000000\n",
              "drone                          0   0.000000\n",
              "naval ship                     0   0.000000\n",
              "day                            0   0.000000\n",
              "MRL                            0   0.000000\n",
              "field artillery                0   0.000000\n",
              "APC                            0   0.000000\n",
              "tank                           0   0.000000\n",
              "helicopter                     0   0.000000\n",
              "aircraft                       0   0.000000"
            ],
            "text/html": [
              "\n",
              "  <div id=\"df-e8cb86d7-0285-4692-85c5-65366eeca320\">\n",
              "    <div class=\"colab-df-container\">\n",
              "      <div>\n",
              "<style scoped>\n",
              "    .dataframe tbody tr th:only-of-type {\n",
              "        vertical-align: middle;\n",
              "    }\n",
              "\n",
              "    .dataframe tbody tr th {\n",
              "        vertical-align: top;\n",
              "    }\n",
              "\n",
              "    .dataframe thead th {\n",
              "        text-align: right;\n",
              "    }\n",
              "</style>\n",
              "<table border=\"1\" class=\"dataframe\">\n",
              "  <thead>\n",
              "    <tr style=\"text-align: right;\">\n",
              "      <th></th>\n",
              "      <th>Total</th>\n",
              "      <th>Percent</th>\n",
              "    </tr>\n",
              "  </thead>\n",
              "  <tbody>\n",
              "    <tr>\n",
              "      <th>greatest losses direction</th>\n",
              "      <td>89</td>\n",
              "      <td>87.254902</td>\n",
              "    </tr>\n",
              "    <tr>\n",
              "      <th>mobile SRBM system</th>\n",
              "      <td>66</td>\n",
              "      <td>64.705882</td>\n",
              "    </tr>\n",
              "    <tr>\n",
              "      <th>cruise missiles</th>\n",
              "      <td>65</td>\n",
              "      <td>63.725490</td>\n",
              "    </tr>\n",
              "    <tr>\n",
              "      <th>vehicles and fuel tanks</th>\n",
              "      <td>65</td>\n",
              "      <td>63.725490</td>\n",
              "    </tr>\n",
              "    <tr>\n",
              "      <th>military auto</th>\n",
              "      <td>37</td>\n",
              "      <td>36.274510</td>\n",
              "    </tr>\n",
              "    <tr>\n",
              "      <th>fuel tank</th>\n",
              "      <td>37</td>\n",
              "      <td>36.274510</td>\n",
              "    </tr>\n",
              "    <tr>\n",
              "      <th>special equipment</th>\n",
              "      <td>19</td>\n",
              "      <td>18.627451</td>\n",
              "    </tr>\n",
              "    <tr>\n",
              "      <th>date</th>\n",
              "      <td>0</td>\n",
              "      <td>0.000000</td>\n",
              "    </tr>\n",
              "    <tr>\n",
              "      <th>anti-aircraft warfare</th>\n",
              "      <td>0</td>\n",
              "      <td>0.000000</td>\n",
              "    </tr>\n",
              "    <tr>\n",
              "      <th>personnel*</th>\n",
              "      <td>0</td>\n",
              "      <td>0.000000</td>\n",
              "    </tr>\n",
              "    <tr>\n",
              "      <th>personnel</th>\n",
              "      <td>0</td>\n",
              "      <td>0.000000</td>\n",
              "    </tr>\n",
              "    <tr>\n",
              "      <th>drone</th>\n",
              "      <td>0</td>\n",
              "      <td>0.000000</td>\n",
              "    </tr>\n",
              "    <tr>\n",
              "      <th>naval ship</th>\n",
              "      <td>0</td>\n",
              "      <td>0.000000</td>\n",
              "    </tr>\n",
              "    <tr>\n",
              "      <th>day</th>\n",
              "      <td>0</td>\n",
              "      <td>0.000000</td>\n",
              "    </tr>\n",
              "    <tr>\n",
              "      <th>MRL</th>\n",
              "      <td>0</td>\n",
              "      <td>0.000000</td>\n",
              "    </tr>\n",
              "    <tr>\n",
              "      <th>field artillery</th>\n",
              "      <td>0</td>\n",
              "      <td>0.000000</td>\n",
              "    </tr>\n",
              "    <tr>\n",
              "      <th>APC</th>\n",
              "      <td>0</td>\n",
              "      <td>0.000000</td>\n",
              "    </tr>\n",
              "    <tr>\n",
              "      <th>tank</th>\n",
              "      <td>0</td>\n",
              "      <td>0.000000</td>\n",
              "    </tr>\n",
              "    <tr>\n",
              "      <th>helicopter</th>\n",
              "      <td>0</td>\n",
              "      <td>0.000000</td>\n",
              "    </tr>\n",
              "    <tr>\n",
              "      <th>aircraft</th>\n",
              "      <td>0</td>\n",
              "      <td>0.000000</td>\n",
              "    </tr>\n",
              "  </tbody>\n",
              "</table>\n",
              "</div>\n",
              "      <button class=\"colab-df-convert\" onclick=\"convertToInteractive('df-e8cb86d7-0285-4692-85c5-65366eeca320')\"\n",
              "              title=\"Convert this dataframe to an interactive table.\"\n",
              "              style=\"display:none;\">\n",
              "        \n",
              "  <svg xmlns=\"http://www.w3.org/2000/svg\" height=\"24px\"viewBox=\"0 0 24 24\"\n",
              "       width=\"24px\">\n",
              "    <path d=\"M0 0h24v24H0V0z\" fill=\"none\"/>\n",
              "    <path d=\"M18.56 5.44l.94 2.06.94-2.06 2.06-.94-2.06-.94-.94-2.06-.94 2.06-2.06.94zm-11 1L8.5 8.5l.94-2.06 2.06-.94-2.06-.94L8.5 2.5l-.94 2.06-2.06.94zm10 10l.94 2.06.94-2.06 2.06-.94-2.06-.94-.94-2.06-.94 2.06-2.06.94z\"/><path d=\"M17.41 7.96l-1.37-1.37c-.4-.4-.92-.59-1.43-.59-.52 0-1.04.2-1.43.59L10.3 9.45l-7.72 7.72c-.78.78-.78 2.05 0 2.83L4 21.41c.39.39.9.59 1.41.59.51 0 1.02-.2 1.41-.59l7.78-7.78 2.81-2.81c.8-.78.8-2.07 0-2.86zM5.41 20L4 18.59l7.72-7.72 1.47 1.35L5.41 20z\"/>\n",
              "  </svg>\n",
              "      </button>\n",
              "      \n",
              "  <style>\n",
              "    .colab-df-container {\n",
              "      display:flex;\n",
              "      flex-wrap:wrap;\n",
              "      gap: 12px;\n",
              "    }\n",
              "\n",
              "    .colab-df-convert {\n",
              "      background-color: #E8F0FE;\n",
              "      border: none;\n",
              "      border-radius: 50%;\n",
              "      cursor: pointer;\n",
              "      display: none;\n",
              "      fill: #1967D2;\n",
              "      height: 32px;\n",
              "      padding: 0 0 0 0;\n",
              "      width: 32px;\n",
              "    }\n",
              "\n",
              "    .colab-df-convert:hover {\n",
              "      background-color: #E2EBFA;\n",
              "      box-shadow: 0px 1px 2px rgba(60, 64, 67, 0.3), 0px 1px 3px 1px rgba(60, 64, 67, 0.15);\n",
              "      fill: #174EA6;\n",
              "    }\n",
              "\n",
              "    [theme=dark] .colab-df-convert {\n",
              "      background-color: #3B4455;\n",
              "      fill: #D2E3FC;\n",
              "    }\n",
              "\n",
              "    [theme=dark] .colab-df-convert:hover {\n",
              "      background-color: #434B5C;\n",
              "      box-shadow: 0px 1px 3px 1px rgba(0, 0, 0, 0.15);\n",
              "      filter: drop-shadow(0px 1px 2px rgba(0, 0, 0, 0.3));\n",
              "      fill: #FFFFFF;\n",
              "    }\n",
              "  </style>\n",
              "\n",
              "      <script>\n",
              "        const buttonEl =\n",
              "          document.querySelector('#df-e8cb86d7-0285-4692-85c5-65366eeca320 button.colab-df-convert');\n",
              "        buttonEl.style.display =\n",
              "          google.colab.kernel.accessAllowed ? 'block' : 'none';\n",
              "\n",
              "        async function convertToInteractive(key) {\n",
              "          const element = document.querySelector('#df-e8cb86d7-0285-4692-85c5-65366eeca320');\n",
              "          const dataTable =\n",
              "            await google.colab.kernel.invokeFunction('convertToInteractive',\n",
              "                                                     [key], {});\n",
              "          if (!dataTable) return;\n",
              "\n",
              "          const docLinkHtml = 'Like what you see? Visit the ' +\n",
              "            '<a target=\"_blank\" href=https://colab.research.google.com/notebooks/data_table.ipynb>data table notebook</a>'\n",
              "            + ' to learn more about interactive tables.';\n",
              "          element.innerHTML = '';\n",
              "          dataTable['output_type'] = 'display_data';\n",
              "          await google.colab.output.renderOutput(dataTable, element);\n",
              "          const docLink = document.createElement('div');\n",
              "          docLink.innerHTML = docLinkHtml;\n",
              "          element.appendChild(docLink);\n",
              "        }\n",
              "      </script>\n",
              "    </div>\n",
              "  </div>\n",
              "  "
            ]
          },
          "metadata": {},
          "execution_count": 91
        }
      ],
      "source": [
        "# Lest first check for missing values in our dataset, visualizing the percentage \n",
        "# of NaN in each variable. \n",
        "\n",
        "total = df.isnull().sum().sort_values(ascending=False)\n",
        "percent = (df.isnull().sum()/df.isnull().count()*100).sort_values(ascending=False)\n",
        "missing_data = pd.concat([total, percent], axis=1, keys=['Total', 'Percent'])\n",
        "missing_data.head(20)"
      ]
    },
    {
      "cell_type": "code",
      "execution_count": null,
      "metadata": {
        "id": "3y-Uawa_S5Py"
      },
      "outputs": [],
      "source": [
        "# Drop variables with over 60% of missing values\n",
        "df.drop(labels= ['personnel*','greatest losses direction','mobile SRBM system','cruise missiles','vehicles and fuel tanks'],axis=1, inplace=True)"
      ]
    },
    {
      "cell_type": "code",
      "execution_count": null,
      "metadata": {
        "id": "0EE_DTDCS9M0"
      },
      "outputs": [],
      "source": [
        "#The equipment data has missing values we need to treat\n",
        "#the personnel data has a column with little to no value: 'personnel*'\n",
        "\n",
        "#changing 'date' type to datetime for our timeseries study\n",
        "df['date'] = pd.to_datetime(df['date'])\n",
        "\n",
        "\n",
        "#fill na (missing values)\n",
        "df.fillna(value=0, inplace=True)"
      ]
    },
    {
      "cell_type": "markdown",
      "metadata": {
        "id": "WUaEHlZKTAY3"
      },
      "source": [
        "### SOME BASIC FEATURE ENGINEERING \n",
        "\n",
        "#### Incremental Personel Loss\n",
        "Since we have personnel losses are cumulative, we are adding a column with daily/incremental personnel losses"
      ]
    },
    {
      "cell_type": "code",
      "execution_count": null,
      "metadata": {
        "id": "Yfjz1dxFTCId"
      },
      "outputs": [],
      "source": [
        "df['incremental_personnel_loss'] = df['personnel'].diff(periods=1)\n",
        "\n",
        "#setting day 1\n",
        "df['incremental_personnel_loss'] = df['incremental_personnel_loss'].replace(df['incremental_personnel_loss'][0],df['personnel'][0])"
      ]
    },
    {
      "cell_type": "markdown",
      "metadata": {
        "id": "r808mcIRTcR3"
      },
      "source": [
        "Week and Month Variables "
      ]
    },
    {
      "cell_type": "code",
      "execution_count": null,
      "metadata": {
        "id": "8wBe_Hc8TadT"
      },
      "outputs": [],
      "source": [
        "df['month'] = df['day']//30\n",
        "df['week'] = df['day']//7"
      ]
    },
    {
      "cell_type": "code",
      "execution_count": null,
      "metadata": {
        "id": "hEIcQAUvTjZG",
        "colab": {
          "base_uri": "https://localhost:8080/"
        },
        "outputId": "855e87e1-4b58-480b-e250-9720917d9ad6"
      },
      "outputs": [
        {
          "output_type": "stream",
          "name": "stdout",
          "text": [
            "[0 1 2 3]\n",
            "[ 0  1  2  3  4  5  6  7  8  9 10 11 12 13 14]\n"
          ]
        }
      ],
      "source": [
        "print(df[\"month\"].unique()) # 4 months\n",
        "print(df[\"week\"].unique()) # 15 weeks"
      ]
    },
    {
      "cell_type": "markdown",
      "metadata": {
        "id": "MnnhL62pTfqD"
      },
      "source": [
        "\\\\\n",
        "\n",
        "### VISUALIZATIONS \n",
        "\\\\\n",
        "\n",
        "Attempt 1: Dashboard \n",
        "\\\\\n",
        "We were not abble to run the code for our dashboard visualization.  In the last code chuck we received an Error Message saying \"syntax error\" in the following line: col1, col2= st.columns(2).  "
      ]
    },
    {
      "cell_type": "code",
      "execution_count": null,
      "metadata": {
        "id": "G2O2XNm200l1"
      },
      "outputs": [],
      "source": [
        "#pip install streamlit"
      ]
    },
    {
      "cell_type": "code",
      "execution_count": null,
      "metadata": {
        "id": "WqzL2_JI0xZh"
      },
      "outputs": [],
      "source": [
        "#import time \n",
        "#import numpy as np  \n",
        "#import pandas as pd  \n",
        "#import plotly.express as px  \n",
        "#import streamlit as st  "
      ]
    },
    {
      "cell_type": "code",
      "execution_count": null,
      "metadata": {
        "id": "KIK1rOSazl2_"
      },
      "outputs": [],
      "source": [
        "#st.set_page_config(\n",
        "#    page_title = 'Russian-Ukranian War Dashboard',\n",
        "#    page_icon = '🇺🇦',\n",
        "#    layout = 'wide'\n",
        "#)"
      ]
    },
    {
      "cell_type": "code",
      "execution_count": null,
      "metadata": {
        "id": "Zq5jmoL61GGF"
      },
      "outputs": [],
      "source": [
        "# dashboard title\n",
        "\n",
        "#st.title(\"Russian-Ukranian War Dashboard - 2022\")"
      ]
    },
    {
      "cell_type": "code",
      "execution_count": null,
      "metadata": {
        "id": "PIM5ZFXZ1Icw"
      },
      "outputs": [],
      "source": [
        "# top-level filters\n",
        "#month_filter = st.selectbox(\"Select the Month\", pd.unique(df[\"month\"]))"
      ]
    },
    {
      "cell_type": "code",
      "execution_count": null,
      "metadata": {
        "id": "VhUbNQcj1x10"
      },
      "outputs": [],
      "source": [
        "# creating a single-element container.\n",
        "#placeholder = st.empty()\n",
        "\n",
        "# dataframe filter (here we would be able to filter/visualize data by month)\n",
        "\n",
        "#df = df[df['month']==month_filter]"
      ]
    },
    {
      "cell_type": "code",
      "execution_count": null,
      "metadata": {
        "id": "rOfvUIhm10mN"
      },
      "outputs": [],
      "source": [
        "# Code for the dashboard itself:  \n",
        "\n",
        "#for month in range(15):\n",
        "#    while True: \n",
        "    \n",
        "#        df['personnel)new'] = df['personnel'] * np.random.choice(range(1,5))\n",
        "#        df['POW_new'] = df['POW'] * np.random.choice(range(1,5))\n",
        "\n",
        "    # creating KPIs \n",
        "#    avg_personnel = np.mean(df['personnel']) \n",
        "\n",
        "#    count_pow = int(df[(df[\"POW\"]=='POW')]['POW'].count() + np.random.choice(range(1,30)))\n",
        "\n",
        "#    count_artillery = int(df[(df[\"field artillery\"]=='field artillery')]['field artillery'].count() + np.random.choice(range(1,30)))\n",
        "  \n",
        "\n",
        "#   with placeholder.container():\n",
        "        # create three columns\n",
        "#        kpi1, kpi2= st.columns(2)\n",
        "\n",
        "        # fill in those three columns with respective metrics or KPIs \n",
        "#        kpi1.metric(label=\"Avarege Personnel\", value=round(avg_personnel), delta= round(avg_personnel) - 10)\n",
        "#        kpi2.metric(label=\"Count of Prisioners of War\", value= int(POW, delta= - 10 + POW)\n",
        "       \n",
        "\n",
        "    # create two columns for charts \n",
        "              \n",
        "#    col1, col2= st.columns(2)\n",
        "#        with col1:\n",
        "#            st.markdown(\"Total Count of Personnel Losses by Week\")\n",
        "#            fig = px.bar(data_frame=df, y = 'personnel', x = 'week')\n",
        "#            st.write(col1)\n",
        "#        with col2:\n",
        "#            st.markdown(\"Total Count of Personnel Losses by Week\")\n",
        "#            fig2 = px.bar(data_frame=df, y = 'military auto', x = 'week')\n",
        "#            st.write(fig_c2)\n",
        "                    \n",
        "#    st.markdown(\"### Detailed Data View\")\n",
        "#    st.dataframe(df)\n",
        "                    \n",
        "#    time.sleep(1)"
      ]
    },
    {
      "cell_type": "markdown",
      "metadata": {
        "id": "FoKdaA4F1Fku"
      },
      "source": [
        "\\\\\n",
        "\n",
        "TO OVERCOME OUR PROBLEM WITH THE DASHBOARD WE WILL RELY ON A BASIC VISUALIZATION ANALYSIS. "
      ]
    },
    {
      "cell_type": "code",
      "execution_count": null,
      "metadata": {
        "id": "lVdCaeaYU5eN"
      },
      "outputs": [],
      "source": [
        "import matplotlib.dates as mdates\n",
        "from scipy.stats import pearsonr"
      ]
    },
    {
      "cell_type": "code",
      "execution_count": null,
      "metadata": {
        "id": "qgkRm4g8Tl0T",
        "colab": {
          "base_uri": "https://localhost:8080/",
          "height": 627
        },
        "outputId": "315abdf0-7d06-42ad-ca4a-a991af0c22f7"
      },
      "outputs": [
        {
          "output_type": "execute_result",
          "data": {
            "text/plain": [
              "Text(0.5, 1.0, 'Cumulative Personnel losses')"
            ]
          },
          "metadata": {},
          "execution_count": 99
        },
        {
          "output_type": "display_data",
          "data": {
            "text/plain": [
              "<Figure size 1440x720 with 2 Axes>"
            ],
            "image/png": "[encoded data removed]"
          },
          "metadata": {}
        }
      ],
      "source": [
        "fig, axes = plt.subplots(1, 2, figsize=(20, 10))\n",
        "\n",
        "axes[0].plot(df['date'], df['incremental_personnel_loss'], \"b.\")\n",
        "axes[1].plot(df['date'], df['personnel'])\n",
        "\n",
        "for ax in axes:\n",
        "    ax.xaxis.set_minor_locator(mdates.DayLocator(bymonthday=[25], interval=1, tz=None))\n",
        "    ax.xaxis.set_major_locator(mdates.MonthLocator())\n",
        "    ax.grid(True)\n",
        "\n",
        "    \n",
        "#adding a trendline to personnel losses\n",
        "z = np.polyfit(mdates.date2num(df['date']), df['incremental_personnel_loss'], 3)\n",
        "p = np.poly1d(z)\n",
        "axes[0].plot(mdates.date2num(df['date']),p(mdates.date2num(df['date'])))\n",
        "\n",
        "axes[0].set_title('Incremental daily Personnel losses', fontsize = 16)\n",
        "axes[1].set_title('Cumulative Personnel losses', fontsize = 16)"
      ]
    },
    {
      "cell_type": "markdown",
      "metadata": {
        "id": "_XO2gisH4Bic"
      },
      "source": [
        "Graphs one and two shwo that there is a signifficant increase in deaths in the first half of the war. After hiting a cummulative loss of 12000, there is a stabilization of fatalities. "
      ]
    },
    {
      "cell_type": "markdown",
      "metadata": {
        "id": "trsY5gTPVIYk"
      },
      "source": [
        "PERSONNEL LOSS BY WEEK"
      ]
    },
    {
      "cell_type": "code",
      "execution_count": null,
      "metadata": {
        "id": "VbxSgf4RVLFF",
        "colab": {
          "base_uri": "https://localhost:8080/",
          "height": 213
        },
        "outputId": "213d92d0-72b7-420f-c572-b0871361dd16"
      },
      "outputs": [
        {
          "output_type": "display_data",
          "data": {
            "text/plain": [
              "<Figure size 720x444.96 with 2 Axes>"
            ],
            "image/png": "[encoded data removed]"
          },
          "metadata": {}
        }
      ],
      "source": [
        "fig,ax1 = plt.subplots(figsize= (10,10*0.618))\n",
        "\n",
        "\n",
        "bp = sns.boxplot(data = df, \n",
        "                     x = \"week\", \n",
        "                     y = \"incremental_personnel_loss\",\n",
        "                     palette=\"crest\",\n",
        "                     ax = ax1)\n",
        "\n",
        "ax2 = ax1.twinx()\n",
        "\n",
        "lp = sns.lineplot(data = df, \n",
        "                     x = \"week\", \n",
        "                     y = \"personnel\",\n",
        "                     linewidth = 3,\n",
        "                     ax=ax2)\n",
        "ax1.set(xlabel='Weeks since the start of the war', ylabel='Daily personnel losses')\n",
        "ax2.set(ylabel='')\n",
        "ax1.set_title(\"Personal Loss by Week\", fontsize = 14);"
      ]
    },
    {
      "cell_type": "markdown",
      "metadata": {
        "id": "at08RJfV5vXQ"
      },
      "source": [
        "As we have argued on the first and second figures, there was a significant ammount of fatalities in the first two weeks of war. More precisely, only on the second week russia lost over 3000 people. "
      ]
    },
    {
      "cell_type": "markdown",
      "metadata": {
        "id": "Ho81yDh7Vlb7"
      },
      "source": [
        "PRISIONERS OF WAR (POW)"
      ]
    },
    {
      "cell_type": "code",
      "execution_count": null,
      "metadata": {
        "id": "tsKbBAsjVnlw",
        "colab": {
          "base_uri": "https://localhost:8080/",
          "height": 227
        },
        "outputId": "ded92984-04f5-4c64-f101-9e4add9af7ba"
      },
      "outputs": [
        {
          "output_type": "display_data",
          "data": {
            "text/plain": [
              "<Figure size 720x444.96 with 1 Axes>"
            ],
            "image/png": "[encoded data removed]"
          },
          "metadata": {}
        }
      ],
      "source": [
        "fig,ax = plt.subplots(figsize= (10,10*0.618))\n",
        "\n",
        "# Change the style of plot\n",
        "plt.style.use('seaborn-darkgrid')\n",
        " \n",
        "# Make the same graph\n",
        "ax.fill_between(df[\"week\"], df[\"POW\"], color=\"skyblue\", alpha=0.3)\n",
        "ax.plot(df[\"week\"], df[\"POW\"], color=\"skyblue\")\n",
        "\n",
        "#getting correlation with personnel losses\n",
        "corr, _ = pearsonr(df[\"POW\"], df['personnel'])\n",
        "Pearsons_correlation = 'Pearsons correlation: %.3f' % corr\n",
        "\n",
        "# Add titles\n",
        "plt.title(f\"The evolution of POWs \", fontsize=12)\n",
        "plt.xlabel(\"Weeks Since the War Start\")\n",
        "plt.ylabel(\"POWs\")\n",
        "\n",
        "# Show the graph\n",
        "plt.show()"
      ]
    },
    {
      "cell_type": "markdown",
      "metadata": {
        "id": "9BQyz2Fq6zJ5"
      },
      "source": [
        "Prisioners of war tendencies also behaves similarly to personnel losses with a Pearsons Correlation of 0.825. As most POWs were captured in the first 4 weeks of the war and most losses happened on the first couple of weeks. "
      ]
    },
    {
      "cell_type": "markdown",
      "metadata": {
        "id": "iXbcz0ZLXZ6B"
      },
      "source": [
        "EQUIPMENT LOSSES "
      ]
    },
    {
      "cell_type": "code",
      "execution_count": null,
      "metadata": {
        "id": "zFaBiSfBXVLB",
        "colab": {
          "base_uri": "https://localhost:8080/",
          "height": 252
        },
        "outputId": "9e01b9b2-f618-4334-9e2b-82565377461b"
      },
      "outputs": [
        {
          "output_type": "display_data",
          "data": {
            "text/plain": [
              "<Figure size 720x576 with 1 Axes>"
            ],
            "image/png": "[encoded data removed]"
          },
          "metadata": {}
        }
      ],
      "source": [
        "ig,ax = plt.subplots(figsize= (10,8))\n",
        "\n",
        "#getting the proper df with columns sorted by the last row, we also drop the columnds that were merged into \"vehicles and fuel tanks\"\n",
        "df_bar = df.loc[:, ~df.columns.isin(['date', 'day', 'week', 'personnel', 'POW', 'incremental_personnel_loss','military auto', 'fuel tank', 'mobile SRBM system'])].sort_values(by=len(df.index)-1, axis=1)\n",
        "\n",
        "#It's important to properly capture the data we want before plotting\n",
        "x = df_bar.columns.values\n",
        "\n",
        "#we want an array and not index, also we removed irrelevant columns\n",
        "y = df_bar.tail(1).squeeze().values\n",
        "\n",
        "#we get the values of the last day to give us the most recent losses\n",
        "\n",
        "#adding a color map\n",
        "my_cmap = plt.get_cmap(\"Dark2\")\n",
        "rescale = lambda y: (y - np.min(y)) / (np.max(y) - np.min(y))\n",
        "\n",
        "#plotting\n",
        "ax.barh(x, y, align = 'center', alpha=0.5, color = my_cmap(rescale(y)))\n",
        "ax.set_title('Total Equipment Losses', fontsize=18)\n",
        "\n",
        "plt.show()"
      ]
    },
    {
      "cell_type": "markdown",
      "metadata": {
        "id": "TbUqpIlv7kEn"
      },
      "source": [
        "If we analyse the equiment losses, Armored Personnel Carrier (APC) is the item which has been more affected. We believe this happens because the total count of APC that belongs to the Russian Army is greater than naval ships or aircrafts, for example. In this sense, a better metric would be to compare the propostional loss, considering the losses relation to the total count of a given equipment.  "
      ]
    },
    {
      "cell_type": "markdown",
      "metadata": {
        "id": "yHE3wOtNZXhG"
      },
      "source": [
        "AIR EQUIPMENT LOSSES "
      ]
    },
    {
      "cell_type": "code",
      "execution_count": null,
      "metadata": {
        "id": "-UpuWbtGZZL1",
        "colab": {
          "base_uri": "https://localhost:8080/",
          "height": 229
        },
        "outputId": "953cbe61-d710-448f-8d41-c0e5d8cf45bc"
      },
      "outputs": [
        {
          "output_type": "display_data",
          "data": {
            "text/plain": [
              "<Figure size 720x444.96 with 1 Axes>"
            ],
            "image/png": "[encoded data removed]"
          },
          "metadata": {}
        }
      ],
      "source": [
        "# Plot multiple lines\n",
        "fig, ax = plt.subplots(figsize= (10,10*0.618))\n",
        "\n",
        "num=0\n",
        "for column in df[['aircraft', 'helicopter', 'drone']]:\n",
        "    num+=1\n",
        "    plt.plot(df['date'], df[column], marker='', linewidth=1, alpha=0.9, label=column)\n",
        "\n",
        "# Add legend\n",
        "plt.legend(loc=2, ncol=2)\n",
        " \n",
        "# Add titles\n",
        "plt.title(\"Air Equipment Losses\", fontsize=20)\n",
        "plt.xlabel(\"Time\")\n",
        "plt.ylabel(\"Losses\")\n",
        "\n",
        "# Show the graph\n",
        "plt.show()"
      ]
    },
    {
      "cell_type": "markdown",
      "metadata": {
        "id": "WQd_vrYq-STq"
      },
      "source": [
        "\n",
        "\n",
        "We believe in two hypothesis about drones being the most lost air equipment: \n",
        "\n",
        "* H_1: we proportionally have more drone than other air equipments. \n",
        "* H_2: Drones are easier targets to hit. \n",
        "\n",
        "Unfortunately, since our data regards only losses, we cannot test any of the hypothesis. "
      ]
    }
  ],
  "metadata": {
    "colab": {
      "collapsed_sections": [],
      "name": "Lista2.ipynb",
      "provenance": []
    },
    "kernelspec": {
      "display_name": "Python 3",
      "name": "python3"
    },
    "language_info": {
      "name": "python"
    }
  },
  "nbformat": 4,
  "nbformat_minor": 0
}